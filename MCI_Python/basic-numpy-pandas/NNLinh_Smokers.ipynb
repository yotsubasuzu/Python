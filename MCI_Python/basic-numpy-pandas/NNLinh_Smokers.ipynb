{
 "cells": [
  {
   "cell_type": "markdown",
   "id": "funded-mayor",
   "metadata": {},
   "source": [
    "Step 1 [30]:​ Read file and display the number of rows\n",
    "in the data.\\\n",
    "Step 2 [30]:​ Find and display the average number of\n",
    "surveys conducted per state.\\\n",
    "Step 3 [30]:​ Among the surveys in the data-set,\n",
    "display the minimum and maximum smoking rate.\\\n",
    "Step 4 [30]:​ Find average smoker rate per state and\n",
    "display the states with minimum and maximum\n",
    "average.\\\n",
    "Step 5 [40]:​ Same as Step 4 but display the top 10\n",
    "states instead of min and max.\\\n",
    "Step 6 [40]: ​Get state and year from user and display\n",
    "the surveys for that state for that year.\\\n",
    "Step 7 [50]:​ Get state from user as input (using\n",
    "input()) and display the average smoker rate year by year.\\\n",
    "By looking at the most recent 2 years, display if the cigarette use is on decline or rise."
   ]
  },
  {
   "cell_type": "code",
   "execution_count": 5,
   "id": "surface-dayton",
   "metadata": {},
   "outputs": [],
   "source": [
    "import numpy as np\n",
    "import pandas as pd"
   ]
  },
  {
   "cell_type": "code",
   "execution_count": 6,
   "id": "accepted-charles",
   "metadata": {},
   "outputs": [
    {
     "data": {
      "text/html": [
       "<div>\n",
       "<style scoped>\n",
       "    .dataframe tbody tr th:only-of-type {\n",
       "        vertical-align: middle;\n",
       "    }\n",
       "\n",
       "    .dataframe tbody tr th {\n",
       "        vertical-align: top;\n",
       "    }\n",
       "\n",
       "    .dataframe thead th {\n",
       "        text-align: right;\n",
       "    }\n",
       "</style>\n",
       "<table border=\"1\" class=\"dataframe\">\n",
       "  <thead>\n",
       "    <tr style=\"text-align: right;\">\n",
       "      <th></th>\n",
       "      <th>Year</th>\n",
       "      <th>State</th>\n",
       "      <th>Value</th>\n",
       "    </tr>\n",
       "  </thead>\n",
       "  <tbody>\n",
       "    <tr>\n",
       "      <th>0</th>\n",
       "      <td>2015</td>\n",
       "      <td>RI</td>\n",
       "      <td>0.2</td>\n",
       "    </tr>\n",
       "    <tr>\n",
       "      <th>1</th>\n",
       "      <td>2015</td>\n",
       "      <td>VT</td>\n",
       "      <td>0.3</td>\n",
       "    </tr>\n",
       "    <tr>\n",
       "      <th>2</th>\n",
       "      <td>2017</td>\n",
       "      <td>VA</td>\n",
       "      <td>0.3</td>\n",
       "    </tr>\n",
       "    <tr>\n",
       "      <th>3</th>\n",
       "      <td>2017</td>\n",
       "      <td>DE</td>\n",
       "      <td>0.4</td>\n",
       "    </tr>\n",
       "    <tr>\n",
       "      <th>4</th>\n",
       "      <td>2015</td>\n",
       "      <td>RI</td>\n",
       "      <td>0.4</td>\n",
       "    </tr>\n",
       "  </tbody>\n",
       "</table>\n",
       "</div>"
      ],
      "text/plain": [
       "   Year State  Value\n",
       "0  2015    RI    0.2\n",
       "1  2015    VT    0.3\n",
       "2  2017    VA    0.3\n",
       "3  2017    DE    0.4\n",
       "4  2015    RI    0.4"
      ]
     },
     "execution_count": 6,
     "metadata": {},
     "output_type": "execute_result"
    }
   ],
   "source": [
    "smk=pd.read_csv('smokers.csv')\n",
    "smk.head()"
   ]
  },
  {
   "cell_type": "code",
   "execution_count": 7,
   "id": "mighty-death",
   "metadata": {},
   "outputs": [
    {
     "data": {
      "text/plain": [
       "3519"
      ]
     },
     "execution_count": 7,
     "metadata": {},
     "output_type": "execute_result"
    }
   ],
   "source": [
    "smk.shape[0]"
   ]
  },
  {
   "cell_type": "code",
   "execution_count": 8,
   "id": "authorized-instrument",
   "metadata": {},
   "outputs": [
    {
     "data": {
      "text/plain": [
       "8.941176470588236"
      ]
     },
     "execution_count": 8,
     "metadata": {},
     "output_type": "execute_result"
    }
   ],
   "source": [
    "smk.groupby('State').Year.nunique().mean()"
   ]
  },
  {
   "cell_type": "code",
   "execution_count": 9,
   "id": "incomplete-observation",
   "metadata": {},
   "outputs": [
    {
     "data": {
      "text/plain": [
       "62.3"
      ]
     },
     "execution_count": 9,
     "metadata": {},
     "output_type": "execute_result"
    }
   ],
   "source": [
    "smk.Value.max()"
   ]
  },
  {
   "cell_type": "code",
   "execution_count": 10,
   "id": "outer-exhibit",
   "metadata": {},
   "outputs": [
    {
     "data": {
      "text/plain": [
       "0.2"
      ]
     },
     "execution_count": 10,
     "metadata": {},
     "output_type": "execute_result"
    }
   ],
   "source": [
    "smk.Value.min()"
   ]
  },
  {
   "cell_type": "code",
   "execution_count": 11,
   "id": "stylish-correspondence",
   "metadata": {},
   "outputs": [
    {
     "data": {
      "text/plain": [
       "State\n",
       "AK    17.380392\n",
       "AL    22.815714\n",
       "AR    23.433871\n",
       "AZ    17.867347\n",
       "CA     5.992857\n",
       "CO    10.883333\n",
       "CT    15.445283\n",
       "DC     6.135897\n",
       "DE    12.853153\n",
       "FL    10.482222\n",
       "GA    12.198684\n",
       "GU    18.717722\n",
       "HI    12.697297\n",
       "IA    19.483333\n",
       "ID    16.100000\n",
       "IL    16.787500\n",
       "IN    18.572222\n",
       "KS    14.481579\n",
       "KY    17.031169\n",
       "LA    19.669697\n",
       "MA    18.138000\n",
       "MD     8.934118\n",
       "ME    13.868992\n",
       "MI    18.565385\n",
       "MO    22.193103\n",
       "MS    20.545455\n",
       "MT    25.753947\n",
       "NC    16.260000\n",
       "ND    16.656250\n",
       "NE    18.168293\n",
       "NH    18.076471\n",
       "NJ    17.467647\n",
       "NM    12.930682\n",
       "NV    15.613684\n",
       "NY    15.556989\n",
       "OH    24.541463\n",
       "OK    20.953448\n",
       "PA    11.385714\n",
       "PR    10.772727\n",
       "RI     9.326364\n",
       "SC    18.084337\n",
       "SD    30.221154\n",
       "TN    17.721311\n",
       "TX    18.114894\n",
       "US    21.502542\n",
       "UT    10.710526\n",
       "VA     6.257407\n",
       "VT    16.875455\n",
       "WI    20.590476\n",
       "WV    20.045882\n",
       "WY    19.770370\n",
       "Name: Value, dtype: float64"
      ]
     },
     "execution_count": 11,
     "metadata": {},
     "output_type": "execute_result"
    }
   ],
   "source": [
    "smk.groupby('State').Value.mean()"
   ]
  },
  {
   "cell_type": "code",
   "execution_count": 12,
   "id": "strange-potter",
   "metadata": {},
   "outputs": [
    {
     "data": {
      "text/plain": [
       "State\n",
       "SD    30.221154\n",
       "Name: Value, dtype: float64"
      ]
     },
     "execution_count": 12,
     "metadata": {},
     "output_type": "execute_result"
    }
   ],
   "source": [
    "smk.groupby('State').Value.mean().nlargest(1)"
   ]
  },
  {
   "cell_type": "code",
   "execution_count": 13,
   "id": "latest-nylon",
   "metadata": {},
   "outputs": [
    {
     "data": {
      "text/plain": [
       "State\n",
       "CA    5.992857\n",
       "Name: Value, dtype: float64"
      ]
     },
     "execution_count": 13,
     "metadata": {},
     "output_type": "execute_result"
    }
   ],
   "source": [
    "smk.groupby('State').Value.mean().nsmallest(1)"
   ]
  },
  {
   "cell_type": "code",
   "execution_count": 14,
   "id": "another-holmes",
   "metadata": {},
   "outputs": [
    {
     "data": {
      "text/plain": [
       "State\n",
       "SD    30.221154\n",
       "MT    25.753947\n",
       "OH    24.541463\n",
       "AR    23.433871\n",
       "AL    22.815714\n",
       "MO    22.193103\n",
       "US    21.502542\n",
       "OK    20.953448\n",
       "WI    20.590476\n",
       "MS    20.545455\n",
       "Name: Value, dtype: float64"
      ]
     },
     "execution_count": 14,
     "metadata": {},
     "output_type": "execute_result"
    }
   ],
   "source": [
    "smk.groupby('State').Value.mean().nlargest(10)"
   ]
  },
  {
   "cell_type": "code",
   "execution_count": 15,
   "id": "certain-netscape",
   "metadata": {},
   "outputs": [
    {
     "data": {
      "text/plain": [
       "State\n",
       "CA     5.992857\n",
       "DC     6.135897\n",
       "VA     6.257407\n",
       "MD     8.934118\n",
       "RI     9.326364\n",
       "FL    10.482222\n",
       "UT    10.710526\n",
       "PR    10.772727\n",
       "CO    10.883333\n",
       "PA    11.385714\n",
       "Name: Value, dtype: float64"
      ]
     },
     "execution_count": 15,
     "metadata": {},
     "output_type": "execute_result"
    }
   ],
   "source": [
    "smk.groupby('State').Value.mean().nsmallest(10)"
   ]
  },
  {
   "cell_type": "code",
   "execution_count": 16,
   "id": "hired-modeling",
   "metadata": {},
   "outputs": [
    {
     "name": "stdin",
     "output_type": "stream",
     "text": [
      "Enter State: AK\n",
      "Enter Year: 1995\n"
     ]
    },
    {
     "data": {
      "text/html": [
       "<div>\n",
       "<style scoped>\n",
       "    .dataframe tbody tr th:only-of-type {\n",
       "        vertical-align: middle;\n",
       "    }\n",
       "\n",
       "    .dataframe tbody tr th {\n",
       "        vertical-align: top;\n",
       "    }\n",
       "\n",
       "    .dataframe thead th {\n",
       "        text-align: right;\n",
       "    }\n",
       "</style>\n",
       "<table border=\"1\" class=\"dataframe\">\n",
       "  <thead>\n",
       "    <tr style=\"text-align: right;\">\n",
       "      <th></th>\n",
       "      <th>Year</th>\n",
       "      <th>State</th>\n",
       "      <th>Value</th>\n",
       "    </tr>\n",
       "  </thead>\n",
       "  <tbody>\n",
       "    <tr>\n",
       "      <th>3248</th>\n",
       "      <td>1995</td>\n",
       "      <td>AK</td>\n",
       "      <td>34.4</td>\n",
       "    </tr>\n",
       "    <tr>\n",
       "      <th>3319</th>\n",
       "      <td>1995</td>\n",
       "      <td>AK</td>\n",
       "      <td>36.4</td>\n",
       "    </tr>\n",
       "    <tr>\n",
       "      <th>3323</th>\n",
       "      <td>1995</td>\n",
       "      <td>AK</td>\n",
       "      <td>36.5</td>\n",
       "    </tr>\n",
       "    <tr>\n",
       "      <th>3327</th>\n",
       "      <td>1995</td>\n",
       "      <td>AK</td>\n",
       "      <td>36.5</td>\n",
       "    </tr>\n",
       "    <tr>\n",
       "      <th>3517</th>\n",
       "      <td>1995</td>\n",
       "      <td>AK</td>\n",
       "      <td>61.9</td>\n",
       "    </tr>\n",
       "  </tbody>\n",
       "</table>\n",
       "</div>"
      ],
      "text/plain": [
       "      Year State  Value\n",
       "3248  1995    AK   34.4\n",
       "3319  1995    AK   36.4\n",
       "3323  1995    AK   36.5\n",
       "3327  1995    AK   36.5\n",
       "3517  1995    AK   61.9"
      ]
     },
     "execution_count": 16,
     "metadata": {},
     "output_type": "execute_result"
    }
   ],
   "source": [
    "state = input('Enter State:')\n",
    "year = int(input('Enter Year:'))\n",
    "smk.query('State==@state & Year == @year')        "
   ]
  },
  {
   "cell_type": "code",
   "execution_count": 19,
   "id": "medical-telling",
   "metadata": {},
   "outputs": [
    {
     "name": "stdin",
     "output_type": "stream",
     "text": [
      "Enter State:  AK\n"
     ]
    },
    {
     "data": {
      "image/png": "[encoded data removed]",
      "text/plain": [
       "<Figure size 720x432 with 1 Axes>"
      ]
     },
     "metadata": {
      "needs_background": "light"
     },
     "output_type": "display_data"
    }
   ],
   "source": [
    "state = input('Enter State: ')\n",
    "smk.query('State == @state').groupby('Year').Value.mean().plot(figsize=(10,6));"
   ]
  },
  {
   "cell_type": "code",
   "execution_count": 26,
   "id": "hydraulic-raleigh",
   "metadata": {},
   "outputs": [
    {
     "data": {
      "text/plain": [
       "State  Year\n",
       "AK     1995    41.140000\n",
       "       2003    22.880000\n",
       "       2007    20.340000\n",
       "       2009    15.685714\n",
       "       2011    15.800000\n",
       "                 ...    \n",
       "WY     2007    14.383333\n",
       "       2009    18.284615\n",
       "       2011    15.133333\n",
       "       2013    12.638462\n",
       "       2015    17.857143\n",
       "Name: Value, Length: 456, dtype: float64"
      ]
     },
     "execution_count": 26,
     "metadata": {},
     "output_type": "execute_result"
    }
   ],
   "source": [
    "smk.groupby(['State','Year']).Value.mean()"
   ]
  }
 ],
 "metadata": {
  "kernelspec": {
   "display_name": "Python 3",
   "language": "python",
   "name": "python3"
  },
  "language_info": {
   "codemirror_mode": {
    "name": "ipython",
    "version": 3
   },
   "file_extension": ".py",
   "mimetype": "text/x-python",
   "name": "python",
   "nbconvert_exporter": "python",
   "pygments_lexer": "ipython3",
   "version": "3.7.10"
  }
 },
 "nbformat": 4,
 "nbformat_minor": 5
}
