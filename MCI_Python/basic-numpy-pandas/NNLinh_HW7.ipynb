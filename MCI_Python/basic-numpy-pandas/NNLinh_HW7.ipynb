{
 "cells": [
  {
   "cell_type": "markdown",
   "id": "stylish-premises",
   "metadata": {},
   "source": [
    "Áp dụng kỹ thuật k-means clustering, thực hành phân tập khách hàng theo tiêu chí RFM (Recency – Frequency – Monetary) \\\n",
    "cho tập dữ liệu ‘sample_data.csv.gz’ (ở Lecture04)\\\n",
    "Vẽ biểu đồ scatterplot thể hiện mối tương quan giữa RFM trên các tập khách hàng được phân nhóm"
   ]
  },
  {
   "cell_type": "code",
   "execution_count": null,
   "id": "signed-barrel",
   "metadata": {},
   "outputs": [],
   "source": []
  }
 ],
 "metadata": {
  "kernelspec": {
   "display_name": "Python 3",
   "language": "python",
   "name": "python3"
  },
  "language_info": {
   "codemirror_mode": {
    "name": "ipython",
    "version": 3
   },
   "file_extension": ".py",
   "mimetype": "text/x-python",
   "name": "python",
   "nbconvert_exporter": "python",
   "pygments_lexer": "ipython3",
   "version": "3.7.10"
  }
 },
 "nbformat": 4,
 "nbformat_minor": 5
}
