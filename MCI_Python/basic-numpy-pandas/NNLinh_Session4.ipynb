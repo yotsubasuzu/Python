{
 "cells": [
  {
   "cell_type": "code",
   "execution_count": 1,
   "id": "broken-overhead",
   "metadata": {},
   "outputs": [],
   "source": [
    "import numpy as np\n",
    "import pandas as pd"
   ]
  },
  {
   "cell_type": "code",
   "execution_count": 2,
   "id": "grateful-jerusalem",
   "metadata": {},
   "outputs": [],
   "source": [
    "dt = pd.read_csv('sample_data.csv')"
   ]
  },
  {
   "cell_type": "code",
   "execution_count": 3,
   "id": "blond-tanzania",
   "metadata": {},
   "outputs": [
    {
     "data": {
      "text/html": [
       "<div>\n",
       "<style scoped>\n",
       "    .dataframe tbody tr th:only-of-type {\n",
       "        vertical-align: middle;\n",
       "    }\n",
       "\n",
       "    .dataframe tbody tr th {\n",
       "        vertical-align: top;\n",
       "    }\n",
       "\n",
       "    .dataframe thead th {\n",
       "        text-align: right;\n",
       "    }\n",
       "</style>\n",
       "<table border=\"1\" class=\"dataframe\">\n",
       "  <thead>\n",
       "    <tr style=\"text-align: right;\">\n",
       "      <th></th>\n",
       "      <th>account_id</th>\n",
       "      <th>ad_id</th>\n",
       "      <th>event_name</th>\n",
       "      <th>timestamp</th>\n",
       "      <th>platform</th>\n",
       "      <th>category_name</th>\n",
       "      <th>region_name</th>\n",
       "      <th>condition_ad_name</th>\n",
       "      <th>price</th>\n",
       "    </tr>\n",
       "  </thead>\n",
       "  <tbody>\n",
       "    <tr>\n",
       "      <th>0</th>\n",
       "      <td>249683985899310273</td>\n",
       "      <td>-159265360436186278</td>\n",
       "      <td>order</td>\n",
       "      <td>2018-05-16 17:33:18.350333</td>\n",
       "      <td>on_behalf</td>\n",
       "      <td>Cars</td>\n",
       "      <td>Đông Bắc Bộ</td>\n",
       "      <td>Mới</td>\n",
       "      <td>267000000.0</td>\n",
       "    </tr>\n",
       "    <tr>\n",
       "      <th>1</th>\n",
       "      <td>2753457128963724056</td>\n",
       "      <td>-6487219347028929285</td>\n",
       "      <td>order</td>\n",
       "      <td>2018-05-04 16:03:08.099983</td>\n",
       "      <td>on_behalf</td>\n",
       "      <td>Cars</td>\n",
       "      <td>Đông Bắc Bộ</td>\n",
       "      <td>Mới</td>\n",
       "      <td>399000000.0</td>\n",
       "    </tr>\n",
       "    <tr>\n",
       "      <th>2</th>\n",
       "      <td>2753457128963724056</td>\n",
       "      <td>-6487219347028929285</td>\n",
       "      <td>order</td>\n",
       "      <td>2018-05-03 15:13:42.447070</td>\n",
       "      <td>on_behalf</td>\n",
       "      <td>Cars</td>\n",
       "      <td>Đông Bắc Bộ</td>\n",
       "      <td>Mới</td>\n",
       "      <td>399000000.0</td>\n",
       "    </tr>\n",
       "    <tr>\n",
       "      <th>3</th>\n",
       "      <td>-4397739266189556976</td>\n",
       "      <td>4054922453976773054</td>\n",
       "      <td>order</td>\n",
       "      <td>2018-05-23 11:15:25.932663</td>\n",
       "      <td>on_behalf</td>\n",
       "      <td>Cars</td>\n",
       "      <td>Hà Nội</td>\n",
       "      <td>Mới</td>\n",
       "      <td>705000000.0</td>\n",
       "    </tr>\n",
       "    <tr>\n",
       "      <th>4</th>\n",
       "      <td>-8143274583979068266</td>\n",
       "      <td>3202538754056800998</td>\n",
       "      <td>order</td>\n",
       "      <td>2018-05-15 17:53:01.634923</td>\n",
       "      <td>on_behalf</td>\n",
       "      <td>Cars</td>\n",
       "      <td>Hà Nội</td>\n",
       "      <td>Mới</td>\n",
       "      <td>696000000.0</td>\n",
       "    </tr>\n",
       "  </tbody>\n",
       "</table>\n",
       "</div>"
      ],
      "text/plain": [
       "            account_id                ad_id event_name  \\\n",
       "0   249683985899310273  -159265360436186278      order   \n",
       "1  2753457128963724056 -6487219347028929285      order   \n",
       "2  2753457128963724056 -6487219347028929285      order   \n",
       "3 -4397739266189556976  4054922453976773054      order   \n",
       "4 -8143274583979068266  3202538754056800998      order   \n",
       "\n",
       "                    timestamp   platform category_name  region_name  \\\n",
       "0  2018-05-16 17:33:18.350333  on_behalf          Cars  Đông Bắc Bộ   \n",
       "1  2018-05-04 16:03:08.099983  on_behalf          Cars  Đông Bắc Bộ   \n",
       "2  2018-05-03 15:13:42.447070  on_behalf          Cars  Đông Bắc Bộ   \n",
       "3  2018-05-23 11:15:25.932663  on_behalf          Cars       Hà Nội   \n",
       "4  2018-05-15 17:53:01.634923  on_behalf          Cars       Hà Nội   \n",
       "\n",
       "  condition_ad_name        price  \n",
       "0               Mới  267000000.0  \n",
       "1               Mới  399000000.0  \n",
       "2               Mới  399000000.0  \n",
       "3               Mới  705000000.0  \n",
       "4               Mới  696000000.0  "
      ]
     },
     "execution_count": 3,
     "metadata": {},
     "output_type": "execute_result"
    }
   ],
   "source": [
    "dt.head()"
   ]
  },
  {
   "cell_type": "code",
   "execution_count": 4,
   "id": "collectible-optimization",
   "metadata": {},
   "outputs": [
    {
     "name": "stdout",
     "output_type": "stream",
     "text": [
      "<class 'pandas.core.frame.DataFrame'>\n",
      "RangeIndex: 5263298 entries, 0 to 5263297\n",
      "Data columns (total 9 columns):\n",
      " #   Column             Dtype  \n",
      "---  ------             -----  \n",
      " 0   account_id         int64  \n",
      " 1   ad_id              int64  \n",
      " 2   event_name         object \n",
      " 3   timestamp          object \n",
      " 4   platform           object \n",
      " 5   category_name      object \n",
      " 6   region_name        object \n",
      " 7   condition_ad_name  object \n",
      " 8   price              float64\n",
      "dtypes: float64(1), int64(2), object(6)\n",
      "memory usage: 361.4+ MB\n"
     ]
    }
   ],
   "source": [
    "dt.info()"
   ]
  },
  {
   "cell_type": "markdown",
   "id": "ordinary-armenia",
   "metadata": {},
   "source": [
    "### 1- How many distinct account_id on each platform?\\\n",
    "### 2- How many distinct ad_id on each platform?"
   ]
  },
  {
   "cell_type": "code",
   "execution_count": 5,
   "id": "brutal-victorian",
   "metadata": {},
   "outputs": [
    {
     "data": {
      "text/plain": [
       "platform\n",
       "android         10789\n",
       "desktop_web     11910\n",
       "ios             10773\n",
       "mobile_web       6154\n",
       "on_behalf          36\n",
       "unknown        108990\n",
       "Name: account_id, dtype: int64"
      ]
     },
     "execution_count": 5,
     "metadata": {},
     "output_type": "execute_result"
    }
   ],
   "source": [
    "dt.groupby('platform').account_id.nunique()"
   ]
  },
  {
   "cell_type": "code",
   "execution_count": 6,
   "id": "present-daisy",
   "metadata": {},
   "outputs": [
    {
     "data": {
      "text/plain": [
       "platform\n",
       "android         130551\n",
       "desktop_web     144673\n",
       "ios             144161\n",
       "mobile_web       40165\n",
       "on_behalf           82\n",
       "unknown        3669226\n",
       "Name: ad_id, dtype: int64"
      ]
     },
     "execution_count": 6,
     "metadata": {},
     "output_type": "execute_result"
    }
   ],
   "source": [
    "dt.groupby('platform').ad_id.nunique()"
   ]
  },
  {
   "cell_type": "markdown",
   "id": "meaning-angel",
   "metadata": {},
   "source": [
    "### 3- For each category_name how many ad is advertised?"
   ]
  },
  {
   "cell_type": "code",
   "execution_count": 7,
   "id": "fixed-librarian",
   "metadata": {},
   "outputs": [
    {
     "data": {
      "text/plain": [
       "category_name\n",
       "Accessories                    121942\n",
       "Aircon                            275\n",
       "Bags                            10470\n",
       "Bed & bedding                     453\n",
       "Bicycles                        23474\n",
       "                                ...  \n",
       "Trucks                          52772\n",
       "Vehicles parts, Accessories     56459\n",
       "Video games                       662\n",
       "Washing machine                   202\n",
       "Watch                           74707\n",
       "Name: ad_id, Length: 64, dtype: int64"
      ]
     },
     "execution_count": 7,
     "metadata": {},
     "output_type": "execute_result"
    }
   ],
   "source": [
    "dt.groupby('category_name').ad_id.count()"
   ]
  },
  {
   "cell_type": "markdown",
   "id": "coral-helen",
   "metadata": {},
   "source": [
    "### 4- Give me top 5 category_name having the highest number of ads?"
   ]
  },
  {
   "cell_type": "code",
   "execution_count": 8,
   "id": "underlying-rainbow",
   "metadata": {},
   "outputs": [
    {
     "data": {
      "text/plain": [
       "category_name\n",
       "PTY-Houses            842357\n",
       "Mobile Phones         781435\n",
       "Motorbikes            528333\n",
       "PTY-Land              415120\n",
       "Computers, Laptops    351123\n",
       "Name: ad_id, dtype: int64"
      ]
     },
     "execution_count": 8,
     "metadata": {},
     "output_type": "execute_result"
    }
   ],
   "source": [
    "dt.groupby('category_name').ad_id.count().sort_values(ascending=False).head(5)"
   ]
  },
  {
   "cell_type": "markdown",
   "id": "federal-virtue",
   "metadata": {},
   "source": [
    "### 5- Give me top 5 category_name having lowest number of ads?"
   ]
  },
  {
   "cell_type": "code",
   "execution_count": 9,
   "id": "substantial-organic",
   "metadata": {},
   "outputs": [
    {
     "data": {
      "text/plain": [
       "category_name\n",
       "Lighting                           9\n",
       "Fan                               12\n",
       "Other pet                         36\n",
       "Ornamental plant & decoration     41\n",
       "Other household items 14110      139\n",
       "Name: ad_id, dtype: int64"
      ]
     },
     "execution_count": 9,
     "metadata": {},
     "output_type": "execute_result"
    }
   ],
   "source": [
    "dt.groupby('category_name').ad_id.count().sort_values().head(5)"
   ]
  },
  {
   "cell_type": "markdown",
   "id": "welcome-outline",
   "metadata": {},
   "source": [
    "### 6- Give me the average price for all distinct ads within each category?"
   ]
  },
  {
   "cell_type": "code",
   "execution_count": 16,
   "id": "actual-ballot",
   "metadata": {},
   "outputs": [
    {
     "data": {
      "text/plain": [
       "category_name\n",
       "Accessories                    8.808542e+06\n",
       "Aircon                         5.913818e+06\n",
       "Bags                           8.026387e+07\n",
       "Bed & bedding                  1.482936e+06\n",
       "Bicycles                       3.262726e+06\n",
       "                                   ...     \n",
       "Trucks                         6.693941e+08\n",
       "Vehicles parts, Accessories    1.141225e+08\n",
       "Video games                    2.210399e+06\n",
       "Washing machine                1.349307e+07\n",
       "Watch                          3.596161e+07\n",
       "Name: price, Length: 64, dtype: float64"
      ]
     },
     "execution_count": 16,
     "metadata": {},
     "output_type": "execute_result"
    }
   ],
   "source": [
    "dt.groupby('category_name').price.mean()"
   ]
  },
  {
   "cell_type": "markdown",
   "id": "lyric-issue",
   "metadata": {},
   "source": [
    "### 7- Give me the average price for all distinct ads within each region_name?"
   ]
  },
  {
   "cell_type": "code",
   "execution_count": 17,
   "id": "covered-stamp",
   "metadata": {},
   "outputs": [
    {
     "data": {
      "text/plain": [
       "region_name\n",
       "Bình Trị Thừa Thiên Huế         4.143188e+08\n",
       "Các tỉnh lân cận Hà Nội         3.186963e+08\n",
       "Cần Thơ - Tây Nam Bộ            4.101916e+08\n",
       "Hà Nội                          6.645161e+08\n",
       "Hải Phòng Nam Định Thái Bình    1.573403e+08\n",
       "Nam Trung Bộ                    9.059112e+08\n",
       "Quảng Nam Đà Nẵng               9.412990e+08\n",
       "Thanh Nghệ Tĩnh                 2.442715e+08\n",
       "Tp Hồ Chí Minh                  1.302872e+09\n",
       "Tây Bắc Bộ                      3.616878e+08\n",
       "Tây Nguyên                      6.075989e+08\n",
       "Đông Bắc Bộ                     2.312546e+08\n",
       "Đông Nam Bộ                     7.097406e+08\n",
       "Name: price, dtype: float64"
      ]
     },
     "execution_count": 17,
     "metadata": {},
     "output_type": "execute_result"
    }
   ],
   "source": [
    "dt.groupby('region_name').price.mean()"
   ]
  },
  {
   "cell_type": "markdown",
   "id": "coastal-chassis",
   "metadata": {},
   "source": [
    "### 8- Give details of condition_ad_name for all ads within each category? For example, for category cars, how may ads is 'Moi', 'Da su dung', and 'NaN'"
   ]
  },
  {
   "cell_type": "code",
   "execution_count": 18,
   "id": "structural-pioneer",
   "metadata": {},
   "outputs": [
    {
     "data": {
      "text/plain": [
       "category_name    condition_ad_name\n",
       "Accessories      Mới                   2412\n",
       "                 Đã sử dụng           23379\n",
       "Aircon           Mới                      6\n",
       "                 Đã sử dụng             269\n",
       "Bags             Mới                   6635\n",
       "                                      ...  \n",
       "Video games      Mới                     85\n",
       "                 Đã sử dụng             330\n",
       "Washing machine  Đã sử dụng             202\n",
       "Watch            Mới                  27039\n",
       "                 Đã sử dụng           47584\n",
       "Name: ad_id, Length: 106, dtype: int64"
      ]
     },
     "execution_count": 18,
     "metadata": {},
     "output_type": "execute_result"
    }
   ],
   "source": [
    "dt.groupby(['category_name','condition_ad_name']).ad_id.count()"
   ]
  },
  {
   "cell_type": "markdown",
   "id": "biblical-james",
   "metadata": {},
   "source": [
    "### 9 - Which month in 2018 we see the highest number of (distinct ads)?"
   ]
  },
  {
   "cell_type": "code",
   "execution_count": 80,
   "id": "substantial-miracle",
   "metadata": {},
   "outputs": [
    {
     "data": {
      "text/html": [
       "<div>\n",
       "<style scoped>\n",
       "    .dataframe tbody tr th:only-of-type {\n",
       "        vertical-align: middle;\n",
       "    }\n",
       "\n",
       "    .dataframe tbody tr th {\n",
       "        vertical-align: top;\n",
       "    }\n",
       "\n",
       "    .dataframe thead th {\n",
       "        text-align: right;\n",
       "    }\n",
       "</style>\n",
       "<table border=\"1\" class=\"dataframe\">\n",
       "  <thead>\n",
       "    <tr style=\"text-align: right;\">\n",
       "      <th></th>\n",
       "      <th>account_id</th>\n",
       "      <th>ad_id</th>\n",
       "      <th>event_name</th>\n",
       "      <th>timestamp</th>\n",
       "      <th>platform</th>\n",
       "      <th>category_name</th>\n",
       "      <th>region_name</th>\n",
       "      <th>condition_ad_name</th>\n",
       "      <th>price</th>\n",
       "    </tr>\n",
       "  </thead>\n",
       "  <tbody>\n",
       "    <tr>\n",
       "      <th>0</th>\n",
       "      <td>249683985899310273</td>\n",
       "      <td>-159265360436186278</td>\n",
       "      <td>order</td>\n",
       "      <td>2018-05-16 17:33:18.350333</td>\n",
       "      <td>on_behalf</td>\n",
       "      <td>Cars</td>\n",
       "      <td>Đông Bắc Bộ</td>\n",
       "      <td>Mới</td>\n",
       "      <td>267000000.0</td>\n",
       "    </tr>\n",
       "    <tr>\n",
       "      <th>1</th>\n",
       "      <td>2753457128963724056</td>\n",
       "      <td>-6487219347028929285</td>\n",
       "      <td>order</td>\n",
       "      <td>2018-05-04 16:03:08.099983</td>\n",
       "      <td>on_behalf</td>\n",
       "      <td>Cars</td>\n",
       "      <td>Đông Bắc Bộ</td>\n",
       "      <td>Mới</td>\n",
       "      <td>399000000.0</td>\n",
       "    </tr>\n",
       "    <tr>\n",
       "      <th>2</th>\n",
       "      <td>2753457128963724056</td>\n",
       "      <td>-6487219347028929285</td>\n",
       "      <td>order</td>\n",
       "      <td>2018-05-03 15:13:42.447070</td>\n",
       "      <td>on_behalf</td>\n",
       "      <td>Cars</td>\n",
       "      <td>Đông Bắc Bộ</td>\n",
       "      <td>Mới</td>\n",
       "      <td>399000000.0</td>\n",
       "    </tr>\n",
       "    <tr>\n",
       "      <th>3</th>\n",
       "      <td>-4397739266189556976</td>\n",
       "      <td>4054922453976773054</td>\n",
       "      <td>order</td>\n",
       "      <td>2018-05-23 11:15:25.932663</td>\n",
       "      <td>on_behalf</td>\n",
       "      <td>Cars</td>\n",
       "      <td>Hà Nội</td>\n",
       "      <td>Mới</td>\n",
       "      <td>705000000.0</td>\n",
       "    </tr>\n",
       "    <tr>\n",
       "      <th>4</th>\n",
       "      <td>-8143274583979068266</td>\n",
       "      <td>3202538754056800998</td>\n",
       "      <td>order</td>\n",
       "      <td>2018-05-15 17:53:01.634923</td>\n",
       "      <td>on_behalf</td>\n",
       "      <td>Cars</td>\n",
       "      <td>Hà Nội</td>\n",
       "      <td>Mới</td>\n",
       "      <td>696000000.0</td>\n",
       "    </tr>\n",
       "  </tbody>\n",
       "</table>\n",
       "</div>"
      ],
      "text/plain": [
       "            account_id                ad_id event_name  \\\n",
       "0   249683985899310273  -159265360436186278      order   \n",
       "1  2753457128963724056 -6487219347028929285      order   \n",
       "2  2753457128963724056 -6487219347028929285      order   \n",
       "3 -4397739266189556976  4054922453976773054      order   \n",
       "4 -8143274583979068266  3202538754056800998      order   \n",
       "\n",
       "                   timestamp   platform category_name  region_name  \\\n",
       "0 2018-05-16 17:33:18.350333  on_behalf          Cars  Đông Bắc Bộ   \n",
       "1 2018-05-04 16:03:08.099983  on_behalf          Cars  Đông Bắc Bộ   \n",
       "2 2018-05-03 15:13:42.447070  on_behalf          Cars  Đông Bắc Bộ   \n",
       "3 2018-05-23 11:15:25.932663  on_behalf          Cars       Hà Nội   \n",
       "4 2018-05-15 17:53:01.634923  on_behalf          Cars       Hà Nội   \n",
       "\n",
       "  condition_ad_name        price  \n",
       "0               Mới  267000000.0  \n",
       "1               Mới  399000000.0  \n",
       "2               Mới  399000000.0  \n",
       "3               Mới  705000000.0  \n",
       "4               Mới  696000000.0  "
      ]
     },
     "execution_count": 80,
     "metadata": {},
     "output_type": "execute_result"
    }
   ],
   "source": [
    "dt['timestamp'] = pd.to_datetime(dt['timestamp'], format='%Y-%m-%d %H:%M:%S.%f')\n",
    "dt.head()"
   ]
  },
  {
   "cell_type": "code",
   "execution_count": 20,
   "id": "phantom-flour",
   "metadata": {},
   "outputs": [],
   "source": [
    "dt['year'] = pd.DatetimeIndex(dt['timestamp']).year\n",
    "dt['month'] = pd.DatetimeIndex(dt['timestamp']).month\n",
    "dt['hour'] = pd.DatetimeIndex(dt['timestamp']).hour"
   ]
  },
  {
   "cell_type": "code",
   "execution_count": 21,
   "id": "champion-table",
   "metadata": {},
   "outputs": [
    {
     "data": {
      "text/html": [
       "<div>\n",
       "<style scoped>\n",
       "    .dataframe tbody tr th:only-of-type {\n",
       "        vertical-align: middle;\n",
       "    }\n",
       "\n",
       "    .dataframe tbody tr th {\n",
       "        vertical-align: top;\n",
       "    }\n",
       "\n",
       "    .dataframe thead th {\n",
       "        text-align: right;\n",
       "    }\n",
       "</style>\n",
       "<table border=\"1\" class=\"dataframe\">\n",
       "  <thead>\n",
       "    <tr style=\"text-align: right;\">\n",
       "      <th></th>\n",
       "      <th>account_id</th>\n",
       "      <th>ad_id</th>\n",
       "      <th>event_name</th>\n",
       "      <th>timestamp</th>\n",
       "      <th>platform</th>\n",
       "      <th>category_name</th>\n",
       "      <th>region_name</th>\n",
       "      <th>condition_ad_name</th>\n",
       "      <th>price</th>\n",
       "      <th>year</th>\n",
       "      <th>month</th>\n",
       "      <th>hour</th>\n",
       "    </tr>\n",
       "  </thead>\n",
       "  <tbody>\n",
       "    <tr>\n",
       "      <th>0</th>\n",
       "      <td>249683985899310273</td>\n",
       "      <td>-159265360436186278</td>\n",
       "      <td>order</td>\n",
       "      <td>2018-05-16 17:33:18.350333</td>\n",
       "      <td>on_behalf</td>\n",
       "      <td>Cars</td>\n",
       "      <td>Đông Bắc Bộ</td>\n",
       "      <td>Mới</td>\n",
       "      <td>267000000.0</td>\n",
       "      <td>2018</td>\n",
       "      <td>5</td>\n",
       "      <td>17</td>\n",
       "    </tr>\n",
       "    <tr>\n",
       "      <th>1</th>\n",
       "      <td>2753457128963724056</td>\n",
       "      <td>-6487219347028929285</td>\n",
       "      <td>order</td>\n",
       "      <td>2018-05-04 16:03:08.099983</td>\n",
       "      <td>on_behalf</td>\n",
       "      <td>Cars</td>\n",
       "      <td>Đông Bắc Bộ</td>\n",
       "      <td>Mới</td>\n",
       "      <td>399000000.0</td>\n",
       "      <td>2018</td>\n",
       "      <td>5</td>\n",
       "      <td>16</td>\n",
       "    </tr>\n",
       "    <tr>\n",
       "      <th>2</th>\n",
       "      <td>2753457128963724056</td>\n",
       "      <td>-6487219347028929285</td>\n",
       "      <td>order</td>\n",
       "      <td>2018-05-03 15:13:42.447070</td>\n",
       "      <td>on_behalf</td>\n",
       "      <td>Cars</td>\n",
       "      <td>Đông Bắc Bộ</td>\n",
       "      <td>Mới</td>\n",
       "      <td>399000000.0</td>\n",
       "      <td>2018</td>\n",
       "      <td>5</td>\n",
       "      <td>15</td>\n",
       "    </tr>\n",
       "    <tr>\n",
       "      <th>3</th>\n",
       "      <td>-4397739266189556976</td>\n",
       "      <td>4054922453976773054</td>\n",
       "      <td>order</td>\n",
       "      <td>2018-05-23 11:15:25.932663</td>\n",
       "      <td>on_behalf</td>\n",
       "      <td>Cars</td>\n",
       "      <td>Hà Nội</td>\n",
       "      <td>Mới</td>\n",
       "      <td>705000000.0</td>\n",
       "      <td>2018</td>\n",
       "      <td>5</td>\n",
       "      <td>11</td>\n",
       "    </tr>\n",
       "    <tr>\n",
       "      <th>4</th>\n",
       "      <td>-8143274583979068266</td>\n",
       "      <td>3202538754056800998</td>\n",
       "      <td>order</td>\n",
       "      <td>2018-05-15 17:53:01.634923</td>\n",
       "      <td>on_behalf</td>\n",
       "      <td>Cars</td>\n",
       "      <td>Hà Nội</td>\n",
       "      <td>Mới</td>\n",
       "      <td>696000000.0</td>\n",
       "      <td>2018</td>\n",
       "      <td>5</td>\n",
       "      <td>17</td>\n",
       "    </tr>\n",
       "  </tbody>\n",
       "</table>\n",
       "</div>"
      ],
      "text/plain": [
       "            account_id                ad_id event_name  \\\n",
       "0   249683985899310273  -159265360436186278      order   \n",
       "1  2753457128963724056 -6487219347028929285      order   \n",
       "2  2753457128963724056 -6487219347028929285      order   \n",
       "3 -4397739266189556976  4054922453976773054      order   \n",
       "4 -8143274583979068266  3202538754056800998      order   \n",
       "\n",
       "                    timestamp   platform category_name  region_name  \\\n",
       "0  2018-05-16 17:33:18.350333  on_behalf          Cars  Đông Bắc Bộ   \n",
       "1  2018-05-04 16:03:08.099983  on_behalf          Cars  Đông Bắc Bộ   \n",
       "2  2018-05-03 15:13:42.447070  on_behalf          Cars  Đông Bắc Bộ   \n",
       "3  2018-05-23 11:15:25.932663  on_behalf          Cars       Hà Nội   \n",
       "4  2018-05-15 17:53:01.634923  on_behalf          Cars       Hà Nội   \n",
       "\n",
       "  condition_ad_name        price  year  month  hour  \n",
       "0               Mới  267000000.0  2018      5    17  \n",
       "1               Mới  399000000.0  2018      5    16  \n",
       "2               Mới  399000000.0  2018      5    15  \n",
       "3               Mới  705000000.0  2018      5    11  \n",
       "4               Mới  696000000.0  2018      5    17  "
      ]
     },
     "execution_count": 21,
     "metadata": {},
     "output_type": "execute_result"
    }
   ],
   "source": [
    "dt.head()"
   ]
  },
  {
   "cell_type": "code",
   "execution_count": 29,
   "id": "south-spouse",
   "metadata": {},
   "outputs": [
    {
     "data": {
      "text/plain": [
       "month\n",
       "1    874485\n",
       "Name: ad_id, dtype: int64"
      ]
     },
     "execution_count": 29,
     "metadata": {},
     "output_type": "execute_result"
    }
   ],
   "source": [
    "dt.query('year==2018').groupby('month').ad_id.count().nlargest(1)"
   ]
  },
  {
   "cell_type": "markdown",
   "id": "extraordinary-machine",
   "metadata": {},
   "source": [
    "### 10- Compare the distinct ads per hour in September, October, and November? Which month and which hour has top ads"
   ]
  },
  {
   "cell_type": "code",
   "execution_count": 56,
   "id": "covered-serum",
   "metadata": {},
   "outputs": [],
   "source": [
    "sept = dt.query('month==9').groupby('hour').ad_id.count().values"
   ]
  },
  {
   "cell_type": "code",
   "execution_count": 57,
   "id": "intimate-ranch",
   "metadata": {},
   "outputs": [],
   "source": [
    "octo = dt.query('month==10').groupby('hour').ad_id.count().values"
   ]
  },
  {
   "cell_type": "code",
   "execution_count": 58,
   "id": "flush-webster",
   "metadata": {},
   "outputs": [],
   "source": [
    "nove = dt.query('month==11').groupby('hour').ad_id.count().values"
   ]
  },
  {
   "cell_type": "code",
   "execution_count": 69,
   "id": "distant-relative",
   "metadata": {},
   "outputs": [
    {
     "data": {
      "text/plain": [
       "{'September': array([ 1453,   641,   378,   278,   324,  1423,  5105, 15948, 34236,\n",
       "        40947, 37568, 30265, 21363, 21565, 25774, 24225, 21324, 17154,\n",
       "        13350, 11341,  9876,  7966,  5815,  3099], dtype=int64),\n",
       " 'October': array([ 1571,   746,   379,   264,   331,  1214,  5602, 16854, 35585,\n",
       "        43892, 40429, 31282, 22300, 22665, 27706, 25678, 22618, 18299,\n",
       "        13499, 12360, 10568,  8438,  5804,  3257], dtype=int64),\n",
       " 'November': array([ 1441,   601,   332,   203,   604,  1160,  4731, 15674, 34282,\n",
       "        40891, 38440, 30038, 21596, 21621, 26222, 24750, 21369, 17230,\n",
       "        12910, 11323,  9931,  7856,  5527,  3137], dtype=int64)}"
      ]
     },
     "execution_count": 69,
     "metadata": {},
     "output_type": "execute_result"
    }
   ],
   "source": [
    "dict1 = {'September': sept,\n",
    "       'October': octo,\n",
    "       'November':nove}\n",
    "dict1"
   ]
  },
  {
   "cell_type": "code",
   "execution_count": 73,
   "id": "technical-strike",
   "metadata": {},
   "outputs": [],
   "source": [
    "indices = [f'{i}h' for i in range(0, 24)]\n",
    "df_1 = pd.DataFrame(dict1,index=indices)"
   ]
  },
  {
   "cell_type": "code",
   "execution_count": 74,
   "id": "physical-volleyball",
   "metadata": {},
   "outputs": [
    {
     "data": {
      "text/html": [
       "<div>\n",
       "<style scoped>\n",
       "    .dataframe tbody tr th:only-of-type {\n",
       "        vertical-align: middle;\n",
       "    }\n",
       "\n",
       "    .dataframe tbody tr th {\n",
       "        vertical-align: top;\n",
       "    }\n",
       "\n",
       "    .dataframe thead th {\n",
       "        text-align: right;\n",
       "    }\n",
       "</style>\n",
       "<table border=\"1\" class=\"dataframe\">\n",
       "  <thead>\n",
       "    <tr style=\"text-align: right;\">\n",
       "      <th></th>\n",
       "      <th>September</th>\n",
       "      <th>October</th>\n",
       "      <th>November</th>\n",
       "    </tr>\n",
       "  </thead>\n",
       "  <tbody>\n",
       "    <tr>\n",
       "      <th>0h</th>\n",
       "      <td>1453</td>\n",
       "      <td>1571</td>\n",
       "      <td>1441</td>\n",
       "    </tr>\n",
       "    <tr>\n",
       "      <th>1h</th>\n",
       "      <td>641</td>\n",
       "      <td>746</td>\n",
       "      <td>601</td>\n",
       "    </tr>\n",
       "    <tr>\n",
       "      <th>2h</th>\n",
       "      <td>378</td>\n",
       "      <td>379</td>\n",
       "      <td>332</td>\n",
       "    </tr>\n",
       "    <tr>\n",
       "      <th>3h</th>\n",
       "      <td>278</td>\n",
       "      <td>264</td>\n",
       "      <td>203</td>\n",
       "    </tr>\n",
       "    <tr>\n",
       "      <th>4h</th>\n",
       "      <td>324</td>\n",
       "      <td>331</td>\n",
       "      <td>604</td>\n",
       "    </tr>\n",
       "    <tr>\n",
       "      <th>5h</th>\n",
       "      <td>1423</td>\n",
       "      <td>1214</td>\n",
       "      <td>1160</td>\n",
       "    </tr>\n",
       "    <tr>\n",
       "      <th>6h</th>\n",
       "      <td>5105</td>\n",
       "      <td>5602</td>\n",
       "      <td>4731</td>\n",
       "    </tr>\n",
       "    <tr>\n",
       "      <th>7h</th>\n",
       "      <td>15948</td>\n",
       "      <td>16854</td>\n",
       "      <td>15674</td>\n",
       "    </tr>\n",
       "    <tr>\n",
       "      <th>8h</th>\n",
       "      <td>34236</td>\n",
       "      <td>35585</td>\n",
       "      <td>34282</td>\n",
       "    </tr>\n",
       "    <tr>\n",
       "      <th>9h</th>\n",
       "      <td>40947</td>\n",
       "      <td>43892</td>\n",
       "      <td>40891</td>\n",
       "    </tr>\n",
       "    <tr>\n",
       "      <th>10h</th>\n",
       "      <td>37568</td>\n",
       "      <td>40429</td>\n",
       "      <td>38440</td>\n",
       "    </tr>\n",
       "    <tr>\n",
       "      <th>11h</th>\n",
       "      <td>30265</td>\n",
       "      <td>31282</td>\n",
       "      <td>30038</td>\n",
       "    </tr>\n",
       "    <tr>\n",
       "      <th>12h</th>\n",
       "      <td>21363</td>\n",
       "      <td>22300</td>\n",
       "      <td>21596</td>\n",
       "    </tr>\n",
       "    <tr>\n",
       "      <th>13h</th>\n",
       "      <td>21565</td>\n",
       "      <td>22665</td>\n",
       "      <td>21621</td>\n",
       "    </tr>\n",
       "    <tr>\n",
       "      <th>14h</th>\n",
       "      <td>25774</td>\n",
       "      <td>27706</td>\n",
       "      <td>26222</td>\n",
       "    </tr>\n",
       "    <tr>\n",
       "      <th>15h</th>\n",
       "      <td>24225</td>\n",
       "      <td>25678</td>\n",
       "      <td>24750</td>\n",
       "    </tr>\n",
       "    <tr>\n",
       "      <th>16h</th>\n",
       "      <td>21324</td>\n",
       "      <td>22618</td>\n",
       "      <td>21369</td>\n",
       "    </tr>\n",
       "    <tr>\n",
       "      <th>17h</th>\n",
       "      <td>17154</td>\n",
       "      <td>18299</td>\n",
       "      <td>17230</td>\n",
       "    </tr>\n",
       "    <tr>\n",
       "      <th>18h</th>\n",
       "      <td>13350</td>\n",
       "      <td>13499</td>\n",
       "      <td>12910</td>\n",
       "    </tr>\n",
       "    <tr>\n",
       "      <th>19h</th>\n",
       "      <td>11341</td>\n",
       "      <td>12360</td>\n",
       "      <td>11323</td>\n",
       "    </tr>\n",
       "    <tr>\n",
       "      <th>20h</th>\n",
       "      <td>9876</td>\n",
       "      <td>10568</td>\n",
       "      <td>9931</td>\n",
       "    </tr>\n",
       "    <tr>\n",
       "      <th>21h</th>\n",
       "      <td>7966</td>\n",
       "      <td>8438</td>\n",
       "      <td>7856</td>\n",
       "    </tr>\n",
       "    <tr>\n",
       "      <th>22h</th>\n",
       "      <td>5815</td>\n",
       "      <td>5804</td>\n",
       "      <td>5527</td>\n",
       "    </tr>\n",
       "    <tr>\n",
       "      <th>23h</th>\n",
       "      <td>3099</td>\n",
       "      <td>3257</td>\n",
       "      <td>3137</td>\n",
       "    </tr>\n",
       "  </tbody>\n",
       "</table>\n",
       "</div>"
      ],
      "text/plain": [
       "     September  October  November\n",
       "0h        1453     1571      1441\n",
       "1h         641      746       601\n",
       "2h         378      379       332\n",
       "3h         278      264       203\n",
       "4h         324      331       604\n",
       "5h        1423     1214      1160\n",
       "6h        5105     5602      4731\n",
       "7h       15948    16854     15674\n",
       "8h       34236    35585     34282\n",
       "9h       40947    43892     40891\n",
       "10h      37568    40429     38440\n",
       "11h      30265    31282     30038\n",
       "12h      21363    22300     21596\n",
       "13h      21565    22665     21621\n",
       "14h      25774    27706     26222\n",
       "15h      24225    25678     24750\n",
       "16h      21324    22618     21369\n",
       "17h      17154    18299     17230\n",
       "18h      13350    13499     12910\n",
       "19h      11341    12360     11323\n",
       "20h       9876    10568      9931\n",
       "21h       7966     8438      7856\n",
       "22h       5815     5804      5527\n",
       "23h       3099     3257      3137"
      ]
     },
     "execution_count": 74,
     "metadata": {},
     "output_type": "execute_result"
    }
   ],
   "source": [
    "df_1"
   ]
  },
  {
   "cell_type": "code",
   "execution_count": 80,
   "id": "sized-operations",
   "metadata": {},
   "outputs": [
    {
     "data": {
      "text/plain": [
       "9h    40947\n",
       "Name: September, dtype: int64"
      ]
     },
     "execution_count": 80,
     "metadata": {},
     "output_type": "execute_result"
    }
   ],
   "source": [
    "df_1.September.nlargest(1)"
   ]
  },
  {
   "cell_type": "code",
   "execution_count": 81,
   "id": "exclusive-criterion",
   "metadata": {},
   "outputs": [
    {
     "data": {
      "text/plain": [
       "9h    43892\n",
       "Name: October, dtype: int64"
      ]
     },
     "execution_count": 81,
     "metadata": {},
     "output_type": "execute_result"
    }
   ],
   "source": [
    "df_1.October.nlargest(1)"
   ]
  },
  {
   "cell_type": "code",
   "execution_count": 82,
   "id": "smoking-soundtrack",
   "metadata": {},
   "outputs": [
    {
     "data": {
      "text/plain": [
       "9h    40891\n",
       "Name: November, dtype: int64"
      ]
     },
     "execution_count": 82,
     "metadata": {},
     "output_type": "execute_result"
    }
   ],
   "source": [
    "df_1.November.nlargest(1)"
   ]
  },
  {
   "cell_type": "code",
   "execution_count": null,
   "id": "chinese-dialogue",
   "metadata": {},
   "outputs": [],
   "source": []
  }
 ],
 "metadata": {
  "kernelspec": {
   "display_name": "Python 3",
   "language": "python",
   "name": "python3"
  },
  "language_info": {
   "codemirror_mode": {
    "name": "ipython",
    "version": 3
   },
   "file_extension": ".py",
   "mimetype": "text/x-python",
   "name": "python",
   "nbconvert_exporter": "python",
   "pygments_lexer": "ipython3",
   "version": "3.7.10"
  }
 },
 "nbformat": 4,
 "nbformat_minor": 5
}
