{
  "nbformat": 4,
  "nbformat_minor": 0,
  "metadata": {
    "kernelspec": {
      "display_name": "Python 3",
      "language": "python",
      "name": "python3"
    },
    "language_info": {
      "codemirror_mode": {
        "name": "ipython",
        "version": 3
      },
      "file_extension": ".py",
      "mimetype": "text/x-python",
      "name": "python",
      "nbconvert_exporter": "python",
      "pygments_lexer": "ipython3",
      "version": "3.7.1"
    },
    "colab": {
      "name": "[EN]Lab 10.6-Loading pre-trained Keras models.ipynb",
      "provenance": []
    }
  },
  "cells": [
    {
      "cell_type": "code",
      "metadata": {
        "id": "FhHJcvK8QV4Y"
      },
      "source": [
        "import tensorflow as tf\n",
        "print(tf.__version__)"
      ],
      "execution_count": null,
      "outputs": []
    },
    {
      "cell_type": "markdown",
      "metadata": {
        "id": "Z8KAKynxQV4e"
      },
      "source": [
        "# Saving and loading models"
      ]
    },
    {
      "cell_type": "markdown",
      "metadata": {
        "id": "08vh_EHeQV4f"
      },
      "source": [
        " ## Coding tutorials\n",
        " #### [1. Saving and loading model weights](#coding_tutorial_1)\n",
        " #### [2. Model saving criteria](#coding_tutorial_2)\n",
        " #### [3. Saving the entire model](#coding_tutorial_3)\n",
        " #### [4. Loading pre-trained Keras models](#coding_tutorial_4)\n",
        " #### [5. Tensorflow Hub modules](#coding_tutorial_5)"
      ]
    },
    {
      "cell_type": "markdown",
      "metadata": {
        "id": "psJljMPDQV4g"
      },
      "source": [
        "***\n",
        "<a id=\"coding_tutorial_1\"></a>\n",
        "## Saving and loading model weights"
      ]
    },
    {
      "cell_type": "markdown",
      "metadata": {
        "id": "I1vw5dC7QV4h"
      },
      "source": [
        "#### Load and inspect CIFAR-10 dataset"
      ]
    },
    {
      "cell_type": "markdown",
      "metadata": {
        "id": "WmRAfrLnQV4h"
      },
      "source": [
        "The CIFAR-10 dataset consists of, in total, 60000 color images, each with one of 10 labels: airplane, automobile, bird, cat, deer, dog, frog, horse, ship, truck. For an introduction and a download, see [this link](https://www.cs.toronto.edu/~kriz/cifar.html)."
      ]
    },
    {
      "cell_type": "code",
      "metadata": {
        "id": "tYaEDcT3QV4j"
      },
      "source": [
        "# Import the CIFAR-10 dataset and rescale the pixel values\n",
        "\n",
        "(x_train, y_train), (x_test, y_test) = tf.keras.datasets.cifar10.load_data()\n",
        "x_train = x_train / 255.0\n",
        "x_test = x_test / 255.0\n",
        "\n",
        "# Use smaller subset -- speeds things up\n",
        "x_train = x_train[:10000]\n",
        "y_train = y_train[:10000]\n",
        "x_test = x_test[:1000]\n",
        "y_test = y_test[:1000]"
      ],
      "execution_count": null,
      "outputs": []
    },
    {
      "cell_type": "code",
      "metadata": {
        "id": "2NFSQBPtQV4n"
      },
      "source": [
        "# Plot the first 10 CIFAR-10 images\n",
        "\n",
        "import matplotlib.pyplot as plt\n",
        "\n",
        "fig, ax = plt.subplots(1, 10, figsize=(10, 1))\n",
        "for i in range(10):\n",
        "    ax[i].set_axis_off()\n",
        "    ax[i].imshow(x_train[i])"
      ],
      "execution_count": null,
      "outputs": []
    },
    {
      "cell_type": "markdown",
      "metadata": {
        "id": "8yXDKUOLQV4r"
      },
      "source": [
        "#### Introduce two useful functions"
      ]
    },
    {
      "cell_type": "code",
      "metadata": {
        "id": "6vP4aH9fQV4s"
      },
      "source": [
        "# Introduce function to test model accuracy\n",
        "\n",
        "def get_test_accuracy(model, x_test, y_test):\n",
        "    test_loss, test_acc = model.evaluate(x=x_test, y=y_test, verbose=0)\n",
        "    print('accuracy: {acc:0.3f}'.format(acc=test_acc))"
      ],
      "execution_count": null,
      "outputs": []
    },
    {
      "cell_type": "code",
      "metadata": {
        "id": "ecZD5RluQV4w"
      },
      "source": [
        "# Introduce function that creates a new instance of a simple CNN\n",
        "\n",
        "from tensorflow.keras.models import Sequential\n",
        "from tensorflow.keras.layers import Dense, Flatten, Conv2D, MaxPooling2D\n",
        "\n",
        "def get_new_model():\n",
        "    model = Sequential([\n",
        "        Conv2D(filters=16, input_shape=(32, 32, 3), kernel_size=(3, 3), \n",
        "               activation='relu', name='conv_1'),\n",
        "        Conv2D(filters=8, kernel_size=(3, 3), activation='relu', name='conv_2'),\n",
        "        MaxPooling2D(pool_size=(4, 4), name='pool_1'),\n",
        "        Flatten(name='flatten'),\n",
        "        Dense(units=32, activation='relu', name='dense_1'),\n",
        "        Dense(units=10, activation='softmax', name='dense_2')\n",
        "    ])\n",
        "    model.compile(optimizer='adam',\n",
        "                  loss='sparse_categorical_crossentropy',\n",
        "                  metrics=['accuracy'])\n",
        "    return model"
      ],
      "execution_count": null,
      "outputs": []
    },
    {
      "cell_type": "markdown",
      "metadata": {
        "id": "_4L6ZINMQV40"
      },
      "source": [
        "#### Create simple convolutional neural network classifier"
      ]
    },
    {
      "cell_type": "code",
      "metadata": {
        "id": "gy8aByLEQV41"
      },
      "source": [
        "# Create an instance of the model and show model summary\n",
        "\n"
      ],
      "execution_count": null,
      "outputs": []
    },
    {
      "cell_type": "code",
      "metadata": {
        "id": "D0cUFG--QV44"
      },
      "source": [
        "# Test accuracy of the untrained model, around 10% (random)\n",
        "\n"
      ],
      "execution_count": null,
      "outputs": []
    },
    {
      "cell_type": "markdown",
      "metadata": {
        "id": "BKs65rmrQV47"
      },
      "source": [
        "#### Train model with checkpoints"
      ]
    },
    {
      "cell_type": "code",
      "metadata": {
        "id": "80y5otJhQV48"
      },
      "source": [
        "from tensorflow.keras.callbacks import ModelCheckpoint"
      ],
      "execution_count": null,
      "outputs": []
    },
    {
      "cell_type": "code",
      "metadata": {
        "id": "7jHrMg2gQV4_"
      },
      "source": [
        "# Create Tensorflow checkpoint object\n",
        "\n"
      ],
      "execution_count": null,
      "outputs": []
    },
    {
      "cell_type": "code",
      "metadata": {
        "id": "whLx85o8QV5C"
      },
      "source": [
        "# Fit model, with simple checkpoint which saves (and overwrites) model weights every epoch\n",
        "\n"
      ],
      "execution_count": null,
      "outputs": []
    },
    {
      "cell_type": "code",
      "metadata": {
        "id": "D209jNsjQV5E"
      },
      "source": [
        "# Have a look at what the checkpoint creates\n",
        "\n"
      ],
      "execution_count": null,
      "outputs": []
    },
    {
      "cell_type": "code",
      "metadata": {
        "id": "h-pNaG0SQV5H"
      },
      "source": [
        "# Evaluate the performance of the trained model\n",
        "\n"
      ],
      "execution_count": null,
      "outputs": []
    },
    {
      "cell_type": "markdown",
      "metadata": {
        "id": "WUfpiZPbQV5J"
      },
      "source": [
        "#### Create new model, load weights"
      ]
    },
    {
      "cell_type": "code",
      "metadata": {
        "id": "lTea2mN3QV5L"
      },
      "source": [
        "# Create a new instance of the (initialised) model, accuracy around 10% again\n",
        "\n"
      ],
      "execution_count": null,
      "outputs": []
    },
    {
      "cell_type": "code",
      "metadata": {
        "id": "jek222rgQV5O"
      },
      "source": [
        "# Load weights -- accuracy is the same as the trained model\n",
        "\n"
      ],
      "execution_count": null,
      "outputs": []
    },
    {
      "cell_type": "markdown",
      "metadata": {
        "id": "z1IlV3jlQV5R"
      },
      "source": [
        "#### Clear directory"
      ]
    },
    {
      "cell_type": "code",
      "metadata": {
        "id": "x8rPJLyHQV5R"
      },
      "source": [
        "! rm -r model_checkpoints"
      ],
      "execution_count": null,
      "outputs": []
    },
    {
      "cell_type": "markdown",
      "metadata": {
        "id": "hAytIX3jQV5U"
      },
      "source": [
        "***\n",
        "<a id=\"coding_tutorial_2\"></a>\n",
        "## Model saving criteria"
      ]
    },
    {
      "cell_type": "markdown",
      "metadata": {
        "id": "nybq0atkQV5U"
      },
      "source": [
        "#### Create more customised checkpoint"
      ]
    },
    {
      "cell_type": "code",
      "metadata": {
        "id": "C_cRCxneQV5V"
      },
      "source": [
        "from tensorflow.keras.callbacks import ModelCheckpoint"
      ],
      "execution_count": null,
      "outputs": []
    },
    {
      "cell_type": "code",
      "metadata": {
        "id": "241WckCvQV5X"
      },
      "source": [
        "# Create Tensorflow checkpoint object with epoch and batch details\n",
        "\n"
      ],
      "execution_count": null,
      "outputs": []
    },
    {
      "cell_type": "code",
      "metadata": {
        "id": "ZKzsgIMjQV5b"
      },
      "source": [
        "# Create and fit model with checkpoint\n",
        "\n"
      ],
      "execution_count": null,
      "outputs": []
    },
    {
      "cell_type": "code",
      "metadata": {
        "id": "wc7zjxp2QV5d"
      },
      "source": [
        "# Have a look at what the checkpoint creates\n",
        "\n"
      ],
      "execution_count": null,
      "outputs": []
    },
    {
      "cell_type": "markdown",
      "metadata": {
        "id": "_pme6veJQV5f"
      },
      "source": [
        "#### Work with model saving criteria"
      ]
    },
    {
      "cell_type": "code",
      "metadata": {
        "id": "CjMa5HOOQV5g"
      },
      "source": [
        "# Use tiny training and test set -- will overfit!\n",
        "\n",
        "x_train = x_train[:100]\n",
        "y_train = y_train[:100]\n",
        "x_test = x_test[:100]\n",
        "y_test = y_test[:100]"
      ],
      "execution_count": null,
      "outputs": []
    },
    {
      "cell_type": "code",
      "metadata": {
        "id": "sxawGcUDQV5i"
      },
      "source": [
        "# Create a new instance of untrained model\n",
        "\n"
      ],
      "execution_count": null,
      "outputs": []
    },
    {
      "cell_type": "code",
      "metadata": {
        "id": "OpnNVn2sQV5l"
      },
      "source": [
        "# Create Tensorflow checkpoint object which monitors the validation accuracy\n",
        "\n"
      ],
      "execution_count": null,
      "outputs": []
    },
    {
      "cell_type": "code",
      "metadata": {
        "id": "Zu0lO1m_QV5o"
      },
      "source": [
        "# Fit the model and save only the weights with the highest validation accuracy\n",
        "\n"
      ],
      "execution_count": null,
      "outputs": []
    },
    {
      "cell_type": "code",
      "metadata": {
        "id": "85DHia85QV5r"
      },
      "source": [
        "# Plot training and testing curves\n",
        "\n",
        "import pandas as pd\n",
        "\n",
        "df = pd.DataFrame(history.history)\n",
        "df.plot(y=['accuracy', 'val_accuracy'])"
      ],
      "execution_count": null,
      "outputs": []
    },
    {
      "cell_type": "code",
      "metadata": {
        "id": "MKsAfSmfQV5v"
      },
      "source": [
        "# Inspect the checkpoint directory\n",
        "\n"
      ],
      "execution_count": null,
      "outputs": []
    },
    {
      "cell_type": "code",
      "metadata": {
        "id": "Xrx5i7bcQV5y"
      },
      "source": [
        "# Create a new model with the saved weights\n",
        "\n"
      ],
      "execution_count": null,
      "outputs": []
    },
    {
      "cell_type": "markdown",
      "metadata": {
        "id": "bNF93Fu_QV52"
      },
      "source": [
        "#### Clear directory"
      ]
    },
    {
      "cell_type": "code",
      "metadata": {
        "id": "SerdaweWQV53"
      },
      "source": [
        "! rm -r model_checkpoints_5000 model_checkpoints_best"
      ],
      "execution_count": null,
      "outputs": []
    },
    {
      "cell_type": "markdown",
      "metadata": {
        "id": "p2dNGwLzQV55"
      },
      "source": [
        "***\n",
        "<a id=\"coding_tutorial_3\"></a>\n",
        "## Saving the entire model"
      ]
    },
    {
      "cell_type": "markdown",
      "metadata": {
        "id": "e0pP6oW1QV57"
      },
      "source": [
        "#### Create checkpoint that saves whole model, not just weights"
      ]
    },
    {
      "cell_type": "code",
      "metadata": {
        "id": "S3ROR9KfQV58"
      },
      "source": [
        "from tensorflow.keras.callbacks import ModelCheckpoint"
      ],
      "execution_count": null,
      "outputs": []
    },
    {
      "cell_type": "code",
      "metadata": {
        "id": "VvacO7lDQV5-"
      },
      "source": [
        "# Create Tensorflow checkpoint object\n",
        "\n"
      ],
      "execution_count": null,
      "outputs": []
    },
    {
      "cell_type": "code",
      "metadata": {
        "id": "RhmnWVElQV6A"
      },
      "source": [
        "# Create and fit model with checkpoint\n",
        "\n"
      ],
      "execution_count": null,
      "outputs": []
    },
    {
      "cell_type": "markdown",
      "metadata": {
        "id": "-CGRXB0rQV6C"
      },
      "source": [
        "#### Inspect what the checkpoint has created"
      ]
    },
    {
      "cell_type": "code",
      "metadata": {
        "id": "Wtl3cHhLQV6D"
      },
      "source": [
        "# Have a look at what the checkpoint creates\n",
        "\n"
      ],
      "execution_count": null,
      "outputs": []
    },
    {
      "cell_type": "code",
      "metadata": {
        "id": "7okHv-mqQV6F"
      },
      "source": [
        "# Enter variables directory\n",
        "\n"
      ],
      "execution_count": null,
      "outputs": []
    },
    {
      "cell_type": "code",
      "metadata": {
        "id": "53_Xuy0pQV6J"
      },
      "source": [
        "# Get the model's test accuracy\n",
        "\n"
      ],
      "execution_count": null,
      "outputs": []
    },
    {
      "cell_type": "markdown",
      "metadata": {
        "id": "4lc0c5GhQV6R"
      },
      "source": [
        "#### Create new model from scratch"
      ]
    },
    {
      "cell_type": "code",
      "metadata": {
        "id": "NsakDucMQV6S"
      },
      "source": [
        "# Delete model\n",
        "\n"
      ],
      "execution_count": null,
      "outputs": []
    },
    {
      "cell_type": "code",
      "metadata": {
        "id": "YvAxxOnHQV6U"
      },
      "source": [
        "from tensorflow.keras.models import load_model"
      ],
      "execution_count": null,
      "outputs": []
    },
    {
      "cell_type": "code",
      "metadata": {
        "id": "LXDBpAg3QV6X"
      },
      "source": [
        "# Reload model from scratch\n",
        "\n"
      ],
      "execution_count": null,
      "outputs": []
    },
    {
      "cell_type": "markdown",
      "metadata": {
        "id": "T0-NSEAlQV6c"
      },
      "source": [
        "#### Use the .h5 format to save model"
      ]
    },
    {
      "cell_type": "code",
      "metadata": {
        "id": "nOKto4IkQV6c"
      },
      "source": [
        "# Save the model in .h5 format\n",
        "\n"
      ],
      "execution_count": null,
      "outputs": []
    },
    {
      "cell_type": "code",
      "metadata": {
        "id": "7C0vfEnWQV6e"
      },
      "source": [
        "# Inspect .h5 file\n",
        "\n"
      ],
      "execution_count": null,
      "outputs": []
    },
    {
      "cell_type": "code",
      "metadata": {
        "id": "G2uU17ozQV6g"
      },
      "source": [
        "# Delete model\n",
        "\n"
      ],
      "execution_count": null,
      "outputs": []
    },
    {
      "cell_type": "code",
      "metadata": {
        "id": "B9dtUhsjQV6i"
      },
      "source": [
        "# Reload model from scratch\n",
        "\n"
      ],
      "execution_count": null,
      "outputs": []
    },
    {
      "cell_type": "markdown",
      "metadata": {
        "id": "-ca32hu5QV6l"
      },
      "source": [
        "#### Clear directory"
      ]
    },
    {
      "cell_type": "code",
      "metadata": {
        "id": "ftRw7KksQV6m"
      },
      "source": [
        "! rm -r model_checkpoints\n",
        "! rm my_model.h5"
      ],
      "execution_count": null,
      "outputs": []
    },
    {
      "cell_type": "markdown",
      "metadata": {
        "id": "CIrP42vlQV6p"
      },
      "source": [
        "***\n",
        "<a id=\"coding_tutorial_4\"></a>\n",
        "## Loading pre-trained Keras models"
      ]
    },
    {
      "cell_type": "markdown",
      "metadata": {
        "id": "dJIEw9d_QV6q"
      },
      "source": [
        "#### Import and build Keras ResNet50 model\n",
        "\n",
        "Today we'll be using the ResNet50 model designed by a team at Microsoft Research, available through Keras applications. Please see the description on the [Keras applications page](https://keras.io/applications/#resnet) for details. If you continue using it, please cite it properly! The paper it comes from is:\n",
        "\n",
        "Kaiming He, Xiangyu Zhang, Shaoqing Ren, Jian Sun. \"Deep Residual Learning for Image Recognition\", 2015.\n",
        "\n",
        "In the coding tutorial on Coursera, this model is loaded directly from disk. On Colab, you will load the model using the Keras API."
      ]
    },
    {
      "cell_type": "code",
      "metadata": {
        "id": "i9GUZVHiQV6q"
      },
      "source": [
        "from tensorflow.keras.applications import ResNet50\n",
        "model = ResNet50(weights='imagenet')"
      ],
      "execution_count": null,
      "outputs": []
    },
    {
      "cell_type": "markdown",
      "metadata": {
        "id": "kRej5bQdQV6v"
      },
      "source": [
        "#### Import and preprocess 3 sample images"
      ]
    },
    {
      "cell_type": "code",
      "metadata": {
        "id": "N7_mAS06ROOG"
      },
      "source": [
        "# Retrieve the image files\n",
        "\n",
        "!wget -q -O lemon.jpg --no-check-certificate \"https://docs.google.com/uc?export=download&id=1JSgQ9qgi9nO9t2aGEk-zA6lzYNUT9vZJ\"\n",
        "!wget -q -O viaduct.jpg --no-check-certificate \"https://docs.google.com/uc?export=download&id=1sQzMKmyCR5Tur19lP3n1IIlEMG_o6Mct\"\n",
        "!wget -q -O water_tower.jpg --no-check-certificate \"https://docs.google.com/uc?export=download&id=1cPAQD1O6mAiMbg0fmG5HIk8OuO_BSC6J\""
      ],
      "execution_count": null,
      "outputs": []
    },
    {
      "cell_type": "code",
      "metadata": {
        "id": "bZ8MTLLqQV6w"
      },
      "source": [
        "# Import 3 sample ImageNet images\n",
        "\n",
        "from tensorflow.keras.preprocessing.image import load_img\n",
        "\n",
        "lemon_img = load_img('lemon.jpg', target_size=(224, 224))\n",
        "viaduct_img = load_img('viaduct.jpg', target_size=(224, 224))\n",
        "water_tower_img = load_img('water_tower.jpg', target_size=(224, 224))"
      ],
      "execution_count": null,
      "outputs": []
    },
    {
      "cell_type": "markdown",
      "metadata": {
        "id": "_aK33Lj-QV6y"
      },
      "source": [
        "#### Use ResNet50 model to classify images"
      ]
    },
    {
      "cell_type": "code",
      "metadata": {
        "id": "XQXTBltYQV6z"
      },
      "source": [
        "# Useful function: presents top 5 predictions and probabilities\n",
        "\n",
        "from tensorflow.keras.preprocessing.image import img_to_array\n",
        "from tensorflow.keras.applications.resnet50 import preprocess_input, decode_predictions\n",
        "import numpy as np\n",
        "import pandas as pd\n",
        "\n",
        "def get_top_5_predictions(img):\n",
        "    x = img_to_array(img)[np.newaxis, ...]\n",
        "    x = preprocess_input(x)\n",
        "    preds = decode_predictions(model.predict(x), top=5)\n",
        "    top_preds = pd.DataFrame(columns=['prediction', 'probability'],\n",
        "                             index=np.arange(5)+1)\n",
        "    for i in range(5):\n",
        "        top_preds.loc[i+1, 'prediction'] = preds[0][i][1]\n",
        "        top_preds.loc[i+1, 'probability'] = preds[0][i][2] \n",
        "    return top_preds"
      ],
      "execution_count": null,
      "outputs": []
    },
    {
      "cell_type": "markdown",
      "metadata": {
        "id": "_fAaFrecQV64"
      },
      "source": [
        "##### Image 1: lemon"
      ]
    },
    {
      "cell_type": "code",
      "metadata": {
        "id": "e3mc6ukbQV64"
      },
      "source": [
        "# Display image\n",
        "\n"
      ],
      "execution_count": null,
      "outputs": []
    },
    {
      "cell_type": "code",
      "metadata": {
        "id": "6ytQGmivQV67"
      },
      "source": [
        "# Display top 5 predictions\n",
        "\n"
      ],
      "execution_count": null,
      "outputs": []
    },
    {
      "cell_type": "markdown",
      "metadata": {
        "id": "84aRsXzIQV69"
      },
      "source": [
        "##### Image 2: viaduct"
      ]
    },
    {
      "cell_type": "code",
      "metadata": {
        "id": "CIUQ4SouQV6-"
      },
      "source": [
        "# Display image\n",
        "\n"
      ],
      "execution_count": null,
      "outputs": []
    },
    {
      "cell_type": "code",
      "metadata": {
        "id": "tSy1QNxZQV7A"
      },
      "source": [
        "# Display top 5 predictions\n",
        "\n"
      ],
      "execution_count": null,
      "outputs": []
    },
    {
      "cell_type": "markdown",
      "metadata": {
        "id": "TByZ1C2bQV7B"
      },
      "source": [
        "##### Image 3: water tower"
      ]
    },
    {
      "cell_type": "code",
      "metadata": {
        "id": "RhkcV3TtQV7C"
      },
      "source": [
        "# Display image\n",
        "\n"
      ],
      "execution_count": null,
      "outputs": []
    },
    {
      "cell_type": "code",
      "metadata": {
        "id": "pQBVCRH6QV7D"
      },
      "source": [
        "# Display top 5 predictions\n",
        "\n"
      ],
      "execution_count": null,
      "outputs": []
    },
    {
      "cell_type": "markdown",
      "metadata": {
        "id": "w3k4XIb9QV7F"
      },
      "source": [
        "***\n",
        "<a id=\"coding_tutorial_5\"></a>\n",
        "## Tensorflow Hub modules"
      ]
    },
    {
      "cell_type": "markdown",
      "metadata": {
        "id": "VX3o8DULQV7F"
      },
      "source": [
        "#### Import and build Tensorflow Hub MobileNet v1 model\n",
        "\n",
        "Today we'll be using Google's MobileNet v1 model, available on Tensorflow Hub. Please see the description on the [Tensorflow Hub page](https://tfhub.dev/google/imagenet/mobilenet_v1_050_160/classification/4) for details on it's architecture, how it's trained, and the reference. If you continue using it, please cite it properly! The paper it comes from is:\n",
        "\n",
        "Andrew G. Howard, Menglong Zhu, Bo Chen, Dmitry Kalenichenko, Weijun Wang, Tobias Weyand, Marco Andreetto, Hartwig Adam: \"MobileNets: Efficient Convolutional Neural Networks for Mobile Vision Applications\", 2017.\n",
        "\n",
        "In the coding tutorial on Coursera, this model is loaded directly from disk. On Colab, you will load the model from TensorFlow Hub."
      ]
    },
    {
      "cell_type": "code",
      "metadata": {
        "id": "3IKZUe3GQV7G"
      },
      "source": [
        "import tensorflow_hub as hub"
      ],
      "execution_count": null,
      "outputs": []
    },
    {
      "cell_type": "code",
      "metadata": {
        "id": "ZizaX_mqQV7K"
      },
      "source": [
        "# Build Google's Mobilenet v1 model\n",
        "\n",
        "module_url = \"https://tfhub.dev/google/imagenet/mobilenet_v1_050_160/classification/4\"\n",
        "model = Sequential([hub.KerasLayer(module_url)])\n",
        "model.build(input_shape=[None, 160, 160, 3])"
      ],
      "execution_count": null,
      "outputs": []
    },
    {
      "cell_type": "markdown",
      "metadata": {
        "id": "ASOUEQuyQV7N"
      },
      "source": [
        "#### Use MobileNet model to classify images"
      ]
    },
    {
      "cell_type": "code",
      "metadata": {
        "id": "3d5jycF8Q6YH"
      },
      "source": [
        "# Retrieve the image files\n",
        "\n",
        "!wget -q -O lemon.jpg --no-check-certificate \"https://docs.google.com/uc?export=download&id=1JSgQ9qgi9nO9t2aGEk-zA6lzYNUT9vZJ\"\n",
        "!wget -q -O viaduct.jpg --no-check-certificate \"https://docs.google.com/uc?export=download&id=1sQzMKmyCR5Tur19lP3n1IIlEMG_o6Mct\"\n",
        "!wget -q -O water_tower.jpg --no-check-certificate \"https://docs.google.com/uc?export=download&id=1cPAQD1O6mAiMbg0fmG5HIk8OuO_BSC6J\""
      ],
      "execution_count": null,
      "outputs": []
    },
    {
      "cell_type": "code",
      "metadata": {
        "id": "W7u6LUc9QV7N"
      },
      "source": [
        "# Import and preprocess 3 sample ImageNet images\n",
        "\n",
        "from tensorflow.keras.preprocessing.image import load_img\n",
        "\n",
        "lemon_img = load_img(\"lemon.jpg\", target_size=(160, 160))\n",
        "viaduct_img = load_img(\"viaduct.jpg\", target_size=(160, 160))\n",
        "water_tower_img = load_img(\"water_tower.jpg\", target_size=(160, 160))"
      ],
      "execution_count": null,
      "outputs": []
    },
    {
      "cell_type": "code",
      "metadata": {
        "id": "0XLfrTUUQV7P"
      },
      "source": [
        "# Read in categories text file\n",
        "\n",
        "with open('data/imagenet_categories.txt') as txt_file:\n",
        "    categories = txt_file.read().splitlines()"
      ],
      "execution_count": null,
      "outputs": []
    },
    {
      "cell_type": "code",
      "metadata": {
        "id": "hfbCaoShQV7R"
      },
      "source": [
        "# Useful function: presents top 5 predictions\n",
        "\n",
        "import pandas as pd\n",
        "\n",
        "def get_top_5_predictions(img):\n",
        "    x = img_to_array(img)[np.newaxis, ...] / 255.0\n",
        "    preds = model.predict(x)\n",
        "    top_preds = pd.DataFrame(columns=['prediction'],\n",
        "                             index=np.arange(5)+1)\n",
        "    sorted_index = np.argsort(-preds[0])\n",
        "    for i in range(5):\n",
        "        ith_pred = categories[sorted_index[i]]\n",
        "        top_preds.loc[i+1, 'prediction'] = ith_pred\n",
        "            \n",
        "    return top_preds"
      ],
      "execution_count": null,
      "outputs": []
    },
    {
      "cell_type": "markdown",
      "metadata": {
        "id": "5PQnzp0SQV7T"
      },
      "source": [
        "##### Image 1: lemon"
      ]
    },
    {
      "cell_type": "code",
      "metadata": {
        "id": "29pUkAKaQV7T"
      },
      "source": [
        ""
      ],
      "execution_count": null,
      "outputs": []
    },
    {
      "cell_type": "code",
      "metadata": {
        "id": "7X9val1IQV7V"
      },
      "source": [
        ""
      ],
      "execution_count": null,
      "outputs": []
    },
    {
      "cell_type": "markdown",
      "metadata": {
        "id": "nq22XagQQV7Y"
      },
      "source": [
        "##### Image 2: viaduct"
      ]
    },
    {
      "cell_type": "code",
      "metadata": {
        "id": "pI0wl0ZxQV7Y"
      },
      "source": [
        ""
      ],
      "execution_count": null,
      "outputs": []
    },
    {
      "cell_type": "code",
      "metadata": {
        "id": "XKr8sPJ9QV7a"
      },
      "source": [
        ""
      ],
      "execution_count": null,
      "outputs": []
    },
    {
      "cell_type": "markdown",
      "metadata": {
        "id": "rj_qOPFIQV7b"
      },
      "source": [
        "##### Image 3: water tower"
      ]
    },
    {
      "cell_type": "code",
      "metadata": {
        "id": "3wjj0sBrQV7b"
      },
      "source": [
        ""
      ],
      "execution_count": null,
      "outputs": []
    },
    {
      "cell_type": "code",
      "metadata": {
        "id": "wB_nL9AAQV7d"
      },
      "source": [
        ""
      ],
      "execution_count": null,
      "outputs": []
    }
  ]
}