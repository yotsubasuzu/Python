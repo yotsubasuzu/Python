{
 "cells": [
  {
   "cell_type": "markdown",
   "metadata": {},
   "source": [
    "### Task 1"
   ]
  },
  {
   "cell_type": "code",
   "execution_count": 88,
   "metadata": {},
   "outputs": [
    {
     "name": "stdin",
     "output_type": "stream",
     "text": [
      "Enter a class file to grade: foobar\n"
     ]
    },
    {
     "name": "stdout",
     "output_type": "stream",
     "text": [
      "\n",
      "File cannot be found\n",
      "\n"
     ]
    },
    {
     "name": "stdin",
     "output_type": "stream",
     "text": [
      "Enter a class file to grade: foobar\n"
     ]
    },
    {
     "name": "stdout",
     "output_type": "stream",
     "text": [
      "\n",
      "File cannot be found\n",
      "\n"
     ]
    },
    {
     "name": "stdin",
     "output_type": "stream",
     "text": [
      "Enter a class file to grade: class1\n"
     ]
    },
    {
     "name": "stdout",
     "output_type": "stream",
     "text": [
      "\n",
      "Successfully opened class1.txt\n"
     ]
    }
   ],
   "source": [
    "def openClass():\n",
    "    while True: #vòng lặp nếu nhập sai sẽ bắt nhập lại\n",
    "        filename = input('Enter a class file to grade (i.e. class1 for class1.txt):')\n",
    "        filename = filename + '.txt'\n",
    "        try:\n",
    "            f = open(filename,'r+')\n",
    "        except:\n",
    "            print('\\nFile cannot be found\\n')\n",
    "            continue\n",
    "        else:\n",
    "            print('\\nSuccessfully opened',filename,)\n",
    "            f.close()\n",
    "            break\n",
    "\n",
    "openClass()"
   ]
  },
  {
   "cell_type": "markdown",
   "metadata": {},
   "source": [
    "### Task 2"
   ]
  },
  {
   "cell_type": "code",
   "execution_count": 167,
   "metadata": {},
   "outputs": [
    {
     "name": "stdin",
     "output_type": "stream",
     "text": [
      "Enter a class file to grade (i.e. class1 for class1.txt): class1\n"
     ]
    },
    {
     "name": "stdout",
     "output_type": "stream",
     "text": [
      "\n",
      "Successfully opened class1.txt \n",
      "\n",
      "*** ANALYZING ***\n",
      "\n",
      "No error found!\n",
      "\n",
      "**** REPORT ****\n",
      "\n",
      "Total valid lines of data: 20 \n",
      "\n",
      "Total invalid lines of data: 0 \n",
      "\n",
      "**** RESTART ****\n",
      "\n"
     ]
    },
    {
     "name": "stdin",
     "output_type": "stream",
     "text": [
      "Enter a class file to grade (i.e. class1 for class1.txt): class1\n"
     ]
    },
    {
     "name": "stdout",
     "output_type": "stream",
     "text": [
      "\n",
      "This class has already inserted.\n",
      "\n"
     ]
    },
    {
     "name": "stdin",
     "output_type": "stream",
     "text": [
      "Enter a class file to grade (i.e. class1 for class1.txt): class2\n"
     ]
    },
    {
     "name": "stdout",
     "output_type": "stream",
     "text": [
      "\n",
      "Successfully opened class2.txt \n",
      "\n",
      "*** ANALYZING ***\n",
      "\n",
      "Invalid line of data: dose not contain exactly 26 values:\n",
      "\n",
      "N00000023,,A,D,D,C,B,D,A,C,C,,C,,B,A,C,B,D,A,C,A,A\n",
      " \n",
      "\n",
      "Invalid line of data: N# is invalid\n",
      "\n",
      "N0000002,B,A,D,D,C,B,D,A,C,D,D,D,A,,A,C,D,,A,C,A,A,B,D,D\n",
      " \n",
      "\n",
      "Invalid line of data: N# is invalid\n",
      "\n",
      "NA0000027,B,A,D,D,,B,,A,C,B,D,B,A,,A,C,B,D,A,,A,A,B,D,D\n",
      " \n",
      "\n",
      "Invalid line of data: dose not contain exactly 26 values:\n",
      "\n",
      "N00000035,B,A,D,D,B,B,,A,C,,D,B,A,B,A,A,B,D,A,C,A,C,B,D,D,A,A\n",
      " \n",
      "\n",
      "**** REPORT ****\n",
      "\n",
      "Total valid lines of data: 21 \n",
      "\n",
      "Total invalid lines of data: 4 \n",
      "\n",
      "**** RESTART ****\n",
      "\n"
     ]
    },
    {
     "name": "stdin",
     "output_type": "stream",
     "text": [
      "Enter a class file to grade (i.e. class1 for class1.txt): class\n"
     ]
    },
    {
     "name": "stdout",
     "output_type": "stream",
     "text": [
      "\n",
      "File cannot be found\n",
      "\n"
     ]
    },
    {
     "name": "stdin",
     "output_type": "stream",
     "text": [
      "Enter a class file to grade (i.e. class1 for class1.txt): class3\n"
     ]
    },
    {
     "name": "stdout",
     "output_type": "stream",
     "text": [
      "\n",
      "Successfully opened class3.txt \n",
      "\n",
      "*** ANALYZING ***\n",
      "\n",
      "No error found!\n",
      "\n",
      "**** REPORT ****\n",
      "\n",
      "Total valid lines of data: 100 \n",
      "\n",
      "Total invalid lines of data: 0 \n",
      "\n",
      "**** RESTART ****\n",
      "\n"
     ]
    },
    {
     "name": "stdin",
     "output_type": "stream",
     "text": [
      "Enter a class file to grade (i.e. class1 for class1.txt): class4\n"
     ]
    },
    {
     "name": "stdout",
     "output_type": "stream",
     "text": [
      "\n",
      "Successfully opened class4.txt \n",
      "\n",
      "*** ANALYZING ***\n",
      "\n",
      "Invalid line of data: dose not contain exactly 26 values:\n",
      "\n",
      "N00000616,B,A,D,D,A,B,D,A,C,C,D,C,A,B,A,C,B,D,A,,A,B,B,D,D,A\n",
      " \n",
      "\n",
      "Invalid line of data: N# is invalid\n",
      "\n",
      "N0000062,B,A,A,D,D,B,D,A,C,C,,B,A,B,A,B,B,D,A,C,A,A,,D,D\n",
      " \n",
      "\n",
      "Invalid line of data: N# is invalid\n",
      "\n",
      "N000008A8,B,A,D,D,,,C,A,C,C,D,A,A,B,A,C,B,D,A,C,A,,,,D\n",
      " \n",
      "\n",
      "Invalid line of data: dose not contain exactly 26 values:\n",
      "\n",
      "N00000638,B,A,D,D,C,B,D,A,C,,D,B,A,B,A,B,C,D,A,C,A,,,D,D,Q\n",
      " \n",
      "\n",
      "**** REPORT ****\n",
      "\n",
      "Total valid lines of data: 491 \n",
      "\n",
      "Total invalid lines of data: 4 \n",
      "\n",
      "**** RESTART ****\n",
      "\n"
     ]
    },
    {
     "name": "stdin",
     "output_type": "stream",
     "text": [
      "Enter a class file to grade (i.e. class1 for class1.txt): class5\n"
     ]
    },
    {
     "name": "stdout",
     "output_type": "stream",
     "text": [
      "\n",
      "Successfully opened class5.txt \n",
      "\n",
      "*** ANALYZING ***\n",
      "\n",
      "No error found!\n",
      "\n",
      "**** REPORT ****\n",
      "\n",
      "Total valid lines of data: 1000 \n",
      "\n",
      "Total invalid lines of data: 0 \n",
      "\n",
      "**** RESTART ****\n",
      "\n"
     ]
    },
    {
     "name": "stdin",
     "output_type": "stream",
     "text": [
      "Enter a class file to grade (i.e. class1 for class1.txt): class6\n"
     ]
    },
    {
     "name": "stdout",
     "output_type": "stream",
     "text": [
      "\n",
      "Successfully opened class6.txt \n",
      "\n",
      "*** ANALYZING ***\n",
      "\n",
      "Invalid line of data: dose not contain exactly 26 values:\n",
      "\n",
      "N00001648,B,A,D,D,C,,D,,B,C,D,,A,\n",
      " \n",
      "\n",
      "**** REPORT ****\n",
      "\n",
      "Total valid lines of data: 300 \n",
      "\n",
      "Total invalid lines of data: 1 \n",
      "\n",
      "**** RESTART ****\n",
      "\n"
     ]
    },
    {
     "name": "stdin",
     "output_type": "stream",
     "text": [
      "Enter a class file to grade (i.e. class1 for class1.txt): class7\n"
     ]
    },
    {
     "name": "stdout",
     "output_type": "stream",
     "text": [
      "\n",
      "Successfully opened class7.txt \n",
      "\n",
      "*** ANALYZING ***\n",
      "\n",
      "Invalid line of data: N# is invalid\n",
      "\n",
      "N0000194,B,A,D,D,C,B,D,A,C,C,D,B,A,B,A,C,B,D,C,C,A,A,B,B,D\n",
      " \n",
      "\n",
      "Invalid line of data: dose not contain exactly 26 values:\n",
      "\n",
      "N00001966,B,A,,A,C,B,D,A,C,C,D,B,D,B,A,C,B,,A,C,D,A,A,\n",
      " \n",
      "\n",
      "Invalid line of data: dose not contain exactly 26 values:\n",
      "\n",
      "N00001974,B,D,D,D,C,A,D,A,A,C,B,B,C,B,A,C,B,D,D,D,A,A,B,D,D,A,A\n",
      " \n",
      "\n",
      "Invalid line of data: N# is invalid\n",
      "\n",
      "N0000198O,B,A,B,D,C,B,D,B,C,C,D,B,C,B,A,C,B,,A,C,A,B,B,D,D\n",
      " \n",
      "\n",
      "Invalid line of data: dose not contain exactly 26 values:\n",
      "\n",
      "N00002023,B,A,D,D,,B,D,A,D,,D,B,A,A,A,C,B,D,A,C,,C\n",
      " \n",
      "\n",
      "Invalid line of data: dose not contain exactly 26 values:\n",
      "\n",
      "N00002034,B,A,D,D,C,D,D,B,,C,D,A,A,B,A,C,B,C,A,C,,A,B,D,D,B\n",
      " \n",
      "\n",
      "**** REPORT ****\n",
      "\n",
      "Total valid lines of data: 194 \n",
      "\n",
      "Total invalid lines of data: 6 \n",
      "\n",
      "**** RESTART ****\n",
      "\n"
     ]
    },
    {
     "name": "stdin",
     "output_type": "stream",
     "text": [
      "Enter a class file to grade (i.e. class1 for class1.txt): class8\n"
     ]
    },
    {
     "name": "stdout",
     "output_type": "stream",
     "text": [
      "\n",
      "Successfully opened class8.txt \n",
      "\n",
      "*** ANALYZING ***\n",
      "\n",
      "No error found!\n",
      "\n",
      "**** REPORT ****\n",
      "\n",
      "Total valid lines of data: 49 \n",
      "\n",
      "Total invalid lines of data: 0 \n",
      "\n",
      "**** END ****\n"
     ]
    }
   ],
   "source": [
    "def analyzeClass():\n",
    "    openedClass = [] #file lớp đã mở sẽ được đưa vào đây để kiểm tra\n",
    "    for i in range(8):\n",
    "        while True:\n",
    "            filename = input('Enter a class file to grade (i.e. class1 for class1.txt):')\n",
    "            filename = filename + '.txt'\n",
    "            try:\n",
    "                if filename in openedClass:\n",
    "                    print('\\nThis file has already been opened.\\n')\n",
    "                    continue\n",
    "                else:\n",
    "                    f = open(filename,'r+')\n",
    "            except:\n",
    "                print('\\nFile cannot be found\\n')\n",
    "                continue\n",
    "            else:\n",
    "                print('\\nSuccessfully opened',filename,'\\n')\n",
    "                openedClass.append(filename)\n",
    "                break\n",
    "\n",
    "        print('*** ANALYZING ***\\n')\n",
    "        \n",
    "        k = 0 #number of lines \n",
    "        error = 0\n",
    "        \n",
    "        for line in f.readlines(): #vòng lặp kiểm tra các lỗi của dữ liệu\n",
    "            k += 1\n",
    "            listValue = line.rstrip('\\n').split(',')\n",
    "            if len(listValue) != 26: \n",
    "                print('Invalid line of data: dose not contain exactly 26 values:\\n')\n",
    "                print(line,'\\n')\n",
    "                error+=1\n",
    "            elif not listValue[0][1:].isnumeric() or len(listValue[0]) != 9:\n",
    "                print('Invalid line of data: N# is invalid\\n')\n",
    "                print(line,'\\n')\n",
    "                error+=1\n",
    "\n",
    "        if error == 0:\n",
    "            print('No error found!\\n')\n",
    "        print('**** REPORT ****\\n')\n",
    "        print('Total valid lines of data:',k-error,'\\n')\n",
    "        print('Total invalid lines of data:',error,'\\n')\n",
    "        if i < 7:\n",
    "            print('**** RESTART ****\\n')\n",
    "        else: \n",
    "            print('**** END ****')\n",
    "        f.close()\n",
    "\n",
    "analyzeClass()"
   ]
  },
  {
   "cell_type": "markdown",
   "metadata": {},
   "source": [
    "### Task 3"
   ]
  },
  {
   "cell_type": "code",
   "execution_count": 172,
   "metadata": {},
   "outputs": [
    {
     "name": "stdin",
     "output_type": "stream",
     "text": [
      "Enter a class file to grade (i.e. class1 for class1.txt): class1\n"
     ]
    },
    {
     "name": "stdout",
     "output_type": "stream",
     "text": [
      "\n",
      "Successfully opened class1.txt \n",
      "\n",
      "*** ANALYZING ***\n",
      "\n",
      "No error found!\n",
      "\n",
      "**** REPORT ****\n",
      "\n",
      "Total valid lines of data: 0 \n",
      "\n",
      "Total invalid lines of data: 0 \n",
      "\n",
      "Mean (average) score: 75.6 \n",
      "\n",
      "Highest score: 91 \n",
      "\n",
      "Lowest score: 59 \n",
      "\n",
      "Range of scores: 32 \n",
      "\n",
      "Median score: 73.0 \n",
      "\n",
      "**** RESTART ****\n",
      "\n"
     ]
    },
    {
     "name": "stdin",
     "output_type": "stream",
     "text": [
      "Enter a class file to grade (i.e. class1 for class1.txt): class2\n"
     ]
    },
    {
     "name": "stdout",
     "output_type": "stream",
     "text": [
      "\n",
      "Successfully opened class2.txt \n",
      "\n",
      "*** ANALYZING ***\n",
      "\n",
      "Invalid line of data: dose not contain exactly 26 values:\n",
      "\n",
      "N00000023,,A,D,D,C,B,D,A,C,C,,C,,B,A,C,B,D,A,C,A,A\n",
      " \n",
      "\n",
      "Invalid line of data: N# is invalid\n",
      "\n",
      "N0000002,B,A,D,D,C,B,D,A,C,D,D,D,A,,A,C,D,,A,C,A,A,B,D,D\n",
      " \n",
      "\n",
      "Invalid line of data: N# is invalid\n",
      "\n",
      "NA0000027,B,A,D,D,,B,,A,C,B,D,B,A,,A,C,B,D,A,,A,A,B,D,D\n",
      " \n",
      "\n",
      "Invalid line of data: dose not contain exactly 26 values:\n",
      "\n",
      "N00000035,B,A,D,D,B,B,,A,C,,D,B,A,B,A,A,B,D,A,C,A,C,B,D,D,A,A\n",
      " \n",
      "\n",
      "**** REPORT ****\n",
      "\n",
      "Total valid lines of data: -4 \n",
      "\n",
      "Total invalid lines of data: 4 \n",
      "\n",
      "Mean (average) score: 78.0 \n",
      "\n",
      "Highest score: 100 \n",
      "\n",
      "Lowest score: 66 \n",
      "\n",
      "Range of scores: 34 \n",
      "\n",
      "Median score: 76 \n",
      "\n",
      "**** RESTART ****\n",
      "\n"
     ]
    },
    {
     "name": "stdin",
     "output_type": "stream",
     "text": [
      "Enter a class file to grade (i.e. class1 for class1.txt): class3\n"
     ]
    },
    {
     "name": "stdout",
     "output_type": "stream",
     "text": [
      "\n",
      "Successfully opened class3.txt \n",
      "\n",
      "*** ANALYZING ***\n",
      "\n",
      "No error found!\n",
      "\n",
      "**** REPORT ****\n",
      "\n",
      "Total valid lines of data: 0 \n",
      "\n",
      "Total invalid lines of data: 0 \n",
      "\n",
      "Mean (average) score: 76.24 \n",
      "\n",
      "Highest score: 96 \n",
      "\n",
      "Lowest score: 56 \n",
      "\n",
      "Range of scores: 40 \n",
      "\n",
      "Median score: 77.0 \n",
      "\n",
      "**** RESTART ****\n",
      "\n"
     ]
    },
    {
     "name": "stdin",
     "output_type": "stream",
     "text": [
      "Enter a class file to grade (i.e. class1 for class1.txt): class4\n"
     ]
    },
    {
     "name": "stdout",
     "output_type": "stream",
     "text": [
      "\n",
      "Successfully opened class4.txt \n",
      "\n",
      "*** ANALYZING ***\n",
      "\n",
      "Invalid line of data: dose not contain exactly 26 values:\n",
      "\n",
      "N00000616,B,A,D,D,A,B,D,A,C,C,D,C,A,B,A,C,B,D,A,,A,B,B,D,D,A\n",
      " \n",
      "\n",
      "Invalid line of data: N# is invalid\n",
      "\n",
      "N0000062,B,A,A,D,D,B,D,A,C,C,,B,A,B,A,B,B,D,A,C,A,A,,D,D\n",
      " \n",
      "\n",
      "Invalid line of data: N# is invalid\n",
      "\n",
      "N000008A8,B,A,D,D,,,C,A,C,C,D,A,A,B,A,C,B,D,A,C,A,,,,D\n",
      " \n",
      "\n",
      "Invalid line of data: dose not contain exactly 26 values:\n",
      "\n",
      "N00000638,B,A,D,D,C,B,D,A,C,,D,B,A,B,A,B,C,D,A,C,A,,,D,D,Q\n",
      " \n",
      "\n",
      "**** REPORT ****\n",
      "\n",
      "Total valid lines of data: -4 \n",
      "\n",
      "Total invalid lines of data: 4 \n",
      "\n",
      "Mean (average) score: 75.76374745417515 \n",
      "\n",
      "Highest score: 100 \n",
      "\n",
      "Lowest score: 44 \n",
      "\n",
      "Range of scores: 56 \n",
      "\n",
      "Median score: 77 \n",
      "\n",
      "**** RESTART ****\n",
      "\n"
     ]
    },
    {
     "name": "stdin",
     "output_type": "stream",
     "text": [
      "Enter a class file to grade (i.e. class1 for class1.txt): class5\n"
     ]
    },
    {
     "name": "stdout",
     "output_type": "stream",
     "text": [
      "\n",
      "Successfully opened class5.txt \n",
      "\n",
      "*** ANALYZING ***\n",
      "\n",
      "No error found!\n",
      "\n",
      "**** REPORT ****\n",
      "\n",
      "Total valid lines of data: 0 \n",
      "\n",
      "Total invalid lines of data: 0 \n",
      "\n",
      "Mean (average) score: 75.604 \n",
      "\n",
      "Highest score: 100 \n",
      "\n",
      "Lowest score: 40 \n",
      "\n",
      "Range of scores: 60 \n",
      "\n",
      "Median score: 77.0 \n",
      "\n",
      "**** RESTART ****\n",
      "\n"
     ]
    },
    {
     "name": "stdin",
     "output_type": "stream",
     "text": [
      "Enter a class file to grade (i.e. class1 for class1.txt): class6\n"
     ]
    },
    {
     "name": "stdout",
     "output_type": "stream",
     "text": [
      "\n",
      "Successfully opened class6.txt \n",
      "\n",
      "*** ANALYZING ***\n",
      "\n",
      "Invalid line of data: dose not contain exactly 26 values:\n",
      "\n",
      "N00001648,B,A,D,D,C,,D,,B,C,D,,A,\n",
      " \n",
      "\n",
      "**** REPORT ****\n",
      "\n",
      "Total valid lines of data: -1 \n",
      "\n",
      "Total invalid lines of data: 1 \n",
      "\n",
      "Mean (average) score: 75.9 \n",
      "\n",
      "Highest score: 100 \n",
      "\n",
      "Lowest score: 49 \n",
      "\n",
      "Range of scores: 51 \n",
      "\n",
      "Median score: 77.0 \n",
      "\n",
      "**** RESTART ****\n",
      "\n"
     ]
    },
    {
     "name": "stdin",
     "output_type": "stream",
     "text": [
      "Enter a class file to grade (i.e. class1 for class1.txt): class7\n"
     ]
    },
    {
     "name": "stdout",
     "output_type": "stream",
     "text": [
      "\n",
      "Successfully opened class7.txt \n",
      "\n",
      "*** ANALYZING ***\n",
      "\n",
      "Invalid line of data: N# is invalid\n",
      "\n",
      "N0000194,B,A,D,D,C,B,D,A,C,C,D,B,A,B,A,C,B,D,C,C,A,A,B,B,D\n",
      " \n",
      "\n",
      "Invalid line of data: dose not contain exactly 26 values:\n",
      "\n",
      "N00001966,B,A,,A,C,B,D,A,C,C,D,B,D,B,A,C,B,,A,C,D,A,A,\n",
      " \n",
      "\n",
      "Invalid line of data: dose not contain exactly 26 values:\n",
      "\n",
      "N00001974,B,D,D,D,C,A,D,A,A,C,B,B,C,B,A,C,B,D,D,D,A,A,B,D,D,A,A\n",
      " \n",
      "\n",
      "Invalid line of data: N# is invalid\n",
      "\n",
      "N0000198O,B,A,B,D,C,B,D,B,C,C,D,B,C,B,A,C,B,,A,C,A,B,B,D,D\n",
      " \n",
      "\n",
      "Invalid line of data: dose not contain exactly 26 values:\n",
      "\n",
      "N00002023,B,A,D,D,,B,D,A,D,,D,B,A,A,A,C,B,D,A,C,,C\n",
      " \n",
      "\n",
      "Invalid line of data: dose not contain exactly 26 values:\n",
      "\n",
      "N00002034,B,A,D,D,C,D,D,B,,C,D,A,A,B,A,C,B,C,A,C,,A,B,D,D,B\n",
      " \n",
      "\n",
      "**** REPORT ****\n",
      "\n",
      "Total valid lines of data: -6 \n",
      "\n",
      "Total invalid lines of data: 6 \n",
      "\n",
      "Mean (average) score: 74.80927835051547 \n",
      "\n",
      "Highest score: 100 \n",
      "\n",
      "Lowest score: 47 \n",
      "\n",
      "Range of scores: 53 \n",
      "\n",
      "Median score: 74.5 \n",
      "\n",
      "**** RESTART ****\n",
      "\n"
     ]
    },
    {
     "name": "stdin",
     "output_type": "stream",
     "text": [
      "Enter a class file to grade (i.e. class1 for class1.txt): class8\n"
     ]
    },
    {
     "name": "stdout",
     "output_type": "stream",
     "text": [
      "\n",
      "Successfully opened class8.txt \n",
      "\n",
      "*** ANALYZING ***\n",
      "\n",
      "No error found!\n",
      "\n",
      "**** REPORT ****\n",
      "\n",
      "Total valid lines of data: 0 \n",
      "\n",
      "Total invalid lines of data: 0 \n",
      "\n",
      "Mean (average) score: 76.6734693877551 \n",
      "\n",
      "Highest score: 92 \n",
      "\n",
      "Lowest score: 59 \n",
      "\n",
      "Range of scores: 33 \n",
      "\n",
      "Median score: 77 \n",
      "\n",
      "**** END ****\n"
     ]
    }
   ],
   "source": [
    "def gradeClass():\n",
    "    openedClass = []\n",
    "    for i in range(8):\n",
    "        while True:\n",
    "            filename = input('Enter a class file to grade (i.e. class1 for class1.txt):')\n",
    "            filename = filename + '.txt'\n",
    "            try:\n",
    "                if filename in openedClass:\n",
    "                    print('\\nThis file has already been opened.\\n')\n",
    "                    continue\n",
    "                else:\n",
    "                    f = open(filename,'r+')\n",
    "            except:\n",
    "                print('\\nFile cannot be found\\n')\n",
    "                continue\n",
    "            else:\n",
    "                print('\\nSuccessfully opened',filename,'\\n')\n",
    "                openedClass.append(filename)\n",
    "                break\n",
    "\n",
    "        print('*** ANALYZING ***\\n')\n",
    "\n",
    "        k = 0 #number of lines in file\n",
    "        error = 0\n",
    "        grade = [] #list chứa điểm của từng lớp\n",
    "        valid_line = [] #list chứa các dòng đủ điều kiện\n",
    "        answer_key = ['B','A','D','D','C','B','D','A','C','C','D','B','A',\n",
    "                      'B','A','C','B','D','A','C','A','A','B','D','D']\n",
    "        \n",
    "        for line in f.readlines():\n",
    "            listValue = line.rstrip('\\n').split(',')\n",
    "            \n",
    "            if len(listValue) != 26:\n",
    "                print('Invalid line of data: dose not contain exactly 26 values:\\n')\n",
    "                print(line,'\\n')\n",
    "                error+=1\n",
    "            elif not listValue[0][1:].isnumeric() or len(listValue[0]) != 9:\n",
    "                print('Invalid line of data: N# is invalid\\n')\n",
    "                print(line,'\\n')\n",
    "                error+=1\n",
    "            else:\n",
    "                valid_line.append(listValue)\n",
    "                \n",
    "        for line in valid_line: #chấm điểm \n",
    "            answer = line[1:]\n",
    "            score = 0\n",
    "            for j in range(25):\n",
    "                if answer[j] == answer_key[j]:\n",
    "                    score += 4\n",
    "                elif answer[j] == '':\n",
    "                    score += 0\n",
    "                else:\n",
    "                    score -= 1            \n",
    "            grade.append(score)\n",
    "        \n",
    "        if error == 0:\n",
    "            print('No error found!\\n')\n",
    "            \n",
    "        print('**** REPORT ****\\n')\n",
    "        print('Total valid lines of data:',k-error,'\\n')\n",
    "        print('Total invalid lines of data:',error,'\\n')\n",
    "        print('Mean (average) score:',sum(grade)/len(grade),'\\n')\n",
    "        print('Highest score:',max(grade),'\\n')\n",
    "        print('Lowest score:',min(grade),'\\n')\n",
    "        print('Range of scores:',max(grade)-min(grade),'\\n')\n",
    "        \n",
    "        s = sorted(grade) #tìm median, \n",
    "        n = len(grade)\n",
    "        if n % 2 == 1:\n",
    "            median = s[n//2]\n",
    "        else:\n",
    "            median = sum(s[n//2-1:n//2+1])/2.0\n",
    "        print('Median score:',median,'\\n')\n",
    "        \n",
    "        if i < 7:\n",
    "            print('**** RESTART ****\\n')\n",
    "        else: \n",
    "            print('**** END ****')\n",
    "        f.close()\n",
    "\n",
    "gradeClass()"
   ]
  },
  {
   "cell_type": "markdown",
   "metadata": {},
   "source": [
    "### Task 4"
   ]
  },
  {
   "cell_type": "code",
   "execution_count": 185,
   "metadata": {},
   "outputs": [],
   "source": [
    "def outputGradeClass():\n",
    "    openedClass = []\n",
    "    for i in range(8):\n",
    "        while True:\n",
    "            filename = input('Enter a class file to grade (i.e. class1 for class1.txt):')\n",
    "            filename = filename + '.txt'\n",
    "            try:\n",
    "                if filename in openedClass:\n",
    "                    print('\\nThis file has already been opened.\\n')\n",
    "                    continue\n",
    "                else:\n",
    "                    f = open(filename,'r+')\n",
    "            except:\n",
    "                print('\\nFile cannot be found\\n')\n",
    "                continue\n",
    "            else:\n",
    "                print('\\nSuccessfully opened',filename,'\\n')\n",
    "                openedClass.append(filename)\n",
    "                break\n",
    "                \n",
    "        student_number = [] #list chứa mã số học sinh\n",
    "        grade = []\n",
    "        valid_line = []\n",
    "        answer_key = ['B','A','D','D','C','B','D','A','C','C','D','B','A',\n",
    "                      'B','A','C','B','D','A','C','A','A','B','D','D']\n",
    "        \n",
    "        for line in f.readlines():\n",
    "            listValue = line.rstrip('\\n').split(',')\n",
    "            \n",
    "            if len(listValue) == 26 and listValue[0][1:].isnumeric() and len(listValue[0]) == 9:\n",
    "                valid_line.append(listValue)\n",
    "                \n",
    "        for line in valid_line:\n",
    "            student_number.append(line[0])\n",
    "            answer = line[1:]\n",
    "            score = 0\n",
    "            for j in range(25):\n",
    "                if answer[j] == answer_key[j]:\n",
    "                    score += 4\n",
    "                elif answer[j] == '':\n",
    "                    score += 0\n",
    "                else:\n",
    "                    score -= 1            \n",
    "            grade.append(score)\n",
    "        \n",
    "        with open(filename+'_grade.txt','w') as fw: #tạo file, ghi mã số học sinh và điểm theo thứ tự, được lặp theo cặp từ 2 list\n",
    "            for sn, gr in zip(student_number, grade):\n",
    "                fw.write(sn + ',' + str(gr) + '\\n')\n",
    "            \n",
    "        f.close()"
   ]
  },
  {
   "cell_type": "code",
   "execution_count": 186,
   "metadata": {},
   "outputs": [
    {
     "name": "stdin",
     "output_type": "stream",
     "text": [
      "Enter a class file to grade (i.e. class1 for class1.txt): class1\n"
     ]
    },
    {
     "name": "stdout",
     "output_type": "stream",
     "text": [
      "\n",
      "Successfully opened class1.txt \n",
      "\n"
     ]
    },
    {
     "name": "stdin",
     "output_type": "stream",
     "text": [
      "Enter a class file to grade (i.e. class1 for class1.txt): class2\n"
     ]
    },
    {
     "name": "stdout",
     "output_type": "stream",
     "text": [
      "\n",
      "Successfully opened class2.txt \n",
      "\n"
     ]
    },
    {
     "name": "stdin",
     "output_type": "stream",
     "text": [
      "Enter a class file to grade (i.e. class1 for class1.txt): class3\n"
     ]
    },
    {
     "name": "stdout",
     "output_type": "stream",
     "text": [
      "\n",
      "Successfully opened class3.txt \n",
      "\n"
     ]
    },
    {
     "name": "stdin",
     "output_type": "stream",
     "text": [
      "Enter a class file to grade (i.e. class1 for class1.txt): class4\n"
     ]
    },
    {
     "name": "stdout",
     "output_type": "stream",
     "text": [
      "\n",
      "Successfully opened class4.txt \n",
      "\n"
     ]
    },
    {
     "name": "stdin",
     "output_type": "stream",
     "text": [
      "Enter a class file to grade (i.e. class1 for class1.txt): class5\n"
     ]
    },
    {
     "name": "stdout",
     "output_type": "stream",
     "text": [
      "\n",
      "Successfully opened class5.txt \n",
      "\n"
     ]
    },
    {
     "name": "stdin",
     "output_type": "stream",
     "text": [
      "Enter a class file to grade (i.e. class1 for class1.txt): class6\n"
     ]
    },
    {
     "name": "stdout",
     "output_type": "stream",
     "text": [
      "\n",
      "Successfully opened class6.txt \n",
      "\n"
     ]
    },
    {
     "name": "stdin",
     "output_type": "stream",
     "text": [
      "Enter a class file to grade (i.e. class1 for class1.txt): class7\n"
     ]
    },
    {
     "name": "stdout",
     "output_type": "stream",
     "text": [
      "\n",
      "Successfully opened class7.txt \n",
      "\n"
     ]
    },
    {
     "name": "stdin",
     "output_type": "stream",
     "text": [
      "Enter a class file to grade (i.e. class1 for class1.txt): class8\n"
     ]
    },
    {
     "name": "stdout",
     "output_type": "stream",
     "text": [
      "\n",
      "Successfully opened class8.txt \n",
      "\n"
     ]
    }
   ],
   "source": [
    "outputGradeClass()"
   ]
  },
  {
   "cell_type": "markdown",
   "metadata": {},
   "source": [
    "### Task 5"
   ]
  },
  {
   "cell_type": "code",
   "execution_count": null,
   "metadata": {},
   "outputs": [],
   "source": []
  }
 ],
 "metadata": {
  "kernelspec": {
   "display_name": "Python 3",
   "language": "python",
   "name": "python3"
  },
  "language_info": {
   "codemirror_mode": {
    "name": "ipython",
    "version": 3
   },
   "file_extension": ".py",
   "mimetype": "text/x-python",
   "name": "python",
   "nbconvert_exporter": "python",
   "pygments_lexer": "ipython3",
   "version": "3.8.5"
  }
 },
 "nbformat": 4,
 "nbformat_minor": 4
}
