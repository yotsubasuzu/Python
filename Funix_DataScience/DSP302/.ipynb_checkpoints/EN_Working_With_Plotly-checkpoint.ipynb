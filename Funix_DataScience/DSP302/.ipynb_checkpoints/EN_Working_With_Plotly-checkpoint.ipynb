{
 "cells": [
  {
   "cell_type": "markdown",
   "metadata": {
    "id": "K7kp3hFOahjL"
   },
   "source": [
    "# <center>Working With Plotly</center>"
   ]
  },
  {
   "cell_type": "code",
   "execution_count": 16,
   "metadata": {
    "id": "MIlJ7DPJahjN",
    "outputId": "62aa4f6d-a2b6-4519-973a-b4e6bafe61f3"
   },
   "outputs": [
    {
     "name": "stdout",
     "output_type": "stream",
     "text": [
      "5.2.1\n"
     ]
    }
   ],
   "source": [
    "#import\n",
    "import plotly\n",
    "from plotly import __version__\n",
    "print (__version__)\n",
    "from plotly.offline import download_plotlyjs, init_notebook_mode, plot, iplot"
   ]
  },
  {
   "cell_type": "code",
   "execution_count": 17,
   "metadata": {
    "id": "RnG5U_GoahjO",
    "outputId": "76de926f-c616-46d7-cbab-c19ddc028fbc"
   },
   "outputs": [
    {
     "data": {
      "text/html": [
       "        <script type=\"text/javascript\">\n",
       "        window.PlotlyConfig = {MathJaxConfig: 'local'};\n",
       "        if (window.MathJax) {MathJax.Hub.Config({SVG: {font: \"STIX-Web\"}});}\n",
       "        if (typeof require !== 'undefined') {\n",
       "        require.undef(\"plotly\");\n",
       "        requirejs.config({\n",
       "            paths: {\n",
       "                'plotly': ['https://cdn.plot.ly/plotly-2.3.1.min']\n",
       "            }\n",
       "        });\n",
       "        require(['plotly'], function(Plotly) {\n",
       "            window._Plotly = Plotly;\n",
       "        });\n",
       "        }\n",
       "        </script>\n",
       "        "
      ]
     },
     "metadata": {},
     "output_type": "display_data"
    }
   ],
   "source": [
    "#Jupyter setup\n",
    "init_notebook_mode(connected=True)"
   ]
  },
  {
   "cell_type": "markdown",
   "metadata": {
    "id": "CT0NStN2ahjP"
   },
   "source": [
    "<br>\n",
    "\n",
    "To save the chart to Plotly Cloud or Plotly Enterprise, use `plotly.plotly.iplot`.\n",
    "\n",
    "Use py.plot() to return the unique url and optionally open the url.\n",
    "\n",
    "Use py.iplot() when working in a Jupyter Notebook to display the plot in the notebook.\n",
    "\n",
    "<br>"
   ]
  },
  {
   "cell_type": "code",
   "execution_count": 18,
   "metadata": {
    "id": "a2fZ_CRMahjQ",
    "outputId": "b9a8ff1a-9786-48b9-c7e8-700d9e18779e"
   },
   "outputs": [
    {
     "data": {
      "application/vnd.plotly.v1+json": {
       "config": {
        "linkText": "Export to plot.ly",
        "plotlyServerURL": "https://plot.ly",
        "showLink": false
       },
       "data": [
        {
         "type": "scatter",
         "x": [
          1,
          2,
          3,
          4,
          5
         ],
         "y": [
          1,
          2,
          6,
          4,
          1
         ]
        }
       ],
       "layout": {
        "template": {
         "data": {
          "bar": [
           {
            "error_x": {
             "color": "#2a3f5f"
            },
            "error_y": {
             "color": "#2a3f5f"
            },
            "marker": {
             "line": {
              "color": "#E5ECF6",
              "width": 0.5
             },
             "pattern": {
              "fillmode": "overlay",
              "size": 10,
              "solidity": 0.2
             }
            },
            "type": "bar"
           }
          ],
          "barpolar": [
           {
            "marker": {
             "line": {
              "color": "#E5ECF6",
              "width": 0.5
             },
             "pattern": {
              "fillmode": "overlay",
              "size": 10,
              "solidity": 0.2
             }
            },
            "type": "barpolar"
           }
          ],
          "carpet": [
           {
            "aaxis": {
             "endlinecolor": "#2a3f5f",
             "gridcolor": "white",
             "linecolor": "white",
             "minorgridcolor": "white",
             "startlinecolor": "#2a3f5f"
            },
            "baxis": {
             "endlinecolor": "#2a3f5f",
             "gridcolor": "white",
             "linecolor": "white",
             "minorgridcolor": "white",
             "startlinecolor": "#2a3f5f"
            },
            "type": "carpet"
           }
          ],
          "choropleth": [
           {
            "colorbar": {
             "outlinewidth": 0,
             "ticks": ""
            },
            "type": "choropleth"
           }
          ],
          "contour": [
           {
            "colorbar": {
             "outlinewidth": 0,
             "ticks": ""
            },
            "colorscale": [
             [
              0,
              "#0d0887"
             ],
             [
              0.1111111111111111,
              "#46039f"
             ],
             [
              0.2222222222222222,
              "#7201a8"
             ],
             [
              0.3333333333333333,
              "#9c179e"
             ],
             [
              0.4444444444444444,
              "#bd3786"
             ],
             [
              0.5555555555555556,
              "#d8576b"
             ],
             [
              0.6666666666666666,
              "#ed7953"
             ],
             [
              0.7777777777777778,
              "#fb9f3a"
             ],
             [
              0.8888888888888888,
              "#fdca26"
             ],
             [
              1,
              "#f0f921"
             ]
            ],
            "type": "contour"
           }
          ],
          "contourcarpet": [
           {
            "colorbar": {
             "outlinewidth": 0,
             "ticks": ""
            },
            "type": "contourcarpet"
           }
          ],
          "heatmap": [
           {
            "colorbar": {
             "outlinewidth": 0,
             "ticks": ""
            },
            "colorscale": [
             [
              0,
              "#0d0887"
             ],
             [
              0.1111111111111111,
              "#46039f"
             ],
             [
              0.2222222222222222,
              "#7201a8"
             ],
             [
              0.3333333333333333,
              "#9c179e"
             ],
             [
              0.4444444444444444,
              "#bd3786"
             ],
             [
              0.5555555555555556,
              "#d8576b"
             ],
             [
              0.6666666666666666,
              "#ed7953"
             ],
             [
              0.7777777777777778,
              "#fb9f3a"
             ],
             [
              0.8888888888888888,
              "#fdca26"
             ],
             [
              1,
              "#f0f921"
             ]
            ],
            "type": "heatmap"
           }
          ],
          "heatmapgl": [
           {
            "colorbar": {
             "outlinewidth": 0,
             "ticks": ""
            },
            "colorscale": [
             [
              0,
              "#0d0887"
             ],
             [
              0.1111111111111111,
              "#46039f"
             ],
             [
              0.2222222222222222,
              "#7201a8"
             ],
             [
              0.3333333333333333,
              "#9c179e"
             ],
             [
              0.4444444444444444,
              "#bd3786"
             ],
             [
              0.5555555555555556,
              "#d8576b"
             ],
             [
              0.6666666666666666,
              "#ed7953"
             ],
             [
              0.7777777777777778,
              "#fb9f3a"
             ],
             [
              0.8888888888888888,
              "#fdca26"
             ],
             [
              1,
              "#f0f921"
             ]
            ],
            "type": "heatmapgl"
           }
          ],
          "histogram": [
           {
            "marker": {
             "pattern": {
              "fillmode": "overlay",
              "size": 10,
              "solidity": 0.2
             }
            },
            "type": "histogram"
           }
          ],
          "histogram2d": [
           {
            "colorbar": {
             "outlinewidth": 0,
             "ticks": ""
            },
            "colorscale": [
             [
              0,
              "#0d0887"
             ],
             [
              0.1111111111111111,
              "#46039f"
             ],
             [
              0.2222222222222222,
              "#7201a8"
             ],
             [
              0.3333333333333333,
              "#9c179e"
             ],
             [
              0.4444444444444444,
              "#bd3786"
             ],
             [
              0.5555555555555556,
              "#d8576b"
             ],
             [
              0.6666666666666666,
              "#ed7953"
             ],
             [
              0.7777777777777778,
              "#fb9f3a"
             ],
             [
              0.8888888888888888,
              "#fdca26"
             ],
             [
              1,
              "#f0f921"
             ]
            ],
            "type": "histogram2d"
           }
          ],
          "histogram2dcontour": [
           {
            "colorbar": {
             "outlinewidth": 0,
             "ticks": ""
            },
            "colorscale": [
             [
              0,
              "#0d0887"
             ],
             [
              0.1111111111111111,
              "#46039f"
             ],
             [
              0.2222222222222222,
              "#7201a8"
             ],
             [
              0.3333333333333333,
              "#9c179e"
             ],
             [
              0.4444444444444444,
              "#bd3786"
             ],
             [
              0.5555555555555556,
              "#d8576b"
             ],
             [
              0.6666666666666666,
              "#ed7953"
             ],
             [
              0.7777777777777778,
              "#fb9f3a"
             ],
             [
              0.8888888888888888,
              "#fdca26"
             ],
             [
              1,
              "#f0f921"
             ]
            ],
            "type": "histogram2dcontour"
           }
          ],
          "mesh3d": [
           {
            "colorbar": {
             "outlinewidth": 0,
             "ticks": ""
            },
            "type": "mesh3d"
           }
          ],
          "parcoords": [
           {
            "line": {
             "colorbar": {
              "outlinewidth": 0,
              "ticks": ""
             }
            },
            "type": "parcoords"
           }
          ],
          "pie": [
           {
            "automargin": true,
            "type": "pie"
           }
          ],
          "scatter": [
           {
            "marker": {
             "colorbar": {
              "outlinewidth": 0,
              "ticks": ""
             }
            },
            "type": "scatter"
           }
          ],
          "scatter3d": [
           {
            "line": {
             "colorbar": {
              "outlinewidth": 0,
              "ticks": ""
             }
            },
            "marker": {
             "colorbar": {
              "outlinewidth": 0,
              "ticks": ""
             }
            },
            "type": "scatter3d"
           }
          ],
          "scattercarpet": [
           {
            "marker": {
             "colorbar": {
              "outlinewidth": 0,
              "ticks": ""
             }
            },
            "type": "scattercarpet"
           }
          ],
          "scattergeo": [
           {
            "marker": {
             "colorbar": {
              "outlinewidth": 0,
              "ticks": ""
             }
            },
            "type": "scattergeo"
           }
          ],
          "scattergl": [
           {
            "marker": {
             "colorbar": {
              "outlinewidth": 0,
              "ticks": ""
             }
            },
            "type": "scattergl"
           }
          ],
          "scattermapbox": [
           {
            "marker": {
             "colorbar": {
              "outlinewidth": 0,
              "ticks": ""
             }
            },
            "type": "scattermapbox"
           }
          ],
          "scatterpolar": [
           {
            "marker": {
             "colorbar": {
              "outlinewidth": 0,
              "ticks": ""
             }
            },
            "type": "scatterpolar"
           }
          ],
          "scatterpolargl": [
           {
            "marker": {
             "colorbar": {
              "outlinewidth": 0,
              "ticks": ""
             }
            },
            "type": "scatterpolargl"
           }
          ],
          "scatterternary": [
           {
            "marker": {
             "colorbar": {
              "outlinewidth": 0,
              "ticks": ""
             }
            },
            "type": "scatterternary"
           }
          ],
          "surface": [
           {
            "colorbar": {
             "outlinewidth": 0,
             "ticks": ""
            },
            "colorscale": [
             [
              0,
              "#0d0887"
             ],
             [
              0.1111111111111111,
              "#46039f"
             ],
             [
              0.2222222222222222,
              "#7201a8"
             ],
             [
              0.3333333333333333,
              "#9c179e"
             ],
             [
              0.4444444444444444,
              "#bd3786"
             ],
             [
              0.5555555555555556,
              "#d8576b"
             ],
             [
              0.6666666666666666,
              "#ed7953"
             ],
             [
              0.7777777777777778,
              "#fb9f3a"
             ],
             [
              0.8888888888888888,
              "#fdca26"
             ],
             [
              1,
              "#f0f921"
             ]
            ],
            "type": "surface"
           }
          ],
          "table": [
           {
            "cells": {
             "fill": {
              "color": "#EBF0F8"
             },
             "line": {
              "color": "white"
             }
            },
            "header": {
             "fill": {
              "color": "#C8D4E3"
             },
             "line": {
              "color": "white"
             }
            },
            "type": "table"
           }
          ]
         },
         "layout": {
          "annotationdefaults": {
           "arrowcolor": "#2a3f5f",
           "arrowhead": 0,
           "arrowwidth": 1
          },
          "autotypenumbers": "strict",
          "coloraxis": {
           "colorbar": {
            "outlinewidth": 0,
            "ticks": ""
           }
          },
          "colorscale": {
           "diverging": [
            [
             0,
             "#8e0152"
            ],
            [
             0.1,
             "#c51b7d"
            ],
            [
             0.2,
             "#de77ae"
            ],
            [
             0.3,
             "#f1b6da"
            ],
            [
             0.4,
             "#fde0ef"
            ],
            [
             0.5,
             "#f7f7f7"
            ],
            [
             0.6,
             "#e6f5d0"
            ],
            [
             0.7,
             "#b8e186"
            ],
            [
             0.8,
             "#7fbc41"
            ],
            [
             0.9,
             "#4d9221"
            ],
            [
             1,
             "#276419"
            ]
           ],
           "sequential": [
            [
             0,
             "#0d0887"
            ],
            [
             0.1111111111111111,
             "#46039f"
            ],
            [
             0.2222222222222222,
             "#7201a8"
            ],
            [
             0.3333333333333333,
             "#9c179e"
            ],
            [
             0.4444444444444444,
             "#bd3786"
            ],
            [
             0.5555555555555556,
             "#d8576b"
            ],
            [
             0.6666666666666666,
             "#ed7953"
            ],
            [
             0.7777777777777778,
             "#fb9f3a"
            ],
            [
             0.8888888888888888,
             "#fdca26"
            ],
            [
             1,
             "#f0f921"
            ]
           ],
           "sequentialminus": [
            [
             0,
             "#0d0887"
            ],
            [
             0.1111111111111111,
             "#46039f"
            ],
            [
             0.2222222222222222,
             "#7201a8"
            ],
            [
             0.3333333333333333,
             "#9c179e"
            ],
            [
             0.4444444444444444,
             "#bd3786"
            ],
            [
             0.5555555555555556,
             "#d8576b"
            ],
            [
             0.6666666666666666,
             "#ed7953"
            ],
            [
             0.7777777777777778,
             "#fb9f3a"
            ],
            [
             0.8888888888888888,
             "#fdca26"
            ],
            [
             1,
             "#f0f921"
            ]
           ]
          },
          "colorway": [
           "#636efa",
           "#EF553B",
           "#00cc96",
           "#ab63fa",
           "#FFA15A",
           "#19d3f3",
           "#FF6692",
           "#B6E880",
           "#FF97FF",
           "#FECB52"
          ],
          "font": {
           "color": "#2a3f5f"
          },
          "geo": {
           "bgcolor": "white",
           "lakecolor": "white",
           "landcolor": "#E5ECF6",
           "showlakes": true,
           "showland": true,
           "subunitcolor": "white"
          },
          "hoverlabel": {
           "align": "left"
          },
          "hovermode": "closest",
          "mapbox": {
           "style": "light"
          },
          "paper_bgcolor": "white",
          "plot_bgcolor": "#E5ECF6",
          "polar": {
           "angularaxis": {
            "gridcolor": "white",
            "linecolor": "white",
            "ticks": ""
           },
           "bgcolor": "#E5ECF6",
           "radialaxis": {
            "gridcolor": "white",
            "linecolor": "white",
            "ticks": ""
           }
          },
          "scene": {
           "xaxis": {
            "backgroundcolor": "#E5ECF6",
            "gridcolor": "white",
            "gridwidth": 2,
            "linecolor": "white",
            "showbackground": true,
            "ticks": "",
            "zerolinecolor": "white"
           },
           "yaxis": {
            "backgroundcolor": "#E5ECF6",
            "gridcolor": "white",
            "gridwidth": 2,
            "linecolor": "white",
            "showbackground": true,
            "ticks": "",
            "zerolinecolor": "white"
           },
           "zaxis": {
            "backgroundcolor": "#E5ECF6",
            "gridcolor": "white",
            "gridwidth": 2,
            "linecolor": "white",
            "showbackground": true,
            "ticks": "",
            "zerolinecolor": "white"
           }
          },
          "shapedefaults": {
           "line": {
            "color": "#2a3f5f"
           }
          },
          "ternary": {
           "aaxis": {
            "gridcolor": "white",
            "linecolor": "white",
            "ticks": ""
           },
           "baxis": {
            "gridcolor": "white",
            "linecolor": "white",
            "ticks": ""
           },
           "bgcolor": "#E5ECF6",
           "caxis": {
            "gridcolor": "white",
            "linecolor": "white",
            "ticks": ""
           }
          },
          "title": {
           "x": 0.05
          },
          "xaxis": {
           "automargin": true,
           "gridcolor": "white",
           "linecolor": "white",
           "ticks": "",
           "title": {
            "standoff": 15
           },
           "zerolinecolor": "white",
           "zerolinewidth": 2
          },
          "yaxis": {
           "automargin": true,
           "gridcolor": "white",
           "linecolor": "white",
           "ticks": "",
           "title": {
            "standoff": 15
           },
           "zerolinecolor": "white",
           "zerolinewidth": 2
          }
         }
        }
       }
      },
      "text/html": [
       "<div>                            <div id=\"b20c80ad-2e93-4028-9c36-0d5c4cd16790\" class=\"plotly-graph-div\" style=\"height:525px; width:100%;\"></div>            <script type=\"text/javascript\">                require([\"plotly\"], function(Plotly) {                    window.PLOTLYENV=window.PLOTLYENV || {};                                    if (document.getElementById(\"b20c80ad-2e93-4028-9c36-0d5c4cd16790\")) {                    Plotly.newPlot(                        \"b20c80ad-2e93-4028-9c36-0d5c4cd16790\",                        [{\"type\":\"scatter\",\"x\":[1,2,3,4,5],\"y\":[1,2,6,4,1]}],                        {\"template\":{\"data\":{\"bar\":[{\"error_x\":{\"color\":\"#2a3f5f\"},\"error_y\":{\"color\":\"#2a3f5f\"},\"marker\":{\"line\":{\"color\":\"#E5ECF6\",\"width\":0.5},\"pattern\":{\"fillmode\":\"overlay\",\"size\":10,\"solidity\":0.2}},\"type\":\"bar\"}],\"barpolar\":[{\"marker\":{\"line\":{\"color\":\"#E5ECF6\",\"width\":0.5},\"pattern\":{\"fillmode\":\"overlay\",\"size\":10,\"solidity\":0.2}},\"type\":\"barpolar\"}],\"carpet\":[{\"aaxis\":{\"endlinecolor\":\"#2a3f5f\",\"gridcolor\":\"white\",\"linecolor\":\"white\",\"minorgridcolor\":\"white\",\"startlinecolor\":\"#2a3f5f\"},\"baxis\":{\"endlinecolor\":\"#2a3f5f\",\"gridcolor\":\"white\",\"linecolor\":\"white\",\"minorgridcolor\":\"white\",\"startlinecolor\":\"#2a3f5f\"},\"type\":\"carpet\"}],\"choropleth\":[{\"colorbar\":{\"outlinewidth\":0,\"ticks\":\"\"},\"type\":\"choropleth\"}],\"contour\":[{\"colorbar\":{\"outlinewidth\":0,\"ticks\":\"\"},\"colorscale\":[[0.0,\"#0d0887\"],[0.1111111111111111,\"#46039f\"],[0.2222222222222222,\"#7201a8\"],[0.3333333333333333,\"#9c179e\"],[0.4444444444444444,\"#bd3786\"],[0.5555555555555556,\"#d8576b\"],[0.6666666666666666,\"#ed7953\"],[0.7777777777777778,\"#fb9f3a\"],[0.8888888888888888,\"#fdca26\"],[1.0,\"#f0f921\"]],\"type\":\"contour\"}],\"contourcarpet\":[{\"colorbar\":{\"outlinewidth\":0,\"ticks\":\"\"},\"type\":\"contourcarpet\"}],\"heatmap\":[{\"colorbar\":{\"outlinewidth\":0,\"ticks\":\"\"},\"colorscale\":[[0.0,\"#0d0887\"],[0.1111111111111111,\"#46039f\"],[0.2222222222222222,\"#7201a8\"],[0.3333333333333333,\"#9c179e\"],[0.4444444444444444,\"#bd3786\"],[0.5555555555555556,\"#d8576b\"],[0.6666666666666666,\"#ed7953\"],[0.7777777777777778,\"#fb9f3a\"],[0.8888888888888888,\"#fdca26\"],[1.0,\"#f0f921\"]],\"type\":\"heatmap\"}],\"heatmapgl\":[{\"colorbar\":{\"outlinewidth\":0,\"ticks\":\"\"},\"colorscale\":[[0.0,\"#0d0887\"],[0.1111111111111111,\"#46039f\"],[0.2222222222222222,\"#7201a8\"],[0.3333333333333333,\"#9c179e\"],[0.4444444444444444,\"#bd3786\"],[0.5555555555555556,\"#d8576b\"],[0.6666666666666666,\"#ed7953\"],[0.7777777777777778,\"#fb9f3a\"],[0.8888888888888888,\"#fdca26\"],[1.0,\"#f0f921\"]],\"type\":\"heatmapgl\"}],\"histogram\":[{\"marker\":{\"pattern\":{\"fillmode\":\"overlay\",\"size\":10,\"solidity\":0.2}},\"type\":\"histogram\"}],\"histogram2d\":[{\"colorbar\":{\"outlinewidth\":0,\"ticks\":\"\"},\"colorscale\":[[0.0,\"#0d0887\"],[0.1111111111111111,\"#46039f\"],[0.2222222222222222,\"#7201a8\"],[0.3333333333333333,\"#9c179e\"],[0.4444444444444444,\"#bd3786\"],[0.5555555555555556,\"#d8576b\"],[0.6666666666666666,\"#ed7953\"],[0.7777777777777778,\"#fb9f3a\"],[0.8888888888888888,\"#fdca26\"],[1.0,\"#f0f921\"]],\"type\":\"histogram2d\"}],\"histogram2dcontour\":[{\"colorbar\":{\"outlinewidth\":0,\"ticks\":\"\"},\"colorscale\":[[0.0,\"#0d0887\"],[0.1111111111111111,\"#46039f\"],[0.2222222222222222,\"#7201a8\"],[0.3333333333333333,\"#9c179e\"],[0.4444444444444444,\"#bd3786\"],[0.5555555555555556,\"#d8576b\"],[0.6666666666666666,\"#ed7953\"],[0.7777777777777778,\"#fb9f3a\"],[0.8888888888888888,\"#fdca26\"],[1.0,\"#f0f921\"]],\"type\":\"histogram2dcontour\"}],\"mesh3d\":[{\"colorbar\":{\"outlinewidth\":0,\"ticks\":\"\"},\"type\":\"mesh3d\"}],\"parcoords\":[{\"line\":{\"colorbar\":{\"outlinewidth\":0,\"ticks\":\"\"}},\"type\":\"parcoords\"}],\"pie\":[{\"automargin\":true,\"type\":\"pie\"}],\"scatter\":[{\"marker\":{\"colorbar\":{\"outlinewidth\":0,\"ticks\":\"\"}},\"type\":\"scatter\"}],\"scatter3d\":[{\"line\":{\"colorbar\":{\"outlinewidth\":0,\"ticks\":\"\"}},\"marker\":{\"colorbar\":{\"outlinewidth\":0,\"ticks\":\"\"}},\"type\":\"scatter3d\"}],\"scattercarpet\":[{\"marker\":{\"colorbar\":{\"outlinewidth\":0,\"ticks\":\"\"}},\"type\":\"scattercarpet\"}],\"scattergeo\":[{\"marker\":{\"colorbar\":{\"outlinewidth\":0,\"ticks\":\"\"}},\"type\":\"scattergeo\"}],\"scattergl\":[{\"marker\":{\"colorbar\":{\"outlinewidth\":0,\"ticks\":\"\"}},\"type\":\"scattergl\"}],\"scattermapbox\":[{\"marker\":{\"colorbar\":{\"outlinewidth\":0,\"ticks\":\"\"}},\"type\":\"scattermapbox\"}],\"scatterpolar\":[{\"marker\":{\"colorbar\":{\"outlinewidth\":0,\"ticks\":\"\"}},\"type\":\"scatterpolar\"}],\"scatterpolargl\":[{\"marker\":{\"colorbar\":{\"outlinewidth\":0,\"ticks\":\"\"}},\"type\":\"scatterpolargl\"}],\"scatterternary\":[{\"marker\":{\"colorbar\":{\"outlinewidth\":0,\"ticks\":\"\"}},\"type\":\"scatterternary\"}],\"surface\":[{\"colorbar\":{\"outlinewidth\":0,\"ticks\":\"\"},\"colorscale\":[[0.0,\"#0d0887\"],[0.1111111111111111,\"#46039f\"],[0.2222222222222222,\"#7201a8\"],[0.3333333333333333,\"#9c179e\"],[0.4444444444444444,\"#bd3786\"],[0.5555555555555556,\"#d8576b\"],[0.6666666666666666,\"#ed7953\"],[0.7777777777777778,\"#fb9f3a\"],[0.8888888888888888,\"#fdca26\"],[1.0,\"#f0f921\"]],\"type\":\"surface\"}],\"table\":[{\"cells\":{\"fill\":{\"color\":\"#EBF0F8\"},\"line\":{\"color\":\"white\"}},\"header\":{\"fill\":{\"color\":\"#C8D4E3\"},\"line\":{\"color\":\"white\"}},\"type\":\"table\"}]},\"layout\":{\"annotationdefaults\":{\"arrowcolor\":\"#2a3f5f\",\"arrowhead\":0,\"arrowwidth\":1},\"autotypenumbers\":\"strict\",\"coloraxis\":{\"colorbar\":{\"outlinewidth\":0,\"ticks\":\"\"}},\"colorscale\":{\"diverging\":[[0,\"#8e0152\"],[0.1,\"#c51b7d\"],[0.2,\"#de77ae\"],[0.3,\"#f1b6da\"],[0.4,\"#fde0ef\"],[0.5,\"#f7f7f7\"],[0.6,\"#e6f5d0\"],[0.7,\"#b8e186\"],[0.8,\"#7fbc41\"],[0.9,\"#4d9221\"],[1,\"#276419\"]],\"sequential\":[[0.0,\"#0d0887\"],[0.1111111111111111,\"#46039f\"],[0.2222222222222222,\"#7201a8\"],[0.3333333333333333,\"#9c179e\"],[0.4444444444444444,\"#bd3786\"],[0.5555555555555556,\"#d8576b\"],[0.6666666666666666,\"#ed7953\"],[0.7777777777777778,\"#fb9f3a\"],[0.8888888888888888,\"#fdca26\"],[1.0,\"#f0f921\"]],\"sequentialminus\":[[0.0,\"#0d0887\"],[0.1111111111111111,\"#46039f\"],[0.2222222222222222,\"#7201a8\"],[0.3333333333333333,\"#9c179e\"],[0.4444444444444444,\"#bd3786\"],[0.5555555555555556,\"#d8576b\"],[0.6666666666666666,\"#ed7953\"],[0.7777777777777778,\"#fb9f3a\"],[0.8888888888888888,\"#fdca26\"],[1.0,\"#f0f921\"]]},\"colorway\":[\"#636efa\",\"#EF553B\",\"#00cc96\",\"#ab63fa\",\"#FFA15A\",\"#19d3f3\",\"#FF6692\",\"#B6E880\",\"#FF97FF\",\"#FECB52\"],\"font\":{\"color\":\"#2a3f5f\"},\"geo\":{\"bgcolor\":\"white\",\"lakecolor\":\"white\",\"landcolor\":\"#E5ECF6\",\"showlakes\":true,\"showland\":true,\"subunitcolor\":\"white\"},\"hoverlabel\":{\"align\":\"left\"},\"hovermode\":\"closest\",\"mapbox\":{\"style\":\"light\"},\"paper_bgcolor\":\"white\",\"plot_bgcolor\":\"#E5ECF6\",\"polar\":{\"angularaxis\":{\"gridcolor\":\"white\",\"linecolor\":\"white\",\"ticks\":\"\"},\"bgcolor\":\"#E5ECF6\",\"radialaxis\":{\"gridcolor\":\"white\",\"linecolor\":\"white\",\"ticks\":\"\"}},\"scene\":{\"xaxis\":{\"backgroundcolor\":\"#E5ECF6\",\"gridcolor\":\"white\",\"gridwidth\":2,\"linecolor\":\"white\",\"showbackground\":true,\"ticks\":\"\",\"zerolinecolor\":\"white\"},\"yaxis\":{\"backgroundcolor\":\"#E5ECF6\",\"gridcolor\":\"white\",\"gridwidth\":2,\"linecolor\":\"white\",\"showbackground\":true,\"ticks\":\"\",\"zerolinecolor\":\"white\"},\"zaxis\":{\"backgroundcolor\":\"#E5ECF6\",\"gridcolor\":\"white\",\"gridwidth\":2,\"linecolor\":\"white\",\"showbackground\":true,\"ticks\":\"\",\"zerolinecolor\":\"white\"}},\"shapedefaults\":{\"line\":{\"color\":\"#2a3f5f\"}},\"ternary\":{\"aaxis\":{\"gridcolor\":\"white\",\"linecolor\":\"white\",\"ticks\":\"\"},\"baxis\":{\"gridcolor\":\"white\",\"linecolor\":\"white\",\"ticks\":\"\"},\"bgcolor\":\"#E5ECF6\",\"caxis\":{\"gridcolor\":\"white\",\"linecolor\":\"white\",\"ticks\":\"\"}},\"title\":{\"x\":0.05},\"xaxis\":{\"automargin\":true,\"gridcolor\":\"white\",\"linecolor\":\"white\",\"ticks\":\"\",\"title\":{\"standoff\":15},\"zerolinecolor\":\"white\",\"zerolinewidth\":2},\"yaxis\":{\"automargin\":true,\"gridcolor\":\"white\",\"linecolor\":\"white\",\"ticks\":\"\",\"title\":{\"standoff\":15},\"zerolinecolor\":\"white\",\"zerolinewidth\":2}}}},                        {\"responsive\": true}                    ).then(function(){\n",
       "                            \n",
       "var gd = document.getElementById('b20c80ad-2e93-4028-9c36-0d5c4cd16790');\n",
       "var x = new MutationObserver(function (mutations, observer) {{\n",
       "        var display = window.getComputedStyle(gd).display;\n",
       "        if (!display || display === 'none') {{\n",
       "            console.log([gd, 'removed!']);\n",
       "            Plotly.purge(gd);\n",
       "            observer.disconnect();\n",
       "        }}\n",
       "}});\n",
       "\n",
       "// Listen for the removal of the full notebook cells\n",
       "var notebookContainer = gd.closest('#notebook-container');\n",
       "if (notebookContainer) {{\n",
       "    x.observe(notebookContainer, {childList: true});\n",
       "}}\n",
       "\n",
       "// Listen for the clearing of the current output cell\n",
       "var outputEl = gd.closest('.output');\n",
       "if (outputEl) {{\n",
       "    x.observe(outputEl, {childList: true});\n",
       "}}\n",
       "\n",
       "                        })                };                });            </script>        </div>"
      ]
     },
     "metadata": {},
     "output_type": "display_data"
    }
   ],
   "source": [
    "iplot([{\"x\": [1, 2, 3, 4, 5], \"y\": [1, 2, 6, 4, 1]}])"
   ]
  },
  {
   "cell_type": "code",
   "execution_count": 19,
   "metadata": {
    "id": "ucRJ9pmJahjQ",
    "outputId": "239a3d41-dbde-4fb3-972a-d10982f0ce4b"
   },
   "outputs": [
    {
     "data": {
      "application/vnd.plotly.v1+json": {
       "config": {
        "linkText": "Export to plot.ly",
        "plotlyServerURL": "https://plot.ly",
        "showLink": false
       },
       "data": [
        {
         "contours": {
          "coloring": "heatmap"
         },
         "type": "histogram2dcontour",
         "x": [
          0.1480288623384589,
          -1.2875152179455305,
          -0.18285847419994825,
          0.4037108633367406,
          -1.262288887645751,
          -0.4585393614581311,
          0.4841131114267679,
          -0.843159775698261,
          -2.18678199848926,
          -1.0076299329883247,
          0.921442295733142,
          -1.6266398741206436,
          -0.8695438293943515,
          -0.20460692889868473,
          -0.5410804593849728,
          -1.3301518379151804,
          -0.061963664553714895,
          -1.037709437515392,
          1.105724109657573,
          0.7991356533677796,
          -0.043214020289181476,
          2.605292611005018,
          0.1890611734578033,
          -0.9528351918884973,
          0.578359723392322,
          0.43254519565735805,
          -0.5539209664369308,
          -2.0136241743029344,
          0.6060031677860197,
          1.8346234442616804,
          -2.020655501829932,
          1.2041060409259796,
          -2.207240930286436,
          -1.2844663115045023,
          0.049015653365146274,
          0.9186780372634805,
          0.48386500796087,
          -1.1571904694749615,
          -0.7946367000832193,
          0.10339128138879093,
          1.3764984597340235,
          -1.7870304138870288,
          -0.3942969661103735,
          -0.10151414692082435,
          -1.4618571628900463,
          -0.6832542589335328,
          1.9175577490424975,
          0.7414601597133985,
          -0.42699983106267897,
          -0.9021499701247176,
          0.21192830321325964,
          0.3735021104843011,
          0.14277243558759706,
          -0.4049119975610773,
          0.731841831241885,
          -1.1654237056657015,
          0.26052077578047667,
          0.6090607741151284,
          0.9630627853600663,
          0.6731994625729134,
          0.2789502892082335,
          0.1294886010012575,
          -0.413225808806272,
          -0.5647472885465619,
          0.7835911527695107,
          -1.746783886246504,
          0.1463593951779741,
          -1.8783463464045025,
          -0.6357220819087334,
          -1.1575250394183099,
          -0.5868045218300061,
          -0.4430889898824984,
          -0.9058661961649688,
          0.8518235185174241,
          0.17336063331195065,
          -1.268997256900751,
          -0.5218275086523412,
          0.4802031772877798,
          -0.5193665874886885,
          1.699493621016131,
          0.07379037594178799,
          -0.6156335443867171,
          0.5589761045179685,
          -1.171763554583253,
          1.482933618725054,
          -1.055566410224203,
          -0.2267439641319687,
          0.3308092689989244,
          0.15676627600847048,
          0.11871550495122425,
          1.0824310244168358,
          -0.4193616791160037,
          1.670159207527291,
          0.5414992538996902,
          -1.1225132174317483,
          0.7323158889412679,
          0.6393534484633617,
          0.18878012533682453,
          -0.09227367130972745,
          -0.008849079469443329,
          1.5712667615413074,
          -0.6336623036841749,
          1.1122146015857972,
          0.12737738532664933,
          0.141309305310432,
          -0.6226349870212262,
          0.40889376947921546,
          -2.223994784040765,
          -0.2305786392372886,
          0.7138186128623568,
          -1.5391753529624037,
          -0.5188258975006708,
          -0.4641930062689115,
          -0.910766907192646,
          -1.6665249188018283,
          -1.4832165525929752,
          1.2031896010132874,
          -0.7024993340397556,
          -0.08398309078170506,
          -0.7114313704276608,
          1.1837803273654333,
          0.24815673503660685,
          1.0362201981968597,
          -1.5336671388755243,
          0.3310324370542138,
          -1.4263285283958052,
          0.13142417032138334,
          -1.1808502161036687,
          -0.5555039955035391,
          -0.005032718902195779,
          -0.9637677163388558,
          -0.15933843084984048,
          -1.0126887399846387,
          0.7074080543856581,
          -0.6217333280722963,
          0.550750276059099,
          0.8435231954431508,
          0.12648005552993177,
          0.17876395565869302,
          1.2792670565248547,
          -0.7637928314676582,
          0.0620363479931955,
          0.5430166183144082,
          -1.5551362843208296,
          0.021893254075988272,
          0.05227586207524013,
          -0.09022796361677296,
          0.1764300404027299,
          -1.3749960753401123,
          -1.7200173410854183,
          -1.663053132692621,
          0.5596279565198259,
          0.4188183378169681,
          -0.7321794785117989,
          -1.367088294789145,
          1.8985691186292746,
          -1.6863491450819825,
          -1.2156391523330214,
          -1.0231126529501944,
          -1.582548831735547,
          1.198940472576502,
          0.24480661331524936,
          -1.4604266891313982,
          -0.5167121998728897,
          -0.9224168496873061,
          -1.703124260488078,
          -0.5100123652788863,
          -1.2038238487289137,
          0.2753372498493308,
          -0.7538946277989287,
          -0.0984653108774492,
          0.7428375046184589,
          -0.9089175284056052,
          1.9399303394942544,
          0.1697945402042091,
          2.2815127264460813,
          -0.125510165052253,
          0.30800971312077097,
          0.726719021671468,
          2.2764034521208094,
          -2.0183995682547797,
          0.2867329748522091,
          0.4634235620144802,
          -0.3967605817708135,
          -0.06545409120414496,
          -0.027597488091830585,
          0.043131896709987516,
          0.6069432253749735,
          0.604699660918838,
          -1.5069525334409855,
          1.9987417883324563,
          1.0235003337085888,
          1.3818873395324756,
          -0.5254115613118954,
          -1.6908895359478768,
          -0.25636644713859463,
          0.0039136908115734855,
          -0.8718783578971142,
          0.3650301210597981,
          -0.6357033353234246,
          0.4190935629740813,
          -0.6822662836252273,
          -0.09836281913446696,
          0.1750851624884859,
          0.8503975970689998,
          -1.5402988562021194,
          -1.2630468832431268,
          -1.4097304502332357,
          0.2544981599246997,
          -0.7446376059333188,
          1.1814835773419583,
          1.5924897589203908,
          0.4175084676890333,
          -0.5419696110885055,
          -0.8110777027206874,
          0.4221300751882902,
          -0.418560364358681,
          -0.164547183244091,
          0.14138427507123144,
          -0.42725032963925286,
          0.8323776633024964,
          -1.2645809849248975,
          -0.6675098408677176,
          0.6162935097163675,
          -1.4131116127145333,
          0.1396620607160842,
          0.09697149148242241,
          0.5623360751846755,
          0.4271150625994915,
          -0.2827755352945857,
          0.7966090982607665,
          0.6503844454129706,
          0.5903764933240315,
          1.4720075050184211,
          -1.019942403951571,
          0.3787611203169272,
          -1.385015821256633,
          -2.707593952576253,
          -1.2269511617480122,
          0.49290696958639457,
          1.2390584648331155,
          -0.018958405285242595,
          -0.8972127175056613,
          0.07046455488880722,
          1.276783824533138,
          0.627620175577632,
          0.8409977510184301,
          0.07062851206320994,
          0.03497834786998352,
          -1.211181121134173,
          0.10177322587727256,
          -0.4558702724129671,
          -0.07521256440275993,
          -1.4229482661872983,
          0.33117647769888586,
          -0.30325762726457806,
          -0.15063660915553295,
          -1.2504071181545844,
          -0.37401924043516227,
          1.3691765308487398,
          -0.5872477067085514,
          0.03801987822398189,
          0.7354791916991341,
          -0.49646161104536446,
          0.2242674994391662,
          0.569668277662903,
          0.5137717424567211,
          -0.31622690682297167,
          -0.6209524714514429,
          -0.26800948736669,
          -1.0414865969109657,
          1.8688191123504503,
          -0.2445462806694574,
          -0.0682563400284832,
          1.1763623896681228,
          -0.3654444633744695,
          1.2154117652366796,
          -0.18075926466470035,
          -2.4032126014329687,
          -3.07269818259489,
          -0.8880863989696598,
          0.00013896837494713812,
          0.44181032941258847,
          0.5779672062947242,
          -1.042809698607103,
          -0.5684315031069774,
          0.5099500467557941,
          -1.4665464166836049,
          -0.4100120462886674,
          0.6052181381987967,
          -1.1566375834312819,
          0.02942481419256875,
          0.03936323644469894,
          -0.776948870729039,
          -0.19527247967377168,
          1.5190381883492867,
          -2.4528786428140132,
          -0.13838832601294787,
          -1.9472452239326035,
          1.2710657647319545,
          1.309993211038915,
          -0.8369025926175525,
          -1.819920269280088,
          -0.7768196483560349,
          -1.8333013340431694,
          0.08430918751086583,
          0.5317746990012987,
          -0.5945272531487187,
          1.0333612285663878,
          1.1515371538937433,
          0.020534295572309277,
          1.1435179476802966,
          0.6414895851240947,
          -1.5672982308629488,
          2.052297677104102,
          1.3890090797096462,
          0.5620792077791157,
          -1.006873375000095,
          -0.4523878246201306,
          1.0207082156007825,
          0.8587207451972905,
          1.1112132691906889,
          1.0956011716586251,
          0.6283248395300467,
          -0.8222500528208462,
          -0.41076644424210423,
          0.39316079166925183,
          -0.867522467834292,
          1.1076666964622452,
          0.7190495819994357,
          -0.8907448546020418,
          1.667758756366309,
          -0.753657626548769,
          -0.07802888766806526,
          1.936859949614012,
          0.010550343192841595,
          1.2382695943838369,
          -0.865237270290656,
          0.6732991162739093,
          -0.5125870282142032,
          -1.538434085336072,
          0.3239336618141018,
          0.48862200649038623,
          -1.050415005487597,
          0.03161697675478691,
          -2.038376868640737,
          1.3507080375197082,
          1.0921201527572852,
          -0.2841849437222853,
          -0.9639294435770096,
          2.205888762085238,
          0.26810231836578036,
          -0.9695307311604708,
          -0.9303849265799002,
          1.4390037256945625,
          -0.3413479661824355,
          1.1606872020699204,
          1.1384670371826393,
          0.8151562617018635,
          -1.217222445520701,
          0.8028873301316938,
          -0.3555333861398925,
          -0.8507751390297096,
          -2.2439976682475256,
          -0.1883546088885071,
          -1.6169463326783322,
          -1.8224514928278674,
          -0.10418008907897867,
          -0.8242861892975274,
          0.07629822935860621,
          1.1576405938959557,
          -1.5387823361021509,
          1.2013045207158624,
          -0.11645332164567117,
          -0.02042215591644782,
          -0.4494422919209478,
          -0.5527524819008592,
          0.4693820966138074,
          -0.7191586686449586,
          0.10362379566614906,
          0.6076752246717285,
          -0.7575279911889917,
          -1.1632726315722612,
          -0.4371242215454048,
          -1.7242807043123065,
          1.1525739299693398,
          0.11922235411558314,
          -0.2950843330506772,
          1.086182167485467,
          -0.14890667129958432,
          0.5107122601236401,
          -2.3760141648300466,
          -1.1037742726830693,
          -0.25858772657640666,
          1.6232368347520234,
          0.685234290498135,
          -0.21919349011425704,
          -0.7497151994107616,
          0.7701881621120055,
          -0.19401007687436136,
          -1.4276101478896355,
          -1.6002781512826056,
          -0.7921286418778184,
          1.835070456823066,
          -0.7812537011886768,
          0.36207421876962154,
          1.254407597423333,
          1.1970157534504744,
          -0.49648316497098205,
          -0.9588198043212428,
          1.0566962807210263,
          -0.8267255466145891,
          0.9388480709613453,
          0.48011199151748396,
          1.8010937732636805,
          0.7030940344152886,
          -0.6249626316204165,
          -0.06087509560735577,
          -1.7693645813586794,
          -1.4761386037270496,
          2.032707772116386,
          0.7444645605876962,
          -0.8615485454000651,
          0.8043719878253137,
          -0.07875260944353292,
          0.3475236288331621,
          -0.390767280209601,
          -1.2638675702991027,
          -0.5278066100656197,
          -1.4458521246889084,
          -1.3300945282373524,
          -0.6186571753234786,
          1.7275815037289246,
          -0.31996791092745797,
          -0.5087267231913926,
          -1.8210167858109054,
          0.8352987076184544,
          -1.5693421309175637,
          -1.5963859088000618,
          0.5328378225167326,
          -0.5906418084209805,
          -0.10301196167746769,
          -1.072029860932915,
          0.18635660429675485,
          1.425701153280406,
          0.3984081515991855,
          0.8360010997610264,
          -0.6628534811115285,
          1.0286984842486493,
          1.8313522639063153,
          0.5724802809761729,
          1.1421257847912627,
          0.09969217563511129,
          0.7826378763373448,
          0.3361291930178095,
          0.5828688517962796,
          -1.4914225646310548,
          0.16237751521480687,
          -0.510659276063037,
          -1.0434217570760989,
          -0.5806485753698701,
          -1.5754630361759205,
          1.076374973009313,
          0.9852838686910417,
          -1.0421029185926878,
          -0.931149818301978,
          1.9328339698411292,
          0.5161702573881188,
          0.3305977134264134,
          -0.196584868517246,
          -1.5053059695640392,
          -1.2677947134287078,
          -1.3249336434154169,
          -0.21425321716913867,
          0.04213224965081667,
          0.0817799641652046,
          -1.3390813354596616,
          0.2905493255586374,
          0.1363739386750539,
          -0.7175082535471053,
          0.22228107884961743,
          1.6967058984449999,
          -0.08423658527743447,
          -0.6510849678792757,
          0.08500007400016893,
          0.8620222916625071,
          1.3198474974294947,
          0.2953246679943644,
          -0.4411205741970534,
          -0.7020327888443478,
          1.7857235240135838,
          -0.03410005214573434,
          1.0539472073382077,
          -0.05500103142518526,
          -0.5728860287868134,
          0.7108800511898927,
          0.5926495255885106,
          0.07048255610901893,
          0.2839291569678118,
          1.766869087895366,
          0.6875300225741084,
          0.8385440179160025,
          -0.41097013895524026,
          -0.44459555968024617,
          1.4324371209147106,
          -1.1971370887374362,
          0.8810749044087564,
          0.3649492592235894,
          -1.6387131442417018,
          0.3229117263976066,
          0.4315081447821993,
          -2.201834589703692,
          0.7189182416583878,
          -0.5069841310851844,
          -0.47515571175691196,
          -0.7925968544010967,
          1.3210037280509026,
          -0.7120016914798855,
          0.597271028463159,
          -0.7073248818980639,
          0.004427215907858982,
          -1.2795080740841152,
          -1.0139477719792886,
          -1.6047552055670598,
          0.4165930897412603,
          -1.703223598562632,
          0.5500129442697391,
          -0.4875091075207845,
          -0.6606123534728053,
          2.023258436625524,
          0.3306775189312796,
          -1.168673468088794,
          -0.9653403625008006,
          -1.6812184916932804,
          1.4143697716771473,
          -0.5951006753393986,
          -0.31964245344408204,
          0.5143752778473465,
          0.1160831207066673,
          0.429487516052497,
          -0.4112670305371917,
          -0.20154401472368771,
          0.3496642013044726,
          -0.6845197576869981,
          -0.43096565378315826,
          -1.3014949359902157,
          1.3833113213997066,
          0.6115566459863171,
          1.4345726980086237,
          -0.24997026186483046,
          -0.6483023211034536,
          -0.3901156923101041,
          0.5802242536922113,
          -1.9496170351254738,
          -0.43856981565458864,
          -0.5127887934208333,
          -0.941335665286633,
          -1.4428240244657748,
          -0.2721441179698553,
          0.8054027109990651,
          -0.7038208804981858,
          0.2974949253480869,
          0.5048356542881842,
          -0.33961401974473204,
          -0.5352042028957928,
          -0.9783112575835828,
          -0.007775847040470718,
          -1.4391753056921686,
          -0.9193438349258299,
          -0.6073346365752591,
          1.261476932769211,
          -1.366724221421722,
          0.36910489917907474,
          -0.031259581650494826,
          1.2111262296586944,
          0.3004605161093904,
          -0.7959333696097578,
          0.17284373519630447,
          -0.07865185637624447,
          0.8373219613089045,
          0.3870784154741141,
          -0.811884401841001,
          0.12212606898718985,
          -0.19977712229387173,
          -0.2430626196140061,
          1.4037967486237855,
          -0.6709023196590785,
          -1.2007272291498239,
          0.730570077923304,
          0.42976179304707274,
          -0.511835649818619,
          0.9944699468240953,
          0.38246835905961774,
          0.12739897478665155,
          1.0354855982369062,
          -0.04444068967735116,
          0.578359358205059,
          1.8327039596066683,
          1.4218996609616088,
          -1.6542283560110578,
          -0.797308711145938,
          -0.11198877688807375,
          0.23610811441272114,
          0.385935827033756,
          -0.4187743092953131,
          0.528128669041567,
          1.1641145258428898,
          -1.4193343140793382,
          -1.0634523082315555,
          -0.5669076260689345,
          0.7077738583728633,
          0.946664543188018,
          2.0629182860622346,
          -0.3647389843130683,
          0.4867564748797286,
          -0.49979799121945934,
          0.11824159584745565,
          -0.05398005590713847,
          2.5820484495084277,
          -0.7632835395197669,
          0.8738499260838227,
          0.8506486004489656,
          -0.8700502244868645,
          0.03230749746790533,
          0.24223728401820377,
          1.34982842536923,
          -2.3046755657392586,
          1.4663783542467352,
          1.7381666002743228,
          -0.9228171754715409,
          0.7437889350241547,
          -0.890878690084965,
          0.21625954214269208,
          -0.6482358898579055,
          -0.6569076427211326,
          -0.7445647463253963,
          0.9337380119852331,
          -0.09534760423402663,
          -0.32688986748361076,
          -1.242643794606165,
          1.6591185089428322,
          -0.9488530135599187,
          0.07849883454329919,
          0.2963954554469502,
          -0.5322851662316833,
          -0.6053258010029084,
          -0.03369150508821572,
          -1.9463060506919974,
          1.4878764089530259,
          1.143752960890213,
          0.5164217812252283,
          -0.869394773339389,
          -0.8266748962811599,
          -0.4193034507384945,
          1.8192472495698067,
          -0.8634875264711865,
          0.2142147069682942,
          1.197313089214833,
          0.09573977290932216,
          -0.21165389157858797,
          0.01027026124013144,
          -1.5845628004978052,
          -1.7080442885285976,
          0.6051274072556796,
          -0.6503753818937102,
          1.4501298083893064,
          -0.6497744407751846,
          -0.3528058030763827,
          1.2494333724143374,
          -0.4704722316381491,
          -0.9689284935762758,
          -0.6655268295076837,
          0.9470235625164841,
          0.12997743510622076,
          0.4444933343901172,
          -0.3005232844829172,
          0.5600904296567266,
          0.7088802624388801,
          -0.34119292596948525,
          1.3523227557902298,
          1.7410731277119451,
          -0.12666282340802393,
          0.6484636255783754,
          0.380202619563075,
          -1.3874393414091932,
          -0.965990748115311,
          -1.768340796192209,
          0.49351980584802935,
          -2.949571692686616,
          -0.8148493982310803,
          -0.2604650173092098,
          1.5544267559529117,
          -0.6177194334231509,
          0.5734815049747528,
          1.0659642917130387,
          0.628778719790878,
          -0.4526840458605188,
          0.20059294214036982,
          0.5250559538155005,
          0.5539423432774989,
          -0.7658054755168443,
          0.9676708745534384,
          1.0547515047902427,
          0.27297777854074323,
          0.5288309720910361,
          -1.5088942266612,
          0.5757952816635811,
          0.20256317209912578,
          0.8255508966974088,
          -1.4947484567808245,
          1.279606059219344,
          -0.6168349564692821,
          0.04668579814297082,
          0.4977462620233752,
          0.8167878686990866,
          -0.25428548334837775,
          -0.7007707005791161,
          0.6804877154599608,
          -1.291922900136523,
          0.2940739674983074,
          -0.9611510350485545,
          -0.7292463590757575,
          -1.276673617076663,
          2.637930215858548,
          0.516285214613422,
          -0.059198369649340325,
          1.1592003387861822,
          -0.5144595130434118,
          1.3668841129240779,
          -2.1140178296940015,
          0.38543933092430865,
          1.2102127438452526,
          -0.9311666270919324,
          -1.4240610540768905,
          1.2325889640406062,
          0.8026524111904312,
          0.33867245482764613,
          -1.47524198933118,
          -2.612906219891867,
          -0.046643019320883994,
          0.2807145888915359,
          1.5202440029612392,
          0.510829430450874,
          0.4486761533662494,
          -1.7438368191964035,
          0.15981267185464687,
          -0.9984944557573411,
          -1.1150590078183664,
          -0.7811662906252244,
          0.26238721296652845,
          0.46447370544344396,
          1.2419180084647181,
          -0.47163582496000706,
          1.5173097677017886,
          -1.2420092899889266,
          0.4051505904639844,
          0.8944621836226926,
          0.5640936665532944,
          0.6331608845657516,
          0.7427494882548268,
          0.20391153971529413,
          1.049282973698695,
          0.8941694128422817,
          0.3859805347478516,
          -2.374835623927408,
          -0.05035420346995076,
          0.7143989344760734,
          1.0101042196879932,
          -1.5138284104817674,
          0.22623204477585715,
          -0.6731336595013585,
          0.17734185071801217,
          0.8711467473021303,
          -0.9376404078239196,
          -0.3385762276728621,
          1.0190457584986272,
          -1.3347487073128574,
          1.0494152654033475,
          -1.419324769512016,
          2.064977087956136,
          -2.4270277656468515,
          -0.10096200250128917,
          -1.2937412060334115,
          -1.469703404374008,
          -0.8897570366689765,
          0.26131940067791815,
          -0.09269785423661026,
          -0.8057027071980253,
          0.4734518591103714,
          -0.10416845936975436,
          -0.10795701743772816,
          -0.46761284618258075,
          -2.2150951178724405,
          0.39792399743370294,
          0.8976252325388608,
          -0.699792944795017,
          2.3218908987805826,
          -0.7552151061771409,
          1.1594203499289333,
          1.2948696671526163,
          -1.3193906514932692,
          -0.1375247931954349,
          0.3888110725444359,
          -0.8251386627846877,
          0.018870737837205755,
          -1.3715427764401267,
          -0.7723700428614787,
          -0.4121682843512377,
          -1.2644394514518853,
          -0.40538431873188346,
          -1.1374643288287754,
          -0.28955613882472836,
          -0.4499223497512063,
          0.49280109154343776,
          0.8238033607412818,
          1.1291072402425937,
          0.8705788991841297,
          0.19504467707895667,
          -1.2749266562443444,
          0.9427459420676513,
          -0.3650151014555055,
          -0.8244701463922334,
          0.6206685633390591,
          -1.0247332055529128,
          0.749758866484934,
          0.08589550198696089,
          -1.4811655361674063,
          0.7048800821964999,
          -0.4561043489363133,
          -1.3033664716685784,
          -0.1437613173564359,
          -0.23458346831628574,
          0.9904687168938076,
          0.09138051167449844,
          -1.0723781053938515,
          -1.7893531241557605,
          -1.3597929267256985,
          -0.16491060908178723,
          1.0906989583562259,
          2.0914219175342317,
          1.0748894167743204,
          0.9199482911305118,
          -2.7783912161990787,
          -0.3489913553777342,
          -0.4918290118446996,
          -1.7542880960595035,
          -0.2874294141965852,
          -0.14766598835311917,
          0.31319286096311066,
          -1.2497419998844697,
          0.1649993275578628,
          -0.20611014127029484,
          -0.23669180541829918,
          0.9078269106229262,
          0.0067339857682024735,
          -0.6350025176565975,
          0.6929231237151385,
          -0.16556310309468997,
          1.0914269515427026,
          -0.09308205597630825,
          -1.116536888650218,
          0.5170421370826801,
          -0.8802977679541721,
          -0.6884294716546733,
          -0.8772521618445952,
          -0.23472639933365674,
          0.8988183787252944,
          -0.09805168853193208,
          -1.6205753307380828,
          -0.13617679631893906,
          0.13048652383726034,
          0.1440931215055609,
          -0.0033830812337648755,
          -1.3896441275919846,
          -0.27338964256458304,
          -0.6825665652702249,
          0.45346688451244976,
          0.10581182726139692,
          -1.3005383985486056,
          0.8865711796593341,
          0.5861006791358976,
          -0.45263310954654884,
          0.7205649089846203,
          -0.3273907336654959,
          -0.24199286349827345,
          1.766651031038292,
          0.38178792094670355,
          -0.14487666980951636,
          0.18796299030623462,
          1.3835435065845922,
          0.8189022781640095,
          -1.5104645151881169,
          -0.1968961912970519,
          1.4956323738472985,
          -0.645733001551219,
          0.6698750505827902,
          0.37662675654901095,
          0.7078317361491547,
          -0.3030403788069212,
          -0.0708786755817403,
          0.648308458848917,
          -0.7283642824480159,
          1.0961814169479167,
          0.06663627446837668,
          -0.6159195358769803,
          0.8513727820601995,
          0.3401809246888749,
          -0.1808387252526517,
          1.5213168465995657,
          0.40168331999096846,
          -1.1479978095427459,
          0.15459145707091507,
          1.51396889699611,
          -0.5307048297172705,
          0.14629898650477807,
          0.31353157249788954,
          0.35435897528133237,
          0.4670596592965468,
          -1.2438303183770894,
          1.9323675614086997,
          1.5727912203572407,
          0.747470382749367,
          -0.7999589885860026,
          0.469132774396857,
          -0.7658893635660939,
          -1.61648484263826,
          -0.128701106935913,
          0.7905044815350579,
          0.07873540214159701,
          -0.3426476207859241,
          0.34516574496445,
          -0.3927841792479621,
          -0.42040927578872406,
          -1.0196311076446514,
          -0.05450968605593655,
          -0.17817527008871323,
          -1.9964993492647478,
          0.08595496722294506,
          -0.9005055239016723,
          1.061178112220053,
          0.5945367367425217,
          -0.037528336688101474,
          0.210560278775944,
          -0.04379239383340182,
          -0.862122478034717,
          -0.37463055741425383,
          -0.8716254394146916,
          -0.6928180908887791,
          -1.0055833810000163,
          0.5404435442198748,
          -1.8690688261708381,
          1.858929964995653,
          -2.1541335891420124,
          0.4352429705165976,
          0.7891947424632264,
          -1.2376589193177745,
          -0.36943850576177023,
          1.291032268344858,
          0.5257006548210508,
          -0.8744647776285887,
          -1.6869779682838275,
          -0.6492946545667051,
          -1.2793303359446186,
          -0.3996735642920045,
          -0.8718728504460402,
          -0.6341419691659157,
          -0.7447555375679334,
          1.5615281138073367,
          0.31284696370093235,
          -0.0030212619079561702,
          1.433569509213086,
          -0.11788271540123708,
          -0.8784797077364064,
          -0.5094763653597286,
          -0.18677080633366666,
          -1.6149282098558748,
          1.338350557398529,
          -1.014363579840109,
          0.06953496785307976,
          0.7110122032841728,
          1.0361622731052935,
          -1.0362741090472811,
          0.003029390857020479,
          1.1675817731009157,
          0.3397609500799526,
          0.27433132586465003,
          -0.5202261216712393,
          0.8792697559253875,
          -1.6749470574008845,
          0.9855483754625993,
          -1.0865043629874247,
          -1.1949010355472804,
          0.5329516240307897,
          -1.6305302752867459,
          1.7872227613337783,
          0.46626152979497476,
          -0.7879911013704931,
          0.5684373470757197,
          0.5646572621848562,
          0.4346543555449552,
          0.6121405087450934,
          0.27839574983067716,
          0.7262434511876298,
          -2.1571282322947956,
          -1.6691944378767811,
          -0.324767215595015,
          0.04914759931769591,
          -1.422890830651062,
          1.031262912709873,
          -0.28486679615057287,
          1.6975613106675844,
          0.5675804602277489,
          0.5492463838046117,
          -1.016406792801323,
          -0.6432457061792983,
          0.31368736747549214,
          -0.2207458227733051,
          0.21022947136032197,
          -0.2822037956552926,
          1.6879835594347132,
          -1.9079181763361595,
          0.6154019714444277,
          -0.8375716815232557,
          -1.5824775148157626,
          -1.1083825848954978,
          -0.5162255128596598,
          0.13365642738193798,
          0.14863129248800308,
          0.9364499998231487,
          -0.9797387731926434,
          2.279106964573328,
          -2.212669266543432,
          -0.39600042827091925,
          -0.9817912302214548,
          0.6951154758674626,
          0.8315126050093667,
          -2.2717807333968834,
          0.3284532608799808,
          0.39805544980593904,
          -0.9886677275216246,
          1.7217591245442883,
          2.235982986295905,
          -2.0990838333948614,
          -0.3842759394560757,
          -1.2583804555641565,
          0.722424889924907,
          -1.2093918743743686,
          -0.4631265247178602,
          -0.13608472431227428,
          -1.1233464265783486,
          1.1722187964590889,
          1.1365622620652944,
          3.343685171963374,
          -1.415896081096039,
          0.26958085179713026,
          -0.9767077434505307,
          -0.37227418078116803,
          1.5241583748064398,
          1.2869291038070456,
          2.337745094122884,
          0.21487275874269363,
          -0.22006474208904894,
          0.7898760015169171,
          -0.9716474806179385,
          1.0735889515718016,
          -0.9769481418083328,
          0.13992280465093887,
          -1.883864084435459,
          0.7940285173574206,
          0.1327781028701048,
          -0.16996299512212654,
          2.0902302302742193,
          -0.702820136061999,
          -0.5147234245695175,
          1.3000623761560897,
          0.49125659666796373,
          0.840733913792591,
          1.982944936729286,
          0.7179944128625844,
          -0.6001095568383603,
          -0.5261302316283606,
          1.1421284439730912,
          1.626876062210859,
          -0.7216981668174007,
          -1.9449084438320872,
          0.9429602581047807,
          0.297592705930218,
          0.43204395356760394,
          -0.8542157038741267,
          0.2864015081743021,
          1.8976265284808003,
          -0.8010561192241367,
          -1.009041419720523,
          -0.2541538770686183,
          -1.5087057491498215,
          -0.5323588420250203,
          -0.7367139390374224,
          0.4579915855481868,
          -0.17876985412001364,
          0.8968570156100845,
          -0.6402665452411558,
          0.5414249124798294,
          -0.3983396296929659,
          0.5032614395014486,
          1.68729760037248,
          0.2960197550605229,
          -0.3190814731229884,
          1.073609104422135,
          0.8010734553090738,
          0.8508074471685537,
          -0.9841200869335843,
          1.9167150347215403,
          -2.3595992513317654,
          1.3517308462766524,
          0.2767086454228043,
          -0.480096932307186,
          1.2654312104650471,
          1.638580708114186,
          1.7433963257331937,
          1.0647699088425102,
          -1.283352771118145,
          0.36467563985371626,
          1.0057807071720082,
          -1.4641093653488562,
          0.8816984834281528,
          -0.15663847559723854,
          0.640533200083172,
          0.11208266444788301,
          0.7700731666277975,
          1.5937102189449779,
          0.4925566145924269,
          -0.9451258755380697,
          0.3629004138275793,
          -0.026303877833655506,
          0.09756589960551383,
          -0.2556574689184611,
          0.48097243924719263,
          0.27070817495275323,
          -1.2906377244204479,
          1.3807439808459396,
          0.8668919167157164,
          0.06129919613549117,
          -1.0923474445297827,
          0.33548354179872675,
          1.461390147970242,
          -0.22928844906575127,
          -1.2041370512448957,
          -0.7312486961491225,
          0.06320491142222055,
          -0.544071604186311,
          -0.7539765317307554,
          1.8323544792405932,
          0.1587133806244641,
          0.3679919965048352,
          -0.2194042732849741,
          -0.7314159980410533,
          1.4014330883364636,
          -0.8531761787593849,
          -0.9901490783298212,
          0.6043803124139209,
          0.7110745777972455,
          -0.8886937826880471,
          1.0292484317612463,
          1.1216579518170358,
          -1.2794846131376476,
          -1.540820911886143,
          1.4658110001712379,
          0.3683197013905917,
          0.6333745534428705,
          -0.1281636846428036,
          -1.41436944243046,
          1.305388906471094,
          -0.7355340247850995,
          -0.2153506622743328,
          -0.011511052190858606,
          0.6058792252548508,
          0.7000696811583771,
          -0.790874340048732,
          -0.7786535765427035,
          0.16450627474457805,
          -0.3962535043372031,
          -1.2225206453403246,
          -1.464020874012471,
          -1.0813298337788724,
          0.46388785394727644,
          0.8867306645969176,
          -1.0906106890031357,
          1.0504082253404883,
          0.6482891093761591,
          0.3506387407849027,
          -0.33223813543994124,
          1.2237944558684029,
          0.07143392835485232,
          -0.3723555514344795,
          0.5366545340729183,
          -0.8420260648251775,
          -0.9884351368611737,
          -0.2836240011758575,
          0.23852819198901407,
          -0.5725333394446371,
          -0.012343653800140516,
          1.314924247163158,
          -0.37378066655506426,
          0.8773725398381427,
          0.9126673483720098,
          1.06144160159098,
          0.5677591083919266,
          0.31517199731297874,
          0.9283011836714471,
          2.9245289878918728,
          1.1070614846933953,
          0.5403229430224412,
          -0.9862472416535819,
          1.2300232965398066,
          -1.045835911897955,
          -1.3034517404377188,
          -0.17869587079106936,
          -1.4770301507268748,
          -0.20163367815270408,
          0.7605865535746889,
          0.5437516606703635,
          -0.4213460536103616,
          -1.5283782379397708,
          1.4194338126528212,
          1.442630521263848,
          -0.8320678107609026,
          -0.42375620881819454,
          0.3136731797368338,
          -0.7525836319006929,
          -0.5881600066666961,
          -0.3439039757843757,
          -1.0825261810161455,
          -1.195191722212146,
          -1.1581490739121851,
          0.231896912561232,
          -0.3068311056532318,
          1.1672842425561067,
          -0.35676486666312207,
          -0.17065045725939276,
          -0.4259525827780306,
          0.09214715559466176,
          1.1849061947806865,
          -0.2920330072011102,
          -0.800572165578214,
          0.7181191582396167,
          -0.007582484354792566,
          0.42507070848630574,
          -1.7560164369723679,
          -0.6153463916474485,
          -0.1539937840794853,
          0.46790763890197545,
          -0.19694791951515328,
          1.5826434192164505,
          -0.06750968677348351,
          1.0569208272900406,
          0.8091980934396312,
          0.9582765327173479,
          0.27909280954171795,
          -1.4085103590840409,
          -0.5854684230611447,
          1.6045634408587797,
          -0.48688490706116666,
          -0.15614674948391408,
          -0.7681004171872192,
          0.5161990979970529,
          -0.20864222429149618,
          0.8376882135026941,
          0.30942741259291767,
          -0.8538791887333246,
          0.3816119226956093,
          0.15395563722254335,
          -0.8190781671217006,
          1.0030567976327451,
          0.5284609082868729,
          0.8293438849172176,
          0.991028267755005,
          -0.11690025771345891,
          -0.1408257911474897,
          -0.9292071687232063,
          -0.30117455930298115,
          -1.3712622902906098,
          -1.2251152533339498,
          0.5750955681196042,
          -1.05495820919752,
          -0.7185258352062508,
          -0.1766887406007266,
          -0.7105548568276095,
          -0.6857430444458958,
          -0.7062348491329382,
          -2.305087916710197,
          -0.715877085655772,
          -0.42335508491688,
          0.08881497015742093,
          -1.2576033599026977,
          0.7192887726715341,
          0.21834863556567566,
          0.9498960688366734,
          -0.48312232455250176,
          0.8821086996032889,
          1.0010773663037043,
          -0.26703951283403254,
          0.19480099866892409,
          0.3197389155149078,
          -0.11748634359529628,
          -1.054176059018308,
          0.8447524330656552,
          -1.3871613297485228,
          0.1495464083169116,
          1.7646720253456796,
          0.5093620390128862,
          0.16530165366462835,
          -1.4162666548406184,
          -0.4339962600965978,
          -0.9362937933396976,
          -1.070410217119385,
          -1.1923378195496497,
          -0.04481472319837192,
          -1.6180433457365164,
          -0.4028193503853765,
          1.5199006579847785,
          0.7846797652657421,
          -1.3463228920770531,
          -0.9801582720526091,
          0.4079444430134945,
          0.7959395254628555,
          0.7287984742482344,
          2.1543265884223493,
          2.213582183953338,
          0.008550259028323045,
          -0.5392110811391208,
          -1.7156053059143326,
          0.4866096291675463,
          0.11529852579123633,
          -0.8109352243320953,
          -0.765407306980395,
          1.5855999726017498,
          -1.754353560479823,
          -1.5183575678087111,
          -1.314608644730045,
          -0.6266345947100626,
          0.3164450502293807,
          -0.3978927648692914,
          -1.3603900620935219,
          -1.0416853314997103,
          -0.4989286130966995,
          -0.34100554193009924,
          0.4240368399397635,
          -0.05164030918002655,
          -0.30218679816226734,
          0.030024931602467157,
          -0.22658503589840034,
          0.05764980366946561,
          -1.1903790708363233,
          0.2669232145693236,
          -0.8647699910116842,
          -1.1082551234722744,
          -2.7870220198556996,
          -0.13756833976924537,
          -1.8068374782999315,
          -2.0060941926541056,
          -1.1458860537806392,
          0.1824545011374084,
          0.7969469066083357,
          1.246054999089588,
          -1.2690516365385711,
          -0.8628982027481779,
          0.15244516629805607,
          -1.277641111627485,
          -0.6022983089421612,
          -0.4769897931665339,
          -2.1197700408435503,
          0.24371875471260518,
          -0.39069357217197304,
          0.2386433529504864,
          -1.5090799982836602,
          -1.5473490787063242,
          0.02243116742506666,
          1.0678759821286772,
          -1.182158232207441,
          -0.3171657852913656,
          -1.0842744216886302,
          -0.2950310232532874,
          -1.2297787653992507,
          0.7067570071593517,
          -0.8643168753567936,
          1.0784224442089094,
          -1.6387439543668019,
          2.555150278149875,
          0.30381259982553427,
          -1.7313173864646592,
          0.6247744817600518,
          -1.168518572712844,
          -1.1655274932775777,
          1.7410710599981474,
          0.4041714213651153,
          -0.5412606213253425,
          -1.6882639033616798,
          1.222263353321922,
          0.3414449328375467,
          0.14742901483201432,
          0.2730972594712443,
          0.7076630576689035,
          -0.21232812409048923,
          -0.9770959394023879,
          -0.6985547684104599,
          -0.11711271097483839,
          0.089457740985955,
          1.411113174024357,
          1.2491895617840258,
          0.4148316531549647,
          2.3625050469265183,
          1.0360461449001217,
          -0.22860407736901428,
          0.6045762207642953,
          0.8072164932253906,
          -2.109347408807429,
          2.2386750806265554,
          -0.3750980239788588,
          0.5088102310055591,
          0.30219978919035184,
          1.100067503248872,
          1.0720806135087768,
          -0.11664637379806811,
          1.454668521749969,
          0.4674410168400072,
          0.9119410774872796,
          -0.8844089441511853,
          -1.303296393388528,
          -0.6190887485511706,
          1.672369601262926,
          -1.2898607248515048,
          -0.3958491660903483,
          -1.092100586646041,
          0.3354890543262156,
          0.04739596702944413,
          -0.6314915877667105,
          0.8102735980347026,
          0.0597496982670309,
          0.4772570290234445,
          -0.17380078079921277,
          0.6908837898659553,
          -0.3032195339674292,
          -0.17318359268423636,
          -0.5979118698982161,
          -0.605463564691262,
          0.2862620715582114,
          0.6154800962465474,
          0.7435690525488595,
          -0.04297581629595955,
          0.1614367147666435,
          -0.8527943737459047,
          0.8145825591716341,
          0.24866483290352318,
          -0.8361121177141047,
          -0.28859278811637123,
          -0.6685846539316614,
          0.17478421708054429,
          -0.16303962530772012,
          2.1573549663135263,
          0.5974135703685431,
          -1.37996001271371,
          0.31595820382032436,
          1.5208251022271666,
          -1.8073590080292297,
          -0.253990099329372,
          1.7906511849041846,
          1.0442905496971155,
          -0.14851481691826474,
          0.6318608786981266,
          -2.3027873186928547,
          -1.7458767823974148,
          -0.13727865862030825,
          1.6833931009778986,
          -0.08884066111400538,
          0.40548567424972387,
          1.817903073713991,
          -0.05241676623119011,
          -1.068683125071256,
          0.5957614893410139,
          -0.003723988558237739,
          0.28864317724158683,
          2.424008386850177,
          0.018724487277195587,
          -0.5868194336942522,
          -0.12147323453236265,
          0.3309181825417097,
          0.043728367156143685,
          0.07055588288013957,
          -0.12262851697926015,
          0.5618534081650393,
          0.4874899618597707,
          0.6207116378034703,
          -0.5023941495359886,
          -0.06910618527896652,
          0.4770437218556557,
          0.6050528551100582,
          0.6187885653738284,
          -0.016054452560646183,
          0.07190375467068415,
          -0.4344406567517723,
          0.38273969984194034,
          -1.0302893403386721,
          -0.5797762663358514,
          -0.1631931741421667,
          -1.0575689642775308,
          0.020477046070835753,
          0.9502221486987732,
          2.68483627728429,
          -0.764820490782647,
          -1.2395493046837252,
          1.187204887542397,
          0.6082312466078897,
          -0.17563383214928796,
          -0.36888917025659285,
          -0.10773130733434778,
          0.4674372504438301,
          -0.5187171240785767,
          -3.544652213022134,
          -0.8881822513639986,
          -0.4502074749351506,
          0.41871958858216773,
          -1.7819669360791495,
          1.8115372716965317,
          -1.1754846104541783,
          -0.18672618780297393,
          0.935293681285579,
          0.9230314204575922,
          -0.04202878813600817,
          1.168031152978213,
          1.1855936334116275,
          1.5776699796777183,
          0.5708159500978361,
          0.11365224735811956,
          0.42430753853521497,
          -0.8142405708975382,
          0.7033148110446145,
          0.6355960746242011,
          0.8373489441128191,
          -0.28312912721271066,
          -1.237041966510347,
          0.26575074352568956,
          0.18810082186439234,
          -0.05477674185653209,
          1.0031339792492453,
          -0.8987975165283303,
          1.1519467475172092,
          0.1042002226963249,
          -0.5979736722790847,
          0.6847315642577195,
          -0.34425056244270236,
          0.5619046377561668,
          -0.7268084670435534,
          -1.250853877797013,
          -1.0519445976569914,
          0.40247908249279657,
          -0.34042964553027566,
          0.20855478976615396,
          -0.2203265245713024,
          1.5546864831383835,
          -0.9951799543402223,
          0.7191007264302431,
          0.06384415354734696,
          -0.6689353115614826,
          1.0320288727950775,
          0.7810901724368728,
          -1.062027659206275,
          -0.3888560314903775,
          -1.7246473517330225,
          0.3873549589040288,
          -0.9607049725811304,
          -0.1469689666329648,
          -0.7744997417387512,
          0.0925814569122735,
          -2.1632155718645527,
          -0.4730896557013702,
          -0.7778138420560008,
          -0.309316370149734,
          -0.14502899901407024,
          0.5587754881666938,
          -0.5337621941729053,
          -1.345540566227295,
          -0.6982806422962617,
          0.7485739605857609,
          -0.03824172157321706,
          1.7037048968649395,
          -2.520284824042226,
          2.2596192592944404,
          0.9329394241892568,
          0.46411146444535645,
          -1.3693827075376486,
          0.6124590280768104,
          0.11639360736674138,
          -1.2702192074389955,
          -0.45185745428768626,
          1.8788184346299834,
          -0.835927246320718,
          0.7606021175233162,
          1.7087479769705436,
          -1.994500179830392,
          0.4904321816398657,
          0.42758868474569006,
          0.840991872160798,
          -0.7558530593403597,
          -0.4861635012082069,
          1.1884934536830816,
          -0.7867506731447648,
          0.9662779434483748,
          -0.05265440135921449,
          -0.8835414772921679,
          -2.434396197971229,
          0.425274456279991,
          -2.1130703738239767,
          -1.831745782747111,
          -1.091807855045457,
          1.6050306775660617,
          -2.231738488022153,
          0.9913948282489414,
          -0.06337448308160397,
          -0.3466891598611211,
          -0.9760633226056143,
          -0.2600528903064214,
          -0.49225390057478136,
          -0.0006067078163152808,
          0.8456173500207744,
          -0.4345793092641195,
          1.3627219572574056,
          0.06830208674030891,
          -0.9091389308443518,
          -0.47796487649200425,
          0.41049284937348957,
          -1.739432495914944,
          1.6860005823961781,
          1.617320144125651,
          -0.18425020419433255,
          2.489094996934871,
          0.6266591088032403,
          -0.4238017571216724,
          1.107889273468065,
          1.1995906929991773,
          -2.319677744546164,
          -1.1579027199677274,
          0.5477031600479791,
          0.16679122648756023,
          2.3928175466619277,
          -1.3772117104741903,
          -0.8872088169143554,
          1.6925354474814227,
          0.08672383900781794,
          -0.5656477414543146,
          0.6314341484458995,
          -1.1660348385598387,
          -1.0455487839743935,
          -1.2333750196453483,
          1.5371699849269944,
          0.6020249744820233,
          3.806861047083141,
          -1.259196117297775,
          -1.1025549302971989,
          0.6258056753944505,
          -0.2808555750384066,
          0.16825369215984395,
          1.8889290285688758,
          -1.8579290564873978,
          0.6816993875545952,
          -0.5936143325929,
          0.670686174185279,
          -1.0035110071745088,
          -0.905664291379385,
          -0.2681266915729099,
          0.11925988784953083,
          1.3586851914403772,
          -0.31114485198963865,
          0.4529759525446663,
          -1.0009488901512704,
          -0.5677796294640955,
          0.3571537835068639,
          -0.02240367679865532,
          0.7569388583419389,
          0.03969193525171409,
          1.5220841239836427,
          0.6418875904340713,
          0.5456676179246629,
          0.25166256352566274,
          0.7075423327335733,
          -1.6300020658629653,
          -1.2250744957843205,
          1.6914046553315227,
          -0.12787636948152795,
          0.48771795539508583,
          -1.0931235540848467,
          -0.24091467069148534,
          1.1360056232670157,
          0.7680912499410603,
          1.9681109826737329,
          1.2376460840841308,
          0.14198507335826127,
          -0.09898368744485132,
          -0.3445133266216116,
          -0.2436767713893479,
          1.082987947360712,
          0.9310044511956463,
          -1.5118154047562278,
          -0.806616080516212,
          1.4151942266291566,
          1.8398724569607927,
          -0.3300886748739356,
          -0.04679583124615491,
          0.7044482646740479,
          0.21589447872635725,
          0.18073135707003618,
          -1.4884468221789244,
          0.027964523868400794,
          -0.3605584764283836,
          -0.3264212773075608,
          -1.1693476061095054,
          -1.4905529794004722,
          0.7108995433418659,
          0.20428267939224212,
          -0.6089900347816137,
          -0.27705973176919046,
          0.8245960372758321,
          -0.43735453163441534,
          0.7459926658727478,
          0.003687918108166166,
          0.2032352693098371,
          1.1603694097867006,
          2.02705697626568,
          -0.5039957380640329,
          1.3126675769283573,
          0.1555321032396571,
          -0.9659878461323478,
          -0.8740055732199797,
          -1.983661891776047,
          -1.0674261389506081,
          1.6349338413239052,
          0.4929852882669919,
          0.04108315222624836,
          1.21875193013651,
          -0.2732247730929806,
          -0.17602207171204645,
          -1.516107040652596,
          0.9414064280486244,
          1.0530435557992472,
          -2.41646888859131,
          0.16748324680984858,
          0.3296680827966934,
          -0.0992932237051683,
          -0.06523039236035554,
          0.32287079866024077,
          -0.5995079167595532,
          -0.628151351773235,
          0.29573874031230396,
          -1.351538127029495,
          -0.8266363774479727,
          -0.3619160017105642,
          2.4100582335582565,
          -0.467401479871923,
          0.6496197886587659,
          2.2949945449836764,
          0.5089447279103685,
          1.318485194031791,
          -0.7059855869689058,
          1.382144500749607,
          0.12397131855214757,
          1.8151582460019513,
          1.371323482808007,
          -0.8816895648147305,
          -0.2138421564051796,
          2.277061658420013,
          -1.4168279263905383,
          1.5460356186115518,
          0.13022976821780416,
          0.9860598755682023,
          0.6034144392374066,
          0.3531416496951977,
          -0.10995547429250072,
          -0.3294495170863548,
          -0.8607570601986975,
          -0.21655846686326555,
          1.063592030650842,
          -2.4984537469386203,
          -0.9466383068060519,
          -0.23659700546043513,
          -0.07151556383030572,
          1.597921423058232,
          -1.2181057983742871,
          0.890755091913015,
          -0.7154956796147741,
          0.4988159371945984,
          -0.5075984433082081,
          1.098103732555041,
          0.7137784986693163,
          2.0901849754104616,
          -0.5206754202772311,
          -0.7426209601685827,
          -0.43308075043804195,
          -1.3494250022684509,
          -1.9079089414420398,
          -0.2554451349855991,
          -0.4467517577808453,
          0.655006167825746,
          -0.24166160621467964,
          1.0129497803996457,
          -0.6012784682540897,
          -0.9036899679854464,
          0.39282152183797414,
          -0.4421864307633547,
          1.3571353555875814,
          -1.889205330394344,
          0.8204370396535885,
          -1.2581305370702904,
          0.2605525159350164,
          1.228534828645888,
          -0.4089240802238288,
          -0.15010752377727307,
          -1.1731475963040159,
          -0.3155016597637944,
          0.44619433787188817,
          0.046258877761657546,
          -1.1424739491733154,
          0.8953892965859881,
          -2.053044364202344,
          0.4495567245582939,
          -2.433778637643369,
          -0.06087719494394235,
          -1.9782782678955502,
          -0.18135061173645506,
          -0.6048392153960284,
          -0.06304967607550069,
          -0.44056163248531993,
          -0.3269296384825061,
          -0.8406483708590784,
          0.01728115402253707,
          -0.06676076788387243,
          -0.8426170161209129,
          0.2369391845654903,
          -0.7576379749379208,
          1.2236244077796257,
          2.4216148949088154,
          0.2447594174284832,
          -1.2732250731242545,
          0.6590404297916936,
          1.2083696065923732,
          -0.5075657000266637,
          -0.48472252636929036,
          -0.9612978005679579,
          0.633362378912036,
          0.6486450520273341,
          -1.1623504534102889,
          -0.15585415196939587,
          0.03133713462127287,
          -0.8948651878838692,
          0.3648309302707056,
          -0.29226678885300067,
          -0.5864816580234288,
          -0.8374130578496332,
          -1.8062886046950892,
          -0.5947373628510185,
          0.35674702045916307,
          -0.3763377194189833,
          0.0691614183920624,
          -0.7260216201124818,
          0.08111316708422803,
          -0.8812263674470866,
          0.2834572583591029,
          -1.4253061480184221,
          -0.4850870868970867,
          0.7556568536270979,
          0.6856069416547904,
          0.758314600456736,
          0.48217025535202035,
          0.34271160180552723,
          2.3177631150723874,
          -1.61843008243598,
          1.731412728449566,
          1.2211143996044032,
          0.8913434251086325,
          -1.1199162114037735,
          0.6298491458452997,
          -1.8865762778503596,
          -0.5920577758271853,
          -0.4015243963846122,
          -0.631007893357092,
          1.0210440421536187,
          0.7093521755373801,
          0.9812770838847744,
          0.7957455572090315,
          0.051057508954822625,
          0.47701977141015534,
          0.11808508443769569,
          0.6778096132540813,
          0.27383748515926426,
          -0.38082192347478266,
          3.645930129502064,
          -0.13654489052391425,
          -0.07284764624567201,
          0.43834638761324907,
          -0.6854635714185368,
          0.4337984605179328,
          -1.2452960718813157,
          0.3870480075145461,
          0.6139576039553925,
          2.2659576750885497,
          -0.16385075830061843,
          0.5836923643499999,
          0.7266654476539277,
          -0.8113997886442273,
          -0.7704577076100821,
          2.3675751624628996,
          0.6102488830316514,
          -0.35845308447304125,
          0.4032490486762627,
          -1.0443637214098802,
          -0.5784037493975687,
          0.18665986155467335,
          1.3191727493302912,
          -0.4005837536463645,
          1.2523189971338191,
          0.11965202908657518,
          -0.5407838251961521,
          2.205584203059967,
          -1.3254992958817067,
          1.2018088968238125,
          1.4668449425588606,
          0.5634541703300954,
          0.5620071234563561,
          -0.8403720843021587,
          0.203755682329742,
          -0.5483430765722971,
          0.6608878641866109,
          0.6317700673899962,
          0.7286029972388267,
          -0.7471784659275111,
          -2.3299024338117706,
          -0.29606201601603777,
          -0.9316190090591522,
          0.1713646106141802,
          -0.08593360623941543,
          -0.5100665131486141,
          -1.4570678032903595,
          -0.2069022445543337,
          -0.5016274870966065,
          -0.13443923973263056,
          0.3846287170735605,
          -1.3231579980522488,
          -1.4873592232420478,
          -1.1371269654753362,
          -0.15445094953143554,
          0.2527592049827771,
          0.32906812838771743,
          -1.02130438491698,
          -0.5536585035572348,
          0.4975542138621591,
          -1.1768550295551674,
          -1.2471245206032529,
          0.278331254499594,
          0.16865454435642938,
          0.41735569570555564,
          0.44770686566106327,
          1.3497112127609505,
          -0.8091900228220494,
          0.657290795637467,
          1.2044053650935902,
          -2.008017075682989,
          -1.8818237890551313,
          -0.5948701347821351,
          0.3625510632826287,
          0.33886001754361944,
          1.3634196847104694,
          2.550606204840357,
          1.9581107364875783,
          -0.6632074170551765,
          -0.06825133988864815,
          0.27201588226378953,
          -0.09276022559136778,
          0.08217863685212329,
          -1.392823386971541,
          0.1488855336714514,
          -1.308549247083607,
          -1.3695985893231355,
          -1.754273332080257,
          -2.632335618296278,
          -1.0663213808276557,
          -1.6766310018176493,
          -0.713681494893409,
          0.30569187955986016,
          -0.674538624583844,
          0.379175984567858,
          -0.9801065840324793,
          0.7159018632159739,
          1.1428837569888675,
          2.661278028913295,
          -0.8724587665192206,
          -0.08871299400204218,
          0.9647177228681293,
          2.518841704213469,
          -0.04011798405941823,
          -0.16647348266792183,
          1.054809322515274,
          1.3566726896245176
         ],
         "y": [
          -1.6898113469404095,
          -0.16881465672446772,
          -0.5313285939574584,
          1.4607437199540787,
          -0.4713661150786294,
          -0.7911286433863607,
          1.2746215548714388,
          0.5107203243045383,
          0.20023508673462428,
          0.379886397349694,
          -1.7239549151434086,
          0.0010952152817737515,
          0.2985860745538207,
          -2.424461019096493,
          -0.23563708369468991,
          0.24137825510686853,
          -0.31887085093078654,
          0.9952011346290213,
          -0.7157564292506026,
          0.05917999566600159,
          0.013857239018990896,
          -2.0613644475292427,
          -0.4301665338295219,
          -0.05497792639418662,
          1.4380945334532371,
          0.38458263219762256,
          -0.11331269261388822,
          -0.2600613602944977,
          0.9207935182506616,
          1.1351572863630848,
          0.6335954316313163,
          -1.1757034116306604,
          0.5115848674531508,
          -0.4034340159796634,
          -1.549400594841042,
          -0.2211252663631052,
          -0.8108888494749177,
          -0.1566806260232311,
          -0.09627595693923127,
          0.10139257412105318,
          -0.028060120461590374,
          0.8140727705434281,
          0.2662925103899955,
          1.355377729990865,
          -1.3878619452689493,
          -0.9483670312526525,
          0.8446472161166514,
          -1.195467238745782,
          0.536759695374409,
          -1.3498992879482536,
          -0.2416147138410577,
          1.1263221096174763,
          0.19316231005726753,
          -1.2952090909452991,
          -0.7210332483182124,
          -1.1551608675964888,
          -0.41679399927587024,
          -0.08775678438471131,
          -0.736808260123109,
          0.5190946281922403,
          -1.98308224376063,
          1.414447131928929,
          1.3210240059995653,
          -0.6528081660098749,
          0.681712227857926,
          -0.8502064980097043,
          0.8337481200192366,
          -0.8086943249054488,
          2.0164979383449273,
          0.06912603053479847,
          0.30702715218674687,
          1.2226979207721438,
          -1.22081940950965,
          0.7149447854629367,
          1.8957659390897255,
          -2.3384984554042387,
          1.0957245554240007,
          0.14635118544048628,
          0.5260918594226385,
          -0.126602080184772,
          -1.5011291641446938,
          -0.998197112270433,
          -0.179102415836884,
          0.7038592302434293,
          -1.5169547364785576,
          0.328622168069624,
          0.30551400515511784,
          0.8264664227200574,
          -0.8684193588489766,
          -0.44727488704999374,
          1.0592108353504617,
          0.9540024863068968,
          -0.4408500104538747,
          -0.22313419567635664,
          -1.0404272011858189,
          -0.0434716136837869,
          -1.6202956949136023,
          -0.9395049896696398,
          -0.3279913050271425,
          -0.29633442148823463,
          -0.08906927901845868,
          0.8196767219655686,
          -0.25749047315143525,
          -0.05856592312072534,
          0.9844528204841522,
          -0.778116652367339,
          -2.299978446759496,
          0.3619943275086986,
          -1.0000209629415893,
          -0.9351840478173242,
          -1.0070122493113411,
          -1.3050034269943485,
          0.6335298456944797,
          -0.4579594801962101,
          -0.16181473334978763,
          1.568930602325808,
          0.40325357797211897,
          0.28219998839996596,
          -0.7718666849275158,
          -1.2823657150629908,
          0.9657254433280144,
          0.43442730413211844,
          1.235083423456109,
          -1.1605591044588208,
          1.2511176027207178,
          -0.71435857349343,
          -1.4692518620865893,
          -0.9599744491612517,
          0.7255104599642379,
          -0.9762872941938525,
          -0.04739278494430694,
          0.43946517608637575,
          -1.458820838008416,
          -0.4316377009629152,
          -1.5050718857621959,
          0.3930357233747296,
          0.7116258466891271,
          -0.19983535604274044,
          0.022266757731099387,
          0.055885135952295516,
          0.3052994513589835,
          -0.43578560480302414,
          1.2325266536362471,
          -0.4417364286510441,
          0.04069546976233585,
          0.27804421783560557,
          -0.8925274114162358,
          0.24294177908208558,
          0.8255276539238801,
          0.36578574934399405,
          1.1675585621358906,
          0.20628655343162222,
          0.3376320812234041,
          -1.992798352519728,
          0.974021695137915,
          -0.7286167401453008,
          0.9573139958635565,
          1.6635714840749534,
          -1.0788446240809026,
          -0.08704478956251065,
          -0.16384326301949645,
          1.1359113918163113,
          -0.27900297231366233,
          -0.6947922286659716,
          -0.5071056596083167,
          0.24398554616201262,
          2.032140280997366,
          1.2374529071710907,
          1.02859547938084,
          1.4326333955925772,
          0.10555460725562153,
          -0.2638767969861241,
          -0.33921617521680664,
          0.4439665186307287,
          1.4362987741959496,
          -1.822647410063486,
          0.30916823835529683,
          -0.03961916195793955,
          2.4406224087025126,
          2.1504311159905862,
          0.8365814784185626,
          0.459065627421979,
          0.35191388385300715,
          -0.10360776720766206,
          -1.0028736432460081,
          -1.2379504074351628,
          -1.0200382558213474,
          -1.5209205580137959,
          -0.25905047820086846,
          -0.9791165588426395,
          -0.8193165836712009,
          0.4512232126020393,
          -1.107088074696522,
          -0.07157177455672127,
          0.12999739576808805,
          0.34584660466420547,
          1.7483989802012543,
          0.4497413703182265,
          -2.163651892319219,
          0.10638153383950855,
          1.4574767350463818,
          0.30547819148546623,
          -2.258070874960203,
          -0.6788196976095278,
          -0.6134665215929797,
          -0.7085738262330166,
          0.31096982801743744,
          0.17957640359276095,
          -2.9615570006677037,
          0.3286570786499425,
          1.1807904008802743,
          0.7263576719703824,
          -1.0396162755929004,
          0.1496082586020834,
          -1.5617800453296518,
          -0.9670135830759898,
          -2.7401424042155575,
          -0.18300150057833264,
          2.3003922030851203,
          -0.22511977921511783,
          -1.7783156795777346,
          -0.3347136812365261,
          0.2905751045186563,
          -0.8924480511582449,
          1.3473414535781747,
          0.03229009475546663,
          0.3956516499238913,
          2.352449906027667,
          -0.12398992687187035,
          1.0681744758704448,
          -0.758085142981045,
          1.8673871520132124,
          -0.599631696827022,
          -2.907113229618981,
          1.2595755367453711,
          -0.5634956812040572,
          -0.10458339447537,
          -1.349057726041964,
          1.312454158673379,
          2.26086930633914,
          -1.6711272350714799,
          -0.4709165627419969,
          0.4550966987825248,
          -0.4022250020338667,
          0.24699853036157907,
          0.7526773553246425,
          -0.8693567466240635,
          -0.25276588412579926,
          -0.06518656113350427,
          0.434616428887271,
          -1.0814412107741562,
          0.657549192457042,
          1.357916137776924,
          -0.38455951745459566,
          0.23486911194151866,
          1.268920468949413,
          -1.6007435240669852,
          0.8369596510291107,
          -0.25354846087311167,
          -0.22366822768922304,
          0.4505406239198191,
          -1.0764615742811716,
          -1.5116160592757537,
          0.45257729352190257,
          0.2634909910521974,
          1.7624511201274116,
          -0.6148749821910768,
          -0.8401666643164978,
          -0.6375310730097205,
          1.0317296522705013,
          -0.2529754670368928,
          0.43814956690265033,
          -0.10520705368307896,
          1.311600396870523,
          0.2504366432716069,
          -0.3169669887088941,
          0.24731481343154224,
          0.27472330476500334,
          1.107734007670374,
          -0.2192866551455752,
          1.1080424667662119,
          1.002955546440864,
          -1.0640071188315303,
          0.7500540577061575,
          0.07317626576566169,
          -0.2683680953522057,
          0.9012236826877624,
          -1.8048682281002606,
          0.4351223857420717,
          -0.04903400223837012,
          -0.6373744676411202,
          0.25168617943561616,
          0.403239299754179,
          -1.1755279926737332,
          0.854627375891503,
          -1.197890922009743,
          -1.1876819498126803,
          -0.06413485817547668,
          -0.31973393556609336,
          1.5742767612250697,
          0.7419607983537521,
          -1.0990791491603096,
          -1.0655313724573892,
          -0.42637728050668233,
          1.7012759830536826,
          -0.07645309253221913,
          0.16687241875950096,
          0.21898524350644089,
          -2.0861256913038053,
          -0.40624681619104935,
          -0.11256541299215872,
          -1.401941309580566,
          0.039499328287851576,
          -0.10491849141661014,
          -0.2280609568369132,
          -0.5834080737815053,
          -2.0762657062182903,
          0.9350048229485642,
          -0.0013669999570168922,
          0.40676117768333336,
          1.547535997168714,
          -0.3981304534218566,
          0.8924420699718137,
          -0.6109340879298,
          -0.8759223396213524,
          -1.0745781989807304,
          1.8223028309693985,
          2.0745928619665506,
          -0.3213688550876999,
          -1.5561429945198135,
          -0.47763034255333897,
          -0.867071869472971,
          0.10200244129441645,
          0.8944419089463066,
          -0.0764693110862535,
          1.3074539584093345,
          0.46224913428275394,
          0.16861650552780502,
          -0.06572496115406569,
          0.30912302448807005,
          0.6707920795653814,
          0.6201792696982332,
          0.6598206919945008,
          -2.3088760866187354,
          0.5215218991497698,
          0.5831203145547487,
          0.8782746039539139,
          -1.6516417701478676,
          1.4935249150537235,
          0.17754194800023756,
          -0.1721752035552698,
          0.08451312271687611,
          -0.4977553930213586,
          -0.603341504568881,
          -0.8598131425766921,
          -0.7994037543870565,
          -0.4857050952803687,
          -0.5756101305854934,
          -2.096721798532584,
          -0.08382548138762189,
          -1.7395402028212223,
          0.3276547807476214,
          1.164270049332343,
          -1.7079502346454731,
          0.15015585999162465,
          -0.6748196112538488,
          -1.4191322741187318,
          0.3151035799690157,
          -0.6614137447954752,
          0.531398852013666,
          -0.09676577886902649,
          -0.5779387080903673,
          -0.6902582598937138,
          0.06140956708128623,
          -1.4148121086242642,
          0.7961913900451102,
          1.3644788597112556,
          -0.0421807465027994,
          -0.0014271702556687468,
          -0.6107192408612462,
          2.0798032114604075,
          -0.16224142278401393,
          1.838186842093297,
          -2.3498351694476054,
          -0.03851429165586679,
          1.060159552288026,
          -1.002433227722207,
          1.1964833099319367,
          -0.2099059114510543,
          -1.4426566266710261,
          1.6995200367183434,
          -0.3567991590486749,
          -0.6355819148517762,
          -1.9378940564526093,
          0.2851862109190589,
          -0.2920865639484891,
          0.8107126262726936,
          -0.4516835205365405,
          -1.1209871730903838,
          -0.17862477982454023,
          1.3488134700745293,
          1.267215320001578,
          0.17152958651206746,
          -0.22288609402699697,
          -1.2361931122232153,
          -0.5944585932729205,
          -0.5261519211062344,
          0.1309139712128216,
          -0.07360357809256779,
          0.48633001141271026,
          -1.3166077038934891,
          0.7487756868644537,
          0.9742763468474342,
          0.12416479615553437,
          -1.1310363850699434,
          1.129233182741617,
          0.6208245647012047,
          0.8981373846961831,
          -0.655400277975507,
          0.02172810661402673,
          -0.7665509826328111,
          0.04955013627413614,
          0.6720398722182072,
          -0.6379019141077357,
          1.0908325592831598,
          -0.024014392368033443,
          -0.09996618750958193,
          -0.15928148552359342,
          -0.8721449345489078,
          0.18823926113151046,
          -2.6025750108684678,
          0.5768967470924569,
          -1.0181440484509394,
          0.9893665671722273,
          -1.6550681979730537,
          0.7373285522819263,
          0.5428236441345292,
          -1.0909667937424927,
          1.0867588103983632,
          -2.38970545271747,
          -1.0238813825902031,
          0.08708321988170245,
          0.68391938890996,
          -0.5893701036573308,
          -1.3410728687284021,
          0.7650023168645532,
          0.46441904215312013,
          0.22843771010041433,
          -0.7006752627364131,
          -1.3913619851268737,
          -0.04272137758569773,
          0.04623180103547413,
          -0.5750080906701183,
          1.1673658436637537,
          -1.235507202049562,
          1.0357164473512184,
          -0.6813634469413884,
          1.707009479112915,
          1.469109742136358,
          -0.9225961059497375,
          -0.12688337240891856,
          -0.08933847873018796,
          -0.7459068799146792,
          1.2964511068893325,
          0.36226730354916487,
          -0.237586464976685,
          -0.021766115724392847,
          0.7190000637985563,
          -0.3440761878603786,
          -0.6264817567272121,
          0.825748794605883,
          0.9917534583470005,
          0.35871122963785423,
          -0.7052794818280138,
          -0.4219492803229862,
          0.07848648314123124,
          -0.5777959711371942,
          0.38079362599511357,
          1.1171120762074698,
          1.6440422820359275,
          0.35113949781216913,
          1.9296434318568492,
          -1.7534270892876895,
          -1.853972768528835,
          -0.7685376063451872,
          -1.3966442306889926,
          0.4883636531940932,
          0.5826788114178355,
          -0.290890425407327,
          0.6062627135512629,
          1.1566041360281256,
          0.5030739969285731,
          -1.9687183421702803,
          -1.0793984074100933,
          0.9034357317916791,
          1.4517871701608511,
          0.2333173342570672,
          0.06061024955078463,
          -1.6171606582912863,
          -0.23285559378956733,
          2.0565813374725734,
          1.0041164681762669,
          1.0224969818520253,
          0.17920565818591835,
          -0.9859545616307993,
          -0.441002981339854,
          0.20946137809833348,
          0.36649114582365555,
          -1.4710097287133528,
          -0.07419782626346032,
          0.5235528827557879,
          -0.2219767371148214,
          -0.13727641478111074,
          -1.9674041535195295,
          -1.8085704189763763,
          -0.7767064049899957,
          -0.14764166512282043,
          -0.7618864663640105,
          0.15474915135159972,
          0.9127197116097167,
          -1.5984119484247634,
          0.35403379717078476,
          1.2214519332439684,
          1.5325857978430346,
          0.49566922201581043,
          0.8359532306042805,
          0.8119538930612347,
          0.04840164009563515,
          -0.7937064029443494,
          -0.07858349883575545,
          -2.237296053982906,
          0.06145971073675641,
          0.3679817276319896,
          -0.36643101815627355,
          -0.6261644839861393,
          -0.07084385865223426,
          0.31559315343655514,
          1.1093727076065845,
          -1.674564767794484,
          -0.49587327417392746,
          -0.5660193733708718,
          -0.61322913470711,
          0.030144679461774557,
          3.3527208300520948,
          -0.5511132089388459,
          1.2231496517537592,
          -0.6569758422741954,
          0.004507936888810995,
          0.8886767712139605,
          -1.3552648747211629,
          -0.473870322827233,
          -0.38718073006307363,
          0.5130839196543344,
          -0.26860610470500257,
          0.3257064512732706,
          0.2395613075535772,
          -0.286512306813873,
          -0.12951317523846986,
          -1.2904927033111167,
          1.2919533935578345,
          0.32876734335991736,
          0.05538466452190768,
          -0.11721005130035976,
          1.6777944314302062,
          -0.9906047894847343,
          -0.3415163580684398,
          -0.6479169088295526,
          0.840074783094237,
          -0.6470211233812938,
          0.7367049026082004,
          -0.3679637229644632,
          0.5937161094717577,
          0.49901537746727526,
          -0.306475200182931,
          -0.4441573651744846,
          -1.6426976998451612,
          0.3440146248285373,
          -1.1251977600880774,
          -0.5434925410773901,
          -1.151277935533833,
          -0.3589747355934279,
          1.4286576315208088,
          -0.25237687258352215,
          -1.342608790734198,
          0.8388078884274629,
          1.0066830882942777,
          0.5406434721442155,
          -1.404343442362167,
          -2.071470373802207,
          0.5859061768827344,
          -0.8901297554668687,
          0.8757279660951565,
          0.5555428552334571,
          -0.13817995722569665,
          0.9772165202896991,
          0.4650076228044998,
          -1.6939829132434314,
          0.2484083762715898,
          -0.4432558670331778,
          0.3928804892174802,
          -0.9571348541034946,
          0.7762965968685424,
          -1.9337299878161263,
          -0.17813757557089907,
          -1.5653330082199275,
          2.1191199841818293,
          0.06364527398831311,
          0.32312371896553566,
          2.5350064897136177,
          1.7242539794612006,
          0.3183931317615609,
          0.13849171894248344,
          -0.43477198604840506,
          0.30220520632981485,
          -0.21796038850431507,
          0.7599388732428535,
          -1.5416513693902092,
          -1.7294773267802495,
          0.8516093524894657,
          0.8417678620557039,
          0.2732149461623125,
          1.8899379048647502,
          -1.5963107430254249,
          -0.1348429992281925,
          0.9796863651542758,
          0.7298876684759492,
          -0.1043048927385892,
          -1.4928993118265543,
          1.6236757321000197,
          -0.590298317606073,
          0.006451832287869525,
          -0.42403921684611195,
          -1.3020507591591193,
          -1.3110909071878993,
          0.3770151902402528,
          -0.7283433609021092,
          -0.6820093089182298,
          -0.4640938328599075,
          -0.5613381224420024,
          -0.07322656251612698,
          -0.09885058065967253,
          -0.3709017830627329,
          -0.7301356977509641,
          -1.2422502068876917,
          0.17863478285558054,
          -0.19920012496969183,
          -1.453570396567544,
          -0.4346311329114419,
          -1.1454058115847408,
          -0.04390145641873267,
          0.3261916469018785,
          0.9574497985585216,
          2.0346226939986702,
          -0.13779448718551526,
          -0.35231994268607725,
          -0.7182985528516187,
          -0.5309976920249249,
          0.1291876096593198,
          1.634702281633763,
          -0.8267135818936736,
          -0.06945393898663117,
          0.4982735168908352,
          -0.4427809518545866,
          0.35100047490744085,
          -0.039859377923545304,
          0.2137347341260174,
          0.6982588917910248,
          -1.2499690043217326,
          -0.5143776117396547,
          -0.05344808455501038,
          -1.761760468803619,
          1.2272085238804842,
          -1.7148901472144469,
          -1.8632604585504509,
          -0.7147627920829837,
          0.3148113522519364,
          -0.40785752748787235,
          0.003915658721285632,
          0.5888810944633596,
          0.3449039364451027,
          -0.13439554056292813,
          -1.2631266145419864,
          0.38481185117182976,
          1.299845266342237,
          0.23940881067412742,
          0.30784897928439825,
          -1.1189029746129493,
          0.6961527550480455,
          -0.7353174109845771,
          0.4006209319448915,
          -0.17941207230125797,
          -0.2714633313000205,
          0.6270051586022647,
          2.4339462843544757,
          1.7486224981557168,
          -0.4474273168135279,
          0.8678268778750227,
          -1.6429712967757168,
          1.72982274986671,
          0.44139277798295906,
          0.4119304063962274,
          -0.31068278027635876,
          -1.6315465852658888,
          -1.2582373492399437,
          0.040078917895278426,
          0.005276400028855275,
          -0.7168502654217783,
          2.8680340082567573,
          -0.340903072861043,
          0.19488657895230388,
          0.9672699445782175,
          -1.4293436435706288,
          0.46211888681806984,
          0.31242383881452057,
          -1.1581566589534134,
          -2.605923714478705,
          0.765011709555373,
          -0.434995042419392,
          1.376440626193031,
          0.6099616838476903,
          -0.9234578532449724,
          1.1005546195240044,
          -1.0377320807683805,
          2.5963966983997837,
          2.165181294765474,
          0.8753889773445329,
          0.9015004637385865,
          0.6950971801073912,
          -0.4897565263697802,
          2.08587235943703,
          -0.038631892090224565,
          0.17881993918319888,
          1.221990917891798,
          -0.4801827949959919,
          0.8532027908214339,
          -0.12448461869471972,
          0.8344690038433082,
          -0.29778593672565845,
          -0.3924952938541299,
          -1.262027157144141,
          0.5878703285105742,
          0.3390507351293752,
          -1.8683547889515135,
          -2.0784121428239977,
          1.090837204957109,
          -0.1922320325351593,
          0.6569617222317896,
          1.5306343290258688,
          -0.2908899640896418,
          0.030001110427950655,
          0.522159997325131,
          -0.30340835433650815,
          2.1626972957530706,
          -1.8294378391521928,
          -0.8662400055515085,
          1.101334681404463,
          0.8051399322795123,
          0.5660592463382424,
          -1.169027984098068,
          -1.4491885126366495,
          -0.7681904301515621,
          0.4235918981615019,
          -0.0640837824967604,
          -0.2601287460283941,
          -0.28027866063730345,
          1.2926699288576822,
          -1.010744860928724,
          -1.648818793907188,
          0.718646410374603,
          1.230885663278455,
          2.358784544390505,
          -1.1500073239249962,
          -0.6590377902733098,
          1.911354617163637,
          0.8437211788262017,
          0.04778772802160177,
          -0.5792364366126185,
          -0.2683384297800291,
          -0.5935003944467765,
          -0.3015201596266947,
          -0.7208754210790133,
          0.5337942304760792,
          -0.09438298562529401,
          -0.46699905410325826,
          -0.48651353237321915,
          0.43294371916017416,
          -1.6216936508572501,
          0.20056240722059915,
          -0.18507944541450264,
          1.4269987356098603,
          -0.4923484561363783,
          -0.14298154840119515,
          -0.7305967943838891,
          0.9372316365017731,
          -1.5281607203747551,
          0.3765634596197288,
          -0.21014084708900135,
          -0.9164484073620116,
          0.3721144629009686,
          -1.017872344627778,
          -0.157942488848084,
          -1.8310792508365434,
          -0.2866233656657293,
          -0.6204671462491924,
          1.7619125006690253,
          -0.45600210326559015,
          0.91758572051921,
          -1.6592577424860935,
          -0.7767328107983957,
          0.4333493041662402,
          -0.9659928474416859,
          -0.15002298656123347,
          0.450945230848282,
          1.361035998953408,
          -0.6330910735972013,
          0.7165722139875619,
          -0.28291339733674753,
          0.7038880628057234,
          1.62568609966462,
          -0.4157423245961825,
          0.5595906768656422,
          0.24486276681192268,
          -2.5726795294039686,
          0.20819329050426538,
          2.065950651878514,
          0.5040107705438157,
          -0.6371846684875937,
          1.4828785660375166,
          0.06286686621210888,
          -1.1763758618240663,
          2.906983756356452,
          0.9559750384604767,
          -0.07242011693796889,
          0.5068319701171704,
          -0.6985930272693031,
          -1.4208195216484798,
          2.2330598849590375,
          0.400905394287391,
          1.366278547772859,
          1.0876109879401012,
          -0.5467954049341209,
          -0.005189381207791708,
          -3.019569889317402,
          0.38287670536459556,
          -0.16308764978719212,
          0.43403198182695785,
          0.9684317320175662,
          -1.4464102136971067,
          -0.2738934131149266,
          0.3253130640066254,
          0.7125447156360886,
          -0.037943306328758676,
          0.577035438090814,
          -1.4321979779338714,
          -0.41510925887951317,
          0.5172268719902466,
          -0.4289502019591052,
          0.4324574379369569,
          0.49573110708803747,
          0.14973691620603316,
          -1.5519637915750997,
          0.6837528995036344,
          1.6597881220024608,
          1.147718909601724,
          -0.7013960316542261,
          -0.9551771664117477,
          0.5554782016100419,
          -2.1204073224570497,
          1.3191139248666122,
          -0.21128148697818339,
          -0.38858651693635743,
          -0.7290399405334957,
          1.1260784730745614,
          -0.6384051704745268,
          1.3681419264739914,
          0.3993867043247452,
          -0.7668529066073423,
          0.8642294996065494,
          0.4048549111949302,
          0.5555343994580665,
          2.0595844768893428,
          0.21805034007949833,
          -0.76000677698376,
          0.052011880539309066,
          -1.2304707224020812,
          0.6993641554845134,
          1.8283924157524618,
          0.7569614030610166,
          0.6209664977904591,
          -0.835294227851759,
          0.6404309050024704,
          -0.8962436592656605,
          -0.43137928622615673,
          -0.49310635622246446,
          -1.036201700336281,
          -0.5025582077573674,
          -1.5894635783267534,
          -0.03923887624783143,
          0.20393285750459178,
          -1.0387801025226862,
          -0.7984743264720614,
          -1.2330097534077653,
          -1.1511984293261723,
          0.2318512570898806,
          -0.18300673475751306,
          -1.3500426601733793,
          0.16363176708258617,
          -0.545139257218303,
          0.5407601917927088,
          -0.9514370830970788,
          0.4907829166309978,
          -1.2520418163842353,
          0.062344988104292356,
          -2.2701109039819243,
          1.3267380182335993,
          1.3501767161195508,
          0.047272062269862046,
          0.10229321442181326,
          1.3521718975255437,
          -1.4264462139419876,
          -0.22180616268166325,
          -0.4336385582654077,
          1.4147803161675776,
          -0.6708398465887682,
          1.3640642474838869,
          -1.4678097385325604,
          -0.15457479686417794,
          -1.0634552965058024,
          -0.890706411572948,
          0.4463299772859204,
          -0.4810319456222112,
          -0.7843660058336245,
          -2.860355133029364,
          0.051708032554699385,
          0.439174399405324,
          0.5116660060583738,
          0.8727459708119977,
          -0.2044445524608388,
          1.8571097841086146,
          -0.14984357185839525,
          1.0802640985300032,
          0.47388536540382464,
          1.5673452573963826,
          0.8033203488829788,
          -1.1283492080127473,
          -0.4375862465682653,
          0.5175197042403371,
          0.301809747370281,
          0.07223725740003765,
          -0.40301378595881837,
          -0.03955854065317071,
          0.8304290928213676,
          -0.7684092820930633,
          -1.2408821035605744,
          -0.4569092635579217,
          1.2166707071670197,
          0.5531354289088398,
          -0.162695453403328,
          0.4153980173803436,
          0.7125307715849215,
          -0.7678998930444865,
          0.8699957631781094,
          0.6348803063648757,
          -1.5940853988140258,
          -1.780048375366793,
          1.5625425151130048,
          -0.052241171316278326,
          -1.4153912626561136,
          0.015551847640117824,
          -0.39342685989473236,
          -1.220383357194591,
          0.982227092738842,
          0.2188185635069636,
          -1.0697487351035304,
          -1.4596930167491609,
          -0.006504565044973218,
          0.9894921221258219,
          -0.8016680342192926,
          -0.7269526355850005,
          -1.3976269047828287,
          -0.10730321475687991,
          -0.6138720148047424,
          0.6620423749140133,
          0.03801449668648746,
          1.103105472003596,
          0.2363125258251256,
          0.8314962619180558,
          -0.7432793117717432,
          -0.7280978892095613,
          -0.8734416335442874,
          0.5413939344483207,
          1.5181137109593663,
          0.27905913544947236,
          1.124611458801765,
          -1.7195036090012652,
          -1.416751461072647,
          -0.38603156913404496,
          -1.6428894956846707,
          0.7207899451657857,
          1.0439992991554845,
          -0.7541964216262442,
          1.0174908855022538,
          -0.7691673051495215,
          0.19671544180083997,
          0.8373534272350123,
          -0.021938653667550465,
          -1.3805885359362602,
          0.06800472639747313,
          0.35558144282698156,
          2.836926437633557,
          0.938594532840863,
          -0.4331055312623088,
          2.2888158104269323,
          1.1310862588358823,
          0.4449671463763975,
          0.7594636554097368,
          -2.5233045663881972,
          1.1853718806878808,
          2.064489042369997,
          -0.7881848032900761,
          0.5428554144400546,
          -0.5985882037623755,
          -1.7829647868607406,
          0.09319520193887769,
          0.24714613012773845,
          -0.6781012487694281,
          -0.5630784062608323,
          -0.9635852251713238,
          2.2661582569718974,
          0.8607890992111221,
          1.2356831425739851,
          -0.6436613213732734,
          0.5904097855260432,
          0.26047097964922244,
          1.3395881249027826,
          0.4525358533211642,
          -0.3504706823855375,
          -0.012864736216227229,
          -1.5861628016388882,
          -0.8645858810936965,
          -1.1934947666918685,
          -0.1203056375225818,
          -1.6821766667462719,
          -1.748770882060227,
          0.29979249841196637,
          0.23473581442224248,
          0.04439924114605481,
          0.752545360118074,
          0.492635854375069,
          -0.36762944255234997,
          -0.7630593843481134,
          -2.044243423166092,
          0.5819363293316402,
          -2.077619017820411,
          0.36001725103904675,
          1.3347578605795531,
          0.16645323958324953,
          0.14584698755586542,
          -0.140273331190539,
          -0.7281243955071441,
          -1.1306832508626912,
          -0.2881078774732759,
          -0.11520743265472191,
          -0.787571540260531,
          1.756152345737606,
          -0.979657635549168,
          0.8656672140876633,
          0.8564651527160423,
          -0.527352422981865,
          0.37146364281655053,
          1.2293013628997536,
          -0.6961876415075776,
          -1.8527682391389704,
          -1.0004829401421615,
          -2.861816942956894,
          -0.2342794086158296,
          1.038052499339507,
          2.286325085177027,
          0.1027595721259646,
          1.7244361290992323,
          -0.39032288625360445,
          1.7869592885558228,
          -0.6316362730654964,
          1.6284353989377367,
          -0.6509591936430089,
          -1.2058085159050778,
          0.4979112042828771,
          1.1658939101263635,
          0.04307463912625472,
          -2.3690922996122197,
          2.194426494004581,
          0.30914825903077825,
          -0.8594639083183071,
          -0.5300167529948309,
          -0.6973343997668883,
          1.8495779014943106,
          -0.44741425370623994,
          0.15912466083798432,
          -3.072458393386145,
          -0.08923462260250131,
          0.4291267142193947,
          0.20270207559182837,
          -0.012506818208662389,
          -0.4082241602062662,
          1.1276380449527144,
          0.9222423026297792,
          -0.766616713413728,
          1.5143028428249217,
          0.7497397328989113,
          -0.7091811605347818,
          0.0779115005728598,
          0.11900784136940284,
          -0.6861901380967543,
          1.545773257363131,
          -2.2487123183029083,
          0.7754251047230678,
          0.5132806431590262,
          -0.8662358035992983,
          -0.32420484798494015,
          -0.0028220113715669167,
          0.11271049466923622,
          -0.17096710379223806,
          0.7478857770896697,
          0.5545769657825366,
          0.08148286789194668,
          -0.5753475975218908,
          -1.7909952899636952,
          -0.3291512728756515,
          0.6835014791918174,
          0.8503304270214267,
          -1.6592383818682548,
          -0.8268721111360282,
          -0.1681566800137774,
          0.9552411768909453,
          -0.6870610612899217,
          -0.06055905031826336,
          -1.0697426588387082,
          0.0337478369397185,
          0.08529014832462953,
          0.7327872388719474,
          1.0980818929738791,
          -0.1390468244080595,
          -2.03081830090057,
          -0.21799741348433535,
          -1.492234286908668,
          -0.19882288424220496,
          -1.5115908348476794,
          0.6070437309891674,
          -0.09262269844725059,
          -0.11601050142471038,
          -1.1440402681319288,
          -0.590539181555647,
          0.11145025892712314,
          2.1457798057220265,
          -2.1023636109129793,
          0.35074560930426757,
          -0.4727496906202792,
          -0.9853363567701182,
          -0.11043554836229205,
          0.8132256920839067,
          -1.154573813689904,
          -0.6818008953393573,
          -0.2656531410008261,
          1.672236640395519,
          0.11085319439252916,
          0.3985889226121078,
          1.3532308429448745,
          0.8085951084128988,
          0.034426676506481575,
          -1.0871503008647723,
          0.8324882006214172,
          -0.4160385955739045,
          2.3542591564558406,
          -0.33516635382694865,
          0.07153240038539706,
          -0.4243662202189162,
          0.3962155786981168,
          -1.1135556943671905,
          0.5345758548791043,
          1.0319879826724165,
          -0.6354078974919961,
          -0.7154532076464255,
          1.3636520054224368,
          0.9818307179711074,
          0.88441332601989,
          -0.06695541192561758,
          -1.2815650930941802,
          0.0999029911786524,
          -0.164689961300814,
          -1.2800145033033017,
          -0.8058957345755863,
          0.3259938668393313,
          -0.6403647349897277,
          0.0436543104891504,
          1.333455937182655,
          0.21850903436457667,
          1.1424675198264929,
          -1.1031130128743252,
          0.21600154971373142,
          0.6375227696936414,
          0.12128155485442015,
          0.39659831273677126,
          -0.2646304839729117,
          1.1139704359004936,
          0.02819752327775466,
          1.860397214954891,
          -0.43760306938597,
          0.4011671068514036,
          -0.7569626202930203,
          -1.0530792708437893,
          1.1359571899709187,
          -0.5838512383190967,
          0.6681537446290532,
          -0.05556770624933454,
          0.13562457371320966,
          -0.9812552203774975,
          -0.5941683935311641,
          1.042323520671225,
          -1.4731948263156305,
          -0.0717824740001726,
          1.3883044214435678,
          0.06154692310976991,
          1.885179897099118,
          0.02841736402721284,
          1.0383128889805078,
          -0.54409685300966,
          -1.3846227660881116,
          -0.9597720269561204,
          0.30084948346808627,
          -1.267318138245993,
          1.2347461639768378,
          0.4038226652887698,
          -0.551296003663256,
          0.40684915458697923,
          1.6313605453232631,
          -1.1977664928709972,
          -0.7526439746594628,
          1.1909268294874888,
          0.2203519258837942,
          -0.3067169885025346,
          0.007741519854506964,
          -0.11823798661050293,
          -0.9183760684375036,
          -1.442601094283194,
          0.7500705153215955,
          -0.11531198710066996,
          -1.5496368953941,
          -0.6608003780418655,
          0.025708350892551097,
          -0.4058721212610445,
          -0.8331876672985801,
          2.0338684282301784,
          -1.308147562102084,
          -0.23337319738887896,
          -1.1621348931738777,
          0.8863564575626228,
          -1.0655982066616012,
          -1.843643427789594,
          -2.0898473221271234,
          -1.0672198902955925,
          -0.34784860316391475,
          -2.006166833070457,
          0.3014767464572511,
          -1.598420306650106,
          -2.461460196411468,
          0.937058312434416,
          0.9594030755511463,
          -0.02816137878688693,
          2.3587246957083834,
          -0.17031691269436933,
          1.0416328682712026,
          -2.0049449992205886,
          0.031578049130509336,
          0.6000919580000366,
          -3.329694478003317,
          0.012368642901541983,
          4.074073781099679,
          0.6320091726303426,
          0.23300291913814988,
          0.8262547053582098,
          -1.2754626045627384,
          -0.7238826545118684,
          0.08940466225230066,
          -0.48618643363011854,
          -1.7868040559442426,
          0.025912581029319322,
          1.4401739922132617,
          -0.6186120575136914,
          -0.25795935610213955,
          0.7518970835045885,
          0.2616824715385266,
          -0.5364251560626085,
          1.9154069809854588,
          0.26941534188207367,
          0.37557155644377394,
          -1.2017700027041853,
          0.7295337083092464,
          -1.745825497415158,
          1.4710322958085962,
          -0.5624062533880552,
          0.9442321104361406,
          -0.04221838976484356,
          1.6223384299678547,
          -1.6135321556294528,
          -1.6319655047819124,
          -0.20845424073943994,
          -2.4566811147265897,
          -1.3487948304966908,
          2.1385276063065346,
          0.18245084049303,
          1.2575203779719006,
          -0.718949472928128,
          -0.8319743609071947,
          -0.23834356883053534,
          -0.742789930268778,
          -0.3092893501319988,
          -0.31576040556260127,
          0.2708627927179818,
          -0.4279611002621605,
          -1.2171378428721455,
          0.9500048922164106,
          -0.6575941079770271,
          -0.18309120177666047,
          -0.298142728445895,
          -2.086842453907623,
          1.182460885909041,
          -0.8510168919147786,
          -0.05359848864443368,
          2.018334069854814,
          1.9181391907085288,
          1.291815487881997,
          0.09160317764547143,
          0.11454602044332937,
          1.0615492648929497,
          0.6368078208652276,
          -0.22508470544834777,
          -1.5913453551394536,
          -0.5271197487167828,
          -0.1741634174969997,
          0.34543521576132247,
          -0.01028960829059204,
          0.0858502183207897,
          1.0575899299510334,
          0.37694569295176955,
          0.8494742334841504,
          -0.12448154262916905,
          -0.8204175623625289,
          -0.03406514487193717,
          -0.8087517355762948,
          0.19906632770347493,
          0.3948033325987362,
          -0.7932809776401083,
          -0.3464932593058457,
          0.6274387731918168,
          1.8802147843202517,
          -0.973706089873051,
          -1.8515085587286886,
          1.0305538795135822,
          0.14640178833917555,
          -0.24334463435421774,
          0.33586619703005244,
          -1.6577176262671265,
          -0.8081564878750191,
          -1.0005730312252248,
          0.6792164882498519,
          -0.5814399436984405,
          0.3182511701443037,
          1.5650687991258376,
          -0.21558941185802094,
          -0.15951658823454226,
          -0.5210088956183893,
          -0.9804167704580625,
          -1.251703329518387,
          -0.7942062330203936,
          -0.10866100623291952,
          -0.010954274031887017,
          -1.233942056236604,
          -0.9813029329609286,
          2.2804190963925315,
          0.4831091129240337,
          -0.25904152392370633,
          2.4572980676412013,
          -0.6304692386952457,
          0.11317588368768486,
          1.7491869485206841,
          -0.7878810856083784,
          0.25523971269963397,
          -0.6017210084586084,
          -1.5459427515407134,
          1.1562183366968708,
          0.8463016644620911,
          -1.1369888265975767,
          -1.1842978470009187,
          -0.5252024558092254,
          -0.018516713934048315,
          1.8598617435936278,
          2.0672393127205257,
          -0.537682132871106,
          1.0354053117770843,
          -1.6503415527183252,
          -0.29417629753840024,
          -1.747141561392283,
          -0.29841094152734393,
          -0.8283501840572847,
          0.38440298910629056,
          0.6404512236307518,
          -0.6164017747238223,
          -0.1461799168990417,
          1.6660735917630354,
          -0.16250067653003245,
          1.2070301927316527,
          -0.48765560699186183,
          1.070498121330727,
          0.9575810763138013,
          -0.14769630155609592,
          -1.0125457171827597,
          1.43396996410687,
          0.53916576951761,
          0.8538775206648517,
          -0.71755078429454,
          0.058993742461692054,
          -0.5300915657259905,
          -0.4412940385671828,
          -0.3792259530353594,
          -0.10664184066112627,
          1.4298395287476837,
          1.1767896067017263,
          1.1197214812678833,
          -0.0445966456999068,
          -0.3099428476185407,
          -0.9153872757455691,
          0.9637355110559548,
          -1.9546087844086064,
          1.3783803643857764,
          1.4005763950190997,
          0.3118974212082868,
          -0.6580204872705183,
          -0.6346503519369636,
          -1.2365013868410235,
          1.9883919179877665,
          1.8091445963210693,
          -1.12799899418124,
          -0.9406932821443573,
          -1.522469289944858,
          0.0012169744270634165,
          -0.9345824273614606,
          -0.6171097264646226,
          0.9032917343797763,
          0.46096829523162663,
          -0.7730060218575919,
          -0.050630609827657214,
          2.2236463181899335,
          -1.584632091747363,
          -0.39127687763114843,
          0.3616518873315901,
          -0.5767583606485756,
          1.3727900962825788,
          -0.004845727557278556,
          -0.03458729649176723,
          0.7972184838468547,
          -0.8530747147174006,
          0.7156914159946939,
          -0.13182808063709064,
          -0.3454914963700004,
          2.5684308963320834,
          0.25724767081404964,
          0.7457913759857099,
          -0.4937925068526037,
          0.678680844170161,
          0.6050711052085974,
          0.660557386500223,
          -0.0985674432273635,
          1.0059728632295286,
          -0.13658921690472312,
          0.056729082446251335,
          1.1547148346655607,
          0.9782429527388468,
          -0.04487825660921949,
          -1.3669548442337307,
          -0.5797509464414591,
          -0.10057403261248776,
          -1.2978457166139845,
          -0.6359578569704037,
          -1.0595974370558485,
          0.4316870320196631,
          -1.5306091217100846,
          -1.037476238166957,
          -1.0076326731493654,
          0.2524417106865295,
          -1.7519233614334762,
          0.33117707090996806,
          0.2542998721638189,
          -0.3703662395620884,
          0.7739293166956656,
          0.47397816419234495,
          -0.5575941775243497,
          1.0387087485872235,
          -0.9832797491289027,
          0.6359028679372003,
          0.2525484751298719,
          0.01929674851125689,
          -1.0256755741967931,
          -0.2788851181437143,
          1.6939563190060507,
          0.9745080731898835,
          -2.096384765382832,
          0.726115830398191,
          0.0302477828953741,
          -1.0202704251362829,
          0.6124103890676392,
          -1.3138644804452881,
          -0.03746328832289545,
          -0.24225758861263866,
          -1.0020007507133453,
          0.010543610340881832,
          0.871475954409628,
          0.3535222788662992,
          1.8766429533471114,
          -0.699427307625426,
          1.6461339529423793,
          -0.45801966775859915,
          -0.5379360696600323,
          0.5405264198849459,
          0.16411271902772154,
          -0.456118073631097,
          2.0915378654914707,
          -1.3650363795208957,
          1.0744455221484008,
          -0.6963474784456587,
          -0.025266261817505558,
          0.36542930725663436,
          -0.47053873424139053,
          -1.2116976733680482,
          0.3349637703304576,
          0.22646487563032372,
          -0.3509989826586073,
          -0.9319698616562386,
          -0.4011610876422261,
          0.31187203275172637,
          -0.8358803228331737,
          0.7361192128742615,
          -1.1985476637112884,
          -0.728993538546184,
          -0.4987794301501509,
          0.11029765385569552,
          -0.005659899371028455,
          -2.019013860482582,
          1.1055191402095255,
          -3.2300156270428766,
          0.9124015218418192,
          -0.01877701980625458,
          0.14532453228737502,
          -2.1370819460001864,
          -0.31148120510392113,
          -0.269124813475386,
          1.6257607134299028,
          -0.5704958951723695,
          0.21272209555671545,
          -0.7963478248913385,
          -0.30153041014813287,
          -1.50323162402047,
          -0.9296598461599278,
          -1.586761901963535,
          0.391236851740381,
          -1.3201906466892093,
          -2.2944815545354347,
          0.7679949997150718,
          1.6554950631522947,
          1.193308588312987,
          1.1280915975391403,
          -0.2200295091516921,
          0.7281858817443023,
          -0.9207882211849878,
          -1.8463642344298208,
          1.0714012515126943,
          0.9595475137815187,
          0.6572079258387075,
          -0.2060818948491994,
          -1.8816853812502599,
          0.9428808330674467,
          -1.5195957576598758,
          -0.7424622446021123,
          0.5602749679920774,
          -0.8717695577100185,
          1.0405484416479562,
          -0.46536442730606975,
          -1.7630022725705765,
          0.3006039047265265,
          0.585956766468083,
          -2.556042956654415,
          0.26969713724659455,
          0.9484692371672475,
          0.9637216216570684,
          -0.7030303602962757,
          0.18181749441244843,
          0.4478829764223249,
          0.4198630181995944,
          -0.13727141414447233,
          -0.16390236847419543,
          -1.007835682509688,
          -0.35445711951402836,
          -1.2180229820011204,
          0.4990860334445958,
          1.6901165378769545,
          0.4352820440395323,
          0.8873404899061053,
          0.45567111863389115,
          1.255634479447898,
          -1.4664075985938716,
          0.3519679831297005,
          0.32228952021846596,
          -1.249462669186518,
          0.3887499728824951,
          2.899276869744111,
          -0.7822590784147695,
          0.1991448926261738,
          1.8606731088814168,
          2.212606094892784,
          1.6048827505376388,
          -0.1568862904585638,
          -0.11243059967809052,
          -0.06937548922150664,
          -0.8944972786978493,
          -2.039658987568428,
          0.5115755247819236,
          -0.02811006689106777,
          0.07581062239710033,
          -0.0960567420270748,
          0.3065058516217312,
          -0.1714633273654065,
          -0.3885130342305172,
          -1.0263159757748905,
          0.10845416125408097,
          1.1110407153692488,
          -0.24574281441051354,
          -0.4159190423178969,
          -0.17919153588626535,
          -0.12883732438868095,
          1.0327584741617881,
          -0.42462070813016894,
          0.5818707551411989,
          -0.2508398197652833,
          0.4108901534394317,
          -0.21946776810371807,
          2.560198632782004,
          -0.8651780364293155,
          -1.0740471459365504,
          -1.0300652076774188,
          0.4392319056300501,
          -1.0739623922581283,
          -0.28255694633236184,
          0.09082898615260443,
          -2.1688150134769466,
          0.9329557180630638,
          -0.7808495124415813,
          0.06683100265547608,
          -1.722430758072949,
          0.024113658521335023,
          -0.48568852829378445,
          -1.098947158573677,
          -1.4717921748368203,
          -0.36624539417163476,
          -2.0301079766326673,
          0.8397511406119997,
          -0.03688263337423848,
          1.337322569505816,
          -0.4863229257796001,
          -0.8953075178847716,
          2.978067808775572,
          0.8928873752589659,
          -0.3753444238780164,
          0.6879974904506355,
          0.48530691317532404,
          0.9627327029343004,
          0.9032599366333725,
          0.45245255378531896,
          -0.32344389159760545,
          0.8958541569453471,
          -2.8995353505833,
          -0.6482043719176865,
          -0.2669333499467169,
          -0.5884221153253442,
          -0.8630278761091948,
          -0.04913919711199999,
          0.12645079239759296,
          -0.7193704083594232,
          0.37074801683912245,
          0.22062625841106978,
          0.40743731839199193,
          0.8479991490060217,
          -0.009167135719227415,
          1.8632598831429097,
          -0.7960872126619156,
          -1.7375644076003907,
          -1.1999903033601078,
          -0.02229694260549102,
          0.6807916326860315,
          0.4932737126858051,
          -0.0974947139750042,
          1.6073550898948972,
          -0.03950978486186736,
          -0.859808284485949,
          -0.8777985213553849,
          1.2983344767080465,
          0.4989808303977241,
          -0.5396297551096423,
          -1.0854520557440512,
          -0.31772188118330175,
          0.8955058980313447,
          0.1788357117890574,
          -0.7717625482150768,
          0.5667182117508401,
          0.7285258898300567,
          0.501561596605113,
          -0.48628235970521605,
          1.1516659101778877,
          -1.0589946630499956,
          -0.361219151016677,
          1.6246682194612019,
          0.513080878135896,
          -0.5936929123845169,
          0.5651329407414923,
          -0.3050021524324126,
          -0.616343912713843,
          0.9644595069880195,
          -0.38316851813423636,
          -0.13155470566073205,
          0.36416391772726325,
          1.2601239519512926,
          2.1462072655558853,
          -2.5825848910238824,
          2.081792708528477,
          -1.078751936636015,
          -2.3903671548336507,
          1.0033256326031674,
          -0.6545847263550435,
          0.10764912868127198,
          0.12207790348953183,
          -0.8212992080507148,
          0.7112967201098995,
          -0.13009632025399923,
          0.5803434497934415,
          0.31035514106866113,
          0.0655114653702854,
          1.4832684880304325,
          -0.3002644591207662,
          -1.2548502443533265,
          -0.786596322744212,
          -1.4239652480358123,
          0.253128876084865,
          -0.9423554706056634,
          0.4153366959618048,
          0.5517188674527627,
          -0.5927187555784269,
          -1.3368854086996702,
          -0.07634072500552222,
          -1.1437449395391095,
          -0.5415137305599591,
          0.9990782487768577,
          -1.7903110799732183,
          0.5537531799186182,
          -0.022434036636478992,
          1.4962012052308085,
          1.1065084035349646,
          0.41491762281895306,
          -0.39794271491413247,
          -1.7408778026153366,
          1.1363401588277315,
          -0.47678804673636715,
          -1.2291209727870047,
          1.2542346318743631,
          0.7622368731492329,
          -0.6224527775214934,
          -0.008814795108268924,
          -0.05694531802421455,
          0.5157316581710752,
          -0.3025245809102999,
          1.2372758317736476,
          -2.007659205161322,
          -0.05215599128004835,
          -1.7301699247953772,
          -0.9686803939689996,
          -1.2619763389104857,
          -0.3687400593706226,
          -0.049358325325343545,
          -0.9379504504457999,
          -1.18812613830399,
          -1.48145373986171,
          -0.3354027432914926,
          0.7555447929091779,
          -0.4255414293630691,
          0.23977676426575142,
          -0.4388824427608871,
          -0.6542107893916246,
          0.4831427352929722,
          -0.6663698382733378,
          0.22868960289672244,
          -0.056870690207097875,
          -0.25069555557033135,
          0.12065187100049987,
          0.2382627826312162,
          0.8087671025324944,
          -0.3865729266763616,
          2.1815384498149624,
          1.2315049746405504,
          -0.6591774506045212,
          1.4334741211032387,
          -1.5168624765409393,
          0.4719341419655349,
          -0.21307783485741774,
          -0.25096938963387583,
          -0.5413334382056305,
          0.29472593720256546,
          -0.3804945564468301,
          0.23265068072814538,
          0.07754909567478649,
          0.36019722351393363,
          0.6797174574623828,
          1.350468925765691,
          2.0611787528995125,
          -0.7936577121313557,
          -0.6842782487418564,
          -0.7046972417095869,
          0.761580237633285,
          -0.3846909932670876,
          2.2458130794009996,
          -1.9349093069775098,
          -1.7485166292596677,
          -1.1079772955342526,
          1.4013931981032814,
          -1.3415211892168586,
          0.39241377763368884,
          -0.04474770815401831,
          0.3977777021537804,
          -0.7630448150696856,
          -0.6465271050754955,
          -0.18066013127789357,
          0.4387157005709115,
          -0.3654950117632028,
          0.23616955324218905,
          0.1157595741641339,
          0.7423808504133486,
          0.08214012426514318,
          1.2770506333161897,
          -0.40066469779287905,
          0.908286444869835,
          -0.6906211417628191,
          1.826549675043177,
          0.25511042392739525,
          1.9615898566365084,
          0.3858280462445466,
          -1.6605918786602962,
          -1.9074942727410202,
          1.9267644124314274,
          -1.597235487733314,
          -0.5137771780587634,
          -0.027358700641148474,
          -0.050778885814889166,
          1.1249139031948479,
          0.7945638783359107,
          0.26249889871022053,
          2.004513128038715,
          1.0430890523542935,
          -1.3193726615800754,
          2.0375865657216847,
          2.0804302255212206,
          -0.048612956305863084,
          1.1899002920932562,
          -0.7786360108857608,
          -0.4667578255615488,
          -0.09743717910172571,
          -1.2409684130821872,
          -0.4472013086899932,
          1.19490403320426,
          0.611283114037501,
          -0.03711634207206948,
          0.1767669790919276,
          -1.3439133174114866,
          0.17935373033316115,
          0.3324987521411103,
          -0.9961033188249759,
          0.519927301159901,
          -0.346867062490858,
          -0.44802812432330386,
          0.5645271597356321,
          0.3360498353608846,
          1.0774668884611256,
          1.4424946230116031,
          -0.20727366647020765,
          0.4887733365840982,
          -0.9663915953351083,
          1.247827114195661,
          0.7592858638885952,
          -0.19261507268440092,
          0.360030747210557,
          -0.1091816568798187,
          0.169574630830898,
          -0.18376972531518074,
          -0.29289969800968885,
          0.7349430377293577,
          -0.3470530271784501,
          0.9261723723056299,
          1.8977719759937592,
          0.9416246373793957,
          0.6062577824717373,
          1.6875612851849726,
          1.4342213859850028,
          -0.8064210028341953,
          -1.0676736396626503,
          1.2513055222705864,
          -0.1732970149848939,
          -0.13960700076870136,
          2.3471894858089457,
          -0.0729335848750169,
          -0.0731935033343654,
          -2.3077861309408108,
          -0.9339613238530972,
          -1.941695602418941,
          2.3389473544716894,
          -0.13195068144481908,
          0.36506393632367085,
          -0.05613374931017848,
          0.45914615059028935,
          -0.14994413473747553,
          0.7527520757469754,
          -0.2040500226086386,
          0.9071677529066535,
          2.162867102313512,
          0.308488599253808,
          -0.5491853071543493,
          -0.575773039897023,
          -0.015846901358003932,
          -0.4312399938274644,
          -0.5954773660227708,
          0.030326965558050836,
          1.040836791017058,
          1.7328989557505823,
          0.8293755531785946,
          1.9674215334816014,
          -0.9587483859659361,
          0.8737120086227289,
          -1.3268252679616717,
          -1.1320663481718694,
          -1.3054178931114113,
          -0.3622490377221688,
          -1.5798487264946734,
          -0.4388935180113623,
          0.031049764902715642,
          -1.1166081934855518,
          -0.018803921551435836,
          -1.2294779935673539,
          0.8399039335362727,
          -1.422847908517919,
          -0.20452533889472907,
          -0.7817490850182435,
          0.6672162763018672,
          -0.8245506807861895,
          0.561726153079271,
          1.9326501547660166,
          -1.1944420539390268,
          1.4484699718544551,
          -0.49092422369036287,
          -1.0023951347337083,
          -0.153533751406394,
          -0.12801714038092254,
          0.6675416770601277,
          -0.8489712401566893,
          -0.6321046325199412,
          -0.01865353623059403,
          0.5496425796908553,
          0.07393026042761223,
          0.1384162882631425,
          1.0368873497719613,
          -2.0111514664440766,
          -0.40158443043659675,
          0.7244284441719715,
          1.1061487807982753,
          -1.5388505240579446,
          0.4184689759652893,
          1.3537132284440958,
          -1.023949786729777,
          0.2557951896202256,
          -0.13550736602228236,
          -0.11106917968073093,
          1.0118696389226258,
          -0.4547669436226733,
          0.3184029068759084,
          1.9453778738301424,
          1.0285316318190387,
          0.7560214459361776,
          0.0315555537308356,
          -0.23547988033964257,
          -0.14000755183505662,
          1.088308680611564,
          -1.0931836134707484,
          0.9102213794726004,
          -0.003197665879611696,
          0.1598897860698155,
          2.5537706386164345,
          -0.24738694867570982
         ]
        },
        {
         "marker": {
          "color": "white",
          "opacity": 0.3,
          "size": 3
         },
         "mode": "markers",
         "type": "scatter",
         "x": [
          0.1480288623384589,
          -1.2875152179455305,
          -0.18285847419994825,
          0.4037108633367406,
          -1.262288887645751,
          -0.4585393614581311,
          0.4841131114267679,
          -0.843159775698261,
          -2.18678199848926,
          -1.0076299329883247,
          0.921442295733142,
          -1.6266398741206436,
          -0.8695438293943515,
          -0.20460692889868473,
          -0.5410804593849728,
          -1.3301518379151804,
          -0.061963664553714895,
          -1.037709437515392,
          1.105724109657573,
          0.7991356533677796,
          -0.043214020289181476,
          2.605292611005018,
          0.1890611734578033,
          -0.9528351918884973,
          0.578359723392322,
          0.43254519565735805,
          -0.5539209664369308,
          -2.0136241743029344,
          0.6060031677860197,
          1.8346234442616804,
          -2.020655501829932,
          1.2041060409259796,
          -2.207240930286436,
          -1.2844663115045023,
          0.049015653365146274,
          0.9186780372634805,
          0.48386500796087,
          -1.1571904694749615,
          -0.7946367000832193,
          0.10339128138879093,
          1.3764984597340235,
          -1.7870304138870288,
          -0.3942969661103735,
          -0.10151414692082435,
          -1.4618571628900463,
          -0.6832542589335328,
          1.9175577490424975,
          0.7414601597133985,
          -0.42699983106267897,
          -0.9021499701247176,
          0.21192830321325964,
          0.3735021104843011,
          0.14277243558759706,
          -0.4049119975610773,
          0.731841831241885,
          -1.1654237056657015,
          0.26052077578047667,
          0.6090607741151284,
          0.9630627853600663,
          0.6731994625729134,
          0.2789502892082335,
          0.1294886010012575,
          -0.413225808806272,
          -0.5647472885465619,
          0.7835911527695107,
          -1.746783886246504,
          0.1463593951779741,
          -1.8783463464045025,
          -0.6357220819087334,
          -1.1575250394183099,
          -0.5868045218300061,
          -0.4430889898824984,
          -0.9058661961649688,
          0.8518235185174241,
          0.17336063331195065,
          -1.268997256900751,
          -0.5218275086523412,
          0.4802031772877798,
          -0.5193665874886885,
          1.699493621016131,
          0.07379037594178799,
          -0.6156335443867171,
          0.5589761045179685,
          -1.171763554583253,
          1.482933618725054,
          -1.055566410224203,
          -0.2267439641319687,
          0.3308092689989244,
          0.15676627600847048,
          0.11871550495122425,
          1.0824310244168358,
          -0.4193616791160037,
          1.670159207527291,
          0.5414992538996902,
          -1.1225132174317483,
          0.7323158889412679,
          0.6393534484633617,
          0.18878012533682453,
          -0.09227367130972745,
          -0.008849079469443329,
          1.5712667615413074,
          -0.6336623036841749,
          1.1122146015857972,
          0.12737738532664933,
          0.141309305310432,
          -0.6226349870212262,
          0.40889376947921546,
          -2.223994784040765,
          -0.2305786392372886,
          0.7138186128623568,
          -1.5391753529624037,
          -0.5188258975006708,
          -0.4641930062689115,
          -0.910766907192646,
          -1.6665249188018283,
          -1.4832165525929752,
          1.2031896010132874,
          -0.7024993340397556,
          -0.08398309078170506,
          -0.7114313704276608,
          1.1837803273654333,
          0.24815673503660685,
          1.0362201981968597,
          -1.5336671388755243,
          0.3310324370542138,
          -1.4263285283958052,
          0.13142417032138334,
          -1.1808502161036687,
          -0.5555039955035391,
          -0.005032718902195779,
          -0.9637677163388558,
          -0.15933843084984048,
          -1.0126887399846387,
          0.7074080543856581,
          -0.6217333280722963,
          0.550750276059099,
          0.8435231954431508,
          0.12648005552993177,
          0.17876395565869302,
          1.2792670565248547,
          -0.7637928314676582,
          0.0620363479931955,
          0.5430166183144082,
          -1.5551362843208296,
          0.021893254075988272,
          0.05227586207524013,
          -0.09022796361677296,
          0.1764300404027299,
          -1.3749960753401123,
          -1.7200173410854183,
          -1.663053132692621,
          0.5596279565198259,
          0.4188183378169681,
          -0.7321794785117989,
          -1.367088294789145,
          1.8985691186292746,
          -1.6863491450819825,
          -1.2156391523330214,
          -1.0231126529501944,
          -1.582548831735547,
          1.198940472576502,
          0.24480661331524936,
          -1.4604266891313982,
          -0.5167121998728897,
          -0.9224168496873061,
          -1.703124260488078,
          -0.5100123652788863,
          -1.2038238487289137,
          0.2753372498493308,
          -0.7538946277989287,
          -0.0984653108774492,
          0.7428375046184589,
          -0.9089175284056052,
          1.9399303394942544,
          0.1697945402042091,
          2.2815127264460813,
          -0.125510165052253,
          0.30800971312077097,
          0.726719021671468,
          2.2764034521208094,
          -2.0183995682547797,
          0.2867329748522091,
          0.4634235620144802,
          -0.3967605817708135,
          -0.06545409120414496,
          -0.027597488091830585,
          0.043131896709987516,
          0.6069432253749735,
          0.604699660918838,
          -1.5069525334409855,
          1.9987417883324563,
          1.0235003337085888,
          1.3818873395324756,
          -0.5254115613118954,
          -1.6908895359478768,
          -0.25636644713859463,
          0.0039136908115734855,
          -0.8718783578971142,
          0.3650301210597981,
          -0.6357033353234246,
          0.4190935629740813,
          -0.6822662836252273,
          -0.09836281913446696,
          0.1750851624884859,
          0.8503975970689998,
          -1.5402988562021194,
          -1.2630468832431268,
          -1.4097304502332357,
          0.2544981599246997,
          -0.7446376059333188,
          1.1814835773419583,
          1.5924897589203908,
          0.4175084676890333,
          -0.5419696110885055,
          -0.8110777027206874,
          0.4221300751882902,
          -0.418560364358681,
          -0.164547183244091,
          0.14138427507123144,
          -0.42725032963925286,
          0.8323776633024964,
          -1.2645809849248975,
          -0.6675098408677176,
          0.6162935097163675,
          -1.4131116127145333,
          0.1396620607160842,
          0.09697149148242241,
          0.5623360751846755,
          0.4271150625994915,
          -0.2827755352945857,
          0.7966090982607665,
          0.6503844454129706,
          0.5903764933240315,
          1.4720075050184211,
          -1.019942403951571,
          0.3787611203169272,
          -1.385015821256633,
          -2.707593952576253,
          -1.2269511617480122,
          0.49290696958639457,
          1.2390584648331155,
          -0.018958405285242595,
          -0.8972127175056613,
          0.07046455488880722,
          1.276783824533138,
          0.627620175577632,
          0.8409977510184301,
          0.07062851206320994,
          0.03497834786998352,
          -1.211181121134173,
          0.10177322587727256,
          -0.4558702724129671,
          -0.07521256440275993,
          -1.4229482661872983,
          0.33117647769888586,
          -0.30325762726457806,
          -0.15063660915553295,
          -1.2504071181545844,
          -0.37401924043516227,
          1.3691765308487398,
          -0.5872477067085514,
          0.03801987822398189,
          0.7354791916991341,
          -0.49646161104536446,
          0.2242674994391662,
          0.569668277662903,
          0.5137717424567211,
          -0.31622690682297167,
          -0.6209524714514429,
          -0.26800948736669,
          -1.0414865969109657,
          1.8688191123504503,
          -0.2445462806694574,
          -0.0682563400284832,
          1.1763623896681228,
          -0.3654444633744695,
          1.2154117652366796,
          -0.18075926466470035,
          -2.4032126014329687,
          -3.07269818259489,
          -0.8880863989696598,
          0.00013896837494713812,
          0.44181032941258847,
          0.5779672062947242,
          -1.042809698607103,
          -0.5684315031069774,
          0.5099500467557941,
          -1.4665464166836049,
          -0.4100120462886674,
          0.6052181381987967,
          -1.1566375834312819,
          0.02942481419256875,
          0.03936323644469894,
          -0.776948870729039,
          -0.19527247967377168,
          1.5190381883492867,
          -2.4528786428140132,
          -0.13838832601294787,
          -1.9472452239326035,
          1.2710657647319545,
          1.309993211038915,
          -0.8369025926175525,
          -1.819920269280088,
          -0.7768196483560349,
          -1.8333013340431694,
          0.08430918751086583,
          0.5317746990012987,
          -0.5945272531487187,
          1.0333612285663878,
          1.1515371538937433,
          0.020534295572309277,
          1.1435179476802966,
          0.6414895851240947,
          -1.5672982308629488,
          2.052297677104102,
          1.3890090797096462,
          0.5620792077791157,
          -1.006873375000095,
          -0.4523878246201306,
          1.0207082156007825,
          0.8587207451972905,
          1.1112132691906889,
          1.0956011716586251,
          0.6283248395300467,
          -0.8222500528208462,
          -0.41076644424210423,
          0.39316079166925183,
          -0.867522467834292,
          1.1076666964622452,
          0.7190495819994357,
          -0.8907448546020418,
          1.667758756366309,
          -0.753657626548769,
          -0.07802888766806526,
          1.936859949614012,
          0.010550343192841595,
          1.2382695943838369,
          -0.865237270290656,
          0.6732991162739093,
          -0.5125870282142032,
          -1.538434085336072,
          0.3239336618141018,
          0.48862200649038623,
          -1.050415005487597,
          0.03161697675478691,
          -2.038376868640737,
          1.3507080375197082,
          1.0921201527572852,
          -0.2841849437222853,
          -0.9639294435770096,
          2.205888762085238,
          0.26810231836578036,
          -0.9695307311604708,
          -0.9303849265799002,
          1.4390037256945625,
          -0.3413479661824355,
          1.1606872020699204,
          1.1384670371826393,
          0.8151562617018635,
          -1.217222445520701,
          0.8028873301316938,
          -0.3555333861398925,
          -0.8507751390297096,
          -2.2439976682475256,
          -0.1883546088885071,
          -1.6169463326783322,
          -1.8224514928278674,
          -0.10418008907897867,
          -0.8242861892975274,
          0.07629822935860621,
          1.1576405938959557,
          -1.5387823361021509,
          1.2013045207158624,
          -0.11645332164567117,
          -0.02042215591644782,
          -0.4494422919209478,
          -0.5527524819008592,
          0.4693820966138074,
          -0.7191586686449586,
          0.10362379566614906,
          0.6076752246717285,
          -0.7575279911889917,
          -1.1632726315722612,
          -0.4371242215454048,
          -1.7242807043123065,
          1.1525739299693398,
          0.11922235411558314,
          -0.2950843330506772,
          1.086182167485467,
          -0.14890667129958432,
          0.5107122601236401,
          -2.3760141648300466,
          -1.1037742726830693,
          -0.25858772657640666,
          1.6232368347520234,
          0.685234290498135,
          -0.21919349011425704,
          -0.7497151994107616,
          0.7701881621120055,
          -0.19401007687436136,
          -1.4276101478896355,
          -1.6002781512826056,
          -0.7921286418778184,
          1.835070456823066,
          -0.7812537011886768,
          0.36207421876962154,
          1.254407597423333,
          1.1970157534504744,
          -0.49648316497098205,
          -0.9588198043212428,
          1.0566962807210263,
          -0.8267255466145891,
          0.9388480709613453,
          0.48011199151748396,
          1.8010937732636805,
          0.7030940344152886,
          -0.6249626316204165,
          -0.06087509560735577,
          -1.7693645813586794,
          -1.4761386037270496,
          2.032707772116386,
          0.7444645605876962,
          -0.8615485454000651,
          0.8043719878253137,
          -0.07875260944353292,
          0.3475236288331621,
          -0.390767280209601,
          -1.2638675702991027,
          -0.5278066100656197,
          -1.4458521246889084,
          -1.3300945282373524,
          -0.6186571753234786,
          1.7275815037289246,
          -0.31996791092745797,
          -0.5087267231913926,
          -1.8210167858109054,
          0.8352987076184544,
          -1.5693421309175637,
          -1.5963859088000618,
          0.5328378225167326,
          -0.5906418084209805,
          -0.10301196167746769,
          -1.072029860932915,
          0.18635660429675485,
          1.425701153280406,
          0.3984081515991855,
          0.8360010997610264,
          -0.6628534811115285,
          1.0286984842486493,
          1.8313522639063153,
          0.5724802809761729,
          1.1421257847912627,
          0.09969217563511129,
          0.7826378763373448,
          0.3361291930178095,
          0.5828688517962796,
          -1.4914225646310548,
          0.16237751521480687,
          -0.510659276063037,
          -1.0434217570760989,
          -0.5806485753698701,
          -1.5754630361759205,
          1.076374973009313,
          0.9852838686910417,
          -1.0421029185926878,
          -0.931149818301978,
          1.9328339698411292,
          0.5161702573881188,
          0.3305977134264134,
          -0.196584868517246,
          -1.5053059695640392,
          -1.2677947134287078,
          -1.3249336434154169,
          -0.21425321716913867,
          0.04213224965081667,
          0.0817799641652046,
          -1.3390813354596616,
          0.2905493255586374,
          0.1363739386750539,
          -0.7175082535471053,
          0.22228107884961743,
          1.6967058984449999,
          -0.08423658527743447,
          -0.6510849678792757,
          0.08500007400016893,
          0.8620222916625071,
          1.3198474974294947,
          0.2953246679943644,
          -0.4411205741970534,
          -0.7020327888443478,
          1.7857235240135838,
          -0.03410005214573434,
          1.0539472073382077,
          -0.05500103142518526,
          -0.5728860287868134,
          0.7108800511898927,
          0.5926495255885106,
          0.07048255610901893,
          0.2839291569678118,
          1.766869087895366,
          0.6875300225741084,
          0.8385440179160025,
          -0.41097013895524026,
          -0.44459555968024617,
          1.4324371209147106,
          -1.1971370887374362,
          0.8810749044087564,
          0.3649492592235894,
          -1.6387131442417018,
          0.3229117263976066,
          0.4315081447821993,
          -2.201834589703692,
          0.7189182416583878,
          -0.5069841310851844,
          -0.47515571175691196,
          -0.7925968544010967,
          1.3210037280509026,
          -0.7120016914798855,
          0.597271028463159,
          -0.7073248818980639,
          0.004427215907858982,
          -1.2795080740841152,
          -1.0139477719792886,
          -1.6047552055670598,
          0.4165930897412603,
          -1.703223598562632,
          0.5500129442697391,
          -0.4875091075207845,
          -0.6606123534728053,
          2.023258436625524,
          0.3306775189312796,
          -1.168673468088794,
          -0.9653403625008006,
          -1.6812184916932804,
          1.4143697716771473,
          -0.5951006753393986,
          -0.31964245344408204,
          0.5143752778473465,
          0.1160831207066673,
          0.429487516052497,
          -0.4112670305371917,
          -0.20154401472368771,
          0.3496642013044726,
          -0.6845197576869981,
          -0.43096565378315826,
          -1.3014949359902157,
          1.3833113213997066,
          0.6115566459863171,
          1.4345726980086237,
          -0.24997026186483046,
          -0.6483023211034536,
          -0.3901156923101041,
          0.5802242536922113,
          -1.9496170351254738,
          -0.43856981565458864,
          -0.5127887934208333,
          -0.941335665286633,
          -1.4428240244657748,
          -0.2721441179698553,
          0.8054027109990651,
          -0.7038208804981858,
          0.2974949253480869,
          0.5048356542881842,
          -0.33961401974473204,
          -0.5352042028957928,
          -0.9783112575835828,
          -0.007775847040470718,
          -1.4391753056921686,
          -0.9193438349258299,
          -0.6073346365752591,
          1.261476932769211,
          -1.366724221421722,
          0.36910489917907474,
          -0.031259581650494826,
          1.2111262296586944,
          0.3004605161093904,
          -0.7959333696097578,
          0.17284373519630447,
          -0.07865185637624447,
          0.8373219613089045,
          0.3870784154741141,
          -0.811884401841001,
          0.12212606898718985,
          -0.19977712229387173,
          -0.2430626196140061,
          1.4037967486237855,
          -0.6709023196590785,
          -1.2007272291498239,
          0.730570077923304,
          0.42976179304707274,
          -0.511835649818619,
          0.9944699468240953,
          0.38246835905961774,
          0.12739897478665155,
          1.0354855982369062,
          -0.04444068967735116,
          0.578359358205059,
          1.8327039596066683,
          1.4218996609616088,
          -1.6542283560110578,
          -0.797308711145938,
          -0.11198877688807375,
          0.23610811441272114,
          0.385935827033756,
          -0.4187743092953131,
          0.528128669041567,
          1.1641145258428898,
          -1.4193343140793382,
          -1.0634523082315555,
          -0.5669076260689345,
          0.7077738583728633,
          0.946664543188018,
          2.0629182860622346,
          -0.3647389843130683,
          0.4867564748797286,
          -0.49979799121945934,
          0.11824159584745565,
          -0.05398005590713847,
          2.5820484495084277,
          -0.7632835395197669,
          0.8738499260838227,
          0.8506486004489656,
          -0.8700502244868645,
          0.03230749746790533,
          0.24223728401820377,
          1.34982842536923,
          -2.3046755657392586,
          1.4663783542467352,
          1.7381666002743228,
          -0.9228171754715409,
          0.7437889350241547,
          -0.890878690084965,
          0.21625954214269208,
          -0.6482358898579055,
          -0.6569076427211326,
          -0.7445647463253963,
          0.9337380119852331,
          -0.09534760423402663,
          -0.32688986748361076,
          -1.242643794606165,
          1.6591185089428322,
          -0.9488530135599187,
          0.07849883454329919,
          0.2963954554469502,
          -0.5322851662316833,
          -0.6053258010029084,
          -0.03369150508821572,
          -1.9463060506919974,
          1.4878764089530259,
          1.143752960890213,
          0.5164217812252283,
          -0.869394773339389,
          -0.8266748962811599,
          -0.4193034507384945,
          1.8192472495698067,
          -0.8634875264711865,
          0.2142147069682942,
          1.197313089214833,
          0.09573977290932216,
          -0.21165389157858797,
          0.01027026124013144,
          -1.5845628004978052,
          -1.7080442885285976,
          0.6051274072556796,
          -0.6503753818937102,
          1.4501298083893064,
          -0.6497744407751846,
          -0.3528058030763827,
          1.2494333724143374,
          -0.4704722316381491,
          -0.9689284935762758,
          -0.6655268295076837,
          0.9470235625164841,
          0.12997743510622076,
          0.4444933343901172,
          -0.3005232844829172,
          0.5600904296567266,
          0.7088802624388801,
          -0.34119292596948525,
          1.3523227557902298,
          1.7410731277119451,
          -0.12666282340802393,
          0.6484636255783754,
          0.380202619563075,
          -1.3874393414091932,
          -0.965990748115311,
          -1.768340796192209,
          0.49351980584802935,
          -2.949571692686616,
          -0.8148493982310803,
          -0.2604650173092098,
          1.5544267559529117,
          -0.6177194334231509,
          0.5734815049747528,
          1.0659642917130387,
          0.628778719790878,
          -0.4526840458605188,
          0.20059294214036982,
          0.5250559538155005,
          0.5539423432774989,
          -0.7658054755168443,
          0.9676708745534384,
          1.0547515047902427,
          0.27297777854074323,
          0.5288309720910361,
          -1.5088942266612,
          0.5757952816635811,
          0.20256317209912578,
          0.8255508966974088,
          -1.4947484567808245,
          1.279606059219344,
          -0.6168349564692821,
          0.04668579814297082,
          0.4977462620233752,
          0.8167878686990866,
          -0.25428548334837775,
          -0.7007707005791161,
          0.6804877154599608,
          -1.291922900136523,
          0.2940739674983074,
          -0.9611510350485545,
          -0.7292463590757575,
          -1.276673617076663,
          2.637930215858548,
          0.516285214613422,
          -0.059198369649340325,
          1.1592003387861822,
          -0.5144595130434118,
          1.3668841129240779,
          -2.1140178296940015,
          0.38543933092430865,
          1.2102127438452526,
          -0.9311666270919324,
          -1.4240610540768905,
          1.2325889640406062,
          0.8026524111904312,
          0.33867245482764613,
          -1.47524198933118,
          -2.612906219891867,
          -0.046643019320883994,
          0.2807145888915359,
          1.5202440029612392,
          0.510829430450874,
          0.4486761533662494,
          -1.7438368191964035,
          0.15981267185464687,
          -0.9984944557573411,
          -1.1150590078183664,
          -0.7811662906252244,
          0.26238721296652845,
          0.46447370544344396,
          1.2419180084647181,
          -0.47163582496000706,
          1.5173097677017886,
          -1.2420092899889266,
          0.4051505904639844,
          0.8944621836226926,
          0.5640936665532944,
          0.6331608845657516,
          0.7427494882548268,
          0.20391153971529413,
          1.049282973698695,
          0.8941694128422817,
          0.3859805347478516,
          -2.374835623927408,
          -0.05035420346995076,
          0.7143989344760734,
          1.0101042196879932,
          -1.5138284104817674,
          0.22623204477585715,
          -0.6731336595013585,
          0.17734185071801217,
          0.8711467473021303,
          -0.9376404078239196,
          -0.3385762276728621,
          1.0190457584986272,
          -1.3347487073128574,
          1.0494152654033475,
          -1.419324769512016,
          2.064977087956136,
          -2.4270277656468515,
          -0.10096200250128917,
          -1.2937412060334115,
          -1.469703404374008,
          -0.8897570366689765,
          0.26131940067791815,
          -0.09269785423661026,
          -0.8057027071980253,
          0.4734518591103714,
          -0.10416845936975436,
          -0.10795701743772816,
          -0.46761284618258075,
          -2.2150951178724405,
          0.39792399743370294,
          0.8976252325388608,
          -0.699792944795017,
          2.3218908987805826,
          -0.7552151061771409,
          1.1594203499289333,
          1.2948696671526163,
          -1.3193906514932692,
          -0.1375247931954349,
          0.3888110725444359,
          -0.8251386627846877,
          0.018870737837205755,
          -1.3715427764401267,
          -0.7723700428614787,
          -0.4121682843512377,
          -1.2644394514518853,
          -0.40538431873188346,
          -1.1374643288287754,
          -0.28955613882472836,
          -0.4499223497512063,
          0.49280109154343776,
          0.8238033607412818,
          1.1291072402425937,
          0.8705788991841297,
          0.19504467707895667,
          -1.2749266562443444,
          0.9427459420676513,
          -0.3650151014555055,
          -0.8244701463922334,
          0.6206685633390591,
          -1.0247332055529128,
          0.749758866484934,
          0.08589550198696089,
          -1.4811655361674063,
          0.7048800821964999,
          -0.4561043489363133,
          -1.3033664716685784,
          -0.1437613173564359,
          -0.23458346831628574,
          0.9904687168938076,
          0.09138051167449844,
          -1.0723781053938515,
          -1.7893531241557605,
          -1.3597929267256985,
          -0.16491060908178723,
          1.0906989583562259,
          2.0914219175342317,
          1.0748894167743204,
          0.9199482911305118,
          -2.7783912161990787,
          -0.3489913553777342,
          -0.4918290118446996,
          -1.7542880960595035,
          -0.2874294141965852,
          -0.14766598835311917,
          0.31319286096311066,
          -1.2497419998844697,
          0.1649993275578628,
          -0.20611014127029484,
          -0.23669180541829918,
          0.9078269106229262,
          0.0067339857682024735,
          -0.6350025176565975,
          0.6929231237151385,
          -0.16556310309468997,
          1.0914269515427026,
          -0.09308205597630825,
          -1.116536888650218,
          0.5170421370826801,
          -0.8802977679541721,
          -0.6884294716546733,
          -0.8772521618445952,
          -0.23472639933365674,
          0.8988183787252944,
          -0.09805168853193208,
          -1.6205753307380828,
          -0.13617679631893906,
          0.13048652383726034,
          0.1440931215055609,
          -0.0033830812337648755,
          -1.3896441275919846,
          -0.27338964256458304,
          -0.6825665652702249,
          0.45346688451244976,
          0.10581182726139692,
          -1.3005383985486056,
          0.8865711796593341,
          0.5861006791358976,
          -0.45263310954654884,
          0.7205649089846203,
          -0.3273907336654959,
          -0.24199286349827345,
          1.766651031038292,
          0.38178792094670355,
          -0.14487666980951636,
          0.18796299030623462,
          1.3835435065845922,
          0.8189022781640095,
          -1.5104645151881169,
          -0.1968961912970519,
          1.4956323738472985,
          -0.645733001551219,
          0.6698750505827902,
          0.37662675654901095,
          0.7078317361491547,
          -0.3030403788069212,
          -0.0708786755817403,
          0.648308458848917,
          -0.7283642824480159,
          1.0961814169479167,
          0.06663627446837668,
          -0.6159195358769803,
          0.8513727820601995,
          0.3401809246888749,
          -0.1808387252526517,
          1.5213168465995657,
          0.40168331999096846,
          -1.1479978095427459,
          0.15459145707091507,
          1.51396889699611,
          -0.5307048297172705,
          0.14629898650477807,
          0.31353157249788954,
          0.35435897528133237,
          0.4670596592965468,
          -1.2438303183770894,
          1.9323675614086997,
          1.5727912203572407,
          0.747470382749367,
          -0.7999589885860026,
          0.469132774396857,
          -0.7658893635660939,
          -1.61648484263826,
          -0.128701106935913,
          0.7905044815350579,
          0.07873540214159701,
          -0.3426476207859241,
          0.34516574496445,
          -0.3927841792479621,
          -0.42040927578872406,
          -1.0196311076446514,
          -0.05450968605593655,
          -0.17817527008871323,
          -1.9964993492647478,
          0.08595496722294506,
          -0.9005055239016723,
          1.061178112220053,
          0.5945367367425217,
          -0.037528336688101474,
          0.210560278775944,
          -0.04379239383340182,
          -0.862122478034717,
          -0.37463055741425383,
          -0.8716254394146916,
          -0.6928180908887791,
          -1.0055833810000163,
          0.5404435442198748,
          -1.8690688261708381,
          1.858929964995653,
          -2.1541335891420124,
          0.4352429705165976,
          0.7891947424632264,
          -1.2376589193177745,
          -0.36943850576177023,
          1.291032268344858,
          0.5257006548210508,
          -0.8744647776285887,
          -1.6869779682838275,
          -0.6492946545667051,
          -1.2793303359446186,
          -0.3996735642920045,
          -0.8718728504460402,
          -0.6341419691659157,
          -0.7447555375679334,
          1.5615281138073367,
          0.31284696370093235,
          -0.0030212619079561702,
          1.433569509213086,
          -0.11788271540123708,
          -0.8784797077364064,
          -0.5094763653597286,
          -0.18677080633366666,
          -1.6149282098558748,
          1.338350557398529,
          -1.014363579840109,
          0.06953496785307976,
          0.7110122032841728,
          1.0361622731052935,
          -1.0362741090472811,
          0.003029390857020479,
          1.1675817731009157,
          0.3397609500799526,
          0.27433132586465003,
          -0.5202261216712393,
          0.8792697559253875,
          -1.6749470574008845,
          0.9855483754625993,
          -1.0865043629874247,
          -1.1949010355472804,
          0.5329516240307897,
          -1.6305302752867459,
          1.7872227613337783,
          0.46626152979497476,
          -0.7879911013704931,
          0.5684373470757197,
          0.5646572621848562,
          0.4346543555449552,
          0.6121405087450934,
          0.27839574983067716,
          0.7262434511876298,
          -2.1571282322947956,
          -1.6691944378767811,
          -0.324767215595015,
          0.04914759931769591,
          -1.422890830651062,
          1.031262912709873,
          -0.28486679615057287,
          1.6975613106675844,
          0.5675804602277489,
          0.5492463838046117,
          -1.016406792801323,
          -0.6432457061792983,
          0.31368736747549214,
          -0.2207458227733051,
          0.21022947136032197,
          -0.2822037956552926,
          1.6879835594347132,
          -1.9079181763361595,
          0.6154019714444277,
          -0.8375716815232557,
          -1.5824775148157626,
          -1.1083825848954978,
          -0.5162255128596598,
          0.13365642738193798,
          0.14863129248800308,
          0.9364499998231487,
          -0.9797387731926434,
          2.279106964573328,
          -2.212669266543432,
          -0.39600042827091925,
          -0.9817912302214548,
          0.6951154758674626,
          0.8315126050093667,
          -2.2717807333968834,
          0.3284532608799808,
          0.39805544980593904,
          -0.9886677275216246,
          1.7217591245442883,
          2.235982986295905,
          -2.0990838333948614,
          -0.3842759394560757,
          -1.2583804555641565,
          0.722424889924907,
          -1.2093918743743686,
          -0.4631265247178602,
          -0.13608472431227428,
          -1.1233464265783486,
          1.1722187964590889,
          1.1365622620652944,
          3.343685171963374,
          -1.415896081096039,
          0.26958085179713026,
          -0.9767077434505307,
          -0.37227418078116803,
          1.5241583748064398,
          1.2869291038070456,
          2.337745094122884,
          0.21487275874269363,
          -0.22006474208904894,
          0.7898760015169171,
          -0.9716474806179385,
          1.0735889515718016,
          -0.9769481418083328,
          0.13992280465093887,
          -1.883864084435459,
          0.7940285173574206,
          0.1327781028701048,
          -0.16996299512212654,
          2.0902302302742193,
          -0.702820136061999,
          -0.5147234245695175,
          1.3000623761560897,
          0.49125659666796373,
          0.840733913792591,
          1.982944936729286,
          0.7179944128625844,
          -0.6001095568383603,
          -0.5261302316283606,
          1.1421284439730912,
          1.626876062210859,
          -0.7216981668174007,
          -1.9449084438320872,
          0.9429602581047807,
          0.297592705930218,
          0.43204395356760394,
          -0.8542157038741267,
          0.2864015081743021,
          1.8976265284808003,
          -0.8010561192241367,
          -1.009041419720523,
          -0.2541538770686183,
          -1.5087057491498215,
          -0.5323588420250203,
          -0.7367139390374224,
          0.4579915855481868,
          -0.17876985412001364,
          0.8968570156100845,
          -0.6402665452411558,
          0.5414249124798294,
          -0.3983396296929659,
          0.5032614395014486,
          1.68729760037248,
          0.2960197550605229,
          -0.3190814731229884,
          1.073609104422135,
          0.8010734553090738,
          0.8508074471685537,
          -0.9841200869335843,
          1.9167150347215403,
          -2.3595992513317654,
          1.3517308462766524,
          0.2767086454228043,
          -0.480096932307186,
          1.2654312104650471,
          1.638580708114186,
          1.7433963257331937,
          1.0647699088425102,
          -1.283352771118145,
          0.36467563985371626,
          1.0057807071720082,
          -1.4641093653488562,
          0.8816984834281528,
          -0.15663847559723854,
          0.640533200083172,
          0.11208266444788301,
          0.7700731666277975,
          1.5937102189449779,
          0.4925566145924269,
          -0.9451258755380697,
          0.3629004138275793,
          -0.026303877833655506,
          0.09756589960551383,
          -0.2556574689184611,
          0.48097243924719263,
          0.27070817495275323,
          -1.2906377244204479,
          1.3807439808459396,
          0.8668919167157164,
          0.06129919613549117,
          -1.0923474445297827,
          0.33548354179872675,
          1.461390147970242,
          -0.22928844906575127,
          -1.2041370512448957,
          -0.7312486961491225,
          0.06320491142222055,
          -0.544071604186311,
          -0.7539765317307554,
          1.8323544792405932,
          0.1587133806244641,
          0.3679919965048352,
          -0.2194042732849741,
          -0.7314159980410533,
          1.4014330883364636,
          -0.8531761787593849,
          -0.9901490783298212,
          0.6043803124139209,
          0.7110745777972455,
          -0.8886937826880471,
          1.0292484317612463,
          1.1216579518170358,
          -1.2794846131376476,
          -1.540820911886143,
          1.4658110001712379,
          0.3683197013905917,
          0.6333745534428705,
          -0.1281636846428036,
          -1.41436944243046,
          1.305388906471094,
          -0.7355340247850995,
          -0.2153506622743328,
          -0.011511052190858606,
          0.6058792252548508,
          0.7000696811583771,
          -0.790874340048732,
          -0.7786535765427035,
          0.16450627474457805,
          -0.3962535043372031,
          -1.2225206453403246,
          -1.464020874012471,
          -1.0813298337788724,
          0.46388785394727644,
          0.8867306645969176,
          -1.0906106890031357,
          1.0504082253404883,
          0.6482891093761591,
          0.3506387407849027,
          -0.33223813543994124,
          1.2237944558684029,
          0.07143392835485232,
          -0.3723555514344795,
          0.5366545340729183,
          -0.8420260648251775,
          -0.9884351368611737,
          -0.2836240011758575,
          0.23852819198901407,
          -0.5725333394446371,
          -0.012343653800140516,
          1.314924247163158,
          -0.37378066655506426,
          0.8773725398381427,
          0.9126673483720098,
          1.06144160159098,
          0.5677591083919266,
          0.31517199731297874,
          0.9283011836714471,
          2.9245289878918728,
          1.1070614846933953,
          0.5403229430224412,
          -0.9862472416535819,
          1.2300232965398066,
          -1.045835911897955,
          -1.3034517404377188,
          -0.17869587079106936,
          -1.4770301507268748,
          -0.20163367815270408,
          0.7605865535746889,
          0.5437516606703635,
          -0.4213460536103616,
          -1.5283782379397708,
          1.4194338126528212,
          1.442630521263848,
          -0.8320678107609026,
          -0.42375620881819454,
          0.3136731797368338,
          -0.7525836319006929,
          -0.5881600066666961,
          -0.3439039757843757,
          -1.0825261810161455,
          -1.195191722212146,
          -1.1581490739121851,
          0.231896912561232,
          -0.3068311056532318,
          1.1672842425561067,
          -0.35676486666312207,
          -0.17065045725939276,
          -0.4259525827780306,
          0.09214715559466176,
          1.1849061947806865,
          -0.2920330072011102,
          -0.800572165578214,
          0.7181191582396167,
          -0.007582484354792566,
          0.42507070848630574,
          -1.7560164369723679,
          -0.6153463916474485,
          -0.1539937840794853,
          0.46790763890197545,
          -0.19694791951515328,
          1.5826434192164505,
          -0.06750968677348351,
          1.0569208272900406,
          0.8091980934396312,
          0.9582765327173479,
          0.27909280954171795,
          -1.4085103590840409,
          -0.5854684230611447,
          1.6045634408587797,
          -0.48688490706116666,
          -0.15614674948391408,
          -0.7681004171872192,
          0.5161990979970529,
          -0.20864222429149618,
          0.8376882135026941,
          0.30942741259291767,
          -0.8538791887333246,
          0.3816119226956093,
          0.15395563722254335,
          -0.8190781671217006,
          1.0030567976327451,
          0.5284609082868729,
          0.8293438849172176,
          0.991028267755005,
          -0.11690025771345891,
          -0.1408257911474897,
          -0.9292071687232063,
          -0.30117455930298115,
          -1.3712622902906098,
          -1.2251152533339498,
          0.5750955681196042,
          -1.05495820919752,
          -0.7185258352062508,
          -0.1766887406007266,
          -0.7105548568276095,
          -0.6857430444458958,
          -0.7062348491329382,
          -2.305087916710197,
          -0.715877085655772,
          -0.42335508491688,
          0.08881497015742093,
          -1.2576033599026977,
          0.7192887726715341,
          0.21834863556567566,
          0.9498960688366734,
          -0.48312232455250176,
          0.8821086996032889,
          1.0010773663037043,
          -0.26703951283403254,
          0.19480099866892409,
          0.3197389155149078,
          -0.11748634359529628,
          -1.054176059018308,
          0.8447524330656552,
          -1.3871613297485228,
          0.1495464083169116,
          1.7646720253456796,
          0.5093620390128862,
          0.16530165366462835,
          -1.4162666548406184,
          -0.4339962600965978,
          -0.9362937933396976,
          -1.070410217119385,
          -1.1923378195496497,
          -0.04481472319837192,
          -1.6180433457365164,
          -0.4028193503853765,
          1.5199006579847785,
          0.7846797652657421,
          -1.3463228920770531,
          -0.9801582720526091,
          0.4079444430134945,
          0.7959395254628555,
          0.7287984742482344,
          2.1543265884223493,
          2.213582183953338,
          0.008550259028323045,
          -0.5392110811391208,
          -1.7156053059143326,
          0.4866096291675463,
          0.11529852579123633,
          -0.8109352243320953,
          -0.765407306980395,
          1.5855999726017498,
          -1.754353560479823,
          -1.5183575678087111,
          -1.314608644730045,
          -0.6266345947100626,
          0.3164450502293807,
          -0.3978927648692914,
          -1.3603900620935219,
          -1.0416853314997103,
          -0.4989286130966995,
          -0.34100554193009924,
          0.4240368399397635,
          -0.05164030918002655,
          -0.30218679816226734,
          0.030024931602467157,
          -0.22658503589840034,
          0.05764980366946561,
          -1.1903790708363233,
          0.2669232145693236,
          -0.8647699910116842,
          -1.1082551234722744,
          -2.7870220198556996,
          -0.13756833976924537,
          -1.8068374782999315,
          -2.0060941926541056,
          -1.1458860537806392,
          0.1824545011374084,
          0.7969469066083357,
          1.246054999089588,
          -1.2690516365385711,
          -0.8628982027481779,
          0.15244516629805607,
          -1.277641111627485,
          -0.6022983089421612,
          -0.4769897931665339,
          -2.1197700408435503,
          0.24371875471260518,
          -0.39069357217197304,
          0.2386433529504864,
          -1.5090799982836602,
          -1.5473490787063242,
          0.02243116742506666,
          1.0678759821286772,
          -1.182158232207441,
          -0.3171657852913656,
          -1.0842744216886302,
          -0.2950310232532874,
          -1.2297787653992507,
          0.7067570071593517,
          -0.8643168753567936,
          1.0784224442089094,
          -1.6387439543668019,
          2.555150278149875,
          0.30381259982553427,
          -1.7313173864646592,
          0.6247744817600518,
          -1.168518572712844,
          -1.1655274932775777,
          1.7410710599981474,
          0.4041714213651153,
          -0.5412606213253425,
          -1.6882639033616798,
          1.222263353321922,
          0.3414449328375467,
          0.14742901483201432,
          0.2730972594712443,
          0.7076630576689035,
          -0.21232812409048923,
          -0.9770959394023879,
          -0.6985547684104599,
          -0.11711271097483839,
          0.089457740985955,
          1.411113174024357,
          1.2491895617840258,
          0.4148316531549647,
          2.3625050469265183,
          1.0360461449001217,
          -0.22860407736901428,
          0.6045762207642953,
          0.8072164932253906,
          -2.109347408807429,
          2.2386750806265554,
          -0.3750980239788588,
          0.5088102310055591,
          0.30219978919035184,
          1.100067503248872,
          1.0720806135087768,
          -0.11664637379806811,
          1.454668521749969,
          0.4674410168400072,
          0.9119410774872796,
          -0.8844089441511853,
          -1.303296393388528,
          -0.6190887485511706,
          1.672369601262926,
          -1.2898607248515048,
          -0.3958491660903483,
          -1.092100586646041,
          0.3354890543262156,
          0.04739596702944413,
          -0.6314915877667105,
          0.8102735980347026,
          0.0597496982670309,
          0.4772570290234445,
          -0.17380078079921277,
          0.6908837898659553,
          -0.3032195339674292,
          -0.17318359268423636,
          -0.5979118698982161,
          -0.605463564691262,
          0.2862620715582114,
          0.6154800962465474,
          0.7435690525488595,
          -0.04297581629595955,
          0.1614367147666435,
          -0.8527943737459047,
          0.8145825591716341,
          0.24866483290352318,
          -0.8361121177141047,
          -0.28859278811637123,
          -0.6685846539316614,
          0.17478421708054429,
          -0.16303962530772012,
          2.1573549663135263,
          0.5974135703685431,
          -1.37996001271371,
          0.31595820382032436,
          1.5208251022271666,
          -1.8073590080292297,
          -0.253990099329372,
          1.7906511849041846,
          1.0442905496971155,
          -0.14851481691826474,
          0.6318608786981266,
          -2.3027873186928547,
          -1.7458767823974148,
          -0.13727865862030825,
          1.6833931009778986,
          -0.08884066111400538,
          0.40548567424972387,
          1.817903073713991,
          -0.05241676623119011,
          -1.068683125071256,
          0.5957614893410139,
          -0.003723988558237739,
          0.28864317724158683,
          2.424008386850177,
          0.018724487277195587,
          -0.5868194336942522,
          -0.12147323453236265,
          0.3309181825417097,
          0.043728367156143685,
          0.07055588288013957,
          -0.12262851697926015,
          0.5618534081650393,
          0.4874899618597707,
          0.6207116378034703,
          -0.5023941495359886,
          -0.06910618527896652,
          0.4770437218556557,
          0.6050528551100582,
          0.6187885653738284,
          -0.016054452560646183,
          0.07190375467068415,
          -0.4344406567517723,
          0.38273969984194034,
          -1.0302893403386721,
          -0.5797762663358514,
          -0.1631931741421667,
          -1.0575689642775308,
          0.020477046070835753,
          0.9502221486987732,
          2.68483627728429,
          -0.764820490782647,
          -1.2395493046837252,
          1.187204887542397,
          0.6082312466078897,
          -0.17563383214928796,
          -0.36888917025659285,
          -0.10773130733434778,
          0.4674372504438301,
          -0.5187171240785767,
          -3.544652213022134,
          -0.8881822513639986,
          -0.4502074749351506,
          0.41871958858216773,
          -1.7819669360791495,
          1.8115372716965317,
          -1.1754846104541783,
          -0.18672618780297393,
          0.935293681285579,
          0.9230314204575922,
          -0.04202878813600817,
          1.168031152978213,
          1.1855936334116275,
          1.5776699796777183,
          0.5708159500978361,
          0.11365224735811956,
          0.42430753853521497,
          -0.8142405708975382,
          0.7033148110446145,
          0.6355960746242011,
          0.8373489441128191,
          -0.28312912721271066,
          -1.237041966510347,
          0.26575074352568956,
          0.18810082186439234,
          -0.05477674185653209,
          1.0031339792492453,
          -0.8987975165283303,
          1.1519467475172092,
          0.1042002226963249,
          -0.5979736722790847,
          0.6847315642577195,
          -0.34425056244270236,
          0.5619046377561668,
          -0.7268084670435534,
          -1.250853877797013,
          -1.0519445976569914,
          0.40247908249279657,
          -0.34042964553027566,
          0.20855478976615396,
          -0.2203265245713024,
          1.5546864831383835,
          -0.9951799543402223,
          0.7191007264302431,
          0.06384415354734696,
          -0.6689353115614826,
          1.0320288727950775,
          0.7810901724368728,
          -1.062027659206275,
          -0.3888560314903775,
          -1.7246473517330225,
          0.3873549589040288,
          -0.9607049725811304,
          -0.1469689666329648,
          -0.7744997417387512,
          0.0925814569122735,
          -2.1632155718645527,
          -0.4730896557013702,
          -0.7778138420560008,
          -0.309316370149734,
          -0.14502899901407024,
          0.5587754881666938,
          -0.5337621941729053,
          -1.345540566227295,
          -0.6982806422962617,
          0.7485739605857609,
          -0.03824172157321706,
          1.7037048968649395,
          -2.520284824042226,
          2.2596192592944404,
          0.9329394241892568,
          0.46411146444535645,
          -1.3693827075376486,
          0.6124590280768104,
          0.11639360736674138,
          -1.2702192074389955,
          -0.45185745428768626,
          1.8788184346299834,
          -0.835927246320718,
          0.7606021175233162,
          1.7087479769705436,
          -1.994500179830392,
          0.4904321816398657,
          0.42758868474569006,
          0.840991872160798,
          -0.7558530593403597,
          -0.4861635012082069,
          1.1884934536830816,
          -0.7867506731447648,
          0.9662779434483748,
          -0.05265440135921449,
          -0.8835414772921679,
          -2.434396197971229,
          0.425274456279991,
          -2.1130703738239767,
          -1.831745782747111,
          -1.091807855045457,
          1.6050306775660617,
          -2.231738488022153,
          0.9913948282489414,
          -0.06337448308160397,
          -0.3466891598611211,
          -0.9760633226056143,
          -0.2600528903064214,
          -0.49225390057478136,
          -0.0006067078163152808,
          0.8456173500207744,
          -0.4345793092641195,
          1.3627219572574056,
          0.06830208674030891,
          -0.9091389308443518,
          -0.47796487649200425,
          0.41049284937348957,
          -1.739432495914944,
          1.6860005823961781,
          1.617320144125651,
          -0.18425020419433255,
          2.489094996934871,
          0.6266591088032403,
          -0.4238017571216724,
          1.107889273468065,
          1.1995906929991773,
          -2.319677744546164,
          -1.1579027199677274,
          0.5477031600479791,
          0.16679122648756023,
          2.3928175466619277,
          -1.3772117104741903,
          -0.8872088169143554,
          1.6925354474814227,
          0.08672383900781794,
          -0.5656477414543146,
          0.6314341484458995,
          -1.1660348385598387,
          -1.0455487839743935,
          -1.2333750196453483,
          1.5371699849269944,
          0.6020249744820233,
          3.806861047083141,
          -1.259196117297775,
          -1.1025549302971989,
          0.6258056753944505,
          -0.2808555750384066,
          0.16825369215984395,
          1.8889290285688758,
          -1.8579290564873978,
          0.6816993875545952,
          -0.5936143325929,
          0.670686174185279,
          -1.0035110071745088,
          -0.905664291379385,
          -0.2681266915729099,
          0.11925988784953083,
          1.3586851914403772,
          -0.31114485198963865,
          0.4529759525446663,
          -1.0009488901512704,
          -0.5677796294640955,
          0.3571537835068639,
          -0.02240367679865532,
          0.7569388583419389,
          0.03969193525171409,
          1.5220841239836427,
          0.6418875904340713,
          0.5456676179246629,
          0.25166256352566274,
          0.7075423327335733,
          -1.6300020658629653,
          -1.2250744957843205,
          1.6914046553315227,
          -0.12787636948152795,
          0.48771795539508583,
          -1.0931235540848467,
          -0.24091467069148534,
          1.1360056232670157,
          0.7680912499410603,
          1.9681109826737329,
          1.2376460840841308,
          0.14198507335826127,
          -0.09898368744485132,
          -0.3445133266216116,
          -0.2436767713893479,
          1.082987947360712,
          0.9310044511956463,
          -1.5118154047562278,
          -0.806616080516212,
          1.4151942266291566,
          1.8398724569607927,
          -0.3300886748739356,
          -0.04679583124615491,
          0.7044482646740479,
          0.21589447872635725,
          0.18073135707003618,
          -1.4884468221789244,
          0.027964523868400794,
          -0.3605584764283836,
          -0.3264212773075608,
          -1.1693476061095054,
          -1.4905529794004722,
          0.7108995433418659,
          0.20428267939224212,
          -0.6089900347816137,
          -0.27705973176919046,
          0.8245960372758321,
          -0.43735453163441534,
          0.7459926658727478,
          0.003687918108166166,
          0.2032352693098371,
          1.1603694097867006,
          2.02705697626568,
          -0.5039957380640329,
          1.3126675769283573,
          0.1555321032396571,
          -0.9659878461323478,
          -0.8740055732199797,
          -1.983661891776047,
          -1.0674261389506081,
          1.6349338413239052,
          0.4929852882669919,
          0.04108315222624836,
          1.21875193013651,
          -0.2732247730929806,
          -0.17602207171204645,
          -1.516107040652596,
          0.9414064280486244,
          1.0530435557992472,
          -2.41646888859131,
          0.16748324680984858,
          0.3296680827966934,
          -0.0992932237051683,
          -0.06523039236035554,
          0.32287079866024077,
          -0.5995079167595532,
          -0.628151351773235,
          0.29573874031230396,
          -1.351538127029495,
          -0.8266363774479727,
          -0.3619160017105642,
          2.4100582335582565,
          -0.467401479871923,
          0.6496197886587659,
          2.2949945449836764,
          0.5089447279103685,
          1.318485194031791,
          -0.7059855869689058,
          1.382144500749607,
          0.12397131855214757,
          1.8151582460019513,
          1.371323482808007,
          -0.8816895648147305,
          -0.2138421564051796,
          2.277061658420013,
          -1.4168279263905383,
          1.5460356186115518,
          0.13022976821780416,
          0.9860598755682023,
          0.6034144392374066,
          0.3531416496951977,
          -0.10995547429250072,
          -0.3294495170863548,
          -0.8607570601986975,
          -0.21655846686326555,
          1.063592030650842,
          -2.4984537469386203,
          -0.9466383068060519,
          -0.23659700546043513,
          -0.07151556383030572,
          1.597921423058232,
          -1.2181057983742871,
          0.890755091913015,
          -0.7154956796147741,
          0.4988159371945984,
          -0.5075984433082081,
          1.098103732555041,
          0.7137784986693163,
          2.0901849754104616,
          -0.5206754202772311,
          -0.7426209601685827,
          -0.43308075043804195,
          -1.3494250022684509,
          -1.9079089414420398,
          -0.2554451349855991,
          -0.4467517577808453,
          0.655006167825746,
          -0.24166160621467964,
          1.0129497803996457,
          -0.6012784682540897,
          -0.9036899679854464,
          0.39282152183797414,
          -0.4421864307633547,
          1.3571353555875814,
          -1.889205330394344,
          0.8204370396535885,
          -1.2581305370702904,
          0.2605525159350164,
          1.228534828645888,
          -0.4089240802238288,
          -0.15010752377727307,
          -1.1731475963040159,
          -0.3155016597637944,
          0.44619433787188817,
          0.046258877761657546,
          -1.1424739491733154,
          0.8953892965859881,
          -2.053044364202344,
          0.4495567245582939,
          -2.433778637643369,
          -0.06087719494394235,
          -1.9782782678955502,
          -0.18135061173645506,
          -0.6048392153960284,
          -0.06304967607550069,
          -0.44056163248531993,
          -0.3269296384825061,
          -0.8406483708590784,
          0.01728115402253707,
          -0.06676076788387243,
          -0.8426170161209129,
          0.2369391845654903,
          -0.7576379749379208,
          1.2236244077796257,
          2.4216148949088154,
          0.2447594174284832,
          -1.2732250731242545,
          0.6590404297916936,
          1.2083696065923732,
          -0.5075657000266637,
          -0.48472252636929036,
          -0.9612978005679579,
          0.633362378912036,
          0.6486450520273341,
          -1.1623504534102889,
          -0.15585415196939587,
          0.03133713462127287,
          -0.8948651878838692,
          0.3648309302707056,
          -0.29226678885300067,
          -0.5864816580234288,
          -0.8374130578496332,
          -1.8062886046950892,
          -0.5947373628510185,
          0.35674702045916307,
          -0.3763377194189833,
          0.0691614183920624,
          -0.7260216201124818,
          0.08111316708422803,
          -0.8812263674470866,
          0.2834572583591029,
          -1.4253061480184221,
          -0.4850870868970867,
          0.7556568536270979,
          0.6856069416547904,
          0.758314600456736,
          0.48217025535202035,
          0.34271160180552723,
          2.3177631150723874,
          -1.61843008243598,
          1.731412728449566,
          1.2211143996044032,
          0.8913434251086325,
          -1.1199162114037735,
          0.6298491458452997,
          -1.8865762778503596,
          -0.5920577758271853,
          -0.4015243963846122,
          -0.631007893357092,
          1.0210440421536187,
          0.7093521755373801,
          0.9812770838847744,
          0.7957455572090315,
          0.051057508954822625,
          0.47701977141015534,
          0.11808508443769569,
          0.6778096132540813,
          0.27383748515926426,
          -0.38082192347478266,
          3.645930129502064,
          -0.13654489052391425,
          -0.07284764624567201,
          0.43834638761324907,
          -0.6854635714185368,
          0.4337984605179328,
          -1.2452960718813157,
          0.3870480075145461,
          0.6139576039553925,
          2.2659576750885497,
          -0.16385075830061843,
          0.5836923643499999,
          0.7266654476539277,
          -0.8113997886442273,
          -0.7704577076100821,
          2.3675751624628996,
          0.6102488830316514,
          -0.35845308447304125,
          0.4032490486762627,
          -1.0443637214098802,
          -0.5784037493975687,
          0.18665986155467335,
          1.3191727493302912,
          -0.4005837536463645,
          1.2523189971338191,
          0.11965202908657518,
          -0.5407838251961521,
          2.205584203059967,
          -1.3254992958817067,
          1.2018088968238125,
          1.4668449425588606,
          0.5634541703300954,
          0.5620071234563561,
          -0.8403720843021587,
          0.203755682329742,
          -0.5483430765722971,
          0.6608878641866109,
          0.6317700673899962,
          0.7286029972388267,
          -0.7471784659275111,
          -2.3299024338117706,
          -0.29606201601603777,
          -0.9316190090591522,
          0.1713646106141802,
          -0.08593360623941543,
          -0.5100665131486141,
          -1.4570678032903595,
          -0.2069022445543337,
          -0.5016274870966065,
          -0.13443923973263056,
          0.3846287170735605,
          -1.3231579980522488,
          -1.4873592232420478,
          -1.1371269654753362,
          -0.15445094953143554,
          0.2527592049827771,
          0.32906812838771743,
          -1.02130438491698,
          -0.5536585035572348,
          0.4975542138621591,
          -1.1768550295551674,
          -1.2471245206032529,
          0.278331254499594,
          0.16865454435642938,
          0.41735569570555564,
          0.44770686566106327,
          1.3497112127609505,
          -0.8091900228220494,
          0.657290795637467,
          1.2044053650935902,
          -2.008017075682989,
          -1.8818237890551313,
          -0.5948701347821351,
          0.3625510632826287,
          0.33886001754361944,
          1.3634196847104694,
          2.550606204840357,
          1.9581107364875783,
          -0.6632074170551765,
          -0.06825133988864815,
          0.27201588226378953,
          -0.09276022559136778,
          0.08217863685212329,
          -1.392823386971541,
          0.1488855336714514,
          -1.308549247083607,
          -1.3695985893231355,
          -1.754273332080257,
          -2.632335618296278,
          -1.0663213808276557,
          -1.6766310018176493,
          -0.713681494893409,
          0.30569187955986016,
          -0.674538624583844,
          0.379175984567858,
          -0.9801065840324793,
          0.7159018632159739,
          1.1428837569888675,
          2.661278028913295,
          -0.8724587665192206,
          -0.08871299400204218,
          0.9647177228681293,
          2.518841704213469,
          -0.04011798405941823,
          -0.16647348266792183,
          1.054809322515274,
          1.3566726896245176
         ],
         "y": [
          -1.6898113469404095,
          -0.16881465672446772,
          -0.5313285939574584,
          1.4607437199540787,
          -0.4713661150786294,
          -0.7911286433863607,
          1.2746215548714388,
          0.5107203243045383,
          0.20023508673462428,
          0.379886397349694,
          -1.7239549151434086,
          0.0010952152817737515,
          0.2985860745538207,
          -2.424461019096493,
          -0.23563708369468991,
          0.24137825510686853,
          -0.31887085093078654,
          0.9952011346290213,
          -0.7157564292506026,
          0.05917999566600159,
          0.013857239018990896,
          -2.0613644475292427,
          -0.4301665338295219,
          -0.05497792639418662,
          1.4380945334532371,
          0.38458263219762256,
          -0.11331269261388822,
          -0.2600613602944977,
          0.9207935182506616,
          1.1351572863630848,
          0.6335954316313163,
          -1.1757034116306604,
          0.5115848674531508,
          -0.4034340159796634,
          -1.549400594841042,
          -0.2211252663631052,
          -0.8108888494749177,
          -0.1566806260232311,
          -0.09627595693923127,
          0.10139257412105318,
          -0.028060120461590374,
          0.8140727705434281,
          0.2662925103899955,
          1.355377729990865,
          -1.3878619452689493,
          -0.9483670312526525,
          0.8446472161166514,
          -1.195467238745782,
          0.536759695374409,
          -1.3498992879482536,
          -0.2416147138410577,
          1.1263221096174763,
          0.19316231005726753,
          -1.2952090909452991,
          -0.7210332483182124,
          -1.1551608675964888,
          -0.41679399927587024,
          -0.08775678438471131,
          -0.736808260123109,
          0.5190946281922403,
          -1.98308224376063,
          1.414447131928929,
          1.3210240059995653,
          -0.6528081660098749,
          0.681712227857926,
          -0.8502064980097043,
          0.8337481200192366,
          -0.8086943249054488,
          2.0164979383449273,
          0.06912603053479847,
          0.30702715218674687,
          1.2226979207721438,
          -1.22081940950965,
          0.7149447854629367,
          1.8957659390897255,
          -2.3384984554042387,
          1.0957245554240007,
          0.14635118544048628,
          0.5260918594226385,
          -0.126602080184772,
          -1.5011291641446938,
          -0.998197112270433,
          -0.179102415836884,
          0.7038592302434293,
          -1.5169547364785576,
          0.328622168069624,
          0.30551400515511784,
          0.8264664227200574,
          -0.8684193588489766,
          -0.44727488704999374,
          1.0592108353504617,
          0.9540024863068968,
          -0.4408500104538747,
          -0.22313419567635664,
          -1.0404272011858189,
          -0.0434716136837869,
          -1.6202956949136023,
          -0.9395049896696398,
          -0.3279913050271425,
          -0.29633442148823463,
          -0.08906927901845868,
          0.8196767219655686,
          -0.25749047315143525,
          -0.05856592312072534,
          0.9844528204841522,
          -0.778116652367339,
          -2.299978446759496,
          0.3619943275086986,
          -1.0000209629415893,
          -0.9351840478173242,
          -1.0070122493113411,
          -1.3050034269943485,
          0.6335298456944797,
          -0.4579594801962101,
          -0.16181473334978763,
          1.568930602325808,
          0.40325357797211897,
          0.28219998839996596,
          -0.7718666849275158,
          -1.2823657150629908,
          0.9657254433280144,
          0.43442730413211844,
          1.235083423456109,
          -1.1605591044588208,
          1.2511176027207178,
          -0.71435857349343,
          -1.4692518620865893,
          -0.9599744491612517,
          0.7255104599642379,
          -0.9762872941938525,
          -0.04739278494430694,
          0.43946517608637575,
          -1.458820838008416,
          -0.4316377009629152,
          -1.5050718857621959,
          0.3930357233747296,
          0.7116258466891271,
          -0.19983535604274044,
          0.022266757731099387,
          0.055885135952295516,
          0.3052994513589835,
          -0.43578560480302414,
          1.2325266536362471,
          -0.4417364286510441,
          0.04069546976233585,
          0.27804421783560557,
          -0.8925274114162358,
          0.24294177908208558,
          0.8255276539238801,
          0.36578574934399405,
          1.1675585621358906,
          0.20628655343162222,
          0.3376320812234041,
          -1.992798352519728,
          0.974021695137915,
          -0.7286167401453008,
          0.9573139958635565,
          1.6635714840749534,
          -1.0788446240809026,
          -0.08704478956251065,
          -0.16384326301949645,
          1.1359113918163113,
          -0.27900297231366233,
          -0.6947922286659716,
          -0.5071056596083167,
          0.24398554616201262,
          2.032140280997366,
          1.2374529071710907,
          1.02859547938084,
          1.4326333955925772,
          0.10555460725562153,
          -0.2638767969861241,
          -0.33921617521680664,
          0.4439665186307287,
          1.4362987741959496,
          -1.822647410063486,
          0.30916823835529683,
          -0.03961916195793955,
          2.4406224087025126,
          2.1504311159905862,
          0.8365814784185626,
          0.459065627421979,
          0.35191388385300715,
          -0.10360776720766206,
          -1.0028736432460081,
          -1.2379504074351628,
          -1.0200382558213474,
          -1.5209205580137959,
          -0.25905047820086846,
          -0.9791165588426395,
          -0.8193165836712009,
          0.4512232126020393,
          -1.107088074696522,
          -0.07157177455672127,
          0.12999739576808805,
          0.34584660466420547,
          1.7483989802012543,
          0.4497413703182265,
          -2.163651892319219,
          0.10638153383950855,
          1.4574767350463818,
          0.30547819148546623,
          -2.258070874960203,
          -0.6788196976095278,
          -0.6134665215929797,
          -0.7085738262330166,
          0.31096982801743744,
          0.17957640359276095,
          -2.9615570006677037,
          0.3286570786499425,
          1.1807904008802743,
          0.7263576719703824,
          -1.0396162755929004,
          0.1496082586020834,
          -1.5617800453296518,
          -0.9670135830759898,
          -2.7401424042155575,
          -0.18300150057833264,
          2.3003922030851203,
          -0.22511977921511783,
          -1.7783156795777346,
          -0.3347136812365261,
          0.2905751045186563,
          -0.8924480511582449,
          1.3473414535781747,
          0.03229009475546663,
          0.3956516499238913,
          2.352449906027667,
          -0.12398992687187035,
          1.0681744758704448,
          -0.758085142981045,
          1.8673871520132124,
          -0.599631696827022,
          -2.907113229618981,
          1.2595755367453711,
          -0.5634956812040572,
          -0.10458339447537,
          -1.349057726041964,
          1.312454158673379,
          2.26086930633914,
          -1.6711272350714799,
          -0.4709165627419969,
          0.4550966987825248,
          -0.4022250020338667,
          0.24699853036157907,
          0.7526773553246425,
          -0.8693567466240635,
          -0.25276588412579926,
          -0.06518656113350427,
          0.434616428887271,
          -1.0814412107741562,
          0.657549192457042,
          1.357916137776924,
          -0.38455951745459566,
          0.23486911194151866,
          1.268920468949413,
          -1.6007435240669852,
          0.8369596510291107,
          -0.25354846087311167,
          -0.22366822768922304,
          0.4505406239198191,
          -1.0764615742811716,
          -1.5116160592757537,
          0.45257729352190257,
          0.2634909910521974,
          1.7624511201274116,
          -0.6148749821910768,
          -0.8401666643164978,
          -0.6375310730097205,
          1.0317296522705013,
          -0.2529754670368928,
          0.43814956690265033,
          -0.10520705368307896,
          1.311600396870523,
          0.2504366432716069,
          -0.3169669887088941,
          0.24731481343154224,
          0.27472330476500334,
          1.107734007670374,
          -0.2192866551455752,
          1.1080424667662119,
          1.002955546440864,
          -1.0640071188315303,
          0.7500540577061575,
          0.07317626576566169,
          -0.2683680953522057,
          0.9012236826877624,
          -1.8048682281002606,
          0.4351223857420717,
          -0.04903400223837012,
          -0.6373744676411202,
          0.25168617943561616,
          0.403239299754179,
          -1.1755279926737332,
          0.854627375891503,
          -1.197890922009743,
          -1.1876819498126803,
          -0.06413485817547668,
          -0.31973393556609336,
          1.5742767612250697,
          0.7419607983537521,
          -1.0990791491603096,
          -1.0655313724573892,
          -0.42637728050668233,
          1.7012759830536826,
          -0.07645309253221913,
          0.16687241875950096,
          0.21898524350644089,
          -2.0861256913038053,
          -0.40624681619104935,
          -0.11256541299215872,
          -1.401941309580566,
          0.039499328287851576,
          -0.10491849141661014,
          -0.2280609568369132,
          -0.5834080737815053,
          -2.0762657062182903,
          0.9350048229485642,
          -0.0013669999570168922,
          0.40676117768333336,
          1.547535997168714,
          -0.3981304534218566,
          0.8924420699718137,
          -0.6109340879298,
          -0.8759223396213524,
          -1.0745781989807304,
          1.8223028309693985,
          2.0745928619665506,
          -0.3213688550876999,
          -1.5561429945198135,
          -0.47763034255333897,
          -0.867071869472971,
          0.10200244129441645,
          0.8944419089463066,
          -0.0764693110862535,
          1.3074539584093345,
          0.46224913428275394,
          0.16861650552780502,
          -0.06572496115406569,
          0.30912302448807005,
          0.6707920795653814,
          0.6201792696982332,
          0.6598206919945008,
          -2.3088760866187354,
          0.5215218991497698,
          0.5831203145547487,
          0.8782746039539139,
          -1.6516417701478676,
          1.4935249150537235,
          0.17754194800023756,
          -0.1721752035552698,
          0.08451312271687611,
          -0.4977553930213586,
          -0.603341504568881,
          -0.8598131425766921,
          -0.7994037543870565,
          -0.4857050952803687,
          -0.5756101305854934,
          -2.096721798532584,
          -0.08382548138762189,
          -1.7395402028212223,
          0.3276547807476214,
          1.164270049332343,
          -1.7079502346454731,
          0.15015585999162465,
          -0.6748196112538488,
          -1.4191322741187318,
          0.3151035799690157,
          -0.6614137447954752,
          0.531398852013666,
          -0.09676577886902649,
          -0.5779387080903673,
          -0.6902582598937138,
          0.06140956708128623,
          -1.4148121086242642,
          0.7961913900451102,
          1.3644788597112556,
          -0.0421807465027994,
          -0.0014271702556687468,
          -0.6107192408612462,
          2.0798032114604075,
          -0.16224142278401393,
          1.838186842093297,
          -2.3498351694476054,
          -0.03851429165586679,
          1.060159552288026,
          -1.002433227722207,
          1.1964833099319367,
          -0.2099059114510543,
          -1.4426566266710261,
          1.6995200367183434,
          -0.3567991590486749,
          -0.6355819148517762,
          -1.9378940564526093,
          0.2851862109190589,
          -0.2920865639484891,
          0.8107126262726936,
          -0.4516835205365405,
          -1.1209871730903838,
          -0.17862477982454023,
          1.3488134700745293,
          1.267215320001578,
          0.17152958651206746,
          -0.22288609402699697,
          -1.2361931122232153,
          -0.5944585932729205,
          -0.5261519211062344,
          0.1309139712128216,
          -0.07360357809256779,
          0.48633001141271026,
          -1.3166077038934891,
          0.7487756868644537,
          0.9742763468474342,
          0.12416479615553437,
          -1.1310363850699434,
          1.129233182741617,
          0.6208245647012047,
          0.8981373846961831,
          -0.655400277975507,
          0.02172810661402673,
          -0.7665509826328111,
          0.04955013627413614,
          0.6720398722182072,
          -0.6379019141077357,
          1.0908325592831598,
          -0.024014392368033443,
          -0.09996618750958193,
          -0.15928148552359342,
          -0.8721449345489078,
          0.18823926113151046,
          -2.6025750108684678,
          0.5768967470924569,
          -1.0181440484509394,
          0.9893665671722273,
          -1.6550681979730537,
          0.7373285522819263,
          0.5428236441345292,
          -1.0909667937424927,
          1.0867588103983632,
          -2.38970545271747,
          -1.0238813825902031,
          0.08708321988170245,
          0.68391938890996,
          -0.5893701036573308,
          -1.3410728687284021,
          0.7650023168645532,
          0.46441904215312013,
          0.22843771010041433,
          -0.7006752627364131,
          -1.3913619851268737,
          -0.04272137758569773,
          0.04623180103547413,
          -0.5750080906701183,
          1.1673658436637537,
          -1.235507202049562,
          1.0357164473512184,
          -0.6813634469413884,
          1.707009479112915,
          1.469109742136358,
          -0.9225961059497375,
          -0.12688337240891856,
          -0.08933847873018796,
          -0.7459068799146792,
          1.2964511068893325,
          0.36226730354916487,
          -0.237586464976685,
          -0.021766115724392847,
          0.7190000637985563,
          -0.3440761878603786,
          -0.6264817567272121,
          0.825748794605883,
          0.9917534583470005,
          0.35871122963785423,
          -0.7052794818280138,
          -0.4219492803229862,
          0.07848648314123124,
          -0.5777959711371942,
          0.38079362599511357,
          1.1171120762074698,
          1.6440422820359275,
          0.35113949781216913,
          1.9296434318568492,
          -1.7534270892876895,
          -1.853972768528835,
          -0.7685376063451872,
          -1.3966442306889926,
          0.4883636531940932,
          0.5826788114178355,
          -0.290890425407327,
          0.6062627135512629,
          1.1566041360281256,
          0.5030739969285731,
          -1.9687183421702803,
          -1.0793984074100933,
          0.9034357317916791,
          1.4517871701608511,
          0.2333173342570672,
          0.06061024955078463,
          -1.6171606582912863,
          -0.23285559378956733,
          2.0565813374725734,
          1.0041164681762669,
          1.0224969818520253,
          0.17920565818591835,
          -0.9859545616307993,
          -0.441002981339854,
          0.20946137809833348,
          0.36649114582365555,
          -1.4710097287133528,
          -0.07419782626346032,
          0.5235528827557879,
          -0.2219767371148214,
          -0.13727641478111074,
          -1.9674041535195295,
          -1.8085704189763763,
          -0.7767064049899957,
          -0.14764166512282043,
          -0.7618864663640105,
          0.15474915135159972,
          0.9127197116097167,
          -1.5984119484247634,
          0.35403379717078476,
          1.2214519332439684,
          1.5325857978430346,
          0.49566922201581043,
          0.8359532306042805,
          0.8119538930612347,
          0.04840164009563515,
          -0.7937064029443494,
          -0.07858349883575545,
          -2.237296053982906,
          0.06145971073675641,
          0.3679817276319896,
          -0.36643101815627355,
          -0.6261644839861393,
          -0.07084385865223426,
          0.31559315343655514,
          1.1093727076065845,
          -1.674564767794484,
          -0.49587327417392746,
          -0.5660193733708718,
          -0.61322913470711,
          0.030144679461774557,
          3.3527208300520948,
          -0.5511132089388459,
          1.2231496517537592,
          -0.6569758422741954,
          0.004507936888810995,
          0.8886767712139605,
          -1.3552648747211629,
          -0.473870322827233,
          -0.38718073006307363,
          0.5130839196543344,
          -0.26860610470500257,
          0.3257064512732706,
          0.2395613075535772,
          -0.286512306813873,
          -0.12951317523846986,
          -1.2904927033111167,
          1.2919533935578345,
          0.32876734335991736,
          0.05538466452190768,
          -0.11721005130035976,
          1.6777944314302062,
          -0.9906047894847343,
          -0.3415163580684398,
          -0.6479169088295526,
          0.840074783094237,
          -0.6470211233812938,
          0.7367049026082004,
          -0.3679637229644632,
          0.5937161094717577,
          0.49901537746727526,
          -0.306475200182931,
          -0.4441573651744846,
          -1.6426976998451612,
          0.3440146248285373,
          -1.1251977600880774,
          -0.5434925410773901,
          -1.151277935533833,
          -0.3589747355934279,
          1.4286576315208088,
          -0.25237687258352215,
          -1.342608790734198,
          0.8388078884274629,
          1.0066830882942777,
          0.5406434721442155,
          -1.404343442362167,
          -2.071470373802207,
          0.5859061768827344,
          -0.8901297554668687,
          0.8757279660951565,
          0.5555428552334571,
          -0.13817995722569665,
          0.9772165202896991,
          0.4650076228044998,
          -1.6939829132434314,
          0.2484083762715898,
          -0.4432558670331778,
          0.3928804892174802,
          -0.9571348541034946,
          0.7762965968685424,
          -1.9337299878161263,
          -0.17813757557089907,
          -1.5653330082199275,
          2.1191199841818293,
          0.06364527398831311,
          0.32312371896553566,
          2.5350064897136177,
          1.7242539794612006,
          0.3183931317615609,
          0.13849171894248344,
          -0.43477198604840506,
          0.30220520632981485,
          -0.21796038850431507,
          0.7599388732428535,
          -1.5416513693902092,
          -1.7294773267802495,
          0.8516093524894657,
          0.8417678620557039,
          0.2732149461623125,
          1.8899379048647502,
          -1.5963107430254249,
          -0.1348429992281925,
          0.9796863651542758,
          0.7298876684759492,
          -0.1043048927385892,
          -1.4928993118265543,
          1.6236757321000197,
          -0.590298317606073,
          0.006451832287869525,
          -0.42403921684611195,
          -1.3020507591591193,
          -1.3110909071878993,
          0.3770151902402528,
          -0.7283433609021092,
          -0.6820093089182298,
          -0.4640938328599075,
          -0.5613381224420024,
          -0.07322656251612698,
          -0.09885058065967253,
          -0.3709017830627329,
          -0.7301356977509641,
          -1.2422502068876917,
          0.17863478285558054,
          -0.19920012496969183,
          -1.453570396567544,
          -0.4346311329114419,
          -1.1454058115847408,
          -0.04390145641873267,
          0.3261916469018785,
          0.9574497985585216,
          2.0346226939986702,
          -0.13779448718551526,
          -0.35231994268607725,
          -0.7182985528516187,
          -0.5309976920249249,
          0.1291876096593198,
          1.634702281633763,
          -0.8267135818936736,
          -0.06945393898663117,
          0.4982735168908352,
          -0.4427809518545866,
          0.35100047490744085,
          -0.039859377923545304,
          0.2137347341260174,
          0.6982588917910248,
          -1.2499690043217326,
          -0.5143776117396547,
          -0.05344808455501038,
          -1.761760468803619,
          1.2272085238804842,
          -1.7148901472144469,
          -1.8632604585504509,
          -0.7147627920829837,
          0.3148113522519364,
          -0.40785752748787235,
          0.003915658721285632,
          0.5888810944633596,
          0.3449039364451027,
          -0.13439554056292813,
          -1.2631266145419864,
          0.38481185117182976,
          1.299845266342237,
          0.23940881067412742,
          0.30784897928439825,
          -1.1189029746129493,
          0.6961527550480455,
          -0.7353174109845771,
          0.4006209319448915,
          -0.17941207230125797,
          -0.2714633313000205,
          0.6270051586022647,
          2.4339462843544757,
          1.7486224981557168,
          -0.4474273168135279,
          0.8678268778750227,
          -1.6429712967757168,
          1.72982274986671,
          0.44139277798295906,
          0.4119304063962274,
          -0.31068278027635876,
          -1.6315465852658888,
          -1.2582373492399437,
          0.040078917895278426,
          0.005276400028855275,
          -0.7168502654217783,
          2.8680340082567573,
          -0.340903072861043,
          0.19488657895230388,
          0.9672699445782175,
          -1.4293436435706288,
          0.46211888681806984,
          0.31242383881452057,
          -1.1581566589534134,
          -2.605923714478705,
          0.765011709555373,
          -0.434995042419392,
          1.376440626193031,
          0.6099616838476903,
          -0.9234578532449724,
          1.1005546195240044,
          -1.0377320807683805,
          2.5963966983997837,
          2.165181294765474,
          0.8753889773445329,
          0.9015004637385865,
          0.6950971801073912,
          -0.4897565263697802,
          2.08587235943703,
          -0.038631892090224565,
          0.17881993918319888,
          1.221990917891798,
          -0.4801827949959919,
          0.8532027908214339,
          -0.12448461869471972,
          0.8344690038433082,
          -0.29778593672565845,
          -0.3924952938541299,
          -1.262027157144141,
          0.5878703285105742,
          0.3390507351293752,
          -1.8683547889515135,
          -2.0784121428239977,
          1.090837204957109,
          -0.1922320325351593,
          0.6569617222317896,
          1.5306343290258688,
          -0.2908899640896418,
          0.030001110427950655,
          0.522159997325131,
          -0.30340835433650815,
          2.1626972957530706,
          -1.8294378391521928,
          -0.8662400055515085,
          1.101334681404463,
          0.8051399322795123,
          0.5660592463382424,
          -1.169027984098068,
          -1.4491885126366495,
          -0.7681904301515621,
          0.4235918981615019,
          -0.0640837824967604,
          -0.2601287460283941,
          -0.28027866063730345,
          1.2926699288576822,
          -1.010744860928724,
          -1.648818793907188,
          0.718646410374603,
          1.230885663278455,
          2.358784544390505,
          -1.1500073239249962,
          -0.6590377902733098,
          1.911354617163637,
          0.8437211788262017,
          0.04778772802160177,
          -0.5792364366126185,
          -0.2683384297800291,
          -0.5935003944467765,
          -0.3015201596266947,
          -0.7208754210790133,
          0.5337942304760792,
          -0.09438298562529401,
          -0.46699905410325826,
          -0.48651353237321915,
          0.43294371916017416,
          -1.6216936508572501,
          0.20056240722059915,
          -0.18507944541450264,
          1.4269987356098603,
          -0.4923484561363783,
          -0.14298154840119515,
          -0.7305967943838891,
          0.9372316365017731,
          -1.5281607203747551,
          0.3765634596197288,
          -0.21014084708900135,
          -0.9164484073620116,
          0.3721144629009686,
          -1.017872344627778,
          -0.157942488848084,
          -1.8310792508365434,
          -0.2866233656657293,
          -0.6204671462491924,
          1.7619125006690253,
          -0.45600210326559015,
          0.91758572051921,
          -1.6592577424860935,
          -0.7767328107983957,
          0.4333493041662402,
          -0.9659928474416859,
          -0.15002298656123347,
          0.450945230848282,
          1.361035998953408,
          -0.6330910735972013,
          0.7165722139875619,
          -0.28291339733674753,
          0.7038880628057234,
          1.62568609966462,
          -0.4157423245961825,
          0.5595906768656422,
          0.24486276681192268,
          -2.5726795294039686,
          0.20819329050426538,
          2.065950651878514,
          0.5040107705438157,
          -0.6371846684875937,
          1.4828785660375166,
          0.06286686621210888,
          -1.1763758618240663,
          2.906983756356452,
          0.9559750384604767,
          -0.07242011693796889,
          0.5068319701171704,
          -0.6985930272693031,
          -1.4208195216484798,
          2.2330598849590375,
          0.400905394287391,
          1.366278547772859,
          1.0876109879401012,
          -0.5467954049341209,
          -0.005189381207791708,
          -3.019569889317402,
          0.38287670536459556,
          -0.16308764978719212,
          0.43403198182695785,
          0.9684317320175662,
          -1.4464102136971067,
          -0.2738934131149266,
          0.3253130640066254,
          0.7125447156360886,
          -0.037943306328758676,
          0.577035438090814,
          -1.4321979779338714,
          -0.41510925887951317,
          0.5172268719902466,
          -0.4289502019591052,
          0.4324574379369569,
          0.49573110708803747,
          0.14973691620603316,
          -1.5519637915750997,
          0.6837528995036344,
          1.6597881220024608,
          1.147718909601724,
          -0.7013960316542261,
          -0.9551771664117477,
          0.5554782016100419,
          -2.1204073224570497,
          1.3191139248666122,
          -0.21128148697818339,
          -0.38858651693635743,
          -0.7290399405334957,
          1.1260784730745614,
          -0.6384051704745268,
          1.3681419264739914,
          0.3993867043247452,
          -0.7668529066073423,
          0.8642294996065494,
          0.4048549111949302,
          0.5555343994580665,
          2.0595844768893428,
          0.21805034007949833,
          -0.76000677698376,
          0.052011880539309066,
          -1.2304707224020812,
          0.6993641554845134,
          1.8283924157524618,
          0.7569614030610166,
          0.6209664977904591,
          -0.835294227851759,
          0.6404309050024704,
          -0.8962436592656605,
          -0.43137928622615673,
          -0.49310635622246446,
          -1.036201700336281,
          -0.5025582077573674,
          -1.5894635783267534,
          -0.03923887624783143,
          0.20393285750459178,
          -1.0387801025226862,
          -0.7984743264720614,
          -1.2330097534077653,
          -1.1511984293261723,
          0.2318512570898806,
          -0.18300673475751306,
          -1.3500426601733793,
          0.16363176708258617,
          -0.545139257218303,
          0.5407601917927088,
          -0.9514370830970788,
          0.4907829166309978,
          -1.2520418163842353,
          0.062344988104292356,
          -2.2701109039819243,
          1.3267380182335993,
          1.3501767161195508,
          0.047272062269862046,
          0.10229321442181326,
          1.3521718975255437,
          -1.4264462139419876,
          -0.22180616268166325,
          -0.4336385582654077,
          1.4147803161675776,
          -0.6708398465887682,
          1.3640642474838869,
          -1.4678097385325604,
          -0.15457479686417794,
          -1.0634552965058024,
          -0.890706411572948,
          0.4463299772859204,
          -0.4810319456222112,
          -0.7843660058336245,
          -2.860355133029364,
          0.051708032554699385,
          0.439174399405324,
          0.5116660060583738,
          0.8727459708119977,
          -0.2044445524608388,
          1.8571097841086146,
          -0.14984357185839525,
          1.0802640985300032,
          0.47388536540382464,
          1.5673452573963826,
          0.8033203488829788,
          -1.1283492080127473,
          -0.4375862465682653,
          0.5175197042403371,
          0.301809747370281,
          0.07223725740003765,
          -0.40301378595881837,
          -0.03955854065317071,
          0.8304290928213676,
          -0.7684092820930633,
          -1.2408821035605744,
          -0.4569092635579217,
          1.2166707071670197,
          0.5531354289088398,
          -0.162695453403328,
          0.4153980173803436,
          0.7125307715849215,
          -0.7678998930444865,
          0.8699957631781094,
          0.6348803063648757,
          -1.5940853988140258,
          -1.780048375366793,
          1.5625425151130048,
          -0.052241171316278326,
          -1.4153912626561136,
          0.015551847640117824,
          -0.39342685989473236,
          -1.220383357194591,
          0.982227092738842,
          0.2188185635069636,
          -1.0697487351035304,
          -1.4596930167491609,
          -0.006504565044973218,
          0.9894921221258219,
          -0.8016680342192926,
          -0.7269526355850005,
          -1.3976269047828287,
          -0.10730321475687991,
          -0.6138720148047424,
          0.6620423749140133,
          0.03801449668648746,
          1.103105472003596,
          0.2363125258251256,
          0.8314962619180558,
          -0.7432793117717432,
          -0.7280978892095613,
          -0.8734416335442874,
          0.5413939344483207,
          1.5181137109593663,
          0.27905913544947236,
          1.124611458801765,
          -1.7195036090012652,
          -1.416751461072647,
          -0.38603156913404496,
          -1.6428894956846707,
          0.7207899451657857,
          1.0439992991554845,
          -0.7541964216262442,
          1.0174908855022538,
          -0.7691673051495215,
          0.19671544180083997,
          0.8373534272350123,
          -0.021938653667550465,
          -1.3805885359362602,
          0.06800472639747313,
          0.35558144282698156,
          2.836926437633557,
          0.938594532840863,
          -0.4331055312623088,
          2.2888158104269323,
          1.1310862588358823,
          0.4449671463763975,
          0.7594636554097368,
          -2.5233045663881972,
          1.1853718806878808,
          2.064489042369997,
          -0.7881848032900761,
          0.5428554144400546,
          -0.5985882037623755,
          -1.7829647868607406,
          0.09319520193887769,
          0.24714613012773845,
          -0.6781012487694281,
          -0.5630784062608323,
          -0.9635852251713238,
          2.2661582569718974,
          0.8607890992111221,
          1.2356831425739851,
          -0.6436613213732734,
          0.5904097855260432,
          0.26047097964922244,
          1.3395881249027826,
          0.4525358533211642,
          -0.3504706823855375,
          -0.012864736216227229,
          -1.5861628016388882,
          -0.8645858810936965,
          -1.1934947666918685,
          -0.1203056375225818,
          -1.6821766667462719,
          -1.748770882060227,
          0.29979249841196637,
          0.23473581442224248,
          0.04439924114605481,
          0.752545360118074,
          0.492635854375069,
          -0.36762944255234997,
          -0.7630593843481134,
          -2.044243423166092,
          0.5819363293316402,
          -2.077619017820411,
          0.36001725103904675,
          1.3347578605795531,
          0.16645323958324953,
          0.14584698755586542,
          -0.140273331190539,
          -0.7281243955071441,
          -1.1306832508626912,
          -0.2881078774732759,
          -0.11520743265472191,
          -0.787571540260531,
          1.756152345737606,
          -0.979657635549168,
          0.8656672140876633,
          0.8564651527160423,
          -0.527352422981865,
          0.37146364281655053,
          1.2293013628997536,
          -0.6961876415075776,
          -1.8527682391389704,
          -1.0004829401421615,
          -2.861816942956894,
          -0.2342794086158296,
          1.038052499339507,
          2.286325085177027,
          0.1027595721259646,
          1.7244361290992323,
          -0.39032288625360445,
          1.7869592885558228,
          -0.6316362730654964,
          1.6284353989377367,
          -0.6509591936430089,
          -1.2058085159050778,
          0.4979112042828771,
          1.1658939101263635,
          0.04307463912625472,
          -2.3690922996122197,
          2.194426494004581,
          0.30914825903077825,
          -0.8594639083183071,
          -0.5300167529948309,
          -0.6973343997668883,
          1.8495779014943106,
          -0.44741425370623994,
          0.15912466083798432,
          -3.072458393386145,
          -0.08923462260250131,
          0.4291267142193947,
          0.20270207559182837,
          -0.012506818208662389,
          -0.4082241602062662,
          1.1276380449527144,
          0.9222423026297792,
          -0.766616713413728,
          1.5143028428249217,
          0.7497397328989113,
          -0.7091811605347818,
          0.0779115005728598,
          0.11900784136940284,
          -0.6861901380967543,
          1.545773257363131,
          -2.2487123183029083,
          0.7754251047230678,
          0.5132806431590262,
          -0.8662358035992983,
          -0.32420484798494015,
          -0.0028220113715669167,
          0.11271049466923622,
          -0.17096710379223806,
          0.7478857770896697,
          0.5545769657825366,
          0.08148286789194668,
          -0.5753475975218908,
          -1.7909952899636952,
          -0.3291512728756515,
          0.6835014791918174,
          0.8503304270214267,
          -1.6592383818682548,
          -0.8268721111360282,
          -0.1681566800137774,
          0.9552411768909453,
          -0.6870610612899217,
          -0.06055905031826336,
          -1.0697426588387082,
          0.0337478369397185,
          0.08529014832462953,
          0.7327872388719474,
          1.0980818929738791,
          -0.1390468244080595,
          -2.03081830090057,
          -0.21799741348433535,
          -1.492234286908668,
          -0.19882288424220496,
          -1.5115908348476794,
          0.6070437309891674,
          -0.09262269844725059,
          -0.11601050142471038,
          -1.1440402681319288,
          -0.590539181555647,
          0.11145025892712314,
          2.1457798057220265,
          -2.1023636109129793,
          0.35074560930426757,
          -0.4727496906202792,
          -0.9853363567701182,
          -0.11043554836229205,
          0.8132256920839067,
          -1.154573813689904,
          -0.6818008953393573,
          -0.2656531410008261,
          1.672236640395519,
          0.11085319439252916,
          0.3985889226121078,
          1.3532308429448745,
          0.8085951084128988,
          0.034426676506481575,
          -1.0871503008647723,
          0.8324882006214172,
          -0.4160385955739045,
          2.3542591564558406,
          -0.33516635382694865,
          0.07153240038539706,
          -0.4243662202189162,
          0.3962155786981168,
          -1.1135556943671905,
          0.5345758548791043,
          1.0319879826724165,
          -0.6354078974919961,
          -0.7154532076464255,
          1.3636520054224368,
          0.9818307179711074,
          0.88441332601989,
          -0.06695541192561758,
          -1.2815650930941802,
          0.0999029911786524,
          -0.164689961300814,
          -1.2800145033033017,
          -0.8058957345755863,
          0.3259938668393313,
          -0.6403647349897277,
          0.0436543104891504,
          1.333455937182655,
          0.21850903436457667,
          1.1424675198264929,
          -1.1031130128743252,
          0.21600154971373142,
          0.6375227696936414,
          0.12128155485442015,
          0.39659831273677126,
          -0.2646304839729117,
          1.1139704359004936,
          0.02819752327775466,
          1.860397214954891,
          -0.43760306938597,
          0.4011671068514036,
          -0.7569626202930203,
          -1.0530792708437893,
          1.1359571899709187,
          -0.5838512383190967,
          0.6681537446290532,
          -0.05556770624933454,
          0.13562457371320966,
          -0.9812552203774975,
          -0.5941683935311641,
          1.042323520671225,
          -1.4731948263156305,
          -0.0717824740001726,
          1.3883044214435678,
          0.06154692310976991,
          1.885179897099118,
          0.02841736402721284,
          1.0383128889805078,
          -0.54409685300966,
          -1.3846227660881116,
          -0.9597720269561204,
          0.30084948346808627,
          -1.267318138245993,
          1.2347461639768378,
          0.4038226652887698,
          -0.551296003663256,
          0.40684915458697923,
          1.6313605453232631,
          -1.1977664928709972,
          -0.7526439746594628,
          1.1909268294874888,
          0.2203519258837942,
          -0.3067169885025346,
          0.007741519854506964,
          -0.11823798661050293,
          -0.9183760684375036,
          -1.442601094283194,
          0.7500705153215955,
          -0.11531198710066996,
          -1.5496368953941,
          -0.6608003780418655,
          0.025708350892551097,
          -0.4058721212610445,
          -0.8331876672985801,
          2.0338684282301784,
          -1.308147562102084,
          -0.23337319738887896,
          -1.1621348931738777,
          0.8863564575626228,
          -1.0655982066616012,
          -1.843643427789594,
          -2.0898473221271234,
          -1.0672198902955925,
          -0.34784860316391475,
          -2.006166833070457,
          0.3014767464572511,
          -1.598420306650106,
          -2.461460196411468,
          0.937058312434416,
          0.9594030755511463,
          -0.02816137878688693,
          2.3587246957083834,
          -0.17031691269436933,
          1.0416328682712026,
          -2.0049449992205886,
          0.031578049130509336,
          0.6000919580000366,
          -3.329694478003317,
          0.012368642901541983,
          4.074073781099679,
          0.6320091726303426,
          0.23300291913814988,
          0.8262547053582098,
          -1.2754626045627384,
          -0.7238826545118684,
          0.08940466225230066,
          -0.48618643363011854,
          -1.7868040559442426,
          0.025912581029319322,
          1.4401739922132617,
          -0.6186120575136914,
          -0.25795935610213955,
          0.7518970835045885,
          0.2616824715385266,
          -0.5364251560626085,
          1.9154069809854588,
          0.26941534188207367,
          0.37557155644377394,
          -1.2017700027041853,
          0.7295337083092464,
          -1.745825497415158,
          1.4710322958085962,
          -0.5624062533880552,
          0.9442321104361406,
          -0.04221838976484356,
          1.6223384299678547,
          -1.6135321556294528,
          -1.6319655047819124,
          -0.20845424073943994,
          -2.4566811147265897,
          -1.3487948304966908,
          2.1385276063065346,
          0.18245084049303,
          1.2575203779719006,
          -0.718949472928128,
          -0.8319743609071947,
          -0.23834356883053534,
          -0.742789930268778,
          -0.3092893501319988,
          -0.31576040556260127,
          0.2708627927179818,
          -0.4279611002621605,
          -1.2171378428721455,
          0.9500048922164106,
          -0.6575941079770271,
          -0.18309120177666047,
          -0.298142728445895,
          -2.086842453907623,
          1.182460885909041,
          -0.8510168919147786,
          -0.05359848864443368,
          2.018334069854814,
          1.9181391907085288,
          1.291815487881997,
          0.09160317764547143,
          0.11454602044332937,
          1.0615492648929497,
          0.6368078208652276,
          -0.22508470544834777,
          -1.5913453551394536,
          -0.5271197487167828,
          -0.1741634174969997,
          0.34543521576132247,
          -0.01028960829059204,
          0.0858502183207897,
          1.0575899299510334,
          0.37694569295176955,
          0.8494742334841504,
          -0.12448154262916905,
          -0.8204175623625289,
          -0.03406514487193717,
          -0.8087517355762948,
          0.19906632770347493,
          0.3948033325987362,
          -0.7932809776401083,
          -0.3464932593058457,
          0.6274387731918168,
          1.8802147843202517,
          -0.973706089873051,
          -1.8515085587286886,
          1.0305538795135822,
          0.14640178833917555,
          -0.24334463435421774,
          0.33586619703005244,
          -1.6577176262671265,
          -0.8081564878750191,
          -1.0005730312252248,
          0.6792164882498519,
          -0.5814399436984405,
          0.3182511701443037,
          1.5650687991258376,
          -0.21558941185802094,
          -0.15951658823454226,
          -0.5210088956183893,
          -0.9804167704580625,
          -1.251703329518387,
          -0.7942062330203936,
          -0.10866100623291952,
          -0.010954274031887017,
          -1.233942056236604,
          -0.9813029329609286,
          2.2804190963925315,
          0.4831091129240337,
          -0.25904152392370633,
          2.4572980676412013,
          -0.6304692386952457,
          0.11317588368768486,
          1.7491869485206841,
          -0.7878810856083784,
          0.25523971269963397,
          -0.6017210084586084,
          -1.5459427515407134,
          1.1562183366968708,
          0.8463016644620911,
          -1.1369888265975767,
          -1.1842978470009187,
          -0.5252024558092254,
          -0.018516713934048315,
          1.8598617435936278,
          2.0672393127205257,
          -0.537682132871106,
          1.0354053117770843,
          -1.6503415527183252,
          -0.29417629753840024,
          -1.747141561392283,
          -0.29841094152734393,
          -0.8283501840572847,
          0.38440298910629056,
          0.6404512236307518,
          -0.6164017747238223,
          -0.1461799168990417,
          1.6660735917630354,
          -0.16250067653003245,
          1.2070301927316527,
          -0.48765560699186183,
          1.070498121330727,
          0.9575810763138013,
          -0.14769630155609592,
          -1.0125457171827597,
          1.43396996410687,
          0.53916576951761,
          0.8538775206648517,
          -0.71755078429454,
          0.058993742461692054,
          -0.5300915657259905,
          -0.4412940385671828,
          -0.3792259530353594,
          -0.10664184066112627,
          1.4298395287476837,
          1.1767896067017263,
          1.1197214812678833,
          -0.0445966456999068,
          -0.3099428476185407,
          -0.9153872757455691,
          0.9637355110559548,
          -1.9546087844086064,
          1.3783803643857764,
          1.4005763950190997,
          0.3118974212082868,
          -0.6580204872705183,
          -0.6346503519369636,
          -1.2365013868410235,
          1.9883919179877665,
          1.8091445963210693,
          -1.12799899418124,
          -0.9406932821443573,
          -1.522469289944858,
          0.0012169744270634165,
          -0.9345824273614606,
          -0.6171097264646226,
          0.9032917343797763,
          0.46096829523162663,
          -0.7730060218575919,
          -0.050630609827657214,
          2.2236463181899335,
          -1.584632091747363,
          -0.39127687763114843,
          0.3616518873315901,
          -0.5767583606485756,
          1.3727900962825788,
          -0.004845727557278556,
          -0.03458729649176723,
          0.7972184838468547,
          -0.8530747147174006,
          0.7156914159946939,
          -0.13182808063709064,
          -0.3454914963700004,
          2.5684308963320834,
          0.25724767081404964,
          0.7457913759857099,
          -0.4937925068526037,
          0.678680844170161,
          0.6050711052085974,
          0.660557386500223,
          -0.0985674432273635,
          1.0059728632295286,
          -0.13658921690472312,
          0.056729082446251335,
          1.1547148346655607,
          0.9782429527388468,
          -0.04487825660921949,
          -1.3669548442337307,
          -0.5797509464414591,
          -0.10057403261248776,
          -1.2978457166139845,
          -0.6359578569704037,
          -1.0595974370558485,
          0.4316870320196631,
          -1.5306091217100846,
          -1.037476238166957,
          -1.0076326731493654,
          0.2524417106865295,
          -1.7519233614334762,
          0.33117707090996806,
          0.2542998721638189,
          -0.3703662395620884,
          0.7739293166956656,
          0.47397816419234495,
          -0.5575941775243497,
          1.0387087485872235,
          -0.9832797491289027,
          0.6359028679372003,
          0.2525484751298719,
          0.01929674851125689,
          -1.0256755741967931,
          -0.2788851181437143,
          1.6939563190060507,
          0.9745080731898835,
          -2.096384765382832,
          0.726115830398191,
          0.0302477828953741,
          -1.0202704251362829,
          0.6124103890676392,
          -1.3138644804452881,
          -0.03746328832289545,
          -0.24225758861263866,
          -1.0020007507133453,
          0.010543610340881832,
          0.871475954409628,
          0.3535222788662992,
          1.8766429533471114,
          -0.699427307625426,
          1.6461339529423793,
          -0.45801966775859915,
          -0.5379360696600323,
          0.5405264198849459,
          0.16411271902772154,
          -0.456118073631097,
          2.0915378654914707,
          -1.3650363795208957,
          1.0744455221484008,
          -0.6963474784456587,
          -0.025266261817505558,
          0.36542930725663436,
          -0.47053873424139053,
          -1.2116976733680482,
          0.3349637703304576,
          0.22646487563032372,
          -0.3509989826586073,
          -0.9319698616562386,
          -0.4011610876422261,
          0.31187203275172637,
          -0.8358803228331737,
          0.7361192128742615,
          -1.1985476637112884,
          -0.728993538546184,
          -0.4987794301501509,
          0.11029765385569552,
          -0.005659899371028455,
          -2.019013860482582,
          1.1055191402095255,
          -3.2300156270428766,
          0.9124015218418192,
          -0.01877701980625458,
          0.14532453228737502,
          -2.1370819460001864,
          -0.31148120510392113,
          -0.269124813475386,
          1.6257607134299028,
          -0.5704958951723695,
          0.21272209555671545,
          -0.7963478248913385,
          -0.30153041014813287,
          -1.50323162402047,
          -0.9296598461599278,
          -1.586761901963535,
          0.391236851740381,
          -1.3201906466892093,
          -2.2944815545354347,
          0.7679949997150718,
          1.6554950631522947,
          1.193308588312987,
          1.1280915975391403,
          -0.2200295091516921,
          0.7281858817443023,
          -0.9207882211849878,
          -1.8463642344298208,
          1.0714012515126943,
          0.9595475137815187,
          0.6572079258387075,
          -0.2060818948491994,
          -1.8816853812502599,
          0.9428808330674467,
          -1.5195957576598758,
          -0.7424622446021123,
          0.5602749679920774,
          -0.8717695577100185,
          1.0405484416479562,
          -0.46536442730606975,
          -1.7630022725705765,
          0.3006039047265265,
          0.585956766468083,
          -2.556042956654415,
          0.26969713724659455,
          0.9484692371672475,
          0.9637216216570684,
          -0.7030303602962757,
          0.18181749441244843,
          0.4478829764223249,
          0.4198630181995944,
          -0.13727141414447233,
          -0.16390236847419543,
          -1.007835682509688,
          -0.35445711951402836,
          -1.2180229820011204,
          0.4990860334445958,
          1.6901165378769545,
          0.4352820440395323,
          0.8873404899061053,
          0.45567111863389115,
          1.255634479447898,
          -1.4664075985938716,
          0.3519679831297005,
          0.32228952021846596,
          -1.249462669186518,
          0.3887499728824951,
          2.899276869744111,
          -0.7822590784147695,
          0.1991448926261738,
          1.8606731088814168,
          2.212606094892784,
          1.6048827505376388,
          -0.1568862904585638,
          -0.11243059967809052,
          -0.06937548922150664,
          -0.8944972786978493,
          -2.039658987568428,
          0.5115755247819236,
          -0.02811006689106777,
          0.07581062239710033,
          -0.0960567420270748,
          0.3065058516217312,
          -0.1714633273654065,
          -0.3885130342305172,
          -1.0263159757748905,
          0.10845416125408097,
          1.1110407153692488,
          -0.24574281441051354,
          -0.4159190423178969,
          -0.17919153588626535,
          -0.12883732438868095,
          1.0327584741617881,
          -0.42462070813016894,
          0.5818707551411989,
          -0.2508398197652833,
          0.4108901534394317,
          -0.21946776810371807,
          2.560198632782004,
          -0.8651780364293155,
          -1.0740471459365504,
          -1.0300652076774188,
          0.4392319056300501,
          -1.0739623922581283,
          -0.28255694633236184,
          0.09082898615260443,
          -2.1688150134769466,
          0.9329557180630638,
          -0.7808495124415813,
          0.06683100265547608,
          -1.722430758072949,
          0.024113658521335023,
          -0.48568852829378445,
          -1.098947158573677,
          -1.4717921748368203,
          -0.36624539417163476,
          -2.0301079766326673,
          0.8397511406119997,
          -0.03688263337423848,
          1.337322569505816,
          -0.4863229257796001,
          -0.8953075178847716,
          2.978067808775572,
          0.8928873752589659,
          -0.3753444238780164,
          0.6879974904506355,
          0.48530691317532404,
          0.9627327029343004,
          0.9032599366333725,
          0.45245255378531896,
          -0.32344389159760545,
          0.8958541569453471,
          -2.8995353505833,
          -0.6482043719176865,
          -0.2669333499467169,
          -0.5884221153253442,
          -0.8630278761091948,
          -0.04913919711199999,
          0.12645079239759296,
          -0.7193704083594232,
          0.37074801683912245,
          0.22062625841106978,
          0.40743731839199193,
          0.8479991490060217,
          -0.009167135719227415,
          1.8632598831429097,
          -0.7960872126619156,
          -1.7375644076003907,
          -1.1999903033601078,
          -0.02229694260549102,
          0.6807916326860315,
          0.4932737126858051,
          -0.0974947139750042,
          1.6073550898948972,
          -0.03950978486186736,
          -0.859808284485949,
          -0.8777985213553849,
          1.2983344767080465,
          0.4989808303977241,
          -0.5396297551096423,
          -1.0854520557440512,
          -0.31772188118330175,
          0.8955058980313447,
          0.1788357117890574,
          -0.7717625482150768,
          0.5667182117508401,
          0.7285258898300567,
          0.501561596605113,
          -0.48628235970521605,
          1.1516659101778877,
          -1.0589946630499956,
          -0.361219151016677,
          1.6246682194612019,
          0.513080878135896,
          -0.5936929123845169,
          0.5651329407414923,
          -0.3050021524324126,
          -0.616343912713843,
          0.9644595069880195,
          -0.38316851813423636,
          -0.13155470566073205,
          0.36416391772726325,
          1.2601239519512926,
          2.1462072655558853,
          -2.5825848910238824,
          2.081792708528477,
          -1.078751936636015,
          -2.3903671548336507,
          1.0033256326031674,
          -0.6545847263550435,
          0.10764912868127198,
          0.12207790348953183,
          -0.8212992080507148,
          0.7112967201098995,
          -0.13009632025399923,
          0.5803434497934415,
          0.31035514106866113,
          0.0655114653702854,
          1.4832684880304325,
          -0.3002644591207662,
          -1.2548502443533265,
          -0.786596322744212,
          -1.4239652480358123,
          0.253128876084865,
          -0.9423554706056634,
          0.4153366959618048,
          0.5517188674527627,
          -0.5927187555784269,
          -1.3368854086996702,
          -0.07634072500552222,
          -1.1437449395391095,
          -0.5415137305599591,
          0.9990782487768577,
          -1.7903110799732183,
          0.5537531799186182,
          -0.022434036636478992,
          1.4962012052308085,
          1.1065084035349646,
          0.41491762281895306,
          -0.39794271491413247,
          -1.7408778026153366,
          1.1363401588277315,
          -0.47678804673636715,
          -1.2291209727870047,
          1.2542346318743631,
          0.7622368731492329,
          -0.6224527775214934,
          -0.008814795108268924,
          -0.05694531802421455,
          0.5157316581710752,
          -0.3025245809102999,
          1.2372758317736476,
          -2.007659205161322,
          -0.05215599128004835,
          -1.7301699247953772,
          -0.9686803939689996,
          -1.2619763389104857,
          -0.3687400593706226,
          -0.049358325325343545,
          -0.9379504504457999,
          -1.18812613830399,
          -1.48145373986171,
          -0.3354027432914926,
          0.7555447929091779,
          -0.4255414293630691,
          0.23977676426575142,
          -0.4388824427608871,
          -0.6542107893916246,
          0.4831427352929722,
          -0.6663698382733378,
          0.22868960289672244,
          -0.056870690207097875,
          -0.25069555557033135,
          0.12065187100049987,
          0.2382627826312162,
          0.8087671025324944,
          -0.3865729266763616,
          2.1815384498149624,
          1.2315049746405504,
          -0.6591774506045212,
          1.4334741211032387,
          -1.5168624765409393,
          0.4719341419655349,
          -0.21307783485741774,
          -0.25096938963387583,
          -0.5413334382056305,
          0.29472593720256546,
          -0.3804945564468301,
          0.23265068072814538,
          0.07754909567478649,
          0.36019722351393363,
          0.6797174574623828,
          1.350468925765691,
          2.0611787528995125,
          -0.7936577121313557,
          -0.6842782487418564,
          -0.7046972417095869,
          0.761580237633285,
          -0.3846909932670876,
          2.2458130794009996,
          -1.9349093069775098,
          -1.7485166292596677,
          -1.1079772955342526,
          1.4013931981032814,
          -1.3415211892168586,
          0.39241377763368884,
          -0.04474770815401831,
          0.3977777021537804,
          -0.7630448150696856,
          -0.6465271050754955,
          -0.18066013127789357,
          0.4387157005709115,
          -0.3654950117632028,
          0.23616955324218905,
          0.1157595741641339,
          0.7423808504133486,
          0.08214012426514318,
          1.2770506333161897,
          -0.40066469779287905,
          0.908286444869835,
          -0.6906211417628191,
          1.826549675043177,
          0.25511042392739525,
          1.9615898566365084,
          0.3858280462445466,
          -1.6605918786602962,
          -1.9074942727410202,
          1.9267644124314274,
          -1.597235487733314,
          -0.5137771780587634,
          -0.027358700641148474,
          -0.050778885814889166,
          1.1249139031948479,
          0.7945638783359107,
          0.26249889871022053,
          2.004513128038715,
          1.0430890523542935,
          -1.3193726615800754,
          2.0375865657216847,
          2.0804302255212206,
          -0.048612956305863084,
          1.1899002920932562,
          -0.7786360108857608,
          -0.4667578255615488,
          -0.09743717910172571,
          -1.2409684130821872,
          -0.4472013086899932,
          1.19490403320426,
          0.611283114037501,
          -0.03711634207206948,
          0.1767669790919276,
          -1.3439133174114866,
          0.17935373033316115,
          0.3324987521411103,
          -0.9961033188249759,
          0.519927301159901,
          -0.346867062490858,
          -0.44802812432330386,
          0.5645271597356321,
          0.3360498353608846,
          1.0774668884611256,
          1.4424946230116031,
          -0.20727366647020765,
          0.4887733365840982,
          -0.9663915953351083,
          1.247827114195661,
          0.7592858638885952,
          -0.19261507268440092,
          0.360030747210557,
          -0.1091816568798187,
          0.169574630830898,
          -0.18376972531518074,
          -0.29289969800968885,
          0.7349430377293577,
          -0.3470530271784501,
          0.9261723723056299,
          1.8977719759937592,
          0.9416246373793957,
          0.6062577824717373,
          1.6875612851849726,
          1.4342213859850028,
          -0.8064210028341953,
          -1.0676736396626503,
          1.2513055222705864,
          -0.1732970149848939,
          -0.13960700076870136,
          2.3471894858089457,
          -0.0729335848750169,
          -0.0731935033343654,
          -2.3077861309408108,
          -0.9339613238530972,
          -1.941695602418941,
          2.3389473544716894,
          -0.13195068144481908,
          0.36506393632367085,
          -0.05613374931017848,
          0.45914615059028935,
          -0.14994413473747553,
          0.7527520757469754,
          -0.2040500226086386,
          0.9071677529066535,
          2.162867102313512,
          0.308488599253808,
          -0.5491853071543493,
          -0.575773039897023,
          -0.015846901358003932,
          -0.4312399938274644,
          -0.5954773660227708,
          0.030326965558050836,
          1.040836791017058,
          1.7328989557505823,
          0.8293755531785946,
          1.9674215334816014,
          -0.9587483859659361,
          0.8737120086227289,
          -1.3268252679616717,
          -1.1320663481718694,
          -1.3054178931114113,
          -0.3622490377221688,
          -1.5798487264946734,
          -0.4388935180113623,
          0.031049764902715642,
          -1.1166081934855518,
          -0.018803921551435836,
          -1.2294779935673539,
          0.8399039335362727,
          -1.422847908517919,
          -0.20452533889472907,
          -0.7817490850182435,
          0.6672162763018672,
          -0.8245506807861895,
          0.561726153079271,
          1.9326501547660166,
          -1.1944420539390268,
          1.4484699718544551,
          -0.49092422369036287,
          -1.0023951347337083,
          -0.153533751406394,
          -0.12801714038092254,
          0.6675416770601277,
          -0.8489712401566893,
          -0.6321046325199412,
          -0.01865353623059403,
          0.5496425796908553,
          0.07393026042761223,
          0.1384162882631425,
          1.0368873497719613,
          -2.0111514664440766,
          -0.40158443043659675,
          0.7244284441719715,
          1.1061487807982753,
          -1.5388505240579446,
          0.4184689759652893,
          1.3537132284440958,
          -1.023949786729777,
          0.2557951896202256,
          -0.13550736602228236,
          -0.11106917968073093,
          1.0118696389226258,
          -0.4547669436226733,
          0.3184029068759084,
          1.9453778738301424,
          1.0285316318190387,
          0.7560214459361776,
          0.0315555537308356,
          -0.23547988033964257,
          -0.14000755183505662,
          1.088308680611564,
          -1.0931836134707484,
          0.9102213794726004,
          -0.003197665879611696,
          0.1598897860698155,
          2.5537706386164345,
          -0.24738694867570982
         ]
        }
       ],
       "layout": {
        "template": {
         "data": {
          "bar": [
           {
            "error_x": {
             "color": "#2a3f5f"
            },
            "error_y": {
             "color": "#2a3f5f"
            },
            "marker": {
             "line": {
              "color": "#E5ECF6",
              "width": 0.5
             },
             "pattern": {
              "fillmode": "overlay",
              "size": 10,
              "solidity": 0.2
             }
            },
            "type": "bar"
           }
          ],
          "barpolar": [
           {
            "marker": {
             "line": {
              "color": "#E5ECF6",
              "width": 0.5
             },
             "pattern": {
              "fillmode": "overlay",
              "size": 10,
              "solidity": 0.2
             }
            },
            "type": "barpolar"
           }
          ],
          "carpet": [
           {
            "aaxis": {
             "endlinecolor": "#2a3f5f",
             "gridcolor": "white",
             "linecolor": "white",
             "minorgridcolor": "white",
             "startlinecolor": "#2a3f5f"
            },
            "baxis": {
             "endlinecolor": "#2a3f5f",
             "gridcolor": "white",
             "linecolor": "white",
             "minorgridcolor": "white",
             "startlinecolor": "#2a3f5f"
            },
            "type": "carpet"
           }
          ],
          "choropleth": [
           {
            "colorbar": {
             "outlinewidth": 0,
             "ticks": ""
            },
            "type": "choropleth"
           }
          ],
          "contour": [
           {
            "colorbar": {
             "outlinewidth": 0,
             "ticks": ""
            },
            "colorscale": [
             [
              0,
              "#0d0887"
             ],
             [
              0.1111111111111111,
              "#46039f"
             ],
             [
              0.2222222222222222,
              "#7201a8"
             ],
             [
              0.3333333333333333,
              "#9c179e"
             ],
             [
              0.4444444444444444,
              "#bd3786"
             ],
             [
              0.5555555555555556,
              "#d8576b"
             ],
             [
              0.6666666666666666,
              "#ed7953"
             ],
             [
              0.7777777777777778,
              "#fb9f3a"
             ],
             [
              0.8888888888888888,
              "#fdca26"
             ],
             [
              1,
              "#f0f921"
             ]
            ],
            "type": "contour"
           }
          ],
          "contourcarpet": [
           {
            "colorbar": {
             "outlinewidth": 0,
             "ticks": ""
            },
            "type": "contourcarpet"
           }
          ],
          "heatmap": [
           {
            "colorbar": {
             "outlinewidth": 0,
             "ticks": ""
            },
            "colorscale": [
             [
              0,
              "#0d0887"
             ],
             [
              0.1111111111111111,
              "#46039f"
             ],
             [
              0.2222222222222222,
              "#7201a8"
             ],
             [
              0.3333333333333333,
              "#9c179e"
             ],
             [
              0.4444444444444444,
              "#bd3786"
             ],
             [
              0.5555555555555556,
              "#d8576b"
             ],
             [
              0.6666666666666666,
              "#ed7953"
             ],
             [
              0.7777777777777778,
              "#fb9f3a"
             ],
             [
              0.8888888888888888,
              "#fdca26"
             ],
             [
              1,
              "#f0f921"
             ]
            ],
            "type": "heatmap"
           }
          ],
          "heatmapgl": [
           {
            "colorbar": {
             "outlinewidth": 0,
             "ticks": ""
            },
            "colorscale": [
             [
              0,
              "#0d0887"
             ],
             [
              0.1111111111111111,
              "#46039f"
             ],
             [
              0.2222222222222222,
              "#7201a8"
             ],
             [
              0.3333333333333333,
              "#9c179e"
             ],
             [
              0.4444444444444444,
              "#bd3786"
             ],
             [
              0.5555555555555556,
              "#d8576b"
             ],
             [
              0.6666666666666666,
              "#ed7953"
             ],
             [
              0.7777777777777778,
              "#fb9f3a"
             ],
             [
              0.8888888888888888,
              "#fdca26"
             ],
             [
              1,
              "#f0f921"
             ]
            ],
            "type": "heatmapgl"
           }
          ],
          "histogram": [
           {
            "marker": {
             "pattern": {
              "fillmode": "overlay",
              "size": 10,
              "solidity": 0.2
             }
            },
            "type": "histogram"
           }
          ],
          "histogram2d": [
           {
            "colorbar": {
             "outlinewidth": 0,
             "ticks": ""
            },
            "colorscale": [
             [
              0,
              "#0d0887"
             ],
             [
              0.1111111111111111,
              "#46039f"
             ],
             [
              0.2222222222222222,
              "#7201a8"
             ],
             [
              0.3333333333333333,
              "#9c179e"
             ],
             [
              0.4444444444444444,
              "#bd3786"
             ],
             [
              0.5555555555555556,
              "#d8576b"
             ],
             [
              0.6666666666666666,
              "#ed7953"
             ],
             [
              0.7777777777777778,
              "#fb9f3a"
             ],
             [
              0.8888888888888888,
              "#fdca26"
             ],
             [
              1,
              "#f0f921"
             ]
            ],
            "type": "histogram2d"
           }
          ],
          "histogram2dcontour": [
           {
            "colorbar": {
             "outlinewidth": 0,
             "ticks": ""
            },
            "colorscale": [
             [
              0,
              "#0d0887"
             ],
             [
              0.1111111111111111,
              "#46039f"
             ],
             [
              0.2222222222222222,
              "#7201a8"
             ],
             [
              0.3333333333333333,
              "#9c179e"
             ],
             [
              0.4444444444444444,
              "#bd3786"
             ],
             [
              0.5555555555555556,
              "#d8576b"
             ],
             [
              0.6666666666666666,
              "#ed7953"
             ],
             [
              0.7777777777777778,
              "#fb9f3a"
             ],
             [
              0.8888888888888888,
              "#fdca26"
             ],
             [
              1,
              "#f0f921"
             ]
            ],
            "type": "histogram2dcontour"
           }
          ],
          "mesh3d": [
           {
            "colorbar": {
             "outlinewidth": 0,
             "ticks": ""
            },
            "type": "mesh3d"
           }
          ],
          "parcoords": [
           {
            "line": {
             "colorbar": {
              "outlinewidth": 0,
              "ticks": ""
             }
            },
            "type": "parcoords"
           }
          ],
          "pie": [
           {
            "automargin": true,
            "type": "pie"
           }
          ],
          "scatter": [
           {
            "marker": {
             "colorbar": {
              "outlinewidth": 0,
              "ticks": ""
             }
            },
            "type": "scatter"
           }
          ],
          "scatter3d": [
           {
            "line": {
             "colorbar": {
              "outlinewidth": 0,
              "ticks": ""
             }
            },
            "marker": {
             "colorbar": {
              "outlinewidth": 0,
              "ticks": ""
             }
            },
            "type": "scatter3d"
           }
          ],
          "scattercarpet": [
           {
            "marker": {
             "colorbar": {
              "outlinewidth": 0,
              "ticks": ""
             }
            },
            "type": "scattercarpet"
           }
          ],
          "scattergeo": [
           {
            "marker": {
             "colorbar": {
              "outlinewidth": 0,
              "ticks": ""
             }
            },
            "type": "scattergeo"
           }
          ],
          "scattergl": [
           {
            "marker": {
             "colorbar": {
              "outlinewidth": 0,
              "ticks": ""
             }
            },
            "type": "scattergl"
           }
          ],
          "scattermapbox": [
           {
            "marker": {
             "colorbar": {
              "outlinewidth": 0,
              "ticks": ""
             }
            },
            "type": "scattermapbox"
           }
          ],
          "scatterpolar": [
           {
            "marker": {
             "colorbar": {
              "outlinewidth": 0,
              "ticks": ""
             }
            },
            "type": "scatterpolar"
           }
          ],
          "scatterpolargl": [
           {
            "marker": {
             "colorbar": {
              "outlinewidth": 0,
              "ticks": ""
             }
            },
            "type": "scatterpolargl"
           }
          ],
          "scatterternary": [
           {
            "marker": {
             "colorbar": {
              "outlinewidth": 0,
              "ticks": ""
             }
            },
            "type": "scatterternary"
           }
          ],
          "surface": [
           {
            "colorbar": {
             "outlinewidth": 0,
             "ticks": ""
            },
            "colorscale": [
             [
              0,
              "#0d0887"
             ],
             [
              0.1111111111111111,
              "#46039f"
             ],
             [
              0.2222222222222222,
              "#7201a8"
             ],
             [
              0.3333333333333333,
              "#9c179e"
             ],
             [
              0.4444444444444444,
              "#bd3786"
             ],
             [
              0.5555555555555556,
              "#d8576b"
             ],
             [
              0.6666666666666666,
              "#ed7953"
             ],
             [
              0.7777777777777778,
              "#fb9f3a"
             ],
             [
              0.8888888888888888,
              "#fdca26"
             ],
             [
              1,
              "#f0f921"
             ]
            ],
            "type": "surface"
           }
          ],
          "table": [
           {
            "cells": {
             "fill": {
              "color": "#EBF0F8"
             },
             "line": {
              "color": "white"
             }
            },
            "header": {
             "fill": {
              "color": "#C8D4E3"
             },
             "line": {
              "color": "white"
             }
            },
            "type": "table"
           }
          ]
         },
         "layout": {
          "annotationdefaults": {
           "arrowcolor": "#2a3f5f",
           "arrowhead": 0,
           "arrowwidth": 1
          },
          "autotypenumbers": "strict",
          "coloraxis": {
           "colorbar": {
            "outlinewidth": 0,
            "ticks": ""
           }
          },
          "colorscale": {
           "diverging": [
            [
             0,
             "#8e0152"
            ],
            [
             0.1,
             "#c51b7d"
            ],
            [
             0.2,
             "#de77ae"
            ],
            [
             0.3,
             "#f1b6da"
            ],
            [
             0.4,
             "#fde0ef"
            ],
            [
             0.5,
             "#f7f7f7"
            ],
            [
             0.6,
             "#e6f5d0"
            ],
            [
             0.7,
             "#b8e186"
            ],
            [
             0.8,
             "#7fbc41"
            ],
            [
             0.9,
             "#4d9221"
            ],
            [
             1,
             "#276419"
            ]
           ],
           "sequential": [
            [
             0,
             "#0d0887"
            ],
            [
             0.1111111111111111,
             "#46039f"
            ],
            [
             0.2222222222222222,
             "#7201a8"
            ],
            [
             0.3333333333333333,
             "#9c179e"
            ],
            [
             0.4444444444444444,
             "#bd3786"
            ],
            [
             0.5555555555555556,
             "#d8576b"
            ],
            [
             0.6666666666666666,
             "#ed7953"
            ],
            [
             0.7777777777777778,
             "#fb9f3a"
            ],
            [
             0.8888888888888888,
             "#fdca26"
            ],
            [
             1,
             "#f0f921"
            ]
           ],
           "sequentialminus": [
            [
             0,
             "#0d0887"
            ],
            [
             0.1111111111111111,
             "#46039f"
            ],
            [
             0.2222222222222222,
             "#7201a8"
            ],
            [
             0.3333333333333333,
             "#9c179e"
            ],
            [
             0.4444444444444444,
             "#bd3786"
            ],
            [
             0.5555555555555556,
             "#d8576b"
            ],
            [
             0.6666666666666666,
             "#ed7953"
            ],
            [
             0.7777777777777778,
             "#fb9f3a"
            ],
            [
             0.8888888888888888,
             "#fdca26"
            ],
            [
             1,
             "#f0f921"
            ]
           ]
          },
          "colorway": [
           "#636efa",
           "#EF553B",
           "#00cc96",
           "#ab63fa",
           "#FFA15A",
           "#19d3f3",
           "#FF6692",
           "#B6E880",
           "#FF97FF",
           "#FECB52"
          ],
          "font": {
           "color": "#2a3f5f"
          },
          "geo": {
           "bgcolor": "white",
           "lakecolor": "white",
           "landcolor": "#E5ECF6",
           "showlakes": true,
           "showland": true,
           "subunitcolor": "white"
          },
          "hoverlabel": {
           "align": "left"
          },
          "hovermode": "closest",
          "mapbox": {
           "style": "light"
          },
          "paper_bgcolor": "white",
          "plot_bgcolor": "#E5ECF6",
          "polar": {
           "angularaxis": {
            "gridcolor": "white",
            "linecolor": "white",
            "ticks": ""
           },
           "bgcolor": "#E5ECF6",
           "radialaxis": {
            "gridcolor": "white",
            "linecolor": "white",
            "ticks": ""
           }
          },
          "scene": {
           "xaxis": {
            "backgroundcolor": "#E5ECF6",
            "gridcolor": "white",
            "gridwidth": 2,
            "linecolor": "white",
            "showbackground": true,
            "ticks": "",
            "zerolinecolor": "white"
           },
           "yaxis": {
            "backgroundcolor": "#E5ECF6",
            "gridcolor": "white",
            "gridwidth": 2,
            "linecolor": "white",
            "showbackground": true,
            "ticks": "",
            "zerolinecolor": "white"
           },
           "zaxis": {
            "backgroundcolor": "#E5ECF6",
            "gridcolor": "white",
            "gridwidth": 2,
            "linecolor": "white",
            "showbackground": true,
            "ticks": "",
            "zerolinecolor": "white"
           }
          },
          "shapedefaults": {
           "line": {
            "color": "#2a3f5f"
           }
          },
          "ternary": {
           "aaxis": {
            "gridcolor": "white",
            "linecolor": "white",
            "ticks": ""
           },
           "baxis": {
            "gridcolor": "white",
            "linecolor": "white",
            "ticks": ""
           },
           "bgcolor": "#E5ECF6",
           "caxis": {
            "gridcolor": "white",
            "linecolor": "white",
            "ticks": ""
           }
          },
          "title": {
           "x": 0.05
          },
          "xaxis": {
           "automargin": true,
           "gridcolor": "white",
           "linecolor": "white",
           "ticks": "",
           "title": {
            "standoff": 15
           },
           "zerolinecolor": "white",
           "zerolinewidth": 2
          },
          "yaxis": {
           "automargin": true,
           "gridcolor": "white",
           "linecolor": "white",
           "ticks": "",
           "title": {
            "standoff": 15
           },
           "zerolinecolor": "white",
           "zerolinewidth": 2
          }
         }
        }
       }
      },
      "text/html": [
       "<div>                            <div id=\"a1dc7812-8efb-4001-ab41-4d80c205086b\" class=\"plotly-graph-div\" style=\"height:525px; width:100%;\"></div>            <script type=\"text/javascript\">                require([\"plotly\"], function(Plotly) {                    window.PLOTLYENV=window.PLOTLYENV || {};                                    if (document.getElementById(\"a1dc7812-8efb-4001-ab41-4d80c205086b\")) {                    Plotly.newPlot(                        \"a1dc7812-8efb-4001-ab41-4d80c205086b\",                        [{\"contours\":{\"coloring\":\"heatmap\"},\"type\":\"histogram2dcontour\",\"x\":[0.1480288623384589,-1.2875152179455305,-0.18285847419994825,0.4037108633367406,-1.262288887645751,-0.4585393614581311,0.4841131114267679,-0.843159775698261,-2.18678199848926,-1.0076299329883247,0.921442295733142,-1.6266398741206436,-0.8695438293943515,-0.20460692889868473,-0.5410804593849728,-1.3301518379151804,-0.061963664553714895,-1.037709437515392,1.105724109657573,0.7991356533677796,-0.043214020289181476,2.605292611005018,0.1890611734578033,-0.9528351918884973,0.578359723392322,0.43254519565735805,-0.5539209664369308,-2.0136241743029344,0.6060031677860197,1.8346234442616804,-2.020655501829932,1.2041060409259796,-2.207240930286436,-1.2844663115045023,0.049015653365146274,0.9186780372634805,0.48386500796087,-1.1571904694749615,-0.7946367000832193,0.10339128138879093,1.3764984597340235,-1.7870304138870288,-0.3942969661103735,-0.10151414692082435,-1.4618571628900463,-0.6832542589335328,1.9175577490424975,0.7414601597133985,-0.42699983106267897,-0.9021499701247176,0.21192830321325964,0.3735021104843011,0.14277243558759706,-0.4049119975610773,0.731841831241885,-1.1654237056657015,0.26052077578047667,0.6090607741151284,0.9630627853600663,0.6731994625729134,0.2789502892082335,0.1294886010012575,-0.413225808806272,-0.5647472885465619,0.7835911527695107,-1.746783886246504,0.1463593951779741,-1.8783463464045025,-0.6357220819087334,-1.1575250394183099,-0.5868045218300061,-0.4430889898824984,-0.9058661961649688,0.8518235185174241,0.17336063331195065,-1.268997256900751,-0.5218275086523412,0.4802031772877798,-0.5193665874886885,1.699493621016131,0.07379037594178799,-0.6156335443867171,0.5589761045179685,-1.171763554583253,1.482933618725054,-1.055566410224203,-0.2267439641319687,0.3308092689989244,0.15676627600847048,0.11871550495122425,1.0824310244168358,-0.4193616791160037,1.670159207527291,0.5414992538996902,-1.1225132174317483,0.7323158889412679,0.6393534484633617,0.18878012533682453,-0.09227367130972745,-0.008849079469443329,1.5712667615413074,-0.6336623036841749,1.1122146015857972,0.12737738532664933,0.141309305310432,-0.6226349870212262,0.40889376947921546,-2.223994784040765,-0.2305786392372886,0.7138186128623568,-1.5391753529624037,-0.5188258975006708,-0.4641930062689115,-0.910766907192646,-1.6665249188018283,-1.4832165525929752,1.2031896010132874,-0.7024993340397556,-0.08398309078170506,-0.7114313704276608,1.1837803273654333,0.24815673503660685,1.0362201981968597,-1.5336671388755243,0.3310324370542138,-1.4263285283958052,0.13142417032138334,-1.1808502161036687,-0.5555039955035391,-0.005032718902195779,-0.9637677163388558,-0.15933843084984048,-1.0126887399846387,0.7074080543856581,-0.6217333280722963,0.550750276059099,0.8435231954431508,0.12648005552993177,0.17876395565869302,1.2792670565248547,-0.7637928314676582,0.0620363479931955,0.5430166183144082,-1.5551362843208296,0.021893254075988272,0.05227586207524013,-0.09022796361677296,0.1764300404027299,-1.3749960753401123,-1.7200173410854183,-1.663053132692621,0.5596279565198259,0.4188183378169681,-0.7321794785117989,-1.367088294789145,1.8985691186292746,-1.6863491450819825,-1.2156391523330214,-1.0231126529501944,-1.582548831735547,1.198940472576502,0.24480661331524936,-1.4604266891313982,-0.5167121998728897,-0.9224168496873061,-1.703124260488078,-0.5100123652788863,-1.2038238487289137,0.2753372498493308,-0.7538946277989287,-0.0984653108774492,0.7428375046184589,-0.9089175284056052,1.9399303394942544,0.1697945402042091,2.2815127264460813,-0.125510165052253,0.30800971312077097,0.726719021671468,2.2764034521208094,-2.0183995682547797,0.2867329748522091,0.4634235620144802,-0.3967605817708135,-0.06545409120414496,-0.027597488091830585,0.043131896709987516,0.6069432253749735,0.604699660918838,-1.5069525334409855,1.9987417883324563,1.0235003337085888,1.3818873395324756,-0.5254115613118954,-1.6908895359478768,-0.25636644713859463,0.0039136908115734855,-0.8718783578971142,0.3650301210597981,-0.6357033353234246,0.4190935629740813,-0.6822662836252273,-0.09836281913446696,0.1750851624884859,0.8503975970689998,-1.5402988562021194,-1.2630468832431268,-1.4097304502332357,0.2544981599246997,-0.7446376059333188,1.1814835773419583,1.5924897589203908,0.4175084676890333,-0.5419696110885055,-0.8110777027206874,0.4221300751882902,-0.418560364358681,-0.164547183244091,0.14138427507123144,-0.42725032963925286,0.8323776633024964,-1.2645809849248975,-0.6675098408677176,0.6162935097163675,-1.4131116127145333,0.1396620607160842,0.09697149148242241,0.5623360751846755,0.4271150625994915,-0.2827755352945857,0.7966090982607665,0.6503844454129706,0.5903764933240315,1.4720075050184211,-1.019942403951571,0.3787611203169272,-1.385015821256633,-2.707593952576253,-1.2269511617480122,0.49290696958639457,1.2390584648331155,-0.018958405285242595,-0.8972127175056613,0.07046455488880722,1.276783824533138,0.627620175577632,0.8409977510184301,0.07062851206320994,0.03497834786998352,-1.211181121134173,0.10177322587727256,-0.4558702724129671,-0.07521256440275993,-1.4229482661872983,0.33117647769888586,-0.30325762726457806,-0.15063660915553295,-1.2504071181545844,-0.37401924043516227,1.3691765308487398,-0.5872477067085514,0.03801987822398189,0.7354791916991341,-0.49646161104536446,0.2242674994391662,0.569668277662903,0.5137717424567211,-0.31622690682297167,-0.6209524714514429,-0.26800948736669,-1.0414865969109657,1.8688191123504503,-0.2445462806694574,-0.0682563400284832,1.1763623896681228,-0.3654444633744695,1.2154117652366796,-0.18075926466470035,-2.4032126014329687,-3.07269818259489,-0.8880863989696598,0.00013896837494713812,0.44181032941258847,0.5779672062947242,-1.042809698607103,-0.5684315031069774,0.5099500467557941,-1.4665464166836049,-0.4100120462886674,0.6052181381987967,-1.1566375834312819,0.02942481419256875,0.03936323644469894,-0.776948870729039,-0.19527247967377168,1.5190381883492867,-2.4528786428140132,-0.13838832601294787,-1.9472452239326035,1.2710657647319545,1.309993211038915,-0.8369025926175525,-1.819920269280088,-0.7768196483560349,-1.8333013340431694,0.08430918751086583,0.5317746990012987,-0.5945272531487187,1.0333612285663878,1.1515371538937433,0.020534295572309277,1.1435179476802966,0.6414895851240947,-1.5672982308629488,2.052297677104102,1.3890090797096462,0.5620792077791157,-1.006873375000095,-0.4523878246201306,1.0207082156007825,0.8587207451972905,1.1112132691906889,1.0956011716586251,0.6283248395300467,-0.8222500528208462,-0.41076644424210423,0.39316079166925183,-0.867522467834292,1.1076666964622452,0.7190495819994357,-0.8907448546020418,1.667758756366309,-0.753657626548769,-0.07802888766806526,1.936859949614012,0.010550343192841595,1.2382695943838369,-0.865237270290656,0.6732991162739093,-0.5125870282142032,-1.538434085336072,0.3239336618141018,0.48862200649038623,-1.050415005487597,0.03161697675478691,-2.038376868640737,1.3507080375197082,1.0921201527572852,-0.2841849437222853,-0.9639294435770096,2.205888762085238,0.26810231836578036,-0.9695307311604708,-0.9303849265799002,1.4390037256945625,-0.3413479661824355,1.1606872020699204,1.1384670371826393,0.8151562617018635,-1.217222445520701,0.8028873301316938,-0.3555333861398925,-0.8507751390297096,-2.2439976682475256,-0.1883546088885071,-1.6169463326783322,-1.8224514928278674,-0.10418008907897867,-0.8242861892975274,0.07629822935860621,1.1576405938959557,-1.5387823361021509,1.2013045207158624,-0.11645332164567117,-0.02042215591644782,-0.4494422919209478,-0.5527524819008592,0.4693820966138074,-0.7191586686449586,0.10362379566614906,0.6076752246717285,-0.7575279911889917,-1.1632726315722612,-0.4371242215454048,-1.7242807043123065,1.1525739299693398,0.11922235411558314,-0.2950843330506772,1.086182167485467,-0.14890667129958432,0.5107122601236401,-2.3760141648300466,-1.1037742726830693,-0.25858772657640666,1.6232368347520234,0.685234290498135,-0.21919349011425704,-0.7497151994107616,0.7701881621120055,-0.19401007687436136,-1.4276101478896355,-1.6002781512826056,-0.7921286418778184,1.835070456823066,-0.7812537011886768,0.36207421876962154,1.254407597423333,1.1970157534504744,-0.49648316497098205,-0.9588198043212428,1.0566962807210263,-0.8267255466145891,0.9388480709613453,0.48011199151748396,1.8010937732636805,0.7030940344152886,-0.6249626316204165,-0.06087509560735577,-1.7693645813586794,-1.4761386037270496,2.032707772116386,0.7444645605876962,-0.8615485454000651,0.8043719878253137,-0.07875260944353292,0.3475236288331621,-0.390767280209601,-1.2638675702991027,-0.5278066100656197,-1.4458521246889084,-1.3300945282373524,-0.6186571753234786,1.7275815037289246,-0.31996791092745797,-0.5087267231913926,-1.8210167858109054,0.8352987076184544,-1.5693421309175637,-1.5963859088000618,0.5328378225167326,-0.5906418084209805,-0.10301196167746769,-1.072029860932915,0.18635660429675485,1.425701153280406,0.3984081515991855,0.8360010997610264,-0.6628534811115285,1.0286984842486493,1.8313522639063153,0.5724802809761729,1.1421257847912627,0.09969217563511129,0.7826378763373448,0.3361291930178095,0.5828688517962796,-1.4914225646310548,0.16237751521480687,-0.510659276063037,-1.0434217570760989,-0.5806485753698701,-1.5754630361759205,1.076374973009313,0.9852838686910417,-1.0421029185926878,-0.931149818301978,1.9328339698411292,0.5161702573881188,0.3305977134264134,-0.196584868517246,-1.5053059695640392,-1.2677947134287078,-1.3249336434154169,-0.21425321716913867,0.04213224965081667,0.0817799641652046,-1.3390813354596616,0.2905493255586374,0.1363739386750539,-0.7175082535471053,0.22228107884961743,1.6967058984449999,-0.08423658527743447,-0.6510849678792757,0.08500007400016893,0.8620222916625071,1.3198474974294947,0.2953246679943644,-0.4411205741970534,-0.7020327888443478,1.7857235240135838,-0.03410005214573434,1.0539472073382077,-0.05500103142518526,-0.5728860287868134,0.7108800511898927,0.5926495255885106,0.07048255610901893,0.2839291569678118,1.766869087895366,0.6875300225741084,0.8385440179160025,-0.41097013895524026,-0.44459555968024617,1.4324371209147106,-1.1971370887374362,0.8810749044087564,0.3649492592235894,-1.6387131442417018,0.3229117263976066,0.4315081447821993,-2.201834589703692,0.7189182416583878,-0.5069841310851844,-0.47515571175691196,-0.7925968544010967,1.3210037280509026,-0.7120016914798855,0.597271028463159,-0.7073248818980639,0.004427215907858982,-1.2795080740841152,-1.0139477719792886,-1.6047552055670598,0.4165930897412603,-1.703223598562632,0.5500129442697391,-0.4875091075207845,-0.6606123534728053,2.023258436625524,0.3306775189312796,-1.168673468088794,-0.9653403625008006,-1.6812184916932804,1.4143697716771473,-0.5951006753393986,-0.31964245344408204,0.5143752778473465,0.1160831207066673,0.429487516052497,-0.4112670305371917,-0.20154401472368771,0.3496642013044726,-0.6845197576869981,-0.43096565378315826,-1.3014949359902157,1.3833113213997066,0.6115566459863171,1.4345726980086237,-0.24997026186483046,-0.6483023211034536,-0.3901156923101041,0.5802242536922113,-1.9496170351254738,-0.43856981565458864,-0.5127887934208333,-0.941335665286633,-1.4428240244657748,-0.2721441179698553,0.8054027109990651,-0.7038208804981858,0.2974949253480869,0.5048356542881842,-0.33961401974473204,-0.5352042028957928,-0.9783112575835828,-0.007775847040470718,-1.4391753056921686,-0.9193438349258299,-0.6073346365752591,1.261476932769211,-1.366724221421722,0.36910489917907474,-0.031259581650494826,1.2111262296586944,0.3004605161093904,-0.7959333696097578,0.17284373519630447,-0.07865185637624447,0.8373219613089045,0.3870784154741141,-0.811884401841001,0.12212606898718985,-0.19977712229387173,-0.2430626196140061,1.4037967486237855,-0.6709023196590785,-1.2007272291498239,0.730570077923304,0.42976179304707274,-0.511835649818619,0.9944699468240953,0.38246835905961774,0.12739897478665155,1.0354855982369062,-0.04444068967735116,0.578359358205059,1.8327039596066683,1.4218996609616088,-1.6542283560110578,-0.797308711145938,-0.11198877688807375,0.23610811441272114,0.385935827033756,-0.4187743092953131,0.528128669041567,1.1641145258428898,-1.4193343140793382,-1.0634523082315555,-0.5669076260689345,0.7077738583728633,0.946664543188018,2.0629182860622346,-0.3647389843130683,0.4867564748797286,-0.49979799121945934,0.11824159584745565,-0.05398005590713847,2.5820484495084277,-0.7632835395197669,0.8738499260838227,0.8506486004489656,-0.8700502244868645,0.03230749746790533,0.24223728401820377,1.34982842536923,-2.3046755657392586,1.4663783542467352,1.7381666002743228,-0.9228171754715409,0.7437889350241547,-0.890878690084965,0.21625954214269208,-0.6482358898579055,-0.6569076427211326,-0.7445647463253963,0.9337380119852331,-0.09534760423402663,-0.32688986748361076,-1.242643794606165,1.6591185089428322,-0.9488530135599187,0.07849883454329919,0.2963954554469502,-0.5322851662316833,-0.6053258010029084,-0.03369150508821572,-1.9463060506919974,1.4878764089530259,1.143752960890213,0.5164217812252283,-0.869394773339389,-0.8266748962811599,-0.4193034507384945,1.8192472495698067,-0.8634875264711865,0.2142147069682942,1.197313089214833,0.09573977290932216,-0.21165389157858797,0.01027026124013144,-1.5845628004978052,-1.7080442885285976,0.6051274072556796,-0.6503753818937102,1.4501298083893064,-0.6497744407751846,-0.3528058030763827,1.2494333724143374,-0.4704722316381491,-0.9689284935762758,-0.6655268295076837,0.9470235625164841,0.12997743510622076,0.4444933343901172,-0.3005232844829172,0.5600904296567266,0.7088802624388801,-0.34119292596948525,1.3523227557902298,1.7410731277119451,-0.12666282340802393,0.6484636255783754,0.380202619563075,-1.3874393414091932,-0.965990748115311,-1.768340796192209,0.49351980584802935,-2.949571692686616,-0.8148493982310803,-0.2604650173092098,1.5544267559529117,-0.6177194334231509,0.5734815049747528,1.0659642917130387,0.628778719790878,-0.4526840458605188,0.20059294214036982,0.5250559538155005,0.5539423432774989,-0.7658054755168443,0.9676708745534384,1.0547515047902427,0.27297777854074323,0.5288309720910361,-1.5088942266612,0.5757952816635811,0.20256317209912578,0.8255508966974088,-1.4947484567808245,1.279606059219344,-0.6168349564692821,0.04668579814297082,0.4977462620233752,0.8167878686990866,-0.25428548334837775,-0.7007707005791161,0.6804877154599608,-1.291922900136523,0.2940739674983074,-0.9611510350485545,-0.7292463590757575,-1.276673617076663,2.637930215858548,0.516285214613422,-0.059198369649340325,1.1592003387861822,-0.5144595130434118,1.3668841129240779,-2.1140178296940015,0.38543933092430865,1.2102127438452526,-0.9311666270919324,-1.4240610540768905,1.2325889640406062,0.8026524111904312,0.33867245482764613,-1.47524198933118,-2.612906219891867,-0.046643019320883994,0.2807145888915359,1.5202440029612392,0.510829430450874,0.4486761533662494,-1.7438368191964035,0.15981267185464687,-0.9984944557573411,-1.1150590078183664,-0.7811662906252244,0.26238721296652845,0.46447370544344396,1.2419180084647181,-0.47163582496000706,1.5173097677017886,-1.2420092899889266,0.4051505904639844,0.8944621836226926,0.5640936665532944,0.6331608845657516,0.7427494882548268,0.20391153971529413,1.049282973698695,0.8941694128422817,0.3859805347478516,-2.374835623927408,-0.05035420346995076,0.7143989344760734,1.0101042196879932,-1.5138284104817674,0.22623204477585715,-0.6731336595013585,0.17734185071801217,0.8711467473021303,-0.9376404078239196,-0.3385762276728621,1.0190457584986272,-1.3347487073128574,1.0494152654033475,-1.419324769512016,2.064977087956136,-2.4270277656468515,-0.10096200250128917,-1.2937412060334115,-1.469703404374008,-0.8897570366689765,0.26131940067791815,-0.09269785423661026,-0.8057027071980253,0.4734518591103714,-0.10416845936975436,-0.10795701743772816,-0.46761284618258075,-2.2150951178724405,0.39792399743370294,0.8976252325388608,-0.699792944795017,2.3218908987805826,-0.7552151061771409,1.1594203499289333,1.2948696671526163,-1.3193906514932692,-0.1375247931954349,0.3888110725444359,-0.8251386627846877,0.018870737837205755,-1.3715427764401267,-0.7723700428614787,-0.4121682843512377,-1.2644394514518853,-0.40538431873188346,-1.1374643288287754,-0.28955613882472836,-0.4499223497512063,0.49280109154343776,0.8238033607412818,1.1291072402425937,0.8705788991841297,0.19504467707895667,-1.2749266562443444,0.9427459420676513,-0.3650151014555055,-0.8244701463922334,0.6206685633390591,-1.0247332055529128,0.749758866484934,0.08589550198696089,-1.4811655361674063,0.7048800821964999,-0.4561043489363133,-1.3033664716685784,-0.1437613173564359,-0.23458346831628574,0.9904687168938076,0.09138051167449844,-1.0723781053938515,-1.7893531241557605,-1.3597929267256985,-0.16491060908178723,1.0906989583562259,2.0914219175342317,1.0748894167743204,0.9199482911305118,-2.7783912161990787,-0.3489913553777342,-0.4918290118446996,-1.7542880960595035,-0.2874294141965852,-0.14766598835311917,0.31319286096311066,-1.2497419998844697,0.1649993275578628,-0.20611014127029484,-0.23669180541829918,0.9078269106229262,0.0067339857682024735,-0.6350025176565975,0.6929231237151385,-0.16556310309468997,1.0914269515427026,-0.09308205597630825,-1.116536888650218,0.5170421370826801,-0.8802977679541721,-0.6884294716546733,-0.8772521618445952,-0.23472639933365674,0.8988183787252944,-0.09805168853193208,-1.6205753307380828,-0.13617679631893906,0.13048652383726034,0.1440931215055609,-0.0033830812337648755,-1.3896441275919846,-0.27338964256458304,-0.6825665652702249,0.45346688451244976,0.10581182726139692,-1.3005383985486056,0.8865711796593341,0.5861006791358976,-0.45263310954654884,0.7205649089846203,-0.3273907336654959,-0.24199286349827345,1.766651031038292,0.38178792094670355,-0.14487666980951636,0.18796299030623462,1.3835435065845922,0.8189022781640095,-1.5104645151881169,-0.1968961912970519,1.4956323738472985,-0.645733001551219,0.6698750505827902,0.37662675654901095,0.7078317361491547,-0.3030403788069212,-0.0708786755817403,0.648308458848917,-0.7283642824480159,1.0961814169479167,0.06663627446837668,-0.6159195358769803,0.8513727820601995,0.3401809246888749,-0.1808387252526517,1.5213168465995657,0.40168331999096846,-1.1479978095427459,0.15459145707091507,1.51396889699611,-0.5307048297172705,0.14629898650477807,0.31353157249788954,0.35435897528133237,0.4670596592965468,-1.2438303183770894,1.9323675614086997,1.5727912203572407,0.747470382749367,-0.7999589885860026,0.469132774396857,-0.7658893635660939,-1.61648484263826,-0.128701106935913,0.7905044815350579,0.07873540214159701,-0.3426476207859241,0.34516574496445,-0.3927841792479621,-0.42040927578872406,-1.0196311076446514,-0.05450968605593655,-0.17817527008871323,-1.9964993492647478,0.08595496722294506,-0.9005055239016723,1.061178112220053,0.5945367367425217,-0.037528336688101474,0.210560278775944,-0.04379239383340182,-0.862122478034717,-0.37463055741425383,-0.8716254394146916,-0.6928180908887791,-1.0055833810000163,0.5404435442198748,-1.8690688261708381,1.858929964995653,-2.1541335891420124,0.4352429705165976,0.7891947424632264,-1.2376589193177745,-0.36943850576177023,1.291032268344858,0.5257006548210508,-0.8744647776285887,-1.6869779682838275,-0.6492946545667051,-1.2793303359446186,-0.3996735642920045,-0.8718728504460402,-0.6341419691659157,-0.7447555375679334,1.5615281138073367,0.31284696370093235,-0.0030212619079561702,1.433569509213086,-0.11788271540123708,-0.8784797077364064,-0.5094763653597286,-0.18677080633366666,-1.6149282098558748,1.338350557398529,-1.014363579840109,0.06953496785307976,0.7110122032841728,1.0361622731052935,-1.0362741090472811,0.003029390857020479,1.1675817731009157,0.3397609500799526,0.27433132586465003,-0.5202261216712393,0.8792697559253875,-1.6749470574008845,0.9855483754625993,-1.0865043629874247,-1.1949010355472804,0.5329516240307897,-1.6305302752867459,1.7872227613337783,0.46626152979497476,-0.7879911013704931,0.5684373470757197,0.5646572621848562,0.4346543555449552,0.6121405087450934,0.27839574983067716,0.7262434511876298,-2.1571282322947956,-1.6691944378767811,-0.324767215595015,0.04914759931769591,-1.422890830651062,1.031262912709873,-0.28486679615057287,1.6975613106675844,0.5675804602277489,0.5492463838046117,-1.016406792801323,-0.6432457061792983,0.31368736747549214,-0.2207458227733051,0.21022947136032197,-0.2822037956552926,1.6879835594347132,-1.9079181763361595,0.6154019714444277,-0.8375716815232557,-1.5824775148157626,-1.1083825848954978,-0.5162255128596598,0.13365642738193798,0.14863129248800308,0.9364499998231487,-0.9797387731926434,2.279106964573328,-2.212669266543432,-0.39600042827091925,-0.9817912302214548,0.6951154758674626,0.8315126050093667,-2.2717807333968834,0.3284532608799808,0.39805544980593904,-0.9886677275216246,1.7217591245442883,2.235982986295905,-2.0990838333948614,-0.3842759394560757,-1.2583804555641565,0.722424889924907,-1.2093918743743686,-0.4631265247178602,-0.13608472431227428,-1.1233464265783486,1.1722187964590889,1.1365622620652944,3.343685171963374,-1.415896081096039,0.26958085179713026,-0.9767077434505307,-0.37227418078116803,1.5241583748064398,1.2869291038070456,2.337745094122884,0.21487275874269363,-0.22006474208904894,0.7898760015169171,-0.9716474806179385,1.0735889515718016,-0.9769481418083328,0.13992280465093887,-1.883864084435459,0.7940285173574206,0.1327781028701048,-0.16996299512212654,2.0902302302742193,-0.702820136061999,-0.5147234245695175,1.3000623761560897,0.49125659666796373,0.840733913792591,1.982944936729286,0.7179944128625844,-0.6001095568383603,-0.5261302316283606,1.1421284439730912,1.626876062210859,-0.7216981668174007,-1.9449084438320872,0.9429602581047807,0.297592705930218,0.43204395356760394,-0.8542157038741267,0.2864015081743021,1.8976265284808003,-0.8010561192241367,-1.009041419720523,-0.2541538770686183,-1.5087057491498215,-0.5323588420250203,-0.7367139390374224,0.4579915855481868,-0.17876985412001364,0.8968570156100845,-0.6402665452411558,0.5414249124798294,-0.3983396296929659,0.5032614395014486,1.68729760037248,0.2960197550605229,-0.3190814731229884,1.073609104422135,0.8010734553090738,0.8508074471685537,-0.9841200869335843,1.9167150347215403,-2.3595992513317654,1.3517308462766524,0.2767086454228043,-0.480096932307186,1.2654312104650471,1.638580708114186,1.7433963257331937,1.0647699088425102,-1.283352771118145,0.36467563985371626,1.0057807071720082,-1.4641093653488562,0.8816984834281528,-0.15663847559723854,0.640533200083172,0.11208266444788301,0.7700731666277975,1.5937102189449779,0.4925566145924269,-0.9451258755380697,0.3629004138275793,-0.026303877833655506,0.09756589960551383,-0.2556574689184611,0.48097243924719263,0.27070817495275323,-1.2906377244204479,1.3807439808459396,0.8668919167157164,0.06129919613549117,-1.0923474445297827,0.33548354179872675,1.461390147970242,-0.22928844906575127,-1.2041370512448957,-0.7312486961491225,0.06320491142222055,-0.544071604186311,-0.7539765317307554,1.8323544792405932,0.1587133806244641,0.3679919965048352,-0.2194042732849741,-0.7314159980410533,1.4014330883364636,-0.8531761787593849,-0.9901490783298212,0.6043803124139209,0.7110745777972455,-0.8886937826880471,1.0292484317612463,1.1216579518170358,-1.2794846131376476,-1.540820911886143,1.4658110001712379,0.3683197013905917,0.6333745534428705,-0.1281636846428036,-1.41436944243046,1.305388906471094,-0.7355340247850995,-0.2153506622743328,-0.011511052190858606,0.6058792252548508,0.7000696811583771,-0.790874340048732,-0.7786535765427035,0.16450627474457805,-0.3962535043372031,-1.2225206453403246,-1.464020874012471,-1.0813298337788724,0.46388785394727644,0.8867306645969176,-1.0906106890031357,1.0504082253404883,0.6482891093761591,0.3506387407849027,-0.33223813543994124,1.2237944558684029,0.07143392835485232,-0.3723555514344795,0.5366545340729183,-0.8420260648251775,-0.9884351368611737,-0.2836240011758575,0.23852819198901407,-0.5725333394446371,-0.012343653800140516,1.314924247163158,-0.37378066655506426,0.8773725398381427,0.9126673483720098,1.06144160159098,0.5677591083919266,0.31517199731297874,0.9283011836714471,2.9245289878918728,1.1070614846933953,0.5403229430224412,-0.9862472416535819,1.2300232965398066,-1.045835911897955,-1.3034517404377188,-0.17869587079106936,-1.4770301507268748,-0.20163367815270408,0.7605865535746889,0.5437516606703635,-0.4213460536103616,-1.5283782379397708,1.4194338126528212,1.442630521263848,-0.8320678107609026,-0.42375620881819454,0.3136731797368338,-0.7525836319006929,-0.5881600066666961,-0.3439039757843757,-1.0825261810161455,-1.195191722212146,-1.1581490739121851,0.231896912561232,-0.3068311056532318,1.1672842425561067,-0.35676486666312207,-0.17065045725939276,-0.4259525827780306,0.09214715559466176,1.1849061947806865,-0.2920330072011102,-0.800572165578214,0.7181191582396167,-0.007582484354792566,0.42507070848630574,-1.7560164369723679,-0.6153463916474485,-0.1539937840794853,0.46790763890197545,-0.19694791951515328,1.5826434192164505,-0.06750968677348351,1.0569208272900406,0.8091980934396312,0.9582765327173479,0.27909280954171795,-1.4085103590840409,-0.5854684230611447,1.6045634408587797,-0.48688490706116666,-0.15614674948391408,-0.7681004171872192,0.5161990979970529,-0.20864222429149618,0.8376882135026941,0.30942741259291767,-0.8538791887333246,0.3816119226956093,0.15395563722254335,-0.8190781671217006,1.0030567976327451,0.5284609082868729,0.8293438849172176,0.991028267755005,-0.11690025771345891,-0.1408257911474897,-0.9292071687232063,-0.30117455930298115,-1.3712622902906098,-1.2251152533339498,0.5750955681196042,-1.05495820919752,-0.7185258352062508,-0.1766887406007266,-0.7105548568276095,-0.6857430444458958,-0.7062348491329382,-2.305087916710197,-0.715877085655772,-0.42335508491688,0.08881497015742093,-1.2576033599026977,0.7192887726715341,0.21834863556567566,0.9498960688366734,-0.48312232455250176,0.8821086996032889,1.0010773663037043,-0.26703951283403254,0.19480099866892409,0.3197389155149078,-0.11748634359529628,-1.054176059018308,0.8447524330656552,-1.3871613297485228,0.1495464083169116,1.7646720253456796,0.5093620390128862,0.16530165366462835,-1.4162666548406184,-0.4339962600965978,-0.9362937933396976,-1.070410217119385,-1.1923378195496497,-0.04481472319837192,-1.6180433457365164,-0.4028193503853765,1.5199006579847785,0.7846797652657421,-1.3463228920770531,-0.9801582720526091,0.4079444430134945,0.7959395254628555,0.7287984742482344,2.1543265884223493,2.213582183953338,0.008550259028323045,-0.5392110811391208,-1.7156053059143326,0.4866096291675463,0.11529852579123633,-0.8109352243320953,-0.765407306980395,1.5855999726017498,-1.754353560479823,-1.5183575678087111,-1.314608644730045,-0.6266345947100626,0.3164450502293807,-0.3978927648692914,-1.3603900620935219,-1.0416853314997103,-0.4989286130966995,-0.34100554193009924,0.4240368399397635,-0.05164030918002655,-0.30218679816226734,0.030024931602467157,-0.22658503589840034,0.05764980366946561,-1.1903790708363233,0.2669232145693236,-0.8647699910116842,-1.1082551234722744,-2.7870220198556996,-0.13756833976924537,-1.8068374782999315,-2.0060941926541056,-1.1458860537806392,0.1824545011374084,0.7969469066083357,1.246054999089588,-1.2690516365385711,-0.8628982027481779,0.15244516629805607,-1.277641111627485,-0.6022983089421612,-0.4769897931665339,-2.1197700408435503,0.24371875471260518,-0.39069357217197304,0.2386433529504864,-1.5090799982836602,-1.5473490787063242,0.02243116742506666,1.0678759821286772,-1.182158232207441,-0.3171657852913656,-1.0842744216886302,-0.2950310232532874,-1.2297787653992507,0.7067570071593517,-0.8643168753567936,1.0784224442089094,-1.6387439543668019,2.555150278149875,0.30381259982553427,-1.7313173864646592,0.6247744817600518,-1.168518572712844,-1.1655274932775777,1.7410710599981474,0.4041714213651153,-0.5412606213253425,-1.6882639033616798,1.222263353321922,0.3414449328375467,0.14742901483201432,0.2730972594712443,0.7076630576689035,-0.21232812409048923,-0.9770959394023879,-0.6985547684104599,-0.11711271097483839,0.089457740985955,1.411113174024357,1.2491895617840258,0.4148316531549647,2.3625050469265183,1.0360461449001217,-0.22860407736901428,0.6045762207642953,0.8072164932253906,-2.109347408807429,2.2386750806265554,-0.3750980239788588,0.5088102310055591,0.30219978919035184,1.100067503248872,1.0720806135087768,-0.11664637379806811,1.454668521749969,0.4674410168400072,0.9119410774872796,-0.8844089441511853,-1.303296393388528,-0.6190887485511706,1.672369601262926,-1.2898607248515048,-0.3958491660903483,-1.092100586646041,0.3354890543262156,0.04739596702944413,-0.6314915877667105,0.8102735980347026,0.0597496982670309,0.4772570290234445,-0.17380078079921277,0.6908837898659553,-0.3032195339674292,-0.17318359268423636,-0.5979118698982161,-0.605463564691262,0.2862620715582114,0.6154800962465474,0.7435690525488595,-0.04297581629595955,0.1614367147666435,-0.8527943737459047,0.8145825591716341,0.24866483290352318,-0.8361121177141047,-0.28859278811637123,-0.6685846539316614,0.17478421708054429,-0.16303962530772012,2.1573549663135263,0.5974135703685431,-1.37996001271371,0.31595820382032436,1.5208251022271666,-1.8073590080292297,-0.253990099329372,1.7906511849041846,1.0442905496971155,-0.14851481691826474,0.6318608786981266,-2.3027873186928547,-1.7458767823974148,-0.13727865862030825,1.6833931009778986,-0.08884066111400538,0.40548567424972387,1.817903073713991,-0.05241676623119011,-1.068683125071256,0.5957614893410139,-0.003723988558237739,0.28864317724158683,2.424008386850177,0.018724487277195587,-0.5868194336942522,-0.12147323453236265,0.3309181825417097,0.043728367156143685,0.07055588288013957,-0.12262851697926015,0.5618534081650393,0.4874899618597707,0.6207116378034703,-0.5023941495359886,-0.06910618527896652,0.4770437218556557,0.6050528551100582,0.6187885653738284,-0.016054452560646183,0.07190375467068415,-0.4344406567517723,0.38273969984194034,-1.0302893403386721,-0.5797762663358514,-0.1631931741421667,-1.0575689642775308,0.020477046070835753,0.9502221486987732,2.68483627728429,-0.764820490782647,-1.2395493046837252,1.187204887542397,0.6082312466078897,-0.17563383214928796,-0.36888917025659285,-0.10773130733434778,0.4674372504438301,-0.5187171240785767,-3.544652213022134,-0.8881822513639986,-0.4502074749351506,0.41871958858216773,-1.7819669360791495,1.8115372716965317,-1.1754846104541783,-0.18672618780297393,0.935293681285579,0.9230314204575922,-0.04202878813600817,1.168031152978213,1.1855936334116275,1.5776699796777183,0.5708159500978361,0.11365224735811956,0.42430753853521497,-0.8142405708975382,0.7033148110446145,0.6355960746242011,0.8373489441128191,-0.28312912721271066,-1.237041966510347,0.26575074352568956,0.18810082186439234,-0.05477674185653209,1.0031339792492453,-0.8987975165283303,1.1519467475172092,0.1042002226963249,-0.5979736722790847,0.6847315642577195,-0.34425056244270236,0.5619046377561668,-0.7268084670435534,-1.250853877797013,-1.0519445976569914,0.40247908249279657,-0.34042964553027566,0.20855478976615396,-0.2203265245713024,1.5546864831383835,-0.9951799543402223,0.7191007264302431,0.06384415354734696,-0.6689353115614826,1.0320288727950775,0.7810901724368728,-1.062027659206275,-0.3888560314903775,-1.7246473517330225,0.3873549589040288,-0.9607049725811304,-0.1469689666329648,-0.7744997417387512,0.0925814569122735,-2.1632155718645527,-0.4730896557013702,-0.7778138420560008,-0.309316370149734,-0.14502899901407024,0.5587754881666938,-0.5337621941729053,-1.345540566227295,-0.6982806422962617,0.7485739605857609,-0.03824172157321706,1.7037048968649395,-2.520284824042226,2.2596192592944404,0.9329394241892568,0.46411146444535645,-1.3693827075376486,0.6124590280768104,0.11639360736674138,-1.2702192074389955,-0.45185745428768626,1.8788184346299834,-0.835927246320718,0.7606021175233162,1.7087479769705436,-1.994500179830392,0.4904321816398657,0.42758868474569006,0.840991872160798,-0.7558530593403597,-0.4861635012082069,1.1884934536830816,-0.7867506731447648,0.9662779434483748,-0.05265440135921449,-0.8835414772921679,-2.434396197971229,0.425274456279991,-2.1130703738239767,-1.831745782747111,-1.091807855045457,1.6050306775660617,-2.231738488022153,0.9913948282489414,-0.06337448308160397,-0.3466891598611211,-0.9760633226056143,-0.2600528903064214,-0.49225390057478136,-0.0006067078163152808,0.8456173500207744,-0.4345793092641195,1.3627219572574056,0.06830208674030891,-0.9091389308443518,-0.47796487649200425,0.41049284937348957,-1.739432495914944,1.6860005823961781,1.617320144125651,-0.18425020419433255,2.489094996934871,0.6266591088032403,-0.4238017571216724,1.107889273468065,1.1995906929991773,-2.319677744546164,-1.1579027199677274,0.5477031600479791,0.16679122648756023,2.3928175466619277,-1.3772117104741903,-0.8872088169143554,1.6925354474814227,0.08672383900781794,-0.5656477414543146,0.6314341484458995,-1.1660348385598387,-1.0455487839743935,-1.2333750196453483,1.5371699849269944,0.6020249744820233,3.806861047083141,-1.259196117297775,-1.1025549302971989,0.6258056753944505,-0.2808555750384066,0.16825369215984395,1.8889290285688758,-1.8579290564873978,0.6816993875545952,-0.5936143325929,0.670686174185279,-1.0035110071745088,-0.905664291379385,-0.2681266915729099,0.11925988784953083,1.3586851914403772,-0.31114485198963865,0.4529759525446663,-1.0009488901512704,-0.5677796294640955,0.3571537835068639,-0.02240367679865532,0.7569388583419389,0.03969193525171409,1.5220841239836427,0.6418875904340713,0.5456676179246629,0.25166256352566274,0.7075423327335733,-1.6300020658629653,-1.2250744957843205,1.6914046553315227,-0.12787636948152795,0.48771795539508583,-1.0931235540848467,-0.24091467069148534,1.1360056232670157,0.7680912499410603,1.9681109826737329,1.2376460840841308,0.14198507335826127,-0.09898368744485132,-0.3445133266216116,-0.2436767713893479,1.082987947360712,0.9310044511956463,-1.5118154047562278,-0.806616080516212,1.4151942266291566,1.8398724569607927,-0.3300886748739356,-0.04679583124615491,0.7044482646740479,0.21589447872635725,0.18073135707003618,-1.4884468221789244,0.027964523868400794,-0.3605584764283836,-0.3264212773075608,-1.1693476061095054,-1.4905529794004722,0.7108995433418659,0.20428267939224212,-0.6089900347816137,-0.27705973176919046,0.8245960372758321,-0.43735453163441534,0.7459926658727478,0.003687918108166166,0.2032352693098371,1.1603694097867006,2.02705697626568,-0.5039957380640329,1.3126675769283573,0.1555321032396571,-0.9659878461323478,-0.8740055732199797,-1.983661891776047,-1.0674261389506081,1.6349338413239052,0.4929852882669919,0.04108315222624836,1.21875193013651,-0.2732247730929806,-0.17602207171204645,-1.516107040652596,0.9414064280486244,1.0530435557992472,-2.41646888859131,0.16748324680984858,0.3296680827966934,-0.0992932237051683,-0.06523039236035554,0.32287079866024077,-0.5995079167595532,-0.628151351773235,0.29573874031230396,-1.351538127029495,-0.8266363774479727,-0.3619160017105642,2.4100582335582565,-0.467401479871923,0.6496197886587659,2.2949945449836764,0.5089447279103685,1.318485194031791,-0.7059855869689058,1.382144500749607,0.12397131855214757,1.8151582460019513,1.371323482808007,-0.8816895648147305,-0.2138421564051796,2.277061658420013,-1.4168279263905383,1.5460356186115518,0.13022976821780416,0.9860598755682023,0.6034144392374066,0.3531416496951977,-0.10995547429250072,-0.3294495170863548,-0.8607570601986975,-0.21655846686326555,1.063592030650842,-2.4984537469386203,-0.9466383068060519,-0.23659700546043513,-0.07151556383030572,1.597921423058232,-1.2181057983742871,0.890755091913015,-0.7154956796147741,0.4988159371945984,-0.5075984433082081,1.098103732555041,0.7137784986693163,2.0901849754104616,-0.5206754202772311,-0.7426209601685827,-0.43308075043804195,-1.3494250022684509,-1.9079089414420398,-0.2554451349855991,-0.4467517577808453,0.655006167825746,-0.24166160621467964,1.0129497803996457,-0.6012784682540897,-0.9036899679854464,0.39282152183797414,-0.4421864307633547,1.3571353555875814,-1.889205330394344,0.8204370396535885,-1.2581305370702904,0.2605525159350164,1.228534828645888,-0.4089240802238288,-0.15010752377727307,-1.1731475963040159,-0.3155016597637944,0.44619433787188817,0.046258877761657546,-1.1424739491733154,0.8953892965859881,-2.053044364202344,0.4495567245582939,-2.433778637643369,-0.06087719494394235,-1.9782782678955502,-0.18135061173645506,-0.6048392153960284,-0.06304967607550069,-0.44056163248531993,-0.3269296384825061,-0.8406483708590784,0.01728115402253707,-0.06676076788387243,-0.8426170161209129,0.2369391845654903,-0.7576379749379208,1.2236244077796257,2.4216148949088154,0.2447594174284832,-1.2732250731242545,0.6590404297916936,1.2083696065923732,-0.5075657000266637,-0.48472252636929036,-0.9612978005679579,0.633362378912036,0.6486450520273341,-1.1623504534102889,-0.15585415196939587,0.03133713462127287,-0.8948651878838692,0.3648309302707056,-0.29226678885300067,-0.5864816580234288,-0.8374130578496332,-1.8062886046950892,-0.5947373628510185,0.35674702045916307,-0.3763377194189833,0.0691614183920624,-0.7260216201124818,0.08111316708422803,-0.8812263674470866,0.2834572583591029,-1.4253061480184221,-0.4850870868970867,0.7556568536270979,0.6856069416547904,0.758314600456736,0.48217025535202035,0.34271160180552723,2.3177631150723874,-1.61843008243598,1.731412728449566,1.2211143996044032,0.8913434251086325,-1.1199162114037735,0.6298491458452997,-1.8865762778503596,-0.5920577758271853,-0.4015243963846122,-0.631007893357092,1.0210440421536187,0.7093521755373801,0.9812770838847744,0.7957455572090315,0.051057508954822625,0.47701977141015534,0.11808508443769569,0.6778096132540813,0.27383748515926426,-0.38082192347478266,3.645930129502064,-0.13654489052391425,-0.07284764624567201,0.43834638761324907,-0.6854635714185368,0.4337984605179328,-1.2452960718813157,0.3870480075145461,0.6139576039553925,2.2659576750885497,-0.16385075830061843,0.5836923643499999,0.7266654476539277,-0.8113997886442273,-0.7704577076100821,2.3675751624628996,0.6102488830316514,-0.35845308447304125,0.4032490486762627,-1.0443637214098802,-0.5784037493975687,0.18665986155467335,1.3191727493302912,-0.4005837536463645,1.2523189971338191,0.11965202908657518,-0.5407838251961521,2.205584203059967,-1.3254992958817067,1.2018088968238125,1.4668449425588606,0.5634541703300954,0.5620071234563561,-0.8403720843021587,0.203755682329742,-0.5483430765722971,0.6608878641866109,0.6317700673899962,0.7286029972388267,-0.7471784659275111,-2.3299024338117706,-0.29606201601603777,-0.9316190090591522,0.1713646106141802,-0.08593360623941543,-0.5100665131486141,-1.4570678032903595,-0.2069022445543337,-0.5016274870966065,-0.13443923973263056,0.3846287170735605,-1.3231579980522488,-1.4873592232420478,-1.1371269654753362,-0.15445094953143554,0.2527592049827771,0.32906812838771743,-1.02130438491698,-0.5536585035572348,0.4975542138621591,-1.1768550295551674,-1.2471245206032529,0.278331254499594,0.16865454435642938,0.41735569570555564,0.44770686566106327,1.3497112127609505,-0.8091900228220494,0.657290795637467,1.2044053650935902,-2.008017075682989,-1.8818237890551313,-0.5948701347821351,0.3625510632826287,0.33886001754361944,1.3634196847104694,2.550606204840357,1.9581107364875783,-0.6632074170551765,-0.06825133988864815,0.27201588226378953,-0.09276022559136778,0.08217863685212329,-1.392823386971541,0.1488855336714514,-1.308549247083607,-1.3695985893231355,-1.754273332080257,-2.632335618296278,-1.0663213808276557,-1.6766310018176493,-0.713681494893409,0.30569187955986016,-0.674538624583844,0.379175984567858,-0.9801065840324793,0.7159018632159739,1.1428837569888675,2.661278028913295,-0.8724587665192206,-0.08871299400204218,0.9647177228681293,2.518841704213469,-0.04011798405941823,-0.16647348266792183,1.054809322515274,1.3566726896245176],\"y\":[-1.6898113469404095,-0.16881465672446772,-0.5313285939574584,1.4607437199540787,-0.4713661150786294,-0.7911286433863607,1.2746215548714388,0.5107203243045383,0.20023508673462428,0.379886397349694,-1.7239549151434086,0.0010952152817737515,0.2985860745538207,-2.424461019096493,-0.23563708369468991,0.24137825510686853,-0.31887085093078654,0.9952011346290213,-0.7157564292506026,0.05917999566600159,0.013857239018990896,-2.0613644475292427,-0.4301665338295219,-0.05497792639418662,1.4380945334532371,0.38458263219762256,-0.11331269261388822,-0.2600613602944977,0.9207935182506616,1.1351572863630848,0.6335954316313163,-1.1757034116306604,0.5115848674531508,-0.4034340159796634,-1.549400594841042,-0.2211252663631052,-0.8108888494749177,-0.1566806260232311,-0.09627595693923127,0.10139257412105318,-0.028060120461590374,0.8140727705434281,0.2662925103899955,1.355377729990865,-1.3878619452689493,-0.9483670312526525,0.8446472161166514,-1.195467238745782,0.536759695374409,-1.3498992879482536,-0.2416147138410577,1.1263221096174763,0.19316231005726753,-1.2952090909452991,-0.7210332483182124,-1.1551608675964888,-0.41679399927587024,-0.08775678438471131,-0.736808260123109,0.5190946281922403,-1.98308224376063,1.414447131928929,1.3210240059995653,-0.6528081660098749,0.681712227857926,-0.8502064980097043,0.8337481200192366,-0.8086943249054488,2.0164979383449273,0.06912603053479847,0.30702715218674687,1.2226979207721438,-1.22081940950965,0.7149447854629367,1.8957659390897255,-2.3384984554042387,1.0957245554240007,0.14635118544048628,0.5260918594226385,-0.126602080184772,-1.5011291641446938,-0.998197112270433,-0.179102415836884,0.7038592302434293,-1.5169547364785576,0.328622168069624,0.30551400515511784,0.8264664227200574,-0.8684193588489766,-0.44727488704999374,1.0592108353504617,0.9540024863068968,-0.4408500104538747,-0.22313419567635664,-1.0404272011858189,-0.0434716136837869,-1.6202956949136023,-0.9395049896696398,-0.3279913050271425,-0.29633442148823463,-0.08906927901845868,0.8196767219655686,-0.25749047315143525,-0.05856592312072534,0.9844528204841522,-0.778116652367339,-2.299978446759496,0.3619943275086986,-1.0000209629415893,-0.9351840478173242,-1.0070122493113411,-1.3050034269943485,0.6335298456944797,-0.4579594801962101,-0.16181473334978763,1.568930602325808,0.40325357797211897,0.28219998839996596,-0.7718666849275158,-1.2823657150629908,0.9657254433280144,0.43442730413211844,1.235083423456109,-1.1605591044588208,1.2511176027207178,-0.71435857349343,-1.4692518620865893,-0.9599744491612517,0.7255104599642379,-0.9762872941938525,-0.04739278494430694,0.43946517608637575,-1.458820838008416,-0.4316377009629152,-1.5050718857621959,0.3930357233747296,0.7116258466891271,-0.19983535604274044,0.022266757731099387,0.055885135952295516,0.3052994513589835,-0.43578560480302414,1.2325266536362471,-0.4417364286510441,0.04069546976233585,0.27804421783560557,-0.8925274114162358,0.24294177908208558,0.8255276539238801,0.36578574934399405,1.1675585621358906,0.20628655343162222,0.3376320812234041,-1.992798352519728,0.974021695137915,-0.7286167401453008,0.9573139958635565,1.6635714840749534,-1.0788446240809026,-0.08704478956251065,-0.16384326301949645,1.1359113918163113,-0.27900297231366233,-0.6947922286659716,-0.5071056596083167,0.24398554616201262,2.032140280997366,1.2374529071710907,1.02859547938084,1.4326333955925772,0.10555460725562153,-0.2638767969861241,-0.33921617521680664,0.4439665186307287,1.4362987741959496,-1.822647410063486,0.30916823835529683,-0.03961916195793955,2.4406224087025126,2.1504311159905862,0.8365814784185626,0.459065627421979,0.35191388385300715,-0.10360776720766206,-1.0028736432460081,-1.2379504074351628,-1.0200382558213474,-1.5209205580137959,-0.25905047820086846,-0.9791165588426395,-0.8193165836712009,0.4512232126020393,-1.107088074696522,-0.07157177455672127,0.12999739576808805,0.34584660466420547,1.7483989802012543,0.4497413703182265,-2.163651892319219,0.10638153383950855,1.4574767350463818,0.30547819148546623,-2.258070874960203,-0.6788196976095278,-0.6134665215929797,-0.7085738262330166,0.31096982801743744,0.17957640359276095,-2.9615570006677037,0.3286570786499425,1.1807904008802743,0.7263576719703824,-1.0396162755929004,0.1496082586020834,-1.5617800453296518,-0.9670135830759898,-2.7401424042155575,-0.18300150057833264,2.3003922030851203,-0.22511977921511783,-1.7783156795777346,-0.3347136812365261,0.2905751045186563,-0.8924480511582449,1.3473414535781747,0.03229009475546663,0.3956516499238913,2.352449906027667,-0.12398992687187035,1.0681744758704448,-0.758085142981045,1.8673871520132124,-0.599631696827022,-2.907113229618981,1.2595755367453711,-0.5634956812040572,-0.10458339447537,-1.349057726041964,1.312454158673379,2.26086930633914,-1.6711272350714799,-0.4709165627419969,0.4550966987825248,-0.4022250020338667,0.24699853036157907,0.7526773553246425,-0.8693567466240635,-0.25276588412579926,-0.06518656113350427,0.434616428887271,-1.0814412107741562,0.657549192457042,1.357916137776924,-0.38455951745459566,0.23486911194151866,1.268920468949413,-1.6007435240669852,0.8369596510291107,-0.25354846087311167,-0.22366822768922304,0.4505406239198191,-1.0764615742811716,-1.5116160592757537,0.45257729352190257,0.2634909910521974,1.7624511201274116,-0.6148749821910768,-0.8401666643164978,-0.6375310730097205,1.0317296522705013,-0.2529754670368928,0.43814956690265033,-0.10520705368307896,1.311600396870523,0.2504366432716069,-0.3169669887088941,0.24731481343154224,0.27472330476500334,1.107734007670374,-0.2192866551455752,1.1080424667662119,1.002955546440864,-1.0640071188315303,0.7500540577061575,0.07317626576566169,-0.2683680953522057,0.9012236826877624,-1.8048682281002606,0.4351223857420717,-0.04903400223837012,-0.6373744676411202,0.25168617943561616,0.403239299754179,-1.1755279926737332,0.854627375891503,-1.197890922009743,-1.1876819498126803,-0.06413485817547668,-0.31973393556609336,1.5742767612250697,0.7419607983537521,-1.0990791491603096,-1.0655313724573892,-0.42637728050668233,1.7012759830536826,-0.07645309253221913,0.16687241875950096,0.21898524350644089,-2.0861256913038053,-0.40624681619104935,-0.11256541299215872,-1.401941309580566,0.039499328287851576,-0.10491849141661014,-0.2280609568369132,-0.5834080737815053,-2.0762657062182903,0.9350048229485642,-0.0013669999570168922,0.40676117768333336,1.547535997168714,-0.3981304534218566,0.8924420699718137,-0.6109340879298,-0.8759223396213524,-1.0745781989807304,1.8223028309693985,2.0745928619665506,-0.3213688550876999,-1.5561429945198135,-0.47763034255333897,-0.867071869472971,0.10200244129441645,0.8944419089463066,-0.0764693110862535,1.3074539584093345,0.46224913428275394,0.16861650552780502,-0.06572496115406569,0.30912302448807005,0.6707920795653814,0.6201792696982332,0.6598206919945008,-2.3088760866187354,0.5215218991497698,0.5831203145547487,0.8782746039539139,-1.6516417701478676,1.4935249150537235,0.17754194800023756,-0.1721752035552698,0.08451312271687611,-0.4977553930213586,-0.603341504568881,-0.8598131425766921,-0.7994037543870565,-0.4857050952803687,-0.5756101305854934,-2.096721798532584,-0.08382548138762189,-1.7395402028212223,0.3276547807476214,1.164270049332343,-1.7079502346454731,0.15015585999162465,-0.6748196112538488,-1.4191322741187318,0.3151035799690157,-0.6614137447954752,0.531398852013666,-0.09676577886902649,-0.5779387080903673,-0.6902582598937138,0.06140956708128623,-1.4148121086242642,0.7961913900451102,1.3644788597112556,-0.0421807465027994,-0.0014271702556687468,-0.6107192408612462,2.0798032114604075,-0.16224142278401393,1.838186842093297,-2.3498351694476054,-0.03851429165586679,1.060159552288026,-1.002433227722207,1.1964833099319367,-0.2099059114510543,-1.4426566266710261,1.6995200367183434,-0.3567991590486749,-0.6355819148517762,-1.9378940564526093,0.2851862109190589,-0.2920865639484891,0.8107126262726936,-0.4516835205365405,-1.1209871730903838,-0.17862477982454023,1.3488134700745293,1.267215320001578,0.17152958651206746,-0.22288609402699697,-1.2361931122232153,-0.5944585932729205,-0.5261519211062344,0.1309139712128216,-0.07360357809256779,0.48633001141271026,-1.3166077038934891,0.7487756868644537,0.9742763468474342,0.12416479615553437,-1.1310363850699434,1.129233182741617,0.6208245647012047,0.8981373846961831,-0.655400277975507,0.02172810661402673,-0.7665509826328111,0.04955013627413614,0.6720398722182072,-0.6379019141077357,1.0908325592831598,-0.024014392368033443,-0.09996618750958193,-0.15928148552359342,-0.8721449345489078,0.18823926113151046,-2.6025750108684678,0.5768967470924569,-1.0181440484509394,0.9893665671722273,-1.6550681979730537,0.7373285522819263,0.5428236441345292,-1.0909667937424927,1.0867588103983632,-2.38970545271747,-1.0238813825902031,0.08708321988170245,0.68391938890996,-0.5893701036573308,-1.3410728687284021,0.7650023168645532,0.46441904215312013,0.22843771010041433,-0.7006752627364131,-1.3913619851268737,-0.04272137758569773,0.04623180103547413,-0.5750080906701183,1.1673658436637537,-1.235507202049562,1.0357164473512184,-0.6813634469413884,1.707009479112915,1.469109742136358,-0.9225961059497375,-0.12688337240891856,-0.08933847873018796,-0.7459068799146792,1.2964511068893325,0.36226730354916487,-0.237586464976685,-0.021766115724392847,0.7190000637985563,-0.3440761878603786,-0.6264817567272121,0.825748794605883,0.9917534583470005,0.35871122963785423,-0.7052794818280138,-0.4219492803229862,0.07848648314123124,-0.5777959711371942,0.38079362599511357,1.1171120762074698,1.6440422820359275,0.35113949781216913,1.9296434318568492,-1.7534270892876895,-1.853972768528835,-0.7685376063451872,-1.3966442306889926,0.4883636531940932,0.5826788114178355,-0.290890425407327,0.6062627135512629,1.1566041360281256,0.5030739969285731,-1.9687183421702803,-1.0793984074100933,0.9034357317916791,1.4517871701608511,0.2333173342570672,0.06061024955078463,-1.6171606582912863,-0.23285559378956733,2.0565813374725734,1.0041164681762669,1.0224969818520253,0.17920565818591835,-0.9859545616307993,-0.441002981339854,0.20946137809833348,0.36649114582365555,-1.4710097287133528,-0.07419782626346032,0.5235528827557879,-0.2219767371148214,-0.13727641478111074,-1.9674041535195295,-1.8085704189763763,-0.7767064049899957,-0.14764166512282043,-0.7618864663640105,0.15474915135159972,0.9127197116097167,-1.5984119484247634,0.35403379717078476,1.2214519332439684,1.5325857978430346,0.49566922201581043,0.8359532306042805,0.8119538930612347,0.04840164009563515,-0.7937064029443494,-0.07858349883575545,-2.237296053982906,0.06145971073675641,0.3679817276319896,-0.36643101815627355,-0.6261644839861393,-0.07084385865223426,0.31559315343655514,1.1093727076065845,-1.674564767794484,-0.49587327417392746,-0.5660193733708718,-0.61322913470711,0.030144679461774557,3.3527208300520948,-0.5511132089388459,1.2231496517537592,-0.6569758422741954,0.004507936888810995,0.8886767712139605,-1.3552648747211629,-0.473870322827233,-0.38718073006307363,0.5130839196543344,-0.26860610470500257,0.3257064512732706,0.2395613075535772,-0.286512306813873,-0.12951317523846986,-1.2904927033111167,1.2919533935578345,0.32876734335991736,0.05538466452190768,-0.11721005130035976,1.6777944314302062,-0.9906047894847343,-0.3415163580684398,-0.6479169088295526,0.840074783094237,-0.6470211233812938,0.7367049026082004,-0.3679637229644632,0.5937161094717577,0.49901537746727526,-0.306475200182931,-0.4441573651744846,-1.6426976998451612,0.3440146248285373,-1.1251977600880774,-0.5434925410773901,-1.151277935533833,-0.3589747355934279,1.4286576315208088,-0.25237687258352215,-1.342608790734198,0.8388078884274629,1.0066830882942777,0.5406434721442155,-1.404343442362167,-2.071470373802207,0.5859061768827344,-0.8901297554668687,0.8757279660951565,0.5555428552334571,-0.13817995722569665,0.9772165202896991,0.4650076228044998,-1.6939829132434314,0.2484083762715898,-0.4432558670331778,0.3928804892174802,-0.9571348541034946,0.7762965968685424,-1.9337299878161263,-0.17813757557089907,-1.5653330082199275,2.1191199841818293,0.06364527398831311,0.32312371896553566,2.5350064897136177,1.7242539794612006,0.3183931317615609,0.13849171894248344,-0.43477198604840506,0.30220520632981485,-0.21796038850431507,0.7599388732428535,-1.5416513693902092,-1.7294773267802495,0.8516093524894657,0.8417678620557039,0.2732149461623125,1.8899379048647502,-1.5963107430254249,-0.1348429992281925,0.9796863651542758,0.7298876684759492,-0.1043048927385892,-1.4928993118265543,1.6236757321000197,-0.590298317606073,0.006451832287869525,-0.42403921684611195,-1.3020507591591193,-1.3110909071878993,0.3770151902402528,-0.7283433609021092,-0.6820093089182298,-0.4640938328599075,-0.5613381224420024,-0.07322656251612698,-0.09885058065967253,-0.3709017830627329,-0.7301356977509641,-1.2422502068876917,0.17863478285558054,-0.19920012496969183,-1.453570396567544,-0.4346311329114419,-1.1454058115847408,-0.04390145641873267,0.3261916469018785,0.9574497985585216,2.0346226939986702,-0.13779448718551526,-0.35231994268607725,-0.7182985528516187,-0.5309976920249249,0.1291876096593198,1.634702281633763,-0.8267135818936736,-0.06945393898663117,0.4982735168908352,-0.4427809518545866,0.35100047490744085,-0.039859377923545304,0.2137347341260174,0.6982588917910248,-1.2499690043217326,-0.5143776117396547,-0.05344808455501038,-1.761760468803619,1.2272085238804842,-1.7148901472144469,-1.8632604585504509,-0.7147627920829837,0.3148113522519364,-0.40785752748787235,0.003915658721285632,0.5888810944633596,0.3449039364451027,-0.13439554056292813,-1.2631266145419864,0.38481185117182976,1.299845266342237,0.23940881067412742,0.30784897928439825,-1.1189029746129493,0.6961527550480455,-0.7353174109845771,0.4006209319448915,-0.17941207230125797,-0.2714633313000205,0.6270051586022647,2.4339462843544757,1.7486224981557168,-0.4474273168135279,0.8678268778750227,-1.6429712967757168,1.72982274986671,0.44139277798295906,0.4119304063962274,-0.31068278027635876,-1.6315465852658888,-1.2582373492399437,0.040078917895278426,0.005276400028855275,-0.7168502654217783,2.8680340082567573,-0.340903072861043,0.19488657895230388,0.9672699445782175,-1.4293436435706288,0.46211888681806984,0.31242383881452057,-1.1581566589534134,-2.605923714478705,0.765011709555373,-0.434995042419392,1.376440626193031,0.6099616838476903,-0.9234578532449724,1.1005546195240044,-1.0377320807683805,2.5963966983997837,2.165181294765474,0.8753889773445329,0.9015004637385865,0.6950971801073912,-0.4897565263697802,2.08587235943703,-0.038631892090224565,0.17881993918319888,1.221990917891798,-0.4801827949959919,0.8532027908214339,-0.12448461869471972,0.8344690038433082,-0.29778593672565845,-0.3924952938541299,-1.262027157144141,0.5878703285105742,0.3390507351293752,-1.8683547889515135,-2.0784121428239977,1.090837204957109,-0.1922320325351593,0.6569617222317896,1.5306343290258688,-0.2908899640896418,0.030001110427950655,0.522159997325131,-0.30340835433650815,2.1626972957530706,-1.8294378391521928,-0.8662400055515085,1.101334681404463,0.8051399322795123,0.5660592463382424,-1.169027984098068,-1.4491885126366495,-0.7681904301515621,0.4235918981615019,-0.0640837824967604,-0.2601287460283941,-0.28027866063730345,1.2926699288576822,-1.010744860928724,-1.648818793907188,0.718646410374603,1.230885663278455,2.358784544390505,-1.1500073239249962,-0.6590377902733098,1.911354617163637,0.8437211788262017,0.04778772802160177,-0.5792364366126185,-0.2683384297800291,-0.5935003944467765,-0.3015201596266947,-0.7208754210790133,0.5337942304760792,-0.09438298562529401,-0.46699905410325826,-0.48651353237321915,0.43294371916017416,-1.6216936508572501,0.20056240722059915,-0.18507944541450264,1.4269987356098603,-0.4923484561363783,-0.14298154840119515,-0.7305967943838891,0.9372316365017731,-1.5281607203747551,0.3765634596197288,-0.21014084708900135,-0.9164484073620116,0.3721144629009686,-1.017872344627778,-0.157942488848084,-1.8310792508365434,-0.2866233656657293,-0.6204671462491924,1.7619125006690253,-0.45600210326559015,0.91758572051921,-1.6592577424860935,-0.7767328107983957,0.4333493041662402,-0.9659928474416859,-0.15002298656123347,0.450945230848282,1.361035998953408,-0.6330910735972013,0.7165722139875619,-0.28291339733674753,0.7038880628057234,1.62568609966462,-0.4157423245961825,0.5595906768656422,0.24486276681192268,-2.5726795294039686,0.20819329050426538,2.065950651878514,0.5040107705438157,-0.6371846684875937,1.4828785660375166,0.06286686621210888,-1.1763758618240663,2.906983756356452,0.9559750384604767,-0.07242011693796889,0.5068319701171704,-0.6985930272693031,-1.4208195216484798,2.2330598849590375,0.400905394287391,1.366278547772859,1.0876109879401012,-0.5467954049341209,-0.005189381207791708,-3.019569889317402,0.38287670536459556,-0.16308764978719212,0.43403198182695785,0.9684317320175662,-1.4464102136971067,-0.2738934131149266,0.3253130640066254,0.7125447156360886,-0.037943306328758676,0.577035438090814,-1.4321979779338714,-0.41510925887951317,0.5172268719902466,-0.4289502019591052,0.4324574379369569,0.49573110708803747,0.14973691620603316,-1.5519637915750997,0.6837528995036344,1.6597881220024608,1.147718909601724,-0.7013960316542261,-0.9551771664117477,0.5554782016100419,-2.1204073224570497,1.3191139248666122,-0.21128148697818339,-0.38858651693635743,-0.7290399405334957,1.1260784730745614,-0.6384051704745268,1.3681419264739914,0.3993867043247452,-0.7668529066073423,0.8642294996065494,0.4048549111949302,0.5555343994580665,2.0595844768893428,0.21805034007949833,-0.76000677698376,0.052011880539309066,-1.2304707224020812,0.6993641554845134,1.8283924157524618,0.7569614030610166,0.6209664977904591,-0.835294227851759,0.6404309050024704,-0.8962436592656605,-0.43137928622615673,-0.49310635622246446,-1.036201700336281,-0.5025582077573674,-1.5894635783267534,-0.03923887624783143,0.20393285750459178,-1.0387801025226862,-0.7984743264720614,-1.2330097534077653,-1.1511984293261723,0.2318512570898806,-0.18300673475751306,-1.3500426601733793,0.16363176708258617,-0.545139257218303,0.5407601917927088,-0.9514370830970788,0.4907829166309978,-1.2520418163842353,0.062344988104292356,-2.2701109039819243,1.3267380182335993,1.3501767161195508,0.047272062269862046,0.10229321442181326,1.3521718975255437,-1.4264462139419876,-0.22180616268166325,-0.4336385582654077,1.4147803161675776,-0.6708398465887682,1.3640642474838869,-1.4678097385325604,-0.15457479686417794,-1.0634552965058024,-0.890706411572948,0.4463299772859204,-0.4810319456222112,-0.7843660058336245,-2.860355133029364,0.051708032554699385,0.439174399405324,0.5116660060583738,0.8727459708119977,-0.2044445524608388,1.8571097841086146,-0.14984357185839525,1.0802640985300032,0.47388536540382464,1.5673452573963826,0.8033203488829788,-1.1283492080127473,-0.4375862465682653,0.5175197042403371,0.301809747370281,0.07223725740003765,-0.40301378595881837,-0.03955854065317071,0.8304290928213676,-0.7684092820930633,-1.2408821035605744,-0.4569092635579217,1.2166707071670197,0.5531354289088398,-0.162695453403328,0.4153980173803436,0.7125307715849215,-0.7678998930444865,0.8699957631781094,0.6348803063648757,-1.5940853988140258,-1.780048375366793,1.5625425151130048,-0.052241171316278326,-1.4153912626561136,0.015551847640117824,-0.39342685989473236,-1.220383357194591,0.982227092738842,0.2188185635069636,-1.0697487351035304,-1.4596930167491609,-0.006504565044973218,0.9894921221258219,-0.8016680342192926,-0.7269526355850005,-1.3976269047828287,-0.10730321475687991,-0.6138720148047424,0.6620423749140133,0.03801449668648746,1.103105472003596,0.2363125258251256,0.8314962619180558,-0.7432793117717432,-0.7280978892095613,-0.8734416335442874,0.5413939344483207,1.5181137109593663,0.27905913544947236,1.124611458801765,-1.7195036090012652,-1.416751461072647,-0.38603156913404496,-1.6428894956846707,0.7207899451657857,1.0439992991554845,-0.7541964216262442,1.0174908855022538,-0.7691673051495215,0.19671544180083997,0.8373534272350123,-0.021938653667550465,-1.3805885359362602,0.06800472639747313,0.35558144282698156,2.836926437633557,0.938594532840863,-0.4331055312623088,2.2888158104269323,1.1310862588358823,0.4449671463763975,0.7594636554097368,-2.5233045663881972,1.1853718806878808,2.064489042369997,-0.7881848032900761,0.5428554144400546,-0.5985882037623755,-1.7829647868607406,0.09319520193887769,0.24714613012773845,-0.6781012487694281,-0.5630784062608323,-0.9635852251713238,2.2661582569718974,0.8607890992111221,1.2356831425739851,-0.6436613213732734,0.5904097855260432,0.26047097964922244,1.3395881249027826,0.4525358533211642,-0.3504706823855375,-0.012864736216227229,-1.5861628016388882,-0.8645858810936965,-1.1934947666918685,-0.1203056375225818,-1.6821766667462719,-1.748770882060227,0.29979249841196637,0.23473581442224248,0.04439924114605481,0.752545360118074,0.492635854375069,-0.36762944255234997,-0.7630593843481134,-2.044243423166092,0.5819363293316402,-2.077619017820411,0.36001725103904675,1.3347578605795531,0.16645323958324953,0.14584698755586542,-0.140273331190539,-0.7281243955071441,-1.1306832508626912,-0.2881078774732759,-0.11520743265472191,-0.787571540260531,1.756152345737606,-0.979657635549168,0.8656672140876633,0.8564651527160423,-0.527352422981865,0.37146364281655053,1.2293013628997536,-0.6961876415075776,-1.8527682391389704,-1.0004829401421615,-2.861816942956894,-0.2342794086158296,1.038052499339507,2.286325085177027,0.1027595721259646,1.7244361290992323,-0.39032288625360445,1.7869592885558228,-0.6316362730654964,1.6284353989377367,-0.6509591936430089,-1.2058085159050778,0.4979112042828771,1.1658939101263635,0.04307463912625472,-2.3690922996122197,2.194426494004581,0.30914825903077825,-0.8594639083183071,-0.5300167529948309,-0.6973343997668883,1.8495779014943106,-0.44741425370623994,0.15912466083798432,-3.072458393386145,-0.08923462260250131,0.4291267142193947,0.20270207559182837,-0.012506818208662389,-0.4082241602062662,1.1276380449527144,0.9222423026297792,-0.766616713413728,1.5143028428249217,0.7497397328989113,-0.7091811605347818,0.0779115005728598,0.11900784136940284,-0.6861901380967543,1.545773257363131,-2.2487123183029083,0.7754251047230678,0.5132806431590262,-0.8662358035992983,-0.32420484798494015,-0.0028220113715669167,0.11271049466923622,-0.17096710379223806,0.7478857770896697,0.5545769657825366,0.08148286789194668,-0.5753475975218908,-1.7909952899636952,-0.3291512728756515,0.6835014791918174,0.8503304270214267,-1.6592383818682548,-0.8268721111360282,-0.1681566800137774,0.9552411768909453,-0.6870610612899217,-0.06055905031826336,-1.0697426588387082,0.0337478369397185,0.08529014832462953,0.7327872388719474,1.0980818929738791,-0.1390468244080595,-2.03081830090057,-0.21799741348433535,-1.492234286908668,-0.19882288424220496,-1.5115908348476794,0.6070437309891674,-0.09262269844725059,-0.11601050142471038,-1.1440402681319288,-0.590539181555647,0.11145025892712314,2.1457798057220265,-2.1023636109129793,0.35074560930426757,-0.4727496906202792,-0.9853363567701182,-0.11043554836229205,0.8132256920839067,-1.154573813689904,-0.6818008953393573,-0.2656531410008261,1.672236640395519,0.11085319439252916,0.3985889226121078,1.3532308429448745,0.8085951084128988,0.034426676506481575,-1.0871503008647723,0.8324882006214172,-0.4160385955739045,2.3542591564558406,-0.33516635382694865,0.07153240038539706,-0.4243662202189162,0.3962155786981168,-1.1135556943671905,0.5345758548791043,1.0319879826724165,-0.6354078974919961,-0.7154532076464255,1.3636520054224368,0.9818307179711074,0.88441332601989,-0.06695541192561758,-1.2815650930941802,0.0999029911786524,-0.164689961300814,-1.2800145033033017,-0.8058957345755863,0.3259938668393313,-0.6403647349897277,0.0436543104891504,1.333455937182655,0.21850903436457667,1.1424675198264929,-1.1031130128743252,0.21600154971373142,0.6375227696936414,0.12128155485442015,0.39659831273677126,-0.2646304839729117,1.1139704359004936,0.02819752327775466,1.860397214954891,-0.43760306938597,0.4011671068514036,-0.7569626202930203,-1.0530792708437893,1.1359571899709187,-0.5838512383190967,0.6681537446290532,-0.05556770624933454,0.13562457371320966,-0.9812552203774975,-0.5941683935311641,1.042323520671225,-1.4731948263156305,-0.0717824740001726,1.3883044214435678,0.06154692310976991,1.885179897099118,0.02841736402721284,1.0383128889805078,-0.54409685300966,-1.3846227660881116,-0.9597720269561204,0.30084948346808627,-1.267318138245993,1.2347461639768378,0.4038226652887698,-0.551296003663256,0.40684915458697923,1.6313605453232631,-1.1977664928709972,-0.7526439746594628,1.1909268294874888,0.2203519258837942,-0.3067169885025346,0.007741519854506964,-0.11823798661050293,-0.9183760684375036,-1.442601094283194,0.7500705153215955,-0.11531198710066996,-1.5496368953941,-0.6608003780418655,0.025708350892551097,-0.4058721212610445,-0.8331876672985801,2.0338684282301784,-1.308147562102084,-0.23337319738887896,-1.1621348931738777,0.8863564575626228,-1.0655982066616012,-1.843643427789594,-2.0898473221271234,-1.0672198902955925,-0.34784860316391475,-2.006166833070457,0.3014767464572511,-1.598420306650106,-2.461460196411468,0.937058312434416,0.9594030755511463,-0.02816137878688693,2.3587246957083834,-0.17031691269436933,1.0416328682712026,-2.0049449992205886,0.031578049130509336,0.6000919580000366,-3.329694478003317,0.012368642901541983,4.074073781099679,0.6320091726303426,0.23300291913814988,0.8262547053582098,-1.2754626045627384,-0.7238826545118684,0.08940466225230066,-0.48618643363011854,-1.7868040559442426,0.025912581029319322,1.4401739922132617,-0.6186120575136914,-0.25795935610213955,0.7518970835045885,0.2616824715385266,-0.5364251560626085,1.9154069809854588,0.26941534188207367,0.37557155644377394,-1.2017700027041853,0.7295337083092464,-1.745825497415158,1.4710322958085962,-0.5624062533880552,0.9442321104361406,-0.04221838976484356,1.6223384299678547,-1.6135321556294528,-1.6319655047819124,-0.20845424073943994,-2.4566811147265897,-1.3487948304966908,2.1385276063065346,0.18245084049303,1.2575203779719006,-0.718949472928128,-0.8319743609071947,-0.23834356883053534,-0.742789930268778,-0.3092893501319988,-0.31576040556260127,0.2708627927179818,-0.4279611002621605,-1.2171378428721455,0.9500048922164106,-0.6575941079770271,-0.18309120177666047,-0.298142728445895,-2.086842453907623,1.182460885909041,-0.8510168919147786,-0.05359848864443368,2.018334069854814,1.9181391907085288,1.291815487881997,0.09160317764547143,0.11454602044332937,1.0615492648929497,0.6368078208652276,-0.22508470544834777,-1.5913453551394536,-0.5271197487167828,-0.1741634174969997,0.34543521576132247,-0.01028960829059204,0.0858502183207897,1.0575899299510334,0.37694569295176955,0.8494742334841504,-0.12448154262916905,-0.8204175623625289,-0.03406514487193717,-0.8087517355762948,0.19906632770347493,0.3948033325987362,-0.7932809776401083,-0.3464932593058457,0.6274387731918168,1.8802147843202517,-0.973706089873051,-1.8515085587286886,1.0305538795135822,0.14640178833917555,-0.24334463435421774,0.33586619703005244,-1.6577176262671265,-0.8081564878750191,-1.0005730312252248,0.6792164882498519,-0.5814399436984405,0.3182511701443037,1.5650687991258376,-0.21558941185802094,-0.15951658823454226,-0.5210088956183893,-0.9804167704580625,-1.251703329518387,-0.7942062330203936,-0.10866100623291952,-0.010954274031887017,-1.233942056236604,-0.9813029329609286,2.2804190963925315,0.4831091129240337,-0.25904152392370633,2.4572980676412013,-0.6304692386952457,0.11317588368768486,1.7491869485206841,-0.7878810856083784,0.25523971269963397,-0.6017210084586084,-1.5459427515407134,1.1562183366968708,0.8463016644620911,-1.1369888265975767,-1.1842978470009187,-0.5252024558092254,-0.018516713934048315,1.8598617435936278,2.0672393127205257,-0.537682132871106,1.0354053117770843,-1.6503415527183252,-0.29417629753840024,-1.747141561392283,-0.29841094152734393,-0.8283501840572847,0.38440298910629056,0.6404512236307518,-0.6164017747238223,-0.1461799168990417,1.6660735917630354,-0.16250067653003245,1.2070301927316527,-0.48765560699186183,1.070498121330727,0.9575810763138013,-0.14769630155609592,-1.0125457171827597,1.43396996410687,0.53916576951761,0.8538775206648517,-0.71755078429454,0.058993742461692054,-0.5300915657259905,-0.4412940385671828,-0.3792259530353594,-0.10664184066112627,1.4298395287476837,1.1767896067017263,1.1197214812678833,-0.0445966456999068,-0.3099428476185407,-0.9153872757455691,0.9637355110559548,-1.9546087844086064,1.3783803643857764,1.4005763950190997,0.3118974212082868,-0.6580204872705183,-0.6346503519369636,-1.2365013868410235,1.9883919179877665,1.8091445963210693,-1.12799899418124,-0.9406932821443573,-1.522469289944858,0.0012169744270634165,-0.9345824273614606,-0.6171097264646226,0.9032917343797763,0.46096829523162663,-0.7730060218575919,-0.050630609827657214,2.2236463181899335,-1.584632091747363,-0.39127687763114843,0.3616518873315901,-0.5767583606485756,1.3727900962825788,-0.004845727557278556,-0.03458729649176723,0.7972184838468547,-0.8530747147174006,0.7156914159946939,-0.13182808063709064,-0.3454914963700004,2.5684308963320834,0.25724767081404964,0.7457913759857099,-0.4937925068526037,0.678680844170161,0.6050711052085974,0.660557386500223,-0.0985674432273635,1.0059728632295286,-0.13658921690472312,0.056729082446251335,1.1547148346655607,0.9782429527388468,-0.04487825660921949,-1.3669548442337307,-0.5797509464414591,-0.10057403261248776,-1.2978457166139845,-0.6359578569704037,-1.0595974370558485,0.4316870320196631,-1.5306091217100846,-1.037476238166957,-1.0076326731493654,0.2524417106865295,-1.7519233614334762,0.33117707090996806,0.2542998721638189,-0.3703662395620884,0.7739293166956656,0.47397816419234495,-0.5575941775243497,1.0387087485872235,-0.9832797491289027,0.6359028679372003,0.2525484751298719,0.01929674851125689,-1.0256755741967931,-0.2788851181437143,1.6939563190060507,0.9745080731898835,-2.096384765382832,0.726115830398191,0.0302477828953741,-1.0202704251362829,0.6124103890676392,-1.3138644804452881,-0.03746328832289545,-0.24225758861263866,-1.0020007507133453,0.010543610340881832,0.871475954409628,0.3535222788662992,1.8766429533471114,-0.699427307625426,1.6461339529423793,-0.45801966775859915,-0.5379360696600323,0.5405264198849459,0.16411271902772154,-0.456118073631097,2.0915378654914707,-1.3650363795208957,1.0744455221484008,-0.6963474784456587,-0.025266261817505558,0.36542930725663436,-0.47053873424139053,-1.2116976733680482,0.3349637703304576,0.22646487563032372,-0.3509989826586073,-0.9319698616562386,-0.4011610876422261,0.31187203275172637,-0.8358803228331737,0.7361192128742615,-1.1985476637112884,-0.728993538546184,-0.4987794301501509,0.11029765385569552,-0.005659899371028455,-2.019013860482582,1.1055191402095255,-3.2300156270428766,0.9124015218418192,-0.01877701980625458,0.14532453228737502,-2.1370819460001864,-0.31148120510392113,-0.269124813475386,1.6257607134299028,-0.5704958951723695,0.21272209555671545,-0.7963478248913385,-0.30153041014813287,-1.50323162402047,-0.9296598461599278,-1.586761901963535,0.391236851740381,-1.3201906466892093,-2.2944815545354347,0.7679949997150718,1.6554950631522947,1.193308588312987,1.1280915975391403,-0.2200295091516921,0.7281858817443023,-0.9207882211849878,-1.8463642344298208,1.0714012515126943,0.9595475137815187,0.6572079258387075,-0.2060818948491994,-1.8816853812502599,0.9428808330674467,-1.5195957576598758,-0.7424622446021123,0.5602749679920774,-0.8717695577100185,1.0405484416479562,-0.46536442730606975,-1.7630022725705765,0.3006039047265265,0.585956766468083,-2.556042956654415,0.26969713724659455,0.9484692371672475,0.9637216216570684,-0.7030303602962757,0.18181749441244843,0.4478829764223249,0.4198630181995944,-0.13727141414447233,-0.16390236847419543,-1.007835682509688,-0.35445711951402836,-1.2180229820011204,0.4990860334445958,1.6901165378769545,0.4352820440395323,0.8873404899061053,0.45567111863389115,1.255634479447898,-1.4664075985938716,0.3519679831297005,0.32228952021846596,-1.249462669186518,0.3887499728824951,2.899276869744111,-0.7822590784147695,0.1991448926261738,1.8606731088814168,2.212606094892784,1.6048827505376388,-0.1568862904585638,-0.11243059967809052,-0.06937548922150664,-0.8944972786978493,-2.039658987568428,0.5115755247819236,-0.02811006689106777,0.07581062239710033,-0.0960567420270748,0.3065058516217312,-0.1714633273654065,-0.3885130342305172,-1.0263159757748905,0.10845416125408097,1.1110407153692488,-0.24574281441051354,-0.4159190423178969,-0.17919153588626535,-0.12883732438868095,1.0327584741617881,-0.42462070813016894,0.5818707551411989,-0.2508398197652833,0.4108901534394317,-0.21946776810371807,2.560198632782004,-0.8651780364293155,-1.0740471459365504,-1.0300652076774188,0.4392319056300501,-1.0739623922581283,-0.28255694633236184,0.09082898615260443,-2.1688150134769466,0.9329557180630638,-0.7808495124415813,0.06683100265547608,-1.722430758072949,0.024113658521335023,-0.48568852829378445,-1.098947158573677,-1.4717921748368203,-0.36624539417163476,-2.0301079766326673,0.8397511406119997,-0.03688263337423848,1.337322569505816,-0.4863229257796001,-0.8953075178847716,2.978067808775572,0.8928873752589659,-0.3753444238780164,0.6879974904506355,0.48530691317532404,0.9627327029343004,0.9032599366333725,0.45245255378531896,-0.32344389159760545,0.8958541569453471,-2.8995353505833,-0.6482043719176865,-0.2669333499467169,-0.5884221153253442,-0.8630278761091948,-0.04913919711199999,0.12645079239759296,-0.7193704083594232,0.37074801683912245,0.22062625841106978,0.40743731839199193,0.8479991490060217,-0.009167135719227415,1.8632598831429097,-0.7960872126619156,-1.7375644076003907,-1.1999903033601078,-0.02229694260549102,0.6807916326860315,0.4932737126858051,-0.0974947139750042,1.6073550898948972,-0.03950978486186736,-0.859808284485949,-0.8777985213553849,1.2983344767080465,0.4989808303977241,-0.5396297551096423,-1.0854520557440512,-0.31772188118330175,0.8955058980313447,0.1788357117890574,-0.7717625482150768,0.5667182117508401,0.7285258898300567,0.501561596605113,-0.48628235970521605,1.1516659101778877,-1.0589946630499956,-0.361219151016677,1.6246682194612019,0.513080878135896,-0.5936929123845169,0.5651329407414923,-0.3050021524324126,-0.616343912713843,0.9644595069880195,-0.38316851813423636,-0.13155470566073205,0.36416391772726325,1.2601239519512926,2.1462072655558853,-2.5825848910238824,2.081792708528477,-1.078751936636015,-2.3903671548336507,1.0033256326031674,-0.6545847263550435,0.10764912868127198,0.12207790348953183,-0.8212992080507148,0.7112967201098995,-0.13009632025399923,0.5803434497934415,0.31035514106866113,0.0655114653702854,1.4832684880304325,-0.3002644591207662,-1.2548502443533265,-0.786596322744212,-1.4239652480358123,0.253128876084865,-0.9423554706056634,0.4153366959618048,0.5517188674527627,-0.5927187555784269,-1.3368854086996702,-0.07634072500552222,-1.1437449395391095,-0.5415137305599591,0.9990782487768577,-1.7903110799732183,0.5537531799186182,-0.022434036636478992,1.4962012052308085,1.1065084035349646,0.41491762281895306,-0.39794271491413247,-1.7408778026153366,1.1363401588277315,-0.47678804673636715,-1.2291209727870047,1.2542346318743631,0.7622368731492329,-0.6224527775214934,-0.008814795108268924,-0.05694531802421455,0.5157316581710752,-0.3025245809102999,1.2372758317736476,-2.007659205161322,-0.05215599128004835,-1.7301699247953772,-0.9686803939689996,-1.2619763389104857,-0.3687400593706226,-0.049358325325343545,-0.9379504504457999,-1.18812613830399,-1.48145373986171,-0.3354027432914926,0.7555447929091779,-0.4255414293630691,0.23977676426575142,-0.4388824427608871,-0.6542107893916246,0.4831427352929722,-0.6663698382733378,0.22868960289672244,-0.056870690207097875,-0.25069555557033135,0.12065187100049987,0.2382627826312162,0.8087671025324944,-0.3865729266763616,2.1815384498149624,1.2315049746405504,-0.6591774506045212,1.4334741211032387,-1.5168624765409393,0.4719341419655349,-0.21307783485741774,-0.25096938963387583,-0.5413334382056305,0.29472593720256546,-0.3804945564468301,0.23265068072814538,0.07754909567478649,0.36019722351393363,0.6797174574623828,1.350468925765691,2.0611787528995125,-0.7936577121313557,-0.6842782487418564,-0.7046972417095869,0.761580237633285,-0.3846909932670876,2.2458130794009996,-1.9349093069775098,-1.7485166292596677,-1.1079772955342526,1.4013931981032814,-1.3415211892168586,0.39241377763368884,-0.04474770815401831,0.3977777021537804,-0.7630448150696856,-0.6465271050754955,-0.18066013127789357,0.4387157005709115,-0.3654950117632028,0.23616955324218905,0.1157595741641339,0.7423808504133486,0.08214012426514318,1.2770506333161897,-0.40066469779287905,0.908286444869835,-0.6906211417628191,1.826549675043177,0.25511042392739525,1.9615898566365084,0.3858280462445466,-1.6605918786602962,-1.9074942727410202,1.9267644124314274,-1.597235487733314,-0.5137771780587634,-0.027358700641148474,-0.050778885814889166,1.1249139031948479,0.7945638783359107,0.26249889871022053,2.004513128038715,1.0430890523542935,-1.3193726615800754,2.0375865657216847,2.0804302255212206,-0.048612956305863084,1.1899002920932562,-0.7786360108857608,-0.4667578255615488,-0.09743717910172571,-1.2409684130821872,-0.4472013086899932,1.19490403320426,0.611283114037501,-0.03711634207206948,0.1767669790919276,-1.3439133174114866,0.17935373033316115,0.3324987521411103,-0.9961033188249759,0.519927301159901,-0.346867062490858,-0.44802812432330386,0.5645271597356321,0.3360498353608846,1.0774668884611256,1.4424946230116031,-0.20727366647020765,0.4887733365840982,-0.9663915953351083,1.247827114195661,0.7592858638885952,-0.19261507268440092,0.360030747210557,-0.1091816568798187,0.169574630830898,-0.18376972531518074,-0.29289969800968885,0.7349430377293577,-0.3470530271784501,0.9261723723056299,1.8977719759937592,0.9416246373793957,0.6062577824717373,1.6875612851849726,1.4342213859850028,-0.8064210028341953,-1.0676736396626503,1.2513055222705864,-0.1732970149848939,-0.13960700076870136,2.3471894858089457,-0.0729335848750169,-0.0731935033343654,-2.3077861309408108,-0.9339613238530972,-1.941695602418941,2.3389473544716894,-0.13195068144481908,0.36506393632367085,-0.05613374931017848,0.45914615059028935,-0.14994413473747553,0.7527520757469754,-0.2040500226086386,0.9071677529066535,2.162867102313512,0.308488599253808,-0.5491853071543493,-0.575773039897023,-0.015846901358003932,-0.4312399938274644,-0.5954773660227708,0.030326965558050836,1.040836791017058,1.7328989557505823,0.8293755531785946,1.9674215334816014,-0.9587483859659361,0.8737120086227289,-1.3268252679616717,-1.1320663481718694,-1.3054178931114113,-0.3622490377221688,-1.5798487264946734,-0.4388935180113623,0.031049764902715642,-1.1166081934855518,-0.018803921551435836,-1.2294779935673539,0.8399039335362727,-1.422847908517919,-0.20452533889472907,-0.7817490850182435,0.6672162763018672,-0.8245506807861895,0.561726153079271,1.9326501547660166,-1.1944420539390268,1.4484699718544551,-0.49092422369036287,-1.0023951347337083,-0.153533751406394,-0.12801714038092254,0.6675416770601277,-0.8489712401566893,-0.6321046325199412,-0.01865353623059403,0.5496425796908553,0.07393026042761223,0.1384162882631425,1.0368873497719613,-2.0111514664440766,-0.40158443043659675,0.7244284441719715,1.1061487807982753,-1.5388505240579446,0.4184689759652893,1.3537132284440958,-1.023949786729777,0.2557951896202256,-0.13550736602228236,-0.11106917968073093,1.0118696389226258,-0.4547669436226733,0.3184029068759084,1.9453778738301424,1.0285316318190387,0.7560214459361776,0.0315555537308356,-0.23547988033964257,-0.14000755183505662,1.088308680611564,-1.0931836134707484,0.9102213794726004,-0.003197665879611696,0.1598897860698155,2.5537706386164345,-0.24738694867570982]},{\"marker\":{\"color\":\"white\",\"opacity\":0.3,\"size\":3},\"mode\":\"markers\",\"type\":\"scatter\",\"x\":[0.1480288623384589,-1.2875152179455305,-0.18285847419994825,0.4037108633367406,-1.262288887645751,-0.4585393614581311,0.4841131114267679,-0.843159775698261,-2.18678199848926,-1.0076299329883247,0.921442295733142,-1.6266398741206436,-0.8695438293943515,-0.20460692889868473,-0.5410804593849728,-1.3301518379151804,-0.061963664553714895,-1.037709437515392,1.105724109657573,0.7991356533677796,-0.043214020289181476,2.605292611005018,0.1890611734578033,-0.9528351918884973,0.578359723392322,0.43254519565735805,-0.5539209664369308,-2.0136241743029344,0.6060031677860197,1.8346234442616804,-2.020655501829932,1.2041060409259796,-2.207240930286436,-1.2844663115045023,0.049015653365146274,0.9186780372634805,0.48386500796087,-1.1571904694749615,-0.7946367000832193,0.10339128138879093,1.3764984597340235,-1.7870304138870288,-0.3942969661103735,-0.10151414692082435,-1.4618571628900463,-0.6832542589335328,1.9175577490424975,0.7414601597133985,-0.42699983106267897,-0.9021499701247176,0.21192830321325964,0.3735021104843011,0.14277243558759706,-0.4049119975610773,0.731841831241885,-1.1654237056657015,0.26052077578047667,0.6090607741151284,0.9630627853600663,0.6731994625729134,0.2789502892082335,0.1294886010012575,-0.413225808806272,-0.5647472885465619,0.7835911527695107,-1.746783886246504,0.1463593951779741,-1.8783463464045025,-0.6357220819087334,-1.1575250394183099,-0.5868045218300061,-0.4430889898824984,-0.9058661961649688,0.8518235185174241,0.17336063331195065,-1.268997256900751,-0.5218275086523412,0.4802031772877798,-0.5193665874886885,1.699493621016131,0.07379037594178799,-0.6156335443867171,0.5589761045179685,-1.171763554583253,1.482933618725054,-1.055566410224203,-0.2267439641319687,0.3308092689989244,0.15676627600847048,0.11871550495122425,1.0824310244168358,-0.4193616791160037,1.670159207527291,0.5414992538996902,-1.1225132174317483,0.7323158889412679,0.6393534484633617,0.18878012533682453,-0.09227367130972745,-0.008849079469443329,1.5712667615413074,-0.6336623036841749,1.1122146015857972,0.12737738532664933,0.141309305310432,-0.6226349870212262,0.40889376947921546,-2.223994784040765,-0.2305786392372886,0.7138186128623568,-1.5391753529624037,-0.5188258975006708,-0.4641930062689115,-0.910766907192646,-1.6665249188018283,-1.4832165525929752,1.2031896010132874,-0.7024993340397556,-0.08398309078170506,-0.7114313704276608,1.1837803273654333,0.24815673503660685,1.0362201981968597,-1.5336671388755243,0.3310324370542138,-1.4263285283958052,0.13142417032138334,-1.1808502161036687,-0.5555039955035391,-0.005032718902195779,-0.9637677163388558,-0.15933843084984048,-1.0126887399846387,0.7074080543856581,-0.6217333280722963,0.550750276059099,0.8435231954431508,0.12648005552993177,0.17876395565869302,1.2792670565248547,-0.7637928314676582,0.0620363479931955,0.5430166183144082,-1.5551362843208296,0.021893254075988272,0.05227586207524013,-0.09022796361677296,0.1764300404027299,-1.3749960753401123,-1.7200173410854183,-1.663053132692621,0.5596279565198259,0.4188183378169681,-0.7321794785117989,-1.367088294789145,1.8985691186292746,-1.6863491450819825,-1.2156391523330214,-1.0231126529501944,-1.582548831735547,1.198940472576502,0.24480661331524936,-1.4604266891313982,-0.5167121998728897,-0.9224168496873061,-1.703124260488078,-0.5100123652788863,-1.2038238487289137,0.2753372498493308,-0.7538946277989287,-0.0984653108774492,0.7428375046184589,-0.9089175284056052,1.9399303394942544,0.1697945402042091,2.2815127264460813,-0.125510165052253,0.30800971312077097,0.726719021671468,2.2764034521208094,-2.0183995682547797,0.2867329748522091,0.4634235620144802,-0.3967605817708135,-0.06545409120414496,-0.027597488091830585,0.043131896709987516,0.6069432253749735,0.604699660918838,-1.5069525334409855,1.9987417883324563,1.0235003337085888,1.3818873395324756,-0.5254115613118954,-1.6908895359478768,-0.25636644713859463,0.0039136908115734855,-0.8718783578971142,0.3650301210597981,-0.6357033353234246,0.4190935629740813,-0.6822662836252273,-0.09836281913446696,0.1750851624884859,0.8503975970689998,-1.5402988562021194,-1.2630468832431268,-1.4097304502332357,0.2544981599246997,-0.7446376059333188,1.1814835773419583,1.5924897589203908,0.4175084676890333,-0.5419696110885055,-0.8110777027206874,0.4221300751882902,-0.418560364358681,-0.164547183244091,0.14138427507123144,-0.42725032963925286,0.8323776633024964,-1.2645809849248975,-0.6675098408677176,0.6162935097163675,-1.4131116127145333,0.1396620607160842,0.09697149148242241,0.5623360751846755,0.4271150625994915,-0.2827755352945857,0.7966090982607665,0.6503844454129706,0.5903764933240315,1.4720075050184211,-1.019942403951571,0.3787611203169272,-1.385015821256633,-2.707593952576253,-1.2269511617480122,0.49290696958639457,1.2390584648331155,-0.018958405285242595,-0.8972127175056613,0.07046455488880722,1.276783824533138,0.627620175577632,0.8409977510184301,0.07062851206320994,0.03497834786998352,-1.211181121134173,0.10177322587727256,-0.4558702724129671,-0.07521256440275993,-1.4229482661872983,0.33117647769888586,-0.30325762726457806,-0.15063660915553295,-1.2504071181545844,-0.37401924043516227,1.3691765308487398,-0.5872477067085514,0.03801987822398189,0.7354791916991341,-0.49646161104536446,0.2242674994391662,0.569668277662903,0.5137717424567211,-0.31622690682297167,-0.6209524714514429,-0.26800948736669,-1.0414865969109657,1.8688191123504503,-0.2445462806694574,-0.0682563400284832,1.1763623896681228,-0.3654444633744695,1.2154117652366796,-0.18075926466470035,-2.4032126014329687,-3.07269818259489,-0.8880863989696598,0.00013896837494713812,0.44181032941258847,0.5779672062947242,-1.042809698607103,-0.5684315031069774,0.5099500467557941,-1.4665464166836049,-0.4100120462886674,0.6052181381987967,-1.1566375834312819,0.02942481419256875,0.03936323644469894,-0.776948870729039,-0.19527247967377168,1.5190381883492867,-2.4528786428140132,-0.13838832601294787,-1.9472452239326035,1.2710657647319545,1.309993211038915,-0.8369025926175525,-1.819920269280088,-0.7768196483560349,-1.8333013340431694,0.08430918751086583,0.5317746990012987,-0.5945272531487187,1.0333612285663878,1.1515371538937433,0.020534295572309277,1.1435179476802966,0.6414895851240947,-1.5672982308629488,2.052297677104102,1.3890090797096462,0.5620792077791157,-1.006873375000095,-0.4523878246201306,1.0207082156007825,0.8587207451972905,1.1112132691906889,1.0956011716586251,0.6283248395300467,-0.8222500528208462,-0.41076644424210423,0.39316079166925183,-0.867522467834292,1.1076666964622452,0.7190495819994357,-0.8907448546020418,1.667758756366309,-0.753657626548769,-0.07802888766806526,1.936859949614012,0.010550343192841595,1.2382695943838369,-0.865237270290656,0.6732991162739093,-0.5125870282142032,-1.538434085336072,0.3239336618141018,0.48862200649038623,-1.050415005487597,0.03161697675478691,-2.038376868640737,1.3507080375197082,1.0921201527572852,-0.2841849437222853,-0.9639294435770096,2.205888762085238,0.26810231836578036,-0.9695307311604708,-0.9303849265799002,1.4390037256945625,-0.3413479661824355,1.1606872020699204,1.1384670371826393,0.8151562617018635,-1.217222445520701,0.8028873301316938,-0.3555333861398925,-0.8507751390297096,-2.2439976682475256,-0.1883546088885071,-1.6169463326783322,-1.8224514928278674,-0.10418008907897867,-0.8242861892975274,0.07629822935860621,1.1576405938959557,-1.5387823361021509,1.2013045207158624,-0.11645332164567117,-0.02042215591644782,-0.4494422919209478,-0.5527524819008592,0.4693820966138074,-0.7191586686449586,0.10362379566614906,0.6076752246717285,-0.7575279911889917,-1.1632726315722612,-0.4371242215454048,-1.7242807043123065,1.1525739299693398,0.11922235411558314,-0.2950843330506772,1.086182167485467,-0.14890667129958432,0.5107122601236401,-2.3760141648300466,-1.1037742726830693,-0.25858772657640666,1.6232368347520234,0.685234290498135,-0.21919349011425704,-0.7497151994107616,0.7701881621120055,-0.19401007687436136,-1.4276101478896355,-1.6002781512826056,-0.7921286418778184,1.835070456823066,-0.7812537011886768,0.36207421876962154,1.254407597423333,1.1970157534504744,-0.49648316497098205,-0.9588198043212428,1.0566962807210263,-0.8267255466145891,0.9388480709613453,0.48011199151748396,1.8010937732636805,0.7030940344152886,-0.6249626316204165,-0.06087509560735577,-1.7693645813586794,-1.4761386037270496,2.032707772116386,0.7444645605876962,-0.8615485454000651,0.8043719878253137,-0.07875260944353292,0.3475236288331621,-0.390767280209601,-1.2638675702991027,-0.5278066100656197,-1.4458521246889084,-1.3300945282373524,-0.6186571753234786,1.7275815037289246,-0.31996791092745797,-0.5087267231913926,-1.8210167858109054,0.8352987076184544,-1.5693421309175637,-1.5963859088000618,0.5328378225167326,-0.5906418084209805,-0.10301196167746769,-1.072029860932915,0.18635660429675485,1.425701153280406,0.3984081515991855,0.8360010997610264,-0.6628534811115285,1.0286984842486493,1.8313522639063153,0.5724802809761729,1.1421257847912627,0.09969217563511129,0.7826378763373448,0.3361291930178095,0.5828688517962796,-1.4914225646310548,0.16237751521480687,-0.510659276063037,-1.0434217570760989,-0.5806485753698701,-1.5754630361759205,1.076374973009313,0.9852838686910417,-1.0421029185926878,-0.931149818301978,1.9328339698411292,0.5161702573881188,0.3305977134264134,-0.196584868517246,-1.5053059695640392,-1.2677947134287078,-1.3249336434154169,-0.21425321716913867,0.04213224965081667,0.0817799641652046,-1.3390813354596616,0.2905493255586374,0.1363739386750539,-0.7175082535471053,0.22228107884961743,1.6967058984449999,-0.08423658527743447,-0.6510849678792757,0.08500007400016893,0.8620222916625071,1.3198474974294947,0.2953246679943644,-0.4411205741970534,-0.7020327888443478,1.7857235240135838,-0.03410005214573434,1.0539472073382077,-0.05500103142518526,-0.5728860287868134,0.7108800511898927,0.5926495255885106,0.07048255610901893,0.2839291569678118,1.766869087895366,0.6875300225741084,0.8385440179160025,-0.41097013895524026,-0.44459555968024617,1.4324371209147106,-1.1971370887374362,0.8810749044087564,0.3649492592235894,-1.6387131442417018,0.3229117263976066,0.4315081447821993,-2.201834589703692,0.7189182416583878,-0.5069841310851844,-0.47515571175691196,-0.7925968544010967,1.3210037280509026,-0.7120016914798855,0.597271028463159,-0.7073248818980639,0.004427215907858982,-1.2795080740841152,-1.0139477719792886,-1.6047552055670598,0.4165930897412603,-1.703223598562632,0.5500129442697391,-0.4875091075207845,-0.6606123534728053,2.023258436625524,0.3306775189312796,-1.168673468088794,-0.9653403625008006,-1.6812184916932804,1.4143697716771473,-0.5951006753393986,-0.31964245344408204,0.5143752778473465,0.1160831207066673,0.429487516052497,-0.4112670305371917,-0.20154401472368771,0.3496642013044726,-0.6845197576869981,-0.43096565378315826,-1.3014949359902157,1.3833113213997066,0.6115566459863171,1.4345726980086237,-0.24997026186483046,-0.6483023211034536,-0.3901156923101041,0.5802242536922113,-1.9496170351254738,-0.43856981565458864,-0.5127887934208333,-0.941335665286633,-1.4428240244657748,-0.2721441179698553,0.8054027109990651,-0.7038208804981858,0.2974949253480869,0.5048356542881842,-0.33961401974473204,-0.5352042028957928,-0.9783112575835828,-0.007775847040470718,-1.4391753056921686,-0.9193438349258299,-0.6073346365752591,1.261476932769211,-1.366724221421722,0.36910489917907474,-0.031259581650494826,1.2111262296586944,0.3004605161093904,-0.7959333696097578,0.17284373519630447,-0.07865185637624447,0.8373219613089045,0.3870784154741141,-0.811884401841001,0.12212606898718985,-0.19977712229387173,-0.2430626196140061,1.4037967486237855,-0.6709023196590785,-1.2007272291498239,0.730570077923304,0.42976179304707274,-0.511835649818619,0.9944699468240953,0.38246835905961774,0.12739897478665155,1.0354855982369062,-0.04444068967735116,0.578359358205059,1.8327039596066683,1.4218996609616088,-1.6542283560110578,-0.797308711145938,-0.11198877688807375,0.23610811441272114,0.385935827033756,-0.4187743092953131,0.528128669041567,1.1641145258428898,-1.4193343140793382,-1.0634523082315555,-0.5669076260689345,0.7077738583728633,0.946664543188018,2.0629182860622346,-0.3647389843130683,0.4867564748797286,-0.49979799121945934,0.11824159584745565,-0.05398005590713847,2.5820484495084277,-0.7632835395197669,0.8738499260838227,0.8506486004489656,-0.8700502244868645,0.03230749746790533,0.24223728401820377,1.34982842536923,-2.3046755657392586,1.4663783542467352,1.7381666002743228,-0.9228171754715409,0.7437889350241547,-0.890878690084965,0.21625954214269208,-0.6482358898579055,-0.6569076427211326,-0.7445647463253963,0.9337380119852331,-0.09534760423402663,-0.32688986748361076,-1.242643794606165,1.6591185089428322,-0.9488530135599187,0.07849883454329919,0.2963954554469502,-0.5322851662316833,-0.6053258010029084,-0.03369150508821572,-1.9463060506919974,1.4878764089530259,1.143752960890213,0.5164217812252283,-0.869394773339389,-0.8266748962811599,-0.4193034507384945,1.8192472495698067,-0.8634875264711865,0.2142147069682942,1.197313089214833,0.09573977290932216,-0.21165389157858797,0.01027026124013144,-1.5845628004978052,-1.7080442885285976,0.6051274072556796,-0.6503753818937102,1.4501298083893064,-0.6497744407751846,-0.3528058030763827,1.2494333724143374,-0.4704722316381491,-0.9689284935762758,-0.6655268295076837,0.9470235625164841,0.12997743510622076,0.4444933343901172,-0.3005232844829172,0.5600904296567266,0.7088802624388801,-0.34119292596948525,1.3523227557902298,1.7410731277119451,-0.12666282340802393,0.6484636255783754,0.380202619563075,-1.3874393414091932,-0.965990748115311,-1.768340796192209,0.49351980584802935,-2.949571692686616,-0.8148493982310803,-0.2604650173092098,1.5544267559529117,-0.6177194334231509,0.5734815049747528,1.0659642917130387,0.628778719790878,-0.4526840458605188,0.20059294214036982,0.5250559538155005,0.5539423432774989,-0.7658054755168443,0.9676708745534384,1.0547515047902427,0.27297777854074323,0.5288309720910361,-1.5088942266612,0.5757952816635811,0.20256317209912578,0.8255508966974088,-1.4947484567808245,1.279606059219344,-0.6168349564692821,0.04668579814297082,0.4977462620233752,0.8167878686990866,-0.25428548334837775,-0.7007707005791161,0.6804877154599608,-1.291922900136523,0.2940739674983074,-0.9611510350485545,-0.7292463590757575,-1.276673617076663,2.637930215858548,0.516285214613422,-0.059198369649340325,1.1592003387861822,-0.5144595130434118,1.3668841129240779,-2.1140178296940015,0.38543933092430865,1.2102127438452526,-0.9311666270919324,-1.4240610540768905,1.2325889640406062,0.8026524111904312,0.33867245482764613,-1.47524198933118,-2.612906219891867,-0.046643019320883994,0.2807145888915359,1.5202440029612392,0.510829430450874,0.4486761533662494,-1.7438368191964035,0.15981267185464687,-0.9984944557573411,-1.1150590078183664,-0.7811662906252244,0.26238721296652845,0.46447370544344396,1.2419180084647181,-0.47163582496000706,1.5173097677017886,-1.2420092899889266,0.4051505904639844,0.8944621836226926,0.5640936665532944,0.6331608845657516,0.7427494882548268,0.20391153971529413,1.049282973698695,0.8941694128422817,0.3859805347478516,-2.374835623927408,-0.05035420346995076,0.7143989344760734,1.0101042196879932,-1.5138284104817674,0.22623204477585715,-0.6731336595013585,0.17734185071801217,0.8711467473021303,-0.9376404078239196,-0.3385762276728621,1.0190457584986272,-1.3347487073128574,1.0494152654033475,-1.419324769512016,2.064977087956136,-2.4270277656468515,-0.10096200250128917,-1.2937412060334115,-1.469703404374008,-0.8897570366689765,0.26131940067791815,-0.09269785423661026,-0.8057027071980253,0.4734518591103714,-0.10416845936975436,-0.10795701743772816,-0.46761284618258075,-2.2150951178724405,0.39792399743370294,0.8976252325388608,-0.699792944795017,2.3218908987805826,-0.7552151061771409,1.1594203499289333,1.2948696671526163,-1.3193906514932692,-0.1375247931954349,0.3888110725444359,-0.8251386627846877,0.018870737837205755,-1.3715427764401267,-0.7723700428614787,-0.4121682843512377,-1.2644394514518853,-0.40538431873188346,-1.1374643288287754,-0.28955613882472836,-0.4499223497512063,0.49280109154343776,0.8238033607412818,1.1291072402425937,0.8705788991841297,0.19504467707895667,-1.2749266562443444,0.9427459420676513,-0.3650151014555055,-0.8244701463922334,0.6206685633390591,-1.0247332055529128,0.749758866484934,0.08589550198696089,-1.4811655361674063,0.7048800821964999,-0.4561043489363133,-1.3033664716685784,-0.1437613173564359,-0.23458346831628574,0.9904687168938076,0.09138051167449844,-1.0723781053938515,-1.7893531241557605,-1.3597929267256985,-0.16491060908178723,1.0906989583562259,2.0914219175342317,1.0748894167743204,0.9199482911305118,-2.7783912161990787,-0.3489913553777342,-0.4918290118446996,-1.7542880960595035,-0.2874294141965852,-0.14766598835311917,0.31319286096311066,-1.2497419998844697,0.1649993275578628,-0.20611014127029484,-0.23669180541829918,0.9078269106229262,0.0067339857682024735,-0.6350025176565975,0.6929231237151385,-0.16556310309468997,1.0914269515427026,-0.09308205597630825,-1.116536888650218,0.5170421370826801,-0.8802977679541721,-0.6884294716546733,-0.8772521618445952,-0.23472639933365674,0.8988183787252944,-0.09805168853193208,-1.6205753307380828,-0.13617679631893906,0.13048652383726034,0.1440931215055609,-0.0033830812337648755,-1.3896441275919846,-0.27338964256458304,-0.6825665652702249,0.45346688451244976,0.10581182726139692,-1.3005383985486056,0.8865711796593341,0.5861006791358976,-0.45263310954654884,0.7205649089846203,-0.3273907336654959,-0.24199286349827345,1.766651031038292,0.38178792094670355,-0.14487666980951636,0.18796299030623462,1.3835435065845922,0.8189022781640095,-1.5104645151881169,-0.1968961912970519,1.4956323738472985,-0.645733001551219,0.6698750505827902,0.37662675654901095,0.7078317361491547,-0.3030403788069212,-0.0708786755817403,0.648308458848917,-0.7283642824480159,1.0961814169479167,0.06663627446837668,-0.6159195358769803,0.8513727820601995,0.3401809246888749,-0.1808387252526517,1.5213168465995657,0.40168331999096846,-1.1479978095427459,0.15459145707091507,1.51396889699611,-0.5307048297172705,0.14629898650477807,0.31353157249788954,0.35435897528133237,0.4670596592965468,-1.2438303183770894,1.9323675614086997,1.5727912203572407,0.747470382749367,-0.7999589885860026,0.469132774396857,-0.7658893635660939,-1.61648484263826,-0.128701106935913,0.7905044815350579,0.07873540214159701,-0.3426476207859241,0.34516574496445,-0.3927841792479621,-0.42040927578872406,-1.0196311076446514,-0.05450968605593655,-0.17817527008871323,-1.9964993492647478,0.08595496722294506,-0.9005055239016723,1.061178112220053,0.5945367367425217,-0.037528336688101474,0.210560278775944,-0.04379239383340182,-0.862122478034717,-0.37463055741425383,-0.8716254394146916,-0.6928180908887791,-1.0055833810000163,0.5404435442198748,-1.8690688261708381,1.858929964995653,-2.1541335891420124,0.4352429705165976,0.7891947424632264,-1.2376589193177745,-0.36943850576177023,1.291032268344858,0.5257006548210508,-0.8744647776285887,-1.6869779682838275,-0.6492946545667051,-1.2793303359446186,-0.3996735642920045,-0.8718728504460402,-0.6341419691659157,-0.7447555375679334,1.5615281138073367,0.31284696370093235,-0.0030212619079561702,1.433569509213086,-0.11788271540123708,-0.8784797077364064,-0.5094763653597286,-0.18677080633366666,-1.6149282098558748,1.338350557398529,-1.014363579840109,0.06953496785307976,0.7110122032841728,1.0361622731052935,-1.0362741090472811,0.003029390857020479,1.1675817731009157,0.3397609500799526,0.27433132586465003,-0.5202261216712393,0.8792697559253875,-1.6749470574008845,0.9855483754625993,-1.0865043629874247,-1.1949010355472804,0.5329516240307897,-1.6305302752867459,1.7872227613337783,0.46626152979497476,-0.7879911013704931,0.5684373470757197,0.5646572621848562,0.4346543555449552,0.6121405087450934,0.27839574983067716,0.7262434511876298,-2.1571282322947956,-1.6691944378767811,-0.324767215595015,0.04914759931769591,-1.422890830651062,1.031262912709873,-0.28486679615057287,1.6975613106675844,0.5675804602277489,0.5492463838046117,-1.016406792801323,-0.6432457061792983,0.31368736747549214,-0.2207458227733051,0.21022947136032197,-0.2822037956552926,1.6879835594347132,-1.9079181763361595,0.6154019714444277,-0.8375716815232557,-1.5824775148157626,-1.1083825848954978,-0.5162255128596598,0.13365642738193798,0.14863129248800308,0.9364499998231487,-0.9797387731926434,2.279106964573328,-2.212669266543432,-0.39600042827091925,-0.9817912302214548,0.6951154758674626,0.8315126050093667,-2.2717807333968834,0.3284532608799808,0.39805544980593904,-0.9886677275216246,1.7217591245442883,2.235982986295905,-2.0990838333948614,-0.3842759394560757,-1.2583804555641565,0.722424889924907,-1.2093918743743686,-0.4631265247178602,-0.13608472431227428,-1.1233464265783486,1.1722187964590889,1.1365622620652944,3.343685171963374,-1.415896081096039,0.26958085179713026,-0.9767077434505307,-0.37227418078116803,1.5241583748064398,1.2869291038070456,2.337745094122884,0.21487275874269363,-0.22006474208904894,0.7898760015169171,-0.9716474806179385,1.0735889515718016,-0.9769481418083328,0.13992280465093887,-1.883864084435459,0.7940285173574206,0.1327781028701048,-0.16996299512212654,2.0902302302742193,-0.702820136061999,-0.5147234245695175,1.3000623761560897,0.49125659666796373,0.840733913792591,1.982944936729286,0.7179944128625844,-0.6001095568383603,-0.5261302316283606,1.1421284439730912,1.626876062210859,-0.7216981668174007,-1.9449084438320872,0.9429602581047807,0.297592705930218,0.43204395356760394,-0.8542157038741267,0.2864015081743021,1.8976265284808003,-0.8010561192241367,-1.009041419720523,-0.2541538770686183,-1.5087057491498215,-0.5323588420250203,-0.7367139390374224,0.4579915855481868,-0.17876985412001364,0.8968570156100845,-0.6402665452411558,0.5414249124798294,-0.3983396296929659,0.5032614395014486,1.68729760037248,0.2960197550605229,-0.3190814731229884,1.073609104422135,0.8010734553090738,0.8508074471685537,-0.9841200869335843,1.9167150347215403,-2.3595992513317654,1.3517308462766524,0.2767086454228043,-0.480096932307186,1.2654312104650471,1.638580708114186,1.7433963257331937,1.0647699088425102,-1.283352771118145,0.36467563985371626,1.0057807071720082,-1.4641093653488562,0.8816984834281528,-0.15663847559723854,0.640533200083172,0.11208266444788301,0.7700731666277975,1.5937102189449779,0.4925566145924269,-0.9451258755380697,0.3629004138275793,-0.026303877833655506,0.09756589960551383,-0.2556574689184611,0.48097243924719263,0.27070817495275323,-1.2906377244204479,1.3807439808459396,0.8668919167157164,0.06129919613549117,-1.0923474445297827,0.33548354179872675,1.461390147970242,-0.22928844906575127,-1.2041370512448957,-0.7312486961491225,0.06320491142222055,-0.544071604186311,-0.7539765317307554,1.8323544792405932,0.1587133806244641,0.3679919965048352,-0.2194042732849741,-0.7314159980410533,1.4014330883364636,-0.8531761787593849,-0.9901490783298212,0.6043803124139209,0.7110745777972455,-0.8886937826880471,1.0292484317612463,1.1216579518170358,-1.2794846131376476,-1.540820911886143,1.4658110001712379,0.3683197013905917,0.6333745534428705,-0.1281636846428036,-1.41436944243046,1.305388906471094,-0.7355340247850995,-0.2153506622743328,-0.011511052190858606,0.6058792252548508,0.7000696811583771,-0.790874340048732,-0.7786535765427035,0.16450627474457805,-0.3962535043372031,-1.2225206453403246,-1.464020874012471,-1.0813298337788724,0.46388785394727644,0.8867306645969176,-1.0906106890031357,1.0504082253404883,0.6482891093761591,0.3506387407849027,-0.33223813543994124,1.2237944558684029,0.07143392835485232,-0.3723555514344795,0.5366545340729183,-0.8420260648251775,-0.9884351368611737,-0.2836240011758575,0.23852819198901407,-0.5725333394446371,-0.012343653800140516,1.314924247163158,-0.37378066655506426,0.8773725398381427,0.9126673483720098,1.06144160159098,0.5677591083919266,0.31517199731297874,0.9283011836714471,2.9245289878918728,1.1070614846933953,0.5403229430224412,-0.9862472416535819,1.2300232965398066,-1.045835911897955,-1.3034517404377188,-0.17869587079106936,-1.4770301507268748,-0.20163367815270408,0.7605865535746889,0.5437516606703635,-0.4213460536103616,-1.5283782379397708,1.4194338126528212,1.442630521263848,-0.8320678107609026,-0.42375620881819454,0.3136731797368338,-0.7525836319006929,-0.5881600066666961,-0.3439039757843757,-1.0825261810161455,-1.195191722212146,-1.1581490739121851,0.231896912561232,-0.3068311056532318,1.1672842425561067,-0.35676486666312207,-0.17065045725939276,-0.4259525827780306,0.09214715559466176,1.1849061947806865,-0.2920330072011102,-0.800572165578214,0.7181191582396167,-0.007582484354792566,0.42507070848630574,-1.7560164369723679,-0.6153463916474485,-0.1539937840794853,0.46790763890197545,-0.19694791951515328,1.5826434192164505,-0.06750968677348351,1.0569208272900406,0.8091980934396312,0.9582765327173479,0.27909280954171795,-1.4085103590840409,-0.5854684230611447,1.6045634408587797,-0.48688490706116666,-0.15614674948391408,-0.7681004171872192,0.5161990979970529,-0.20864222429149618,0.8376882135026941,0.30942741259291767,-0.8538791887333246,0.3816119226956093,0.15395563722254335,-0.8190781671217006,1.0030567976327451,0.5284609082868729,0.8293438849172176,0.991028267755005,-0.11690025771345891,-0.1408257911474897,-0.9292071687232063,-0.30117455930298115,-1.3712622902906098,-1.2251152533339498,0.5750955681196042,-1.05495820919752,-0.7185258352062508,-0.1766887406007266,-0.7105548568276095,-0.6857430444458958,-0.7062348491329382,-2.305087916710197,-0.715877085655772,-0.42335508491688,0.08881497015742093,-1.2576033599026977,0.7192887726715341,0.21834863556567566,0.9498960688366734,-0.48312232455250176,0.8821086996032889,1.0010773663037043,-0.26703951283403254,0.19480099866892409,0.3197389155149078,-0.11748634359529628,-1.054176059018308,0.8447524330656552,-1.3871613297485228,0.1495464083169116,1.7646720253456796,0.5093620390128862,0.16530165366462835,-1.4162666548406184,-0.4339962600965978,-0.9362937933396976,-1.070410217119385,-1.1923378195496497,-0.04481472319837192,-1.6180433457365164,-0.4028193503853765,1.5199006579847785,0.7846797652657421,-1.3463228920770531,-0.9801582720526091,0.4079444430134945,0.7959395254628555,0.7287984742482344,2.1543265884223493,2.213582183953338,0.008550259028323045,-0.5392110811391208,-1.7156053059143326,0.4866096291675463,0.11529852579123633,-0.8109352243320953,-0.765407306980395,1.5855999726017498,-1.754353560479823,-1.5183575678087111,-1.314608644730045,-0.6266345947100626,0.3164450502293807,-0.3978927648692914,-1.3603900620935219,-1.0416853314997103,-0.4989286130966995,-0.34100554193009924,0.4240368399397635,-0.05164030918002655,-0.30218679816226734,0.030024931602467157,-0.22658503589840034,0.05764980366946561,-1.1903790708363233,0.2669232145693236,-0.8647699910116842,-1.1082551234722744,-2.7870220198556996,-0.13756833976924537,-1.8068374782999315,-2.0060941926541056,-1.1458860537806392,0.1824545011374084,0.7969469066083357,1.246054999089588,-1.2690516365385711,-0.8628982027481779,0.15244516629805607,-1.277641111627485,-0.6022983089421612,-0.4769897931665339,-2.1197700408435503,0.24371875471260518,-0.39069357217197304,0.2386433529504864,-1.5090799982836602,-1.5473490787063242,0.02243116742506666,1.0678759821286772,-1.182158232207441,-0.3171657852913656,-1.0842744216886302,-0.2950310232532874,-1.2297787653992507,0.7067570071593517,-0.8643168753567936,1.0784224442089094,-1.6387439543668019,2.555150278149875,0.30381259982553427,-1.7313173864646592,0.6247744817600518,-1.168518572712844,-1.1655274932775777,1.7410710599981474,0.4041714213651153,-0.5412606213253425,-1.6882639033616798,1.222263353321922,0.3414449328375467,0.14742901483201432,0.2730972594712443,0.7076630576689035,-0.21232812409048923,-0.9770959394023879,-0.6985547684104599,-0.11711271097483839,0.089457740985955,1.411113174024357,1.2491895617840258,0.4148316531549647,2.3625050469265183,1.0360461449001217,-0.22860407736901428,0.6045762207642953,0.8072164932253906,-2.109347408807429,2.2386750806265554,-0.3750980239788588,0.5088102310055591,0.30219978919035184,1.100067503248872,1.0720806135087768,-0.11664637379806811,1.454668521749969,0.4674410168400072,0.9119410774872796,-0.8844089441511853,-1.303296393388528,-0.6190887485511706,1.672369601262926,-1.2898607248515048,-0.3958491660903483,-1.092100586646041,0.3354890543262156,0.04739596702944413,-0.6314915877667105,0.8102735980347026,0.0597496982670309,0.4772570290234445,-0.17380078079921277,0.6908837898659553,-0.3032195339674292,-0.17318359268423636,-0.5979118698982161,-0.605463564691262,0.2862620715582114,0.6154800962465474,0.7435690525488595,-0.04297581629595955,0.1614367147666435,-0.8527943737459047,0.8145825591716341,0.24866483290352318,-0.8361121177141047,-0.28859278811637123,-0.6685846539316614,0.17478421708054429,-0.16303962530772012,2.1573549663135263,0.5974135703685431,-1.37996001271371,0.31595820382032436,1.5208251022271666,-1.8073590080292297,-0.253990099329372,1.7906511849041846,1.0442905496971155,-0.14851481691826474,0.6318608786981266,-2.3027873186928547,-1.7458767823974148,-0.13727865862030825,1.6833931009778986,-0.08884066111400538,0.40548567424972387,1.817903073713991,-0.05241676623119011,-1.068683125071256,0.5957614893410139,-0.003723988558237739,0.28864317724158683,2.424008386850177,0.018724487277195587,-0.5868194336942522,-0.12147323453236265,0.3309181825417097,0.043728367156143685,0.07055588288013957,-0.12262851697926015,0.5618534081650393,0.4874899618597707,0.6207116378034703,-0.5023941495359886,-0.06910618527896652,0.4770437218556557,0.6050528551100582,0.6187885653738284,-0.016054452560646183,0.07190375467068415,-0.4344406567517723,0.38273969984194034,-1.0302893403386721,-0.5797762663358514,-0.1631931741421667,-1.0575689642775308,0.020477046070835753,0.9502221486987732,2.68483627728429,-0.764820490782647,-1.2395493046837252,1.187204887542397,0.6082312466078897,-0.17563383214928796,-0.36888917025659285,-0.10773130733434778,0.4674372504438301,-0.5187171240785767,-3.544652213022134,-0.8881822513639986,-0.4502074749351506,0.41871958858216773,-1.7819669360791495,1.8115372716965317,-1.1754846104541783,-0.18672618780297393,0.935293681285579,0.9230314204575922,-0.04202878813600817,1.168031152978213,1.1855936334116275,1.5776699796777183,0.5708159500978361,0.11365224735811956,0.42430753853521497,-0.8142405708975382,0.7033148110446145,0.6355960746242011,0.8373489441128191,-0.28312912721271066,-1.237041966510347,0.26575074352568956,0.18810082186439234,-0.05477674185653209,1.0031339792492453,-0.8987975165283303,1.1519467475172092,0.1042002226963249,-0.5979736722790847,0.6847315642577195,-0.34425056244270236,0.5619046377561668,-0.7268084670435534,-1.250853877797013,-1.0519445976569914,0.40247908249279657,-0.34042964553027566,0.20855478976615396,-0.2203265245713024,1.5546864831383835,-0.9951799543402223,0.7191007264302431,0.06384415354734696,-0.6689353115614826,1.0320288727950775,0.7810901724368728,-1.062027659206275,-0.3888560314903775,-1.7246473517330225,0.3873549589040288,-0.9607049725811304,-0.1469689666329648,-0.7744997417387512,0.0925814569122735,-2.1632155718645527,-0.4730896557013702,-0.7778138420560008,-0.309316370149734,-0.14502899901407024,0.5587754881666938,-0.5337621941729053,-1.345540566227295,-0.6982806422962617,0.7485739605857609,-0.03824172157321706,1.7037048968649395,-2.520284824042226,2.2596192592944404,0.9329394241892568,0.46411146444535645,-1.3693827075376486,0.6124590280768104,0.11639360736674138,-1.2702192074389955,-0.45185745428768626,1.8788184346299834,-0.835927246320718,0.7606021175233162,1.7087479769705436,-1.994500179830392,0.4904321816398657,0.42758868474569006,0.840991872160798,-0.7558530593403597,-0.4861635012082069,1.1884934536830816,-0.7867506731447648,0.9662779434483748,-0.05265440135921449,-0.8835414772921679,-2.434396197971229,0.425274456279991,-2.1130703738239767,-1.831745782747111,-1.091807855045457,1.6050306775660617,-2.231738488022153,0.9913948282489414,-0.06337448308160397,-0.3466891598611211,-0.9760633226056143,-0.2600528903064214,-0.49225390057478136,-0.0006067078163152808,0.8456173500207744,-0.4345793092641195,1.3627219572574056,0.06830208674030891,-0.9091389308443518,-0.47796487649200425,0.41049284937348957,-1.739432495914944,1.6860005823961781,1.617320144125651,-0.18425020419433255,2.489094996934871,0.6266591088032403,-0.4238017571216724,1.107889273468065,1.1995906929991773,-2.319677744546164,-1.1579027199677274,0.5477031600479791,0.16679122648756023,2.3928175466619277,-1.3772117104741903,-0.8872088169143554,1.6925354474814227,0.08672383900781794,-0.5656477414543146,0.6314341484458995,-1.1660348385598387,-1.0455487839743935,-1.2333750196453483,1.5371699849269944,0.6020249744820233,3.806861047083141,-1.259196117297775,-1.1025549302971989,0.6258056753944505,-0.2808555750384066,0.16825369215984395,1.8889290285688758,-1.8579290564873978,0.6816993875545952,-0.5936143325929,0.670686174185279,-1.0035110071745088,-0.905664291379385,-0.2681266915729099,0.11925988784953083,1.3586851914403772,-0.31114485198963865,0.4529759525446663,-1.0009488901512704,-0.5677796294640955,0.3571537835068639,-0.02240367679865532,0.7569388583419389,0.03969193525171409,1.5220841239836427,0.6418875904340713,0.5456676179246629,0.25166256352566274,0.7075423327335733,-1.6300020658629653,-1.2250744957843205,1.6914046553315227,-0.12787636948152795,0.48771795539508583,-1.0931235540848467,-0.24091467069148534,1.1360056232670157,0.7680912499410603,1.9681109826737329,1.2376460840841308,0.14198507335826127,-0.09898368744485132,-0.3445133266216116,-0.2436767713893479,1.082987947360712,0.9310044511956463,-1.5118154047562278,-0.806616080516212,1.4151942266291566,1.8398724569607927,-0.3300886748739356,-0.04679583124615491,0.7044482646740479,0.21589447872635725,0.18073135707003618,-1.4884468221789244,0.027964523868400794,-0.3605584764283836,-0.3264212773075608,-1.1693476061095054,-1.4905529794004722,0.7108995433418659,0.20428267939224212,-0.6089900347816137,-0.27705973176919046,0.8245960372758321,-0.43735453163441534,0.7459926658727478,0.003687918108166166,0.2032352693098371,1.1603694097867006,2.02705697626568,-0.5039957380640329,1.3126675769283573,0.1555321032396571,-0.9659878461323478,-0.8740055732199797,-1.983661891776047,-1.0674261389506081,1.6349338413239052,0.4929852882669919,0.04108315222624836,1.21875193013651,-0.2732247730929806,-0.17602207171204645,-1.516107040652596,0.9414064280486244,1.0530435557992472,-2.41646888859131,0.16748324680984858,0.3296680827966934,-0.0992932237051683,-0.06523039236035554,0.32287079866024077,-0.5995079167595532,-0.628151351773235,0.29573874031230396,-1.351538127029495,-0.8266363774479727,-0.3619160017105642,2.4100582335582565,-0.467401479871923,0.6496197886587659,2.2949945449836764,0.5089447279103685,1.318485194031791,-0.7059855869689058,1.382144500749607,0.12397131855214757,1.8151582460019513,1.371323482808007,-0.8816895648147305,-0.2138421564051796,2.277061658420013,-1.4168279263905383,1.5460356186115518,0.13022976821780416,0.9860598755682023,0.6034144392374066,0.3531416496951977,-0.10995547429250072,-0.3294495170863548,-0.8607570601986975,-0.21655846686326555,1.063592030650842,-2.4984537469386203,-0.9466383068060519,-0.23659700546043513,-0.07151556383030572,1.597921423058232,-1.2181057983742871,0.890755091913015,-0.7154956796147741,0.4988159371945984,-0.5075984433082081,1.098103732555041,0.7137784986693163,2.0901849754104616,-0.5206754202772311,-0.7426209601685827,-0.43308075043804195,-1.3494250022684509,-1.9079089414420398,-0.2554451349855991,-0.4467517577808453,0.655006167825746,-0.24166160621467964,1.0129497803996457,-0.6012784682540897,-0.9036899679854464,0.39282152183797414,-0.4421864307633547,1.3571353555875814,-1.889205330394344,0.8204370396535885,-1.2581305370702904,0.2605525159350164,1.228534828645888,-0.4089240802238288,-0.15010752377727307,-1.1731475963040159,-0.3155016597637944,0.44619433787188817,0.046258877761657546,-1.1424739491733154,0.8953892965859881,-2.053044364202344,0.4495567245582939,-2.433778637643369,-0.06087719494394235,-1.9782782678955502,-0.18135061173645506,-0.6048392153960284,-0.06304967607550069,-0.44056163248531993,-0.3269296384825061,-0.8406483708590784,0.01728115402253707,-0.06676076788387243,-0.8426170161209129,0.2369391845654903,-0.7576379749379208,1.2236244077796257,2.4216148949088154,0.2447594174284832,-1.2732250731242545,0.6590404297916936,1.2083696065923732,-0.5075657000266637,-0.48472252636929036,-0.9612978005679579,0.633362378912036,0.6486450520273341,-1.1623504534102889,-0.15585415196939587,0.03133713462127287,-0.8948651878838692,0.3648309302707056,-0.29226678885300067,-0.5864816580234288,-0.8374130578496332,-1.8062886046950892,-0.5947373628510185,0.35674702045916307,-0.3763377194189833,0.0691614183920624,-0.7260216201124818,0.08111316708422803,-0.8812263674470866,0.2834572583591029,-1.4253061480184221,-0.4850870868970867,0.7556568536270979,0.6856069416547904,0.758314600456736,0.48217025535202035,0.34271160180552723,2.3177631150723874,-1.61843008243598,1.731412728449566,1.2211143996044032,0.8913434251086325,-1.1199162114037735,0.6298491458452997,-1.8865762778503596,-0.5920577758271853,-0.4015243963846122,-0.631007893357092,1.0210440421536187,0.7093521755373801,0.9812770838847744,0.7957455572090315,0.051057508954822625,0.47701977141015534,0.11808508443769569,0.6778096132540813,0.27383748515926426,-0.38082192347478266,3.645930129502064,-0.13654489052391425,-0.07284764624567201,0.43834638761324907,-0.6854635714185368,0.4337984605179328,-1.2452960718813157,0.3870480075145461,0.6139576039553925,2.2659576750885497,-0.16385075830061843,0.5836923643499999,0.7266654476539277,-0.8113997886442273,-0.7704577076100821,2.3675751624628996,0.6102488830316514,-0.35845308447304125,0.4032490486762627,-1.0443637214098802,-0.5784037493975687,0.18665986155467335,1.3191727493302912,-0.4005837536463645,1.2523189971338191,0.11965202908657518,-0.5407838251961521,2.205584203059967,-1.3254992958817067,1.2018088968238125,1.4668449425588606,0.5634541703300954,0.5620071234563561,-0.8403720843021587,0.203755682329742,-0.5483430765722971,0.6608878641866109,0.6317700673899962,0.7286029972388267,-0.7471784659275111,-2.3299024338117706,-0.29606201601603777,-0.9316190090591522,0.1713646106141802,-0.08593360623941543,-0.5100665131486141,-1.4570678032903595,-0.2069022445543337,-0.5016274870966065,-0.13443923973263056,0.3846287170735605,-1.3231579980522488,-1.4873592232420478,-1.1371269654753362,-0.15445094953143554,0.2527592049827771,0.32906812838771743,-1.02130438491698,-0.5536585035572348,0.4975542138621591,-1.1768550295551674,-1.2471245206032529,0.278331254499594,0.16865454435642938,0.41735569570555564,0.44770686566106327,1.3497112127609505,-0.8091900228220494,0.657290795637467,1.2044053650935902,-2.008017075682989,-1.8818237890551313,-0.5948701347821351,0.3625510632826287,0.33886001754361944,1.3634196847104694,2.550606204840357,1.9581107364875783,-0.6632074170551765,-0.06825133988864815,0.27201588226378953,-0.09276022559136778,0.08217863685212329,-1.392823386971541,0.1488855336714514,-1.308549247083607,-1.3695985893231355,-1.754273332080257,-2.632335618296278,-1.0663213808276557,-1.6766310018176493,-0.713681494893409,0.30569187955986016,-0.674538624583844,0.379175984567858,-0.9801065840324793,0.7159018632159739,1.1428837569888675,2.661278028913295,-0.8724587665192206,-0.08871299400204218,0.9647177228681293,2.518841704213469,-0.04011798405941823,-0.16647348266792183,1.054809322515274,1.3566726896245176],\"y\":[-1.6898113469404095,-0.16881465672446772,-0.5313285939574584,1.4607437199540787,-0.4713661150786294,-0.7911286433863607,1.2746215548714388,0.5107203243045383,0.20023508673462428,0.379886397349694,-1.7239549151434086,0.0010952152817737515,0.2985860745538207,-2.424461019096493,-0.23563708369468991,0.24137825510686853,-0.31887085093078654,0.9952011346290213,-0.7157564292506026,0.05917999566600159,0.013857239018990896,-2.0613644475292427,-0.4301665338295219,-0.05497792639418662,1.4380945334532371,0.38458263219762256,-0.11331269261388822,-0.2600613602944977,0.9207935182506616,1.1351572863630848,0.6335954316313163,-1.1757034116306604,0.5115848674531508,-0.4034340159796634,-1.549400594841042,-0.2211252663631052,-0.8108888494749177,-0.1566806260232311,-0.09627595693923127,0.10139257412105318,-0.028060120461590374,0.8140727705434281,0.2662925103899955,1.355377729990865,-1.3878619452689493,-0.9483670312526525,0.8446472161166514,-1.195467238745782,0.536759695374409,-1.3498992879482536,-0.2416147138410577,1.1263221096174763,0.19316231005726753,-1.2952090909452991,-0.7210332483182124,-1.1551608675964888,-0.41679399927587024,-0.08775678438471131,-0.736808260123109,0.5190946281922403,-1.98308224376063,1.414447131928929,1.3210240059995653,-0.6528081660098749,0.681712227857926,-0.8502064980097043,0.8337481200192366,-0.8086943249054488,2.0164979383449273,0.06912603053479847,0.30702715218674687,1.2226979207721438,-1.22081940950965,0.7149447854629367,1.8957659390897255,-2.3384984554042387,1.0957245554240007,0.14635118544048628,0.5260918594226385,-0.126602080184772,-1.5011291641446938,-0.998197112270433,-0.179102415836884,0.7038592302434293,-1.5169547364785576,0.328622168069624,0.30551400515511784,0.8264664227200574,-0.8684193588489766,-0.44727488704999374,1.0592108353504617,0.9540024863068968,-0.4408500104538747,-0.22313419567635664,-1.0404272011858189,-0.0434716136837869,-1.6202956949136023,-0.9395049896696398,-0.3279913050271425,-0.29633442148823463,-0.08906927901845868,0.8196767219655686,-0.25749047315143525,-0.05856592312072534,0.9844528204841522,-0.778116652367339,-2.299978446759496,0.3619943275086986,-1.0000209629415893,-0.9351840478173242,-1.0070122493113411,-1.3050034269943485,0.6335298456944797,-0.4579594801962101,-0.16181473334978763,1.568930602325808,0.40325357797211897,0.28219998839996596,-0.7718666849275158,-1.2823657150629908,0.9657254433280144,0.43442730413211844,1.235083423456109,-1.1605591044588208,1.2511176027207178,-0.71435857349343,-1.4692518620865893,-0.9599744491612517,0.7255104599642379,-0.9762872941938525,-0.04739278494430694,0.43946517608637575,-1.458820838008416,-0.4316377009629152,-1.5050718857621959,0.3930357233747296,0.7116258466891271,-0.19983535604274044,0.022266757731099387,0.055885135952295516,0.3052994513589835,-0.43578560480302414,1.2325266536362471,-0.4417364286510441,0.04069546976233585,0.27804421783560557,-0.8925274114162358,0.24294177908208558,0.8255276539238801,0.36578574934399405,1.1675585621358906,0.20628655343162222,0.3376320812234041,-1.992798352519728,0.974021695137915,-0.7286167401453008,0.9573139958635565,1.6635714840749534,-1.0788446240809026,-0.08704478956251065,-0.16384326301949645,1.1359113918163113,-0.27900297231366233,-0.6947922286659716,-0.5071056596083167,0.24398554616201262,2.032140280997366,1.2374529071710907,1.02859547938084,1.4326333955925772,0.10555460725562153,-0.2638767969861241,-0.33921617521680664,0.4439665186307287,1.4362987741959496,-1.822647410063486,0.30916823835529683,-0.03961916195793955,2.4406224087025126,2.1504311159905862,0.8365814784185626,0.459065627421979,0.35191388385300715,-0.10360776720766206,-1.0028736432460081,-1.2379504074351628,-1.0200382558213474,-1.5209205580137959,-0.25905047820086846,-0.9791165588426395,-0.8193165836712009,0.4512232126020393,-1.107088074696522,-0.07157177455672127,0.12999739576808805,0.34584660466420547,1.7483989802012543,0.4497413703182265,-2.163651892319219,0.10638153383950855,1.4574767350463818,0.30547819148546623,-2.258070874960203,-0.6788196976095278,-0.6134665215929797,-0.7085738262330166,0.31096982801743744,0.17957640359276095,-2.9615570006677037,0.3286570786499425,1.1807904008802743,0.7263576719703824,-1.0396162755929004,0.1496082586020834,-1.5617800453296518,-0.9670135830759898,-2.7401424042155575,-0.18300150057833264,2.3003922030851203,-0.22511977921511783,-1.7783156795777346,-0.3347136812365261,0.2905751045186563,-0.8924480511582449,1.3473414535781747,0.03229009475546663,0.3956516499238913,2.352449906027667,-0.12398992687187035,1.0681744758704448,-0.758085142981045,1.8673871520132124,-0.599631696827022,-2.907113229618981,1.2595755367453711,-0.5634956812040572,-0.10458339447537,-1.349057726041964,1.312454158673379,2.26086930633914,-1.6711272350714799,-0.4709165627419969,0.4550966987825248,-0.4022250020338667,0.24699853036157907,0.7526773553246425,-0.8693567466240635,-0.25276588412579926,-0.06518656113350427,0.434616428887271,-1.0814412107741562,0.657549192457042,1.357916137776924,-0.38455951745459566,0.23486911194151866,1.268920468949413,-1.6007435240669852,0.8369596510291107,-0.25354846087311167,-0.22366822768922304,0.4505406239198191,-1.0764615742811716,-1.5116160592757537,0.45257729352190257,0.2634909910521974,1.7624511201274116,-0.6148749821910768,-0.8401666643164978,-0.6375310730097205,1.0317296522705013,-0.2529754670368928,0.43814956690265033,-0.10520705368307896,1.311600396870523,0.2504366432716069,-0.3169669887088941,0.24731481343154224,0.27472330476500334,1.107734007670374,-0.2192866551455752,1.1080424667662119,1.002955546440864,-1.0640071188315303,0.7500540577061575,0.07317626576566169,-0.2683680953522057,0.9012236826877624,-1.8048682281002606,0.4351223857420717,-0.04903400223837012,-0.6373744676411202,0.25168617943561616,0.403239299754179,-1.1755279926737332,0.854627375891503,-1.197890922009743,-1.1876819498126803,-0.06413485817547668,-0.31973393556609336,1.5742767612250697,0.7419607983537521,-1.0990791491603096,-1.0655313724573892,-0.42637728050668233,1.7012759830536826,-0.07645309253221913,0.16687241875950096,0.21898524350644089,-2.0861256913038053,-0.40624681619104935,-0.11256541299215872,-1.401941309580566,0.039499328287851576,-0.10491849141661014,-0.2280609568369132,-0.5834080737815053,-2.0762657062182903,0.9350048229485642,-0.0013669999570168922,0.40676117768333336,1.547535997168714,-0.3981304534218566,0.8924420699718137,-0.6109340879298,-0.8759223396213524,-1.0745781989807304,1.8223028309693985,2.0745928619665506,-0.3213688550876999,-1.5561429945198135,-0.47763034255333897,-0.867071869472971,0.10200244129441645,0.8944419089463066,-0.0764693110862535,1.3074539584093345,0.46224913428275394,0.16861650552780502,-0.06572496115406569,0.30912302448807005,0.6707920795653814,0.6201792696982332,0.6598206919945008,-2.3088760866187354,0.5215218991497698,0.5831203145547487,0.8782746039539139,-1.6516417701478676,1.4935249150537235,0.17754194800023756,-0.1721752035552698,0.08451312271687611,-0.4977553930213586,-0.603341504568881,-0.8598131425766921,-0.7994037543870565,-0.4857050952803687,-0.5756101305854934,-2.096721798532584,-0.08382548138762189,-1.7395402028212223,0.3276547807476214,1.164270049332343,-1.7079502346454731,0.15015585999162465,-0.6748196112538488,-1.4191322741187318,0.3151035799690157,-0.6614137447954752,0.531398852013666,-0.09676577886902649,-0.5779387080903673,-0.6902582598937138,0.06140956708128623,-1.4148121086242642,0.7961913900451102,1.3644788597112556,-0.0421807465027994,-0.0014271702556687468,-0.6107192408612462,2.0798032114604075,-0.16224142278401393,1.838186842093297,-2.3498351694476054,-0.03851429165586679,1.060159552288026,-1.002433227722207,1.1964833099319367,-0.2099059114510543,-1.4426566266710261,1.6995200367183434,-0.3567991590486749,-0.6355819148517762,-1.9378940564526093,0.2851862109190589,-0.2920865639484891,0.8107126262726936,-0.4516835205365405,-1.1209871730903838,-0.17862477982454023,1.3488134700745293,1.267215320001578,0.17152958651206746,-0.22288609402699697,-1.2361931122232153,-0.5944585932729205,-0.5261519211062344,0.1309139712128216,-0.07360357809256779,0.48633001141271026,-1.3166077038934891,0.7487756868644537,0.9742763468474342,0.12416479615553437,-1.1310363850699434,1.129233182741617,0.6208245647012047,0.8981373846961831,-0.655400277975507,0.02172810661402673,-0.7665509826328111,0.04955013627413614,0.6720398722182072,-0.6379019141077357,1.0908325592831598,-0.024014392368033443,-0.09996618750958193,-0.15928148552359342,-0.8721449345489078,0.18823926113151046,-2.6025750108684678,0.5768967470924569,-1.0181440484509394,0.9893665671722273,-1.6550681979730537,0.7373285522819263,0.5428236441345292,-1.0909667937424927,1.0867588103983632,-2.38970545271747,-1.0238813825902031,0.08708321988170245,0.68391938890996,-0.5893701036573308,-1.3410728687284021,0.7650023168645532,0.46441904215312013,0.22843771010041433,-0.7006752627364131,-1.3913619851268737,-0.04272137758569773,0.04623180103547413,-0.5750080906701183,1.1673658436637537,-1.235507202049562,1.0357164473512184,-0.6813634469413884,1.707009479112915,1.469109742136358,-0.9225961059497375,-0.12688337240891856,-0.08933847873018796,-0.7459068799146792,1.2964511068893325,0.36226730354916487,-0.237586464976685,-0.021766115724392847,0.7190000637985563,-0.3440761878603786,-0.6264817567272121,0.825748794605883,0.9917534583470005,0.35871122963785423,-0.7052794818280138,-0.4219492803229862,0.07848648314123124,-0.5777959711371942,0.38079362599511357,1.1171120762074698,1.6440422820359275,0.35113949781216913,1.9296434318568492,-1.7534270892876895,-1.853972768528835,-0.7685376063451872,-1.3966442306889926,0.4883636531940932,0.5826788114178355,-0.290890425407327,0.6062627135512629,1.1566041360281256,0.5030739969285731,-1.9687183421702803,-1.0793984074100933,0.9034357317916791,1.4517871701608511,0.2333173342570672,0.06061024955078463,-1.6171606582912863,-0.23285559378956733,2.0565813374725734,1.0041164681762669,1.0224969818520253,0.17920565818591835,-0.9859545616307993,-0.441002981339854,0.20946137809833348,0.36649114582365555,-1.4710097287133528,-0.07419782626346032,0.5235528827557879,-0.2219767371148214,-0.13727641478111074,-1.9674041535195295,-1.8085704189763763,-0.7767064049899957,-0.14764166512282043,-0.7618864663640105,0.15474915135159972,0.9127197116097167,-1.5984119484247634,0.35403379717078476,1.2214519332439684,1.5325857978430346,0.49566922201581043,0.8359532306042805,0.8119538930612347,0.04840164009563515,-0.7937064029443494,-0.07858349883575545,-2.237296053982906,0.06145971073675641,0.3679817276319896,-0.36643101815627355,-0.6261644839861393,-0.07084385865223426,0.31559315343655514,1.1093727076065845,-1.674564767794484,-0.49587327417392746,-0.5660193733708718,-0.61322913470711,0.030144679461774557,3.3527208300520948,-0.5511132089388459,1.2231496517537592,-0.6569758422741954,0.004507936888810995,0.8886767712139605,-1.3552648747211629,-0.473870322827233,-0.38718073006307363,0.5130839196543344,-0.26860610470500257,0.3257064512732706,0.2395613075535772,-0.286512306813873,-0.12951317523846986,-1.2904927033111167,1.2919533935578345,0.32876734335991736,0.05538466452190768,-0.11721005130035976,1.6777944314302062,-0.9906047894847343,-0.3415163580684398,-0.6479169088295526,0.840074783094237,-0.6470211233812938,0.7367049026082004,-0.3679637229644632,0.5937161094717577,0.49901537746727526,-0.306475200182931,-0.4441573651744846,-1.6426976998451612,0.3440146248285373,-1.1251977600880774,-0.5434925410773901,-1.151277935533833,-0.3589747355934279,1.4286576315208088,-0.25237687258352215,-1.342608790734198,0.8388078884274629,1.0066830882942777,0.5406434721442155,-1.404343442362167,-2.071470373802207,0.5859061768827344,-0.8901297554668687,0.8757279660951565,0.5555428552334571,-0.13817995722569665,0.9772165202896991,0.4650076228044998,-1.6939829132434314,0.2484083762715898,-0.4432558670331778,0.3928804892174802,-0.9571348541034946,0.7762965968685424,-1.9337299878161263,-0.17813757557089907,-1.5653330082199275,2.1191199841818293,0.06364527398831311,0.32312371896553566,2.5350064897136177,1.7242539794612006,0.3183931317615609,0.13849171894248344,-0.43477198604840506,0.30220520632981485,-0.21796038850431507,0.7599388732428535,-1.5416513693902092,-1.7294773267802495,0.8516093524894657,0.8417678620557039,0.2732149461623125,1.8899379048647502,-1.5963107430254249,-0.1348429992281925,0.9796863651542758,0.7298876684759492,-0.1043048927385892,-1.4928993118265543,1.6236757321000197,-0.590298317606073,0.006451832287869525,-0.42403921684611195,-1.3020507591591193,-1.3110909071878993,0.3770151902402528,-0.7283433609021092,-0.6820093089182298,-0.4640938328599075,-0.5613381224420024,-0.07322656251612698,-0.09885058065967253,-0.3709017830627329,-0.7301356977509641,-1.2422502068876917,0.17863478285558054,-0.19920012496969183,-1.453570396567544,-0.4346311329114419,-1.1454058115847408,-0.04390145641873267,0.3261916469018785,0.9574497985585216,2.0346226939986702,-0.13779448718551526,-0.35231994268607725,-0.7182985528516187,-0.5309976920249249,0.1291876096593198,1.634702281633763,-0.8267135818936736,-0.06945393898663117,0.4982735168908352,-0.4427809518545866,0.35100047490744085,-0.039859377923545304,0.2137347341260174,0.6982588917910248,-1.2499690043217326,-0.5143776117396547,-0.05344808455501038,-1.761760468803619,1.2272085238804842,-1.7148901472144469,-1.8632604585504509,-0.7147627920829837,0.3148113522519364,-0.40785752748787235,0.003915658721285632,0.5888810944633596,0.3449039364451027,-0.13439554056292813,-1.2631266145419864,0.38481185117182976,1.299845266342237,0.23940881067412742,0.30784897928439825,-1.1189029746129493,0.6961527550480455,-0.7353174109845771,0.4006209319448915,-0.17941207230125797,-0.2714633313000205,0.6270051586022647,2.4339462843544757,1.7486224981557168,-0.4474273168135279,0.8678268778750227,-1.6429712967757168,1.72982274986671,0.44139277798295906,0.4119304063962274,-0.31068278027635876,-1.6315465852658888,-1.2582373492399437,0.040078917895278426,0.005276400028855275,-0.7168502654217783,2.8680340082567573,-0.340903072861043,0.19488657895230388,0.9672699445782175,-1.4293436435706288,0.46211888681806984,0.31242383881452057,-1.1581566589534134,-2.605923714478705,0.765011709555373,-0.434995042419392,1.376440626193031,0.6099616838476903,-0.9234578532449724,1.1005546195240044,-1.0377320807683805,2.5963966983997837,2.165181294765474,0.8753889773445329,0.9015004637385865,0.6950971801073912,-0.4897565263697802,2.08587235943703,-0.038631892090224565,0.17881993918319888,1.221990917891798,-0.4801827949959919,0.8532027908214339,-0.12448461869471972,0.8344690038433082,-0.29778593672565845,-0.3924952938541299,-1.262027157144141,0.5878703285105742,0.3390507351293752,-1.8683547889515135,-2.0784121428239977,1.090837204957109,-0.1922320325351593,0.6569617222317896,1.5306343290258688,-0.2908899640896418,0.030001110427950655,0.522159997325131,-0.30340835433650815,2.1626972957530706,-1.8294378391521928,-0.8662400055515085,1.101334681404463,0.8051399322795123,0.5660592463382424,-1.169027984098068,-1.4491885126366495,-0.7681904301515621,0.4235918981615019,-0.0640837824967604,-0.2601287460283941,-0.28027866063730345,1.2926699288576822,-1.010744860928724,-1.648818793907188,0.718646410374603,1.230885663278455,2.358784544390505,-1.1500073239249962,-0.6590377902733098,1.911354617163637,0.8437211788262017,0.04778772802160177,-0.5792364366126185,-0.2683384297800291,-0.5935003944467765,-0.3015201596266947,-0.7208754210790133,0.5337942304760792,-0.09438298562529401,-0.46699905410325826,-0.48651353237321915,0.43294371916017416,-1.6216936508572501,0.20056240722059915,-0.18507944541450264,1.4269987356098603,-0.4923484561363783,-0.14298154840119515,-0.7305967943838891,0.9372316365017731,-1.5281607203747551,0.3765634596197288,-0.21014084708900135,-0.9164484073620116,0.3721144629009686,-1.017872344627778,-0.157942488848084,-1.8310792508365434,-0.2866233656657293,-0.6204671462491924,1.7619125006690253,-0.45600210326559015,0.91758572051921,-1.6592577424860935,-0.7767328107983957,0.4333493041662402,-0.9659928474416859,-0.15002298656123347,0.450945230848282,1.361035998953408,-0.6330910735972013,0.7165722139875619,-0.28291339733674753,0.7038880628057234,1.62568609966462,-0.4157423245961825,0.5595906768656422,0.24486276681192268,-2.5726795294039686,0.20819329050426538,2.065950651878514,0.5040107705438157,-0.6371846684875937,1.4828785660375166,0.06286686621210888,-1.1763758618240663,2.906983756356452,0.9559750384604767,-0.07242011693796889,0.5068319701171704,-0.6985930272693031,-1.4208195216484798,2.2330598849590375,0.400905394287391,1.366278547772859,1.0876109879401012,-0.5467954049341209,-0.005189381207791708,-3.019569889317402,0.38287670536459556,-0.16308764978719212,0.43403198182695785,0.9684317320175662,-1.4464102136971067,-0.2738934131149266,0.3253130640066254,0.7125447156360886,-0.037943306328758676,0.577035438090814,-1.4321979779338714,-0.41510925887951317,0.5172268719902466,-0.4289502019591052,0.4324574379369569,0.49573110708803747,0.14973691620603316,-1.5519637915750997,0.6837528995036344,1.6597881220024608,1.147718909601724,-0.7013960316542261,-0.9551771664117477,0.5554782016100419,-2.1204073224570497,1.3191139248666122,-0.21128148697818339,-0.38858651693635743,-0.7290399405334957,1.1260784730745614,-0.6384051704745268,1.3681419264739914,0.3993867043247452,-0.7668529066073423,0.8642294996065494,0.4048549111949302,0.5555343994580665,2.0595844768893428,0.21805034007949833,-0.76000677698376,0.052011880539309066,-1.2304707224020812,0.6993641554845134,1.8283924157524618,0.7569614030610166,0.6209664977904591,-0.835294227851759,0.6404309050024704,-0.8962436592656605,-0.43137928622615673,-0.49310635622246446,-1.036201700336281,-0.5025582077573674,-1.5894635783267534,-0.03923887624783143,0.20393285750459178,-1.0387801025226862,-0.7984743264720614,-1.2330097534077653,-1.1511984293261723,0.2318512570898806,-0.18300673475751306,-1.3500426601733793,0.16363176708258617,-0.545139257218303,0.5407601917927088,-0.9514370830970788,0.4907829166309978,-1.2520418163842353,0.062344988104292356,-2.2701109039819243,1.3267380182335993,1.3501767161195508,0.047272062269862046,0.10229321442181326,1.3521718975255437,-1.4264462139419876,-0.22180616268166325,-0.4336385582654077,1.4147803161675776,-0.6708398465887682,1.3640642474838869,-1.4678097385325604,-0.15457479686417794,-1.0634552965058024,-0.890706411572948,0.4463299772859204,-0.4810319456222112,-0.7843660058336245,-2.860355133029364,0.051708032554699385,0.439174399405324,0.5116660060583738,0.8727459708119977,-0.2044445524608388,1.8571097841086146,-0.14984357185839525,1.0802640985300032,0.47388536540382464,1.5673452573963826,0.8033203488829788,-1.1283492080127473,-0.4375862465682653,0.5175197042403371,0.301809747370281,0.07223725740003765,-0.40301378595881837,-0.03955854065317071,0.8304290928213676,-0.7684092820930633,-1.2408821035605744,-0.4569092635579217,1.2166707071670197,0.5531354289088398,-0.162695453403328,0.4153980173803436,0.7125307715849215,-0.7678998930444865,0.8699957631781094,0.6348803063648757,-1.5940853988140258,-1.780048375366793,1.5625425151130048,-0.052241171316278326,-1.4153912626561136,0.015551847640117824,-0.39342685989473236,-1.220383357194591,0.982227092738842,0.2188185635069636,-1.0697487351035304,-1.4596930167491609,-0.006504565044973218,0.9894921221258219,-0.8016680342192926,-0.7269526355850005,-1.3976269047828287,-0.10730321475687991,-0.6138720148047424,0.6620423749140133,0.03801449668648746,1.103105472003596,0.2363125258251256,0.8314962619180558,-0.7432793117717432,-0.7280978892095613,-0.8734416335442874,0.5413939344483207,1.5181137109593663,0.27905913544947236,1.124611458801765,-1.7195036090012652,-1.416751461072647,-0.38603156913404496,-1.6428894956846707,0.7207899451657857,1.0439992991554845,-0.7541964216262442,1.0174908855022538,-0.7691673051495215,0.19671544180083997,0.8373534272350123,-0.021938653667550465,-1.3805885359362602,0.06800472639747313,0.35558144282698156,2.836926437633557,0.938594532840863,-0.4331055312623088,2.2888158104269323,1.1310862588358823,0.4449671463763975,0.7594636554097368,-2.5233045663881972,1.1853718806878808,2.064489042369997,-0.7881848032900761,0.5428554144400546,-0.5985882037623755,-1.7829647868607406,0.09319520193887769,0.24714613012773845,-0.6781012487694281,-0.5630784062608323,-0.9635852251713238,2.2661582569718974,0.8607890992111221,1.2356831425739851,-0.6436613213732734,0.5904097855260432,0.26047097964922244,1.3395881249027826,0.4525358533211642,-0.3504706823855375,-0.012864736216227229,-1.5861628016388882,-0.8645858810936965,-1.1934947666918685,-0.1203056375225818,-1.6821766667462719,-1.748770882060227,0.29979249841196637,0.23473581442224248,0.04439924114605481,0.752545360118074,0.492635854375069,-0.36762944255234997,-0.7630593843481134,-2.044243423166092,0.5819363293316402,-2.077619017820411,0.36001725103904675,1.3347578605795531,0.16645323958324953,0.14584698755586542,-0.140273331190539,-0.7281243955071441,-1.1306832508626912,-0.2881078774732759,-0.11520743265472191,-0.787571540260531,1.756152345737606,-0.979657635549168,0.8656672140876633,0.8564651527160423,-0.527352422981865,0.37146364281655053,1.2293013628997536,-0.6961876415075776,-1.8527682391389704,-1.0004829401421615,-2.861816942956894,-0.2342794086158296,1.038052499339507,2.286325085177027,0.1027595721259646,1.7244361290992323,-0.39032288625360445,1.7869592885558228,-0.6316362730654964,1.6284353989377367,-0.6509591936430089,-1.2058085159050778,0.4979112042828771,1.1658939101263635,0.04307463912625472,-2.3690922996122197,2.194426494004581,0.30914825903077825,-0.8594639083183071,-0.5300167529948309,-0.6973343997668883,1.8495779014943106,-0.44741425370623994,0.15912466083798432,-3.072458393386145,-0.08923462260250131,0.4291267142193947,0.20270207559182837,-0.012506818208662389,-0.4082241602062662,1.1276380449527144,0.9222423026297792,-0.766616713413728,1.5143028428249217,0.7497397328989113,-0.7091811605347818,0.0779115005728598,0.11900784136940284,-0.6861901380967543,1.545773257363131,-2.2487123183029083,0.7754251047230678,0.5132806431590262,-0.8662358035992983,-0.32420484798494015,-0.0028220113715669167,0.11271049466923622,-0.17096710379223806,0.7478857770896697,0.5545769657825366,0.08148286789194668,-0.5753475975218908,-1.7909952899636952,-0.3291512728756515,0.6835014791918174,0.8503304270214267,-1.6592383818682548,-0.8268721111360282,-0.1681566800137774,0.9552411768909453,-0.6870610612899217,-0.06055905031826336,-1.0697426588387082,0.0337478369397185,0.08529014832462953,0.7327872388719474,1.0980818929738791,-0.1390468244080595,-2.03081830090057,-0.21799741348433535,-1.492234286908668,-0.19882288424220496,-1.5115908348476794,0.6070437309891674,-0.09262269844725059,-0.11601050142471038,-1.1440402681319288,-0.590539181555647,0.11145025892712314,2.1457798057220265,-2.1023636109129793,0.35074560930426757,-0.4727496906202792,-0.9853363567701182,-0.11043554836229205,0.8132256920839067,-1.154573813689904,-0.6818008953393573,-0.2656531410008261,1.672236640395519,0.11085319439252916,0.3985889226121078,1.3532308429448745,0.8085951084128988,0.034426676506481575,-1.0871503008647723,0.8324882006214172,-0.4160385955739045,2.3542591564558406,-0.33516635382694865,0.07153240038539706,-0.4243662202189162,0.3962155786981168,-1.1135556943671905,0.5345758548791043,1.0319879826724165,-0.6354078974919961,-0.7154532076464255,1.3636520054224368,0.9818307179711074,0.88441332601989,-0.06695541192561758,-1.2815650930941802,0.0999029911786524,-0.164689961300814,-1.2800145033033017,-0.8058957345755863,0.3259938668393313,-0.6403647349897277,0.0436543104891504,1.333455937182655,0.21850903436457667,1.1424675198264929,-1.1031130128743252,0.21600154971373142,0.6375227696936414,0.12128155485442015,0.39659831273677126,-0.2646304839729117,1.1139704359004936,0.02819752327775466,1.860397214954891,-0.43760306938597,0.4011671068514036,-0.7569626202930203,-1.0530792708437893,1.1359571899709187,-0.5838512383190967,0.6681537446290532,-0.05556770624933454,0.13562457371320966,-0.9812552203774975,-0.5941683935311641,1.042323520671225,-1.4731948263156305,-0.0717824740001726,1.3883044214435678,0.06154692310976991,1.885179897099118,0.02841736402721284,1.0383128889805078,-0.54409685300966,-1.3846227660881116,-0.9597720269561204,0.30084948346808627,-1.267318138245993,1.2347461639768378,0.4038226652887698,-0.551296003663256,0.40684915458697923,1.6313605453232631,-1.1977664928709972,-0.7526439746594628,1.1909268294874888,0.2203519258837942,-0.3067169885025346,0.007741519854506964,-0.11823798661050293,-0.9183760684375036,-1.442601094283194,0.7500705153215955,-0.11531198710066996,-1.5496368953941,-0.6608003780418655,0.025708350892551097,-0.4058721212610445,-0.8331876672985801,2.0338684282301784,-1.308147562102084,-0.23337319738887896,-1.1621348931738777,0.8863564575626228,-1.0655982066616012,-1.843643427789594,-2.0898473221271234,-1.0672198902955925,-0.34784860316391475,-2.006166833070457,0.3014767464572511,-1.598420306650106,-2.461460196411468,0.937058312434416,0.9594030755511463,-0.02816137878688693,2.3587246957083834,-0.17031691269436933,1.0416328682712026,-2.0049449992205886,0.031578049130509336,0.6000919580000366,-3.329694478003317,0.012368642901541983,4.074073781099679,0.6320091726303426,0.23300291913814988,0.8262547053582098,-1.2754626045627384,-0.7238826545118684,0.08940466225230066,-0.48618643363011854,-1.7868040559442426,0.025912581029319322,1.4401739922132617,-0.6186120575136914,-0.25795935610213955,0.7518970835045885,0.2616824715385266,-0.5364251560626085,1.9154069809854588,0.26941534188207367,0.37557155644377394,-1.2017700027041853,0.7295337083092464,-1.745825497415158,1.4710322958085962,-0.5624062533880552,0.9442321104361406,-0.04221838976484356,1.6223384299678547,-1.6135321556294528,-1.6319655047819124,-0.20845424073943994,-2.4566811147265897,-1.3487948304966908,2.1385276063065346,0.18245084049303,1.2575203779719006,-0.718949472928128,-0.8319743609071947,-0.23834356883053534,-0.742789930268778,-0.3092893501319988,-0.31576040556260127,0.2708627927179818,-0.4279611002621605,-1.2171378428721455,0.9500048922164106,-0.6575941079770271,-0.18309120177666047,-0.298142728445895,-2.086842453907623,1.182460885909041,-0.8510168919147786,-0.05359848864443368,2.018334069854814,1.9181391907085288,1.291815487881997,0.09160317764547143,0.11454602044332937,1.0615492648929497,0.6368078208652276,-0.22508470544834777,-1.5913453551394536,-0.5271197487167828,-0.1741634174969997,0.34543521576132247,-0.01028960829059204,0.0858502183207897,1.0575899299510334,0.37694569295176955,0.8494742334841504,-0.12448154262916905,-0.8204175623625289,-0.03406514487193717,-0.8087517355762948,0.19906632770347493,0.3948033325987362,-0.7932809776401083,-0.3464932593058457,0.6274387731918168,1.8802147843202517,-0.973706089873051,-1.8515085587286886,1.0305538795135822,0.14640178833917555,-0.24334463435421774,0.33586619703005244,-1.6577176262671265,-0.8081564878750191,-1.0005730312252248,0.6792164882498519,-0.5814399436984405,0.3182511701443037,1.5650687991258376,-0.21558941185802094,-0.15951658823454226,-0.5210088956183893,-0.9804167704580625,-1.251703329518387,-0.7942062330203936,-0.10866100623291952,-0.010954274031887017,-1.233942056236604,-0.9813029329609286,2.2804190963925315,0.4831091129240337,-0.25904152392370633,2.4572980676412013,-0.6304692386952457,0.11317588368768486,1.7491869485206841,-0.7878810856083784,0.25523971269963397,-0.6017210084586084,-1.5459427515407134,1.1562183366968708,0.8463016644620911,-1.1369888265975767,-1.1842978470009187,-0.5252024558092254,-0.018516713934048315,1.8598617435936278,2.0672393127205257,-0.537682132871106,1.0354053117770843,-1.6503415527183252,-0.29417629753840024,-1.747141561392283,-0.29841094152734393,-0.8283501840572847,0.38440298910629056,0.6404512236307518,-0.6164017747238223,-0.1461799168990417,1.6660735917630354,-0.16250067653003245,1.2070301927316527,-0.48765560699186183,1.070498121330727,0.9575810763138013,-0.14769630155609592,-1.0125457171827597,1.43396996410687,0.53916576951761,0.8538775206648517,-0.71755078429454,0.058993742461692054,-0.5300915657259905,-0.4412940385671828,-0.3792259530353594,-0.10664184066112627,1.4298395287476837,1.1767896067017263,1.1197214812678833,-0.0445966456999068,-0.3099428476185407,-0.9153872757455691,0.9637355110559548,-1.9546087844086064,1.3783803643857764,1.4005763950190997,0.3118974212082868,-0.6580204872705183,-0.6346503519369636,-1.2365013868410235,1.9883919179877665,1.8091445963210693,-1.12799899418124,-0.9406932821443573,-1.522469289944858,0.0012169744270634165,-0.9345824273614606,-0.6171097264646226,0.9032917343797763,0.46096829523162663,-0.7730060218575919,-0.050630609827657214,2.2236463181899335,-1.584632091747363,-0.39127687763114843,0.3616518873315901,-0.5767583606485756,1.3727900962825788,-0.004845727557278556,-0.03458729649176723,0.7972184838468547,-0.8530747147174006,0.7156914159946939,-0.13182808063709064,-0.3454914963700004,2.5684308963320834,0.25724767081404964,0.7457913759857099,-0.4937925068526037,0.678680844170161,0.6050711052085974,0.660557386500223,-0.0985674432273635,1.0059728632295286,-0.13658921690472312,0.056729082446251335,1.1547148346655607,0.9782429527388468,-0.04487825660921949,-1.3669548442337307,-0.5797509464414591,-0.10057403261248776,-1.2978457166139845,-0.6359578569704037,-1.0595974370558485,0.4316870320196631,-1.5306091217100846,-1.037476238166957,-1.0076326731493654,0.2524417106865295,-1.7519233614334762,0.33117707090996806,0.2542998721638189,-0.3703662395620884,0.7739293166956656,0.47397816419234495,-0.5575941775243497,1.0387087485872235,-0.9832797491289027,0.6359028679372003,0.2525484751298719,0.01929674851125689,-1.0256755741967931,-0.2788851181437143,1.6939563190060507,0.9745080731898835,-2.096384765382832,0.726115830398191,0.0302477828953741,-1.0202704251362829,0.6124103890676392,-1.3138644804452881,-0.03746328832289545,-0.24225758861263866,-1.0020007507133453,0.010543610340881832,0.871475954409628,0.3535222788662992,1.8766429533471114,-0.699427307625426,1.6461339529423793,-0.45801966775859915,-0.5379360696600323,0.5405264198849459,0.16411271902772154,-0.456118073631097,2.0915378654914707,-1.3650363795208957,1.0744455221484008,-0.6963474784456587,-0.025266261817505558,0.36542930725663436,-0.47053873424139053,-1.2116976733680482,0.3349637703304576,0.22646487563032372,-0.3509989826586073,-0.9319698616562386,-0.4011610876422261,0.31187203275172637,-0.8358803228331737,0.7361192128742615,-1.1985476637112884,-0.728993538546184,-0.4987794301501509,0.11029765385569552,-0.005659899371028455,-2.019013860482582,1.1055191402095255,-3.2300156270428766,0.9124015218418192,-0.01877701980625458,0.14532453228737502,-2.1370819460001864,-0.31148120510392113,-0.269124813475386,1.6257607134299028,-0.5704958951723695,0.21272209555671545,-0.7963478248913385,-0.30153041014813287,-1.50323162402047,-0.9296598461599278,-1.586761901963535,0.391236851740381,-1.3201906466892093,-2.2944815545354347,0.7679949997150718,1.6554950631522947,1.193308588312987,1.1280915975391403,-0.2200295091516921,0.7281858817443023,-0.9207882211849878,-1.8463642344298208,1.0714012515126943,0.9595475137815187,0.6572079258387075,-0.2060818948491994,-1.8816853812502599,0.9428808330674467,-1.5195957576598758,-0.7424622446021123,0.5602749679920774,-0.8717695577100185,1.0405484416479562,-0.46536442730606975,-1.7630022725705765,0.3006039047265265,0.585956766468083,-2.556042956654415,0.26969713724659455,0.9484692371672475,0.9637216216570684,-0.7030303602962757,0.18181749441244843,0.4478829764223249,0.4198630181995944,-0.13727141414447233,-0.16390236847419543,-1.007835682509688,-0.35445711951402836,-1.2180229820011204,0.4990860334445958,1.6901165378769545,0.4352820440395323,0.8873404899061053,0.45567111863389115,1.255634479447898,-1.4664075985938716,0.3519679831297005,0.32228952021846596,-1.249462669186518,0.3887499728824951,2.899276869744111,-0.7822590784147695,0.1991448926261738,1.8606731088814168,2.212606094892784,1.6048827505376388,-0.1568862904585638,-0.11243059967809052,-0.06937548922150664,-0.8944972786978493,-2.039658987568428,0.5115755247819236,-0.02811006689106777,0.07581062239710033,-0.0960567420270748,0.3065058516217312,-0.1714633273654065,-0.3885130342305172,-1.0263159757748905,0.10845416125408097,1.1110407153692488,-0.24574281441051354,-0.4159190423178969,-0.17919153588626535,-0.12883732438868095,1.0327584741617881,-0.42462070813016894,0.5818707551411989,-0.2508398197652833,0.4108901534394317,-0.21946776810371807,2.560198632782004,-0.8651780364293155,-1.0740471459365504,-1.0300652076774188,0.4392319056300501,-1.0739623922581283,-0.28255694633236184,0.09082898615260443,-2.1688150134769466,0.9329557180630638,-0.7808495124415813,0.06683100265547608,-1.722430758072949,0.024113658521335023,-0.48568852829378445,-1.098947158573677,-1.4717921748368203,-0.36624539417163476,-2.0301079766326673,0.8397511406119997,-0.03688263337423848,1.337322569505816,-0.4863229257796001,-0.8953075178847716,2.978067808775572,0.8928873752589659,-0.3753444238780164,0.6879974904506355,0.48530691317532404,0.9627327029343004,0.9032599366333725,0.45245255378531896,-0.32344389159760545,0.8958541569453471,-2.8995353505833,-0.6482043719176865,-0.2669333499467169,-0.5884221153253442,-0.8630278761091948,-0.04913919711199999,0.12645079239759296,-0.7193704083594232,0.37074801683912245,0.22062625841106978,0.40743731839199193,0.8479991490060217,-0.009167135719227415,1.8632598831429097,-0.7960872126619156,-1.7375644076003907,-1.1999903033601078,-0.02229694260549102,0.6807916326860315,0.4932737126858051,-0.0974947139750042,1.6073550898948972,-0.03950978486186736,-0.859808284485949,-0.8777985213553849,1.2983344767080465,0.4989808303977241,-0.5396297551096423,-1.0854520557440512,-0.31772188118330175,0.8955058980313447,0.1788357117890574,-0.7717625482150768,0.5667182117508401,0.7285258898300567,0.501561596605113,-0.48628235970521605,1.1516659101778877,-1.0589946630499956,-0.361219151016677,1.6246682194612019,0.513080878135896,-0.5936929123845169,0.5651329407414923,-0.3050021524324126,-0.616343912713843,0.9644595069880195,-0.38316851813423636,-0.13155470566073205,0.36416391772726325,1.2601239519512926,2.1462072655558853,-2.5825848910238824,2.081792708528477,-1.078751936636015,-2.3903671548336507,1.0033256326031674,-0.6545847263550435,0.10764912868127198,0.12207790348953183,-0.8212992080507148,0.7112967201098995,-0.13009632025399923,0.5803434497934415,0.31035514106866113,0.0655114653702854,1.4832684880304325,-0.3002644591207662,-1.2548502443533265,-0.786596322744212,-1.4239652480358123,0.253128876084865,-0.9423554706056634,0.4153366959618048,0.5517188674527627,-0.5927187555784269,-1.3368854086996702,-0.07634072500552222,-1.1437449395391095,-0.5415137305599591,0.9990782487768577,-1.7903110799732183,0.5537531799186182,-0.022434036636478992,1.4962012052308085,1.1065084035349646,0.41491762281895306,-0.39794271491413247,-1.7408778026153366,1.1363401588277315,-0.47678804673636715,-1.2291209727870047,1.2542346318743631,0.7622368731492329,-0.6224527775214934,-0.008814795108268924,-0.05694531802421455,0.5157316581710752,-0.3025245809102999,1.2372758317736476,-2.007659205161322,-0.05215599128004835,-1.7301699247953772,-0.9686803939689996,-1.2619763389104857,-0.3687400593706226,-0.049358325325343545,-0.9379504504457999,-1.18812613830399,-1.48145373986171,-0.3354027432914926,0.7555447929091779,-0.4255414293630691,0.23977676426575142,-0.4388824427608871,-0.6542107893916246,0.4831427352929722,-0.6663698382733378,0.22868960289672244,-0.056870690207097875,-0.25069555557033135,0.12065187100049987,0.2382627826312162,0.8087671025324944,-0.3865729266763616,2.1815384498149624,1.2315049746405504,-0.6591774506045212,1.4334741211032387,-1.5168624765409393,0.4719341419655349,-0.21307783485741774,-0.25096938963387583,-0.5413334382056305,0.29472593720256546,-0.3804945564468301,0.23265068072814538,0.07754909567478649,0.36019722351393363,0.6797174574623828,1.350468925765691,2.0611787528995125,-0.7936577121313557,-0.6842782487418564,-0.7046972417095869,0.761580237633285,-0.3846909932670876,2.2458130794009996,-1.9349093069775098,-1.7485166292596677,-1.1079772955342526,1.4013931981032814,-1.3415211892168586,0.39241377763368884,-0.04474770815401831,0.3977777021537804,-0.7630448150696856,-0.6465271050754955,-0.18066013127789357,0.4387157005709115,-0.3654950117632028,0.23616955324218905,0.1157595741641339,0.7423808504133486,0.08214012426514318,1.2770506333161897,-0.40066469779287905,0.908286444869835,-0.6906211417628191,1.826549675043177,0.25511042392739525,1.9615898566365084,0.3858280462445466,-1.6605918786602962,-1.9074942727410202,1.9267644124314274,-1.597235487733314,-0.5137771780587634,-0.027358700641148474,-0.050778885814889166,1.1249139031948479,0.7945638783359107,0.26249889871022053,2.004513128038715,1.0430890523542935,-1.3193726615800754,2.0375865657216847,2.0804302255212206,-0.048612956305863084,1.1899002920932562,-0.7786360108857608,-0.4667578255615488,-0.09743717910172571,-1.2409684130821872,-0.4472013086899932,1.19490403320426,0.611283114037501,-0.03711634207206948,0.1767669790919276,-1.3439133174114866,0.17935373033316115,0.3324987521411103,-0.9961033188249759,0.519927301159901,-0.346867062490858,-0.44802812432330386,0.5645271597356321,0.3360498353608846,1.0774668884611256,1.4424946230116031,-0.20727366647020765,0.4887733365840982,-0.9663915953351083,1.247827114195661,0.7592858638885952,-0.19261507268440092,0.360030747210557,-0.1091816568798187,0.169574630830898,-0.18376972531518074,-0.29289969800968885,0.7349430377293577,-0.3470530271784501,0.9261723723056299,1.8977719759937592,0.9416246373793957,0.6062577824717373,1.6875612851849726,1.4342213859850028,-0.8064210028341953,-1.0676736396626503,1.2513055222705864,-0.1732970149848939,-0.13960700076870136,2.3471894858089457,-0.0729335848750169,-0.0731935033343654,-2.3077861309408108,-0.9339613238530972,-1.941695602418941,2.3389473544716894,-0.13195068144481908,0.36506393632367085,-0.05613374931017848,0.45914615059028935,-0.14994413473747553,0.7527520757469754,-0.2040500226086386,0.9071677529066535,2.162867102313512,0.308488599253808,-0.5491853071543493,-0.575773039897023,-0.015846901358003932,-0.4312399938274644,-0.5954773660227708,0.030326965558050836,1.040836791017058,1.7328989557505823,0.8293755531785946,1.9674215334816014,-0.9587483859659361,0.8737120086227289,-1.3268252679616717,-1.1320663481718694,-1.3054178931114113,-0.3622490377221688,-1.5798487264946734,-0.4388935180113623,0.031049764902715642,-1.1166081934855518,-0.018803921551435836,-1.2294779935673539,0.8399039335362727,-1.422847908517919,-0.20452533889472907,-0.7817490850182435,0.6672162763018672,-0.8245506807861895,0.561726153079271,1.9326501547660166,-1.1944420539390268,1.4484699718544551,-0.49092422369036287,-1.0023951347337083,-0.153533751406394,-0.12801714038092254,0.6675416770601277,-0.8489712401566893,-0.6321046325199412,-0.01865353623059403,0.5496425796908553,0.07393026042761223,0.1384162882631425,1.0368873497719613,-2.0111514664440766,-0.40158443043659675,0.7244284441719715,1.1061487807982753,-1.5388505240579446,0.4184689759652893,1.3537132284440958,-1.023949786729777,0.2557951896202256,-0.13550736602228236,-0.11106917968073093,1.0118696389226258,-0.4547669436226733,0.3184029068759084,1.9453778738301424,1.0285316318190387,0.7560214459361776,0.0315555537308356,-0.23547988033964257,-0.14000755183505662,1.088308680611564,-1.0931836134707484,0.9102213794726004,-0.003197665879611696,0.1598897860698155,2.5537706386164345,-0.24738694867570982]}],                        {\"template\":{\"data\":{\"bar\":[{\"error_x\":{\"color\":\"#2a3f5f\"},\"error_y\":{\"color\":\"#2a3f5f\"},\"marker\":{\"line\":{\"color\":\"#E5ECF6\",\"width\":0.5},\"pattern\":{\"fillmode\":\"overlay\",\"size\":10,\"solidity\":0.2}},\"type\":\"bar\"}],\"barpolar\":[{\"marker\":{\"line\":{\"color\":\"#E5ECF6\",\"width\":0.5},\"pattern\":{\"fillmode\":\"overlay\",\"size\":10,\"solidity\":0.2}},\"type\":\"barpolar\"}],\"carpet\":[{\"aaxis\":{\"endlinecolor\":\"#2a3f5f\",\"gridcolor\":\"white\",\"linecolor\":\"white\",\"minorgridcolor\":\"white\",\"startlinecolor\":\"#2a3f5f\"},\"baxis\":{\"endlinecolor\":\"#2a3f5f\",\"gridcolor\":\"white\",\"linecolor\":\"white\",\"minorgridcolor\":\"white\",\"startlinecolor\":\"#2a3f5f\"},\"type\":\"carpet\"}],\"choropleth\":[{\"colorbar\":{\"outlinewidth\":0,\"ticks\":\"\"},\"type\":\"choropleth\"}],\"contour\":[{\"colorbar\":{\"outlinewidth\":0,\"ticks\":\"\"},\"colorscale\":[[0.0,\"#0d0887\"],[0.1111111111111111,\"#46039f\"],[0.2222222222222222,\"#7201a8\"],[0.3333333333333333,\"#9c179e\"],[0.4444444444444444,\"#bd3786\"],[0.5555555555555556,\"#d8576b\"],[0.6666666666666666,\"#ed7953\"],[0.7777777777777778,\"#fb9f3a\"],[0.8888888888888888,\"#fdca26\"],[1.0,\"#f0f921\"]],\"type\":\"contour\"}],\"contourcarpet\":[{\"colorbar\":{\"outlinewidth\":0,\"ticks\":\"\"},\"type\":\"contourcarpet\"}],\"heatmap\":[{\"colorbar\":{\"outlinewidth\":0,\"ticks\":\"\"},\"colorscale\":[[0.0,\"#0d0887\"],[0.1111111111111111,\"#46039f\"],[0.2222222222222222,\"#7201a8\"],[0.3333333333333333,\"#9c179e\"],[0.4444444444444444,\"#bd3786\"],[0.5555555555555556,\"#d8576b\"],[0.6666666666666666,\"#ed7953\"],[0.7777777777777778,\"#fb9f3a\"],[0.8888888888888888,\"#fdca26\"],[1.0,\"#f0f921\"]],\"type\":\"heatmap\"}],\"heatmapgl\":[{\"colorbar\":{\"outlinewidth\":0,\"ticks\":\"\"},\"colorscale\":[[0.0,\"#0d0887\"],[0.1111111111111111,\"#46039f\"],[0.2222222222222222,\"#7201a8\"],[0.3333333333333333,\"#9c179e\"],[0.4444444444444444,\"#bd3786\"],[0.5555555555555556,\"#d8576b\"],[0.6666666666666666,\"#ed7953\"],[0.7777777777777778,\"#fb9f3a\"],[0.8888888888888888,\"#fdca26\"],[1.0,\"#f0f921\"]],\"type\":\"heatmapgl\"}],\"histogram\":[{\"marker\":{\"pattern\":{\"fillmode\":\"overlay\",\"size\":10,\"solidity\":0.2}},\"type\":\"histogram\"}],\"histogram2d\":[{\"colorbar\":{\"outlinewidth\":0,\"ticks\":\"\"},\"colorscale\":[[0.0,\"#0d0887\"],[0.1111111111111111,\"#46039f\"],[0.2222222222222222,\"#7201a8\"],[0.3333333333333333,\"#9c179e\"],[0.4444444444444444,\"#bd3786\"],[0.5555555555555556,\"#d8576b\"],[0.6666666666666666,\"#ed7953\"],[0.7777777777777778,\"#fb9f3a\"],[0.8888888888888888,\"#fdca26\"],[1.0,\"#f0f921\"]],\"type\":\"histogram2d\"}],\"histogram2dcontour\":[{\"colorbar\":{\"outlinewidth\":0,\"ticks\":\"\"},\"colorscale\":[[0.0,\"#0d0887\"],[0.1111111111111111,\"#46039f\"],[0.2222222222222222,\"#7201a8\"],[0.3333333333333333,\"#9c179e\"],[0.4444444444444444,\"#bd3786\"],[0.5555555555555556,\"#d8576b\"],[0.6666666666666666,\"#ed7953\"],[0.7777777777777778,\"#fb9f3a\"],[0.8888888888888888,\"#fdca26\"],[1.0,\"#f0f921\"]],\"type\":\"histogram2dcontour\"}],\"mesh3d\":[{\"colorbar\":{\"outlinewidth\":0,\"ticks\":\"\"},\"type\":\"mesh3d\"}],\"parcoords\":[{\"line\":{\"colorbar\":{\"outlinewidth\":0,\"ticks\":\"\"}},\"type\":\"parcoords\"}],\"pie\":[{\"automargin\":true,\"type\":\"pie\"}],\"scatter\":[{\"marker\":{\"colorbar\":{\"outlinewidth\":0,\"ticks\":\"\"}},\"type\":\"scatter\"}],\"scatter3d\":[{\"line\":{\"colorbar\":{\"outlinewidth\":0,\"ticks\":\"\"}},\"marker\":{\"colorbar\":{\"outlinewidth\":0,\"ticks\":\"\"}},\"type\":\"scatter3d\"}],\"scattercarpet\":[{\"marker\":{\"colorbar\":{\"outlinewidth\":0,\"ticks\":\"\"}},\"type\":\"scattercarpet\"}],\"scattergeo\":[{\"marker\":{\"colorbar\":{\"outlinewidth\":0,\"ticks\":\"\"}},\"type\":\"scattergeo\"}],\"scattergl\":[{\"marker\":{\"colorbar\":{\"outlinewidth\":0,\"ticks\":\"\"}},\"type\":\"scattergl\"}],\"scattermapbox\":[{\"marker\":{\"colorbar\":{\"outlinewidth\":0,\"ticks\":\"\"}},\"type\":\"scattermapbox\"}],\"scatterpolar\":[{\"marker\":{\"colorbar\":{\"outlinewidth\":0,\"ticks\":\"\"}},\"type\":\"scatterpolar\"}],\"scatterpolargl\":[{\"marker\":{\"colorbar\":{\"outlinewidth\":0,\"ticks\":\"\"}},\"type\":\"scatterpolargl\"}],\"scatterternary\":[{\"marker\":{\"colorbar\":{\"outlinewidth\":0,\"ticks\":\"\"}},\"type\":\"scatterternary\"}],\"surface\":[{\"colorbar\":{\"outlinewidth\":0,\"ticks\":\"\"},\"colorscale\":[[0.0,\"#0d0887\"],[0.1111111111111111,\"#46039f\"],[0.2222222222222222,\"#7201a8\"],[0.3333333333333333,\"#9c179e\"],[0.4444444444444444,\"#bd3786\"],[0.5555555555555556,\"#d8576b\"],[0.6666666666666666,\"#ed7953\"],[0.7777777777777778,\"#fb9f3a\"],[0.8888888888888888,\"#fdca26\"],[1.0,\"#f0f921\"]],\"type\":\"surface\"}],\"table\":[{\"cells\":{\"fill\":{\"color\":\"#EBF0F8\"},\"line\":{\"color\":\"white\"}},\"header\":{\"fill\":{\"color\":\"#C8D4E3\"},\"line\":{\"color\":\"white\"}},\"type\":\"table\"}]},\"layout\":{\"annotationdefaults\":{\"arrowcolor\":\"#2a3f5f\",\"arrowhead\":0,\"arrowwidth\":1},\"autotypenumbers\":\"strict\",\"coloraxis\":{\"colorbar\":{\"outlinewidth\":0,\"ticks\":\"\"}},\"colorscale\":{\"diverging\":[[0,\"#8e0152\"],[0.1,\"#c51b7d\"],[0.2,\"#de77ae\"],[0.3,\"#f1b6da\"],[0.4,\"#fde0ef\"],[0.5,\"#f7f7f7\"],[0.6,\"#e6f5d0\"],[0.7,\"#b8e186\"],[0.8,\"#7fbc41\"],[0.9,\"#4d9221\"],[1,\"#276419\"]],\"sequential\":[[0.0,\"#0d0887\"],[0.1111111111111111,\"#46039f\"],[0.2222222222222222,\"#7201a8\"],[0.3333333333333333,\"#9c179e\"],[0.4444444444444444,\"#bd3786\"],[0.5555555555555556,\"#d8576b\"],[0.6666666666666666,\"#ed7953\"],[0.7777777777777778,\"#fb9f3a\"],[0.8888888888888888,\"#fdca26\"],[1.0,\"#f0f921\"]],\"sequentialminus\":[[0.0,\"#0d0887\"],[0.1111111111111111,\"#46039f\"],[0.2222222222222222,\"#7201a8\"],[0.3333333333333333,\"#9c179e\"],[0.4444444444444444,\"#bd3786\"],[0.5555555555555556,\"#d8576b\"],[0.6666666666666666,\"#ed7953\"],[0.7777777777777778,\"#fb9f3a\"],[0.8888888888888888,\"#fdca26\"],[1.0,\"#f0f921\"]]},\"colorway\":[\"#636efa\",\"#EF553B\",\"#00cc96\",\"#ab63fa\",\"#FFA15A\",\"#19d3f3\",\"#FF6692\",\"#B6E880\",\"#FF97FF\",\"#FECB52\"],\"font\":{\"color\":\"#2a3f5f\"},\"geo\":{\"bgcolor\":\"white\",\"lakecolor\":\"white\",\"landcolor\":\"#E5ECF6\",\"showlakes\":true,\"showland\":true,\"subunitcolor\":\"white\"},\"hoverlabel\":{\"align\":\"left\"},\"hovermode\":\"closest\",\"mapbox\":{\"style\":\"light\"},\"paper_bgcolor\":\"white\",\"plot_bgcolor\":\"#E5ECF6\",\"polar\":{\"angularaxis\":{\"gridcolor\":\"white\",\"linecolor\":\"white\",\"ticks\":\"\"},\"bgcolor\":\"#E5ECF6\",\"radialaxis\":{\"gridcolor\":\"white\",\"linecolor\":\"white\",\"ticks\":\"\"}},\"scene\":{\"xaxis\":{\"backgroundcolor\":\"#E5ECF6\",\"gridcolor\":\"white\",\"gridwidth\":2,\"linecolor\":\"white\",\"showbackground\":true,\"ticks\":\"\",\"zerolinecolor\":\"white\"},\"yaxis\":{\"backgroundcolor\":\"#E5ECF6\",\"gridcolor\":\"white\",\"gridwidth\":2,\"linecolor\":\"white\",\"showbackground\":true,\"ticks\":\"\",\"zerolinecolor\":\"white\"},\"zaxis\":{\"backgroundcolor\":\"#E5ECF6\",\"gridcolor\":\"white\",\"gridwidth\":2,\"linecolor\":\"white\",\"showbackground\":true,\"ticks\":\"\",\"zerolinecolor\":\"white\"}},\"shapedefaults\":{\"line\":{\"color\":\"#2a3f5f\"}},\"ternary\":{\"aaxis\":{\"gridcolor\":\"white\",\"linecolor\":\"white\",\"ticks\":\"\"},\"baxis\":{\"gridcolor\":\"white\",\"linecolor\":\"white\",\"ticks\":\"\"},\"bgcolor\":\"#E5ECF6\",\"caxis\":{\"gridcolor\":\"white\",\"linecolor\":\"white\",\"ticks\":\"\"}},\"title\":{\"x\":0.05},\"xaxis\":{\"automargin\":true,\"gridcolor\":\"white\",\"linecolor\":\"white\",\"ticks\":\"\",\"title\":{\"standoff\":15},\"zerolinecolor\":\"white\",\"zerolinewidth\":2},\"yaxis\":{\"automargin\":true,\"gridcolor\":\"white\",\"linecolor\":\"white\",\"ticks\":\"\",\"title\":{\"standoff\":15},\"zerolinecolor\":\"white\",\"zerolinewidth\":2}}}},                        {\"responsive\": true}                    ).then(function(){\n",
       "                            \n",
       "var gd = document.getElementById('a1dc7812-8efb-4001-ab41-4d80c205086b');\n",
       "var x = new MutationObserver(function (mutations, observer) {{\n",
       "        var display = window.getComputedStyle(gd).display;\n",
       "        if (!display || display === 'none') {{\n",
       "            console.log([gd, 'removed!']);\n",
       "            Plotly.purge(gd);\n",
       "            observer.disconnect();\n",
       "        }}\n",
       "}});\n",
       "\n",
       "// Listen for the removal of the full notebook cells\n",
       "var notebookContainer = gd.closest('#notebook-container');\n",
       "if (notebookContainer) {{\n",
       "    x.observe(notebookContainer, {childList: true});\n",
       "}}\n",
       "\n",
       "// Listen for the clearing of the current output cell\n",
       "var outputEl = gd.closest('.output');\n",
       "if (outputEl) {{\n",
       "    x.observe(outputEl, {childList: true});\n",
       "}}\n",
       "\n",
       "                        })                };                });            </script>        </div>"
      ]
     },
     "metadata": {},
     "output_type": "display_data"
    }
   ],
   "source": [
    "import plotly.graph_objs as go\n",
    "import numpy as np\n",
    "\n",
    "x = np.random.randn(2000)\n",
    "y = np.random.randn(2000)\n",
    "iplot([go.Histogram2dContour(x=x, y=y, contours=dict(coloring='heatmap')),\n",
    "       go.Scatter(x=x, y=y, mode='markers', marker=dict(color='white', size=3, opacity=0.3))], show_link=False)"
   ]
  },
  {
   "cell_type": "markdown",
   "metadata": {
    "id": "yqGpHPlvahjR"
   },
   "source": [
    "# <center>Episode 2</center>"
   ]
  },
  {
   "cell_type": "code",
   "execution_count": 20,
   "metadata": {
    "id": "gDrkm1B_ahjS"
   },
   "outputs": [],
   "source": [
    "#import chart_studio.plotly as py\n",
    "import plotly.graph_objs as go\n",
    "import numpy as np"
   ]
  },
  {
   "cell_type": "code",
   "execution_count": 21,
   "metadata": {
    "id": "iKgrmsOkahjT"
   },
   "outputs": [],
   "source": [
    "N = 100\n",
    "example_x = np.random.rand(N)\n",
    "example_y = np.random.rand(N)\n",
    "\n",
    "\n"
   ]
  },
  {
   "cell_type": "code",
   "execution_count": 22,
   "metadata": {
    "id": "8X9fWFygahjU"
   },
   "outputs": [],
   "source": [
    "trace = go.Scatter(\n",
    "    x = example_x,\n",
    "    y = example_y,\n",
    "    mode = 'markers')"
   ]
  },
  {
   "cell_type": "code",
   "execution_count": 23,
   "metadata": {
    "id": "c5IgD0gkahjU",
    "outputId": "e4ba9eb4-74b7-427c-bd6b-cc40bbc26fa5"
   },
   "outputs": [
    {
     "data": {
      "application/vnd.plotly.v1+json": {
       "config": {
        "linkText": "Export to plot.ly",
        "plotlyServerURL": "https://plot.ly",
        "showLink": false
       },
       "data": [
        {
         "mode": "markers",
         "type": "scatter",
         "x": [
          0.45499853619177133,
          0.6296927042509163,
          0.26947861292967057,
          0.8289658828499364,
          0.9201028716856328,
          0.026037107639507617,
          0.3978691063386691,
          0.9453627817595831,
          0.8471713561479206,
          0.2561478632914185,
          0.8901030385658572,
          0.280188653711665,
          0.8884739819349504,
          0.6916038419281922,
          0.34229236006199726,
          0.06037600603620774,
          0.5435385436992256,
          0.005436370439325877,
          0.5173056990036375,
          0.37359247889501657,
          0.07121399727110811,
          0.270840878256984,
          0.14694066662699112,
          0.3591394766098057,
          0.990035750515263,
          0.9732101816381081,
          0.15979920328539443,
          0.23253701733890397,
          0.561539079586164,
          0.4653062915071079,
          0.1751167510534818,
          0.0401598569705508,
          0.9289949975915327,
          0.8899843006101026,
          0.40996587087473446,
          0.46195333949687245,
          0.04111514139098238,
          0.5242296930625105,
          0.335259179520894,
          0.5353926615353105,
          0.4917099127584641,
          0.022801889133054254,
          0.1386484837216545,
          0.36384501200910535,
          0.31405035130184134,
          0.9809322670469647,
          0.6142031185598139,
          0.2115495082526988,
          0.7278233898230848,
          0.6784726915889929,
          0.1257142502545957,
          0.3927974776564154,
          0.9190251528277356,
          0.26602550512054,
          0.14818490161306974,
          0.7592470541905092,
          0.9769362168805499,
          0.4166061445163508,
          0.0953099122367218,
          0.4376429631603319,
          0.17665536930224146,
          0.2775866189937577,
          0.9129488954926646,
          0.7141435301048147,
          0.7689421448445908,
          0.05228775724243806,
          0.9300385687810659,
          0.6888459443061812,
          0.9100480162656381,
          0.029740568545051138,
          0.8166318867565414,
          0.005145519118904263,
          0.4862698255039952,
          0.6610588519419794,
          0.4059881339819743,
          0.8753243137897511,
          0.33643533543953363,
          0.4706492412277543,
          0.9801520236399028,
          0.46965989262467744,
          0.46288598624945365,
          0.7157220413267588,
          0.06370939398575082,
          0.4516265186396218,
          0.10582943008292545,
          0.5635933187694545,
          0.43423656527449583,
          0.41900070013279,
          0.11677203773392131,
          0.45301584544308016,
          0.43099808101543113,
          0.7950086139360345,
          0.828254908830293,
          0.6808026321334874,
          0.5799304372092876,
          0.4610092543324976,
          0.2444913079460327,
          0.4123191809196399,
          0.9911432135794094,
          0.6645867364998425
         ],
         "y": [
          0.4143926850838905,
          0.22538781750803516,
          0.014404949246805243,
          0.4976979728334565,
          0.3732093551022301,
          0.2994827647885363,
          0.004833375458114908,
          0.20816733007129284,
          0.9337187547758476,
          0.46488866367685955,
          0.566775547974767,
          0.09822065517304013,
          0.2580390828010659,
          0.5273657678004711,
          0.7710730499976572,
          0.678325958514165,
          0.8739007583903718,
          0.09258426115548624,
          0.23146168892507246,
          0.004778108041877727,
          0.09512755383791294,
          0.9074653252831549,
          0.2672590907849004,
          0.9417156190412411,
          0.6494149665004504,
          0.9464759933118803,
          0.020895068384876536,
          0.8156219317249745,
          0.6129250609466046,
          0.5392049778117315,
          0.4268434506675597,
          0.392536910795409,
          0.03766887576362998,
          0.33514295359399493,
          0.13013556572932938,
          0.725821169291801,
          0.3677995826598588,
          0.40308687886418637,
          0.827875847153899,
          0.9453986381739219,
          0.9056251507375868,
          0.5849705608051907,
          0.6093375319596658,
          0.8845436374926348,
          0.3143800693074845,
          0.12973117586813154,
          0.258549961644587,
          0.2747728837492487,
          0.6178218240840426,
          0.27750439764971113,
          0.7017811777557937,
          0.7863360070311144,
          0.046470544963543636,
          0.9186343618276575,
          0.41490465991215064,
          0.5025572175105848,
          0.3122779081114829,
          0.9897490770165741,
          0.6061078697615551,
          0.07076832135529842,
          0.06848007994549299,
          0.48507451555988446,
          0.23943448524196764,
          0.6206498180670634,
          0.09785086100950913,
          0.04311258458968792,
          0.8534521525691153,
          0.9729429323579231,
          0.6004872247443246,
          0.4796164929869322,
          0.9997059064778612,
          0.2694824974129718,
          0.933793815637008,
          0.4472811363408806,
          0.8359178734610303,
          0.227466336017481,
          0.6759336378364637,
          0.18198025276545504,
          0.7896480586526676,
          0.9932301474470852,
          0.7790986099597176,
          0.26347477273014286,
          0.6233372587792577,
          0.41183386678378475,
          0.22794113630774937,
          0.9035674510083209,
          0.5074626639835788,
          0.9626952118479074,
          0.55164573014825,
          0.8810914011098054,
          0.8036271908291758,
          0.5643435176455963,
          0.39479457571966403,
          0.14332493820999448,
          0.28477947745962573,
          0.8118264501829523,
          0.4679968620403059,
          0.8319899304816939,
          0.47887301847100894,
          0.9254909929871457
         ]
        }
       ],
       "layout": {
        "template": {
         "data": {
          "bar": [
           {
            "error_x": {
             "color": "#2a3f5f"
            },
            "error_y": {
             "color": "#2a3f5f"
            },
            "marker": {
             "line": {
              "color": "#E5ECF6",
              "width": 0.5
             },
             "pattern": {
              "fillmode": "overlay",
              "size": 10,
              "solidity": 0.2
             }
            },
            "type": "bar"
           }
          ],
          "barpolar": [
           {
            "marker": {
             "line": {
              "color": "#E5ECF6",
              "width": 0.5
             },
             "pattern": {
              "fillmode": "overlay",
              "size": 10,
              "solidity": 0.2
             }
            },
            "type": "barpolar"
           }
          ],
          "carpet": [
           {
            "aaxis": {
             "endlinecolor": "#2a3f5f",
             "gridcolor": "white",
             "linecolor": "white",
             "minorgridcolor": "white",
             "startlinecolor": "#2a3f5f"
            },
            "baxis": {
             "endlinecolor": "#2a3f5f",
             "gridcolor": "white",
             "linecolor": "white",
             "minorgridcolor": "white",
             "startlinecolor": "#2a3f5f"
            },
            "type": "carpet"
           }
          ],
          "choropleth": [
           {
            "colorbar": {
             "outlinewidth": 0,
             "ticks": ""
            },
            "type": "choropleth"
           }
          ],
          "contour": [
           {
            "colorbar": {
             "outlinewidth": 0,
             "ticks": ""
            },
            "colorscale": [
             [
              0,
              "#0d0887"
             ],
             [
              0.1111111111111111,
              "#46039f"
             ],
             [
              0.2222222222222222,
              "#7201a8"
             ],
             [
              0.3333333333333333,
              "#9c179e"
             ],
             [
              0.4444444444444444,
              "#bd3786"
             ],
             [
              0.5555555555555556,
              "#d8576b"
             ],
             [
              0.6666666666666666,
              "#ed7953"
             ],
             [
              0.7777777777777778,
              "#fb9f3a"
             ],
             [
              0.8888888888888888,
              "#fdca26"
             ],
             [
              1,
              "#f0f921"
             ]
            ],
            "type": "contour"
           }
          ],
          "contourcarpet": [
           {
            "colorbar": {
             "outlinewidth": 0,
             "ticks": ""
            },
            "type": "contourcarpet"
           }
          ],
          "heatmap": [
           {
            "colorbar": {
             "outlinewidth": 0,
             "ticks": ""
            },
            "colorscale": [
             [
              0,
              "#0d0887"
             ],
             [
              0.1111111111111111,
              "#46039f"
             ],
             [
              0.2222222222222222,
              "#7201a8"
             ],
             [
              0.3333333333333333,
              "#9c179e"
             ],
             [
              0.4444444444444444,
              "#bd3786"
             ],
             [
              0.5555555555555556,
              "#d8576b"
             ],
             [
              0.6666666666666666,
              "#ed7953"
             ],
             [
              0.7777777777777778,
              "#fb9f3a"
             ],
             [
              0.8888888888888888,
              "#fdca26"
             ],
             [
              1,
              "#f0f921"
             ]
            ],
            "type": "heatmap"
           }
          ],
          "heatmapgl": [
           {
            "colorbar": {
             "outlinewidth": 0,
             "ticks": ""
            },
            "colorscale": [
             [
              0,
              "#0d0887"
             ],
             [
              0.1111111111111111,
              "#46039f"
             ],
             [
              0.2222222222222222,
              "#7201a8"
             ],
             [
              0.3333333333333333,
              "#9c179e"
             ],
             [
              0.4444444444444444,
              "#bd3786"
             ],
             [
              0.5555555555555556,
              "#d8576b"
             ],
             [
              0.6666666666666666,
              "#ed7953"
             ],
             [
              0.7777777777777778,
              "#fb9f3a"
             ],
             [
              0.8888888888888888,
              "#fdca26"
             ],
             [
              1,
              "#f0f921"
             ]
            ],
            "type": "heatmapgl"
           }
          ],
          "histogram": [
           {
            "marker": {
             "pattern": {
              "fillmode": "overlay",
              "size": 10,
              "solidity": 0.2
             }
            },
            "type": "histogram"
           }
          ],
          "histogram2d": [
           {
            "colorbar": {
             "outlinewidth": 0,
             "ticks": ""
            },
            "colorscale": [
             [
              0,
              "#0d0887"
             ],
             [
              0.1111111111111111,
              "#46039f"
             ],
             [
              0.2222222222222222,
              "#7201a8"
             ],
             [
              0.3333333333333333,
              "#9c179e"
             ],
             [
              0.4444444444444444,
              "#bd3786"
             ],
             [
              0.5555555555555556,
              "#d8576b"
             ],
             [
              0.6666666666666666,
              "#ed7953"
             ],
             [
              0.7777777777777778,
              "#fb9f3a"
             ],
             [
              0.8888888888888888,
              "#fdca26"
             ],
             [
              1,
              "#f0f921"
             ]
            ],
            "type": "histogram2d"
           }
          ],
          "histogram2dcontour": [
           {
            "colorbar": {
             "outlinewidth": 0,
             "ticks": ""
            },
            "colorscale": [
             [
              0,
              "#0d0887"
             ],
             [
              0.1111111111111111,
              "#46039f"
             ],
             [
              0.2222222222222222,
              "#7201a8"
             ],
             [
              0.3333333333333333,
              "#9c179e"
             ],
             [
              0.4444444444444444,
              "#bd3786"
             ],
             [
              0.5555555555555556,
              "#d8576b"
             ],
             [
              0.6666666666666666,
              "#ed7953"
             ],
             [
              0.7777777777777778,
              "#fb9f3a"
             ],
             [
              0.8888888888888888,
              "#fdca26"
             ],
             [
              1,
              "#f0f921"
             ]
            ],
            "type": "histogram2dcontour"
           }
          ],
          "mesh3d": [
           {
            "colorbar": {
             "outlinewidth": 0,
             "ticks": ""
            },
            "type": "mesh3d"
           }
          ],
          "parcoords": [
           {
            "line": {
             "colorbar": {
              "outlinewidth": 0,
              "ticks": ""
             }
            },
            "type": "parcoords"
           }
          ],
          "pie": [
           {
            "automargin": true,
            "type": "pie"
           }
          ],
          "scatter": [
           {
            "marker": {
             "colorbar": {
              "outlinewidth": 0,
              "ticks": ""
             }
            },
            "type": "scatter"
           }
          ],
          "scatter3d": [
           {
            "line": {
             "colorbar": {
              "outlinewidth": 0,
              "ticks": ""
             }
            },
            "marker": {
             "colorbar": {
              "outlinewidth": 0,
              "ticks": ""
             }
            },
            "type": "scatter3d"
           }
          ],
          "scattercarpet": [
           {
            "marker": {
             "colorbar": {
              "outlinewidth": 0,
              "ticks": ""
             }
            },
            "type": "scattercarpet"
           }
          ],
          "scattergeo": [
           {
            "marker": {
             "colorbar": {
              "outlinewidth": 0,
              "ticks": ""
             }
            },
            "type": "scattergeo"
           }
          ],
          "scattergl": [
           {
            "marker": {
             "colorbar": {
              "outlinewidth": 0,
              "ticks": ""
             }
            },
            "type": "scattergl"
           }
          ],
          "scattermapbox": [
           {
            "marker": {
             "colorbar": {
              "outlinewidth": 0,
              "ticks": ""
             }
            },
            "type": "scattermapbox"
           }
          ],
          "scatterpolar": [
           {
            "marker": {
             "colorbar": {
              "outlinewidth": 0,
              "ticks": ""
             }
            },
            "type": "scatterpolar"
           }
          ],
          "scatterpolargl": [
           {
            "marker": {
             "colorbar": {
              "outlinewidth": 0,
              "ticks": ""
             }
            },
            "type": "scatterpolargl"
           }
          ],
          "scatterternary": [
           {
            "marker": {
             "colorbar": {
              "outlinewidth": 0,
              "ticks": ""
             }
            },
            "type": "scatterternary"
           }
          ],
          "surface": [
           {
            "colorbar": {
             "outlinewidth": 0,
             "ticks": ""
            },
            "colorscale": [
             [
              0,
              "#0d0887"
             ],
             [
              0.1111111111111111,
              "#46039f"
             ],
             [
              0.2222222222222222,
              "#7201a8"
             ],
             [
              0.3333333333333333,
              "#9c179e"
             ],
             [
              0.4444444444444444,
              "#bd3786"
             ],
             [
              0.5555555555555556,
              "#d8576b"
             ],
             [
              0.6666666666666666,
              "#ed7953"
             ],
             [
              0.7777777777777778,
              "#fb9f3a"
             ],
             [
              0.8888888888888888,
              "#fdca26"
             ],
             [
              1,
              "#f0f921"
             ]
            ],
            "type": "surface"
           }
          ],
          "table": [
           {
            "cells": {
             "fill": {
              "color": "#EBF0F8"
             },
             "line": {
              "color": "white"
             }
            },
            "header": {
             "fill": {
              "color": "#C8D4E3"
             },
             "line": {
              "color": "white"
             }
            },
            "type": "table"
           }
          ]
         },
         "layout": {
          "annotationdefaults": {
           "arrowcolor": "#2a3f5f",
           "arrowhead": 0,
           "arrowwidth": 1
          },
          "autotypenumbers": "strict",
          "coloraxis": {
           "colorbar": {
            "outlinewidth": 0,
            "ticks": ""
           }
          },
          "colorscale": {
           "diverging": [
            [
             0,
             "#8e0152"
            ],
            [
             0.1,
             "#c51b7d"
            ],
            [
             0.2,
             "#de77ae"
            ],
            [
             0.3,
             "#f1b6da"
            ],
            [
             0.4,
             "#fde0ef"
            ],
            [
             0.5,
             "#f7f7f7"
            ],
            [
             0.6,
             "#e6f5d0"
            ],
            [
             0.7,
             "#b8e186"
            ],
            [
             0.8,
             "#7fbc41"
            ],
            [
             0.9,
             "#4d9221"
            ],
            [
             1,
             "#276419"
            ]
           ],
           "sequential": [
            [
             0,
             "#0d0887"
            ],
            [
             0.1111111111111111,
             "#46039f"
            ],
            [
             0.2222222222222222,
             "#7201a8"
            ],
            [
             0.3333333333333333,
             "#9c179e"
            ],
            [
             0.4444444444444444,
             "#bd3786"
            ],
            [
             0.5555555555555556,
             "#d8576b"
            ],
            [
             0.6666666666666666,
             "#ed7953"
            ],
            [
             0.7777777777777778,
             "#fb9f3a"
            ],
            [
             0.8888888888888888,
             "#fdca26"
            ],
            [
             1,
             "#f0f921"
            ]
           ],
           "sequentialminus": [
            [
             0,
             "#0d0887"
            ],
            [
             0.1111111111111111,
             "#46039f"
            ],
            [
             0.2222222222222222,
             "#7201a8"
            ],
            [
             0.3333333333333333,
             "#9c179e"
            ],
            [
             0.4444444444444444,
             "#bd3786"
            ],
            [
             0.5555555555555556,
             "#d8576b"
            ],
            [
             0.6666666666666666,
             "#ed7953"
            ],
            [
             0.7777777777777778,
             "#fb9f3a"
            ],
            [
             0.8888888888888888,
             "#fdca26"
            ],
            [
             1,
             "#f0f921"
            ]
           ]
          },
          "colorway": [
           "#636efa",
           "#EF553B",
           "#00cc96",
           "#ab63fa",
           "#FFA15A",
           "#19d3f3",
           "#FF6692",
           "#B6E880",
           "#FF97FF",
           "#FECB52"
          ],
          "font": {
           "color": "#2a3f5f"
          },
          "geo": {
           "bgcolor": "white",
           "lakecolor": "white",
           "landcolor": "#E5ECF6",
           "showlakes": true,
           "showland": true,
           "subunitcolor": "white"
          },
          "hoverlabel": {
           "align": "left"
          },
          "hovermode": "closest",
          "mapbox": {
           "style": "light"
          },
          "paper_bgcolor": "white",
          "plot_bgcolor": "#E5ECF6",
          "polar": {
           "angularaxis": {
            "gridcolor": "white",
            "linecolor": "white",
            "ticks": ""
           },
           "bgcolor": "#E5ECF6",
           "radialaxis": {
            "gridcolor": "white",
            "linecolor": "white",
            "ticks": ""
           }
          },
          "scene": {
           "xaxis": {
            "backgroundcolor": "#E5ECF6",
            "gridcolor": "white",
            "gridwidth": 2,
            "linecolor": "white",
            "showbackground": true,
            "ticks": "",
            "zerolinecolor": "white"
           },
           "yaxis": {
            "backgroundcolor": "#E5ECF6",
            "gridcolor": "white",
            "gridwidth": 2,
            "linecolor": "white",
            "showbackground": true,
            "ticks": "",
            "zerolinecolor": "white"
           },
           "zaxis": {
            "backgroundcolor": "#E5ECF6",
            "gridcolor": "white",
            "gridwidth": 2,
            "linecolor": "white",
            "showbackground": true,
            "ticks": "",
            "zerolinecolor": "white"
           }
          },
          "shapedefaults": {
           "line": {
            "color": "#2a3f5f"
           }
          },
          "ternary": {
           "aaxis": {
            "gridcolor": "white",
            "linecolor": "white",
            "ticks": ""
           },
           "baxis": {
            "gridcolor": "white",
            "linecolor": "white",
            "ticks": ""
           },
           "bgcolor": "#E5ECF6",
           "caxis": {
            "gridcolor": "white",
            "linecolor": "white",
            "ticks": ""
           }
          },
          "title": {
           "x": 0.05
          },
          "xaxis": {
           "automargin": true,
           "gridcolor": "white",
           "linecolor": "white",
           "ticks": "",
           "title": {
            "standoff": 15
           },
           "zerolinecolor": "white",
           "zerolinewidth": 2
          },
          "yaxis": {
           "automargin": true,
           "gridcolor": "white",
           "linecolor": "white",
           "ticks": "",
           "title": {
            "standoff": 15
           },
           "zerolinecolor": "white",
           "zerolinewidth": 2
          }
         }
        }
       }
      },
      "text/html": [
       "<div>                            <div id=\"8e6eeef8-0685-4f6c-ba54-c83ff514ea1a\" class=\"plotly-graph-div\" style=\"height:525px; width:100%;\"></div>            <script type=\"text/javascript\">                require([\"plotly\"], function(Plotly) {                    window.PLOTLYENV=window.PLOTLYENV || {};                                    if (document.getElementById(\"8e6eeef8-0685-4f6c-ba54-c83ff514ea1a\")) {                    Plotly.newPlot(                        \"8e6eeef8-0685-4f6c-ba54-c83ff514ea1a\",                        [{\"mode\":\"markers\",\"type\":\"scatter\",\"x\":[0.45499853619177133,0.6296927042509163,0.26947861292967057,0.8289658828499364,0.9201028716856328,0.026037107639507617,0.3978691063386691,0.9453627817595831,0.8471713561479206,0.2561478632914185,0.8901030385658572,0.280188653711665,0.8884739819349504,0.6916038419281922,0.34229236006199726,0.06037600603620774,0.5435385436992256,0.005436370439325877,0.5173056990036375,0.37359247889501657,0.07121399727110811,0.270840878256984,0.14694066662699112,0.3591394766098057,0.990035750515263,0.9732101816381081,0.15979920328539443,0.23253701733890397,0.561539079586164,0.4653062915071079,0.1751167510534818,0.0401598569705508,0.9289949975915327,0.8899843006101026,0.40996587087473446,0.46195333949687245,0.04111514139098238,0.5242296930625105,0.335259179520894,0.5353926615353105,0.4917099127584641,0.022801889133054254,0.1386484837216545,0.36384501200910535,0.31405035130184134,0.9809322670469647,0.6142031185598139,0.2115495082526988,0.7278233898230848,0.6784726915889929,0.1257142502545957,0.3927974776564154,0.9190251528277356,0.26602550512054,0.14818490161306974,0.7592470541905092,0.9769362168805499,0.4166061445163508,0.0953099122367218,0.4376429631603319,0.17665536930224146,0.2775866189937577,0.9129488954926646,0.7141435301048147,0.7689421448445908,0.05228775724243806,0.9300385687810659,0.6888459443061812,0.9100480162656381,0.029740568545051138,0.8166318867565414,0.005145519118904263,0.4862698255039952,0.6610588519419794,0.4059881339819743,0.8753243137897511,0.33643533543953363,0.4706492412277543,0.9801520236399028,0.46965989262467744,0.46288598624945365,0.7157220413267588,0.06370939398575082,0.4516265186396218,0.10582943008292545,0.5635933187694545,0.43423656527449583,0.41900070013279,0.11677203773392131,0.45301584544308016,0.43099808101543113,0.7950086139360345,0.828254908830293,0.6808026321334874,0.5799304372092876,0.4610092543324976,0.2444913079460327,0.4123191809196399,0.9911432135794094,0.6645867364998425],\"y\":[0.4143926850838905,0.22538781750803516,0.014404949246805243,0.4976979728334565,0.3732093551022301,0.2994827647885363,0.004833375458114908,0.20816733007129284,0.9337187547758476,0.46488866367685955,0.566775547974767,0.09822065517304013,0.2580390828010659,0.5273657678004711,0.7710730499976572,0.678325958514165,0.8739007583903718,0.09258426115548624,0.23146168892507246,0.004778108041877727,0.09512755383791294,0.9074653252831549,0.2672590907849004,0.9417156190412411,0.6494149665004504,0.9464759933118803,0.020895068384876536,0.8156219317249745,0.6129250609466046,0.5392049778117315,0.4268434506675597,0.392536910795409,0.03766887576362998,0.33514295359399493,0.13013556572932938,0.725821169291801,0.3677995826598588,0.40308687886418637,0.827875847153899,0.9453986381739219,0.9056251507375868,0.5849705608051907,0.6093375319596658,0.8845436374926348,0.3143800693074845,0.12973117586813154,0.258549961644587,0.2747728837492487,0.6178218240840426,0.27750439764971113,0.7017811777557937,0.7863360070311144,0.046470544963543636,0.9186343618276575,0.41490465991215064,0.5025572175105848,0.3122779081114829,0.9897490770165741,0.6061078697615551,0.07076832135529842,0.06848007994549299,0.48507451555988446,0.23943448524196764,0.6206498180670634,0.09785086100950913,0.04311258458968792,0.8534521525691153,0.9729429323579231,0.6004872247443246,0.4796164929869322,0.9997059064778612,0.2694824974129718,0.933793815637008,0.4472811363408806,0.8359178734610303,0.227466336017481,0.6759336378364637,0.18198025276545504,0.7896480586526676,0.9932301474470852,0.7790986099597176,0.26347477273014286,0.6233372587792577,0.41183386678378475,0.22794113630774937,0.9035674510083209,0.5074626639835788,0.9626952118479074,0.55164573014825,0.8810914011098054,0.8036271908291758,0.5643435176455963,0.39479457571966403,0.14332493820999448,0.28477947745962573,0.8118264501829523,0.4679968620403059,0.8319899304816939,0.47887301847100894,0.9254909929871457]}],                        {\"template\":{\"data\":{\"bar\":[{\"error_x\":{\"color\":\"#2a3f5f\"},\"error_y\":{\"color\":\"#2a3f5f\"},\"marker\":{\"line\":{\"color\":\"#E5ECF6\",\"width\":0.5},\"pattern\":{\"fillmode\":\"overlay\",\"size\":10,\"solidity\":0.2}},\"type\":\"bar\"}],\"barpolar\":[{\"marker\":{\"line\":{\"color\":\"#E5ECF6\",\"width\":0.5},\"pattern\":{\"fillmode\":\"overlay\",\"size\":10,\"solidity\":0.2}},\"type\":\"barpolar\"}],\"carpet\":[{\"aaxis\":{\"endlinecolor\":\"#2a3f5f\",\"gridcolor\":\"white\",\"linecolor\":\"white\",\"minorgridcolor\":\"white\",\"startlinecolor\":\"#2a3f5f\"},\"baxis\":{\"endlinecolor\":\"#2a3f5f\",\"gridcolor\":\"white\",\"linecolor\":\"white\",\"minorgridcolor\":\"white\",\"startlinecolor\":\"#2a3f5f\"},\"type\":\"carpet\"}],\"choropleth\":[{\"colorbar\":{\"outlinewidth\":0,\"ticks\":\"\"},\"type\":\"choropleth\"}],\"contour\":[{\"colorbar\":{\"outlinewidth\":0,\"ticks\":\"\"},\"colorscale\":[[0.0,\"#0d0887\"],[0.1111111111111111,\"#46039f\"],[0.2222222222222222,\"#7201a8\"],[0.3333333333333333,\"#9c179e\"],[0.4444444444444444,\"#bd3786\"],[0.5555555555555556,\"#d8576b\"],[0.6666666666666666,\"#ed7953\"],[0.7777777777777778,\"#fb9f3a\"],[0.8888888888888888,\"#fdca26\"],[1.0,\"#f0f921\"]],\"type\":\"contour\"}],\"contourcarpet\":[{\"colorbar\":{\"outlinewidth\":0,\"ticks\":\"\"},\"type\":\"contourcarpet\"}],\"heatmap\":[{\"colorbar\":{\"outlinewidth\":0,\"ticks\":\"\"},\"colorscale\":[[0.0,\"#0d0887\"],[0.1111111111111111,\"#46039f\"],[0.2222222222222222,\"#7201a8\"],[0.3333333333333333,\"#9c179e\"],[0.4444444444444444,\"#bd3786\"],[0.5555555555555556,\"#d8576b\"],[0.6666666666666666,\"#ed7953\"],[0.7777777777777778,\"#fb9f3a\"],[0.8888888888888888,\"#fdca26\"],[1.0,\"#f0f921\"]],\"type\":\"heatmap\"}],\"heatmapgl\":[{\"colorbar\":{\"outlinewidth\":0,\"ticks\":\"\"},\"colorscale\":[[0.0,\"#0d0887\"],[0.1111111111111111,\"#46039f\"],[0.2222222222222222,\"#7201a8\"],[0.3333333333333333,\"#9c179e\"],[0.4444444444444444,\"#bd3786\"],[0.5555555555555556,\"#d8576b\"],[0.6666666666666666,\"#ed7953\"],[0.7777777777777778,\"#fb9f3a\"],[0.8888888888888888,\"#fdca26\"],[1.0,\"#f0f921\"]],\"type\":\"heatmapgl\"}],\"histogram\":[{\"marker\":{\"pattern\":{\"fillmode\":\"overlay\",\"size\":10,\"solidity\":0.2}},\"type\":\"histogram\"}],\"histogram2d\":[{\"colorbar\":{\"outlinewidth\":0,\"ticks\":\"\"},\"colorscale\":[[0.0,\"#0d0887\"],[0.1111111111111111,\"#46039f\"],[0.2222222222222222,\"#7201a8\"],[0.3333333333333333,\"#9c179e\"],[0.4444444444444444,\"#bd3786\"],[0.5555555555555556,\"#d8576b\"],[0.6666666666666666,\"#ed7953\"],[0.7777777777777778,\"#fb9f3a\"],[0.8888888888888888,\"#fdca26\"],[1.0,\"#f0f921\"]],\"type\":\"histogram2d\"}],\"histogram2dcontour\":[{\"colorbar\":{\"outlinewidth\":0,\"ticks\":\"\"},\"colorscale\":[[0.0,\"#0d0887\"],[0.1111111111111111,\"#46039f\"],[0.2222222222222222,\"#7201a8\"],[0.3333333333333333,\"#9c179e\"],[0.4444444444444444,\"#bd3786\"],[0.5555555555555556,\"#d8576b\"],[0.6666666666666666,\"#ed7953\"],[0.7777777777777778,\"#fb9f3a\"],[0.8888888888888888,\"#fdca26\"],[1.0,\"#f0f921\"]],\"type\":\"histogram2dcontour\"}],\"mesh3d\":[{\"colorbar\":{\"outlinewidth\":0,\"ticks\":\"\"},\"type\":\"mesh3d\"}],\"parcoords\":[{\"line\":{\"colorbar\":{\"outlinewidth\":0,\"ticks\":\"\"}},\"type\":\"parcoords\"}],\"pie\":[{\"automargin\":true,\"type\":\"pie\"}],\"scatter\":[{\"marker\":{\"colorbar\":{\"outlinewidth\":0,\"ticks\":\"\"}},\"type\":\"scatter\"}],\"scatter3d\":[{\"line\":{\"colorbar\":{\"outlinewidth\":0,\"ticks\":\"\"}},\"marker\":{\"colorbar\":{\"outlinewidth\":0,\"ticks\":\"\"}},\"type\":\"scatter3d\"}],\"scattercarpet\":[{\"marker\":{\"colorbar\":{\"outlinewidth\":0,\"ticks\":\"\"}},\"type\":\"scattercarpet\"}],\"scattergeo\":[{\"marker\":{\"colorbar\":{\"outlinewidth\":0,\"ticks\":\"\"}},\"type\":\"scattergeo\"}],\"scattergl\":[{\"marker\":{\"colorbar\":{\"outlinewidth\":0,\"ticks\":\"\"}},\"type\":\"scattergl\"}],\"scattermapbox\":[{\"marker\":{\"colorbar\":{\"outlinewidth\":0,\"ticks\":\"\"}},\"type\":\"scattermapbox\"}],\"scatterpolar\":[{\"marker\":{\"colorbar\":{\"outlinewidth\":0,\"ticks\":\"\"}},\"type\":\"scatterpolar\"}],\"scatterpolargl\":[{\"marker\":{\"colorbar\":{\"outlinewidth\":0,\"ticks\":\"\"}},\"type\":\"scatterpolargl\"}],\"scatterternary\":[{\"marker\":{\"colorbar\":{\"outlinewidth\":0,\"ticks\":\"\"}},\"type\":\"scatterternary\"}],\"surface\":[{\"colorbar\":{\"outlinewidth\":0,\"ticks\":\"\"},\"colorscale\":[[0.0,\"#0d0887\"],[0.1111111111111111,\"#46039f\"],[0.2222222222222222,\"#7201a8\"],[0.3333333333333333,\"#9c179e\"],[0.4444444444444444,\"#bd3786\"],[0.5555555555555556,\"#d8576b\"],[0.6666666666666666,\"#ed7953\"],[0.7777777777777778,\"#fb9f3a\"],[0.8888888888888888,\"#fdca26\"],[1.0,\"#f0f921\"]],\"type\":\"surface\"}],\"table\":[{\"cells\":{\"fill\":{\"color\":\"#EBF0F8\"},\"line\":{\"color\":\"white\"}},\"header\":{\"fill\":{\"color\":\"#C8D4E3\"},\"line\":{\"color\":\"white\"}},\"type\":\"table\"}]},\"layout\":{\"annotationdefaults\":{\"arrowcolor\":\"#2a3f5f\",\"arrowhead\":0,\"arrowwidth\":1},\"autotypenumbers\":\"strict\",\"coloraxis\":{\"colorbar\":{\"outlinewidth\":0,\"ticks\":\"\"}},\"colorscale\":{\"diverging\":[[0,\"#8e0152\"],[0.1,\"#c51b7d\"],[0.2,\"#de77ae\"],[0.3,\"#f1b6da\"],[0.4,\"#fde0ef\"],[0.5,\"#f7f7f7\"],[0.6,\"#e6f5d0\"],[0.7,\"#b8e186\"],[0.8,\"#7fbc41\"],[0.9,\"#4d9221\"],[1,\"#276419\"]],\"sequential\":[[0.0,\"#0d0887\"],[0.1111111111111111,\"#46039f\"],[0.2222222222222222,\"#7201a8\"],[0.3333333333333333,\"#9c179e\"],[0.4444444444444444,\"#bd3786\"],[0.5555555555555556,\"#d8576b\"],[0.6666666666666666,\"#ed7953\"],[0.7777777777777778,\"#fb9f3a\"],[0.8888888888888888,\"#fdca26\"],[1.0,\"#f0f921\"]],\"sequentialminus\":[[0.0,\"#0d0887\"],[0.1111111111111111,\"#46039f\"],[0.2222222222222222,\"#7201a8\"],[0.3333333333333333,\"#9c179e\"],[0.4444444444444444,\"#bd3786\"],[0.5555555555555556,\"#d8576b\"],[0.6666666666666666,\"#ed7953\"],[0.7777777777777778,\"#fb9f3a\"],[0.8888888888888888,\"#fdca26\"],[1.0,\"#f0f921\"]]},\"colorway\":[\"#636efa\",\"#EF553B\",\"#00cc96\",\"#ab63fa\",\"#FFA15A\",\"#19d3f3\",\"#FF6692\",\"#B6E880\",\"#FF97FF\",\"#FECB52\"],\"font\":{\"color\":\"#2a3f5f\"},\"geo\":{\"bgcolor\":\"white\",\"lakecolor\":\"white\",\"landcolor\":\"#E5ECF6\",\"showlakes\":true,\"showland\":true,\"subunitcolor\":\"white\"},\"hoverlabel\":{\"align\":\"left\"},\"hovermode\":\"closest\",\"mapbox\":{\"style\":\"light\"},\"paper_bgcolor\":\"white\",\"plot_bgcolor\":\"#E5ECF6\",\"polar\":{\"angularaxis\":{\"gridcolor\":\"white\",\"linecolor\":\"white\",\"ticks\":\"\"},\"bgcolor\":\"#E5ECF6\",\"radialaxis\":{\"gridcolor\":\"white\",\"linecolor\":\"white\",\"ticks\":\"\"}},\"scene\":{\"xaxis\":{\"backgroundcolor\":\"#E5ECF6\",\"gridcolor\":\"white\",\"gridwidth\":2,\"linecolor\":\"white\",\"showbackground\":true,\"ticks\":\"\",\"zerolinecolor\":\"white\"},\"yaxis\":{\"backgroundcolor\":\"#E5ECF6\",\"gridcolor\":\"white\",\"gridwidth\":2,\"linecolor\":\"white\",\"showbackground\":true,\"ticks\":\"\",\"zerolinecolor\":\"white\"},\"zaxis\":{\"backgroundcolor\":\"#E5ECF6\",\"gridcolor\":\"white\",\"gridwidth\":2,\"linecolor\":\"white\",\"showbackground\":true,\"ticks\":\"\",\"zerolinecolor\":\"white\"}},\"shapedefaults\":{\"line\":{\"color\":\"#2a3f5f\"}},\"ternary\":{\"aaxis\":{\"gridcolor\":\"white\",\"linecolor\":\"white\",\"ticks\":\"\"},\"baxis\":{\"gridcolor\":\"white\",\"linecolor\":\"white\",\"ticks\":\"\"},\"bgcolor\":\"#E5ECF6\",\"caxis\":{\"gridcolor\":\"white\",\"linecolor\":\"white\",\"ticks\":\"\"}},\"title\":{\"x\":0.05},\"xaxis\":{\"automargin\":true,\"gridcolor\":\"white\",\"linecolor\":\"white\",\"ticks\":\"\",\"title\":{\"standoff\":15},\"zerolinecolor\":\"white\",\"zerolinewidth\":2},\"yaxis\":{\"automargin\":true,\"gridcolor\":\"white\",\"linecolor\":\"white\",\"ticks\":\"\",\"title\":{\"standoff\":15},\"zerolinecolor\":\"white\",\"zerolinewidth\":2}}}},                        {\"responsive\": true}                    ).then(function(){\n",
       "                            \n",
       "var gd = document.getElementById('8e6eeef8-0685-4f6c-ba54-c83ff514ea1a');\n",
       "var x = new MutationObserver(function (mutations, observer) {{\n",
       "        var display = window.getComputedStyle(gd).display;\n",
       "        if (!display || display === 'none') {{\n",
       "            console.log([gd, 'removed!']);\n",
       "            Plotly.purge(gd);\n",
       "            observer.disconnect();\n",
       "        }}\n",
       "}});\n",
       "\n",
       "// Listen for the removal of the full notebook cells\n",
       "var notebookContainer = gd.closest('#notebook-container');\n",
       "if (notebookContainer) {{\n",
       "    x.observe(notebookContainer, {childList: true});\n",
       "}}\n",
       "\n",
       "// Listen for the clearing of the current output cell\n",
       "var outputEl = gd.closest('.output');\n",
       "if (outputEl) {{\n",
       "    x.observe(outputEl, {childList: true});\n",
       "}}\n",
       "\n",
       "                        })                };                });            </script>        </div>"
      ]
     },
     "metadata": {},
     "output_type": "display_data"
    }
   ],
   "source": [
    "data = [trace]\n",
    "iplot(data)"
   ]
  },
  {
   "cell_type": "code",
   "execution_count": 24,
   "metadata": {
    "id": "7ypV8L-WahjV",
    "outputId": "4130a27f-ebe6-4544-d85b-52751167059c"
   },
   "outputs": [
    {
     "data": {
      "application/vnd.plotly.v1+json": {
       "config": {
        "linkText": "Export to plot.ly",
        "plotlyServerURL": "https://plot.ly",
        "showLink": false
       },
       "data": [
        {
         "hoverinfo": "label+percent",
         "labels": [
          "Rent",
          "Food",
          "Bills",
          "Miscellaneous"
         ],
         "marker": {
          "colors": [
           "#d32c58",
           "#f9b1ee",
           "#b7f9b1",
           "#b1f5f9"
          ],
          "line": {
           "color": "#000000",
           "width": 3
          }
         },
         "textfont": {
          "size": 25
         },
         "textinfo": "value",
         "type": "pie",
         "values": [
          1000,
          518,
          331,
          277
         ]
        }
       ],
       "layout": {
        "template": {
         "data": {
          "bar": [
           {
            "error_x": {
             "color": "#2a3f5f"
            },
            "error_y": {
             "color": "#2a3f5f"
            },
            "marker": {
             "line": {
              "color": "#E5ECF6",
              "width": 0.5
             },
             "pattern": {
              "fillmode": "overlay",
              "size": 10,
              "solidity": 0.2
             }
            },
            "type": "bar"
           }
          ],
          "barpolar": [
           {
            "marker": {
             "line": {
              "color": "#E5ECF6",
              "width": 0.5
             },
             "pattern": {
              "fillmode": "overlay",
              "size": 10,
              "solidity": 0.2
             }
            },
            "type": "barpolar"
           }
          ],
          "carpet": [
           {
            "aaxis": {
             "endlinecolor": "#2a3f5f",
             "gridcolor": "white",
             "linecolor": "white",
             "minorgridcolor": "white",
             "startlinecolor": "#2a3f5f"
            },
            "baxis": {
             "endlinecolor": "#2a3f5f",
             "gridcolor": "white",
             "linecolor": "white",
             "minorgridcolor": "white",
             "startlinecolor": "#2a3f5f"
            },
            "type": "carpet"
           }
          ],
          "choropleth": [
           {
            "colorbar": {
             "outlinewidth": 0,
             "ticks": ""
            },
            "type": "choropleth"
           }
          ],
          "contour": [
           {
            "colorbar": {
             "outlinewidth": 0,
             "ticks": ""
            },
            "colorscale": [
             [
              0,
              "#0d0887"
             ],
             [
              0.1111111111111111,
              "#46039f"
             ],
             [
              0.2222222222222222,
              "#7201a8"
             ],
             [
              0.3333333333333333,
              "#9c179e"
             ],
             [
              0.4444444444444444,
              "#bd3786"
             ],
             [
              0.5555555555555556,
              "#d8576b"
             ],
             [
              0.6666666666666666,
              "#ed7953"
             ],
             [
              0.7777777777777778,
              "#fb9f3a"
             ],
             [
              0.8888888888888888,
              "#fdca26"
             ],
             [
              1,
              "#f0f921"
             ]
            ],
            "type": "contour"
           }
          ],
          "contourcarpet": [
           {
            "colorbar": {
             "outlinewidth": 0,
             "ticks": ""
            },
            "type": "contourcarpet"
           }
          ],
          "heatmap": [
           {
            "colorbar": {
             "outlinewidth": 0,
             "ticks": ""
            },
            "colorscale": [
             [
              0,
              "#0d0887"
             ],
             [
              0.1111111111111111,
              "#46039f"
             ],
             [
              0.2222222222222222,
              "#7201a8"
             ],
             [
              0.3333333333333333,
              "#9c179e"
             ],
             [
              0.4444444444444444,
              "#bd3786"
             ],
             [
              0.5555555555555556,
              "#d8576b"
             ],
             [
              0.6666666666666666,
              "#ed7953"
             ],
             [
              0.7777777777777778,
              "#fb9f3a"
             ],
             [
              0.8888888888888888,
              "#fdca26"
             ],
             [
              1,
              "#f0f921"
             ]
            ],
            "type": "heatmap"
           }
          ],
          "heatmapgl": [
           {
            "colorbar": {
             "outlinewidth": 0,
             "ticks": ""
            },
            "colorscale": [
             [
              0,
              "#0d0887"
             ],
             [
              0.1111111111111111,
              "#46039f"
             ],
             [
              0.2222222222222222,
              "#7201a8"
             ],
             [
              0.3333333333333333,
              "#9c179e"
             ],
             [
              0.4444444444444444,
              "#bd3786"
             ],
             [
              0.5555555555555556,
              "#d8576b"
             ],
             [
              0.6666666666666666,
              "#ed7953"
             ],
             [
              0.7777777777777778,
              "#fb9f3a"
             ],
             [
              0.8888888888888888,
              "#fdca26"
             ],
             [
              1,
              "#f0f921"
             ]
            ],
            "type": "heatmapgl"
           }
          ],
          "histogram": [
           {
            "marker": {
             "pattern": {
              "fillmode": "overlay",
              "size": 10,
              "solidity": 0.2
             }
            },
            "type": "histogram"
           }
          ],
          "histogram2d": [
           {
            "colorbar": {
             "outlinewidth": 0,
             "ticks": ""
            },
            "colorscale": [
             [
              0,
              "#0d0887"
             ],
             [
              0.1111111111111111,
              "#46039f"
             ],
             [
              0.2222222222222222,
              "#7201a8"
             ],
             [
              0.3333333333333333,
              "#9c179e"
             ],
             [
              0.4444444444444444,
              "#bd3786"
             ],
             [
              0.5555555555555556,
              "#d8576b"
             ],
             [
              0.6666666666666666,
              "#ed7953"
             ],
             [
              0.7777777777777778,
              "#fb9f3a"
             ],
             [
              0.8888888888888888,
              "#fdca26"
             ],
             [
              1,
              "#f0f921"
             ]
            ],
            "type": "histogram2d"
           }
          ],
          "histogram2dcontour": [
           {
            "colorbar": {
             "outlinewidth": 0,
             "ticks": ""
            },
            "colorscale": [
             [
              0,
              "#0d0887"
             ],
             [
              0.1111111111111111,
              "#46039f"
             ],
             [
              0.2222222222222222,
              "#7201a8"
             ],
             [
              0.3333333333333333,
              "#9c179e"
             ],
             [
              0.4444444444444444,
              "#bd3786"
             ],
             [
              0.5555555555555556,
              "#d8576b"
             ],
             [
              0.6666666666666666,
              "#ed7953"
             ],
             [
              0.7777777777777778,
              "#fb9f3a"
             ],
             [
              0.8888888888888888,
              "#fdca26"
             ],
             [
              1,
              "#f0f921"
             ]
            ],
            "type": "histogram2dcontour"
           }
          ],
          "mesh3d": [
           {
            "colorbar": {
             "outlinewidth": 0,
             "ticks": ""
            },
            "type": "mesh3d"
           }
          ],
          "parcoords": [
           {
            "line": {
             "colorbar": {
              "outlinewidth": 0,
              "ticks": ""
             }
            },
            "type": "parcoords"
           }
          ],
          "pie": [
           {
            "automargin": true,
            "type": "pie"
           }
          ],
          "scatter": [
           {
            "marker": {
             "colorbar": {
              "outlinewidth": 0,
              "ticks": ""
             }
            },
            "type": "scatter"
           }
          ],
          "scatter3d": [
           {
            "line": {
             "colorbar": {
              "outlinewidth": 0,
              "ticks": ""
             }
            },
            "marker": {
             "colorbar": {
              "outlinewidth": 0,
              "ticks": ""
             }
            },
            "type": "scatter3d"
           }
          ],
          "scattercarpet": [
           {
            "marker": {
             "colorbar": {
              "outlinewidth": 0,
              "ticks": ""
             }
            },
            "type": "scattercarpet"
           }
          ],
          "scattergeo": [
           {
            "marker": {
             "colorbar": {
              "outlinewidth": 0,
              "ticks": ""
             }
            },
            "type": "scattergeo"
           }
          ],
          "scattergl": [
           {
            "marker": {
             "colorbar": {
              "outlinewidth": 0,
              "ticks": ""
             }
            },
            "type": "scattergl"
           }
          ],
          "scattermapbox": [
           {
            "marker": {
             "colorbar": {
              "outlinewidth": 0,
              "ticks": ""
             }
            },
            "type": "scattermapbox"
           }
          ],
          "scatterpolar": [
           {
            "marker": {
             "colorbar": {
              "outlinewidth": 0,
              "ticks": ""
             }
            },
            "type": "scatterpolar"
           }
          ],
          "scatterpolargl": [
           {
            "marker": {
             "colorbar": {
              "outlinewidth": 0,
              "ticks": ""
             }
            },
            "type": "scatterpolargl"
           }
          ],
          "scatterternary": [
           {
            "marker": {
             "colorbar": {
              "outlinewidth": 0,
              "ticks": ""
             }
            },
            "type": "scatterternary"
           }
          ],
          "surface": [
           {
            "colorbar": {
             "outlinewidth": 0,
             "ticks": ""
            },
            "colorscale": [
             [
              0,
              "#0d0887"
             ],
             [
              0.1111111111111111,
              "#46039f"
             ],
             [
              0.2222222222222222,
              "#7201a8"
             ],
             [
              0.3333333333333333,
              "#9c179e"
             ],
             [
              0.4444444444444444,
              "#bd3786"
             ],
             [
              0.5555555555555556,
              "#d8576b"
             ],
             [
              0.6666666666666666,
              "#ed7953"
             ],
             [
              0.7777777777777778,
              "#fb9f3a"
             ],
             [
              0.8888888888888888,
              "#fdca26"
             ],
             [
              1,
              "#f0f921"
             ]
            ],
            "type": "surface"
           }
          ],
          "table": [
           {
            "cells": {
             "fill": {
              "color": "#EBF0F8"
             },
             "line": {
              "color": "white"
             }
            },
            "header": {
             "fill": {
              "color": "#C8D4E3"
             },
             "line": {
              "color": "white"
             }
            },
            "type": "table"
           }
          ]
         },
         "layout": {
          "annotationdefaults": {
           "arrowcolor": "#2a3f5f",
           "arrowhead": 0,
           "arrowwidth": 1
          },
          "autotypenumbers": "strict",
          "coloraxis": {
           "colorbar": {
            "outlinewidth": 0,
            "ticks": ""
           }
          },
          "colorscale": {
           "diverging": [
            [
             0,
             "#8e0152"
            ],
            [
             0.1,
             "#c51b7d"
            ],
            [
             0.2,
             "#de77ae"
            ],
            [
             0.3,
             "#f1b6da"
            ],
            [
             0.4,
             "#fde0ef"
            ],
            [
             0.5,
             "#f7f7f7"
            ],
            [
             0.6,
             "#e6f5d0"
            ],
            [
             0.7,
             "#b8e186"
            ],
            [
             0.8,
             "#7fbc41"
            ],
            [
             0.9,
             "#4d9221"
            ],
            [
             1,
             "#276419"
            ]
           ],
           "sequential": [
            [
             0,
             "#0d0887"
            ],
            [
             0.1111111111111111,
             "#46039f"
            ],
            [
             0.2222222222222222,
             "#7201a8"
            ],
            [
             0.3333333333333333,
             "#9c179e"
            ],
            [
             0.4444444444444444,
             "#bd3786"
            ],
            [
             0.5555555555555556,
             "#d8576b"
            ],
            [
             0.6666666666666666,
             "#ed7953"
            ],
            [
             0.7777777777777778,
             "#fb9f3a"
            ],
            [
             0.8888888888888888,
             "#fdca26"
            ],
            [
             1,
             "#f0f921"
            ]
           ],
           "sequentialminus": [
            [
             0,
             "#0d0887"
            ],
            [
             0.1111111111111111,
             "#46039f"
            ],
            [
             0.2222222222222222,
             "#7201a8"
            ],
            [
             0.3333333333333333,
             "#9c179e"
            ],
            [
             0.4444444444444444,
             "#bd3786"
            ],
            [
             0.5555555555555556,
             "#d8576b"
            ],
            [
             0.6666666666666666,
             "#ed7953"
            ],
            [
             0.7777777777777778,
             "#fb9f3a"
            ],
            [
             0.8888888888888888,
             "#fdca26"
            ],
            [
             1,
             "#f0f921"
            ]
           ]
          },
          "colorway": [
           "#636efa",
           "#EF553B",
           "#00cc96",
           "#ab63fa",
           "#FFA15A",
           "#19d3f3",
           "#FF6692",
           "#B6E880",
           "#FF97FF",
           "#FECB52"
          ],
          "font": {
           "color": "#2a3f5f"
          },
          "geo": {
           "bgcolor": "white",
           "lakecolor": "white",
           "landcolor": "#E5ECF6",
           "showlakes": true,
           "showland": true,
           "subunitcolor": "white"
          },
          "hoverlabel": {
           "align": "left"
          },
          "hovermode": "closest",
          "mapbox": {
           "style": "light"
          },
          "paper_bgcolor": "white",
          "plot_bgcolor": "#E5ECF6",
          "polar": {
           "angularaxis": {
            "gridcolor": "white",
            "linecolor": "white",
            "ticks": ""
           },
           "bgcolor": "#E5ECF6",
           "radialaxis": {
            "gridcolor": "white",
            "linecolor": "white",
            "ticks": ""
           }
          },
          "scene": {
           "xaxis": {
            "backgroundcolor": "#E5ECF6",
            "gridcolor": "white",
            "gridwidth": 2,
            "linecolor": "white",
            "showbackground": true,
            "ticks": "",
            "zerolinecolor": "white"
           },
           "yaxis": {
            "backgroundcolor": "#E5ECF6",
            "gridcolor": "white",
            "gridwidth": 2,
            "linecolor": "white",
            "showbackground": true,
            "ticks": "",
            "zerolinecolor": "white"
           },
           "zaxis": {
            "backgroundcolor": "#E5ECF6",
            "gridcolor": "white",
            "gridwidth": 2,
            "linecolor": "white",
            "showbackground": true,
            "ticks": "",
            "zerolinecolor": "white"
           }
          },
          "shapedefaults": {
           "line": {
            "color": "#2a3f5f"
           }
          },
          "ternary": {
           "aaxis": {
            "gridcolor": "white",
            "linecolor": "white",
            "ticks": ""
           },
           "baxis": {
            "gridcolor": "white",
            "linecolor": "white",
            "ticks": ""
           },
           "bgcolor": "#E5ECF6",
           "caxis": {
            "gridcolor": "white",
            "linecolor": "white",
            "ticks": ""
           }
          },
          "title": {
           "x": 0.05
          },
          "xaxis": {
           "automargin": true,
           "gridcolor": "white",
           "linecolor": "white",
           "ticks": "",
           "title": {
            "standoff": 15
           },
           "zerolinecolor": "white",
           "zerolinewidth": 2
          },
          "yaxis": {
           "automargin": true,
           "gridcolor": "white",
           "linecolor": "white",
           "ticks": "",
           "title": {
            "standoff": 15
           },
           "zerolinecolor": "white",
           "zerolinewidth": 2
          }
         }
        }
       }
      },
      "text/html": [
       "<div>                            <div id=\"6ebddd25-92a5-4afe-9438-4aa0e636f24d\" class=\"plotly-graph-div\" style=\"height:525px; width:100%;\"></div>            <script type=\"text/javascript\">                require([\"plotly\"], function(Plotly) {                    window.PLOTLYENV=window.PLOTLYENV || {};                                    if (document.getElementById(\"6ebddd25-92a5-4afe-9438-4aa0e636f24d\")) {                    Plotly.newPlot(                        \"6ebddd25-92a5-4afe-9438-4aa0e636f24d\",                        [{\"hoverinfo\":\"label+percent\",\"labels\":[\"Rent\",\"Food\",\"Bills\",\"Miscellaneous\"],\"marker\":{\"colors\":[\"#d32c58\",\"#f9b1ee\",\"#b7f9b1\",\"#b1f5f9\"],\"line\":{\"color\":\"#000000\",\"width\":3}},\"textfont\":{\"size\":25},\"textinfo\":\"value\",\"type\":\"pie\",\"values\":[1000,518,331,277]}],                        {\"template\":{\"data\":{\"bar\":[{\"error_x\":{\"color\":\"#2a3f5f\"},\"error_y\":{\"color\":\"#2a3f5f\"},\"marker\":{\"line\":{\"color\":\"#E5ECF6\",\"width\":0.5},\"pattern\":{\"fillmode\":\"overlay\",\"size\":10,\"solidity\":0.2}},\"type\":\"bar\"}],\"barpolar\":[{\"marker\":{\"line\":{\"color\":\"#E5ECF6\",\"width\":0.5},\"pattern\":{\"fillmode\":\"overlay\",\"size\":10,\"solidity\":0.2}},\"type\":\"barpolar\"}],\"carpet\":[{\"aaxis\":{\"endlinecolor\":\"#2a3f5f\",\"gridcolor\":\"white\",\"linecolor\":\"white\",\"minorgridcolor\":\"white\",\"startlinecolor\":\"#2a3f5f\"},\"baxis\":{\"endlinecolor\":\"#2a3f5f\",\"gridcolor\":\"white\",\"linecolor\":\"white\",\"minorgridcolor\":\"white\",\"startlinecolor\":\"#2a3f5f\"},\"type\":\"carpet\"}],\"choropleth\":[{\"colorbar\":{\"outlinewidth\":0,\"ticks\":\"\"},\"type\":\"choropleth\"}],\"contour\":[{\"colorbar\":{\"outlinewidth\":0,\"ticks\":\"\"},\"colorscale\":[[0.0,\"#0d0887\"],[0.1111111111111111,\"#46039f\"],[0.2222222222222222,\"#7201a8\"],[0.3333333333333333,\"#9c179e\"],[0.4444444444444444,\"#bd3786\"],[0.5555555555555556,\"#d8576b\"],[0.6666666666666666,\"#ed7953\"],[0.7777777777777778,\"#fb9f3a\"],[0.8888888888888888,\"#fdca26\"],[1.0,\"#f0f921\"]],\"type\":\"contour\"}],\"contourcarpet\":[{\"colorbar\":{\"outlinewidth\":0,\"ticks\":\"\"},\"type\":\"contourcarpet\"}],\"heatmap\":[{\"colorbar\":{\"outlinewidth\":0,\"ticks\":\"\"},\"colorscale\":[[0.0,\"#0d0887\"],[0.1111111111111111,\"#46039f\"],[0.2222222222222222,\"#7201a8\"],[0.3333333333333333,\"#9c179e\"],[0.4444444444444444,\"#bd3786\"],[0.5555555555555556,\"#d8576b\"],[0.6666666666666666,\"#ed7953\"],[0.7777777777777778,\"#fb9f3a\"],[0.8888888888888888,\"#fdca26\"],[1.0,\"#f0f921\"]],\"type\":\"heatmap\"}],\"heatmapgl\":[{\"colorbar\":{\"outlinewidth\":0,\"ticks\":\"\"},\"colorscale\":[[0.0,\"#0d0887\"],[0.1111111111111111,\"#46039f\"],[0.2222222222222222,\"#7201a8\"],[0.3333333333333333,\"#9c179e\"],[0.4444444444444444,\"#bd3786\"],[0.5555555555555556,\"#d8576b\"],[0.6666666666666666,\"#ed7953\"],[0.7777777777777778,\"#fb9f3a\"],[0.8888888888888888,\"#fdca26\"],[1.0,\"#f0f921\"]],\"type\":\"heatmapgl\"}],\"histogram\":[{\"marker\":{\"pattern\":{\"fillmode\":\"overlay\",\"size\":10,\"solidity\":0.2}},\"type\":\"histogram\"}],\"histogram2d\":[{\"colorbar\":{\"outlinewidth\":0,\"ticks\":\"\"},\"colorscale\":[[0.0,\"#0d0887\"],[0.1111111111111111,\"#46039f\"],[0.2222222222222222,\"#7201a8\"],[0.3333333333333333,\"#9c179e\"],[0.4444444444444444,\"#bd3786\"],[0.5555555555555556,\"#d8576b\"],[0.6666666666666666,\"#ed7953\"],[0.7777777777777778,\"#fb9f3a\"],[0.8888888888888888,\"#fdca26\"],[1.0,\"#f0f921\"]],\"type\":\"histogram2d\"}],\"histogram2dcontour\":[{\"colorbar\":{\"outlinewidth\":0,\"ticks\":\"\"},\"colorscale\":[[0.0,\"#0d0887\"],[0.1111111111111111,\"#46039f\"],[0.2222222222222222,\"#7201a8\"],[0.3333333333333333,\"#9c179e\"],[0.4444444444444444,\"#bd3786\"],[0.5555555555555556,\"#d8576b\"],[0.6666666666666666,\"#ed7953\"],[0.7777777777777778,\"#fb9f3a\"],[0.8888888888888888,\"#fdca26\"],[1.0,\"#f0f921\"]],\"type\":\"histogram2dcontour\"}],\"mesh3d\":[{\"colorbar\":{\"outlinewidth\":0,\"ticks\":\"\"},\"type\":\"mesh3d\"}],\"parcoords\":[{\"line\":{\"colorbar\":{\"outlinewidth\":0,\"ticks\":\"\"}},\"type\":\"parcoords\"}],\"pie\":[{\"automargin\":true,\"type\":\"pie\"}],\"scatter\":[{\"marker\":{\"colorbar\":{\"outlinewidth\":0,\"ticks\":\"\"}},\"type\":\"scatter\"}],\"scatter3d\":[{\"line\":{\"colorbar\":{\"outlinewidth\":0,\"ticks\":\"\"}},\"marker\":{\"colorbar\":{\"outlinewidth\":0,\"ticks\":\"\"}},\"type\":\"scatter3d\"}],\"scattercarpet\":[{\"marker\":{\"colorbar\":{\"outlinewidth\":0,\"ticks\":\"\"}},\"type\":\"scattercarpet\"}],\"scattergeo\":[{\"marker\":{\"colorbar\":{\"outlinewidth\":0,\"ticks\":\"\"}},\"type\":\"scattergeo\"}],\"scattergl\":[{\"marker\":{\"colorbar\":{\"outlinewidth\":0,\"ticks\":\"\"}},\"type\":\"scattergl\"}],\"scattermapbox\":[{\"marker\":{\"colorbar\":{\"outlinewidth\":0,\"ticks\":\"\"}},\"type\":\"scattermapbox\"}],\"scatterpolar\":[{\"marker\":{\"colorbar\":{\"outlinewidth\":0,\"ticks\":\"\"}},\"type\":\"scatterpolar\"}],\"scatterpolargl\":[{\"marker\":{\"colorbar\":{\"outlinewidth\":0,\"ticks\":\"\"}},\"type\":\"scatterpolargl\"}],\"scatterternary\":[{\"marker\":{\"colorbar\":{\"outlinewidth\":0,\"ticks\":\"\"}},\"type\":\"scatterternary\"}],\"surface\":[{\"colorbar\":{\"outlinewidth\":0,\"ticks\":\"\"},\"colorscale\":[[0.0,\"#0d0887\"],[0.1111111111111111,\"#46039f\"],[0.2222222222222222,\"#7201a8\"],[0.3333333333333333,\"#9c179e\"],[0.4444444444444444,\"#bd3786\"],[0.5555555555555556,\"#d8576b\"],[0.6666666666666666,\"#ed7953\"],[0.7777777777777778,\"#fb9f3a\"],[0.8888888888888888,\"#fdca26\"],[1.0,\"#f0f921\"]],\"type\":\"surface\"}],\"table\":[{\"cells\":{\"fill\":{\"color\":\"#EBF0F8\"},\"line\":{\"color\":\"white\"}},\"header\":{\"fill\":{\"color\":\"#C8D4E3\"},\"line\":{\"color\":\"white\"}},\"type\":\"table\"}]},\"layout\":{\"annotationdefaults\":{\"arrowcolor\":\"#2a3f5f\",\"arrowhead\":0,\"arrowwidth\":1},\"autotypenumbers\":\"strict\",\"coloraxis\":{\"colorbar\":{\"outlinewidth\":0,\"ticks\":\"\"}},\"colorscale\":{\"diverging\":[[0,\"#8e0152\"],[0.1,\"#c51b7d\"],[0.2,\"#de77ae\"],[0.3,\"#f1b6da\"],[0.4,\"#fde0ef\"],[0.5,\"#f7f7f7\"],[0.6,\"#e6f5d0\"],[0.7,\"#b8e186\"],[0.8,\"#7fbc41\"],[0.9,\"#4d9221\"],[1,\"#276419\"]],\"sequential\":[[0.0,\"#0d0887\"],[0.1111111111111111,\"#46039f\"],[0.2222222222222222,\"#7201a8\"],[0.3333333333333333,\"#9c179e\"],[0.4444444444444444,\"#bd3786\"],[0.5555555555555556,\"#d8576b\"],[0.6666666666666666,\"#ed7953\"],[0.7777777777777778,\"#fb9f3a\"],[0.8888888888888888,\"#fdca26\"],[1.0,\"#f0f921\"]],\"sequentialminus\":[[0.0,\"#0d0887\"],[0.1111111111111111,\"#46039f\"],[0.2222222222222222,\"#7201a8\"],[0.3333333333333333,\"#9c179e\"],[0.4444444444444444,\"#bd3786\"],[0.5555555555555556,\"#d8576b\"],[0.6666666666666666,\"#ed7953\"],[0.7777777777777778,\"#fb9f3a\"],[0.8888888888888888,\"#fdca26\"],[1.0,\"#f0f921\"]]},\"colorway\":[\"#636efa\",\"#EF553B\",\"#00cc96\",\"#ab63fa\",\"#FFA15A\",\"#19d3f3\",\"#FF6692\",\"#B6E880\",\"#FF97FF\",\"#FECB52\"],\"font\":{\"color\":\"#2a3f5f\"},\"geo\":{\"bgcolor\":\"white\",\"lakecolor\":\"white\",\"landcolor\":\"#E5ECF6\",\"showlakes\":true,\"showland\":true,\"subunitcolor\":\"white\"},\"hoverlabel\":{\"align\":\"left\"},\"hovermode\":\"closest\",\"mapbox\":{\"style\":\"light\"},\"paper_bgcolor\":\"white\",\"plot_bgcolor\":\"#E5ECF6\",\"polar\":{\"angularaxis\":{\"gridcolor\":\"white\",\"linecolor\":\"white\",\"ticks\":\"\"},\"bgcolor\":\"#E5ECF6\",\"radialaxis\":{\"gridcolor\":\"white\",\"linecolor\":\"white\",\"ticks\":\"\"}},\"scene\":{\"xaxis\":{\"backgroundcolor\":\"#E5ECF6\",\"gridcolor\":\"white\",\"gridwidth\":2,\"linecolor\":\"white\",\"showbackground\":true,\"ticks\":\"\",\"zerolinecolor\":\"white\"},\"yaxis\":{\"backgroundcolor\":\"#E5ECF6\",\"gridcolor\":\"white\",\"gridwidth\":2,\"linecolor\":\"white\",\"showbackground\":true,\"ticks\":\"\",\"zerolinecolor\":\"white\"},\"zaxis\":{\"backgroundcolor\":\"#E5ECF6\",\"gridcolor\":\"white\",\"gridwidth\":2,\"linecolor\":\"white\",\"showbackground\":true,\"ticks\":\"\",\"zerolinecolor\":\"white\"}},\"shapedefaults\":{\"line\":{\"color\":\"#2a3f5f\"}},\"ternary\":{\"aaxis\":{\"gridcolor\":\"white\",\"linecolor\":\"white\",\"ticks\":\"\"},\"baxis\":{\"gridcolor\":\"white\",\"linecolor\":\"white\",\"ticks\":\"\"},\"bgcolor\":\"#E5ECF6\",\"caxis\":{\"gridcolor\":\"white\",\"linecolor\":\"white\",\"ticks\":\"\"}},\"title\":{\"x\":0.05},\"xaxis\":{\"automargin\":true,\"gridcolor\":\"white\",\"linecolor\":\"white\",\"ticks\":\"\",\"title\":{\"standoff\":15},\"zerolinecolor\":\"white\",\"zerolinewidth\":2},\"yaxis\":{\"automargin\":true,\"gridcolor\":\"white\",\"linecolor\":\"white\",\"ticks\":\"\",\"title\":{\"standoff\":15},\"zerolinecolor\":\"white\",\"zerolinewidth\":2}}}},                        {\"responsive\": true}                    ).then(function(){\n",
       "                            \n",
       "var gd = document.getElementById('6ebddd25-92a5-4afe-9438-4aa0e636f24d');\n",
       "var x = new MutationObserver(function (mutations, observer) {{\n",
       "        var display = window.getComputedStyle(gd).display;\n",
       "        if (!display || display === 'none') {{\n",
       "            console.log([gd, 'removed!']);\n",
       "            Plotly.purge(gd);\n",
       "            observer.disconnect();\n",
       "        }}\n",
       "}});\n",
       "\n",
       "// Listen for the removal of the full notebook cells\n",
       "var notebookContainer = gd.closest('#notebook-container');\n",
       "if (notebookContainer) {{\n",
       "    x.observe(notebookContainer, {childList: true});\n",
       "}}\n",
       "\n",
       "// Listen for the clearing of the current output cell\n",
       "var outputEl = gd.closest('.output');\n",
       "if (outputEl) {{\n",
       "    x.observe(outputEl, {childList: true});\n",
       "}}\n",
       "\n",
       "                        })                };                });            </script>        </div>"
      ]
     },
     "metadata": {},
     "output_type": "display_data"
    }
   ],
   "source": [
    "#Expenses\n",
    "\n",
    "#breakdown each category \n",
    "groups = ['Rent','Food','Bills','Miscellaneous']\n",
    "#create amount\n",
    "amount = [1000,518,331,277]\n",
    "#style\n",
    "colors = ['#d32c58', '#f9b1ee', '#b7f9b1', '#b1f5f9']\n",
    "\n",
    "trace = go.Pie(labels=groups, values=amount,\n",
    "               hoverinfo='label+percent', textinfo='value', \n",
    "               textfont=dict(size=25),\n",
    "               marker=dict(colors=colors, \n",
    "                           line=dict(color='#000000', width=3)))\n",
    "\n",
    "#plot - \n",
    "iplot([trace])"
   ]
  },
  {
   "cell_type": "markdown",
   "metadata": {
    "id": "J_Y3kTpIahjV"
   },
   "source": [
    "## <center> Episode 3 </center>"
   ]
  },
  {
   "cell_type": "code",
   "execution_count": 25,
   "metadata": {
    "id": "zWedAWbIahjW"
   },
   "outputs": [],
   "source": [
    "import pandas as pd"
   ]
  },
  {
   "cell_type": "code",
   "execution_count": 26,
   "metadata": {
    "id": "1cYt-aA_ahjW"
   },
   "outputs": [],
   "source": [
    "pubg = pd.read_csv('P48-Custom-Data-PUBG.csv')\n",
    "#pubg.head(10)\n",
    "df_pubg = pubg.apply(pd.to_numeric, errors='ignore')\n",
    "df_new_pubg = df_pubg.head(10)"
   ]
  },
  {
   "cell_type": "code",
   "execution_count": 27,
   "metadata": {
    "id": "FjOzFTLpahjW",
    "outputId": "5d469e08-ea31-4836-f035-5031272b5766"
   },
   "outputs": [
    {
     "data": {
      "text/html": [
       "<div>\n",
       "<style scoped>\n",
       "    .dataframe tbody tr th:only-of-type {\n",
       "        vertical-align: middle;\n",
       "    }\n",
       "\n",
       "    .dataframe tbody tr th {\n",
       "        vertical-align: top;\n",
       "    }\n",
       "\n",
       "    .dataframe thead th {\n",
       "        text-align: right;\n",
       "    }\n",
       "</style>\n",
       "<table border=\"1\" class=\"dataframe\">\n",
       "  <thead>\n",
       "    <tr style=\"text-align: right;\">\n",
       "      <th></th>\n",
       "      <th>player_name</th>\n",
       "      <th>tracker_id</th>\n",
       "      <th>solo_KillDeathRatio</th>\n",
       "      <th>solo_WinRatio</th>\n",
       "      <th>solo_TimeSurvived</th>\n",
       "      <th>solo_RoundsPlayed</th>\n",
       "      <th>solo_Wins</th>\n",
       "      <th>solo_WinTop10Ratio</th>\n",
       "      <th>solo_Top10s</th>\n",
       "      <th>solo_Top10Ratio</th>\n",
       "      <th>...</th>\n",
       "      <th>squad_RideDistance</th>\n",
       "      <th>squad_MoveDistance</th>\n",
       "      <th>squad_AvgWalkDistance</th>\n",
       "      <th>squad_AvgRideDistance</th>\n",
       "      <th>squad_LongestKill</th>\n",
       "      <th>squad_Heals</th>\n",
       "      <th>squad_Revives</th>\n",
       "      <th>squad_Boosts</th>\n",
       "      <th>squad_DamageDealt</th>\n",
       "      <th>squad_DBNOs</th>\n",
       "    </tr>\n",
       "  </thead>\n",
       "  <tbody>\n",
       "    <tr>\n",
       "      <th>0</th>\n",
       "      <td>BreakNeck</td>\n",
       "      <td>4405</td>\n",
       "      <td>3.14</td>\n",
       "      <td>17.65</td>\n",
       "      <td>18469.14</td>\n",
       "      <td>17</td>\n",
       "      <td>3</td>\n",
       "      <td>0.83</td>\n",
       "      <td>4</td>\n",
       "      <td>23.5</td>\n",
       "      <td>...</td>\n",
       "      <td>3751590.99</td>\n",
       "      <td>5194786.58</td>\n",
       "      <td>2626.97</td>\n",
       "      <td>4372.64</td>\n",
       "      <td>536.98</td>\n",
       "      <td>2186</td>\n",
       "      <td>234</td>\n",
       "      <td>1884</td>\n",
       "      <td>242132.73</td>\n",
       "      <td>1448</td>\n",
       "    </tr>\n",
       "    <tr>\n",
       "      <th>1</th>\n",
       "      <td>Blackwalk</td>\n",
       "      <td>8199</td>\n",
       "      <td>4.41</td>\n",
       "      <td>18.18</td>\n",
       "      <td>33014.86</td>\n",
       "      <td>33</td>\n",
       "      <td>6</td>\n",
       "      <td>0.36</td>\n",
       "      <td>11</td>\n",
       "      <td>33.3</td>\n",
       "      <td>...</td>\n",
       "      <td>4295917.30</td>\n",
       "      <td>6051783.67</td>\n",
       "      <td>2422.48</td>\n",
       "      <td>6009.73</td>\n",
       "      <td>734.85</td>\n",
       "      <td>2041</td>\n",
       "      <td>276</td>\n",
       "      <td>2340</td>\n",
       "      <td>269795.75</td>\n",
       "      <td>1724</td>\n",
       "    </tr>\n",
       "    <tr>\n",
       "      <th>2</th>\n",
       "      <td>mercedes_benz</td>\n",
       "      <td>4454</td>\n",
       "      <td>3.60</td>\n",
       "      <td>0.00</td>\n",
       "      <td>4330.44</td>\n",
       "      <td>5</td>\n",
       "      <td>0</td>\n",
       "      <td>0.00</td>\n",
       "      <td>1</td>\n",
       "      <td>20.0</td>\n",
       "      <td>...</td>\n",
       "      <td>3935265.63</td>\n",
       "      <td>5589608.74</td>\n",
       "      <td>1871.89</td>\n",
       "      <td>3011.87</td>\n",
       "      <td>725.44</td>\n",
       "      <td>1766</td>\n",
       "      <td>210</td>\n",
       "      <td>2193</td>\n",
       "      <td>292977.07</td>\n",
       "      <td>1897</td>\n",
       "    </tr>\n",
       "    <tr>\n",
       "      <th>3</th>\n",
       "      <td>DORA</td>\n",
       "      <td>7729</td>\n",
       "      <td>14.00</td>\n",
       "      <td>50.00</td>\n",
       "      <td>13421.82</td>\n",
       "      <td>8</td>\n",
       "      <td>4</td>\n",
       "      <td>0.67</td>\n",
       "      <td>6</td>\n",
       "      <td>75.0</td>\n",
       "      <td>...</td>\n",
       "      <td>2738998.00</td>\n",
       "      <td>3796916.00</td>\n",
       "      <td>2154.62</td>\n",
       "      <td>5578.41</td>\n",
       "      <td>587.28</td>\n",
       "      <td>1214</td>\n",
       "      <td>142</td>\n",
       "      <td>1252</td>\n",
       "      <td>181106.90</td>\n",
       "      <td>1057</td>\n",
       "    </tr>\n",
       "    <tr>\n",
       "      <th>4</th>\n",
       "      <td>n2tstar</td>\n",
       "      <td>0</td>\n",
       "      <td>10.50</td>\n",
       "      <td>33.33</td>\n",
       "      <td>9841.04</td>\n",
       "      <td>6</td>\n",
       "      <td>2</td>\n",
       "      <td>0.40</td>\n",
       "      <td>5</td>\n",
       "      <td>83.3</td>\n",
       "      <td>...</td>\n",
       "      <td>2347295.00</td>\n",
       "      <td>3220260.00</td>\n",
       "      <td>2098.47</td>\n",
       "      <td>5642.54</td>\n",
       "      <td>546.10</td>\n",
       "      <td>1245</td>\n",
       "      <td>120</td>\n",
       "      <td>923</td>\n",
       "      <td>160029.80</td>\n",
       "      <td>1077</td>\n",
       "    </tr>\n",
       "    <tr>\n",
       "      <th>5</th>\n",
       "      <td>coldoxygen</td>\n",
       "      <td>33313</td>\n",
       "      <td>5.73</td>\n",
       "      <td>31.25</td>\n",
       "      <td>22003.22</td>\n",
       "      <td>16</td>\n",
       "      <td>5</td>\n",
       "      <td>0.50</td>\n",
       "      <td>10</td>\n",
       "      <td>62.5</td>\n",
       "      <td>...</td>\n",
       "      <td>3218436.00</td>\n",
       "      <td>4733977.00</td>\n",
       "      <td>2078.93</td>\n",
       "      <td>4414.86</td>\n",
       "      <td>1212.76</td>\n",
       "      <td>2023</td>\n",
       "      <td>195</td>\n",
       "      <td>2307</td>\n",
       "      <td>238640.00</td>\n",
       "      <td>1450</td>\n",
       "    </tr>\n",
       "    <tr>\n",
       "      <th>6</th>\n",
       "      <td>Giken</td>\n",
       "      <td>15585</td>\n",
       "      <td>2.45</td>\n",
       "      <td>8.45</td>\n",
       "      <td>148051.25</td>\n",
       "      <td>142</td>\n",
       "      <td>12</td>\n",
       "      <td>0.18</td>\n",
       "      <td>34</td>\n",
       "      <td>23.9</td>\n",
       "      <td>...</td>\n",
       "      <td>2057423.12</td>\n",
       "      <td>2883099.31</td>\n",
       "      <td>1664.77</td>\n",
       "      <td>3022.51</td>\n",
       "      <td>564.20</td>\n",
       "      <td>1274</td>\n",
       "      <td>133</td>\n",
       "      <td>1320</td>\n",
       "      <td>132008.88</td>\n",
       "      <td>775</td>\n",
       "    </tr>\n",
       "    <tr>\n",
       "      <th>7</th>\n",
       "      <td>KoreaNo1</td>\n",
       "      <td>9454</td>\n",
       "      <td>2.71</td>\n",
       "      <td>26.32</td>\n",
       "      <td>26091.14</td>\n",
       "      <td>19</td>\n",
       "      <td>5</td>\n",
       "      <td>0.50</td>\n",
       "      <td>10</td>\n",
       "      <td>52.6</td>\n",
       "      <td>...</td>\n",
       "      <td>3586593.00</td>\n",
       "      <td>4854387.00</td>\n",
       "      <td>1635.86</td>\n",
       "      <td>4627.86</td>\n",
       "      <td>806.24</td>\n",
       "      <td>2199</td>\n",
       "      <td>163</td>\n",
       "      <td>1864</td>\n",
       "      <td>201659.00</td>\n",
       "      <td>1287</td>\n",
       "    </tr>\n",
       "    <tr>\n",
       "      <th>8</th>\n",
       "      <td>undor</td>\n",
       "      <td>24029</td>\n",
       "      <td>3.68</td>\n",
       "      <td>13.64</td>\n",
       "      <td>49282.41</td>\n",
       "      <td>44</td>\n",
       "      <td>6</td>\n",
       "      <td>0.23</td>\n",
       "      <td>13</td>\n",
       "      <td>29.5</td>\n",
       "      <td>...</td>\n",
       "      <td>1054263.00</td>\n",
       "      <td>1550975.00</td>\n",
       "      <td>2207.61</td>\n",
       "      <td>4685.61</td>\n",
       "      <td>455.67</td>\n",
       "      <td>617</td>\n",
       "      <td>61</td>\n",
       "      <td>585</td>\n",
       "      <td>80498.73</td>\n",
       "      <td>513</td>\n",
       "    </tr>\n",
       "    <tr>\n",
       "      <th>9</th>\n",
       "      <td>Fordune</td>\n",
       "      <td>11289</td>\n",
       "      <td>4.17</td>\n",
       "      <td>25.00</td>\n",
       "      <td>10280.77</td>\n",
       "      <td>8</td>\n",
       "      <td>2</td>\n",
       "      <td>0.25</td>\n",
       "      <td>4</td>\n",
       "      <td>50.0</td>\n",
       "      <td>...</td>\n",
       "      <td>2793909.91</td>\n",
       "      <td>4071039.87</td>\n",
       "      <td>1981.29</td>\n",
       "      <td>3635.28</td>\n",
       "      <td>546.95</td>\n",
       "      <td>1320</td>\n",
       "      <td>220</td>\n",
       "      <td>1338</td>\n",
       "      <td>123573.74</td>\n",
       "      <td>675</td>\n",
       "    </tr>\n",
       "  </tbody>\n",
       "</table>\n",
       "<p>10 rows × 152 columns</p>\n",
       "</div>"
      ],
      "text/plain": [
       "     player_name  tracker_id  solo_KillDeathRatio  solo_WinRatio  \\\n",
       "0      BreakNeck        4405                 3.14          17.65   \n",
       "1      Blackwalk        8199                 4.41          18.18   \n",
       "2  mercedes_benz        4454                 3.60           0.00   \n",
       "3           DORA        7729                14.00          50.00   \n",
       "4        n2tstar           0                10.50          33.33   \n",
       "5     coldoxygen       33313                 5.73          31.25   \n",
       "6          Giken       15585                 2.45           8.45   \n",
       "7       KoreaNo1        9454                 2.71          26.32   \n",
       "8          undor       24029                 3.68          13.64   \n",
       "9        Fordune       11289                 4.17          25.00   \n",
       "\n",
       "   solo_TimeSurvived  solo_RoundsPlayed  solo_Wins  solo_WinTop10Ratio  \\\n",
       "0           18469.14                 17          3                0.83   \n",
       "1           33014.86                 33          6                0.36   \n",
       "2            4330.44                  5          0                0.00   \n",
       "3           13421.82                  8          4                0.67   \n",
       "4            9841.04                  6          2                0.40   \n",
       "5           22003.22                 16          5                0.50   \n",
       "6          148051.25                142         12                0.18   \n",
       "7           26091.14                 19          5                0.50   \n",
       "8           49282.41                 44          6                0.23   \n",
       "9           10280.77                  8          2                0.25   \n",
       "\n",
       "   solo_Top10s  solo_Top10Ratio  ...  squad_RideDistance  squad_MoveDistance  \\\n",
       "0            4             23.5  ...          3751590.99          5194786.58   \n",
       "1           11             33.3  ...          4295917.30          6051783.67   \n",
       "2            1             20.0  ...          3935265.63          5589608.74   \n",
       "3            6             75.0  ...          2738998.00          3796916.00   \n",
       "4            5             83.3  ...          2347295.00          3220260.00   \n",
       "5           10             62.5  ...          3218436.00          4733977.00   \n",
       "6           34             23.9  ...          2057423.12          2883099.31   \n",
       "7           10             52.6  ...          3586593.00          4854387.00   \n",
       "8           13             29.5  ...          1054263.00          1550975.00   \n",
       "9            4             50.0  ...          2793909.91          4071039.87   \n",
       "\n",
       "   squad_AvgWalkDistance  squad_AvgRideDistance  squad_LongestKill  \\\n",
       "0                2626.97                4372.64             536.98   \n",
       "1                2422.48                6009.73             734.85   \n",
       "2                1871.89                3011.87             725.44   \n",
       "3                2154.62                5578.41             587.28   \n",
       "4                2098.47                5642.54             546.10   \n",
       "5                2078.93                4414.86            1212.76   \n",
       "6                1664.77                3022.51             564.20   \n",
       "7                1635.86                4627.86             806.24   \n",
       "8                2207.61                4685.61             455.67   \n",
       "9                1981.29                3635.28             546.95   \n",
       "\n",
       "   squad_Heals  squad_Revives  squad_Boosts  squad_DamageDealt  squad_DBNOs  \n",
       "0         2186            234          1884          242132.73         1448  \n",
       "1         2041            276          2340          269795.75         1724  \n",
       "2         1766            210          2193          292977.07         1897  \n",
       "3         1214            142          1252          181106.90         1057  \n",
       "4         1245            120           923          160029.80         1077  \n",
       "5         2023            195          2307          238640.00         1450  \n",
       "6         1274            133          1320          132008.88          775  \n",
       "7         2199            163          1864          201659.00         1287  \n",
       "8          617             61           585           80498.73          513  \n",
       "9         1320            220          1338          123573.74          675  \n",
       "\n",
       "[10 rows x 152 columns]"
      ]
     },
     "execution_count": 27,
     "metadata": {},
     "output_type": "execute_result"
    }
   ],
   "source": [
    "df_new_pubg.head(10)"
   ]
  },
  {
   "cell_type": "code",
   "execution_count": 28,
   "metadata": {
    "id": "w-nAWNPoahjW",
    "outputId": "19abe705-93c7-4be0-a687-0b034a9179df"
   },
   "outputs": [
    {
     "data": {
      "application/vnd.plotly.v1+json": {
       "config": {
        "linkText": "Export to plot.ly",
        "plotlyServerURL": "https://plot.ly",
        "showLink": false
       },
       "data": [
        {
         "name": "Rounds Won",
         "type": "scatter",
         "x": [
          17,
          33,
          5,
          8,
          6,
          16,
          142,
          19,
          44,
          8
         ],
         "y": [
          3,
          6,
          0,
          4,
          2,
          5,
          12,
          5,
          6,
          2
         ]
        }
       ],
       "layout": {
        "plot_bgcolor": "rgb(230, 230,230)",
        "showlegend": true,
        "template": {
         "data": {
          "bar": [
           {
            "error_x": {
             "color": "#2a3f5f"
            },
            "error_y": {
             "color": "#2a3f5f"
            },
            "marker": {
             "line": {
              "color": "#E5ECF6",
              "width": 0.5
             },
             "pattern": {
              "fillmode": "overlay",
              "size": 10,
              "solidity": 0.2
             }
            },
            "type": "bar"
           }
          ],
          "barpolar": [
           {
            "marker": {
             "line": {
              "color": "#E5ECF6",
              "width": 0.5
             },
             "pattern": {
              "fillmode": "overlay",
              "size": 10,
              "solidity": 0.2
             }
            },
            "type": "barpolar"
           }
          ],
          "carpet": [
           {
            "aaxis": {
             "endlinecolor": "#2a3f5f",
             "gridcolor": "white",
             "linecolor": "white",
             "minorgridcolor": "white",
             "startlinecolor": "#2a3f5f"
            },
            "baxis": {
             "endlinecolor": "#2a3f5f",
             "gridcolor": "white",
             "linecolor": "white",
             "minorgridcolor": "white",
             "startlinecolor": "#2a3f5f"
            },
            "type": "carpet"
           }
          ],
          "choropleth": [
           {
            "colorbar": {
             "outlinewidth": 0,
             "ticks": ""
            },
            "type": "choropleth"
           }
          ],
          "contour": [
           {
            "colorbar": {
             "outlinewidth": 0,
             "ticks": ""
            },
            "colorscale": [
             [
              0,
              "#0d0887"
             ],
             [
              0.1111111111111111,
              "#46039f"
             ],
             [
              0.2222222222222222,
              "#7201a8"
             ],
             [
              0.3333333333333333,
              "#9c179e"
             ],
             [
              0.4444444444444444,
              "#bd3786"
             ],
             [
              0.5555555555555556,
              "#d8576b"
             ],
             [
              0.6666666666666666,
              "#ed7953"
             ],
             [
              0.7777777777777778,
              "#fb9f3a"
             ],
             [
              0.8888888888888888,
              "#fdca26"
             ],
             [
              1,
              "#f0f921"
             ]
            ],
            "type": "contour"
           }
          ],
          "contourcarpet": [
           {
            "colorbar": {
             "outlinewidth": 0,
             "ticks": ""
            },
            "type": "contourcarpet"
           }
          ],
          "heatmap": [
           {
            "colorbar": {
             "outlinewidth": 0,
             "ticks": ""
            },
            "colorscale": [
             [
              0,
              "#0d0887"
             ],
             [
              0.1111111111111111,
              "#46039f"
             ],
             [
              0.2222222222222222,
              "#7201a8"
             ],
             [
              0.3333333333333333,
              "#9c179e"
             ],
             [
              0.4444444444444444,
              "#bd3786"
             ],
             [
              0.5555555555555556,
              "#d8576b"
             ],
             [
              0.6666666666666666,
              "#ed7953"
             ],
             [
              0.7777777777777778,
              "#fb9f3a"
             ],
             [
              0.8888888888888888,
              "#fdca26"
             ],
             [
              1,
              "#f0f921"
             ]
            ],
            "type": "heatmap"
           }
          ],
          "heatmapgl": [
           {
            "colorbar": {
             "outlinewidth": 0,
             "ticks": ""
            },
            "colorscale": [
             [
              0,
              "#0d0887"
             ],
             [
              0.1111111111111111,
              "#46039f"
             ],
             [
              0.2222222222222222,
              "#7201a8"
             ],
             [
              0.3333333333333333,
              "#9c179e"
             ],
             [
              0.4444444444444444,
              "#bd3786"
             ],
             [
              0.5555555555555556,
              "#d8576b"
             ],
             [
              0.6666666666666666,
              "#ed7953"
             ],
             [
              0.7777777777777778,
              "#fb9f3a"
             ],
             [
              0.8888888888888888,
              "#fdca26"
             ],
             [
              1,
              "#f0f921"
             ]
            ],
            "type": "heatmapgl"
           }
          ],
          "histogram": [
           {
            "marker": {
             "pattern": {
              "fillmode": "overlay",
              "size": 10,
              "solidity": 0.2
             }
            },
            "type": "histogram"
           }
          ],
          "histogram2d": [
           {
            "colorbar": {
             "outlinewidth": 0,
             "ticks": ""
            },
            "colorscale": [
             [
              0,
              "#0d0887"
             ],
             [
              0.1111111111111111,
              "#46039f"
             ],
             [
              0.2222222222222222,
              "#7201a8"
             ],
             [
              0.3333333333333333,
              "#9c179e"
             ],
             [
              0.4444444444444444,
              "#bd3786"
             ],
             [
              0.5555555555555556,
              "#d8576b"
             ],
             [
              0.6666666666666666,
              "#ed7953"
             ],
             [
              0.7777777777777778,
              "#fb9f3a"
             ],
             [
              0.8888888888888888,
              "#fdca26"
             ],
             [
              1,
              "#f0f921"
             ]
            ],
            "type": "histogram2d"
           }
          ],
          "histogram2dcontour": [
           {
            "colorbar": {
             "outlinewidth": 0,
             "ticks": ""
            },
            "colorscale": [
             [
              0,
              "#0d0887"
             ],
             [
              0.1111111111111111,
              "#46039f"
             ],
             [
              0.2222222222222222,
              "#7201a8"
             ],
             [
              0.3333333333333333,
              "#9c179e"
             ],
             [
              0.4444444444444444,
              "#bd3786"
             ],
             [
              0.5555555555555556,
              "#d8576b"
             ],
             [
              0.6666666666666666,
              "#ed7953"
             ],
             [
              0.7777777777777778,
              "#fb9f3a"
             ],
             [
              0.8888888888888888,
              "#fdca26"
             ],
             [
              1,
              "#f0f921"
             ]
            ],
            "type": "histogram2dcontour"
           }
          ],
          "mesh3d": [
           {
            "colorbar": {
             "outlinewidth": 0,
             "ticks": ""
            },
            "type": "mesh3d"
           }
          ],
          "parcoords": [
           {
            "line": {
             "colorbar": {
              "outlinewidth": 0,
              "ticks": ""
             }
            },
            "type": "parcoords"
           }
          ],
          "pie": [
           {
            "automargin": true,
            "type": "pie"
           }
          ],
          "scatter": [
           {
            "marker": {
             "colorbar": {
              "outlinewidth": 0,
              "ticks": ""
             }
            },
            "type": "scatter"
           }
          ],
          "scatter3d": [
           {
            "line": {
             "colorbar": {
              "outlinewidth": 0,
              "ticks": ""
             }
            },
            "marker": {
             "colorbar": {
              "outlinewidth": 0,
              "ticks": ""
             }
            },
            "type": "scatter3d"
           }
          ],
          "scattercarpet": [
           {
            "marker": {
             "colorbar": {
              "outlinewidth": 0,
              "ticks": ""
             }
            },
            "type": "scattercarpet"
           }
          ],
          "scattergeo": [
           {
            "marker": {
             "colorbar": {
              "outlinewidth": 0,
              "ticks": ""
             }
            },
            "type": "scattergeo"
           }
          ],
          "scattergl": [
           {
            "marker": {
             "colorbar": {
              "outlinewidth": 0,
              "ticks": ""
             }
            },
            "type": "scattergl"
           }
          ],
          "scattermapbox": [
           {
            "marker": {
             "colorbar": {
              "outlinewidth": 0,
              "ticks": ""
             }
            },
            "type": "scattermapbox"
           }
          ],
          "scatterpolar": [
           {
            "marker": {
             "colorbar": {
              "outlinewidth": 0,
              "ticks": ""
             }
            },
            "type": "scatterpolar"
           }
          ],
          "scatterpolargl": [
           {
            "marker": {
             "colorbar": {
              "outlinewidth": 0,
              "ticks": ""
             }
            },
            "type": "scatterpolargl"
           }
          ],
          "scatterternary": [
           {
            "marker": {
             "colorbar": {
              "outlinewidth": 0,
              "ticks": ""
             }
            },
            "type": "scatterternary"
           }
          ],
          "surface": [
           {
            "colorbar": {
             "outlinewidth": 0,
             "ticks": ""
            },
            "colorscale": [
             [
              0,
              "#0d0887"
             ],
             [
              0.1111111111111111,
              "#46039f"
             ],
             [
              0.2222222222222222,
              "#7201a8"
             ],
             [
              0.3333333333333333,
              "#9c179e"
             ],
             [
              0.4444444444444444,
              "#bd3786"
             ],
             [
              0.5555555555555556,
              "#d8576b"
             ],
             [
              0.6666666666666666,
              "#ed7953"
             ],
             [
              0.7777777777777778,
              "#fb9f3a"
             ],
             [
              0.8888888888888888,
              "#fdca26"
             ],
             [
              1,
              "#f0f921"
             ]
            ],
            "type": "surface"
           }
          ],
          "table": [
           {
            "cells": {
             "fill": {
              "color": "#EBF0F8"
             },
             "line": {
              "color": "white"
             }
            },
            "header": {
             "fill": {
              "color": "#C8D4E3"
             },
             "line": {
              "color": "white"
             }
            },
            "type": "table"
           }
          ]
         },
         "layout": {
          "annotationdefaults": {
           "arrowcolor": "#2a3f5f",
           "arrowhead": 0,
           "arrowwidth": 1
          },
          "autotypenumbers": "strict",
          "coloraxis": {
           "colorbar": {
            "outlinewidth": 0,
            "ticks": ""
           }
          },
          "colorscale": {
           "diverging": [
            [
             0,
             "#8e0152"
            ],
            [
             0.1,
             "#c51b7d"
            ],
            [
             0.2,
             "#de77ae"
            ],
            [
             0.3,
             "#f1b6da"
            ],
            [
             0.4,
             "#fde0ef"
            ],
            [
             0.5,
             "#f7f7f7"
            ],
            [
             0.6,
             "#e6f5d0"
            ],
            [
             0.7,
             "#b8e186"
            ],
            [
             0.8,
             "#7fbc41"
            ],
            [
             0.9,
             "#4d9221"
            ],
            [
             1,
             "#276419"
            ]
           ],
           "sequential": [
            [
             0,
             "#0d0887"
            ],
            [
             0.1111111111111111,
             "#46039f"
            ],
            [
             0.2222222222222222,
             "#7201a8"
            ],
            [
             0.3333333333333333,
             "#9c179e"
            ],
            [
             0.4444444444444444,
             "#bd3786"
            ],
            [
             0.5555555555555556,
             "#d8576b"
            ],
            [
             0.6666666666666666,
             "#ed7953"
            ],
            [
             0.7777777777777778,
             "#fb9f3a"
            ],
            [
             0.8888888888888888,
             "#fdca26"
            ],
            [
             1,
             "#f0f921"
            ]
           ],
           "sequentialminus": [
            [
             0,
             "#0d0887"
            ],
            [
             0.1111111111111111,
             "#46039f"
            ],
            [
             0.2222222222222222,
             "#7201a8"
            ],
            [
             0.3333333333333333,
             "#9c179e"
            ],
            [
             0.4444444444444444,
             "#bd3786"
            ],
            [
             0.5555555555555556,
             "#d8576b"
            ],
            [
             0.6666666666666666,
             "#ed7953"
            ],
            [
             0.7777777777777778,
             "#fb9f3a"
            ],
            [
             0.8888888888888888,
             "#fdca26"
            ],
            [
             1,
             "#f0f921"
            ]
           ]
          },
          "colorway": [
           "#636efa",
           "#EF553B",
           "#00cc96",
           "#ab63fa",
           "#FFA15A",
           "#19d3f3",
           "#FF6692",
           "#B6E880",
           "#FF97FF",
           "#FECB52"
          ],
          "font": {
           "color": "#2a3f5f"
          },
          "geo": {
           "bgcolor": "white",
           "lakecolor": "white",
           "landcolor": "#E5ECF6",
           "showlakes": true,
           "showland": true,
           "subunitcolor": "white"
          },
          "hoverlabel": {
           "align": "left"
          },
          "hovermode": "closest",
          "mapbox": {
           "style": "light"
          },
          "paper_bgcolor": "white",
          "plot_bgcolor": "#E5ECF6",
          "polar": {
           "angularaxis": {
            "gridcolor": "white",
            "linecolor": "white",
            "ticks": ""
           },
           "bgcolor": "#E5ECF6",
           "radialaxis": {
            "gridcolor": "white",
            "linecolor": "white",
            "ticks": ""
           }
          },
          "scene": {
           "xaxis": {
            "backgroundcolor": "#E5ECF6",
            "gridcolor": "white",
            "gridwidth": 2,
            "linecolor": "white",
            "showbackground": true,
            "ticks": "",
            "zerolinecolor": "white"
           },
           "yaxis": {
            "backgroundcolor": "#E5ECF6",
            "gridcolor": "white",
            "gridwidth": 2,
            "linecolor": "white",
            "showbackground": true,
            "ticks": "",
            "zerolinecolor": "white"
           },
           "zaxis": {
            "backgroundcolor": "#E5ECF6",
            "gridcolor": "white",
            "gridwidth": 2,
            "linecolor": "white",
            "showbackground": true,
            "ticks": "",
            "zerolinecolor": "white"
           }
          },
          "shapedefaults": {
           "line": {
            "color": "#2a3f5f"
           }
          },
          "ternary": {
           "aaxis": {
            "gridcolor": "white",
            "linecolor": "white",
            "ticks": ""
           },
           "baxis": {
            "gridcolor": "white",
            "linecolor": "white",
            "ticks": ""
           },
           "bgcolor": "#E5ECF6",
           "caxis": {
            "gridcolor": "white",
            "linecolor": "white",
            "ticks": ""
           }
          },
          "title": {
           "x": 0.05
          },
          "xaxis": {
           "automargin": true,
           "gridcolor": "white",
           "linecolor": "white",
           "ticks": "",
           "title": {
            "standoff": 15
           },
           "zerolinecolor": "white",
           "zerolinewidth": 2
          },
          "yaxis": {
           "automargin": true,
           "gridcolor": "white",
           "linecolor": "white",
           "ticks": "",
           "title": {
            "standoff": 15
           },
           "zerolinecolor": "white",
           "zerolinewidth": 2
          }
         }
        },
        "title": {
         "text": "PUBG Wins vs Rounds Played"
        }
       }
      },
      "text/html": [
       "<div>                            <div id=\"e9d58d05-67e6-4fbd-96da-4792d04460f2\" class=\"plotly-graph-div\" style=\"height:525px; width:100%;\"></div>            <script type=\"text/javascript\">                require([\"plotly\"], function(Plotly) {                    window.PLOTLYENV=window.PLOTLYENV || {};                                    if (document.getElementById(\"e9d58d05-67e6-4fbd-96da-4792d04460f2\")) {                    Plotly.newPlot(                        \"e9d58d05-67e6-4fbd-96da-4792d04460f2\",                        [{\"name\":\"Rounds Won\",\"type\":\"scatter\",\"x\":[17,33,5,8,6,16,142,19,44,8],\"y\":[3,6,0,4,2,5,12,5,6,2]}],                        {\"plot_bgcolor\":\"rgb(230, 230,230)\",\"showlegend\":true,\"template\":{\"data\":{\"bar\":[{\"error_x\":{\"color\":\"#2a3f5f\"},\"error_y\":{\"color\":\"#2a3f5f\"},\"marker\":{\"line\":{\"color\":\"#E5ECF6\",\"width\":0.5},\"pattern\":{\"fillmode\":\"overlay\",\"size\":10,\"solidity\":0.2}},\"type\":\"bar\"}],\"barpolar\":[{\"marker\":{\"line\":{\"color\":\"#E5ECF6\",\"width\":0.5},\"pattern\":{\"fillmode\":\"overlay\",\"size\":10,\"solidity\":0.2}},\"type\":\"barpolar\"}],\"carpet\":[{\"aaxis\":{\"endlinecolor\":\"#2a3f5f\",\"gridcolor\":\"white\",\"linecolor\":\"white\",\"minorgridcolor\":\"white\",\"startlinecolor\":\"#2a3f5f\"},\"baxis\":{\"endlinecolor\":\"#2a3f5f\",\"gridcolor\":\"white\",\"linecolor\":\"white\",\"minorgridcolor\":\"white\",\"startlinecolor\":\"#2a3f5f\"},\"type\":\"carpet\"}],\"choropleth\":[{\"colorbar\":{\"outlinewidth\":0,\"ticks\":\"\"},\"type\":\"choropleth\"}],\"contour\":[{\"colorbar\":{\"outlinewidth\":0,\"ticks\":\"\"},\"colorscale\":[[0.0,\"#0d0887\"],[0.1111111111111111,\"#46039f\"],[0.2222222222222222,\"#7201a8\"],[0.3333333333333333,\"#9c179e\"],[0.4444444444444444,\"#bd3786\"],[0.5555555555555556,\"#d8576b\"],[0.6666666666666666,\"#ed7953\"],[0.7777777777777778,\"#fb9f3a\"],[0.8888888888888888,\"#fdca26\"],[1.0,\"#f0f921\"]],\"type\":\"contour\"}],\"contourcarpet\":[{\"colorbar\":{\"outlinewidth\":0,\"ticks\":\"\"},\"type\":\"contourcarpet\"}],\"heatmap\":[{\"colorbar\":{\"outlinewidth\":0,\"ticks\":\"\"},\"colorscale\":[[0.0,\"#0d0887\"],[0.1111111111111111,\"#46039f\"],[0.2222222222222222,\"#7201a8\"],[0.3333333333333333,\"#9c179e\"],[0.4444444444444444,\"#bd3786\"],[0.5555555555555556,\"#d8576b\"],[0.6666666666666666,\"#ed7953\"],[0.7777777777777778,\"#fb9f3a\"],[0.8888888888888888,\"#fdca26\"],[1.0,\"#f0f921\"]],\"type\":\"heatmap\"}],\"heatmapgl\":[{\"colorbar\":{\"outlinewidth\":0,\"ticks\":\"\"},\"colorscale\":[[0.0,\"#0d0887\"],[0.1111111111111111,\"#46039f\"],[0.2222222222222222,\"#7201a8\"],[0.3333333333333333,\"#9c179e\"],[0.4444444444444444,\"#bd3786\"],[0.5555555555555556,\"#d8576b\"],[0.6666666666666666,\"#ed7953\"],[0.7777777777777778,\"#fb9f3a\"],[0.8888888888888888,\"#fdca26\"],[1.0,\"#f0f921\"]],\"type\":\"heatmapgl\"}],\"histogram\":[{\"marker\":{\"pattern\":{\"fillmode\":\"overlay\",\"size\":10,\"solidity\":0.2}},\"type\":\"histogram\"}],\"histogram2d\":[{\"colorbar\":{\"outlinewidth\":0,\"ticks\":\"\"},\"colorscale\":[[0.0,\"#0d0887\"],[0.1111111111111111,\"#46039f\"],[0.2222222222222222,\"#7201a8\"],[0.3333333333333333,\"#9c179e\"],[0.4444444444444444,\"#bd3786\"],[0.5555555555555556,\"#d8576b\"],[0.6666666666666666,\"#ed7953\"],[0.7777777777777778,\"#fb9f3a\"],[0.8888888888888888,\"#fdca26\"],[1.0,\"#f0f921\"]],\"type\":\"histogram2d\"}],\"histogram2dcontour\":[{\"colorbar\":{\"outlinewidth\":0,\"ticks\":\"\"},\"colorscale\":[[0.0,\"#0d0887\"],[0.1111111111111111,\"#46039f\"],[0.2222222222222222,\"#7201a8\"],[0.3333333333333333,\"#9c179e\"],[0.4444444444444444,\"#bd3786\"],[0.5555555555555556,\"#d8576b\"],[0.6666666666666666,\"#ed7953\"],[0.7777777777777778,\"#fb9f3a\"],[0.8888888888888888,\"#fdca26\"],[1.0,\"#f0f921\"]],\"type\":\"histogram2dcontour\"}],\"mesh3d\":[{\"colorbar\":{\"outlinewidth\":0,\"ticks\":\"\"},\"type\":\"mesh3d\"}],\"parcoords\":[{\"line\":{\"colorbar\":{\"outlinewidth\":0,\"ticks\":\"\"}},\"type\":\"parcoords\"}],\"pie\":[{\"automargin\":true,\"type\":\"pie\"}],\"scatter\":[{\"marker\":{\"colorbar\":{\"outlinewidth\":0,\"ticks\":\"\"}},\"type\":\"scatter\"}],\"scatter3d\":[{\"line\":{\"colorbar\":{\"outlinewidth\":0,\"ticks\":\"\"}},\"marker\":{\"colorbar\":{\"outlinewidth\":0,\"ticks\":\"\"}},\"type\":\"scatter3d\"}],\"scattercarpet\":[{\"marker\":{\"colorbar\":{\"outlinewidth\":0,\"ticks\":\"\"}},\"type\":\"scattercarpet\"}],\"scattergeo\":[{\"marker\":{\"colorbar\":{\"outlinewidth\":0,\"ticks\":\"\"}},\"type\":\"scattergeo\"}],\"scattergl\":[{\"marker\":{\"colorbar\":{\"outlinewidth\":0,\"ticks\":\"\"}},\"type\":\"scattergl\"}],\"scattermapbox\":[{\"marker\":{\"colorbar\":{\"outlinewidth\":0,\"ticks\":\"\"}},\"type\":\"scattermapbox\"}],\"scatterpolar\":[{\"marker\":{\"colorbar\":{\"outlinewidth\":0,\"ticks\":\"\"}},\"type\":\"scatterpolar\"}],\"scatterpolargl\":[{\"marker\":{\"colorbar\":{\"outlinewidth\":0,\"ticks\":\"\"}},\"type\":\"scatterpolargl\"}],\"scatterternary\":[{\"marker\":{\"colorbar\":{\"outlinewidth\":0,\"ticks\":\"\"}},\"type\":\"scatterternary\"}],\"surface\":[{\"colorbar\":{\"outlinewidth\":0,\"ticks\":\"\"},\"colorscale\":[[0.0,\"#0d0887\"],[0.1111111111111111,\"#46039f\"],[0.2222222222222222,\"#7201a8\"],[0.3333333333333333,\"#9c179e\"],[0.4444444444444444,\"#bd3786\"],[0.5555555555555556,\"#d8576b\"],[0.6666666666666666,\"#ed7953\"],[0.7777777777777778,\"#fb9f3a\"],[0.8888888888888888,\"#fdca26\"],[1.0,\"#f0f921\"]],\"type\":\"surface\"}],\"table\":[{\"cells\":{\"fill\":{\"color\":\"#EBF0F8\"},\"line\":{\"color\":\"white\"}},\"header\":{\"fill\":{\"color\":\"#C8D4E3\"},\"line\":{\"color\":\"white\"}},\"type\":\"table\"}]},\"layout\":{\"annotationdefaults\":{\"arrowcolor\":\"#2a3f5f\",\"arrowhead\":0,\"arrowwidth\":1},\"autotypenumbers\":\"strict\",\"coloraxis\":{\"colorbar\":{\"outlinewidth\":0,\"ticks\":\"\"}},\"colorscale\":{\"diverging\":[[0,\"#8e0152\"],[0.1,\"#c51b7d\"],[0.2,\"#de77ae\"],[0.3,\"#f1b6da\"],[0.4,\"#fde0ef\"],[0.5,\"#f7f7f7\"],[0.6,\"#e6f5d0\"],[0.7,\"#b8e186\"],[0.8,\"#7fbc41\"],[0.9,\"#4d9221\"],[1,\"#276419\"]],\"sequential\":[[0.0,\"#0d0887\"],[0.1111111111111111,\"#46039f\"],[0.2222222222222222,\"#7201a8\"],[0.3333333333333333,\"#9c179e\"],[0.4444444444444444,\"#bd3786\"],[0.5555555555555556,\"#d8576b\"],[0.6666666666666666,\"#ed7953\"],[0.7777777777777778,\"#fb9f3a\"],[0.8888888888888888,\"#fdca26\"],[1.0,\"#f0f921\"]],\"sequentialminus\":[[0.0,\"#0d0887\"],[0.1111111111111111,\"#46039f\"],[0.2222222222222222,\"#7201a8\"],[0.3333333333333333,\"#9c179e\"],[0.4444444444444444,\"#bd3786\"],[0.5555555555555556,\"#d8576b\"],[0.6666666666666666,\"#ed7953\"],[0.7777777777777778,\"#fb9f3a\"],[0.8888888888888888,\"#fdca26\"],[1.0,\"#f0f921\"]]},\"colorway\":[\"#636efa\",\"#EF553B\",\"#00cc96\",\"#ab63fa\",\"#FFA15A\",\"#19d3f3\",\"#FF6692\",\"#B6E880\",\"#FF97FF\",\"#FECB52\"],\"font\":{\"color\":\"#2a3f5f\"},\"geo\":{\"bgcolor\":\"white\",\"lakecolor\":\"white\",\"landcolor\":\"#E5ECF6\",\"showlakes\":true,\"showland\":true,\"subunitcolor\":\"white\"},\"hoverlabel\":{\"align\":\"left\"},\"hovermode\":\"closest\",\"mapbox\":{\"style\":\"light\"},\"paper_bgcolor\":\"white\",\"plot_bgcolor\":\"#E5ECF6\",\"polar\":{\"angularaxis\":{\"gridcolor\":\"white\",\"linecolor\":\"white\",\"ticks\":\"\"},\"bgcolor\":\"#E5ECF6\",\"radialaxis\":{\"gridcolor\":\"white\",\"linecolor\":\"white\",\"ticks\":\"\"}},\"scene\":{\"xaxis\":{\"backgroundcolor\":\"#E5ECF6\",\"gridcolor\":\"white\",\"gridwidth\":2,\"linecolor\":\"white\",\"showbackground\":true,\"ticks\":\"\",\"zerolinecolor\":\"white\"},\"yaxis\":{\"backgroundcolor\":\"#E5ECF6\",\"gridcolor\":\"white\",\"gridwidth\":2,\"linecolor\":\"white\",\"showbackground\":true,\"ticks\":\"\",\"zerolinecolor\":\"white\"},\"zaxis\":{\"backgroundcolor\":\"#E5ECF6\",\"gridcolor\":\"white\",\"gridwidth\":2,\"linecolor\":\"white\",\"showbackground\":true,\"ticks\":\"\",\"zerolinecolor\":\"white\"}},\"shapedefaults\":{\"line\":{\"color\":\"#2a3f5f\"}},\"ternary\":{\"aaxis\":{\"gridcolor\":\"white\",\"linecolor\":\"white\",\"ticks\":\"\"},\"baxis\":{\"gridcolor\":\"white\",\"linecolor\":\"white\",\"ticks\":\"\"},\"bgcolor\":\"#E5ECF6\",\"caxis\":{\"gridcolor\":\"white\",\"linecolor\":\"white\",\"ticks\":\"\"}},\"title\":{\"x\":0.05},\"xaxis\":{\"automargin\":true,\"gridcolor\":\"white\",\"linecolor\":\"white\",\"ticks\":\"\",\"title\":{\"standoff\":15},\"zerolinecolor\":\"white\",\"zerolinewidth\":2},\"yaxis\":{\"automargin\":true,\"gridcolor\":\"white\",\"linecolor\":\"white\",\"ticks\":\"\",\"title\":{\"standoff\":15},\"zerolinecolor\":\"white\",\"zerolinewidth\":2}}},\"title\":{\"text\":\"PUBG Wins vs Rounds Played\"}},                        {\"responsive\": true}                    ).then(function(){\n",
       "                            \n",
       "var gd = document.getElementById('e9d58d05-67e6-4fbd-96da-4792d04460f2');\n",
       "var x = new MutationObserver(function (mutations, observer) {{\n",
       "        var display = window.getComputedStyle(gd).display;\n",
       "        if (!display || display === 'none') {{\n",
       "            console.log([gd, 'removed!']);\n",
       "            Plotly.purge(gd);\n",
       "            observer.disconnect();\n",
       "        }}\n",
       "}});\n",
       "\n",
       "// Listen for the removal of the full notebook cells\n",
       "var notebookContainer = gd.closest('#notebook-container');\n",
       "if (notebookContainer) {{\n",
       "    x.observe(notebookContainer, {childList: true});\n",
       "}}\n",
       "\n",
       "// Listen for the clearing of the current output cell\n",
       "var outputEl = gd.closest('.output');\n",
       "if (outputEl) {{\n",
       "    x.observe(outputEl, {childList: true});\n",
       "}}\n",
       "\n",
       "                        })                };                });            </script>        </div>"
      ]
     },
     "metadata": {},
     "output_type": "display_data"
    }
   ],
   "source": [
    "\n",
    "trace = go.Scatter(x = df_new_pubg['solo_RoundsPlayed'], y= df_new_pubg['solo_Wins'],\n",
    "                  name ='Rounds Won')\n",
    "layout = go.Layout(title='PUBG Wins vs Rounds Played',\n",
    "                   plot_bgcolor='rgb(230, 230,230)', \n",
    "                   showlegend=True)\n",
    "fig = go.Figure(data=[trace], layout=layout)\n",
    "\n",
    "iplot(fig, filename='test')"
   ]
  },
  {
   "cell_type": "code",
   "execution_count": 29,
   "metadata": {
    "id": "cdi-Dz0tahjX"
   },
   "outputs": [],
   "source": [
    "df_bar_pubg = df_pubg.head(30)"
   ]
  },
  {
   "cell_type": "code",
   "execution_count": 30,
   "metadata": {
    "id": "Yc0-ClHtahjX"
   },
   "outputs": [],
   "source": [
    "trace1 = go.Bar( \n",
    "        x = df_bar_pubg['player_name'],\n",
    "        y = df_bar_pubg['solo_RoundsPlayed'],\n",
    "        name= 'Rounds Played')\n",
    "\n",
    "trace2 = go.Bar( \n",
    "        x = df_bar_pubg['player_name'],\n",
    "        y = df_bar_pubg['solo_Wins'],\n",
    "        name= 'Wins')\n",
    "\n"
   ]
  },
  {
   "cell_type": "code",
   "execution_count": 31,
   "metadata": {
    "id": "OPdNRGXWahjX",
    "outputId": "eb5ede03-a6dc-4b9d-b543-3ac453d5303d"
   },
   "outputs": [
    {
     "data": {
      "application/vnd.plotly.v1+json": {
       "config": {
        "linkText": "Export to plot.ly",
        "plotlyServerURL": "https://plot.ly",
        "showLink": false
       },
       "data": [
        {
         "name": "Rounds Played",
         "type": "bar",
         "x": [
          "BreakNeck",
          "Blackwalk",
          "mercedes_benz",
          "DORA",
          "n2tstar",
          "coldoxygen",
          "Giken",
          "KoreaNo1",
          "undor",
          "Fordune",
          "PandaTV-Tongk",
          "Benny-_-",
          "PanDaTV_Karl",
          "homeboye",
          "YUPPIEE",
          "Doomhammer",
          "DinghisKhan",
          "YoonRoot",
          "3N1GmA",
          "synthtail",
          "SevenWolf",
          "FZTEAMLDS",
          "1125",
          "BombBurst",
          "SILPHTV",
          "SexyPIG",
          "TOP_94",
          "zeggi",
          "baoli6666666",
          "Toadoo1"
         ],
         "y": [
          17,
          33,
          5,
          8,
          6,
          16,
          142,
          19,
          44,
          8,
          116,
          335,
          87,
          72,
          23,
          3,
          165,
          65,
          16,
          45,
          55,
          45,
          9,
          14,
          277,
          265,
          77,
          52,
          56,
          22
         ]
        },
        {
         "name": "Wins",
         "type": "bar",
         "x": [
          "BreakNeck",
          "Blackwalk",
          "mercedes_benz",
          "DORA",
          "n2tstar",
          "coldoxygen",
          "Giken",
          "KoreaNo1",
          "undor",
          "Fordune",
          "PandaTV-Tongk",
          "Benny-_-",
          "PanDaTV_Karl",
          "homeboye",
          "YUPPIEE",
          "Doomhammer",
          "DinghisKhan",
          "YoonRoot",
          "3N1GmA",
          "synthtail",
          "SevenWolf",
          "FZTEAMLDS",
          "1125",
          "BombBurst",
          "SILPHTV",
          "SexyPIG",
          "TOP_94",
          "zeggi",
          "baoli6666666",
          "Toadoo1"
         ],
         "y": [
          3,
          6,
          0,
          4,
          2,
          5,
          12,
          5,
          6,
          2,
          7,
          4,
          9,
          4,
          3,
          1,
          38,
          12,
          6,
          2,
          7,
          4,
          3,
          2,
          48,
          63,
          4,
          3,
          3,
          2
         ]
        }
       ],
       "layout": {
        "barmode": "group",
        "template": {
         "data": {
          "bar": [
           {
            "error_x": {
             "color": "#2a3f5f"
            },
            "error_y": {
             "color": "#2a3f5f"
            },
            "marker": {
             "line": {
              "color": "#E5ECF6",
              "width": 0.5
             },
             "pattern": {
              "fillmode": "overlay",
              "size": 10,
              "solidity": 0.2
             }
            },
            "type": "bar"
           }
          ],
          "barpolar": [
           {
            "marker": {
             "line": {
              "color": "#E5ECF6",
              "width": 0.5
             },
             "pattern": {
              "fillmode": "overlay",
              "size": 10,
              "solidity": 0.2
             }
            },
            "type": "barpolar"
           }
          ],
          "carpet": [
           {
            "aaxis": {
             "endlinecolor": "#2a3f5f",
             "gridcolor": "white",
             "linecolor": "white",
             "minorgridcolor": "white",
             "startlinecolor": "#2a3f5f"
            },
            "baxis": {
             "endlinecolor": "#2a3f5f",
             "gridcolor": "white",
             "linecolor": "white",
             "minorgridcolor": "white",
             "startlinecolor": "#2a3f5f"
            },
            "type": "carpet"
           }
          ],
          "choropleth": [
           {
            "colorbar": {
             "outlinewidth": 0,
             "ticks": ""
            },
            "type": "choropleth"
           }
          ],
          "contour": [
           {
            "colorbar": {
             "outlinewidth": 0,
             "ticks": ""
            },
            "colorscale": [
             [
              0,
              "#0d0887"
             ],
             [
              0.1111111111111111,
              "#46039f"
             ],
             [
              0.2222222222222222,
              "#7201a8"
             ],
             [
              0.3333333333333333,
              "#9c179e"
             ],
             [
              0.4444444444444444,
              "#bd3786"
             ],
             [
              0.5555555555555556,
              "#d8576b"
             ],
             [
              0.6666666666666666,
              "#ed7953"
             ],
             [
              0.7777777777777778,
              "#fb9f3a"
             ],
             [
              0.8888888888888888,
              "#fdca26"
             ],
             [
              1,
              "#f0f921"
             ]
            ],
            "type": "contour"
           }
          ],
          "contourcarpet": [
           {
            "colorbar": {
             "outlinewidth": 0,
             "ticks": ""
            },
            "type": "contourcarpet"
           }
          ],
          "heatmap": [
           {
            "colorbar": {
             "outlinewidth": 0,
             "ticks": ""
            },
            "colorscale": [
             [
              0,
              "#0d0887"
             ],
             [
              0.1111111111111111,
              "#46039f"
             ],
             [
              0.2222222222222222,
              "#7201a8"
             ],
             [
              0.3333333333333333,
              "#9c179e"
             ],
             [
              0.4444444444444444,
              "#bd3786"
             ],
             [
              0.5555555555555556,
              "#d8576b"
             ],
             [
              0.6666666666666666,
              "#ed7953"
             ],
             [
              0.7777777777777778,
              "#fb9f3a"
             ],
             [
              0.8888888888888888,
              "#fdca26"
             ],
             [
              1,
              "#f0f921"
             ]
            ],
            "type": "heatmap"
           }
          ],
          "heatmapgl": [
           {
            "colorbar": {
             "outlinewidth": 0,
             "ticks": ""
            },
            "colorscale": [
             [
              0,
              "#0d0887"
             ],
             [
              0.1111111111111111,
              "#46039f"
             ],
             [
              0.2222222222222222,
              "#7201a8"
             ],
             [
              0.3333333333333333,
              "#9c179e"
             ],
             [
              0.4444444444444444,
              "#bd3786"
             ],
             [
              0.5555555555555556,
              "#d8576b"
             ],
             [
              0.6666666666666666,
              "#ed7953"
             ],
             [
              0.7777777777777778,
              "#fb9f3a"
             ],
             [
              0.8888888888888888,
              "#fdca26"
             ],
             [
              1,
              "#f0f921"
             ]
            ],
            "type": "heatmapgl"
           }
          ],
          "histogram": [
           {
            "marker": {
             "pattern": {
              "fillmode": "overlay",
              "size": 10,
              "solidity": 0.2
             }
            },
            "type": "histogram"
           }
          ],
          "histogram2d": [
           {
            "colorbar": {
             "outlinewidth": 0,
             "ticks": ""
            },
            "colorscale": [
             [
              0,
              "#0d0887"
             ],
             [
              0.1111111111111111,
              "#46039f"
             ],
             [
              0.2222222222222222,
              "#7201a8"
             ],
             [
              0.3333333333333333,
              "#9c179e"
             ],
             [
              0.4444444444444444,
              "#bd3786"
             ],
             [
              0.5555555555555556,
              "#d8576b"
             ],
             [
              0.6666666666666666,
              "#ed7953"
             ],
             [
              0.7777777777777778,
              "#fb9f3a"
             ],
             [
              0.8888888888888888,
              "#fdca26"
             ],
             [
              1,
              "#f0f921"
             ]
            ],
            "type": "histogram2d"
           }
          ],
          "histogram2dcontour": [
           {
            "colorbar": {
             "outlinewidth": 0,
             "ticks": ""
            },
            "colorscale": [
             [
              0,
              "#0d0887"
             ],
             [
              0.1111111111111111,
              "#46039f"
             ],
             [
              0.2222222222222222,
              "#7201a8"
             ],
             [
              0.3333333333333333,
              "#9c179e"
             ],
             [
              0.4444444444444444,
              "#bd3786"
             ],
             [
              0.5555555555555556,
              "#d8576b"
             ],
             [
              0.6666666666666666,
              "#ed7953"
             ],
             [
              0.7777777777777778,
              "#fb9f3a"
             ],
             [
              0.8888888888888888,
              "#fdca26"
             ],
             [
              1,
              "#f0f921"
             ]
            ],
            "type": "histogram2dcontour"
           }
          ],
          "mesh3d": [
           {
            "colorbar": {
             "outlinewidth": 0,
             "ticks": ""
            },
            "type": "mesh3d"
           }
          ],
          "parcoords": [
           {
            "line": {
             "colorbar": {
              "outlinewidth": 0,
              "ticks": ""
             }
            },
            "type": "parcoords"
           }
          ],
          "pie": [
           {
            "automargin": true,
            "type": "pie"
           }
          ],
          "scatter": [
           {
            "marker": {
             "colorbar": {
              "outlinewidth": 0,
              "ticks": ""
             }
            },
            "type": "scatter"
           }
          ],
          "scatter3d": [
           {
            "line": {
             "colorbar": {
              "outlinewidth": 0,
              "ticks": ""
             }
            },
            "marker": {
             "colorbar": {
              "outlinewidth": 0,
              "ticks": ""
             }
            },
            "type": "scatter3d"
           }
          ],
          "scattercarpet": [
           {
            "marker": {
             "colorbar": {
              "outlinewidth": 0,
              "ticks": ""
             }
            },
            "type": "scattercarpet"
           }
          ],
          "scattergeo": [
           {
            "marker": {
             "colorbar": {
              "outlinewidth": 0,
              "ticks": ""
             }
            },
            "type": "scattergeo"
           }
          ],
          "scattergl": [
           {
            "marker": {
             "colorbar": {
              "outlinewidth": 0,
              "ticks": ""
             }
            },
            "type": "scattergl"
           }
          ],
          "scattermapbox": [
           {
            "marker": {
             "colorbar": {
              "outlinewidth": 0,
              "ticks": ""
             }
            },
            "type": "scattermapbox"
           }
          ],
          "scatterpolar": [
           {
            "marker": {
             "colorbar": {
              "outlinewidth": 0,
              "ticks": ""
             }
            },
            "type": "scatterpolar"
           }
          ],
          "scatterpolargl": [
           {
            "marker": {
             "colorbar": {
              "outlinewidth": 0,
              "ticks": ""
             }
            },
            "type": "scatterpolargl"
           }
          ],
          "scatterternary": [
           {
            "marker": {
             "colorbar": {
              "outlinewidth": 0,
              "ticks": ""
             }
            },
            "type": "scatterternary"
           }
          ],
          "surface": [
           {
            "colorbar": {
             "outlinewidth": 0,
             "ticks": ""
            },
            "colorscale": [
             [
              0,
              "#0d0887"
             ],
             [
              0.1111111111111111,
              "#46039f"
             ],
             [
              0.2222222222222222,
              "#7201a8"
             ],
             [
              0.3333333333333333,
              "#9c179e"
             ],
             [
              0.4444444444444444,
              "#bd3786"
             ],
             [
              0.5555555555555556,
              "#d8576b"
             ],
             [
              0.6666666666666666,
              "#ed7953"
             ],
             [
              0.7777777777777778,
              "#fb9f3a"
             ],
             [
              0.8888888888888888,
              "#fdca26"
             ],
             [
              1,
              "#f0f921"
             ]
            ],
            "type": "surface"
           }
          ],
          "table": [
           {
            "cells": {
             "fill": {
              "color": "#EBF0F8"
             },
             "line": {
              "color": "white"
             }
            },
            "header": {
             "fill": {
              "color": "#C8D4E3"
             },
             "line": {
              "color": "white"
             }
            },
            "type": "table"
           }
          ]
         },
         "layout": {
          "annotationdefaults": {
           "arrowcolor": "#2a3f5f",
           "arrowhead": 0,
           "arrowwidth": 1
          },
          "autotypenumbers": "strict",
          "coloraxis": {
           "colorbar": {
            "outlinewidth": 0,
            "ticks": ""
           }
          },
          "colorscale": {
           "diverging": [
            [
             0,
             "#8e0152"
            ],
            [
             0.1,
             "#c51b7d"
            ],
            [
             0.2,
             "#de77ae"
            ],
            [
             0.3,
             "#f1b6da"
            ],
            [
             0.4,
             "#fde0ef"
            ],
            [
             0.5,
             "#f7f7f7"
            ],
            [
             0.6,
             "#e6f5d0"
            ],
            [
             0.7,
             "#b8e186"
            ],
            [
             0.8,
             "#7fbc41"
            ],
            [
             0.9,
             "#4d9221"
            ],
            [
             1,
             "#276419"
            ]
           ],
           "sequential": [
            [
             0,
             "#0d0887"
            ],
            [
             0.1111111111111111,
             "#46039f"
            ],
            [
             0.2222222222222222,
             "#7201a8"
            ],
            [
             0.3333333333333333,
             "#9c179e"
            ],
            [
             0.4444444444444444,
             "#bd3786"
            ],
            [
             0.5555555555555556,
             "#d8576b"
            ],
            [
             0.6666666666666666,
             "#ed7953"
            ],
            [
             0.7777777777777778,
             "#fb9f3a"
            ],
            [
             0.8888888888888888,
             "#fdca26"
            ],
            [
             1,
             "#f0f921"
            ]
           ],
           "sequentialminus": [
            [
             0,
             "#0d0887"
            ],
            [
             0.1111111111111111,
             "#46039f"
            ],
            [
             0.2222222222222222,
             "#7201a8"
            ],
            [
             0.3333333333333333,
             "#9c179e"
            ],
            [
             0.4444444444444444,
             "#bd3786"
            ],
            [
             0.5555555555555556,
             "#d8576b"
            ],
            [
             0.6666666666666666,
             "#ed7953"
            ],
            [
             0.7777777777777778,
             "#fb9f3a"
            ],
            [
             0.8888888888888888,
             "#fdca26"
            ],
            [
             1,
             "#f0f921"
            ]
           ]
          },
          "colorway": [
           "#636efa",
           "#EF553B",
           "#00cc96",
           "#ab63fa",
           "#FFA15A",
           "#19d3f3",
           "#FF6692",
           "#B6E880",
           "#FF97FF",
           "#FECB52"
          ],
          "font": {
           "color": "#2a3f5f"
          },
          "geo": {
           "bgcolor": "white",
           "lakecolor": "white",
           "landcolor": "#E5ECF6",
           "showlakes": true,
           "showland": true,
           "subunitcolor": "white"
          },
          "hoverlabel": {
           "align": "left"
          },
          "hovermode": "closest",
          "mapbox": {
           "style": "light"
          },
          "paper_bgcolor": "white",
          "plot_bgcolor": "#E5ECF6",
          "polar": {
           "angularaxis": {
            "gridcolor": "white",
            "linecolor": "white",
            "ticks": ""
           },
           "bgcolor": "#E5ECF6",
           "radialaxis": {
            "gridcolor": "white",
            "linecolor": "white",
            "ticks": ""
           }
          },
          "scene": {
           "xaxis": {
            "backgroundcolor": "#E5ECF6",
            "gridcolor": "white",
            "gridwidth": 2,
            "linecolor": "white",
            "showbackground": true,
            "ticks": "",
            "zerolinecolor": "white"
           },
           "yaxis": {
            "backgroundcolor": "#E5ECF6",
            "gridcolor": "white",
            "gridwidth": 2,
            "linecolor": "white",
            "showbackground": true,
            "ticks": "",
            "zerolinecolor": "white"
           },
           "zaxis": {
            "backgroundcolor": "#E5ECF6",
            "gridcolor": "white",
            "gridwidth": 2,
            "linecolor": "white",
            "showbackground": true,
            "ticks": "",
            "zerolinecolor": "white"
           }
          },
          "shapedefaults": {
           "line": {
            "color": "#2a3f5f"
           }
          },
          "ternary": {
           "aaxis": {
            "gridcolor": "white",
            "linecolor": "white",
            "ticks": ""
           },
           "baxis": {
            "gridcolor": "white",
            "linecolor": "white",
            "ticks": ""
           },
           "bgcolor": "#E5ECF6",
           "caxis": {
            "gridcolor": "white",
            "linecolor": "white",
            "ticks": ""
           }
          },
          "title": {
           "x": 0.05
          },
          "xaxis": {
           "automargin": true,
           "gridcolor": "white",
           "linecolor": "white",
           "ticks": "",
           "title": {
            "standoff": 15
           },
           "zerolinecolor": "white",
           "zerolinewidth": 2
          },
          "yaxis": {
           "automargin": true,
           "gridcolor": "white",
           "linecolor": "white",
           "ticks": "",
           "title": {
            "standoff": 15
           },
           "zerolinecolor": "white",
           "zerolinewidth": 2
          }
         }
        }
       }
      },
      "text/html": [
       "<div>                            <div id=\"a115e09d-229c-4776-a3a7-9aba39a3e857\" class=\"plotly-graph-div\" style=\"height:525px; width:100%;\"></div>            <script type=\"text/javascript\">                require([\"plotly\"], function(Plotly) {                    window.PLOTLYENV=window.PLOTLYENV || {};                                    if (document.getElementById(\"a115e09d-229c-4776-a3a7-9aba39a3e857\")) {                    Plotly.newPlot(                        \"a115e09d-229c-4776-a3a7-9aba39a3e857\",                        [{\"name\":\"Rounds Played\",\"type\":\"bar\",\"x\":[\"BreakNeck\",\"Blackwalk\",\"mercedes_benz\",\"DORA\",\"n2tstar\",\"coldoxygen\",\"Giken\",\"KoreaNo1\",\"undor\",\"Fordune\",\"PandaTV-Tongk\",\"Benny-_-\",\"PanDaTV_Karl\",\"homeboye\",\"YUPPIEE\",\"Doomhammer\",\"DinghisKhan\",\"YoonRoot\",\"3N1GmA\",\"synthtail\",\"SevenWolf\",\"FZTEAMLDS\",\"1125\",\"BombBurst\",\"SILPHTV\",\"SexyPIG\",\"TOP_94\",\"zeggi\",\"baoli6666666\",\"Toadoo1\"],\"y\":[17,33,5,8,6,16,142,19,44,8,116,335,87,72,23,3,165,65,16,45,55,45,9,14,277,265,77,52,56,22]},{\"name\":\"Wins\",\"type\":\"bar\",\"x\":[\"BreakNeck\",\"Blackwalk\",\"mercedes_benz\",\"DORA\",\"n2tstar\",\"coldoxygen\",\"Giken\",\"KoreaNo1\",\"undor\",\"Fordune\",\"PandaTV-Tongk\",\"Benny-_-\",\"PanDaTV_Karl\",\"homeboye\",\"YUPPIEE\",\"Doomhammer\",\"DinghisKhan\",\"YoonRoot\",\"3N1GmA\",\"synthtail\",\"SevenWolf\",\"FZTEAMLDS\",\"1125\",\"BombBurst\",\"SILPHTV\",\"SexyPIG\",\"TOP_94\",\"zeggi\",\"baoli6666666\",\"Toadoo1\"],\"y\":[3,6,0,4,2,5,12,5,6,2,7,4,9,4,3,1,38,12,6,2,7,4,3,2,48,63,4,3,3,2]}],                        {\"barmode\":\"group\",\"template\":{\"data\":{\"bar\":[{\"error_x\":{\"color\":\"#2a3f5f\"},\"error_y\":{\"color\":\"#2a3f5f\"},\"marker\":{\"line\":{\"color\":\"#E5ECF6\",\"width\":0.5},\"pattern\":{\"fillmode\":\"overlay\",\"size\":10,\"solidity\":0.2}},\"type\":\"bar\"}],\"barpolar\":[{\"marker\":{\"line\":{\"color\":\"#E5ECF6\",\"width\":0.5},\"pattern\":{\"fillmode\":\"overlay\",\"size\":10,\"solidity\":0.2}},\"type\":\"barpolar\"}],\"carpet\":[{\"aaxis\":{\"endlinecolor\":\"#2a3f5f\",\"gridcolor\":\"white\",\"linecolor\":\"white\",\"minorgridcolor\":\"white\",\"startlinecolor\":\"#2a3f5f\"},\"baxis\":{\"endlinecolor\":\"#2a3f5f\",\"gridcolor\":\"white\",\"linecolor\":\"white\",\"minorgridcolor\":\"white\",\"startlinecolor\":\"#2a3f5f\"},\"type\":\"carpet\"}],\"choropleth\":[{\"colorbar\":{\"outlinewidth\":0,\"ticks\":\"\"},\"type\":\"choropleth\"}],\"contour\":[{\"colorbar\":{\"outlinewidth\":0,\"ticks\":\"\"},\"colorscale\":[[0.0,\"#0d0887\"],[0.1111111111111111,\"#46039f\"],[0.2222222222222222,\"#7201a8\"],[0.3333333333333333,\"#9c179e\"],[0.4444444444444444,\"#bd3786\"],[0.5555555555555556,\"#d8576b\"],[0.6666666666666666,\"#ed7953\"],[0.7777777777777778,\"#fb9f3a\"],[0.8888888888888888,\"#fdca26\"],[1.0,\"#f0f921\"]],\"type\":\"contour\"}],\"contourcarpet\":[{\"colorbar\":{\"outlinewidth\":0,\"ticks\":\"\"},\"type\":\"contourcarpet\"}],\"heatmap\":[{\"colorbar\":{\"outlinewidth\":0,\"ticks\":\"\"},\"colorscale\":[[0.0,\"#0d0887\"],[0.1111111111111111,\"#46039f\"],[0.2222222222222222,\"#7201a8\"],[0.3333333333333333,\"#9c179e\"],[0.4444444444444444,\"#bd3786\"],[0.5555555555555556,\"#d8576b\"],[0.6666666666666666,\"#ed7953\"],[0.7777777777777778,\"#fb9f3a\"],[0.8888888888888888,\"#fdca26\"],[1.0,\"#f0f921\"]],\"type\":\"heatmap\"}],\"heatmapgl\":[{\"colorbar\":{\"outlinewidth\":0,\"ticks\":\"\"},\"colorscale\":[[0.0,\"#0d0887\"],[0.1111111111111111,\"#46039f\"],[0.2222222222222222,\"#7201a8\"],[0.3333333333333333,\"#9c179e\"],[0.4444444444444444,\"#bd3786\"],[0.5555555555555556,\"#d8576b\"],[0.6666666666666666,\"#ed7953\"],[0.7777777777777778,\"#fb9f3a\"],[0.8888888888888888,\"#fdca26\"],[1.0,\"#f0f921\"]],\"type\":\"heatmapgl\"}],\"histogram\":[{\"marker\":{\"pattern\":{\"fillmode\":\"overlay\",\"size\":10,\"solidity\":0.2}},\"type\":\"histogram\"}],\"histogram2d\":[{\"colorbar\":{\"outlinewidth\":0,\"ticks\":\"\"},\"colorscale\":[[0.0,\"#0d0887\"],[0.1111111111111111,\"#46039f\"],[0.2222222222222222,\"#7201a8\"],[0.3333333333333333,\"#9c179e\"],[0.4444444444444444,\"#bd3786\"],[0.5555555555555556,\"#d8576b\"],[0.6666666666666666,\"#ed7953\"],[0.7777777777777778,\"#fb9f3a\"],[0.8888888888888888,\"#fdca26\"],[1.0,\"#f0f921\"]],\"type\":\"histogram2d\"}],\"histogram2dcontour\":[{\"colorbar\":{\"outlinewidth\":0,\"ticks\":\"\"},\"colorscale\":[[0.0,\"#0d0887\"],[0.1111111111111111,\"#46039f\"],[0.2222222222222222,\"#7201a8\"],[0.3333333333333333,\"#9c179e\"],[0.4444444444444444,\"#bd3786\"],[0.5555555555555556,\"#d8576b\"],[0.6666666666666666,\"#ed7953\"],[0.7777777777777778,\"#fb9f3a\"],[0.8888888888888888,\"#fdca26\"],[1.0,\"#f0f921\"]],\"type\":\"histogram2dcontour\"}],\"mesh3d\":[{\"colorbar\":{\"outlinewidth\":0,\"ticks\":\"\"},\"type\":\"mesh3d\"}],\"parcoords\":[{\"line\":{\"colorbar\":{\"outlinewidth\":0,\"ticks\":\"\"}},\"type\":\"parcoords\"}],\"pie\":[{\"automargin\":true,\"type\":\"pie\"}],\"scatter\":[{\"marker\":{\"colorbar\":{\"outlinewidth\":0,\"ticks\":\"\"}},\"type\":\"scatter\"}],\"scatter3d\":[{\"line\":{\"colorbar\":{\"outlinewidth\":0,\"ticks\":\"\"}},\"marker\":{\"colorbar\":{\"outlinewidth\":0,\"ticks\":\"\"}},\"type\":\"scatter3d\"}],\"scattercarpet\":[{\"marker\":{\"colorbar\":{\"outlinewidth\":0,\"ticks\":\"\"}},\"type\":\"scattercarpet\"}],\"scattergeo\":[{\"marker\":{\"colorbar\":{\"outlinewidth\":0,\"ticks\":\"\"}},\"type\":\"scattergeo\"}],\"scattergl\":[{\"marker\":{\"colorbar\":{\"outlinewidth\":0,\"ticks\":\"\"}},\"type\":\"scattergl\"}],\"scattermapbox\":[{\"marker\":{\"colorbar\":{\"outlinewidth\":0,\"ticks\":\"\"}},\"type\":\"scattermapbox\"}],\"scatterpolar\":[{\"marker\":{\"colorbar\":{\"outlinewidth\":0,\"ticks\":\"\"}},\"type\":\"scatterpolar\"}],\"scatterpolargl\":[{\"marker\":{\"colorbar\":{\"outlinewidth\":0,\"ticks\":\"\"}},\"type\":\"scatterpolargl\"}],\"scatterternary\":[{\"marker\":{\"colorbar\":{\"outlinewidth\":0,\"ticks\":\"\"}},\"type\":\"scatterternary\"}],\"surface\":[{\"colorbar\":{\"outlinewidth\":0,\"ticks\":\"\"},\"colorscale\":[[0.0,\"#0d0887\"],[0.1111111111111111,\"#46039f\"],[0.2222222222222222,\"#7201a8\"],[0.3333333333333333,\"#9c179e\"],[0.4444444444444444,\"#bd3786\"],[0.5555555555555556,\"#d8576b\"],[0.6666666666666666,\"#ed7953\"],[0.7777777777777778,\"#fb9f3a\"],[0.8888888888888888,\"#fdca26\"],[1.0,\"#f0f921\"]],\"type\":\"surface\"}],\"table\":[{\"cells\":{\"fill\":{\"color\":\"#EBF0F8\"},\"line\":{\"color\":\"white\"}},\"header\":{\"fill\":{\"color\":\"#C8D4E3\"},\"line\":{\"color\":\"white\"}},\"type\":\"table\"}]},\"layout\":{\"annotationdefaults\":{\"arrowcolor\":\"#2a3f5f\",\"arrowhead\":0,\"arrowwidth\":1},\"autotypenumbers\":\"strict\",\"coloraxis\":{\"colorbar\":{\"outlinewidth\":0,\"ticks\":\"\"}},\"colorscale\":{\"diverging\":[[0,\"#8e0152\"],[0.1,\"#c51b7d\"],[0.2,\"#de77ae\"],[0.3,\"#f1b6da\"],[0.4,\"#fde0ef\"],[0.5,\"#f7f7f7\"],[0.6,\"#e6f5d0\"],[0.7,\"#b8e186\"],[0.8,\"#7fbc41\"],[0.9,\"#4d9221\"],[1,\"#276419\"]],\"sequential\":[[0.0,\"#0d0887\"],[0.1111111111111111,\"#46039f\"],[0.2222222222222222,\"#7201a8\"],[0.3333333333333333,\"#9c179e\"],[0.4444444444444444,\"#bd3786\"],[0.5555555555555556,\"#d8576b\"],[0.6666666666666666,\"#ed7953\"],[0.7777777777777778,\"#fb9f3a\"],[0.8888888888888888,\"#fdca26\"],[1.0,\"#f0f921\"]],\"sequentialminus\":[[0.0,\"#0d0887\"],[0.1111111111111111,\"#46039f\"],[0.2222222222222222,\"#7201a8\"],[0.3333333333333333,\"#9c179e\"],[0.4444444444444444,\"#bd3786\"],[0.5555555555555556,\"#d8576b\"],[0.6666666666666666,\"#ed7953\"],[0.7777777777777778,\"#fb9f3a\"],[0.8888888888888888,\"#fdca26\"],[1.0,\"#f0f921\"]]},\"colorway\":[\"#636efa\",\"#EF553B\",\"#00cc96\",\"#ab63fa\",\"#FFA15A\",\"#19d3f3\",\"#FF6692\",\"#B6E880\",\"#FF97FF\",\"#FECB52\"],\"font\":{\"color\":\"#2a3f5f\"},\"geo\":{\"bgcolor\":\"white\",\"lakecolor\":\"white\",\"landcolor\":\"#E5ECF6\",\"showlakes\":true,\"showland\":true,\"subunitcolor\":\"white\"},\"hoverlabel\":{\"align\":\"left\"},\"hovermode\":\"closest\",\"mapbox\":{\"style\":\"light\"},\"paper_bgcolor\":\"white\",\"plot_bgcolor\":\"#E5ECF6\",\"polar\":{\"angularaxis\":{\"gridcolor\":\"white\",\"linecolor\":\"white\",\"ticks\":\"\"},\"bgcolor\":\"#E5ECF6\",\"radialaxis\":{\"gridcolor\":\"white\",\"linecolor\":\"white\",\"ticks\":\"\"}},\"scene\":{\"xaxis\":{\"backgroundcolor\":\"#E5ECF6\",\"gridcolor\":\"white\",\"gridwidth\":2,\"linecolor\":\"white\",\"showbackground\":true,\"ticks\":\"\",\"zerolinecolor\":\"white\"},\"yaxis\":{\"backgroundcolor\":\"#E5ECF6\",\"gridcolor\":\"white\",\"gridwidth\":2,\"linecolor\":\"white\",\"showbackground\":true,\"ticks\":\"\",\"zerolinecolor\":\"white\"},\"zaxis\":{\"backgroundcolor\":\"#E5ECF6\",\"gridcolor\":\"white\",\"gridwidth\":2,\"linecolor\":\"white\",\"showbackground\":true,\"ticks\":\"\",\"zerolinecolor\":\"white\"}},\"shapedefaults\":{\"line\":{\"color\":\"#2a3f5f\"}},\"ternary\":{\"aaxis\":{\"gridcolor\":\"white\",\"linecolor\":\"white\",\"ticks\":\"\"},\"baxis\":{\"gridcolor\":\"white\",\"linecolor\":\"white\",\"ticks\":\"\"},\"bgcolor\":\"#E5ECF6\",\"caxis\":{\"gridcolor\":\"white\",\"linecolor\":\"white\",\"ticks\":\"\"}},\"title\":{\"x\":0.05},\"xaxis\":{\"automargin\":true,\"gridcolor\":\"white\",\"linecolor\":\"white\",\"ticks\":\"\",\"title\":{\"standoff\":15},\"zerolinecolor\":\"white\",\"zerolinewidth\":2},\"yaxis\":{\"automargin\":true,\"gridcolor\":\"white\",\"linecolor\":\"white\",\"ticks\":\"\",\"title\":{\"standoff\":15},\"zerolinecolor\":\"white\",\"zerolinewidth\":2}}}},                        {\"responsive\": true}                    ).then(function(){\n",
       "                            \n",
       "var gd = document.getElementById('a115e09d-229c-4776-a3a7-9aba39a3e857');\n",
       "var x = new MutationObserver(function (mutations, observer) {{\n",
       "        var display = window.getComputedStyle(gd).display;\n",
       "        if (!display || display === 'none') {{\n",
       "            console.log([gd, 'removed!']);\n",
       "            Plotly.purge(gd);\n",
       "            observer.disconnect();\n",
       "        }}\n",
       "}});\n",
       "\n",
       "// Listen for the removal of the full notebook cells\n",
       "var notebookContainer = gd.closest('#notebook-container');\n",
       "if (notebookContainer) {{\n",
       "    x.observe(notebookContainer, {childList: true});\n",
       "}}\n",
       "\n",
       "// Listen for the clearing of the current output cell\n",
       "var outputEl = gd.closest('.output');\n",
       "if (outputEl) {{\n",
       "    x.observe(outputEl, {childList: true});\n",
       "}}\n",
       "\n",
       "                        })                };                });            </script>        </div>"
      ]
     },
     "metadata": {},
     "output_type": "display_data"
    }
   ],
   "source": [
    "data = [trace1, trace2]\n",
    "layout = go.Layout(barmode='group')\n",
    "\n",
    "fig = go.Figure(data=data, layout=layout)\n",
    "iplot(fig, filename='grouped-bar')"
   ]
  },
  {
   "cell_type": "markdown",
   "metadata": {
    "id": "_dTZ04pvahjY"
   },
   "source": [
    "## <center> Episode 4 </center>"
   ]
  },
  {
   "cell_type": "code",
   "execution_count": 32,
   "metadata": {
    "id": "yfB2ChOFahjY",
    "outputId": "ec0809cd-1154-4693-8a8c-1f6672ee3081",
    "scrolled": true
   },
   "outputs": [
    {
     "data": {
      "text/html": [
       "<div>\n",
       "<style scoped>\n",
       "    .dataframe tbody tr th:only-of-type {\n",
       "        vertical-align: middle;\n",
       "    }\n",
       "\n",
       "    .dataframe tbody tr th {\n",
       "        vertical-align: top;\n",
       "    }\n",
       "\n",
       "    .dataframe thead th {\n",
       "        text-align: right;\n",
       "    }\n",
       "</style>\n",
       "<table border=\"1\" class=\"dataframe\">\n",
       "  <thead>\n",
       "    <tr style=\"text-align: right;\">\n",
       "      <th></th>\n",
       "      <th>player_name</th>\n",
       "      <th>tracker_id</th>\n",
       "      <th>solo_KillDeathRatio</th>\n",
       "      <th>solo_WinRatio</th>\n",
       "      <th>solo_TimeSurvived</th>\n",
       "      <th>solo_RoundsPlayed</th>\n",
       "      <th>solo_Wins</th>\n",
       "      <th>solo_WinTop10Ratio</th>\n",
       "      <th>solo_Top10s</th>\n",
       "      <th>solo_Top10Ratio</th>\n",
       "      <th>...</th>\n",
       "      <th>squad_RideDistance</th>\n",
       "      <th>squad_MoveDistance</th>\n",
       "      <th>squad_AvgWalkDistance</th>\n",
       "      <th>squad_AvgRideDistance</th>\n",
       "      <th>squad_LongestKill</th>\n",
       "      <th>squad_Heals</th>\n",
       "      <th>squad_Revives</th>\n",
       "      <th>squad_Boosts</th>\n",
       "      <th>squad_DamageDealt</th>\n",
       "      <th>squad_DBNOs</th>\n",
       "    </tr>\n",
       "  </thead>\n",
       "  <tbody>\n",
       "    <tr>\n",
       "      <th>0</th>\n",
       "      <td>BreakNeck</td>\n",
       "      <td>4405</td>\n",
       "      <td>3.14</td>\n",
       "      <td>17.65</td>\n",
       "      <td>18469.14</td>\n",
       "      <td>17</td>\n",
       "      <td>3</td>\n",
       "      <td>0.83</td>\n",
       "      <td>4</td>\n",
       "      <td>23.5</td>\n",
       "      <td>...</td>\n",
       "      <td>3751590.99</td>\n",
       "      <td>5194786.58</td>\n",
       "      <td>2626.97</td>\n",
       "      <td>4372.64</td>\n",
       "      <td>536.98</td>\n",
       "      <td>2186</td>\n",
       "      <td>234</td>\n",
       "      <td>1884</td>\n",
       "      <td>242132.73</td>\n",
       "      <td>1448</td>\n",
       "    </tr>\n",
       "    <tr>\n",
       "      <th>1</th>\n",
       "      <td>Blackwalk</td>\n",
       "      <td>8199</td>\n",
       "      <td>4.41</td>\n",
       "      <td>18.18</td>\n",
       "      <td>33014.86</td>\n",
       "      <td>33</td>\n",
       "      <td>6</td>\n",
       "      <td>0.36</td>\n",
       "      <td>11</td>\n",
       "      <td>33.3</td>\n",
       "      <td>...</td>\n",
       "      <td>4295917.30</td>\n",
       "      <td>6051783.67</td>\n",
       "      <td>2422.48</td>\n",
       "      <td>6009.73</td>\n",
       "      <td>734.85</td>\n",
       "      <td>2041</td>\n",
       "      <td>276</td>\n",
       "      <td>2340</td>\n",
       "      <td>269795.75</td>\n",
       "      <td>1724</td>\n",
       "    </tr>\n",
       "    <tr>\n",
       "      <th>2</th>\n",
       "      <td>mercedes_benz</td>\n",
       "      <td>4454</td>\n",
       "      <td>3.60</td>\n",
       "      <td>0.00</td>\n",
       "      <td>4330.44</td>\n",
       "      <td>5</td>\n",
       "      <td>0</td>\n",
       "      <td>0.00</td>\n",
       "      <td>1</td>\n",
       "      <td>20.0</td>\n",
       "      <td>...</td>\n",
       "      <td>3935265.63</td>\n",
       "      <td>5589608.74</td>\n",
       "      <td>1871.89</td>\n",
       "      <td>3011.87</td>\n",
       "      <td>725.44</td>\n",
       "      <td>1766</td>\n",
       "      <td>210</td>\n",
       "      <td>2193</td>\n",
       "      <td>292977.07</td>\n",
       "      <td>1897</td>\n",
       "    </tr>\n",
       "    <tr>\n",
       "      <th>3</th>\n",
       "      <td>DORA</td>\n",
       "      <td>7729</td>\n",
       "      <td>14.00</td>\n",
       "      <td>50.00</td>\n",
       "      <td>13421.82</td>\n",
       "      <td>8</td>\n",
       "      <td>4</td>\n",
       "      <td>0.67</td>\n",
       "      <td>6</td>\n",
       "      <td>75.0</td>\n",
       "      <td>...</td>\n",
       "      <td>2738998.00</td>\n",
       "      <td>3796916.00</td>\n",
       "      <td>2154.62</td>\n",
       "      <td>5578.41</td>\n",
       "      <td>587.28</td>\n",
       "      <td>1214</td>\n",
       "      <td>142</td>\n",
       "      <td>1252</td>\n",
       "      <td>181106.90</td>\n",
       "      <td>1057</td>\n",
       "    </tr>\n",
       "    <tr>\n",
       "      <th>4</th>\n",
       "      <td>n2tstar</td>\n",
       "      <td>0</td>\n",
       "      <td>10.50</td>\n",
       "      <td>33.33</td>\n",
       "      <td>9841.04</td>\n",
       "      <td>6</td>\n",
       "      <td>2</td>\n",
       "      <td>0.40</td>\n",
       "      <td>5</td>\n",
       "      <td>83.3</td>\n",
       "      <td>...</td>\n",
       "      <td>2347295.00</td>\n",
       "      <td>3220260.00</td>\n",
       "      <td>2098.47</td>\n",
       "      <td>5642.54</td>\n",
       "      <td>546.10</td>\n",
       "      <td>1245</td>\n",
       "      <td>120</td>\n",
       "      <td>923</td>\n",
       "      <td>160029.80</td>\n",
       "      <td>1077</td>\n",
       "    </tr>\n",
       "    <tr>\n",
       "      <th>5</th>\n",
       "      <td>coldoxygen</td>\n",
       "      <td>33313</td>\n",
       "      <td>5.73</td>\n",
       "      <td>31.25</td>\n",
       "      <td>22003.22</td>\n",
       "      <td>16</td>\n",
       "      <td>5</td>\n",
       "      <td>0.50</td>\n",
       "      <td>10</td>\n",
       "      <td>62.5</td>\n",
       "      <td>...</td>\n",
       "      <td>3218436.00</td>\n",
       "      <td>4733977.00</td>\n",
       "      <td>2078.93</td>\n",
       "      <td>4414.86</td>\n",
       "      <td>1212.76</td>\n",
       "      <td>2023</td>\n",
       "      <td>195</td>\n",
       "      <td>2307</td>\n",
       "      <td>238640.00</td>\n",
       "      <td>1450</td>\n",
       "    </tr>\n",
       "    <tr>\n",
       "      <th>6</th>\n",
       "      <td>Giken</td>\n",
       "      <td>15585</td>\n",
       "      <td>2.45</td>\n",
       "      <td>8.45</td>\n",
       "      <td>148051.25</td>\n",
       "      <td>142</td>\n",
       "      <td>12</td>\n",
       "      <td>0.18</td>\n",
       "      <td>34</td>\n",
       "      <td>23.9</td>\n",
       "      <td>...</td>\n",
       "      <td>2057423.12</td>\n",
       "      <td>2883099.31</td>\n",
       "      <td>1664.77</td>\n",
       "      <td>3022.51</td>\n",
       "      <td>564.20</td>\n",
       "      <td>1274</td>\n",
       "      <td>133</td>\n",
       "      <td>1320</td>\n",
       "      <td>132008.88</td>\n",
       "      <td>775</td>\n",
       "    </tr>\n",
       "    <tr>\n",
       "      <th>7</th>\n",
       "      <td>KoreaNo1</td>\n",
       "      <td>9454</td>\n",
       "      <td>2.71</td>\n",
       "      <td>26.32</td>\n",
       "      <td>26091.14</td>\n",
       "      <td>19</td>\n",
       "      <td>5</td>\n",
       "      <td>0.50</td>\n",
       "      <td>10</td>\n",
       "      <td>52.6</td>\n",
       "      <td>...</td>\n",
       "      <td>3586593.00</td>\n",
       "      <td>4854387.00</td>\n",
       "      <td>1635.86</td>\n",
       "      <td>4627.86</td>\n",
       "      <td>806.24</td>\n",
       "      <td>2199</td>\n",
       "      <td>163</td>\n",
       "      <td>1864</td>\n",
       "      <td>201659.00</td>\n",
       "      <td>1287</td>\n",
       "    </tr>\n",
       "    <tr>\n",
       "      <th>8</th>\n",
       "      <td>undor</td>\n",
       "      <td>24029</td>\n",
       "      <td>3.68</td>\n",
       "      <td>13.64</td>\n",
       "      <td>49282.41</td>\n",
       "      <td>44</td>\n",
       "      <td>6</td>\n",
       "      <td>0.23</td>\n",
       "      <td>13</td>\n",
       "      <td>29.5</td>\n",
       "      <td>...</td>\n",
       "      <td>1054263.00</td>\n",
       "      <td>1550975.00</td>\n",
       "      <td>2207.61</td>\n",
       "      <td>4685.61</td>\n",
       "      <td>455.67</td>\n",
       "      <td>617</td>\n",
       "      <td>61</td>\n",
       "      <td>585</td>\n",
       "      <td>80498.73</td>\n",
       "      <td>513</td>\n",
       "    </tr>\n",
       "    <tr>\n",
       "      <th>9</th>\n",
       "      <td>Fordune</td>\n",
       "      <td>11289</td>\n",
       "      <td>4.17</td>\n",
       "      <td>25.00</td>\n",
       "      <td>10280.77</td>\n",
       "      <td>8</td>\n",
       "      <td>2</td>\n",
       "      <td>0.25</td>\n",
       "      <td>4</td>\n",
       "      <td>50.0</td>\n",
       "      <td>...</td>\n",
       "      <td>2793909.91</td>\n",
       "      <td>4071039.87</td>\n",
       "      <td>1981.29</td>\n",
       "      <td>3635.28</td>\n",
       "      <td>546.95</td>\n",
       "      <td>1320</td>\n",
       "      <td>220</td>\n",
       "      <td>1338</td>\n",
       "      <td>123573.74</td>\n",
       "      <td>675</td>\n",
       "    </tr>\n",
       "  </tbody>\n",
       "</table>\n",
       "<p>10 rows × 152 columns</p>\n",
       "</div>"
      ],
      "text/plain": [
       "     player_name  tracker_id  solo_KillDeathRatio  solo_WinRatio  \\\n",
       "0      BreakNeck        4405                 3.14          17.65   \n",
       "1      Blackwalk        8199                 4.41          18.18   \n",
       "2  mercedes_benz        4454                 3.60           0.00   \n",
       "3           DORA        7729                14.00          50.00   \n",
       "4        n2tstar           0                10.50          33.33   \n",
       "5     coldoxygen       33313                 5.73          31.25   \n",
       "6          Giken       15585                 2.45           8.45   \n",
       "7       KoreaNo1        9454                 2.71          26.32   \n",
       "8          undor       24029                 3.68          13.64   \n",
       "9        Fordune       11289                 4.17          25.00   \n",
       "\n",
       "   solo_TimeSurvived  solo_RoundsPlayed  solo_Wins  solo_WinTop10Ratio  \\\n",
       "0           18469.14                 17          3                0.83   \n",
       "1           33014.86                 33          6                0.36   \n",
       "2            4330.44                  5          0                0.00   \n",
       "3           13421.82                  8          4                0.67   \n",
       "4            9841.04                  6          2                0.40   \n",
       "5           22003.22                 16          5                0.50   \n",
       "6          148051.25                142         12                0.18   \n",
       "7           26091.14                 19          5                0.50   \n",
       "8           49282.41                 44          6                0.23   \n",
       "9           10280.77                  8          2                0.25   \n",
       "\n",
       "   solo_Top10s  solo_Top10Ratio  ...  squad_RideDistance  squad_MoveDistance  \\\n",
       "0            4             23.5  ...          3751590.99          5194786.58   \n",
       "1           11             33.3  ...          4295917.30          6051783.67   \n",
       "2            1             20.0  ...          3935265.63          5589608.74   \n",
       "3            6             75.0  ...          2738998.00          3796916.00   \n",
       "4            5             83.3  ...          2347295.00          3220260.00   \n",
       "5           10             62.5  ...          3218436.00          4733977.00   \n",
       "6           34             23.9  ...          2057423.12          2883099.31   \n",
       "7           10             52.6  ...          3586593.00          4854387.00   \n",
       "8           13             29.5  ...          1054263.00          1550975.00   \n",
       "9            4             50.0  ...          2793909.91          4071039.87   \n",
       "\n",
       "   squad_AvgWalkDistance  squad_AvgRideDistance  squad_LongestKill  \\\n",
       "0                2626.97                4372.64             536.98   \n",
       "1                2422.48                6009.73             734.85   \n",
       "2                1871.89                3011.87             725.44   \n",
       "3                2154.62                5578.41             587.28   \n",
       "4                2098.47                5642.54             546.10   \n",
       "5                2078.93                4414.86            1212.76   \n",
       "6                1664.77                3022.51             564.20   \n",
       "7                1635.86                4627.86             806.24   \n",
       "8                2207.61                4685.61             455.67   \n",
       "9                1981.29                3635.28             546.95   \n",
       "\n",
       "   squad_Heals  squad_Revives  squad_Boosts  squad_DamageDealt  squad_DBNOs  \n",
       "0         2186            234          1884          242132.73         1448  \n",
       "1         2041            276          2340          269795.75         1724  \n",
       "2         1766            210          2193          292977.07         1897  \n",
       "3         1214            142          1252          181106.90         1057  \n",
       "4         1245            120           923          160029.80         1077  \n",
       "5         2023            195          2307          238640.00         1450  \n",
       "6         1274            133          1320          132008.88          775  \n",
       "7         2199            163          1864          201659.00         1287  \n",
       "8          617             61           585           80498.73          513  \n",
       "9         1320            220          1338          123573.74          675  \n",
       "\n",
       "[10 rows x 152 columns]"
      ]
     },
     "execution_count": 32,
     "metadata": {},
     "output_type": "execute_result"
    }
   ],
   "source": [
    "df_bar_pubg.head(10)"
   ]
  },
  {
   "cell_type": "code",
   "execution_count": 33,
   "metadata": {
    "id": "RUQ-WLP8ahjY",
    "outputId": "1d519558-177a-46d8-a1ff-aa387c83b1c9"
   },
   "outputs": [
    {
     "data": {
      "application/vnd.plotly.v1+json": {
       "config": {
        "linkText": "Export to plot.ly",
        "plotlyServerURL": "https://plot.ly",
        "showLink": false
       },
       "data": [
        {
         "marker": {
          "color": "rgb(0, 0, 128)",
          "opacity": 0.4,
          "size": 3
         },
         "mode": "markers",
         "name": "points",
         "type": "scatter",
         "x": [
          3,
          6,
          0,
          4,
          2,
          5,
          12,
          5,
          6,
          2,
          7,
          4,
          9,
          4,
          3,
          1,
          38,
          12,
          6,
          2,
          7,
          4,
          3,
          2,
          48,
          63,
          4,
          3,
          3,
          2
         ],
         "y": [
          18469.14,
          33014.86,
          4330.44,
          13421.82,
          9841.04,
          22003.22,
          148051.25,
          26091.14,
          49282.41,
          10280.77,
          106330.23,
          232995.54,
          91380.4,
          71910.46,
          30996.86,
          3638.01,
          246771.12,
          87214.43,
          20927.23,
          45916.37,
          62763.42,
          43124.07,
          11733.19,
          18488.62,
          331173.26,
          397022.2,
          87514.41,
          53548.14,
          47966.09,
          25094.18
         ]
        },
        {
         "colorscale": [
          [
           0,
           "rgb(122, 69, 121)"
          ],
          [
           0.25,
           "rgb(213, 96, 115)"
          ],
          [
           0.5,
           "rgb(236, 158, 105)"
          ],
          [
           0.75,
           "rgb(255, 255, 51)"
          ],
          [
           1,
           "rgb(250, 250, 250)"
          ]
         ],
         "name": "density",
         "ncontours": 20,
         "reversescale": true,
         "showscale": false,
         "type": "histogram2dcontour",
         "x": [
          3,
          6,
          0,
          4,
          2,
          5,
          12,
          5,
          6,
          2,
          7,
          4,
          9,
          4,
          3,
          1,
          38,
          12,
          6,
          2,
          7,
          4,
          3,
          2,
          48,
          63,
          4,
          3,
          3,
          2
         ],
         "y": [
          18469.14,
          33014.86,
          4330.44,
          13421.82,
          9841.04,
          22003.22,
          148051.25,
          26091.14,
          49282.41,
          10280.77,
          106330.23,
          232995.54,
          91380.4,
          71910.46,
          30996.86,
          3638.01,
          246771.12,
          87214.43,
          20927.23,
          45916.37,
          62763.42,
          43124.07,
          11733.19,
          18488.62,
          331173.26,
          397022.2,
          87514.41,
          53548.14,
          47966.09,
          25094.18
         ]
        },
        {
         "marker": {
          "color": "rgb(255, 237, 222)"
         },
         "name": "x density",
         "type": "histogram",
         "x": [
          3,
          6,
          0,
          4,
          2,
          5,
          12,
          5,
          6,
          2,
          7,
          4,
          9,
          4,
          3,
          1,
          38,
          12,
          6,
          2,
          7,
          4,
          3,
          2,
          48,
          63,
          4,
          3,
          3,
          2
         ],
         "yaxis": "y2"
        },
        {
         "marker": {
          "color": "rgb(255, 237, 222)"
         },
         "name": "y density",
         "type": "histogram",
         "xaxis": "x2",
         "y": [
          18469.14,
          33014.86,
          4330.44,
          13421.82,
          9841.04,
          22003.22,
          148051.25,
          26091.14,
          49282.41,
          10280.77,
          106330.23,
          232995.54,
          91380.4,
          71910.46,
          30996.86,
          3638.01,
          246771.12,
          87214.43,
          20927.23,
          45916.37,
          62763.42,
          43124.07,
          11733.19,
          18488.62,
          331173.26,
          397022.2,
          87514.41,
          53548.14,
          47966.09,
          25094.18
         ]
        }
       ],
       "layout": {
        "autosize": false,
        "bargap": 0,
        "height": 600,
        "hovermode": "closest",
        "margin": {
         "t": 50
        },
        "showlegend": false,
        "template": {
         "data": {
          "bar": [
           {
            "error_x": {
             "color": "#2a3f5f"
            },
            "error_y": {
             "color": "#2a3f5f"
            },
            "marker": {
             "line": {
              "color": "#E5ECF6",
              "width": 0.5
             },
             "pattern": {
              "fillmode": "overlay",
              "size": 10,
              "solidity": 0.2
             }
            },
            "type": "bar"
           }
          ],
          "barpolar": [
           {
            "marker": {
             "line": {
              "color": "#E5ECF6",
              "width": 0.5
             },
             "pattern": {
              "fillmode": "overlay",
              "size": 10,
              "solidity": 0.2
             }
            },
            "type": "barpolar"
           }
          ],
          "carpet": [
           {
            "aaxis": {
             "endlinecolor": "#2a3f5f",
             "gridcolor": "white",
             "linecolor": "white",
             "minorgridcolor": "white",
             "startlinecolor": "#2a3f5f"
            },
            "baxis": {
             "endlinecolor": "#2a3f5f",
             "gridcolor": "white",
             "linecolor": "white",
             "minorgridcolor": "white",
             "startlinecolor": "#2a3f5f"
            },
            "type": "carpet"
           }
          ],
          "choropleth": [
           {
            "colorbar": {
             "outlinewidth": 0,
             "ticks": ""
            },
            "type": "choropleth"
           }
          ],
          "contour": [
           {
            "colorbar": {
             "outlinewidth": 0,
             "ticks": ""
            },
            "colorscale": [
             [
              0,
              "#0d0887"
             ],
             [
              0.1111111111111111,
              "#46039f"
             ],
             [
              0.2222222222222222,
              "#7201a8"
             ],
             [
              0.3333333333333333,
              "#9c179e"
             ],
             [
              0.4444444444444444,
              "#bd3786"
             ],
             [
              0.5555555555555556,
              "#d8576b"
             ],
             [
              0.6666666666666666,
              "#ed7953"
             ],
             [
              0.7777777777777778,
              "#fb9f3a"
             ],
             [
              0.8888888888888888,
              "#fdca26"
             ],
             [
              1,
              "#f0f921"
             ]
            ],
            "type": "contour"
           }
          ],
          "contourcarpet": [
           {
            "colorbar": {
             "outlinewidth": 0,
             "ticks": ""
            },
            "type": "contourcarpet"
           }
          ],
          "heatmap": [
           {
            "colorbar": {
             "outlinewidth": 0,
             "ticks": ""
            },
            "colorscale": [
             [
              0,
              "#0d0887"
             ],
             [
              0.1111111111111111,
              "#46039f"
             ],
             [
              0.2222222222222222,
              "#7201a8"
             ],
             [
              0.3333333333333333,
              "#9c179e"
             ],
             [
              0.4444444444444444,
              "#bd3786"
             ],
             [
              0.5555555555555556,
              "#d8576b"
             ],
             [
              0.6666666666666666,
              "#ed7953"
             ],
             [
              0.7777777777777778,
              "#fb9f3a"
             ],
             [
              0.8888888888888888,
              "#fdca26"
             ],
             [
              1,
              "#f0f921"
             ]
            ],
            "type": "heatmap"
           }
          ],
          "heatmapgl": [
           {
            "colorbar": {
             "outlinewidth": 0,
             "ticks": ""
            },
            "colorscale": [
             [
              0,
              "#0d0887"
             ],
             [
              0.1111111111111111,
              "#46039f"
             ],
             [
              0.2222222222222222,
              "#7201a8"
             ],
             [
              0.3333333333333333,
              "#9c179e"
             ],
             [
              0.4444444444444444,
              "#bd3786"
             ],
             [
              0.5555555555555556,
              "#d8576b"
             ],
             [
              0.6666666666666666,
              "#ed7953"
             ],
             [
              0.7777777777777778,
              "#fb9f3a"
             ],
             [
              0.8888888888888888,
              "#fdca26"
             ],
             [
              1,
              "#f0f921"
             ]
            ],
            "type": "heatmapgl"
           }
          ],
          "histogram": [
           {
            "marker": {
             "pattern": {
              "fillmode": "overlay",
              "size": 10,
              "solidity": 0.2
             }
            },
            "type": "histogram"
           }
          ],
          "histogram2d": [
           {
            "colorbar": {
             "outlinewidth": 0,
             "ticks": ""
            },
            "colorscale": [
             [
              0,
              "#0d0887"
             ],
             [
              0.1111111111111111,
              "#46039f"
             ],
             [
              0.2222222222222222,
              "#7201a8"
             ],
             [
              0.3333333333333333,
              "#9c179e"
             ],
             [
              0.4444444444444444,
              "#bd3786"
             ],
             [
              0.5555555555555556,
              "#d8576b"
             ],
             [
              0.6666666666666666,
              "#ed7953"
             ],
             [
              0.7777777777777778,
              "#fb9f3a"
             ],
             [
              0.8888888888888888,
              "#fdca26"
             ],
             [
              1,
              "#f0f921"
             ]
            ],
            "type": "histogram2d"
           }
          ],
          "histogram2dcontour": [
           {
            "colorbar": {
             "outlinewidth": 0,
             "ticks": ""
            },
            "colorscale": [
             [
              0,
              "#0d0887"
             ],
             [
              0.1111111111111111,
              "#46039f"
             ],
             [
              0.2222222222222222,
              "#7201a8"
             ],
             [
              0.3333333333333333,
              "#9c179e"
             ],
             [
              0.4444444444444444,
              "#bd3786"
             ],
             [
              0.5555555555555556,
              "#d8576b"
             ],
             [
              0.6666666666666666,
              "#ed7953"
             ],
             [
              0.7777777777777778,
              "#fb9f3a"
             ],
             [
              0.8888888888888888,
              "#fdca26"
             ],
             [
              1,
              "#f0f921"
             ]
            ],
            "type": "histogram2dcontour"
           }
          ],
          "mesh3d": [
           {
            "colorbar": {
             "outlinewidth": 0,
             "ticks": ""
            },
            "type": "mesh3d"
           }
          ],
          "parcoords": [
           {
            "line": {
             "colorbar": {
              "outlinewidth": 0,
              "ticks": ""
             }
            },
            "type": "parcoords"
           }
          ],
          "pie": [
           {
            "automargin": true,
            "type": "pie"
           }
          ],
          "scatter": [
           {
            "marker": {
             "colorbar": {
              "outlinewidth": 0,
              "ticks": ""
             }
            },
            "type": "scatter"
           }
          ],
          "scatter3d": [
           {
            "line": {
             "colorbar": {
              "outlinewidth": 0,
              "ticks": ""
             }
            },
            "marker": {
             "colorbar": {
              "outlinewidth": 0,
              "ticks": ""
             }
            },
            "type": "scatter3d"
           }
          ],
          "scattercarpet": [
           {
            "marker": {
             "colorbar": {
              "outlinewidth": 0,
              "ticks": ""
             }
            },
            "type": "scattercarpet"
           }
          ],
          "scattergeo": [
           {
            "marker": {
             "colorbar": {
              "outlinewidth": 0,
              "ticks": ""
             }
            },
            "type": "scattergeo"
           }
          ],
          "scattergl": [
           {
            "marker": {
             "colorbar": {
              "outlinewidth": 0,
              "ticks": ""
             }
            },
            "type": "scattergl"
           }
          ],
          "scattermapbox": [
           {
            "marker": {
             "colorbar": {
              "outlinewidth": 0,
              "ticks": ""
             }
            },
            "type": "scattermapbox"
           }
          ],
          "scatterpolar": [
           {
            "marker": {
             "colorbar": {
              "outlinewidth": 0,
              "ticks": ""
             }
            },
            "type": "scatterpolar"
           }
          ],
          "scatterpolargl": [
           {
            "marker": {
             "colorbar": {
              "outlinewidth": 0,
              "ticks": ""
             }
            },
            "type": "scatterpolargl"
           }
          ],
          "scatterternary": [
           {
            "marker": {
             "colorbar": {
              "outlinewidth": 0,
              "ticks": ""
             }
            },
            "type": "scatterternary"
           }
          ],
          "surface": [
           {
            "colorbar": {
             "outlinewidth": 0,
             "ticks": ""
            },
            "colorscale": [
             [
              0,
              "#0d0887"
             ],
             [
              0.1111111111111111,
              "#46039f"
             ],
             [
              0.2222222222222222,
              "#7201a8"
             ],
             [
              0.3333333333333333,
              "#9c179e"
             ],
             [
              0.4444444444444444,
              "#bd3786"
             ],
             [
              0.5555555555555556,
              "#d8576b"
             ],
             [
              0.6666666666666666,
              "#ed7953"
             ],
             [
              0.7777777777777778,
              "#fb9f3a"
             ],
             [
              0.8888888888888888,
              "#fdca26"
             ],
             [
              1,
              "#f0f921"
             ]
            ],
            "type": "surface"
           }
          ],
          "table": [
           {
            "cells": {
             "fill": {
              "color": "#EBF0F8"
             },
             "line": {
              "color": "white"
             }
            },
            "header": {
             "fill": {
              "color": "#C8D4E3"
             },
             "line": {
              "color": "white"
             }
            },
            "type": "table"
           }
          ]
         },
         "layout": {
          "annotationdefaults": {
           "arrowcolor": "#2a3f5f",
           "arrowhead": 0,
           "arrowwidth": 1
          },
          "autotypenumbers": "strict",
          "coloraxis": {
           "colorbar": {
            "outlinewidth": 0,
            "ticks": ""
           }
          },
          "colorscale": {
           "diverging": [
            [
             0,
             "#8e0152"
            ],
            [
             0.1,
             "#c51b7d"
            ],
            [
             0.2,
             "#de77ae"
            ],
            [
             0.3,
             "#f1b6da"
            ],
            [
             0.4,
             "#fde0ef"
            ],
            [
             0.5,
             "#f7f7f7"
            ],
            [
             0.6,
             "#e6f5d0"
            ],
            [
             0.7,
             "#b8e186"
            ],
            [
             0.8,
             "#7fbc41"
            ],
            [
             0.9,
             "#4d9221"
            ],
            [
             1,
             "#276419"
            ]
           ],
           "sequential": [
            [
             0,
             "#0d0887"
            ],
            [
             0.1111111111111111,
             "#46039f"
            ],
            [
             0.2222222222222222,
             "#7201a8"
            ],
            [
             0.3333333333333333,
             "#9c179e"
            ],
            [
             0.4444444444444444,
             "#bd3786"
            ],
            [
             0.5555555555555556,
             "#d8576b"
            ],
            [
             0.6666666666666666,
             "#ed7953"
            ],
            [
             0.7777777777777778,
             "#fb9f3a"
            ],
            [
             0.8888888888888888,
             "#fdca26"
            ],
            [
             1,
             "#f0f921"
            ]
           ],
           "sequentialminus": [
            [
             0,
             "#0d0887"
            ],
            [
             0.1111111111111111,
             "#46039f"
            ],
            [
             0.2222222222222222,
             "#7201a8"
            ],
            [
             0.3333333333333333,
             "#9c179e"
            ],
            [
             0.4444444444444444,
             "#bd3786"
            ],
            [
             0.5555555555555556,
             "#d8576b"
            ],
            [
             0.6666666666666666,
             "#ed7953"
            ],
            [
             0.7777777777777778,
             "#fb9f3a"
            ],
            [
             0.8888888888888888,
             "#fdca26"
            ],
            [
             1,
             "#f0f921"
            ]
           ]
          },
          "colorway": [
           "#636efa",
           "#EF553B",
           "#00cc96",
           "#ab63fa",
           "#FFA15A",
           "#19d3f3",
           "#FF6692",
           "#B6E880",
           "#FF97FF",
           "#FECB52"
          ],
          "font": {
           "color": "#2a3f5f"
          },
          "geo": {
           "bgcolor": "white",
           "lakecolor": "white",
           "landcolor": "#E5ECF6",
           "showlakes": true,
           "showland": true,
           "subunitcolor": "white"
          },
          "hoverlabel": {
           "align": "left"
          },
          "hovermode": "closest",
          "mapbox": {
           "style": "light"
          },
          "paper_bgcolor": "white",
          "plot_bgcolor": "#E5ECF6",
          "polar": {
           "angularaxis": {
            "gridcolor": "white",
            "linecolor": "white",
            "ticks": ""
           },
           "bgcolor": "#E5ECF6",
           "radialaxis": {
            "gridcolor": "white",
            "linecolor": "white",
            "ticks": ""
           }
          },
          "scene": {
           "xaxis": {
            "backgroundcolor": "#E5ECF6",
            "gridcolor": "white",
            "gridwidth": 2,
            "linecolor": "white",
            "showbackground": true,
            "ticks": "",
            "zerolinecolor": "white"
           },
           "yaxis": {
            "backgroundcolor": "#E5ECF6",
            "gridcolor": "white",
            "gridwidth": 2,
            "linecolor": "white",
            "showbackground": true,
            "ticks": "",
            "zerolinecolor": "white"
           },
           "zaxis": {
            "backgroundcolor": "#E5ECF6",
            "gridcolor": "white",
            "gridwidth": 2,
            "linecolor": "white",
            "showbackground": true,
            "ticks": "",
            "zerolinecolor": "white"
           }
          },
          "shapedefaults": {
           "line": {
            "color": "#2a3f5f"
           }
          },
          "ternary": {
           "aaxis": {
            "gridcolor": "white",
            "linecolor": "white",
            "ticks": ""
           },
           "baxis": {
            "gridcolor": "white",
            "linecolor": "white",
            "ticks": ""
           },
           "bgcolor": "#E5ECF6",
           "caxis": {
            "gridcolor": "white",
            "linecolor": "white",
            "ticks": ""
           }
          },
          "title": {
           "x": 0.05
          },
          "xaxis": {
           "automargin": true,
           "gridcolor": "white",
           "linecolor": "white",
           "ticks": "",
           "title": {
            "standoff": 15
           },
           "zerolinecolor": "white",
           "zerolinewidth": 2
          },
          "yaxis": {
           "automargin": true,
           "gridcolor": "white",
           "linecolor": "white",
           "ticks": "",
           "title": {
            "standoff": 15
           },
           "zerolinecolor": "white",
           "zerolinewidth": 2
          }
         }
        },
        "title": {
         "text": "2D Density Plot"
        },
        "width": 600,
        "xaxis": {
         "domain": [
          0,
          0.85
         ],
         "showgrid": false,
         "zeroline": false
        },
        "xaxis2": {
         "domain": [
          0.85,
          1
         ],
         "showgrid": false,
         "zeroline": false
        },
        "yaxis": {
         "domain": [
          0,
          0.85
         ],
         "showgrid": false,
         "zeroline": false
        },
        "yaxis2": {
         "domain": [
          0.85,
          1
         ],
         "showgrid": false,
         "zeroline": false
        }
       }
      },
      "text/html": [
       "<div>                            <div id=\"faa5918d-c818-453d-9afa-4b6e5652bf65\" class=\"plotly-graph-div\" style=\"height:600px; width:600px;\"></div>            <script type=\"text/javascript\">                require([\"plotly\"], function(Plotly) {                    window.PLOTLYENV=window.PLOTLYENV || {};                                    if (document.getElementById(\"faa5918d-c818-453d-9afa-4b6e5652bf65\")) {                    Plotly.newPlot(                        \"faa5918d-c818-453d-9afa-4b6e5652bf65\",                        [{\"marker\":{\"color\":\"rgb(0, 0, 128)\",\"opacity\":0.4,\"size\":3},\"mode\":\"markers\",\"name\":\"points\",\"type\":\"scatter\",\"x\":[3,6,0,4,2,5,12,5,6,2,7,4,9,4,3,1,38,12,6,2,7,4,3,2,48,63,4,3,3,2],\"y\":[18469.14,33014.86,4330.44,13421.82,9841.04,22003.22,148051.25,26091.14,49282.41,10280.77,106330.23,232995.54,91380.4,71910.46,30996.86,3638.01,246771.12,87214.43,20927.23,45916.37,62763.42,43124.07,11733.19,18488.62,331173.26,397022.2,87514.41,53548.14,47966.09,25094.18]},{\"colorscale\":[[0.0,\"rgb(122, 69, 121)\"],[0.25,\"rgb(213, 96, 115)\"],[0.5,\"rgb(236, 158, 105)\"],[0.75,\"rgb(255, 255, 51)\"],[1.0,\"rgb(250, 250, 250)\"]],\"name\":\"density\",\"ncontours\":20,\"reversescale\":true,\"showscale\":false,\"type\":\"histogram2dcontour\",\"x\":[3,6,0,4,2,5,12,5,6,2,7,4,9,4,3,1,38,12,6,2,7,4,3,2,48,63,4,3,3,2],\"y\":[18469.14,33014.86,4330.44,13421.82,9841.04,22003.22,148051.25,26091.14,49282.41,10280.77,106330.23,232995.54,91380.4,71910.46,30996.86,3638.01,246771.12,87214.43,20927.23,45916.37,62763.42,43124.07,11733.19,18488.62,331173.26,397022.2,87514.41,53548.14,47966.09,25094.18]},{\"marker\":{\"color\":\"rgb(255, 237, 222)\"},\"name\":\"x density\",\"type\":\"histogram\",\"x\":[3,6,0,4,2,5,12,5,6,2,7,4,9,4,3,1,38,12,6,2,7,4,3,2,48,63,4,3,3,2],\"yaxis\":\"y2\"},{\"marker\":{\"color\":\"rgb(255, 237, 222)\"},\"name\":\"y density\",\"type\":\"histogram\",\"xaxis\":\"x2\",\"y\":[18469.14,33014.86,4330.44,13421.82,9841.04,22003.22,148051.25,26091.14,49282.41,10280.77,106330.23,232995.54,91380.4,71910.46,30996.86,3638.01,246771.12,87214.43,20927.23,45916.37,62763.42,43124.07,11733.19,18488.62,331173.26,397022.2,87514.41,53548.14,47966.09,25094.18]}],                        {\"autosize\":false,\"bargap\":0,\"height\":600,\"hovermode\":\"closest\",\"margin\":{\"t\":50},\"showlegend\":false,\"template\":{\"data\":{\"bar\":[{\"error_x\":{\"color\":\"#2a3f5f\"},\"error_y\":{\"color\":\"#2a3f5f\"},\"marker\":{\"line\":{\"color\":\"#E5ECF6\",\"width\":0.5},\"pattern\":{\"fillmode\":\"overlay\",\"size\":10,\"solidity\":0.2}},\"type\":\"bar\"}],\"barpolar\":[{\"marker\":{\"line\":{\"color\":\"#E5ECF6\",\"width\":0.5},\"pattern\":{\"fillmode\":\"overlay\",\"size\":10,\"solidity\":0.2}},\"type\":\"barpolar\"}],\"carpet\":[{\"aaxis\":{\"endlinecolor\":\"#2a3f5f\",\"gridcolor\":\"white\",\"linecolor\":\"white\",\"minorgridcolor\":\"white\",\"startlinecolor\":\"#2a3f5f\"},\"baxis\":{\"endlinecolor\":\"#2a3f5f\",\"gridcolor\":\"white\",\"linecolor\":\"white\",\"minorgridcolor\":\"white\",\"startlinecolor\":\"#2a3f5f\"},\"type\":\"carpet\"}],\"choropleth\":[{\"colorbar\":{\"outlinewidth\":0,\"ticks\":\"\"},\"type\":\"choropleth\"}],\"contour\":[{\"colorbar\":{\"outlinewidth\":0,\"ticks\":\"\"},\"colorscale\":[[0.0,\"#0d0887\"],[0.1111111111111111,\"#46039f\"],[0.2222222222222222,\"#7201a8\"],[0.3333333333333333,\"#9c179e\"],[0.4444444444444444,\"#bd3786\"],[0.5555555555555556,\"#d8576b\"],[0.6666666666666666,\"#ed7953\"],[0.7777777777777778,\"#fb9f3a\"],[0.8888888888888888,\"#fdca26\"],[1.0,\"#f0f921\"]],\"type\":\"contour\"}],\"contourcarpet\":[{\"colorbar\":{\"outlinewidth\":0,\"ticks\":\"\"},\"type\":\"contourcarpet\"}],\"heatmap\":[{\"colorbar\":{\"outlinewidth\":0,\"ticks\":\"\"},\"colorscale\":[[0.0,\"#0d0887\"],[0.1111111111111111,\"#46039f\"],[0.2222222222222222,\"#7201a8\"],[0.3333333333333333,\"#9c179e\"],[0.4444444444444444,\"#bd3786\"],[0.5555555555555556,\"#d8576b\"],[0.6666666666666666,\"#ed7953\"],[0.7777777777777778,\"#fb9f3a\"],[0.8888888888888888,\"#fdca26\"],[1.0,\"#f0f921\"]],\"type\":\"heatmap\"}],\"heatmapgl\":[{\"colorbar\":{\"outlinewidth\":0,\"ticks\":\"\"},\"colorscale\":[[0.0,\"#0d0887\"],[0.1111111111111111,\"#46039f\"],[0.2222222222222222,\"#7201a8\"],[0.3333333333333333,\"#9c179e\"],[0.4444444444444444,\"#bd3786\"],[0.5555555555555556,\"#d8576b\"],[0.6666666666666666,\"#ed7953\"],[0.7777777777777778,\"#fb9f3a\"],[0.8888888888888888,\"#fdca26\"],[1.0,\"#f0f921\"]],\"type\":\"heatmapgl\"}],\"histogram\":[{\"marker\":{\"pattern\":{\"fillmode\":\"overlay\",\"size\":10,\"solidity\":0.2}},\"type\":\"histogram\"}],\"histogram2d\":[{\"colorbar\":{\"outlinewidth\":0,\"ticks\":\"\"},\"colorscale\":[[0.0,\"#0d0887\"],[0.1111111111111111,\"#46039f\"],[0.2222222222222222,\"#7201a8\"],[0.3333333333333333,\"#9c179e\"],[0.4444444444444444,\"#bd3786\"],[0.5555555555555556,\"#d8576b\"],[0.6666666666666666,\"#ed7953\"],[0.7777777777777778,\"#fb9f3a\"],[0.8888888888888888,\"#fdca26\"],[1.0,\"#f0f921\"]],\"type\":\"histogram2d\"}],\"histogram2dcontour\":[{\"colorbar\":{\"outlinewidth\":0,\"ticks\":\"\"},\"colorscale\":[[0.0,\"#0d0887\"],[0.1111111111111111,\"#46039f\"],[0.2222222222222222,\"#7201a8\"],[0.3333333333333333,\"#9c179e\"],[0.4444444444444444,\"#bd3786\"],[0.5555555555555556,\"#d8576b\"],[0.6666666666666666,\"#ed7953\"],[0.7777777777777778,\"#fb9f3a\"],[0.8888888888888888,\"#fdca26\"],[1.0,\"#f0f921\"]],\"type\":\"histogram2dcontour\"}],\"mesh3d\":[{\"colorbar\":{\"outlinewidth\":0,\"ticks\":\"\"},\"type\":\"mesh3d\"}],\"parcoords\":[{\"line\":{\"colorbar\":{\"outlinewidth\":0,\"ticks\":\"\"}},\"type\":\"parcoords\"}],\"pie\":[{\"automargin\":true,\"type\":\"pie\"}],\"scatter\":[{\"marker\":{\"colorbar\":{\"outlinewidth\":0,\"ticks\":\"\"}},\"type\":\"scatter\"}],\"scatter3d\":[{\"line\":{\"colorbar\":{\"outlinewidth\":0,\"ticks\":\"\"}},\"marker\":{\"colorbar\":{\"outlinewidth\":0,\"ticks\":\"\"}},\"type\":\"scatter3d\"}],\"scattercarpet\":[{\"marker\":{\"colorbar\":{\"outlinewidth\":0,\"ticks\":\"\"}},\"type\":\"scattercarpet\"}],\"scattergeo\":[{\"marker\":{\"colorbar\":{\"outlinewidth\":0,\"ticks\":\"\"}},\"type\":\"scattergeo\"}],\"scattergl\":[{\"marker\":{\"colorbar\":{\"outlinewidth\":0,\"ticks\":\"\"}},\"type\":\"scattergl\"}],\"scattermapbox\":[{\"marker\":{\"colorbar\":{\"outlinewidth\":0,\"ticks\":\"\"}},\"type\":\"scattermapbox\"}],\"scatterpolar\":[{\"marker\":{\"colorbar\":{\"outlinewidth\":0,\"ticks\":\"\"}},\"type\":\"scatterpolar\"}],\"scatterpolargl\":[{\"marker\":{\"colorbar\":{\"outlinewidth\":0,\"ticks\":\"\"}},\"type\":\"scatterpolargl\"}],\"scatterternary\":[{\"marker\":{\"colorbar\":{\"outlinewidth\":0,\"ticks\":\"\"}},\"type\":\"scatterternary\"}],\"surface\":[{\"colorbar\":{\"outlinewidth\":0,\"ticks\":\"\"},\"colorscale\":[[0.0,\"#0d0887\"],[0.1111111111111111,\"#46039f\"],[0.2222222222222222,\"#7201a8\"],[0.3333333333333333,\"#9c179e\"],[0.4444444444444444,\"#bd3786\"],[0.5555555555555556,\"#d8576b\"],[0.6666666666666666,\"#ed7953\"],[0.7777777777777778,\"#fb9f3a\"],[0.8888888888888888,\"#fdca26\"],[1.0,\"#f0f921\"]],\"type\":\"surface\"}],\"table\":[{\"cells\":{\"fill\":{\"color\":\"#EBF0F8\"},\"line\":{\"color\":\"white\"}},\"header\":{\"fill\":{\"color\":\"#C8D4E3\"},\"line\":{\"color\":\"white\"}},\"type\":\"table\"}]},\"layout\":{\"annotationdefaults\":{\"arrowcolor\":\"#2a3f5f\",\"arrowhead\":0,\"arrowwidth\":1},\"autotypenumbers\":\"strict\",\"coloraxis\":{\"colorbar\":{\"outlinewidth\":0,\"ticks\":\"\"}},\"colorscale\":{\"diverging\":[[0,\"#8e0152\"],[0.1,\"#c51b7d\"],[0.2,\"#de77ae\"],[0.3,\"#f1b6da\"],[0.4,\"#fde0ef\"],[0.5,\"#f7f7f7\"],[0.6,\"#e6f5d0\"],[0.7,\"#b8e186\"],[0.8,\"#7fbc41\"],[0.9,\"#4d9221\"],[1,\"#276419\"]],\"sequential\":[[0.0,\"#0d0887\"],[0.1111111111111111,\"#46039f\"],[0.2222222222222222,\"#7201a8\"],[0.3333333333333333,\"#9c179e\"],[0.4444444444444444,\"#bd3786\"],[0.5555555555555556,\"#d8576b\"],[0.6666666666666666,\"#ed7953\"],[0.7777777777777778,\"#fb9f3a\"],[0.8888888888888888,\"#fdca26\"],[1.0,\"#f0f921\"]],\"sequentialminus\":[[0.0,\"#0d0887\"],[0.1111111111111111,\"#46039f\"],[0.2222222222222222,\"#7201a8\"],[0.3333333333333333,\"#9c179e\"],[0.4444444444444444,\"#bd3786\"],[0.5555555555555556,\"#d8576b\"],[0.6666666666666666,\"#ed7953\"],[0.7777777777777778,\"#fb9f3a\"],[0.8888888888888888,\"#fdca26\"],[1.0,\"#f0f921\"]]},\"colorway\":[\"#636efa\",\"#EF553B\",\"#00cc96\",\"#ab63fa\",\"#FFA15A\",\"#19d3f3\",\"#FF6692\",\"#B6E880\",\"#FF97FF\",\"#FECB52\"],\"font\":{\"color\":\"#2a3f5f\"},\"geo\":{\"bgcolor\":\"white\",\"lakecolor\":\"white\",\"landcolor\":\"#E5ECF6\",\"showlakes\":true,\"showland\":true,\"subunitcolor\":\"white\"},\"hoverlabel\":{\"align\":\"left\"},\"hovermode\":\"closest\",\"mapbox\":{\"style\":\"light\"},\"paper_bgcolor\":\"white\",\"plot_bgcolor\":\"#E5ECF6\",\"polar\":{\"angularaxis\":{\"gridcolor\":\"white\",\"linecolor\":\"white\",\"ticks\":\"\"},\"bgcolor\":\"#E5ECF6\",\"radialaxis\":{\"gridcolor\":\"white\",\"linecolor\":\"white\",\"ticks\":\"\"}},\"scene\":{\"xaxis\":{\"backgroundcolor\":\"#E5ECF6\",\"gridcolor\":\"white\",\"gridwidth\":2,\"linecolor\":\"white\",\"showbackground\":true,\"ticks\":\"\",\"zerolinecolor\":\"white\"},\"yaxis\":{\"backgroundcolor\":\"#E5ECF6\",\"gridcolor\":\"white\",\"gridwidth\":2,\"linecolor\":\"white\",\"showbackground\":true,\"ticks\":\"\",\"zerolinecolor\":\"white\"},\"zaxis\":{\"backgroundcolor\":\"#E5ECF6\",\"gridcolor\":\"white\",\"gridwidth\":2,\"linecolor\":\"white\",\"showbackground\":true,\"ticks\":\"\",\"zerolinecolor\":\"white\"}},\"shapedefaults\":{\"line\":{\"color\":\"#2a3f5f\"}},\"ternary\":{\"aaxis\":{\"gridcolor\":\"white\",\"linecolor\":\"white\",\"ticks\":\"\"},\"baxis\":{\"gridcolor\":\"white\",\"linecolor\":\"white\",\"ticks\":\"\"},\"bgcolor\":\"#E5ECF6\",\"caxis\":{\"gridcolor\":\"white\",\"linecolor\":\"white\",\"ticks\":\"\"}},\"title\":{\"x\":0.05},\"xaxis\":{\"automargin\":true,\"gridcolor\":\"white\",\"linecolor\":\"white\",\"ticks\":\"\",\"title\":{\"standoff\":15},\"zerolinecolor\":\"white\",\"zerolinewidth\":2},\"yaxis\":{\"automargin\":true,\"gridcolor\":\"white\",\"linecolor\":\"white\",\"ticks\":\"\",\"title\":{\"standoff\":15},\"zerolinecolor\":\"white\",\"zerolinewidth\":2}}},\"title\":{\"text\":\"2D Density Plot\"},\"width\":600,\"xaxis\":{\"domain\":[0,0.85],\"showgrid\":false,\"zeroline\":false},\"xaxis2\":{\"domain\":[0.85,1],\"showgrid\":false,\"zeroline\":false},\"yaxis\":{\"domain\":[0,0.85],\"showgrid\":false,\"zeroline\":false},\"yaxis2\":{\"domain\":[0.85,1],\"showgrid\":false,\"zeroline\":false}},                        {\"responsive\": true}                    ).then(function(){\n",
       "                            \n",
       "var gd = document.getElementById('faa5918d-c818-453d-9afa-4b6e5652bf65');\n",
       "var x = new MutationObserver(function (mutations, observer) {{\n",
       "        var display = window.getComputedStyle(gd).display;\n",
       "        if (!display || display === 'none') {{\n",
       "            console.log([gd, 'removed!']);\n",
       "            Plotly.purge(gd);\n",
       "            observer.disconnect();\n",
       "        }}\n",
       "}});\n",
       "\n",
       "// Listen for the removal of the full notebook cells\n",
       "var notebookContainer = gd.closest('#notebook-container');\n",
       "if (notebookContainer) {{\n",
       "    x.observe(notebookContainer, {childList: true});\n",
       "}}\n",
       "\n",
       "// Listen for the clearing of the current output cell\n",
       "var outputEl = gd.closest('.output');\n",
       "if (outputEl) {{\n",
       "    x.observe(outputEl, {childList: true});\n",
       "}}\n",
       "\n",
       "                        })                };                });            </script>        </div>"
      ]
     },
     "metadata": {},
     "output_type": "display_data"
    }
   ],
   "source": [
    "import plotly.figure_factory as ff\n",
    "\n",
    "x = df_bar_pubg['solo_Wins']\n",
    "y = df_bar_pubg['solo_TimeSurvived']\n",
    "#z = df_bar_pubg['squad_Heals']\n",
    "\n",
    "colorscale = ['#7A4579', '#D56073', 'rgb(236,158,105)', (1, 1, 0.2), (0.98,0.98,0.98)]\n",
    "\n",
    "fig = ff.create_2d_density(\n",
    "    x, y, colorscale=colorscale,\n",
    "    hist_color='rgb(255, 237, 222)', point_size=3\n",
    ")\n",
    "\n",
    "\n",
    "iplot(fig, filename='histogram_subplots')"
   ]
  },
  {
   "cell_type": "code",
   "execution_count": 34,
   "metadata": {
    "id": "oVQUVKNLahjY",
    "outputId": "78ab5695-0421-4a47-b845-7d2256f70ee5"
   },
   "outputs": [
    {
     "data": {
      "text/html": [
       "<div>\n",
       "<style scoped>\n",
       "    .dataframe tbody tr th:only-of-type {\n",
       "        vertical-align: middle;\n",
       "    }\n",
       "\n",
       "    .dataframe tbody tr th {\n",
       "        vertical-align: top;\n",
       "    }\n",
       "\n",
       "    .dataframe thead th {\n",
       "        text-align: right;\n",
       "    }\n",
       "</style>\n",
       "<table border=\"1\" class=\"dataframe\">\n",
       "  <thead>\n",
       "    <tr style=\"text-align: right;\">\n",
       "      <th></th>\n",
       "      <th>player_name</th>\n",
       "      <th>tracker_id</th>\n",
       "      <th>solo_KillDeathRatio</th>\n",
       "      <th>solo_WinRatio</th>\n",
       "      <th>solo_TimeSurvived</th>\n",
       "      <th>solo_RoundsPlayed</th>\n",
       "      <th>solo_Wins</th>\n",
       "      <th>solo_WinTop10Ratio</th>\n",
       "      <th>solo_Top10s</th>\n",
       "      <th>solo_Top10Ratio</th>\n",
       "      <th>...</th>\n",
       "      <th>squad_RideDistance</th>\n",
       "      <th>squad_MoveDistance</th>\n",
       "      <th>squad_AvgWalkDistance</th>\n",
       "      <th>squad_AvgRideDistance</th>\n",
       "      <th>squad_LongestKill</th>\n",
       "      <th>squad_Heals</th>\n",
       "      <th>squad_Revives</th>\n",
       "      <th>squad_Boosts</th>\n",
       "      <th>squad_DamageDealt</th>\n",
       "      <th>squad_DBNOs</th>\n",
       "    </tr>\n",
       "  </thead>\n",
       "  <tbody>\n",
       "    <tr>\n",
       "      <th>0</th>\n",
       "      <td>BreakNeck</td>\n",
       "      <td>4405</td>\n",
       "      <td>3.14</td>\n",
       "      <td>17.65</td>\n",
       "      <td>18469.14</td>\n",
       "      <td>17</td>\n",
       "      <td>3</td>\n",
       "      <td>0.83</td>\n",
       "      <td>4</td>\n",
       "      <td>23.5</td>\n",
       "      <td>...</td>\n",
       "      <td>3751590.99</td>\n",
       "      <td>5194786.58</td>\n",
       "      <td>2626.97</td>\n",
       "      <td>4372.64</td>\n",
       "      <td>536.98</td>\n",
       "      <td>2186</td>\n",
       "      <td>234</td>\n",
       "      <td>1884</td>\n",
       "      <td>242132.73</td>\n",
       "      <td>1448</td>\n",
       "    </tr>\n",
       "  </tbody>\n",
       "</table>\n",
       "<p>1 rows × 152 columns</p>\n",
       "</div>"
      ],
      "text/plain": [
       "  player_name  tracker_id  solo_KillDeathRatio  solo_WinRatio  \\\n",
       "0   BreakNeck        4405                 3.14          17.65   \n",
       "\n",
       "   solo_TimeSurvived  solo_RoundsPlayed  solo_Wins  solo_WinTop10Ratio  \\\n",
       "0           18469.14                 17          3                0.83   \n",
       "\n",
       "   solo_Top10s  solo_Top10Ratio  ...  squad_RideDistance  squad_MoveDistance  \\\n",
       "0            4             23.5  ...          3751590.99          5194786.58   \n",
       "\n",
       "   squad_AvgWalkDistance  squad_AvgRideDistance  squad_LongestKill  \\\n",
       "0                2626.97                4372.64             536.98   \n",
       "\n",
       "   squad_Heals  squad_Revives  squad_Boosts  squad_DamageDealt  squad_DBNOs  \n",
       "0         2186            234          1884          242132.73         1448  \n",
       "\n",
       "[1 rows x 152 columns]"
      ]
     },
     "execution_count": 34,
     "metadata": {},
     "output_type": "execute_result"
    }
   ],
   "source": [
    "df_bar_pubg.head(1)"
   ]
  },
  {
   "cell_type": "code",
   "execution_count": 36,
   "metadata": {
    "id": "yndF51iPahjZ",
    "outputId": "082187e0-fa59-4ac3-b319-25c7932a6db6"
   },
   "outputs": [
    {
     "data": {
      "application/vnd.plotly.v1+json": {
       "config": {
        "linkText": "Export to plot.ly",
        "plotlyServerURL": "https://plot.ly",
        "showLink": false
       },
       "data": [
        {
         "marker": {
          "color": [
           17,
           33,
           5,
           8,
           6,
           16,
           142,
           19,
           44,
           8,
           116,
           335,
           87,
           72,
           23,
           3,
           165,
           65,
           16,
           45,
           55,
           45,
           9,
           14,
           277,
           265,
           77,
           52,
           56,
           22
          ],
          "colorscale": [
           [
            0,
            "#440154"
           ],
           [
            0.1111111111111111,
            "#482878"
           ],
           [
            0.2222222222222222,
            "#3e4989"
           ],
           [
            0.3333333333333333,
            "#31688e"
           ],
           [
            0.4444444444444444,
            "#26828e"
           ],
           [
            0.5555555555555556,
            "#1f9e89"
           ],
           [
            0.6666666666666666,
            "#35b779"
           ],
           [
            0.7777777777777778,
            "#6ece58"
           ],
           [
            0.8888888888888888,
            "#b5de2b"
           ],
           [
            1,
            "#fde725"
           ]
          ],
          "opacity": 0.8,
          "size": 12
         },
         "mode": "markers",
         "type": "scatter3d",
         "x": [
          3,
          6,
          0,
          4,
          2,
          5,
          12,
          5,
          6,
          2,
          7,
          4,
          9,
          4,
          3,
          1,
          38,
          12,
          6,
          2,
          7,
          4,
          3,
          2,
          48,
          63,
          4,
          3,
          3,
          2
         ],
         "y": [
          18469.14,
          33014.86,
          4330.44,
          13421.82,
          9841.04,
          22003.22,
          148051.25,
          26091.14,
          49282.41,
          10280.77,
          106330.23,
          232995.54,
          91380.4,
          71910.46,
          30996.86,
          3638.01,
          246771.12,
          87214.43,
          20927.23,
          45916.37,
          62763.42,
          43124.07,
          11733.19,
          18488.62,
          331173.26,
          397022.2,
          87514.41,
          53548.14,
          47966.09,
          25094.18
         ],
         "z": [
          17,
          33,
          5,
          8,
          6,
          16,
          142,
          19,
          44,
          8,
          116,
          335,
          87,
          72,
          23,
          3,
          165,
          65,
          16,
          45,
          55,
          45,
          9,
          14,
          277,
          265,
          77,
          52,
          56,
          22
         ]
        }
       ],
       "layout": {
        "margin": {
         "b": 0,
         "l": 0,
         "r": 0,
         "t": 0
        },
        "template": {
         "data": {
          "bar": [
           {
            "error_x": {
             "color": "#2a3f5f"
            },
            "error_y": {
             "color": "#2a3f5f"
            },
            "marker": {
             "line": {
              "color": "#E5ECF6",
              "width": 0.5
             },
             "pattern": {
              "fillmode": "overlay",
              "size": 10,
              "solidity": 0.2
             }
            },
            "type": "bar"
           }
          ],
          "barpolar": [
           {
            "marker": {
             "line": {
              "color": "#E5ECF6",
              "width": 0.5
             },
             "pattern": {
              "fillmode": "overlay",
              "size": 10,
              "solidity": 0.2
             }
            },
            "type": "barpolar"
           }
          ],
          "carpet": [
           {
            "aaxis": {
             "endlinecolor": "#2a3f5f",
             "gridcolor": "white",
             "linecolor": "white",
             "minorgridcolor": "white",
             "startlinecolor": "#2a3f5f"
            },
            "baxis": {
             "endlinecolor": "#2a3f5f",
             "gridcolor": "white",
             "linecolor": "white",
             "minorgridcolor": "white",
             "startlinecolor": "#2a3f5f"
            },
            "type": "carpet"
           }
          ],
          "choropleth": [
           {
            "colorbar": {
             "outlinewidth": 0,
             "ticks": ""
            },
            "type": "choropleth"
           }
          ],
          "contour": [
           {
            "colorbar": {
             "outlinewidth": 0,
             "ticks": ""
            },
            "colorscale": [
             [
              0,
              "#0d0887"
             ],
             [
              0.1111111111111111,
              "#46039f"
             ],
             [
              0.2222222222222222,
              "#7201a8"
             ],
             [
              0.3333333333333333,
              "#9c179e"
             ],
             [
              0.4444444444444444,
              "#bd3786"
             ],
             [
              0.5555555555555556,
              "#d8576b"
             ],
             [
              0.6666666666666666,
              "#ed7953"
             ],
             [
              0.7777777777777778,
              "#fb9f3a"
             ],
             [
              0.8888888888888888,
              "#fdca26"
             ],
             [
              1,
              "#f0f921"
             ]
            ],
            "type": "contour"
           }
          ],
          "contourcarpet": [
           {
            "colorbar": {
             "outlinewidth": 0,
             "ticks": ""
            },
            "type": "contourcarpet"
           }
          ],
          "heatmap": [
           {
            "colorbar": {
             "outlinewidth": 0,
             "ticks": ""
            },
            "colorscale": [
             [
              0,
              "#0d0887"
             ],
             [
              0.1111111111111111,
              "#46039f"
             ],
             [
              0.2222222222222222,
              "#7201a8"
             ],
             [
              0.3333333333333333,
              "#9c179e"
             ],
             [
              0.4444444444444444,
              "#bd3786"
             ],
             [
              0.5555555555555556,
              "#d8576b"
             ],
             [
              0.6666666666666666,
              "#ed7953"
             ],
             [
              0.7777777777777778,
              "#fb9f3a"
             ],
             [
              0.8888888888888888,
              "#fdca26"
             ],
             [
              1,
              "#f0f921"
             ]
            ],
            "type": "heatmap"
           }
          ],
          "heatmapgl": [
           {
            "colorbar": {
             "outlinewidth": 0,
             "ticks": ""
            },
            "colorscale": [
             [
              0,
              "#0d0887"
             ],
             [
              0.1111111111111111,
              "#46039f"
             ],
             [
              0.2222222222222222,
              "#7201a8"
             ],
             [
              0.3333333333333333,
              "#9c179e"
             ],
             [
              0.4444444444444444,
              "#bd3786"
             ],
             [
              0.5555555555555556,
              "#d8576b"
             ],
             [
              0.6666666666666666,
              "#ed7953"
             ],
             [
              0.7777777777777778,
              "#fb9f3a"
             ],
             [
              0.8888888888888888,
              "#fdca26"
             ],
             [
              1,
              "#f0f921"
             ]
            ],
            "type": "heatmapgl"
           }
          ],
          "histogram": [
           {
            "marker": {
             "pattern": {
              "fillmode": "overlay",
              "size": 10,
              "solidity": 0.2
             }
            },
            "type": "histogram"
           }
          ],
          "histogram2d": [
           {
            "colorbar": {
             "outlinewidth": 0,
             "ticks": ""
            },
            "colorscale": [
             [
              0,
              "#0d0887"
             ],
             [
              0.1111111111111111,
              "#46039f"
             ],
             [
              0.2222222222222222,
              "#7201a8"
             ],
             [
              0.3333333333333333,
              "#9c179e"
             ],
             [
              0.4444444444444444,
              "#bd3786"
             ],
             [
              0.5555555555555556,
              "#d8576b"
             ],
             [
              0.6666666666666666,
              "#ed7953"
             ],
             [
              0.7777777777777778,
              "#fb9f3a"
             ],
             [
              0.8888888888888888,
              "#fdca26"
             ],
             [
              1,
              "#f0f921"
             ]
            ],
            "type": "histogram2d"
           }
          ],
          "histogram2dcontour": [
           {
            "colorbar": {
             "outlinewidth": 0,
             "ticks": ""
            },
            "colorscale": [
             [
              0,
              "#0d0887"
             ],
             [
              0.1111111111111111,
              "#46039f"
             ],
             [
              0.2222222222222222,
              "#7201a8"
             ],
             [
              0.3333333333333333,
              "#9c179e"
             ],
             [
              0.4444444444444444,
              "#bd3786"
             ],
             [
              0.5555555555555556,
              "#d8576b"
             ],
             [
              0.6666666666666666,
              "#ed7953"
             ],
             [
              0.7777777777777778,
              "#fb9f3a"
             ],
             [
              0.8888888888888888,
              "#fdca26"
             ],
             [
              1,
              "#f0f921"
             ]
            ],
            "type": "histogram2dcontour"
           }
          ],
          "mesh3d": [
           {
            "colorbar": {
             "outlinewidth": 0,
             "ticks": ""
            },
            "type": "mesh3d"
           }
          ],
          "parcoords": [
           {
            "line": {
             "colorbar": {
              "outlinewidth": 0,
              "ticks": ""
             }
            },
            "type": "parcoords"
           }
          ],
          "pie": [
           {
            "automargin": true,
            "type": "pie"
           }
          ],
          "scatter": [
           {
            "marker": {
             "colorbar": {
              "outlinewidth": 0,
              "ticks": ""
             }
            },
            "type": "scatter"
           }
          ],
          "scatter3d": [
           {
            "line": {
             "colorbar": {
              "outlinewidth": 0,
              "ticks": ""
             }
            },
            "marker": {
             "colorbar": {
              "outlinewidth": 0,
              "ticks": ""
             }
            },
            "type": "scatter3d"
           }
          ],
          "scattercarpet": [
           {
            "marker": {
             "colorbar": {
              "outlinewidth": 0,
              "ticks": ""
             }
            },
            "type": "scattercarpet"
           }
          ],
          "scattergeo": [
           {
            "marker": {
             "colorbar": {
              "outlinewidth": 0,
              "ticks": ""
             }
            },
            "type": "scattergeo"
           }
          ],
          "scattergl": [
           {
            "marker": {
             "colorbar": {
              "outlinewidth": 0,
              "ticks": ""
             }
            },
            "type": "scattergl"
           }
          ],
          "scattermapbox": [
           {
            "marker": {
             "colorbar": {
              "outlinewidth": 0,
              "ticks": ""
             }
            },
            "type": "scattermapbox"
           }
          ],
          "scatterpolar": [
           {
            "marker": {
             "colorbar": {
              "outlinewidth": 0,
              "ticks": ""
             }
            },
            "type": "scatterpolar"
           }
          ],
          "scatterpolargl": [
           {
            "marker": {
             "colorbar": {
              "outlinewidth": 0,
              "ticks": ""
             }
            },
            "type": "scatterpolargl"
           }
          ],
          "scatterternary": [
           {
            "marker": {
             "colorbar": {
              "outlinewidth": 0,
              "ticks": ""
             }
            },
            "type": "scatterternary"
           }
          ],
          "surface": [
           {
            "colorbar": {
             "outlinewidth": 0,
             "ticks": ""
            },
            "colorscale": [
             [
              0,
              "#0d0887"
             ],
             [
              0.1111111111111111,
              "#46039f"
             ],
             [
              0.2222222222222222,
              "#7201a8"
             ],
             [
              0.3333333333333333,
              "#9c179e"
             ],
             [
              0.4444444444444444,
              "#bd3786"
             ],
             [
              0.5555555555555556,
              "#d8576b"
             ],
             [
              0.6666666666666666,
              "#ed7953"
             ],
             [
              0.7777777777777778,
              "#fb9f3a"
             ],
             [
              0.8888888888888888,
              "#fdca26"
             ],
             [
              1,
              "#f0f921"
             ]
            ],
            "type": "surface"
           }
          ],
          "table": [
           {
            "cells": {
             "fill": {
              "color": "#EBF0F8"
             },
             "line": {
              "color": "white"
             }
            },
            "header": {
             "fill": {
              "color": "#C8D4E3"
             },
             "line": {
              "color": "white"
             }
            },
            "type": "table"
           }
          ]
         },
         "layout": {
          "annotationdefaults": {
           "arrowcolor": "#2a3f5f",
           "arrowhead": 0,
           "arrowwidth": 1
          },
          "autotypenumbers": "strict",
          "coloraxis": {
           "colorbar": {
            "outlinewidth": 0,
            "ticks": ""
           }
          },
          "colorscale": {
           "diverging": [
            [
             0,
             "#8e0152"
            ],
            [
             0.1,
             "#c51b7d"
            ],
            [
             0.2,
             "#de77ae"
            ],
            [
             0.3,
             "#f1b6da"
            ],
            [
             0.4,
             "#fde0ef"
            ],
            [
             0.5,
             "#f7f7f7"
            ],
            [
             0.6,
             "#e6f5d0"
            ],
            [
             0.7,
             "#b8e186"
            ],
            [
             0.8,
             "#7fbc41"
            ],
            [
             0.9,
             "#4d9221"
            ],
            [
             1,
             "#276419"
            ]
           ],
           "sequential": [
            [
             0,
             "#0d0887"
            ],
            [
             0.1111111111111111,
             "#46039f"
            ],
            [
             0.2222222222222222,
             "#7201a8"
            ],
            [
             0.3333333333333333,
             "#9c179e"
            ],
            [
             0.4444444444444444,
             "#bd3786"
            ],
            [
             0.5555555555555556,
             "#d8576b"
            ],
            [
             0.6666666666666666,
             "#ed7953"
            ],
            [
             0.7777777777777778,
             "#fb9f3a"
            ],
            [
             0.8888888888888888,
             "#fdca26"
            ],
            [
             1,
             "#f0f921"
            ]
           ],
           "sequentialminus": [
            [
             0,
             "#0d0887"
            ],
            [
             0.1111111111111111,
             "#46039f"
            ],
            [
             0.2222222222222222,
             "#7201a8"
            ],
            [
             0.3333333333333333,
             "#9c179e"
            ],
            [
             0.4444444444444444,
             "#bd3786"
            ],
            [
             0.5555555555555556,
             "#d8576b"
            ],
            [
             0.6666666666666666,
             "#ed7953"
            ],
            [
             0.7777777777777778,
             "#fb9f3a"
            ],
            [
             0.8888888888888888,
             "#fdca26"
            ],
            [
             1,
             "#f0f921"
            ]
           ]
          },
          "colorway": [
           "#636efa",
           "#EF553B",
           "#00cc96",
           "#ab63fa",
           "#FFA15A",
           "#19d3f3",
           "#FF6692",
           "#B6E880",
           "#FF97FF",
           "#FECB52"
          ],
          "font": {
           "color": "#2a3f5f"
          },
          "geo": {
           "bgcolor": "white",
           "lakecolor": "white",
           "landcolor": "#E5ECF6",
           "showlakes": true,
           "showland": true,
           "subunitcolor": "white"
          },
          "hoverlabel": {
           "align": "left"
          },
          "hovermode": "closest",
          "mapbox": {
           "style": "light"
          },
          "paper_bgcolor": "white",
          "plot_bgcolor": "#E5ECF6",
          "polar": {
           "angularaxis": {
            "gridcolor": "white",
            "linecolor": "white",
            "ticks": ""
           },
           "bgcolor": "#E5ECF6",
           "radialaxis": {
            "gridcolor": "white",
            "linecolor": "white",
            "ticks": ""
           }
          },
          "scene": {
           "xaxis": {
            "backgroundcolor": "#E5ECF6",
            "gridcolor": "white",
            "gridwidth": 2,
            "linecolor": "white",
            "showbackground": true,
            "ticks": "",
            "zerolinecolor": "white"
           },
           "yaxis": {
            "backgroundcolor": "#E5ECF6",
            "gridcolor": "white",
            "gridwidth": 2,
            "linecolor": "white",
            "showbackground": true,
            "ticks": "",
            "zerolinecolor": "white"
           },
           "zaxis": {
            "backgroundcolor": "#E5ECF6",
            "gridcolor": "white",
            "gridwidth": 2,
            "linecolor": "white",
            "showbackground": true,
            "ticks": "",
            "zerolinecolor": "white"
           }
          },
          "shapedefaults": {
           "line": {
            "color": "#2a3f5f"
           }
          },
          "ternary": {
           "aaxis": {
            "gridcolor": "white",
            "linecolor": "white",
            "ticks": ""
           },
           "baxis": {
            "gridcolor": "white",
            "linecolor": "white",
            "ticks": ""
           },
           "bgcolor": "#E5ECF6",
           "caxis": {
            "gridcolor": "white",
            "linecolor": "white",
            "ticks": ""
           }
          },
          "title": {
           "x": 0.05
          },
          "xaxis": {
           "automargin": true,
           "gridcolor": "white",
           "linecolor": "white",
           "ticks": "",
           "title": {
            "standoff": 15
           },
           "zerolinecolor": "white",
           "zerolinewidth": 2
          },
          "yaxis": {
           "automargin": true,
           "gridcolor": "white",
           "linecolor": "white",
           "ticks": "",
           "title": {
            "standoff": 15
           },
           "zerolinecolor": "white",
           "zerolinewidth": 2
          }
         }
        }
       }
      },
      "text/html": [
       "<div>                            <div id=\"112f5f31-5956-4662-84b6-6acdf87beee0\" class=\"plotly-graph-div\" style=\"height:525px; width:100%;\"></div>            <script type=\"text/javascript\">                require([\"plotly\"], function(Plotly) {                    window.PLOTLYENV=window.PLOTLYENV || {};                                    if (document.getElementById(\"112f5f31-5956-4662-84b6-6acdf87beee0\")) {                    Plotly.newPlot(                        \"112f5f31-5956-4662-84b6-6acdf87beee0\",                        [{\"marker\":{\"color\":[17,33,5,8,6,16,142,19,44,8,116,335,87,72,23,3,165,65,16,45,55,45,9,14,277,265,77,52,56,22],\"colorscale\":[[0.0,\"#440154\"],[0.1111111111111111,\"#482878\"],[0.2222222222222222,\"#3e4989\"],[0.3333333333333333,\"#31688e\"],[0.4444444444444444,\"#26828e\"],[0.5555555555555556,\"#1f9e89\"],[0.6666666666666666,\"#35b779\"],[0.7777777777777778,\"#6ece58\"],[0.8888888888888888,\"#b5de2b\"],[1.0,\"#fde725\"]],\"opacity\":0.8,\"size\":12},\"mode\":\"markers\",\"type\":\"scatter3d\",\"x\":[3,6,0,4,2,5,12,5,6,2,7,4,9,4,3,1,38,12,6,2,7,4,3,2,48,63,4,3,3,2],\"y\":[18469.14,33014.86,4330.44,13421.82,9841.04,22003.22,148051.25,26091.14,49282.41,10280.77,106330.23,232995.54,91380.4,71910.46,30996.86,3638.01,246771.12,87214.43,20927.23,45916.37,62763.42,43124.07,11733.19,18488.62,331173.26,397022.2,87514.41,53548.14,47966.09,25094.18],\"z\":[17,33,5,8,6,16,142,19,44,8,116,335,87,72,23,3,165,65,16,45,55,45,9,14,277,265,77,52,56,22]}],                        {\"margin\":{\"b\":0,\"l\":0,\"r\":0,\"t\":0},\"template\":{\"data\":{\"bar\":[{\"error_x\":{\"color\":\"#2a3f5f\"},\"error_y\":{\"color\":\"#2a3f5f\"},\"marker\":{\"line\":{\"color\":\"#E5ECF6\",\"width\":0.5},\"pattern\":{\"fillmode\":\"overlay\",\"size\":10,\"solidity\":0.2}},\"type\":\"bar\"}],\"barpolar\":[{\"marker\":{\"line\":{\"color\":\"#E5ECF6\",\"width\":0.5},\"pattern\":{\"fillmode\":\"overlay\",\"size\":10,\"solidity\":0.2}},\"type\":\"barpolar\"}],\"carpet\":[{\"aaxis\":{\"endlinecolor\":\"#2a3f5f\",\"gridcolor\":\"white\",\"linecolor\":\"white\",\"minorgridcolor\":\"white\",\"startlinecolor\":\"#2a3f5f\"},\"baxis\":{\"endlinecolor\":\"#2a3f5f\",\"gridcolor\":\"white\",\"linecolor\":\"white\",\"minorgridcolor\":\"white\",\"startlinecolor\":\"#2a3f5f\"},\"type\":\"carpet\"}],\"choropleth\":[{\"colorbar\":{\"outlinewidth\":0,\"ticks\":\"\"},\"type\":\"choropleth\"}],\"contour\":[{\"colorbar\":{\"outlinewidth\":0,\"ticks\":\"\"},\"colorscale\":[[0.0,\"#0d0887\"],[0.1111111111111111,\"#46039f\"],[0.2222222222222222,\"#7201a8\"],[0.3333333333333333,\"#9c179e\"],[0.4444444444444444,\"#bd3786\"],[0.5555555555555556,\"#d8576b\"],[0.6666666666666666,\"#ed7953\"],[0.7777777777777778,\"#fb9f3a\"],[0.8888888888888888,\"#fdca26\"],[1.0,\"#f0f921\"]],\"type\":\"contour\"}],\"contourcarpet\":[{\"colorbar\":{\"outlinewidth\":0,\"ticks\":\"\"},\"type\":\"contourcarpet\"}],\"heatmap\":[{\"colorbar\":{\"outlinewidth\":0,\"ticks\":\"\"},\"colorscale\":[[0.0,\"#0d0887\"],[0.1111111111111111,\"#46039f\"],[0.2222222222222222,\"#7201a8\"],[0.3333333333333333,\"#9c179e\"],[0.4444444444444444,\"#bd3786\"],[0.5555555555555556,\"#d8576b\"],[0.6666666666666666,\"#ed7953\"],[0.7777777777777778,\"#fb9f3a\"],[0.8888888888888888,\"#fdca26\"],[1.0,\"#f0f921\"]],\"type\":\"heatmap\"}],\"heatmapgl\":[{\"colorbar\":{\"outlinewidth\":0,\"ticks\":\"\"},\"colorscale\":[[0.0,\"#0d0887\"],[0.1111111111111111,\"#46039f\"],[0.2222222222222222,\"#7201a8\"],[0.3333333333333333,\"#9c179e\"],[0.4444444444444444,\"#bd3786\"],[0.5555555555555556,\"#d8576b\"],[0.6666666666666666,\"#ed7953\"],[0.7777777777777778,\"#fb9f3a\"],[0.8888888888888888,\"#fdca26\"],[1.0,\"#f0f921\"]],\"type\":\"heatmapgl\"}],\"histogram\":[{\"marker\":{\"pattern\":{\"fillmode\":\"overlay\",\"size\":10,\"solidity\":0.2}},\"type\":\"histogram\"}],\"histogram2d\":[{\"colorbar\":{\"outlinewidth\":0,\"ticks\":\"\"},\"colorscale\":[[0.0,\"#0d0887\"],[0.1111111111111111,\"#46039f\"],[0.2222222222222222,\"#7201a8\"],[0.3333333333333333,\"#9c179e\"],[0.4444444444444444,\"#bd3786\"],[0.5555555555555556,\"#d8576b\"],[0.6666666666666666,\"#ed7953\"],[0.7777777777777778,\"#fb9f3a\"],[0.8888888888888888,\"#fdca26\"],[1.0,\"#f0f921\"]],\"type\":\"histogram2d\"}],\"histogram2dcontour\":[{\"colorbar\":{\"outlinewidth\":0,\"ticks\":\"\"},\"colorscale\":[[0.0,\"#0d0887\"],[0.1111111111111111,\"#46039f\"],[0.2222222222222222,\"#7201a8\"],[0.3333333333333333,\"#9c179e\"],[0.4444444444444444,\"#bd3786\"],[0.5555555555555556,\"#d8576b\"],[0.6666666666666666,\"#ed7953\"],[0.7777777777777778,\"#fb9f3a\"],[0.8888888888888888,\"#fdca26\"],[1.0,\"#f0f921\"]],\"type\":\"histogram2dcontour\"}],\"mesh3d\":[{\"colorbar\":{\"outlinewidth\":0,\"ticks\":\"\"},\"type\":\"mesh3d\"}],\"parcoords\":[{\"line\":{\"colorbar\":{\"outlinewidth\":0,\"ticks\":\"\"}},\"type\":\"parcoords\"}],\"pie\":[{\"automargin\":true,\"type\":\"pie\"}],\"scatter\":[{\"marker\":{\"colorbar\":{\"outlinewidth\":0,\"ticks\":\"\"}},\"type\":\"scatter\"}],\"scatter3d\":[{\"line\":{\"colorbar\":{\"outlinewidth\":0,\"ticks\":\"\"}},\"marker\":{\"colorbar\":{\"outlinewidth\":0,\"ticks\":\"\"}},\"type\":\"scatter3d\"}],\"scattercarpet\":[{\"marker\":{\"colorbar\":{\"outlinewidth\":0,\"ticks\":\"\"}},\"type\":\"scattercarpet\"}],\"scattergeo\":[{\"marker\":{\"colorbar\":{\"outlinewidth\":0,\"ticks\":\"\"}},\"type\":\"scattergeo\"}],\"scattergl\":[{\"marker\":{\"colorbar\":{\"outlinewidth\":0,\"ticks\":\"\"}},\"type\":\"scattergl\"}],\"scattermapbox\":[{\"marker\":{\"colorbar\":{\"outlinewidth\":0,\"ticks\":\"\"}},\"type\":\"scattermapbox\"}],\"scatterpolar\":[{\"marker\":{\"colorbar\":{\"outlinewidth\":0,\"ticks\":\"\"}},\"type\":\"scatterpolar\"}],\"scatterpolargl\":[{\"marker\":{\"colorbar\":{\"outlinewidth\":0,\"ticks\":\"\"}},\"type\":\"scatterpolargl\"}],\"scatterternary\":[{\"marker\":{\"colorbar\":{\"outlinewidth\":0,\"ticks\":\"\"}},\"type\":\"scatterternary\"}],\"surface\":[{\"colorbar\":{\"outlinewidth\":0,\"ticks\":\"\"},\"colorscale\":[[0.0,\"#0d0887\"],[0.1111111111111111,\"#46039f\"],[0.2222222222222222,\"#7201a8\"],[0.3333333333333333,\"#9c179e\"],[0.4444444444444444,\"#bd3786\"],[0.5555555555555556,\"#d8576b\"],[0.6666666666666666,\"#ed7953\"],[0.7777777777777778,\"#fb9f3a\"],[0.8888888888888888,\"#fdca26\"],[1.0,\"#f0f921\"]],\"type\":\"surface\"}],\"table\":[{\"cells\":{\"fill\":{\"color\":\"#EBF0F8\"},\"line\":{\"color\":\"white\"}},\"header\":{\"fill\":{\"color\":\"#C8D4E3\"},\"line\":{\"color\":\"white\"}},\"type\":\"table\"}]},\"layout\":{\"annotationdefaults\":{\"arrowcolor\":\"#2a3f5f\",\"arrowhead\":0,\"arrowwidth\":1},\"autotypenumbers\":\"strict\",\"coloraxis\":{\"colorbar\":{\"outlinewidth\":0,\"ticks\":\"\"}},\"colorscale\":{\"diverging\":[[0,\"#8e0152\"],[0.1,\"#c51b7d\"],[0.2,\"#de77ae\"],[0.3,\"#f1b6da\"],[0.4,\"#fde0ef\"],[0.5,\"#f7f7f7\"],[0.6,\"#e6f5d0\"],[0.7,\"#b8e186\"],[0.8,\"#7fbc41\"],[0.9,\"#4d9221\"],[1,\"#276419\"]],\"sequential\":[[0.0,\"#0d0887\"],[0.1111111111111111,\"#46039f\"],[0.2222222222222222,\"#7201a8\"],[0.3333333333333333,\"#9c179e\"],[0.4444444444444444,\"#bd3786\"],[0.5555555555555556,\"#d8576b\"],[0.6666666666666666,\"#ed7953\"],[0.7777777777777778,\"#fb9f3a\"],[0.8888888888888888,\"#fdca26\"],[1.0,\"#f0f921\"]],\"sequentialminus\":[[0.0,\"#0d0887\"],[0.1111111111111111,\"#46039f\"],[0.2222222222222222,\"#7201a8\"],[0.3333333333333333,\"#9c179e\"],[0.4444444444444444,\"#bd3786\"],[0.5555555555555556,\"#d8576b\"],[0.6666666666666666,\"#ed7953\"],[0.7777777777777778,\"#fb9f3a\"],[0.8888888888888888,\"#fdca26\"],[1.0,\"#f0f921\"]]},\"colorway\":[\"#636efa\",\"#EF553B\",\"#00cc96\",\"#ab63fa\",\"#FFA15A\",\"#19d3f3\",\"#FF6692\",\"#B6E880\",\"#FF97FF\",\"#FECB52\"],\"font\":{\"color\":\"#2a3f5f\"},\"geo\":{\"bgcolor\":\"white\",\"lakecolor\":\"white\",\"landcolor\":\"#E5ECF6\",\"showlakes\":true,\"showland\":true,\"subunitcolor\":\"white\"},\"hoverlabel\":{\"align\":\"left\"},\"hovermode\":\"closest\",\"mapbox\":{\"style\":\"light\"},\"paper_bgcolor\":\"white\",\"plot_bgcolor\":\"#E5ECF6\",\"polar\":{\"angularaxis\":{\"gridcolor\":\"white\",\"linecolor\":\"white\",\"ticks\":\"\"},\"bgcolor\":\"#E5ECF6\",\"radialaxis\":{\"gridcolor\":\"white\",\"linecolor\":\"white\",\"ticks\":\"\"}},\"scene\":{\"xaxis\":{\"backgroundcolor\":\"#E5ECF6\",\"gridcolor\":\"white\",\"gridwidth\":2,\"linecolor\":\"white\",\"showbackground\":true,\"ticks\":\"\",\"zerolinecolor\":\"white\"},\"yaxis\":{\"backgroundcolor\":\"#E5ECF6\",\"gridcolor\":\"white\",\"gridwidth\":2,\"linecolor\":\"white\",\"showbackground\":true,\"ticks\":\"\",\"zerolinecolor\":\"white\"},\"zaxis\":{\"backgroundcolor\":\"#E5ECF6\",\"gridcolor\":\"white\",\"gridwidth\":2,\"linecolor\":\"white\",\"showbackground\":true,\"ticks\":\"\",\"zerolinecolor\":\"white\"}},\"shapedefaults\":{\"line\":{\"color\":\"#2a3f5f\"}},\"ternary\":{\"aaxis\":{\"gridcolor\":\"white\",\"linecolor\":\"white\",\"ticks\":\"\"},\"baxis\":{\"gridcolor\":\"white\",\"linecolor\":\"white\",\"ticks\":\"\"},\"bgcolor\":\"#E5ECF6\",\"caxis\":{\"gridcolor\":\"white\",\"linecolor\":\"white\",\"ticks\":\"\"}},\"title\":{\"x\":0.05},\"xaxis\":{\"automargin\":true,\"gridcolor\":\"white\",\"linecolor\":\"white\",\"ticks\":\"\",\"title\":{\"standoff\":15},\"zerolinecolor\":\"white\",\"zerolinewidth\":2},\"yaxis\":{\"automargin\":true,\"gridcolor\":\"white\",\"linecolor\":\"white\",\"ticks\":\"\",\"title\":{\"standoff\":15},\"zerolinecolor\":\"white\",\"zerolinewidth\":2}}}},                        {\"responsive\": true}                    ).then(function(){\n",
       "                            \n",
       "var gd = document.getElementById('112f5f31-5956-4662-84b6-6acdf87beee0');\n",
       "var x = new MutationObserver(function (mutations, observer) {{\n",
       "        var display = window.getComputedStyle(gd).display;\n",
       "        if (!display || display === 'none') {{\n",
       "            console.log([gd, 'removed!']);\n",
       "            Plotly.purge(gd);\n",
       "            observer.disconnect();\n",
       "        }}\n",
       "}});\n",
       "\n",
       "// Listen for the removal of the full notebook cells\n",
       "var notebookContainer = gd.closest('#notebook-container');\n",
       "if (notebookContainer) {{\n",
       "    x.observe(notebookContainer, {childList: true});\n",
       "}}\n",
       "\n",
       "// Listen for the clearing of the current output cell\n",
       "var outputEl = gd.closest('.output');\n",
       "if (outputEl) {{\n",
       "    x.observe(outputEl, {childList: true});\n",
       "}}\n",
       "\n",
       "                        })                };                });            </script>        </div>"
      ]
     },
     "metadata": {},
     "output_type": "display_data"
    }
   ],
   "source": [
    "#3D Plotly visualization\n",
    "#import chart_studio\n",
    "\n",
    "#chart_studio.tools.set_credentials_file(username='DemoAccount', api_key='lr1c37zw81')\n",
    "\n",
    "x = df_bar_pubg['solo_Wins']\n",
    "y = df_bar_pubg['solo_TimeSurvived']\n",
    "z = df_bar_pubg['solo_RoundsPlayed']\n",
    "\n",
    "trace1 = go.Scatter3d(\n",
    "    x=x,\n",
    "    y=y,\n",
    "    z=z,\n",
    "    mode='markers',\n",
    "    marker=dict(\n",
    "    size=12,\n",
    "    color=z,\n",
    "    colorscale='Viridis',\n",
    "    opacity=0.8))\n",
    "\n",
    "data = [trace1]\n",
    "layout = go.Layout(\n",
    "    margin=dict(\n",
    "    l=0,\n",
    "    r=0,\n",
    "    b=0,\n",
    "    t=0)\n",
    ")\n",
    "\n",
    "fig = go.Figure(data=data, layout=layout)\n",
    "iplot(fig, filename='3d-pubg-plot')"
   ]
  },
  {
   "cell_type": "code",
   "execution_count": 38,
   "metadata": {
    "id": "WMIzFtLMahjZ",
    "outputId": "8ad366b3-8111-4f1b-b8c1-02f0f5e4fddc"
   },
   "outputs": [
    {
     "data": {
      "application/vnd.plotly.v1+json": {
       "config": {
        "linkText": "Export to plot.ly",
        "plotlyServerURL": "https://plot.ly",
        "showLink": false
       },
       "data": [
        {
         "boxpoints": "all",
         "fillcolor": "rgba(93, 164, 214, 0.5)",
         "jitter": 0.5,
         "line": {
          "width": 1
         },
         "marker": {
          "size": 2
         },
         "name": "Carmelo Anthony",
         "type": "box",
         "whiskerwidth": 0.2,
         "y": [
          -1.2214885603263763,
          -0.4366898231530123,
          -1.8026193917165807,
          -0.4155614406201409,
          -0.6181201595439184,
          0.0868776084239875,
          -2.0804043698940813,
          0.44450731493402285,
          -1.5941718800702804,
          -1.4395282861642735,
          -0.759999083506898,
          -2.651443764676486,
          -0.2775683013898118,
          -1.5002745591386084,
          -2.241474200557718,
          -1.819864650573332,
          -0.549905300447215,
          -0.21644687870120405,
          -0.19322686155559488,
          -0.31733079293766175,
          -0.20408650890393742,
          -1.8621374174340555,
          0.8073203959313011,
          0.2609220334152824,
          -0.9995034161782791,
          -1.3619875767350853,
          -0.825223150287364,
          -1.8068190030976268,
          -1.867496673492144,
          -2.3867907102913417,
          -0.8807628188480682,
          -0.9426836140566373,
          0.7534429736422905,
          -2.2749153617973876,
          -0.8353259458932722,
          -2.2041386943545325,
          0.007622199992099565,
          -0.23073432995530363,
          -1.5067310771633031,
          -1.2170756592555818,
          -0.4511373664521493,
          -1.664981895529333,
          -1.0158643125738969,
          -1.4406889569727013,
          -1.1071502666702984,
          -1.2469280291238714,
          1.4488806872304,
          -1.7293097551194472,
          -1.667390957603435,
          -1.0684863742831803
         ]
        },
        {
         "boxpoints": "all",
         "fillcolor": "rgba(255, 144, 14, 0.5)",
         "jitter": 0.5,
         "line": {
          "width": 1
         },
         "marker": {
          "size": 2
         },
         "name": "Dwyane Wade",
         "type": "box",
         "whiskerwidth": 0.2,
         "y": [
          2.4925869061686337,
          -0.78677784646109,
          1.3163838535028733,
          -0.5078084309384954,
          0.8839722531968686,
          1.0896995010619654,
          3.634361660834789,
          1.9613734935734395,
          1.2599061065192152,
          1.7913739961486637,
          1.5267423579909751,
          1.5112887449987604,
          1.6735927826858013,
          -1.6758533930282122,
          -1.7317508161798818,
          0.5212408510224119,
          2.402768922320218,
          0.2539575299729855,
          1.2179790944330522,
          -0.8283915922896028,
          -1.1948922735130685,
          2.7188682667703485,
          1.9109244378266066,
          2.523050021017761,
          0.32029070036811014,
          0.041705679801088746,
          -0.44014004079046054,
          1.454151703367664,
          0.8981431706091713,
          0.04221778716172686,
          2.896838078233034,
          -0.04951401570209568,
          0.7599432713027348,
          0.9344247871284295,
          1.5544686953604447,
          1.1811326464436844,
          0.5972397342213831,
          0.2598389328659131,
          0.0705998911119694,
          -0.8639300987072567,
          1.0599829470027504,
          1.335937418553867,
          0.8871483212265667,
          1.5271847038405086,
          1.6269869980087428,
          0.5937471089055861,
          2.1684112721653586,
          1.4595143039176766,
          1.19547687851477,
          -0.8922837569954905
         ]
        },
        {
         "boxpoints": "all",
         "fillcolor": "rgba(44, 160, 101, 0.5)",
         "jitter": 0.5,
         "line": {
          "width": 1
         },
         "marker": {
          "size": 2
         },
         "name": "Deron Williams",
         "type": "box",
         "whiskerwidth": 0.2,
         "y": [
          1.530118252030915,
          0.42630165494856154,
          -0.32480256047507916,
          -2.0789550895848428,
          1.1350792483064043,
          0.8198010091410202,
          -0.03354175734790895,
          0.24947013709332486,
          0.3520075483693492,
          0.42332399867675397,
          1.6555877490681699,
          -0.4218998510018643,
          -1.1606230245880729,
          0.5440540247186264,
          0.46125880539902064,
          -1.1155820222881276,
          -1.3027103577113441,
          0.12601591304052823,
          0.7204222846745679,
          -1.0203660860667867,
          -0.9639753196174244,
          0.1370940692317268,
          1.3285549961203265,
          0.716850724440806,
          -1.9790019331917807,
          -1.5106937769009632,
          -1.7499900987398804,
          -0.7813937015542982,
          0.003456647394122266,
          -1.7359127152903897,
          0.3605406174315553,
          -0.42309364697196816,
          1.8528382085026769,
          -0.7332101314260283,
          -0.551271882021551,
          1.3766391644654175,
          -0.09334415197045656,
          -0.8028950052407333,
          -0.05102334771582479,
          -0.6306571593618636,
          0.01615059309844605,
          0.41171003109985055,
          -2.0610464369802983,
          -0.3959647829713741,
          -1.8329215517780082,
          1.0261539571336202,
          -2.4488809748639575,
          0.05948724332879166,
          0.3054692067793574,
          -1.1710341489216656
         ]
        },
        {
         "boxpoints": "all",
         "fillcolor": "rgba(255, 65, 54, 0.5)",
         "jitter": 0.5,
         "line": {
          "width": 1
         },
         "marker": {
          "size": 2
         },
         "name": "Brook Lopez",
         "type": "box",
         "whiskerwidth": 0.2,
         "y": [
          2.209469587941469,
          2.4990187333930085,
          1.3389836595492732,
          2.5453474066622355,
          2.2870628737171956,
          0.011541636218694418,
          3.6985312797185124,
          -0.35144842285567623,
          1.5736863476620244,
          2.399845854689749,
          0.7040012659389352,
          1.5647662082761988,
          3.1190639306553685,
          2.8629199175473556,
          1.4543119739431565,
          3.092674576873764,
          2.302789816069707,
          3.4793413186991344,
          0.8594707940582271,
          1.5838369985779681,
          0.9619353795638914,
          3.0240148962407023,
          2.0295296769870466,
          1.7910409262675906,
          2.196069606819632,
          3.2216909515650114,
          1.0504251120710733,
          1.7738889334914132,
          2.4090534203341294,
          2.7002041441215114,
          1.28627668650054,
          3.451460922675385,
          1.031553268243127,
          1.6237074272026084,
          1.7049103793255893,
          2.8944522935225336,
          0.4574653491649656,
          2.7265141602217966,
          2.4134532888914992,
          2.302160535062481,
          2.295445179683062,
          0.7421831562112353,
          2.012295530355793,
          2.837197868709196,
          0.5022852683105368,
          2.4323423493223166,
          2.8876908594693784,
          3.554956059875981,
          2.2684458403042376,
          3.207146313356517
         ]
        },
        {
         "boxpoints": "all",
         "fillcolor": "rgba(207, 114, 255, 0.5)",
         "jitter": 0.5,
         "line": {
          "width": 1
         },
         "marker": {
          "size": 2
         },
         "name": "Damian Lillard",
         "type": "box",
         "whiskerwidth": 0.2,
         "y": [
          -2.8396762353279246,
          -2.0988063860420425,
          -2.84707641970062,
          -1.1348544612329898,
          -2.148446221181751,
          -1.5075528606302895,
          -0.9735966014935069,
          -2.338173546729586,
          -3.223897601173141,
          -3.1356977142490305,
          -3.695683861143983,
          -1.7401739947975943,
          -1.382721442011271,
          -3.2684317728653434,
          -2.1331721207283576,
          -2.6501824321023815,
          -2.688033146478941,
          -0.04447813911224663,
          -2.1617942346521644,
          -3.3934587109062377,
          -3.086379681855874,
          -3.1192362756740493,
          -0.817009051131387,
          -2.51205675098339,
          -2.363309191492613,
          -1.7471013114129494,
          -0.3010988499923004,
          -2.4842206368092095,
          -2.7170068638883884,
          -1.0024854509972807,
          -1.4397405612389844,
          -1.6393720776333607,
          -1.1181611687391797,
          -0.671132659353761,
          -3.086737898003042,
          -2.1434602119157593,
          -2.1394106361927454,
          -2.025121775707809,
          -0.6064726208715003,
          -2.351555918956651,
          -3.804708952721284,
          -3.7533931233132773,
          -1.0569196094520863,
          -1.4510388954309539,
          -1.817258677166881,
          0.9506581442614475,
          -4.201125258741189,
          1.0552540707159852,
          -2.5122903247999915,
          -2.512497748907522
         ]
        },
        {
         "boxpoints": "all",
         "fillcolor": "rgba(127, 96, 0, 0.5)",
         "jitter": 0.5,
         "line": {
          "width": 1
         },
         "marker": {
          "size": 2
         },
         "name": "David West",
         "type": "box",
         "whiskerwidth": 0.2,
         "y": [
          3.3273676936859737,
          3.849225907710253,
          2.6492848675301555,
          3.4864524088405053,
          2.830548517129931,
          3.606200443516086,
          3.5596384102743563,
          1.1627768443688116,
          2.1559415374897934,
          3.2881364546418004,
          3.7145581549365376,
          3.097809209678385,
          4.5336211539667275,
          2.710350269036209,
          4.061329605720135,
          5.743584350663037,
          4.794548889666164,
          3.6563037413267594,
          4.40178663325985,
          3.399364493717271,
          4.6268058970427575,
          2.729592009656826,
          2.0150980172271975,
          2.596733665044117,
          0.9930893908592111,
          2.146485312079661,
          1.8094210810386984,
          1.6771422919891996,
          3.8170165429901672,
          3.1120484879410033,
          4.104005065420488,
          3.5849721685699842,
          3.8095335798804344,
          2.860528727346028,
          3.82132543066297,
          2.5712664384249866,
          2.1912591719538166,
          3.9274749076185724,
          5.287037875345813,
          1.7150148245629264,
          1.9647986824264247,
          2.9345812214787377,
          3.8617645956903774,
          3.5394450519422946,
          2.0751120271636503,
          2.0856323357292244,
          2.874613716587289,
          3.6328758974300053,
          4.28356974593852,
          3.3148110947595364
         ]
        }
       ],
       "layout": {
        "margin": {
         "b": 80,
         "l": 40,
         "r": 30,
         "t": 100
        },
        "paper_bgcolor": "rgb(243, 243, 243)",
        "plot_bgcolor": "rgb(243, 243, 243)",
        "showlegend": false,
        "template": {
         "data": {
          "bar": [
           {
            "error_x": {
             "color": "#2a3f5f"
            },
            "error_y": {
             "color": "#2a3f5f"
            },
            "marker": {
             "line": {
              "color": "#E5ECF6",
              "width": 0.5
             },
             "pattern": {
              "fillmode": "overlay",
              "size": 10,
              "solidity": 0.2
             }
            },
            "type": "bar"
           }
          ],
          "barpolar": [
           {
            "marker": {
             "line": {
              "color": "#E5ECF6",
              "width": 0.5
             },
             "pattern": {
              "fillmode": "overlay",
              "size": 10,
              "solidity": 0.2
             }
            },
            "type": "barpolar"
           }
          ],
          "carpet": [
           {
            "aaxis": {
             "endlinecolor": "#2a3f5f",
             "gridcolor": "white",
             "linecolor": "white",
             "minorgridcolor": "white",
             "startlinecolor": "#2a3f5f"
            },
            "baxis": {
             "endlinecolor": "#2a3f5f",
             "gridcolor": "white",
             "linecolor": "white",
             "minorgridcolor": "white",
             "startlinecolor": "#2a3f5f"
            },
            "type": "carpet"
           }
          ],
          "choropleth": [
           {
            "colorbar": {
             "outlinewidth": 0,
             "ticks": ""
            },
            "type": "choropleth"
           }
          ],
          "contour": [
           {
            "colorbar": {
             "outlinewidth": 0,
             "ticks": ""
            },
            "colorscale": [
             [
              0,
              "#0d0887"
             ],
             [
              0.1111111111111111,
              "#46039f"
             ],
             [
              0.2222222222222222,
              "#7201a8"
             ],
             [
              0.3333333333333333,
              "#9c179e"
             ],
             [
              0.4444444444444444,
              "#bd3786"
             ],
             [
              0.5555555555555556,
              "#d8576b"
             ],
             [
              0.6666666666666666,
              "#ed7953"
             ],
             [
              0.7777777777777778,
              "#fb9f3a"
             ],
             [
              0.8888888888888888,
              "#fdca26"
             ],
             [
              1,
              "#f0f921"
             ]
            ],
            "type": "contour"
           }
          ],
          "contourcarpet": [
           {
            "colorbar": {
             "outlinewidth": 0,
             "ticks": ""
            },
            "type": "contourcarpet"
           }
          ],
          "heatmap": [
           {
            "colorbar": {
             "outlinewidth": 0,
             "ticks": ""
            },
            "colorscale": [
             [
              0,
              "#0d0887"
             ],
             [
              0.1111111111111111,
              "#46039f"
             ],
             [
              0.2222222222222222,
              "#7201a8"
             ],
             [
              0.3333333333333333,
              "#9c179e"
             ],
             [
              0.4444444444444444,
              "#bd3786"
             ],
             [
              0.5555555555555556,
              "#d8576b"
             ],
             [
              0.6666666666666666,
              "#ed7953"
             ],
             [
              0.7777777777777778,
              "#fb9f3a"
             ],
             [
              0.8888888888888888,
              "#fdca26"
             ],
             [
              1,
              "#f0f921"
             ]
            ],
            "type": "heatmap"
           }
          ],
          "heatmapgl": [
           {
            "colorbar": {
             "outlinewidth": 0,
             "ticks": ""
            },
            "colorscale": [
             [
              0,
              "#0d0887"
             ],
             [
              0.1111111111111111,
              "#46039f"
             ],
             [
              0.2222222222222222,
              "#7201a8"
             ],
             [
              0.3333333333333333,
              "#9c179e"
             ],
             [
              0.4444444444444444,
              "#bd3786"
             ],
             [
              0.5555555555555556,
              "#d8576b"
             ],
             [
              0.6666666666666666,
              "#ed7953"
             ],
             [
              0.7777777777777778,
              "#fb9f3a"
             ],
             [
              0.8888888888888888,
              "#fdca26"
             ],
             [
              1,
              "#f0f921"
             ]
            ],
            "type": "heatmapgl"
           }
          ],
          "histogram": [
           {
            "marker": {
             "pattern": {
              "fillmode": "overlay",
              "size": 10,
              "solidity": 0.2
             }
            },
            "type": "histogram"
           }
          ],
          "histogram2d": [
           {
            "colorbar": {
             "outlinewidth": 0,
             "ticks": ""
            },
            "colorscale": [
             [
              0,
              "#0d0887"
             ],
             [
              0.1111111111111111,
              "#46039f"
             ],
             [
              0.2222222222222222,
              "#7201a8"
             ],
             [
              0.3333333333333333,
              "#9c179e"
             ],
             [
              0.4444444444444444,
              "#bd3786"
             ],
             [
              0.5555555555555556,
              "#d8576b"
             ],
             [
              0.6666666666666666,
              "#ed7953"
             ],
             [
              0.7777777777777778,
              "#fb9f3a"
             ],
             [
              0.8888888888888888,
              "#fdca26"
             ],
             [
              1,
              "#f0f921"
             ]
            ],
            "type": "histogram2d"
           }
          ],
          "histogram2dcontour": [
           {
            "colorbar": {
             "outlinewidth": 0,
             "ticks": ""
            },
            "colorscale": [
             [
              0,
              "#0d0887"
             ],
             [
              0.1111111111111111,
              "#46039f"
             ],
             [
              0.2222222222222222,
              "#7201a8"
             ],
             [
              0.3333333333333333,
              "#9c179e"
             ],
             [
              0.4444444444444444,
              "#bd3786"
             ],
             [
              0.5555555555555556,
              "#d8576b"
             ],
             [
              0.6666666666666666,
              "#ed7953"
             ],
             [
              0.7777777777777778,
              "#fb9f3a"
             ],
             [
              0.8888888888888888,
              "#fdca26"
             ],
             [
              1,
              "#f0f921"
             ]
            ],
            "type": "histogram2dcontour"
           }
          ],
          "mesh3d": [
           {
            "colorbar": {
             "outlinewidth": 0,
             "ticks": ""
            },
            "type": "mesh3d"
           }
          ],
          "parcoords": [
           {
            "line": {
             "colorbar": {
              "outlinewidth": 0,
              "ticks": ""
             }
            },
            "type": "parcoords"
           }
          ],
          "pie": [
           {
            "automargin": true,
            "type": "pie"
           }
          ],
          "scatter": [
           {
            "marker": {
             "colorbar": {
              "outlinewidth": 0,
              "ticks": ""
             }
            },
            "type": "scatter"
           }
          ],
          "scatter3d": [
           {
            "line": {
             "colorbar": {
              "outlinewidth": 0,
              "ticks": ""
             }
            },
            "marker": {
             "colorbar": {
              "outlinewidth": 0,
              "ticks": ""
             }
            },
            "type": "scatter3d"
           }
          ],
          "scattercarpet": [
           {
            "marker": {
             "colorbar": {
              "outlinewidth": 0,
              "ticks": ""
             }
            },
            "type": "scattercarpet"
           }
          ],
          "scattergeo": [
           {
            "marker": {
             "colorbar": {
              "outlinewidth": 0,
              "ticks": ""
             }
            },
            "type": "scattergeo"
           }
          ],
          "scattergl": [
           {
            "marker": {
             "colorbar": {
              "outlinewidth": 0,
              "ticks": ""
             }
            },
            "type": "scattergl"
           }
          ],
          "scattermapbox": [
           {
            "marker": {
             "colorbar": {
              "outlinewidth": 0,
              "ticks": ""
             }
            },
            "type": "scattermapbox"
           }
          ],
          "scatterpolar": [
           {
            "marker": {
             "colorbar": {
              "outlinewidth": 0,
              "ticks": ""
             }
            },
            "type": "scatterpolar"
           }
          ],
          "scatterpolargl": [
           {
            "marker": {
             "colorbar": {
              "outlinewidth": 0,
              "ticks": ""
             }
            },
            "type": "scatterpolargl"
           }
          ],
          "scatterternary": [
           {
            "marker": {
             "colorbar": {
              "outlinewidth": 0,
              "ticks": ""
             }
            },
            "type": "scatterternary"
           }
          ],
          "surface": [
           {
            "colorbar": {
             "outlinewidth": 0,
             "ticks": ""
            },
            "colorscale": [
             [
              0,
              "#0d0887"
             ],
             [
              0.1111111111111111,
              "#46039f"
             ],
             [
              0.2222222222222222,
              "#7201a8"
             ],
             [
              0.3333333333333333,
              "#9c179e"
             ],
             [
              0.4444444444444444,
              "#bd3786"
             ],
             [
              0.5555555555555556,
              "#d8576b"
             ],
             [
              0.6666666666666666,
              "#ed7953"
             ],
             [
              0.7777777777777778,
              "#fb9f3a"
             ],
             [
              0.8888888888888888,
              "#fdca26"
             ],
             [
              1,
              "#f0f921"
             ]
            ],
            "type": "surface"
           }
          ],
          "table": [
           {
            "cells": {
             "fill": {
              "color": "#EBF0F8"
             },
             "line": {
              "color": "white"
             }
            },
            "header": {
             "fill": {
              "color": "#C8D4E3"
             },
             "line": {
              "color": "white"
             }
            },
            "type": "table"
           }
          ]
         },
         "layout": {
          "annotationdefaults": {
           "arrowcolor": "#2a3f5f",
           "arrowhead": 0,
           "arrowwidth": 1
          },
          "autotypenumbers": "strict",
          "coloraxis": {
           "colorbar": {
            "outlinewidth": 0,
            "ticks": ""
           }
          },
          "colorscale": {
           "diverging": [
            [
             0,
             "#8e0152"
            ],
            [
             0.1,
             "#c51b7d"
            ],
            [
             0.2,
             "#de77ae"
            ],
            [
             0.3,
             "#f1b6da"
            ],
            [
             0.4,
             "#fde0ef"
            ],
            [
             0.5,
             "#f7f7f7"
            ],
            [
             0.6,
             "#e6f5d0"
            ],
            [
             0.7,
             "#b8e186"
            ],
            [
             0.8,
             "#7fbc41"
            ],
            [
             0.9,
             "#4d9221"
            ],
            [
             1,
             "#276419"
            ]
           ],
           "sequential": [
            [
             0,
             "#0d0887"
            ],
            [
             0.1111111111111111,
             "#46039f"
            ],
            [
             0.2222222222222222,
             "#7201a8"
            ],
            [
             0.3333333333333333,
             "#9c179e"
            ],
            [
             0.4444444444444444,
             "#bd3786"
            ],
            [
             0.5555555555555556,
             "#d8576b"
            ],
            [
             0.6666666666666666,
             "#ed7953"
            ],
            [
             0.7777777777777778,
             "#fb9f3a"
            ],
            [
             0.8888888888888888,
             "#fdca26"
            ],
            [
             1,
             "#f0f921"
            ]
           ],
           "sequentialminus": [
            [
             0,
             "#0d0887"
            ],
            [
             0.1111111111111111,
             "#46039f"
            ],
            [
             0.2222222222222222,
             "#7201a8"
            ],
            [
             0.3333333333333333,
             "#9c179e"
            ],
            [
             0.4444444444444444,
             "#bd3786"
            ],
            [
             0.5555555555555556,
             "#d8576b"
            ],
            [
             0.6666666666666666,
             "#ed7953"
            ],
            [
             0.7777777777777778,
             "#fb9f3a"
            ],
            [
             0.8888888888888888,
             "#fdca26"
            ],
            [
             1,
             "#f0f921"
            ]
           ]
          },
          "colorway": [
           "#636efa",
           "#EF553B",
           "#00cc96",
           "#ab63fa",
           "#FFA15A",
           "#19d3f3",
           "#FF6692",
           "#B6E880",
           "#FF97FF",
           "#FECB52"
          ],
          "font": {
           "color": "#2a3f5f"
          },
          "geo": {
           "bgcolor": "white",
           "lakecolor": "white",
           "landcolor": "#E5ECF6",
           "showlakes": true,
           "showland": true,
           "subunitcolor": "white"
          },
          "hoverlabel": {
           "align": "left"
          },
          "hovermode": "closest",
          "mapbox": {
           "style": "light"
          },
          "paper_bgcolor": "white",
          "plot_bgcolor": "#E5ECF6",
          "polar": {
           "angularaxis": {
            "gridcolor": "white",
            "linecolor": "white",
            "ticks": ""
           },
           "bgcolor": "#E5ECF6",
           "radialaxis": {
            "gridcolor": "white",
            "linecolor": "white",
            "ticks": ""
           }
          },
          "scene": {
           "xaxis": {
            "backgroundcolor": "#E5ECF6",
            "gridcolor": "white",
            "gridwidth": 2,
            "linecolor": "white",
            "showbackground": true,
            "ticks": "",
            "zerolinecolor": "white"
           },
           "yaxis": {
            "backgroundcolor": "#E5ECF6",
            "gridcolor": "white",
            "gridwidth": 2,
            "linecolor": "white",
            "showbackground": true,
            "ticks": "",
            "zerolinecolor": "white"
           },
           "zaxis": {
            "backgroundcolor": "#E5ECF6",
            "gridcolor": "white",
            "gridwidth": 2,
            "linecolor": "white",
            "showbackground": true,
            "ticks": "",
            "zerolinecolor": "white"
           }
          },
          "shapedefaults": {
           "line": {
            "color": "#2a3f5f"
           }
          },
          "ternary": {
           "aaxis": {
            "gridcolor": "white",
            "linecolor": "white",
            "ticks": ""
           },
           "baxis": {
            "gridcolor": "white",
            "linecolor": "white",
            "ticks": ""
           },
           "bgcolor": "#E5ECF6",
           "caxis": {
            "gridcolor": "white",
            "linecolor": "white",
            "ticks": ""
           }
          },
          "title": {
           "x": 0.05
          },
          "xaxis": {
           "automargin": true,
           "gridcolor": "white",
           "linecolor": "white",
           "ticks": "",
           "title": {
            "standoff": 15
           },
           "zerolinecolor": "white",
           "zerolinewidth": 2
          },
          "yaxis": {
           "automargin": true,
           "gridcolor": "white",
           "linecolor": "white",
           "ticks": "",
           "title": {
            "standoff": 15
           },
           "zerolinecolor": "white",
           "zerolinewidth": 2
          }
         }
        },
        "title": {
         "text": "Points Scored by the Top 9 Scoring NBA Players in 2012"
        },
        "yaxis": {
         "autorange": true,
         "dtick": 5,
         "gridcolor": "rgb(255, 255, 255)",
         "gridwidth": 1,
         "showgrid": true,
         "zeroline": true,
         "zerolinecolor": "rgb(255, 255, 255)",
         "zerolinewidth": 2
        }
       }
      },
      "text/html": [
       "<div>                            <div id=\"41b6e4d5-3ae2-49b0-a335-1e692bc7a1c9\" class=\"plotly-graph-div\" style=\"height:525px; width:100%;\"></div>            <script type=\"text/javascript\">                require([\"plotly\"], function(Plotly) {                    window.PLOTLYENV=window.PLOTLYENV || {};                                    if (document.getElementById(\"41b6e4d5-3ae2-49b0-a335-1e692bc7a1c9\")) {                    Plotly.newPlot(                        \"41b6e4d5-3ae2-49b0-a335-1e692bc7a1c9\",                        [{\"boxpoints\":\"all\",\"fillcolor\":\"rgba(93, 164, 214, 0.5)\",\"jitter\":0.5,\"line\":{\"width\":1},\"marker\":{\"size\":2},\"name\":\"Carmelo Anthony\",\"type\":\"box\",\"whiskerwidth\":0.2,\"y\":[-1.2214885603263763,-0.4366898231530123,-1.8026193917165807,-0.4155614406201409,-0.6181201595439184,0.0868776084239875,-2.0804043698940813,0.44450731493402285,-1.5941718800702804,-1.4395282861642735,-0.759999083506898,-2.651443764676486,-0.2775683013898118,-1.5002745591386084,-2.241474200557718,-1.819864650573332,-0.549905300447215,-0.21644687870120405,-0.19322686155559488,-0.31733079293766175,-0.20408650890393742,-1.8621374174340555,0.8073203959313011,0.2609220334152824,-0.9995034161782791,-1.3619875767350853,-0.825223150287364,-1.8068190030976268,-1.867496673492144,-2.3867907102913417,-0.8807628188480682,-0.9426836140566373,0.7534429736422905,-2.2749153617973876,-0.8353259458932722,-2.2041386943545325,0.007622199992099565,-0.23073432995530363,-1.5067310771633031,-1.2170756592555818,-0.4511373664521493,-1.664981895529333,-1.0158643125738969,-1.4406889569727013,-1.1071502666702984,-1.2469280291238714,1.4488806872304,-1.7293097551194472,-1.667390957603435,-1.0684863742831803]},{\"boxpoints\":\"all\",\"fillcolor\":\"rgba(255, 144, 14, 0.5)\",\"jitter\":0.5,\"line\":{\"width\":1},\"marker\":{\"size\":2},\"name\":\"Dwyane Wade\",\"type\":\"box\",\"whiskerwidth\":0.2,\"y\":[2.4925869061686337,-0.78677784646109,1.3163838535028733,-0.5078084309384954,0.8839722531968686,1.0896995010619654,3.634361660834789,1.9613734935734395,1.2599061065192152,1.7913739961486637,1.5267423579909751,1.5112887449987604,1.6735927826858013,-1.6758533930282122,-1.7317508161798818,0.5212408510224119,2.402768922320218,0.2539575299729855,1.2179790944330522,-0.8283915922896028,-1.1948922735130685,2.7188682667703485,1.9109244378266066,2.523050021017761,0.32029070036811014,0.041705679801088746,-0.44014004079046054,1.454151703367664,0.8981431706091713,0.04221778716172686,2.896838078233034,-0.04951401570209568,0.7599432713027348,0.9344247871284295,1.5544686953604447,1.1811326464436844,0.5972397342213831,0.2598389328659131,0.0705998911119694,-0.8639300987072567,1.0599829470027504,1.335937418553867,0.8871483212265667,1.5271847038405086,1.6269869980087428,0.5937471089055861,2.1684112721653586,1.4595143039176766,1.19547687851477,-0.8922837569954905]},{\"boxpoints\":\"all\",\"fillcolor\":\"rgba(44, 160, 101, 0.5)\",\"jitter\":0.5,\"line\":{\"width\":1},\"marker\":{\"size\":2},\"name\":\"Deron Williams\",\"type\":\"box\",\"whiskerwidth\":0.2,\"y\":[1.530118252030915,0.42630165494856154,-0.32480256047507916,-2.0789550895848428,1.1350792483064043,0.8198010091410202,-0.03354175734790895,0.24947013709332486,0.3520075483693492,0.42332399867675397,1.6555877490681699,-0.4218998510018643,-1.1606230245880729,0.5440540247186264,0.46125880539902064,-1.1155820222881276,-1.3027103577113441,0.12601591304052823,0.7204222846745679,-1.0203660860667867,-0.9639753196174244,0.1370940692317268,1.3285549961203265,0.716850724440806,-1.9790019331917807,-1.5106937769009632,-1.7499900987398804,-0.7813937015542982,0.003456647394122266,-1.7359127152903897,0.3605406174315553,-0.42309364697196816,1.8528382085026769,-0.7332101314260283,-0.551271882021551,1.3766391644654175,-0.09334415197045656,-0.8028950052407333,-0.05102334771582479,-0.6306571593618636,0.01615059309844605,0.41171003109985055,-2.0610464369802983,-0.3959647829713741,-1.8329215517780082,1.0261539571336202,-2.4488809748639575,0.05948724332879166,0.3054692067793574,-1.1710341489216656]},{\"boxpoints\":\"all\",\"fillcolor\":\"rgba(255, 65, 54, 0.5)\",\"jitter\":0.5,\"line\":{\"width\":1},\"marker\":{\"size\":2},\"name\":\"Brook Lopez\",\"type\":\"box\",\"whiskerwidth\":0.2,\"y\":[2.209469587941469,2.4990187333930085,1.3389836595492732,2.5453474066622355,2.2870628737171956,0.011541636218694418,3.6985312797185124,-0.35144842285567623,1.5736863476620244,2.399845854689749,0.7040012659389352,1.5647662082761988,3.1190639306553685,2.8629199175473556,1.4543119739431565,3.092674576873764,2.302789816069707,3.4793413186991344,0.8594707940582271,1.5838369985779681,0.9619353795638914,3.0240148962407023,2.0295296769870466,1.7910409262675906,2.196069606819632,3.2216909515650114,1.0504251120710733,1.7738889334914132,2.4090534203341294,2.7002041441215114,1.28627668650054,3.451460922675385,1.031553268243127,1.6237074272026084,1.7049103793255893,2.8944522935225336,0.4574653491649656,2.7265141602217966,2.4134532888914992,2.302160535062481,2.295445179683062,0.7421831562112353,2.012295530355793,2.837197868709196,0.5022852683105368,2.4323423493223166,2.8876908594693784,3.554956059875981,2.2684458403042376,3.207146313356517]},{\"boxpoints\":\"all\",\"fillcolor\":\"rgba(207, 114, 255, 0.5)\",\"jitter\":0.5,\"line\":{\"width\":1},\"marker\":{\"size\":2},\"name\":\"Damian Lillard\",\"type\":\"box\",\"whiskerwidth\":0.2,\"y\":[-2.8396762353279246,-2.0988063860420425,-2.84707641970062,-1.1348544612329898,-2.148446221181751,-1.5075528606302895,-0.9735966014935069,-2.338173546729586,-3.223897601173141,-3.1356977142490305,-3.695683861143983,-1.7401739947975943,-1.382721442011271,-3.2684317728653434,-2.1331721207283576,-2.6501824321023815,-2.688033146478941,-0.04447813911224663,-2.1617942346521644,-3.3934587109062377,-3.086379681855874,-3.1192362756740493,-0.817009051131387,-2.51205675098339,-2.363309191492613,-1.7471013114129494,-0.3010988499923004,-2.4842206368092095,-2.7170068638883884,-1.0024854509972807,-1.4397405612389844,-1.6393720776333607,-1.1181611687391797,-0.671132659353761,-3.086737898003042,-2.1434602119157593,-2.1394106361927454,-2.025121775707809,-0.6064726208715003,-2.351555918956651,-3.804708952721284,-3.7533931233132773,-1.0569196094520863,-1.4510388954309539,-1.817258677166881,0.9506581442614475,-4.201125258741189,1.0552540707159852,-2.5122903247999915,-2.512497748907522]},{\"boxpoints\":\"all\",\"fillcolor\":\"rgba(127, 96, 0, 0.5)\",\"jitter\":0.5,\"line\":{\"width\":1},\"marker\":{\"size\":2},\"name\":\"David West\",\"type\":\"box\",\"whiskerwidth\":0.2,\"y\":[3.3273676936859737,3.849225907710253,2.6492848675301555,3.4864524088405053,2.830548517129931,3.606200443516086,3.5596384102743563,1.1627768443688116,2.1559415374897934,3.2881364546418004,3.7145581549365376,3.097809209678385,4.5336211539667275,2.710350269036209,4.061329605720135,5.743584350663037,4.794548889666164,3.6563037413267594,4.40178663325985,3.399364493717271,4.6268058970427575,2.729592009656826,2.0150980172271975,2.596733665044117,0.9930893908592111,2.146485312079661,1.8094210810386984,1.6771422919891996,3.8170165429901672,3.1120484879410033,4.104005065420488,3.5849721685699842,3.8095335798804344,2.860528727346028,3.82132543066297,2.5712664384249866,2.1912591719538166,3.9274749076185724,5.287037875345813,1.7150148245629264,1.9647986824264247,2.9345812214787377,3.8617645956903774,3.5394450519422946,2.0751120271636503,2.0856323357292244,2.874613716587289,3.6328758974300053,4.28356974593852,3.3148110947595364]}],                        {\"margin\":{\"b\":80,\"l\":40,\"r\":30,\"t\":100},\"paper_bgcolor\":\"rgb(243, 243, 243)\",\"plot_bgcolor\":\"rgb(243, 243, 243)\",\"showlegend\":false,\"template\":{\"data\":{\"bar\":[{\"error_x\":{\"color\":\"#2a3f5f\"},\"error_y\":{\"color\":\"#2a3f5f\"},\"marker\":{\"line\":{\"color\":\"#E5ECF6\",\"width\":0.5},\"pattern\":{\"fillmode\":\"overlay\",\"size\":10,\"solidity\":0.2}},\"type\":\"bar\"}],\"barpolar\":[{\"marker\":{\"line\":{\"color\":\"#E5ECF6\",\"width\":0.5},\"pattern\":{\"fillmode\":\"overlay\",\"size\":10,\"solidity\":0.2}},\"type\":\"barpolar\"}],\"carpet\":[{\"aaxis\":{\"endlinecolor\":\"#2a3f5f\",\"gridcolor\":\"white\",\"linecolor\":\"white\",\"minorgridcolor\":\"white\",\"startlinecolor\":\"#2a3f5f\"},\"baxis\":{\"endlinecolor\":\"#2a3f5f\",\"gridcolor\":\"white\",\"linecolor\":\"white\",\"minorgridcolor\":\"white\",\"startlinecolor\":\"#2a3f5f\"},\"type\":\"carpet\"}],\"choropleth\":[{\"colorbar\":{\"outlinewidth\":0,\"ticks\":\"\"},\"type\":\"choropleth\"}],\"contour\":[{\"colorbar\":{\"outlinewidth\":0,\"ticks\":\"\"},\"colorscale\":[[0.0,\"#0d0887\"],[0.1111111111111111,\"#46039f\"],[0.2222222222222222,\"#7201a8\"],[0.3333333333333333,\"#9c179e\"],[0.4444444444444444,\"#bd3786\"],[0.5555555555555556,\"#d8576b\"],[0.6666666666666666,\"#ed7953\"],[0.7777777777777778,\"#fb9f3a\"],[0.8888888888888888,\"#fdca26\"],[1.0,\"#f0f921\"]],\"type\":\"contour\"}],\"contourcarpet\":[{\"colorbar\":{\"outlinewidth\":0,\"ticks\":\"\"},\"type\":\"contourcarpet\"}],\"heatmap\":[{\"colorbar\":{\"outlinewidth\":0,\"ticks\":\"\"},\"colorscale\":[[0.0,\"#0d0887\"],[0.1111111111111111,\"#46039f\"],[0.2222222222222222,\"#7201a8\"],[0.3333333333333333,\"#9c179e\"],[0.4444444444444444,\"#bd3786\"],[0.5555555555555556,\"#d8576b\"],[0.6666666666666666,\"#ed7953\"],[0.7777777777777778,\"#fb9f3a\"],[0.8888888888888888,\"#fdca26\"],[1.0,\"#f0f921\"]],\"type\":\"heatmap\"}],\"heatmapgl\":[{\"colorbar\":{\"outlinewidth\":0,\"ticks\":\"\"},\"colorscale\":[[0.0,\"#0d0887\"],[0.1111111111111111,\"#46039f\"],[0.2222222222222222,\"#7201a8\"],[0.3333333333333333,\"#9c179e\"],[0.4444444444444444,\"#bd3786\"],[0.5555555555555556,\"#d8576b\"],[0.6666666666666666,\"#ed7953\"],[0.7777777777777778,\"#fb9f3a\"],[0.8888888888888888,\"#fdca26\"],[1.0,\"#f0f921\"]],\"type\":\"heatmapgl\"}],\"histogram\":[{\"marker\":{\"pattern\":{\"fillmode\":\"overlay\",\"size\":10,\"solidity\":0.2}},\"type\":\"histogram\"}],\"histogram2d\":[{\"colorbar\":{\"outlinewidth\":0,\"ticks\":\"\"},\"colorscale\":[[0.0,\"#0d0887\"],[0.1111111111111111,\"#46039f\"],[0.2222222222222222,\"#7201a8\"],[0.3333333333333333,\"#9c179e\"],[0.4444444444444444,\"#bd3786\"],[0.5555555555555556,\"#d8576b\"],[0.6666666666666666,\"#ed7953\"],[0.7777777777777778,\"#fb9f3a\"],[0.8888888888888888,\"#fdca26\"],[1.0,\"#f0f921\"]],\"type\":\"histogram2d\"}],\"histogram2dcontour\":[{\"colorbar\":{\"outlinewidth\":0,\"ticks\":\"\"},\"colorscale\":[[0.0,\"#0d0887\"],[0.1111111111111111,\"#46039f\"],[0.2222222222222222,\"#7201a8\"],[0.3333333333333333,\"#9c179e\"],[0.4444444444444444,\"#bd3786\"],[0.5555555555555556,\"#d8576b\"],[0.6666666666666666,\"#ed7953\"],[0.7777777777777778,\"#fb9f3a\"],[0.8888888888888888,\"#fdca26\"],[1.0,\"#f0f921\"]],\"type\":\"histogram2dcontour\"}],\"mesh3d\":[{\"colorbar\":{\"outlinewidth\":0,\"ticks\":\"\"},\"type\":\"mesh3d\"}],\"parcoords\":[{\"line\":{\"colorbar\":{\"outlinewidth\":0,\"ticks\":\"\"}},\"type\":\"parcoords\"}],\"pie\":[{\"automargin\":true,\"type\":\"pie\"}],\"scatter\":[{\"marker\":{\"colorbar\":{\"outlinewidth\":0,\"ticks\":\"\"}},\"type\":\"scatter\"}],\"scatter3d\":[{\"line\":{\"colorbar\":{\"outlinewidth\":0,\"ticks\":\"\"}},\"marker\":{\"colorbar\":{\"outlinewidth\":0,\"ticks\":\"\"}},\"type\":\"scatter3d\"}],\"scattercarpet\":[{\"marker\":{\"colorbar\":{\"outlinewidth\":0,\"ticks\":\"\"}},\"type\":\"scattercarpet\"}],\"scattergeo\":[{\"marker\":{\"colorbar\":{\"outlinewidth\":0,\"ticks\":\"\"}},\"type\":\"scattergeo\"}],\"scattergl\":[{\"marker\":{\"colorbar\":{\"outlinewidth\":0,\"ticks\":\"\"}},\"type\":\"scattergl\"}],\"scattermapbox\":[{\"marker\":{\"colorbar\":{\"outlinewidth\":0,\"ticks\":\"\"}},\"type\":\"scattermapbox\"}],\"scatterpolar\":[{\"marker\":{\"colorbar\":{\"outlinewidth\":0,\"ticks\":\"\"}},\"type\":\"scatterpolar\"}],\"scatterpolargl\":[{\"marker\":{\"colorbar\":{\"outlinewidth\":0,\"ticks\":\"\"}},\"type\":\"scatterpolargl\"}],\"scatterternary\":[{\"marker\":{\"colorbar\":{\"outlinewidth\":0,\"ticks\":\"\"}},\"type\":\"scatterternary\"}],\"surface\":[{\"colorbar\":{\"outlinewidth\":0,\"ticks\":\"\"},\"colorscale\":[[0.0,\"#0d0887\"],[0.1111111111111111,\"#46039f\"],[0.2222222222222222,\"#7201a8\"],[0.3333333333333333,\"#9c179e\"],[0.4444444444444444,\"#bd3786\"],[0.5555555555555556,\"#d8576b\"],[0.6666666666666666,\"#ed7953\"],[0.7777777777777778,\"#fb9f3a\"],[0.8888888888888888,\"#fdca26\"],[1.0,\"#f0f921\"]],\"type\":\"surface\"}],\"table\":[{\"cells\":{\"fill\":{\"color\":\"#EBF0F8\"},\"line\":{\"color\":\"white\"}},\"header\":{\"fill\":{\"color\":\"#C8D4E3\"},\"line\":{\"color\":\"white\"}},\"type\":\"table\"}]},\"layout\":{\"annotationdefaults\":{\"arrowcolor\":\"#2a3f5f\",\"arrowhead\":0,\"arrowwidth\":1},\"autotypenumbers\":\"strict\",\"coloraxis\":{\"colorbar\":{\"outlinewidth\":0,\"ticks\":\"\"}},\"colorscale\":{\"diverging\":[[0,\"#8e0152\"],[0.1,\"#c51b7d\"],[0.2,\"#de77ae\"],[0.3,\"#f1b6da\"],[0.4,\"#fde0ef\"],[0.5,\"#f7f7f7\"],[0.6,\"#e6f5d0\"],[0.7,\"#b8e186\"],[0.8,\"#7fbc41\"],[0.9,\"#4d9221\"],[1,\"#276419\"]],\"sequential\":[[0.0,\"#0d0887\"],[0.1111111111111111,\"#46039f\"],[0.2222222222222222,\"#7201a8\"],[0.3333333333333333,\"#9c179e\"],[0.4444444444444444,\"#bd3786\"],[0.5555555555555556,\"#d8576b\"],[0.6666666666666666,\"#ed7953\"],[0.7777777777777778,\"#fb9f3a\"],[0.8888888888888888,\"#fdca26\"],[1.0,\"#f0f921\"]],\"sequentialminus\":[[0.0,\"#0d0887\"],[0.1111111111111111,\"#46039f\"],[0.2222222222222222,\"#7201a8\"],[0.3333333333333333,\"#9c179e\"],[0.4444444444444444,\"#bd3786\"],[0.5555555555555556,\"#d8576b\"],[0.6666666666666666,\"#ed7953\"],[0.7777777777777778,\"#fb9f3a\"],[0.8888888888888888,\"#fdca26\"],[1.0,\"#f0f921\"]]},\"colorway\":[\"#636efa\",\"#EF553B\",\"#00cc96\",\"#ab63fa\",\"#FFA15A\",\"#19d3f3\",\"#FF6692\",\"#B6E880\",\"#FF97FF\",\"#FECB52\"],\"font\":{\"color\":\"#2a3f5f\"},\"geo\":{\"bgcolor\":\"white\",\"lakecolor\":\"white\",\"landcolor\":\"#E5ECF6\",\"showlakes\":true,\"showland\":true,\"subunitcolor\":\"white\"},\"hoverlabel\":{\"align\":\"left\"},\"hovermode\":\"closest\",\"mapbox\":{\"style\":\"light\"},\"paper_bgcolor\":\"white\",\"plot_bgcolor\":\"#E5ECF6\",\"polar\":{\"angularaxis\":{\"gridcolor\":\"white\",\"linecolor\":\"white\",\"ticks\":\"\"},\"bgcolor\":\"#E5ECF6\",\"radialaxis\":{\"gridcolor\":\"white\",\"linecolor\":\"white\",\"ticks\":\"\"}},\"scene\":{\"xaxis\":{\"backgroundcolor\":\"#E5ECF6\",\"gridcolor\":\"white\",\"gridwidth\":2,\"linecolor\":\"white\",\"showbackground\":true,\"ticks\":\"\",\"zerolinecolor\":\"white\"},\"yaxis\":{\"backgroundcolor\":\"#E5ECF6\",\"gridcolor\":\"white\",\"gridwidth\":2,\"linecolor\":\"white\",\"showbackground\":true,\"ticks\":\"\",\"zerolinecolor\":\"white\"},\"zaxis\":{\"backgroundcolor\":\"#E5ECF6\",\"gridcolor\":\"white\",\"gridwidth\":2,\"linecolor\":\"white\",\"showbackground\":true,\"ticks\":\"\",\"zerolinecolor\":\"white\"}},\"shapedefaults\":{\"line\":{\"color\":\"#2a3f5f\"}},\"ternary\":{\"aaxis\":{\"gridcolor\":\"white\",\"linecolor\":\"white\",\"ticks\":\"\"},\"baxis\":{\"gridcolor\":\"white\",\"linecolor\":\"white\",\"ticks\":\"\"},\"bgcolor\":\"#E5ECF6\",\"caxis\":{\"gridcolor\":\"white\",\"linecolor\":\"white\",\"ticks\":\"\"}},\"title\":{\"x\":0.05},\"xaxis\":{\"automargin\":true,\"gridcolor\":\"white\",\"linecolor\":\"white\",\"ticks\":\"\",\"title\":{\"standoff\":15},\"zerolinecolor\":\"white\",\"zerolinewidth\":2},\"yaxis\":{\"automargin\":true,\"gridcolor\":\"white\",\"linecolor\":\"white\",\"ticks\":\"\",\"title\":{\"standoff\":15},\"zerolinecolor\":\"white\",\"zerolinewidth\":2}}},\"title\":{\"text\":\"Points Scored by the Top 9 Scoring NBA Players in 2012\"},\"yaxis\":{\"autorange\":true,\"dtick\":5,\"gridcolor\":\"rgb(255, 255, 255)\",\"gridwidth\":1,\"showgrid\":true,\"zeroline\":true,\"zerolinecolor\":\"rgb(255, 255, 255)\",\"zerolinewidth\":2}},                        {\"responsive\": true}                    ).then(function(){\n",
       "                            \n",
       "var gd = document.getElementById('41b6e4d5-3ae2-49b0-a335-1e692bc7a1c9');\n",
       "var x = new MutationObserver(function (mutations, observer) {{\n",
       "        var display = window.getComputedStyle(gd).display;\n",
       "        if (!display || display === 'none') {{\n",
       "            console.log([gd, 'removed!']);\n",
       "            Plotly.purge(gd);\n",
       "            observer.disconnect();\n",
       "        }}\n",
       "}});\n",
       "\n",
       "// Listen for the removal of the full notebook cells\n",
       "var notebookContainer = gd.closest('#notebook-container');\n",
       "if (notebookContainer) {{\n",
       "    x.observe(notebookContainer, {childList: true});\n",
       "}}\n",
       "\n",
       "// Listen for the clearing of the current output cell\n",
       "var outputEl = gd.closest('.output');\n",
       "if (outputEl) {{\n",
       "    x.observe(outputEl, {childList: true});\n",
       "}}\n",
       "\n",
       "                        })                };                });            </script>        </div>"
      ]
     },
     "metadata": {},
     "output_type": "display_data"
    }
   ],
   "source": [
    "# https://plot.ly/python/box-plots/\n",
    "\n",
    "#import chart_studio.plotly as py\n",
    "import plotly.graph_objs as go\n",
    "import numpy as np\n",
    "\n",
    "x_data = ['Carmelo Anthony', 'Dwyane Wade',\n",
    "          'Deron Williams', 'Brook Lopez',\n",
    "          'Damian Lillard', 'David West',]\n",
    "\n",
    "y0 = np.random.randn(50)-1\n",
    "y1 = np.random.randn(50)+1\n",
    "y2 = np.random.randn(50)\n",
    "y3 = np.random.randn(50)+2\n",
    "y4 = np.random.randn(50)-2\n",
    "y5 = np.random.randn(50)+3\n",
    "\n",
    "y_data = [y0,y1,y2,y3,y4,y5]\n",
    "\n",
    "colors = ['rgba(93, 164, 214, 0.5)', 'rgba(255, 144, 14, 0.5)', 'rgba(44, 160, 101, 0.5)', 'rgba(255, 65, 54, 0.5)', 'rgba(207, 114, 255, 0.5)', 'rgba(127, 96, 0, 0.5)']\n",
    "\n",
    "traces = []\n",
    "\n",
    "for xd, yd, cls in zip(x_data, y_data, colors):\n",
    "        traces.append(go.Box(\n",
    "            y=yd,\n",
    "            name=xd,\n",
    "            boxpoints='all',\n",
    "            jitter=0.5,\n",
    "            whiskerwidth=0.2,\n",
    "            fillcolor=cls,\n",
    "            marker=dict(\n",
    "                size=2,\n",
    "            ),\n",
    "            line=dict(width=1),\n",
    "        ))\n",
    "\n",
    "layout = go.Layout(\n",
    "    title='Points Scored by the Top 9 Scoring NBA Players in 2012',\n",
    "    yaxis=dict(\n",
    "        autorange=True,\n",
    "        showgrid=True,\n",
    "        zeroline=True,\n",
    "        dtick=5,\n",
    "        gridcolor='rgb(255, 255, 255)',\n",
    "        gridwidth=1,\n",
    "        zerolinecolor='rgb(255, 255, 255)',\n",
    "        zerolinewidth=2,\n",
    "    ),\n",
    "    margin=dict(\n",
    "        l=40,\n",
    "        r=30,\n",
    "        b=80,\n",
    "        t=100,\n",
    "    ),\n",
    "    paper_bgcolor='rgb(243, 243, 243)',\n",
    "    plot_bgcolor='rgb(243, 243, 243)',\n",
    "    showlegend=False\n",
    ")\n",
    "\n",
    "fig = go.Figure(data=traces, layout=layout)\n",
    "iplot(fig)"
   ]
  },
  {
   "cell_type": "code",
   "execution_count": 39,
   "metadata": {
    "id": "aPMKBGM4ahja",
    "outputId": "a8a1ccea-5b25-4bd7-9f5d-87a01fc515a4"
   },
   "outputs": [
    {
     "data": {
      "application/vnd.plotly.v1+json": {
       "config": {
        "linkText": "Export to plot.ly",
        "plotlyServerURL": "https://plot.ly",
        "showLink": false
       },
       "data": [
        {
         "type": "heatmap",
         "x": [
          "BreakNeck",
          "Blackwalk",
          "mercedes_benz",
          "DORA",
          "n2tstar",
          "coldoxygen",
          "Giken",
          "KoreaNo1",
          "undor",
          "Fordune",
          "PandaTV-Tongk",
          "Benny-_-",
          "PanDaTV_Karl",
          "homeboye",
          "YUPPIEE",
          "Doomhammer",
          "DinghisKhan",
          "YoonRoot",
          "3N1GmA",
          "synthtail",
          "SevenWolf",
          "FZTEAMLDS",
          "1125",
          "BombBurst",
          "SILPHTV",
          "SexyPIG",
          "TOP_94",
          "zeggi",
          "baoli6666666",
          "Toadoo1"
         ],
         "y": [
          17,
          33,
          5,
          8,
          6,
          16,
          142,
          19,
          44,
          8,
          116,
          335,
          87,
          72,
          23,
          3,
          165,
          65,
          16,
          45,
          55,
          45,
          9,
          14,
          277,
          265,
          77,
          52,
          56,
          22
         ],
         "z": [
          3,
          6,
          0,
          4,
          2,
          5,
          12,
          5,
          6,
          2,
          7,
          4,
          9,
          4,
          3,
          1,
          38,
          12,
          6,
          2,
          7,
          4,
          3,
          2,
          48,
          63,
          4,
          3,
          3,
          2
         ]
        }
       ],
       "layout": {
        "template": {
         "data": {
          "bar": [
           {
            "error_x": {
             "color": "#2a3f5f"
            },
            "error_y": {
             "color": "#2a3f5f"
            },
            "marker": {
             "line": {
              "color": "#E5ECF6",
              "width": 0.5
             },
             "pattern": {
              "fillmode": "overlay",
              "size": 10,
              "solidity": 0.2
             }
            },
            "type": "bar"
           }
          ],
          "barpolar": [
           {
            "marker": {
             "line": {
              "color": "#E5ECF6",
              "width": 0.5
             },
             "pattern": {
              "fillmode": "overlay",
              "size": 10,
              "solidity": 0.2
             }
            },
            "type": "barpolar"
           }
          ],
          "carpet": [
           {
            "aaxis": {
             "endlinecolor": "#2a3f5f",
             "gridcolor": "white",
             "linecolor": "white",
             "minorgridcolor": "white",
             "startlinecolor": "#2a3f5f"
            },
            "baxis": {
             "endlinecolor": "#2a3f5f",
             "gridcolor": "white",
             "linecolor": "white",
             "minorgridcolor": "white",
             "startlinecolor": "#2a3f5f"
            },
            "type": "carpet"
           }
          ],
          "choropleth": [
           {
            "colorbar": {
             "outlinewidth": 0,
             "ticks": ""
            },
            "type": "choropleth"
           }
          ],
          "contour": [
           {
            "colorbar": {
             "outlinewidth": 0,
             "ticks": ""
            },
            "colorscale": [
             [
              0,
              "#0d0887"
             ],
             [
              0.1111111111111111,
              "#46039f"
             ],
             [
              0.2222222222222222,
              "#7201a8"
             ],
             [
              0.3333333333333333,
              "#9c179e"
             ],
             [
              0.4444444444444444,
              "#bd3786"
             ],
             [
              0.5555555555555556,
              "#d8576b"
             ],
             [
              0.6666666666666666,
              "#ed7953"
             ],
             [
              0.7777777777777778,
              "#fb9f3a"
             ],
             [
              0.8888888888888888,
              "#fdca26"
             ],
             [
              1,
              "#f0f921"
             ]
            ],
            "type": "contour"
           }
          ],
          "contourcarpet": [
           {
            "colorbar": {
             "outlinewidth": 0,
             "ticks": ""
            },
            "type": "contourcarpet"
           }
          ],
          "heatmap": [
           {
            "colorbar": {
             "outlinewidth": 0,
             "ticks": ""
            },
            "colorscale": [
             [
              0,
              "#0d0887"
             ],
             [
              0.1111111111111111,
              "#46039f"
             ],
             [
              0.2222222222222222,
              "#7201a8"
             ],
             [
              0.3333333333333333,
              "#9c179e"
             ],
             [
              0.4444444444444444,
              "#bd3786"
             ],
             [
              0.5555555555555556,
              "#d8576b"
             ],
             [
              0.6666666666666666,
              "#ed7953"
             ],
             [
              0.7777777777777778,
              "#fb9f3a"
             ],
             [
              0.8888888888888888,
              "#fdca26"
             ],
             [
              1,
              "#f0f921"
             ]
            ],
            "type": "heatmap"
           }
          ],
          "heatmapgl": [
           {
            "colorbar": {
             "outlinewidth": 0,
             "ticks": ""
            },
            "colorscale": [
             [
              0,
              "#0d0887"
             ],
             [
              0.1111111111111111,
              "#46039f"
             ],
             [
              0.2222222222222222,
              "#7201a8"
             ],
             [
              0.3333333333333333,
              "#9c179e"
             ],
             [
              0.4444444444444444,
              "#bd3786"
             ],
             [
              0.5555555555555556,
              "#d8576b"
             ],
             [
              0.6666666666666666,
              "#ed7953"
             ],
             [
              0.7777777777777778,
              "#fb9f3a"
             ],
             [
              0.8888888888888888,
              "#fdca26"
             ],
             [
              1,
              "#f0f921"
             ]
            ],
            "type": "heatmapgl"
           }
          ],
          "histogram": [
           {
            "marker": {
             "pattern": {
              "fillmode": "overlay",
              "size": 10,
              "solidity": 0.2
             }
            },
            "type": "histogram"
           }
          ],
          "histogram2d": [
           {
            "colorbar": {
             "outlinewidth": 0,
             "ticks": ""
            },
            "colorscale": [
             [
              0,
              "#0d0887"
             ],
             [
              0.1111111111111111,
              "#46039f"
             ],
             [
              0.2222222222222222,
              "#7201a8"
             ],
             [
              0.3333333333333333,
              "#9c179e"
             ],
             [
              0.4444444444444444,
              "#bd3786"
             ],
             [
              0.5555555555555556,
              "#d8576b"
             ],
             [
              0.6666666666666666,
              "#ed7953"
             ],
             [
              0.7777777777777778,
              "#fb9f3a"
             ],
             [
              0.8888888888888888,
              "#fdca26"
             ],
             [
              1,
              "#f0f921"
             ]
            ],
            "type": "histogram2d"
           }
          ],
          "histogram2dcontour": [
           {
            "colorbar": {
             "outlinewidth": 0,
             "ticks": ""
            },
            "colorscale": [
             [
              0,
              "#0d0887"
             ],
             [
              0.1111111111111111,
              "#46039f"
             ],
             [
              0.2222222222222222,
              "#7201a8"
             ],
             [
              0.3333333333333333,
              "#9c179e"
             ],
             [
              0.4444444444444444,
              "#bd3786"
             ],
             [
              0.5555555555555556,
              "#d8576b"
             ],
             [
              0.6666666666666666,
              "#ed7953"
             ],
             [
              0.7777777777777778,
              "#fb9f3a"
             ],
             [
              0.8888888888888888,
              "#fdca26"
             ],
             [
              1,
              "#f0f921"
             ]
            ],
            "type": "histogram2dcontour"
           }
          ],
          "mesh3d": [
           {
            "colorbar": {
             "outlinewidth": 0,
             "ticks": ""
            },
            "type": "mesh3d"
           }
          ],
          "parcoords": [
           {
            "line": {
             "colorbar": {
              "outlinewidth": 0,
              "ticks": ""
             }
            },
            "type": "parcoords"
           }
          ],
          "pie": [
           {
            "automargin": true,
            "type": "pie"
           }
          ],
          "scatter": [
           {
            "marker": {
             "colorbar": {
              "outlinewidth": 0,
              "ticks": ""
             }
            },
            "type": "scatter"
           }
          ],
          "scatter3d": [
           {
            "line": {
             "colorbar": {
              "outlinewidth": 0,
              "ticks": ""
             }
            },
            "marker": {
             "colorbar": {
              "outlinewidth": 0,
              "ticks": ""
             }
            },
            "type": "scatter3d"
           }
          ],
          "scattercarpet": [
           {
            "marker": {
             "colorbar": {
              "outlinewidth": 0,
              "ticks": ""
             }
            },
            "type": "scattercarpet"
           }
          ],
          "scattergeo": [
           {
            "marker": {
             "colorbar": {
              "outlinewidth": 0,
              "ticks": ""
             }
            },
            "type": "scattergeo"
           }
          ],
          "scattergl": [
           {
            "marker": {
             "colorbar": {
              "outlinewidth": 0,
              "ticks": ""
             }
            },
            "type": "scattergl"
           }
          ],
          "scattermapbox": [
           {
            "marker": {
             "colorbar": {
              "outlinewidth": 0,
              "ticks": ""
             }
            },
            "type": "scattermapbox"
           }
          ],
          "scatterpolar": [
           {
            "marker": {
             "colorbar": {
              "outlinewidth": 0,
              "ticks": ""
             }
            },
            "type": "scatterpolar"
           }
          ],
          "scatterpolargl": [
           {
            "marker": {
             "colorbar": {
              "outlinewidth": 0,
              "ticks": ""
             }
            },
            "type": "scatterpolargl"
           }
          ],
          "scatterternary": [
           {
            "marker": {
             "colorbar": {
              "outlinewidth": 0,
              "ticks": ""
             }
            },
            "type": "scatterternary"
           }
          ],
          "surface": [
           {
            "colorbar": {
             "outlinewidth": 0,
             "ticks": ""
            },
            "colorscale": [
             [
              0,
              "#0d0887"
             ],
             [
              0.1111111111111111,
              "#46039f"
             ],
             [
              0.2222222222222222,
              "#7201a8"
             ],
             [
              0.3333333333333333,
              "#9c179e"
             ],
             [
              0.4444444444444444,
              "#bd3786"
             ],
             [
              0.5555555555555556,
              "#d8576b"
             ],
             [
              0.6666666666666666,
              "#ed7953"
             ],
             [
              0.7777777777777778,
              "#fb9f3a"
             ],
             [
              0.8888888888888888,
              "#fdca26"
             ],
             [
              1,
              "#f0f921"
             ]
            ],
            "type": "surface"
           }
          ],
          "table": [
           {
            "cells": {
             "fill": {
              "color": "#EBF0F8"
             },
             "line": {
              "color": "white"
             }
            },
            "header": {
             "fill": {
              "color": "#C8D4E3"
             },
             "line": {
              "color": "white"
             }
            },
            "type": "table"
           }
          ]
         },
         "layout": {
          "annotationdefaults": {
           "arrowcolor": "#2a3f5f",
           "arrowhead": 0,
           "arrowwidth": 1
          },
          "autotypenumbers": "strict",
          "coloraxis": {
           "colorbar": {
            "outlinewidth": 0,
            "ticks": ""
           }
          },
          "colorscale": {
           "diverging": [
            [
             0,
             "#8e0152"
            ],
            [
             0.1,
             "#c51b7d"
            ],
            [
             0.2,
             "#de77ae"
            ],
            [
             0.3,
             "#f1b6da"
            ],
            [
             0.4,
             "#fde0ef"
            ],
            [
             0.5,
             "#f7f7f7"
            ],
            [
             0.6,
             "#e6f5d0"
            ],
            [
             0.7,
             "#b8e186"
            ],
            [
             0.8,
             "#7fbc41"
            ],
            [
             0.9,
             "#4d9221"
            ],
            [
             1,
             "#276419"
            ]
           ],
           "sequential": [
            [
             0,
             "#0d0887"
            ],
            [
             0.1111111111111111,
             "#46039f"
            ],
            [
             0.2222222222222222,
             "#7201a8"
            ],
            [
             0.3333333333333333,
             "#9c179e"
            ],
            [
             0.4444444444444444,
             "#bd3786"
            ],
            [
             0.5555555555555556,
             "#d8576b"
            ],
            [
             0.6666666666666666,
             "#ed7953"
            ],
            [
             0.7777777777777778,
             "#fb9f3a"
            ],
            [
             0.8888888888888888,
             "#fdca26"
            ],
            [
             1,
             "#f0f921"
            ]
           ],
           "sequentialminus": [
            [
             0,
             "#0d0887"
            ],
            [
             0.1111111111111111,
             "#46039f"
            ],
            [
             0.2222222222222222,
             "#7201a8"
            ],
            [
             0.3333333333333333,
             "#9c179e"
            ],
            [
             0.4444444444444444,
             "#bd3786"
            ],
            [
             0.5555555555555556,
             "#d8576b"
            ],
            [
             0.6666666666666666,
             "#ed7953"
            ],
            [
             0.7777777777777778,
             "#fb9f3a"
            ],
            [
             0.8888888888888888,
             "#fdca26"
            ],
            [
             1,
             "#f0f921"
            ]
           ]
          },
          "colorway": [
           "#636efa",
           "#EF553B",
           "#00cc96",
           "#ab63fa",
           "#FFA15A",
           "#19d3f3",
           "#FF6692",
           "#B6E880",
           "#FF97FF",
           "#FECB52"
          ],
          "font": {
           "color": "#2a3f5f"
          },
          "geo": {
           "bgcolor": "white",
           "lakecolor": "white",
           "landcolor": "#E5ECF6",
           "showlakes": true,
           "showland": true,
           "subunitcolor": "white"
          },
          "hoverlabel": {
           "align": "left"
          },
          "hovermode": "closest",
          "mapbox": {
           "style": "light"
          },
          "paper_bgcolor": "white",
          "plot_bgcolor": "#E5ECF6",
          "polar": {
           "angularaxis": {
            "gridcolor": "white",
            "linecolor": "white",
            "ticks": ""
           },
           "bgcolor": "#E5ECF6",
           "radialaxis": {
            "gridcolor": "white",
            "linecolor": "white",
            "ticks": ""
           }
          },
          "scene": {
           "xaxis": {
            "backgroundcolor": "#E5ECF6",
            "gridcolor": "white",
            "gridwidth": 2,
            "linecolor": "white",
            "showbackground": true,
            "ticks": "",
            "zerolinecolor": "white"
           },
           "yaxis": {
            "backgroundcolor": "#E5ECF6",
            "gridcolor": "white",
            "gridwidth": 2,
            "linecolor": "white",
            "showbackground": true,
            "ticks": "",
            "zerolinecolor": "white"
           },
           "zaxis": {
            "backgroundcolor": "#E5ECF6",
            "gridcolor": "white",
            "gridwidth": 2,
            "linecolor": "white",
            "showbackground": true,
            "ticks": "",
            "zerolinecolor": "white"
           }
          },
          "shapedefaults": {
           "line": {
            "color": "#2a3f5f"
           }
          },
          "ternary": {
           "aaxis": {
            "gridcolor": "white",
            "linecolor": "white",
            "ticks": ""
           },
           "baxis": {
            "gridcolor": "white",
            "linecolor": "white",
            "ticks": ""
           },
           "bgcolor": "#E5ECF6",
           "caxis": {
            "gridcolor": "white",
            "linecolor": "white",
            "ticks": ""
           }
          },
          "title": {
           "x": 0.05
          },
          "xaxis": {
           "automargin": true,
           "gridcolor": "white",
           "linecolor": "white",
           "ticks": "",
           "title": {
            "standoff": 15
           },
           "zerolinecolor": "white",
           "zerolinewidth": 2
          },
          "yaxis": {
           "automargin": true,
           "gridcolor": "white",
           "linecolor": "white",
           "ticks": "",
           "title": {
            "standoff": 15
           },
           "zerolinecolor": "white",
           "zerolinewidth": 2
          }
         }
        }
       }
      },
      "text/html": [
       "<div>                            <div id=\"2cf1cb21-b9f1-47f6-b0aa-229aa87ce1b1\" class=\"plotly-graph-div\" style=\"height:525px; width:100%;\"></div>            <script type=\"text/javascript\">                require([\"plotly\"], function(Plotly) {                    window.PLOTLYENV=window.PLOTLYENV || {};                                    if (document.getElementById(\"2cf1cb21-b9f1-47f6-b0aa-229aa87ce1b1\")) {                    Plotly.newPlot(                        \"2cf1cb21-b9f1-47f6-b0aa-229aa87ce1b1\",                        [{\"type\":\"heatmap\",\"x\":[\"BreakNeck\",\"Blackwalk\",\"mercedes_benz\",\"DORA\",\"n2tstar\",\"coldoxygen\",\"Giken\",\"KoreaNo1\",\"undor\",\"Fordune\",\"PandaTV-Tongk\",\"Benny-_-\",\"PanDaTV_Karl\",\"homeboye\",\"YUPPIEE\",\"Doomhammer\",\"DinghisKhan\",\"YoonRoot\",\"3N1GmA\",\"synthtail\",\"SevenWolf\",\"FZTEAMLDS\",\"1125\",\"BombBurst\",\"SILPHTV\",\"SexyPIG\",\"TOP_94\",\"zeggi\",\"baoli6666666\",\"Toadoo1\"],\"y\":[17,33,5,8,6,16,142,19,44,8,116,335,87,72,23,3,165,65,16,45,55,45,9,14,277,265,77,52,56,22],\"z\":[3,6,0,4,2,5,12,5,6,2,7,4,9,4,3,1,38,12,6,2,7,4,3,2,48,63,4,3,3,2]}],                        {\"template\":{\"data\":{\"bar\":[{\"error_x\":{\"color\":\"#2a3f5f\"},\"error_y\":{\"color\":\"#2a3f5f\"},\"marker\":{\"line\":{\"color\":\"#E5ECF6\",\"width\":0.5},\"pattern\":{\"fillmode\":\"overlay\",\"size\":10,\"solidity\":0.2}},\"type\":\"bar\"}],\"barpolar\":[{\"marker\":{\"line\":{\"color\":\"#E5ECF6\",\"width\":0.5},\"pattern\":{\"fillmode\":\"overlay\",\"size\":10,\"solidity\":0.2}},\"type\":\"barpolar\"}],\"carpet\":[{\"aaxis\":{\"endlinecolor\":\"#2a3f5f\",\"gridcolor\":\"white\",\"linecolor\":\"white\",\"minorgridcolor\":\"white\",\"startlinecolor\":\"#2a3f5f\"},\"baxis\":{\"endlinecolor\":\"#2a3f5f\",\"gridcolor\":\"white\",\"linecolor\":\"white\",\"minorgridcolor\":\"white\",\"startlinecolor\":\"#2a3f5f\"},\"type\":\"carpet\"}],\"choropleth\":[{\"colorbar\":{\"outlinewidth\":0,\"ticks\":\"\"},\"type\":\"choropleth\"}],\"contour\":[{\"colorbar\":{\"outlinewidth\":0,\"ticks\":\"\"},\"colorscale\":[[0.0,\"#0d0887\"],[0.1111111111111111,\"#46039f\"],[0.2222222222222222,\"#7201a8\"],[0.3333333333333333,\"#9c179e\"],[0.4444444444444444,\"#bd3786\"],[0.5555555555555556,\"#d8576b\"],[0.6666666666666666,\"#ed7953\"],[0.7777777777777778,\"#fb9f3a\"],[0.8888888888888888,\"#fdca26\"],[1.0,\"#f0f921\"]],\"type\":\"contour\"}],\"contourcarpet\":[{\"colorbar\":{\"outlinewidth\":0,\"ticks\":\"\"},\"type\":\"contourcarpet\"}],\"heatmap\":[{\"colorbar\":{\"outlinewidth\":0,\"ticks\":\"\"},\"colorscale\":[[0.0,\"#0d0887\"],[0.1111111111111111,\"#46039f\"],[0.2222222222222222,\"#7201a8\"],[0.3333333333333333,\"#9c179e\"],[0.4444444444444444,\"#bd3786\"],[0.5555555555555556,\"#d8576b\"],[0.6666666666666666,\"#ed7953\"],[0.7777777777777778,\"#fb9f3a\"],[0.8888888888888888,\"#fdca26\"],[1.0,\"#f0f921\"]],\"type\":\"heatmap\"}],\"heatmapgl\":[{\"colorbar\":{\"outlinewidth\":0,\"ticks\":\"\"},\"colorscale\":[[0.0,\"#0d0887\"],[0.1111111111111111,\"#46039f\"],[0.2222222222222222,\"#7201a8\"],[0.3333333333333333,\"#9c179e\"],[0.4444444444444444,\"#bd3786\"],[0.5555555555555556,\"#d8576b\"],[0.6666666666666666,\"#ed7953\"],[0.7777777777777778,\"#fb9f3a\"],[0.8888888888888888,\"#fdca26\"],[1.0,\"#f0f921\"]],\"type\":\"heatmapgl\"}],\"histogram\":[{\"marker\":{\"pattern\":{\"fillmode\":\"overlay\",\"size\":10,\"solidity\":0.2}},\"type\":\"histogram\"}],\"histogram2d\":[{\"colorbar\":{\"outlinewidth\":0,\"ticks\":\"\"},\"colorscale\":[[0.0,\"#0d0887\"],[0.1111111111111111,\"#46039f\"],[0.2222222222222222,\"#7201a8\"],[0.3333333333333333,\"#9c179e\"],[0.4444444444444444,\"#bd3786\"],[0.5555555555555556,\"#d8576b\"],[0.6666666666666666,\"#ed7953\"],[0.7777777777777778,\"#fb9f3a\"],[0.8888888888888888,\"#fdca26\"],[1.0,\"#f0f921\"]],\"type\":\"histogram2d\"}],\"histogram2dcontour\":[{\"colorbar\":{\"outlinewidth\":0,\"ticks\":\"\"},\"colorscale\":[[0.0,\"#0d0887\"],[0.1111111111111111,\"#46039f\"],[0.2222222222222222,\"#7201a8\"],[0.3333333333333333,\"#9c179e\"],[0.4444444444444444,\"#bd3786\"],[0.5555555555555556,\"#d8576b\"],[0.6666666666666666,\"#ed7953\"],[0.7777777777777778,\"#fb9f3a\"],[0.8888888888888888,\"#fdca26\"],[1.0,\"#f0f921\"]],\"type\":\"histogram2dcontour\"}],\"mesh3d\":[{\"colorbar\":{\"outlinewidth\":0,\"ticks\":\"\"},\"type\":\"mesh3d\"}],\"parcoords\":[{\"line\":{\"colorbar\":{\"outlinewidth\":0,\"ticks\":\"\"}},\"type\":\"parcoords\"}],\"pie\":[{\"automargin\":true,\"type\":\"pie\"}],\"scatter\":[{\"marker\":{\"colorbar\":{\"outlinewidth\":0,\"ticks\":\"\"}},\"type\":\"scatter\"}],\"scatter3d\":[{\"line\":{\"colorbar\":{\"outlinewidth\":0,\"ticks\":\"\"}},\"marker\":{\"colorbar\":{\"outlinewidth\":0,\"ticks\":\"\"}},\"type\":\"scatter3d\"}],\"scattercarpet\":[{\"marker\":{\"colorbar\":{\"outlinewidth\":0,\"ticks\":\"\"}},\"type\":\"scattercarpet\"}],\"scattergeo\":[{\"marker\":{\"colorbar\":{\"outlinewidth\":0,\"ticks\":\"\"}},\"type\":\"scattergeo\"}],\"scattergl\":[{\"marker\":{\"colorbar\":{\"outlinewidth\":0,\"ticks\":\"\"}},\"type\":\"scattergl\"}],\"scattermapbox\":[{\"marker\":{\"colorbar\":{\"outlinewidth\":0,\"ticks\":\"\"}},\"type\":\"scattermapbox\"}],\"scatterpolar\":[{\"marker\":{\"colorbar\":{\"outlinewidth\":0,\"ticks\":\"\"}},\"type\":\"scatterpolar\"}],\"scatterpolargl\":[{\"marker\":{\"colorbar\":{\"outlinewidth\":0,\"ticks\":\"\"}},\"type\":\"scatterpolargl\"}],\"scatterternary\":[{\"marker\":{\"colorbar\":{\"outlinewidth\":0,\"ticks\":\"\"}},\"type\":\"scatterternary\"}],\"surface\":[{\"colorbar\":{\"outlinewidth\":0,\"ticks\":\"\"},\"colorscale\":[[0.0,\"#0d0887\"],[0.1111111111111111,\"#46039f\"],[0.2222222222222222,\"#7201a8\"],[0.3333333333333333,\"#9c179e\"],[0.4444444444444444,\"#bd3786\"],[0.5555555555555556,\"#d8576b\"],[0.6666666666666666,\"#ed7953\"],[0.7777777777777778,\"#fb9f3a\"],[0.8888888888888888,\"#fdca26\"],[1.0,\"#f0f921\"]],\"type\":\"surface\"}],\"table\":[{\"cells\":{\"fill\":{\"color\":\"#EBF0F8\"},\"line\":{\"color\":\"white\"}},\"header\":{\"fill\":{\"color\":\"#C8D4E3\"},\"line\":{\"color\":\"white\"}},\"type\":\"table\"}]},\"layout\":{\"annotationdefaults\":{\"arrowcolor\":\"#2a3f5f\",\"arrowhead\":0,\"arrowwidth\":1},\"autotypenumbers\":\"strict\",\"coloraxis\":{\"colorbar\":{\"outlinewidth\":0,\"ticks\":\"\"}},\"colorscale\":{\"diverging\":[[0,\"#8e0152\"],[0.1,\"#c51b7d\"],[0.2,\"#de77ae\"],[0.3,\"#f1b6da\"],[0.4,\"#fde0ef\"],[0.5,\"#f7f7f7\"],[0.6,\"#e6f5d0\"],[0.7,\"#b8e186\"],[0.8,\"#7fbc41\"],[0.9,\"#4d9221\"],[1,\"#276419\"]],\"sequential\":[[0.0,\"#0d0887\"],[0.1111111111111111,\"#46039f\"],[0.2222222222222222,\"#7201a8\"],[0.3333333333333333,\"#9c179e\"],[0.4444444444444444,\"#bd3786\"],[0.5555555555555556,\"#d8576b\"],[0.6666666666666666,\"#ed7953\"],[0.7777777777777778,\"#fb9f3a\"],[0.8888888888888888,\"#fdca26\"],[1.0,\"#f0f921\"]],\"sequentialminus\":[[0.0,\"#0d0887\"],[0.1111111111111111,\"#46039f\"],[0.2222222222222222,\"#7201a8\"],[0.3333333333333333,\"#9c179e\"],[0.4444444444444444,\"#bd3786\"],[0.5555555555555556,\"#d8576b\"],[0.6666666666666666,\"#ed7953\"],[0.7777777777777778,\"#fb9f3a\"],[0.8888888888888888,\"#fdca26\"],[1.0,\"#f0f921\"]]},\"colorway\":[\"#636efa\",\"#EF553B\",\"#00cc96\",\"#ab63fa\",\"#FFA15A\",\"#19d3f3\",\"#FF6692\",\"#B6E880\",\"#FF97FF\",\"#FECB52\"],\"font\":{\"color\":\"#2a3f5f\"},\"geo\":{\"bgcolor\":\"white\",\"lakecolor\":\"white\",\"landcolor\":\"#E5ECF6\",\"showlakes\":true,\"showland\":true,\"subunitcolor\":\"white\"},\"hoverlabel\":{\"align\":\"left\"},\"hovermode\":\"closest\",\"mapbox\":{\"style\":\"light\"},\"paper_bgcolor\":\"white\",\"plot_bgcolor\":\"#E5ECF6\",\"polar\":{\"angularaxis\":{\"gridcolor\":\"white\",\"linecolor\":\"white\",\"ticks\":\"\"},\"bgcolor\":\"#E5ECF6\",\"radialaxis\":{\"gridcolor\":\"white\",\"linecolor\":\"white\",\"ticks\":\"\"}},\"scene\":{\"xaxis\":{\"backgroundcolor\":\"#E5ECF6\",\"gridcolor\":\"white\",\"gridwidth\":2,\"linecolor\":\"white\",\"showbackground\":true,\"ticks\":\"\",\"zerolinecolor\":\"white\"},\"yaxis\":{\"backgroundcolor\":\"#E5ECF6\",\"gridcolor\":\"white\",\"gridwidth\":2,\"linecolor\":\"white\",\"showbackground\":true,\"ticks\":\"\",\"zerolinecolor\":\"white\"},\"zaxis\":{\"backgroundcolor\":\"#E5ECF6\",\"gridcolor\":\"white\",\"gridwidth\":2,\"linecolor\":\"white\",\"showbackground\":true,\"ticks\":\"\",\"zerolinecolor\":\"white\"}},\"shapedefaults\":{\"line\":{\"color\":\"#2a3f5f\"}},\"ternary\":{\"aaxis\":{\"gridcolor\":\"white\",\"linecolor\":\"white\",\"ticks\":\"\"},\"baxis\":{\"gridcolor\":\"white\",\"linecolor\":\"white\",\"ticks\":\"\"},\"bgcolor\":\"#E5ECF6\",\"caxis\":{\"gridcolor\":\"white\",\"linecolor\":\"white\",\"ticks\":\"\"}},\"title\":{\"x\":0.05},\"xaxis\":{\"automargin\":true,\"gridcolor\":\"white\",\"linecolor\":\"white\",\"ticks\":\"\",\"title\":{\"standoff\":15},\"zerolinecolor\":\"white\",\"zerolinewidth\":2},\"yaxis\":{\"automargin\":true,\"gridcolor\":\"white\",\"linecolor\":\"white\",\"ticks\":\"\",\"title\":{\"standoff\":15},\"zerolinecolor\":\"white\",\"zerolinewidth\":2}}}},                        {\"responsive\": true}                    ).then(function(){\n",
       "                            \n",
       "var gd = document.getElementById('2cf1cb21-b9f1-47f6-b0aa-229aa87ce1b1');\n",
       "var x = new MutationObserver(function (mutations, observer) {{\n",
       "        var display = window.getComputedStyle(gd).display;\n",
       "        if (!display || display === 'none') {{\n",
       "            console.log([gd, 'removed!']);\n",
       "            Plotly.purge(gd);\n",
       "            observer.disconnect();\n",
       "        }}\n",
       "}});\n",
       "\n",
       "// Listen for the removal of the full notebook cells\n",
       "var notebookContainer = gd.closest('#notebook-container');\n",
       "if (notebookContainer) {{\n",
       "    x.observe(notebookContainer, {childList: true});\n",
       "}}\n",
       "\n",
       "// Listen for the clearing of the current output cell\n",
       "var outputEl = gd.closest('.output');\n",
       "if (outputEl) {{\n",
       "    x.observe(outputEl, {childList: true});\n",
       "}}\n",
       "\n",
       "                        })                };                });            </script>        </div>"
      ]
     },
     "metadata": {},
     "output_type": "display_data"
    }
   ],
   "source": [
    "#NOTE\n",
    "\n",
    "trace = go.Heatmap(z= df_bar_pubg['solo_Wins'],\n",
    "                   x= df_bar_pubg['player_name'],\n",
    "                   y= df_bar_pubg['solo_RoundsPlayed'])\n",
    "data=[trace]\n",
    "iplot(data, filename='labelled-heatmap')"
   ]
  },
  {
   "cell_type": "code",
   "execution_count": null,
   "metadata": {},
   "outputs": [],
   "source": []
  }
 ],
 "metadata": {
  "colab": {
   "name": "EN_Working With Plotly.ipynb",
   "provenance": []
  },
  "kernelspec": {
   "display_name": "Python 3",
   "language": "python",
   "name": "python3"
  },
  "language_info": {
   "codemirror_mode": {
    "name": "ipython",
    "version": 3
   },
   "file_extension": ".py",
   "mimetype": "text/x-python",
   "name": "python",
   "nbconvert_exporter": "python",
   "pygments_lexer": "ipython3",
   "version": "3.8.8"
  }
 },
 "nbformat": 4,
 "nbformat_minor": 1
}
