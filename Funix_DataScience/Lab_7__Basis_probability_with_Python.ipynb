{
 "cells": [
  {
   "cell_type": "markdown",
   "metadata": {
    "id": "KPZVqpHP5QF8"
   },
   "source": [
    "### Notebook Setup:"
   ]
  },
  {
   "cell_type": "markdown",
   "metadata": {
    "id": "WjP71p-n5Syr"
   },
   "source": [
    "The folowing magic command downloads many python packages like *numpy* and allows the notebooks to plot graphs with *matplotlib*. \n",
    "\n",
    "<font color=\"red\">**DO NOT**</font> import other packages. You already have all the packages you need."
   ]
  },
  {
   "cell_type": "code",
   "execution_count": 60,
   "metadata": {
    "id": "x6jbPjZW48F7"
   },
   "outputs": [
    {
     "name": "stdout",
     "output_type": "stream",
     "text": [
      "Populating the interactive namespace from numpy and matplotlib\n"
     ]
    }
   ],
   "source": [
    "%pylab inline\n",
    "import numpy as np"
   ]
  },
  {
   "cell_type": "markdown",
   "metadata": {
    "id": "dUWxttf65adc"
   },
   "source": [
    "Specifically, you can now use `random.rand(x)` which for some $x \\in N$ generates $x$ random numbers. You **will** use this command in your homework."
   ]
  },
  {
   "cell_type": "code",
   "execution_count": 61,
   "metadata": {
    "id": "0TpY3w2L5fEc"
   },
   "outputs": [
    {
     "data": {
      "text/plain": [
       "0.20361030752238163"
      ]
     },
     "execution_count": 61,
     "metadata": {},
     "output_type": "execute_result"
    }
   ],
   "source": [
    "random.rand()"
   ]
  },
  {
   "cell_type": "code",
   "execution_count": 62,
   "metadata": {
    "id": "QvWP3uS55kGk"
   },
   "outputs": [
    {
     "data": {
      "text/plain": [
       "array([0.40106404, 0.70360789, 0.61992936, 0.64626216])"
      ]
     },
     "execution_count": 62,
     "metadata": {},
     "output_type": "execute_result"
    }
   ],
   "source": [
    "random.rand(4)"
   ]
  },
  {
   "cell_type": "markdown",
   "metadata": {
    "id": "N6Btkjyd6bgY"
   },
   "source": [
    "# Part 1: Basic Probability"
   ]
  },
  {
   "cell_type": "markdown",
   "metadata": {
    "id": "JbYfP9jO5YFe"
   },
   "source": [
    "## Problem 1\n"
   ]
  },
  {
   "cell_type": "markdown",
   "metadata": {
    "id": "mxA66Sg35t4v"
   },
   "source": [
    "Write a function, **seq_sum**, which generates $n$ random coin flips from a fair coin and then returns the number of heads. A fair coin is defined to be a coin where $P($heads$)=\\frac{1}{2}$ \n",
    "\n",
    "The output type should be a numpy integer, **hint:** use `random.rand()` \n",
    "\n",
    "<font  style=\"color:blue\"> * **Code:** *</font>\n",
    "```python\n",
    "x = seq_sum(100)\n",
    "print x\n",
    "print [seq_sum(2) for x in range(20)]\n",
    "```\n",
    "\n",
    "\n",
    "<font  style=\"color:magenta\"> * **Output:** *</font>\n",
    "```\n",
    "49\n",
    "[0, 1, 1, 1, 1, 2, 1, 2, 1, 1, 0, 0, 2, 1, 1, 1, 0, 0, 1, 1]\n",
    "```"
   ]
  },
  {
   "cell_type": "markdown",
   "metadata": {
    "id": "GhnDheq65w2_"
   },
   "source": [
    "\n",
    "**Write your code for seq_sum in the cell below:**"
   ]
  },
  {
   "cell_type": "code",
   "execution_count": 45,
   "metadata": {
    "id": "7AMYKrYF5lR2"
   },
   "outputs": [],
   "source": [
    "# modify this cell\n",
    "import random\n",
    "\n",
    "def seq_sum(n):\n",
    "    x = np.random.randint(0,2,n)\n",
    "    k=0\n",
    "    for i in x:\n",
    "        if i == 1:\n",
    "            k+=1\n",
    "    return k \n",
    "    \"\"\" input: n, generate a sequence of n random coin flips\n",
    "        output: return the number of heads \n",
    "        Hint: For simplicity, use 1,0 to represent head,tails\n",
    "    \"\"\"\n",
    "    ...\n"
   ]
  },
  {
   "cell_type": "markdown",
   "metadata": {
    "id": "9zH3D6II54sp"
   },
   "source": [
    "* if the following cell runs without error you receive some points."
   ]
  },
  {
   "cell_type": "code",
   "execution_count": 50,
   "metadata": {
    "id": "8rL_67rS52_P"
   },
   "outputs": [
    {
     "name": "stdout",
     "output_type": "stream",
     "text": [
      "51\n"
     ]
    }
   ],
   "source": [
    "# checking function \n",
    "\n",
    "x = seq_sum(100)\n",
    "print(x)\n",
    "assert unique([seq_sum(2) for x in  range(0,200)]).tolist() == [0, 1, 2]\n",
    "\n"
   ]
  },
  {
   "cell_type": "markdown",
   "metadata": {
    "id": "YRuKCe6u5_4B"
   },
   "source": [
    "## Problem 2:\n"
   ]
  },
  {
   "cell_type": "markdown",
   "metadata": {
    "id": "xZp6jFT86Fza"
   },
   "source": [
    "Write a function, **estimate_prob**, that uses **seq_sum** to estimate the following probability:\n",
    "\n",
    "$$ P(\\; k_1 <= \\text{number of heads in $n$ flips} < k_2 ) $$\n",
    "\n",
    "The function should estimate the probability by running $m$ different trials of **`seq_sum(n)`**, probably using a *`for`* loop.\n",
    "\n",
    "In order to receive full credit **estimate_prob** <font color=\"red\">MUST</font> call **seq_sum** (aka: seq_sum is located inside the **estimate_prob** function)\n",
    "\n",
    "<font  style=\"color:blue\"> * **Code:** *</font>\n",
    "```python\n",
    "x = estimate_prob(100,45,55,1000)\n",
    "print x\n",
    "print type(x)\n",
    "```\n",
    "\n",
    "<font  style=\"color:magenta\"> * **Output:** *</font>\n",
    "```\n",
    "0.686\n",
    "<type 'float'>\n",
    "```"
   ]
  },
  {
   "cell_type": "markdown",
   "metadata": {
    "id": "mcUpi4-s7rxf"
   },
   "source": [
    "**Write your code for estimate_prob in the cell below:**"
   ]
  },
  {
   "cell_type": "code",
   "execution_count": 51,
   "metadata": {
    "id": "FNKU-OJK6HqW"
   },
   "outputs": [],
   "source": [
    "# Modify this cell\n",
    "\n",
    "def estimate_prob(n,k1,k2,m):\n",
    "    s = 0\n",
    "    for _ in range(m):\n",
    "        x = seq_sum(n)\n",
    "        s+=x\n",
    "    return s/m\n",
    "    \n",
    "    \"\"\"Estimate the probability that n flips of a fair coin result in k1 to k2 heads\n",
    "         n: the number of coin flips (length of the sequence)\n",
    "         k1,k2: the trial is successful if the number of heads is \n",
    "                between k1 and k2-1\n",
    "         m: the number of trials (number of sequences of length n)\n",
    "         \n",
    "         output: the estimated probability \n",
    "         \"\"\"\n",
    "    ...\n"
   ]
  },
  {
   "cell_type": "code",
   "execution_count": 58,
   "metadata": {
    "id": "A5k3VD7i6NBp"
   },
   "outputs": [
    {
     "name": "stdout",
     "output_type": "stream",
     "text": [
      "50.095\n"
     ]
    }
   ],
   "source": [
    "# this is a small sanity check\n",
    "# the true check for this function is further down\n",
    "\n",
    "x = estimate_prob(100,40,60,1000)\n",
    "print(x)\n",
    "assert 'float' in str(type(x))"
   ]
  },
  {
   "cell_type": "markdown",
   "metadata": {
    "id": "R_GiRy9F6YgU"
   },
   "source": [
    "# Different Dice"
   ]
  },
  {
   "cell_type": "markdown",
   "metadata": {
    "id": "Fx0fVotU6k0p"
   },
   "source": [
    "So far we mostly considered standard 6-faced dice. The following problems explore dice with different number of faces. "
   ]
  },
  {
   "cell_type": "markdown",
   "metadata": {
    "id": "Zx2FZkdr6fwf"
   },
   "source": [
    "## Problem 3"
   ]
  },
  {
   "cell_type": "markdown",
   "metadata": {
    "id": "tkzmCOLz6sgQ"
   },
   "source": [
    "Suppose that a 6-sided die is rolled $n$ times. Let $X_i$ be the value of the top face at the $i$th roll,\n",
    "and let $X\\triangleq\\max_{1\\le i\\le n} X_i$ be the highest value observed. For example, if $n=3$ and the three\n",
    "rolls are 4, 1, and 4, then $X_1=4, X_2=1, X_3=4$ and $X=4$. \n",
    "\n",
    "To find the distribution of $X$, observe first that $X\\le x$ iff $X_i\\le x$ for all $1\\le i\\le n$,\n",
    "hence $P(X\\le x)=(x/6)^n$. It follows that $P(X=x)=P(X\\le x)-P(X\\le x-1)=(x/6)^n-((x-1)/6)^n$.\n",
    "For example, $P(X=1)=(1/6)^n$, and $P(X=2)=(1/3)^n-(1/6)^n$.\n",
    "\n",
    "In this problem we assume that each of the $n$ dice has a potentially different number of faces, denoted $f_i$,\n",
    "and ask you to write a function **largest_face** that determines the probability $P(x)$ that the highest top face observed is $x$. **largest_face** takes a vector $\\boldsymbol f$ of positive integers, interpreted as the number of faces of each of the dice, and a value $x$ and returns $P(x)$. For example, if $\\boldsymbol f=[2, 5, 7]$, then three dice are rolled, and $P(1)=(1/2)\\cdot(1/5)\\cdot(1/7)$ as all dice must be 1, while $P(7)=1/7$ as the third die must turn up 7.\n",
    "\n",
    "<font  style=\"color:blue\">* **Sample run** *</font>\n",
    "```python\n",
    "print largest_face([2,5,8],8)\n",
    "print largest_face([2], 1)\n",
    "largest_face( [3,4], 2)\n",
    "print largest_face([2, 5, 7, 3], 3)\n",
    "```\n",
    "\n",
    "\n",
    "<font  style=\"color:magenta\">* **Expected Output** *</font>\n",
    "```\n",
    "0.125\n",
    "0.5\n",
    "0.25\n",
    "0.180952380952\n",
    "```"
   ]
  },
  {
   "cell_type": "markdown",
   "metadata": {
    "id": "YsJryPYo70lu"
   },
   "source": [
    "**Write your code for largest_face in the cell below:**"
   ]
  },
  {
   "cell_type": "code",
   "execution_count": 207,
   "metadata": {
    "id": "1f5Im-Ig6vmu"
   },
   "outputs": [],
   "source": [
    "# modify this cell\n",
    "\n",
    "def largest_face(f, x_max):\n",
    "    a = []\n",
    "    for i in f:\n",
    "        if i>=x_max:\n",
    "            a.append(i)\n",
    "    omega = np.prod(a)\n",
    "    return x_max**len(a)/omega - (x_max - 1)**len(a)/omega\n",
    "    \n",
    "    # inputs: m is a list of integers and m_max is an integer\n",
    "    # output: a variable of type 'float'\n",
    "    # Example: Here we want to get the probability of getting largest face as 2 for two dices.\n",
    "    # That should be 3 combinations out of total 36 combinations : 1,2 2,1, 2,2\n",
    "    # According to formula : P(2)= (2/6)^2 - (1/6)^2 = 3/36\n",
    "    ...\n",
    "    "
   ]
  },
  {
   "cell_type": "code",
   "execution_count": 208,
   "metadata": {
    "id": "QpiZ6bJQ6yhG"
   },
   "outputs": [],
   "source": [
    "# Check Function\n",
    "\n",
    "assert abs( largest_face([5],3) - 0.19999999999999996 ) < 10**-5\n",
    "assert abs( largest_face( [11,5,4], 5) - 0.16363636363636364  ) < 10**-5\n",
    "assert abs( largest_face(list(range(1,10)), 3) - 0.011348104056437391 ) < 10**-5 \n"
   ]
  },
  {
   "cell_type": "markdown",
   "metadata": {
    "id": "ev8mLRQU7PTi"
   },
   "source": [
    "## Problem 4"
   ]
  },
  {
   "cell_type": "markdown",
   "metadata": {
    "id": "ytbcHxDC7SGx"
   },
   "source": [
    "Write a function **face_sum** that takes a vector $\\boldsymbol f$ that as in the previous problem represents the number of faces of each die,  and a positive integer $s$, and returns the probability that the sum of the top faces observed is $s$. For example, if $\\boldsymbol f=[3, 4, 5]$ and $s\\le 2$ or $s\\ge 13$, **face_sum** returns 0, and if $s=3$ or $s=12$, it returns $(1/3)\\cdot(1/4)\\cdot(1/5)=1/60$.\n",
    "\n",
    "Hint: The **constrained-composition** function you wrote for an earlier probelm may prove handy. \n",
    "\n",
    "<font  style=\"color:blue\"> * **Sample run** *</font>\n",
    "```python\n",
    "print(face_sum([3, 4, 5], 13))\n",
    "print(face_sum([2,2],3))\n",
    "print(face_sum([3, 4, 5], 7))\n",
    "```\n",
    "\n",
    "\n",
    "<font  style=\"color:magenta\"> * **Expected Output** *</font>\n",
    "```\n",
    "0.0\n",
    "0.5\n",
    "0.18333333\n",
    "```"
   ]
  },
  {
   "cell_type": "markdown",
   "metadata": {
    "id": "IwTulx_m7dY_"
   },
   "source": [
    "### Helper Code\n",
    "\n",
    "Below is a correct implementation of **constrained_composition**. Call this function in your implementation of **face_sum**."
   ]
  },
  {
   "cell_type": "code",
   "execution_count": 210,
   "metadata": {
    "id": "qQablQrJ64Gt"
   },
   "outputs": [],
   "source": [
    "def constrained_compositions(n, m):\n",
    "    # inputs: n is of type 'int' and m is a list of integers\n",
    "    # output: a set of tuples\n",
    "    \n",
    "    k = len(m)\n",
    "    parts = set()\n",
    "    if k == n:\n",
    "        if 1 <= min(m):\n",
    "            parts.add((1,)*n)\n",
    "    if k == 1:\n",
    "        if n <= m[0]:\n",
    "            parts.add((n,))\n",
    "    else:\n",
    "        for x in range(1, min(n-k+2,m[0]+1)):\n",
    "            for y in constrained_compositions(n-x, m[1:]):\n",
    "                parts.add((x,)+y)\n",
    "    return parts"
   ]
  },
  {
   "cell_type": "markdown",
   "metadata": {
    "id": "8FprwGDd7j7T"
   },
   "source": [
    "**Write your code for face_sum in the cell below:**"
   ]
  },
  {
   "cell_type": "code",
   "execution_count": 220,
   "metadata": {
    "id": "e4fvkOvr7guh"
   },
   "outputs": [],
   "source": [
    "# modify this cell\n",
    "\n",
    "def face_sum(m, s):\n",
    "    return len(constrained_compositions(s,m)) / np.prod(m)\n",
    "    # inputs: m is list of integers and s is an integer\n",
    "    # output: a variable of type 'float'\n",
    "    # Example: Here we want to see to get the probability of largest face summing up to the number provided\n",
    "    # As for [2,2], we have (1,1),(1,2),(2,1),(2,2) as all possible combinations of largest faces\n",
    "    # For getting 3 as sum, we have its probability as 2/4 = 0.5\n",
    "    ..."
   ]
  },
  {
   "cell_type": "code",
   "execution_count": 221,
   "metadata": {
    "id": "EYwLgxS78GWo"
   },
   "outputs": [],
   "source": [
    "# Check Function\n",
    "assert sum(abs( face_sum([2,2],2) - 0.25  )) < 10**-5\n",
    "assert sum(abs( face_sum([2,2],10) - 0.0  )) < 10**-5\n",
    "assert sum(abs( face_sum(range(1,10),20) - 0.03037092151675485  )) < 10**-5\n"
   ]
  },
  {
   "cell_type": "code",
   "execution_count": null,
   "metadata": {},
   "outputs": [],
   "source": []
  }
 ],
 "metadata": {
  "colab": {
   "collapsed_sections": [
    "KPZVqpHP5QF8",
    "JbYfP9jO5YFe",
    "YRuKCe6u5_4B",
    "Zx2FZkdr6fwf",
    "ev8mLRQU7PTi"
   ],
   "name": "Lab 7_ Basis probability with Python.ipynb",
   "provenance": []
  },
  "kernelspec": {
   "display_name": "Python 3",
   "language": "python",
   "name": "python3"
  },
  "language_info": {
   "codemirror_mode": {
    "name": "ipython",
    "version": 3
   },
   "file_extension": ".py",
   "mimetype": "text/x-python",
   "name": "python",
   "nbconvert_exporter": "python",
   "pygments_lexer": "ipython3",
   "version": "3.8.5"
  }
 },
 "nbformat": 4,
 "nbformat_minor": 4
}
