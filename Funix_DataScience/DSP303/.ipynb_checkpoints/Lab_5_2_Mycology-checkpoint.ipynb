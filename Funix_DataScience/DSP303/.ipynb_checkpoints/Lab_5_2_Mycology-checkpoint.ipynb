{
  "nbformat": 4,
  "nbformat_minor": 0,
  "metadata": {
    "anaconda-cloud": {},
    "kernelspec": {
      "display_name": "Python [default]",
      "language": "python",
      "name": "python3"
    },
    "language_info": {
      "codemirror_mode": {
        "name": "ipython",
        "version": 3
      },
      "file_extension": ".py",
      "mimetype": "text/x-python",
      "name": "python",
      "nbconvert_exporter": "python",
      "pygments_lexer": "ipython3",
      "version": "3.5.2"
    },
    "toc": {
      "colors": {
        "hover_highlight": "#DAA520",
        "running_highlight": "#FF0000",
        "selected_highlight": "#FFD700"
      },
      "moveMenuLeft": true,
      "nav_menu": {
        "height": "58px",
        "width": "252px"
      },
      "navigate_menu": true,
      "number_sections": true,
      "sideBar": true,
      "threshold": 4,
      "toc_cell": false,
      "toc_section_display": "block",
      "toc_window_display": false,
      "widenNotebook": false
    },
    "colab": {
      "name": "Lab 5.2-Mycology.ipynb",
      "provenance": [],
      "collapsed_sections": [
        "_qDPKA2afOz4"
      ]
    }
  },
  "cells": [
    {
      "cell_type": "markdown",
      "metadata": {
        "id": "_qDPKA2afOz4"
      },
      "source": [
        "## Lab Introduction\n",
        "Mycology is a branch of biology that generally deals with the study of fungi and mushrooms, and particularly their genetic and biochemical make-up, and their use to humans. Throughout history, fungi have been used for tinder, medicine, and food. For hundreds of years, specific mushrooms have been used as folk medicine in Russian, China, and Japan. Scientists elsewhere have also documented many medicinal uses of mushrooms as well, but not all mushrooms are beneficial--some are quite deadly.\n",
        "\n",
        "In this lab, you're going to use decision trees to peruse The Mushroom Data Set, drawn from the Audobon Society Field Guide to North American Mushrooms (1981). The data set details mushrooms described in terms of many physical characteristics, such as cap size and stalk length, along with a classification of poisonous or edible.\n",
        "\n",
        "As a standard disclaimer, if you eat a random mushroom you find, you are doing so at your own risk. While every effort has been made to ensure that the information contained with the data set is correct, please understand that no one associated with this course accepts any responsibility or liability for errors, omissions or representations, expressed or implied, contained therein, or that might arise from you mistakenly identifying a mushroom. Exercise due caution and just take this lab as informational purposes only."
      ]
    },
    {
      "cell_type": "code",
      "metadata": {
        "id": "1jWLXHWkfOz6"
      },
      "source": [
        "import pandas as pd"
      ],
      "execution_count": null,
      "outputs": []
    },
    {
      "cell_type": "markdown",
      "metadata": {
        "collapsed": true,
        "id": "8QnhGwaLfO0H"
      },
      "source": [
        "## 1. Data Preparation\n",
        "Visit the [data set's page](https://archive.ics.uci.edu/ml/datasets/Mushroom), read through it carefully and download the dataset."
      ]
    },
    {
      "cell_type": "markdown",
      "metadata": {
        "id": "kr1lE3nvfO0I"
      },
      "source": [
        "Load up the mushroom dataset into dataframe `X` and verify you did it properly, and that you have not included any features that clearly shouldn't be part of the dataset.\n",
        "\n",
        "You should not have any doubled indices. You can check out information about the headers present in the dataset using the link we provided above. Also make sure you've properly captured any NA values."
      ]
    },
    {
      "cell_type": "code",
      "metadata": {
        "id": "HqEs9qhcfO0J"
      },
      "source": [
        "# .. your code here .."
      ],
      "execution_count": null,
      "outputs": []
    },
    {
      "cell_type": "code",
      "metadata": {
        "id": "Rpww5XMffO0R"
      },
      "source": [
        "# An easy way to show which rows have nans in them:\n",
        "X[pd.isnull(X).any(axis=1)]"
      ],
      "execution_count": null,
      "outputs": []
    },
    {
      "cell_type": "markdown",
      "metadata": {
        "id": "SrfjzMUnfO0d"
      },
      "source": [
        "For this simple lab, just drop any row with a nan in it, and then print out your dataset's shape:"
      ]
    },
    {
      "cell_type": "code",
      "metadata": {
        "id": "dh4mEKgUfO0f"
      },
      "source": [
        "# .. your code here .."
      ],
      "execution_count": null,
      "outputs": []
    },
    {
      "cell_type": "markdown",
      "metadata": {
        "collapsed": false,
        "id": "gZk3V5y0fO0q"
      },
      "source": [
        "Copy the labels out of the dataframe into variable `y`, then remove them from `X`.\n",
        "\n",
        "Encode the labels, using the `.map()` trick we presented you in Module 5, using `canadian:0`, `kama:1`, and `rosa:2`."
      ]
    },
    {
      "cell_type": "code",
      "metadata": {
        "id": "RVz-WkzGfO0s"
      },
      "source": [
        "# .. your code here .."
      ],
      "execution_count": null,
      "outputs": []
    },
    {
      "cell_type": "markdown",
      "metadata": {
        "id": "z6GNKmKDfO0z"
      },
      "source": [
        "Encode the entire dataframe using dummies:"
      ]
    },
    {
      "cell_type": "markdown",
      "metadata": {
        "collapsed": true,
        "id": "p2kiIkNbfO00"
      },
      "source": [
        "Split your data into `test` and `train` sets. Your `test` size should be 30% with `random_state` 7.\n",
        "\n",
        "Please use variable names: `X_train`, `X_test`, `y_train`, and `y_test`:"
      ]
    },
    {
      "cell_type": "code",
      "metadata": {
        "id": "60C2Py7jfO03"
      },
      "source": [
        "# .. your code here .."
      ],
      "execution_count": null,
      "outputs": []
    },
    {
      "cell_type": "markdown",
      "metadata": {
        "id": "7IszxDQtgoHO"
      },
      "source": [
        "## 2. Training and Evaluating the Model"
      ]
    },
    {
      "cell_type": "markdown",
      "metadata": {
        "collapsed": true,
        "id": "YXe9dcd1fO1C"
      },
      "source": [
        "Create an DT classifier. No need to set any parameters:"
      ]
    },
    {
      "cell_type": "code",
      "metadata": {
        "id": "mNGFjNAwfO1E"
      },
      "source": [
        "# .. your code here .."
      ],
      "execution_count": null,
      "outputs": []
    },
    {
      "cell_type": "markdown",
      "metadata": {
        "id": "vhZXcSGUfO1P"
      },
      "source": [
        "Train the classifier on the `training` data and labels; then, score the classifier by accuracy and F1 score on the `testing` data and labels:"
      ]
    },
    {
      "cell_type": "code",
      "metadata": {
        "id": "vKaSAVhifO1R"
      },
      "source": [
        "# .. your code here .."
      ],
      "execution_count": null,
      "outputs": []
    },
    {
      "cell_type": "code",
      "metadata": {
        "id": "DmrKZ_5yfO1g"
      },
      "source": [
        "print(\"High-Dimensionality Score: \", round((score*100), 3))"
      ],
      "execution_count": null,
      "outputs": []
    },
    {
      "cell_type": "markdown",
      "metadata": {
        "id": "_xpXZ9IJfO1m"
      },
      "source": [
        "Use the code on the course's SciKit-Learn page to output a .DOT file, then render the .DOT to .PNGs.\n",
        "\n",
        "You will need graphviz installed to do this. On macOS, you can `brew install graphviz`. On Windows 10, graphviz installs via a .msi installer that you can download from the graphviz website. Also, a graph editor, gvedit.exe can be used to view the tree directly from the exported tree.dot file without having to issue a call. On other systems, use analogous commands.\n",
        "\n",
        "If you encounter issues installing graphviz or don't have the rights to, you can always visualize your .dot file on the website: http://webgraphviz.com/."
      ]
    },
    {
      "cell_type": "code",
      "metadata": {
        "id": "lcgsCBmbfO1o"
      },
      "source": [
        ""
      ],
      "execution_count": null,
      "outputs": []
    }
  ]
}