{
  "nbformat": 4,
  "nbformat_minor": 0,
  "metadata": {
    "anaconda-cloud": {},
    "kernelspec": {
      "display_name": "Python [default]",
      "language": "python",
      "name": "python3"
    },
    "language_info": {
      "codemirror_mode": {
        "name": "ipython",
        "version": 3
      },
      "file_extension": ".py",
      "mimetype": "text/x-python",
      "name": "python",
      "nbconvert_exporter": "python",
      "pygments_lexer": "ipython3",
      "version": "3.5.2"
    },
    "toc": {
      "colors": {
        "hover_highlight": "#DAA520",
        "running_highlight": "#FF0000",
        "selected_highlight": "#FFD700"
      },
      "moveMenuLeft": true,
      "nav_menu": {
        "height": "58px",
        "width": "252px"
      },
      "navigate_menu": true,
      "number_sections": true,
      "sideBar": true,
      "threshold": 4,
      "toc_cell": false,
      "toc_section_display": "block",
      "toc_window_display": false,
      "widenNotebook": false
    },
    "colab": {
      "name": "Lab 1.2-life_expectancy.ipynb",
      "provenance": [],
      "collapsed_sections": [
        "EbskizSFNZuS",
        "QC-07iUxNZue",
        "6FJs_0ufNZun",
        "66NvFjtzNZvE",
        "K4uQ-vVeNZvu"
      ]
    }
  },
  "cells": [
    {
      "cell_type": "markdown",
      "metadata": {
        "id": "EbskizSFNZuS"
      },
      "source": [
        "## Lab Introduction\n",
        "Advances in medicine, an increase in healthcare facilities, and improved standards of care have all contributed to an increased overall life expectancy over the last few decades. Although this might seem like great achievement for humanity, it has also led to the abandonment of more elderly people into senior-care and assisted living communities. The morality, benefits, and disadvantages of leaving one's parents in such facilities are still debatable; however, the fact that this practice has increased the financial burden on both the private-sector and government is not.\n",
        "\n",
        "In this lab, you will be using the subset a life expectancy dataset, provided courtesy of the Center for Disease Control and Prevention's National Center for Health Statistics page. The page hosts many open datasets on topics ranging from injuries, poverty, women's health, education, health insurance, and of course infectious diseases, and much more. But the one you'll be using is their \"Life expectancy at birth, at age 65, and at age 75, by sex, race, and origin\" data set, which has statistics dating back from the 1900's to current, taken within the United States. We have included a copy of the dataset as **[life_expectancy.csv](https://drive.google.com/file/d/15FD3Ix2kgYT4rK5dnUassjA4aeKN7mVp/view?usp=sharing)**. The dataset only lists the life expectancy of whites and blacks, because throughout most of the collection period, those were the dominant two races that actively had their statistics recorded within the U.S.\n",
        "\n",
        "Using linear regression, you will extrapolate how long people will live in the future. The private sector and governments mirror these calculations when computing social security payouts, taxes, infrastructure, and more. "
      ]
    },
    {
      "cell_type": "code",
      "metadata": {
        "id": "sLpcnJrbNZuT"
      },
      "source": [
        "import pandas as pd\n",
        "import numpy as np\n",
        "import matplotlib\n",
        "import matplotlib.pyplot as plt\n",
        "\n",
        "matplotlib.style.use('ggplot') # Look Pretty"
      ],
      "execution_count": null,
      "outputs": []
    },
    {
      "cell_type": "markdown",
      "metadata": {
        "id": "QC-07iUxNZue"
      },
      "source": [
        "### A Convenience Function"
      ]
    },
    {
      "cell_type": "markdown",
      "metadata": {
        "id": "iIqIxTADNZug"
      },
      "source": [
        "This convenience method will take care of plotting your test observations, comparing them to the regression line, and displaying the R2 coefficient"
      ]
    },
    {
      "cell_type": "code",
      "metadata": {
        "id": "x_o6tM4dNZuh"
      },
      "source": [
        "def drawLine(model, X_test, y_test, title):\n",
        "    fig = plt.figure()\n",
        "    ax = fig.add_subplot(111)\n",
        "    ax.scatter(X_test, y_test, c='g', marker='o')\n",
        "    ax.plot(X_test, model.predict(X_test), color='orange', linewidth=1, alpha=0.7)\n",
        "\n",
        "    print(\"Est 2014 \" + title + \" Life Expectancy: \", model.predict([[2014]])[0])\n",
        "    print(\"Est 2030 \" + title + \" Life Expectancy: \", model.predict([[2030]])[0])\n",
        "    print(\"Est 2045 \" + title + \" Life Expectancy: \", model.predict([[2045]])[0])\n",
        "\n",
        "    score = model.score(X_test, y_test)\n",
        "    title += \" R2: \" + str(score)\n",
        "    ax.set_title(title)\n",
        "\n",
        "    plt.show()"
      ],
      "execution_count": null,
      "outputs": []
    },
    {
      "cell_type": "markdown",
      "metadata": {
        "collapsed": true,
        "id": "6FJs_0ufNZun"
      },
      "source": [
        "## 1. Data Preparation"
      ]
    },
    {
      "cell_type": "markdown",
      "metadata": {
        "collapsed": true,
        "id": "6_8izaLMNZup"
      },
      "source": [
        "Load up the data here into a variable called `X`. As usual, do a .describe and a print of your dataset and compare it to the dataset loaded in a text file or in a spread sheet application:"
      ]
    },
    {
      "cell_type": "code",
      "metadata": {
        "id": "bmT8Od0BNZur"
      },
      "source": [
        "# .. your code here .."
      ],
      "execution_count": null,
      "outputs": []
    },
    {
      "cell_type": "markdown",
      "metadata": {
        "id": "DvScm573NZux"
      },
      "source": [
        "\n",
        "Create your linear regression model here and store it in a variable called `model`. Don't actually train or do anything else with it yet:"
      ]
    },
    {
      "cell_type": "code",
      "metadata": {
        "id": "fjM2b1ZqNZuz"
      },
      "source": [
        "# .. your code here .."
      ],
      "execution_count": null,
      "outputs": []
    },
    {
      "cell_type": "markdown",
      "metadata": {
        "collapsed": false,
        "id": "JunfsyPXNZu5"
      },
      "source": [
        "\n",
        "Slice out your data manually (e.g. don't use `train_test_split`, but actually do the indexing yourself. Set `X_train` to be year values LESS than 1986, and `y_train` to be corresponding 'WhiteMale' age values. You might also want to read the note about slicing on the bottom of this document before proceeding:"
      ]
    },
    {
      "cell_type": "code",
      "metadata": {
        "id": "eOnsQY5gNZu7"
      },
      "source": [
        "# .. your code here .."
      ],
      "execution_count": null,
      "outputs": []
    },
    {
      "cell_type": "markdown",
      "metadata": {
        "id": "66NvFjtzNZvE"
      },
      "source": [
        "## 2. Training the Model\n",
        "Train your model then pass it into `drawLine` with your training set and labels. "
      ]
    },
    {
      "cell_type": "code",
      "metadata": {
        "id": "nig1mhj0NZvF"
      },
      "source": [
        "# .. your code here .."
      ],
      "execution_count": null,
      "outputs": []
    },
    {
      "cell_type": "markdown",
      "metadata": {
        "id": "MBTZzIRsQCRj"
      },
      "source": [
        "## 3. Model Evaluation\n",
        "You can title the model 'WhiteMale'. `drawLine` will output to the console a 2014 extrapolation / approximation for what it believes the WhiteMale's life expectancy in the U.S. will be... given the pre-1986 data you trained it with. It'll also produce a 2030 and 2045 extrapolation:"
      ]
    },
    {
      "cell_type": "code",
      "metadata": {
        "id": "LFoZM7_NQKqw"
      },
      "source": [
        "# .. your code here .."
      ],
      "execution_count": null,
      "outputs": []
    },
    {
      "cell_type": "markdown",
      "metadata": {
        "id": "JedI0_4mNZvN"
      },
      "source": [
        "Print the actual 2014 'WhiteMale' life expectancy from your loaded dataset"
      ]
    },
    {
      "cell_type": "code",
      "metadata": {
        "id": "taMzWaXENZvO"
      },
      "source": [
        "# .. your code here .."
      ],
      "execution_count": null,
      "outputs": []
    },
    {
      "cell_type": "markdown",
      "metadata": {
        "id": "RaU2b5J8NZvU"
      },
      "source": [
        "Repeat the process, but instead of for WhiteMale, this time select BlackFemale. Create a slice for BlackFemales, fit your model, and then call `drawLine`. Lastly, print out the actual 2014 BlackFemale life expectancy:"
      ]
    },
    {
      "cell_type": "code",
      "metadata": {
        "id": "WzCxoeVENZvV"
      },
      "source": [
        "# .. your code here .. "
      ],
      "execution_count": null,
      "outputs": []
    },
    {
      "cell_type": "markdown",
      "metadata": {
        "id": "nmOKKBrmNZvb"
      },
      "source": [
        "Lastly, print out a correlation matrix for your entire dataset, and display a visualization of the correlation matrix, just as we described in the visualization section of the course:"
      ]
    },
    {
      "cell_type": "code",
      "metadata": {
        "id": "VHq2oDlGNZvd"
      },
      "source": [
        "# .. your code here .."
      ],
      "execution_count": null,
      "outputs": []
    },
    {
      "cell_type": "code",
      "metadata": {
        "id": "QotdWdR8lnRR"
      },
      "source": [
        "plt.show()"
      ],
      "execution_count": null,
      "outputs": []
    },
    {
      "cell_type": "markdown",
      "metadata": {
        "collapsed": false,
        "id": "K4uQ-vVeNZvu"
      },
      "source": [
        "## Notes On Fitting, Scoring, and Predicting:"
      ]
    },
    {
      "cell_type": "markdown",
      "metadata": {
        "collapsed": true,
        "id": "BEBtKp4jNZvw"
      },
      "source": [
        "Here's a hint to help you complete the lab without pulling your hair out! When you use `.fit()`, `.score()`, and `.predict()` on your model, SciKit-Learn expects your training data to be in spreadsheet (2D Array-Like) form. This means you can't simply pass in a 1D Array (slice) and get away with it.\n",
        "\n",
        "To properly prep your data, you have to pass in a 2D Numpy Array, or a dataframe. But what happens if you really only want to pass in a single feature?\n",
        "\n",
        "If you slice your dataframe using `df[['ColumnName']]` syntax, the result that comes back is actually a _dataframe_. Go ahead and do a `type()` on it to check it out. Since it's already a dataframe, you're good -- no further changes needed.\n",
        "\n",
        "But if you slice your dataframe using the `df.ColumnName` syntax, OR if you call `df['ColumnName']`, the result that comes back is actually a series (1D Array)! This will cause SKLearn to bug out. So if you are slicing using either of those two techniques, before sending your training or testing data to `.fit` / `.score`, do `any_column = my_column.reshape(-1,1)`. \n",
        "\n",
        "This will convert your 1D array of `[n_samples]`, to a 2D array shaped like `[n_samples, 1]`. A single feature, with many samples.\n",
        "\n",
        "If you did something like `my_column = [my_column]`, that would produce an array in the shape of `[1, n_samples]`, which is incorrect because SKLearn expects your data to be arranged as `[n_samples, n_features]`. Keep in mind, all of the above only relates to your `X` or input data, and does not apply to your `y` or labels."
      ]
    }
  ]
}