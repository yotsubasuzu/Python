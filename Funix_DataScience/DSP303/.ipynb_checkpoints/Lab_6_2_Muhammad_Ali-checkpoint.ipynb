{
  "nbformat": 4,
  "nbformat_minor": 0,
  "metadata": {
    "anaconda-cloud": {},
    "kernelspec": {
      "display_name": "Python [default]",
      "language": "python",
      "name": "python3"
    },
    "language_info": {
      "codemirror_mode": {
        "name": "ipython",
        "version": 3
      },
      "file_extension": ".py",
      "mimetype": "text/x-python",
      "name": "python",
      "nbconvert_exporter": "python",
      "pygments_lexer": "ipython3",
      "version": "3.5.2"
    },
    "toc": {
      "colors": {
        "hover_highlight": "#DAA520",
        "running_highlight": "#FF0000",
        "selected_highlight": "#FFD700"
      },
      "moveMenuLeft": true,
      "nav_menu": {
        "height": "58px",
        "width": "252px"
      },
      "navigate_menu": true,
      "number_sections": true,
      "sideBar": true,
      "threshold": 4,
      "toc_cell": false,
      "toc_section_display": "block",
      "toc_window_display": false,
      "widenNotebook": false
    },
    "colab": {
      "name": "Lab 6.2-Muhammad Ali.ipynb",
      "provenance": [],
      "collapsed_sections": [
        "JKeHrzNmkopX",
        "2H8GDqSFnPu6",
        "RZev_qCYnylw"
      ]
    }
  },
  "cells": [
    {
      "cell_type": "markdown",
      "metadata": {
        "id": "XV-HVmVVkopV"
      },
      "source": [
        "## Lab Introduction\n",
        "Growing up, everyone has a hero. For many people, that hero was Muhammad Ali. He taught people it was okay to be proud of who they were, at a time when others would not accept that. He showed people how to stand up for their beliefs in the face of oppression and tyranny. He made people value themselves, and encouraged them care for those around them. He showed us what bravery truly meant, how to be a heck of a boxer, and so much more. Every single person who met Muhammad Ali, either in the ring or outside of it, had a motivating story to share about their encounter.\n",
        "\n",
        "On June 3, 2016, Muhammad Ali passed away at the age of 74 due to septic shock. Thirty years earlier, he was diagnosed with Parkinson's syndrome, a neurodegenerative condition that doctors attributed to his boxing-related brain injuries.\n",
        "\n",
        "Parkinson's disease itself is a long-term disorder of the nervous system that affects many aspects of a person's mobility over time. It's characterized by shaking, slowed movement, rigidity, dementia, and depression. In 2013, some 53 million people were diagnosed with it, mostly men. Other famous personalities affected by it include actor Michael J. Fox, and olympic cyclist Davis Phinney.\n",
        "\n",
        "In this lab, you will be applying SVC to the [Parkinson's Data Set](https://archive.ics.uci.edu/ml/datasets/Parkinsons), provided courtesy of UCI's Machine Learning Repository. The dataset was created at the University of Oxford, in collaboration with 10 medical centers around the US, along with Intel who developed the device used to record the primary features of the dataset: speech signals. Your goals for this lab are first to see if it's possible to differentiate between people who have Parkinson's and who don't using SciKit-Learn's support vector classifier, and then to take a first-stab at a naive way of fine-tuning your parameters in an attempt to maximize the accuracy of your testing set.\n",
        "\n",
        "\"I've never really resented hard work because I've always liked it. Up every morning for roadwork. Going to the gymnasium every day at 12 o'clock. I never change my pattern.\""
      ]
    },
    {
      "cell_type": "markdown",
      "metadata": {
        "id": "JKeHrzNmkopX"
      },
      "source": [
        "## Cycle 1"
      ]
    },
    {
      "cell_type": "markdown",
      "metadata": {
        "id": "FEbWvbYKkopZ"
      },
      "source": [
        "Download the dataset from the link above, then load up the **parkinsons.data** into a variable **X**, being sure to drop the name column.\n"
      ]
    },
    {
      "cell_type": "code",
      "metadata": {
        "id": "9G6Oi5d4kopa"
      },
      "source": [
        "# .. your code here .."
      ],
      "execution_count": null,
      "outputs": []
    },
    {
      "cell_type": "markdown",
      "metadata": {
        "id": "-Ixw-1DImf_K"
      },
      "source": [
        "Splice out the status column into a variable **y** and delete it from **X**."
      ]
    },
    {
      "cell_type": "code",
      "metadata": {
        "id": "nOWlWytYm0VV"
      },
      "source": [
        "# .. your code here .."
      ],
      "execution_count": null,
      "outputs": []
    },
    {
      "cell_type": "markdown",
      "metadata": {
        "id": "Ag3LaZ_fm2bX"
      },
      "source": [
        "Perform a train/test split. **30**% test group size, with a random_state equal to **7**."
      ]
    },
    {
      "cell_type": "code",
      "metadata": {
        "id": "HJVbkRsvnD3K"
      },
      "source": [
        "# .. your code here .."
      ],
      "execution_count": null,
      "outputs": []
    },
    {
      "cell_type": "markdown",
      "metadata": {
        "id": "z-gCEYNFnK3Q"
      },
      "source": [
        "Create a SVC classifier. Don't specify any parameters, just leave everything as default. Fit it against your training data and then score your testing data with accuracy and F1 score."
      ]
    },
    {
      "cell_type": "code",
      "metadata": {
        "id": "GPuI1e4enNjd"
      },
      "source": [
        "# .. your code here .."
      ],
      "execution_count": null,
      "outputs": []
    },
    {
      "cell_type": "markdown",
      "metadata": {
        "id": "2H8GDqSFnPu6"
      },
      "source": [
        "## Cycle 2\n"
      ]
    },
    {
      "cell_type": "markdown",
      "metadata": {
        "id": "TrUv89B0nV9U"
      },
      "source": [
        "That accuracy was just too low to be useful. We need to get it up. One way you could go about doing that would be to manually try a bunch of combinations of **C, and gamma values for your rbf kernel**. But that could literally take forever. Also, you might unknowingly skip a pair of values that would have resulted in a very good accuracy.\n",
        "\n",
        "Instead, lets get the computer to do what computers do best. Program a naive, best-parameter search by creating nested for-loops. The outer for-loop should iterate a variable **C from 0.05 to 2, using 0.05 unit increments**. The inner for-loop should increment a variable **gamma from 0.001 to 0.1, using 0.001 unit increments**. As you know, Python ranges won't allow for float intervals, so you'll have to do some research on NumPy ARanges, if you don't already know how to use them.\n",
        "\n",
        "Since the goal is to find the parameters that result in the model having the best accuracy score, you'll need a **best_score = 0 variable that you initialize outside of the for-loops.** Inside the inner for-loop, create an SVC model and pass in the C and gamma parameters its class constructor. Train and score the model appropriately. If the current best_score is less than the model's score, update the best_score being sure to print it out, along with the C and gamma values that resulted in it.\n",
        "\n",
        "After running your lab again, what are the highest accuracy and F1 score you are able to get?"
      ]
    },
    {
      "cell_type": "code",
      "metadata": {
        "id": "efWGEUPNnO0E"
      },
      "source": [
        "# .. your code here .."
      ],
      "execution_count": null,
      "outputs": []
    },
    {
      "cell_type": "markdown",
      "metadata": {
        "id": "RZev_qCYnylw"
      },
      "source": [
        "## Cycle 3"
      ]
    },
    {
      "cell_type": "markdown",
      "metadata": {
        "id": "kqM4tWC4n_Gk"
      },
      "source": [
        "Wait a second. Pull open the dataset's label file from: https://archive.ics.uci.edu/ml/datasets/Parkinsons\n",
        "\n",
        "Look at the units on those columns: **Hz, %, Abs, dB, etc.** What happened to transforming your data? With all of those units interacting with one another, some pre-processing is surely in order.\n",
        "Right after you preform the train/test split but before you train your model, inject SciKit-Learn's pre-processing code. Unless you have a good idea which one is going to work best, you're going to have to try the various pre-processors one at a time, checking to see if they improve your predictive accuracy.\n",
        "\n",
        "Experiment with ***Normalizer(), MaxAbsScaler(), MinMaxScaler(), KernelCenterer(), and StandardScaler().***\n",
        "\n",
        "After trying all of these scalers, what are the new highest accuracy and F1 score you're able to achieve?"
      ]
    },
    {
      "cell_type": "code",
      "metadata": {
        "id": "i828Tr31n-Nu"
      },
      "source": [
        ""
      ],
      "execution_count": null,
      "outputs": []
    }
  ]
}