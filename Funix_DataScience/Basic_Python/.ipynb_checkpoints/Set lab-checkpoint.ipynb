{
 "cells": [
  {
   "cell_type": "markdown",
   "metadata": {},
   "source": [
    "### 9.1\n",
    "Phòng làm việc của trưởng phòng Yoon có 10 bạn nam. \\\n",
    "Yoon muốn tính chiều cao trung bình của các số đo chiều cao khác nhau của các bạn trong phòng của mình.\\\n",
    "Bạn hãy viết chương trình giúp Yoon xác định chiều cao trung bình này biết số đo của 10 bạn được nhập từ bàn phím trên 1 dòng."
   ]
  },
  {
   "cell_type": "code",
   "execution_count": 27,
   "metadata": {},
   "outputs": [
    {
     "name": "stdout",
     "output_type": "stream",
     "text": [
      "Nhap chieu cao:\n"
     ]
    },
    {
     "name": "stdin",
     "output_type": "stream",
     "text": [
      " 1.74 1.74 1.80 1.67 1.59 1.59 1.80 1.73 1.73 1.80\n"
     ]
    },
    {
     "name": "stdout",
     "output_type": "stream",
     "text": [
      "1.71\n"
     ]
    }
   ],
   "source": [
    "print('Nhap chieu cao:')\n",
    "s = input()\n",
    "se = set(s.split())\n",
    "s = 0.0\n",
    "for i in se:\n",
    "    s += float(i)\n",
    "print(round((s / len(list(se))),2))"
   ]
  },
  {
   "cell_type": "markdown",
   "metadata": {},
   "source": [
    "### 9.2\n",
    "Đề bài: Mỗi tháng, giám đốc Yoon đi công tác qua 3-10 quốc gia, có những quốc gia Yoon bay qua bay lại nhiều lần.\\\n",
    "Anh ấy muốn đếm tổng số các quốc gia khác nhau mà anh ấy đã đi qua thông qua thông tin trên hộ chiếu.\\\n",
    "Áp dụng hàm set.add() để giúp Yoon thống kê số quốc gia mà anh ấy đã đi qua."
   ]
  },
  {
   "cell_type": "code",
   "execution_count": 54,
   "metadata": {},
   "outputs": [
    {
     "name": "stdin",
     "output_type": "stream",
     "text": [
      "Nhap cac nuoc da di qua: France France Vietnam Germany Germany Italy\n"
     ]
    },
    {
     "name": "stdout",
     "output_type": "stream",
     "text": [
      "4\n"
     ]
    }
   ],
   "source": [
    "se = set()\n",
    "n = input('Nhap cac nuoc da di qua:')\n",
    "for i in n.split():\n",
    "    se.add(i)\n",
    "print(len(list(se)))"
   ]
  },
  {
   "cell_type": "markdown",
   "metadata": {},
   "source": [
    "### 9.3\n",
    "Đề bài: Cho một dãy số gồm các số tự nhiên và một dòng các lệnh remove cần được thực thi.\\\n",
    "Hãy đưa dãy số tự nhiên này vào một set s, thực thi các lệnh remove ở dòng lệnh remove và in ra tổng các phần tử còn lại trong set s.\\\n",
    "Nếu giá trị cần remove không có trong set s, bỏ qua giá trị ấy."
   ]
  },
  {
   "cell_type": "code",
   "execution_count": 26,
   "metadata": {},
   "outputs": [
    {
     "name": "stdin",
     "output_type": "stream",
     "text": [
      "Day so tu nhien: 10 7 8 9 12 13 15 14\n",
      "Dong cac lenh remove: remove 10 remove 7 remove 16 remove 8 remove 12\n"
     ]
    },
    {
     "name": "stdout",
     "output_type": "stream",
     "text": [
      "Tong: 51\n"
     ]
    }
   ],
   "source": [
    "n = input('Day so tu nhien:')\n",
    "se = set(n.split())\n",
    "r = input('Dong cac lenh remove:')\n",
    "for i in r.split()[1::2]:\n",
    "    if i in se:\n",
    "        se.remove(i)\n",
    "s = 0\n",
    "for i in se:\n",
    "    s += int(i)\n",
    "print('Tong:', s)"
   ]
  }
 ],
 "metadata": {
  "kernelspec": {
   "display_name": "Python 3",
   "language": "python",
   "name": "python3"
  },
  "language_info": {
   "codemirror_mode": {
    "name": "ipython",
    "version": 3
   },
   "file_extension": ".py",
   "mimetype": "text/x-python",
   "name": "python",
   "nbconvert_exporter": "python",
   "pygments_lexer": "ipython3",
   "version": "3.8.5"
  }
 },
 "nbformat": 4,
 "nbformat_minor": 4
}
