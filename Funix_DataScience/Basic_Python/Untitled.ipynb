{
 "cells": [
  {
   "cell_type": "code",
   "execution_count": 8,
   "metadata": {},
   "outputs": [
    {
     "name": "stdin",
     "output_type": "stream",
     "text": [
      " 11\n",
      " 22\n",
      " 33\n",
      " 44\n",
      " 55\n",
      " 6\n",
      " 6\n",
      " 7\n",
      " 8\n",
      " 2\n",
      " 3\n",
      " 5\n"
     ]
    },
    {
     "name": "stdout",
     "output_type": "stream",
     "text": [
      "223344556678235\n"
     ]
    }
   ],
   "source": [
    "#Initial list\n",
    "res = []\n",
    "\n",
    "# Input lengths\n",
    "lengths = int(input())\n",
    "\n",
    "# Add element\n",
    "for i in range(lengths):\n",
    "    # Input elements\n",
    "    n = input()\n",
    "    res.append(n)\n",
    "s = ''\n",
    "for i in res:\n",
    "    s += i\n",
    "    \n",
    "print(s)"
   ]
  },
  {
   "cell_type": "code",
   "execution_count": 16,
   "metadata": {},
   "outputs": [
    {
     "name": "stdin",
     "output_type": "stream",
     "text": [
      " alsdgj\n"
     ]
    },
    {
     "name": "stdout",
     "output_type": "stream",
     "text": [
      "alsdgjing\n"
     ]
    }
   ],
   "source": [
    "s = input()\n",
    "\n",
    "def f(s):\n",
    "    if len(s) > 3:\n",
    "        if not s.endswith('ing'):\n",
    "            print(s + 'ing')\n",
    "        else:\n",
    "            print(s + 'ly')\n",
    "    else:\n",
    "        print(s)\n",
    "\n",
    "f(s)"
   ]
  },
  {
   "cell_type": "code",
   "execution_count": 17,
   "metadata": {},
   "outputs": [
    {
     "name": "stdin",
     "output_type": "stream",
     "text": [
      " 25\n"
     ]
    },
    {
     "data": {
      "text/plain": [
       "6"
      ]
     },
     "execution_count": 17,
     "metadata": {},
     "output_type": "execute_result"
    }
   ],
   "source": [
    "n = int(input())\n",
    "\n",
    "def sumOfAll(n):\n",
    "    s = 0\n",
    "    for i in range(1, int(n/2)+1):\n",
    "        if n % i == 0:\n",
    "            s += i\n",
    "    return(s)\n",
    "\n",
    "sumOfAll(n)"
   ]
  },
  {
   "cell_type": "code",
   "execution_count": 19,
   "metadata": {},
   "outputs": [
    {
     "name": "stdin",
     "output_type": "stream",
     "text": [
      " 55\n"
     ]
    },
    {
     "data": {
      "text/plain": [
       "False"
      ]
     },
     "execution_count": 19,
     "metadata": {},
     "output_type": "execute_result"
    }
   ],
   "source": [
    "n = int(input())\n",
    "\n",
    "def is_abundant(n):\n",
    "    s = 0\n",
    "    for i in range(1,int(n/2)+1):\n",
    "        if n % i == 0:\n",
    "            s += i\n",
    "    return (n < s)\n",
    "\n",
    "is_abundant(n)"
   ]
  },
  {
   "cell_type": "code",
   "execution_count": null,
   "metadata": {},
   "outputs": [],
   "source": []
  }
 ],
 "metadata": {
  "kernelspec": {
   "display_name": "Python 3",
   "language": "python",
   "name": "python3"
  },
  "language_info": {
   "codemirror_mode": {
    "name": "ipython",
    "version": 3
   },
   "file_extension": ".py",
   "mimetype": "text/x-python",
   "name": "python",
   "nbconvert_exporter": "python",
   "pygments_lexer": "ipython3",
   "version": "3.8.5"
  }
 },
 "nbformat": 4,
 "nbformat_minor": 4
}
