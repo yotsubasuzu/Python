{
 "cells": [
  {
   "cell_type": "markdown",
   "metadata": {},
   "source": [
    "Hãy viết 1 chương trình “tamgiac.py” thực hiện các yêu cầu sau:\n",
    "\n",
    "input: Tọa độ của 3 điểm A, B, C ở hệ trục tọa độ Oxy theo format ở dạng list như sau: \n",
    "\n",
    "[Ax, Ay, Bx, By, Cx, Cy] (ví dụ: [1, 1, 2, 2, 3, 1])"
   ]
  },
  {
   "cell_type": "code",
   "execution_count": 1,
   "metadata": {},
   "outputs": [],
   "source": [
    "import math\n",
    "from sympy import symbols, Eq, solve #install sympy library https://github.com/sympy/sympy/releases"
   ]
  },
  {
   "cell_type": "code",
   "execution_count": 42,
   "metadata": {},
   "outputs": [
    {
     "name": "stdin",
     "output_type": "stream",
     "text": [
      " 1\n",
      " 1\n",
      " 1\n",
      " 4\n",
      " 5\n",
      " 1\n"
     ]
    }
   ],
   "source": [
    "li = []\n",
    "for i in range(6):\n",
    "    li.append(int(input()))"
   ]
  },
  {
   "cell_type": "markdown",
   "metadata": {},
   "source": [
    "a. Viết hàm kiemtra_tamgiac(input) kiểm tra xem 3 điểm A, B, C có đủ điều kiện hợp thành tam giác ABC hay không.\n",
    "\n",
    "- Nếu đủ điều kiện, trả về “True”.\n",
    "\n",
    "- Nếu không đủ điều kiện, trả về “False”.\n",
    "\n",
    "Note: 3 điểm A, B, C hợp thành một tam giác trong hệ trục tọa độ Oxy nếu 3 điểm A, B, C không thẳng hang."
   ]
  },
  {
   "cell_type": "code",
   "execution_count": 43,
   "metadata": {},
   "outputs": [],
   "source": [
    "def kiemtra_tamgiac(li):\n",
    "    AB = math.sqrt((li[2]-li[0])**2 + (li[3]-li[1])**2)\n",
    "    BC = math.sqrt((li[4]-li[2])**2 + (li[5]-li[3])**2)\n",
    "    CA = math.sqrt((li[0]-li[4])**2 + (li[1]-li[5])**2)\n",
    "    if AB + BC > CA and BC + CA > AB and CA + AB > BC:\n",
    "        return True\n",
    "    return False"
   ]
  },
  {
   "cell_type": "code",
   "execution_count": 5,
   "metadata": {},
   "outputs": [
    {
     "data": {
      "text/plain": [
       "True"
      ]
     },
     "execution_count": 5,
     "metadata": {},
     "output_type": "execute_result"
    }
   ],
   "source": [
    "kiemtra_tamgiac(li)"
   ]
  },
  {
   "cell_type": "markdown",
   "metadata": {},
   "source": [
    "b. Viết hàm goccanh_tamgiac(input) tính toán các cạnh và góc của tam giác ABC:\n",
    "\n",
    "- Tính toán các cạnh và số đo các góc của tam giác ABC, kết quả trả về là một list với độ dài các cạnh theo thứ tự [AB, BC, CA, góc A, góc B, góc C].\n",
    "\n",
    "- Kết quả các cạnh và góc làm tròn kết quả đến chữ số thập phân thứ 2. "
   ]
  },
  {
   "cell_type": "code",
   "execution_count": 44,
   "metadata": {},
   "outputs": [],
   "source": [
    "import math\n",
    "def goccanh_tamgiac(li):\n",
    "    li_1 = []\n",
    "    ABx,ABy = li[2]-li[0],li[3]-li[1]\n",
    "    BCx,BCy = li[4]-li[2],li[5]-li[3]\n",
    "    CAx,CAy = li[0]-li[4],li[1]-li[5]\n",
    "    \n",
    "    AB = math.sqrt(ABx**2 + ABy**2) \n",
    "    li_1.append(round(AB,2))\n",
    "    BC = math.sqrt(BCx**2 + BCy**2)\n",
    "    li_1.append(round(BC,2))\n",
    "    CA = math.sqrt(CAx**2 + CAy**2)\n",
    "    li_1.append(round(CA,2))\n",
    "    a = math.degrees(math.acos((ABx*CAx*(-1) + ABy*CAy*(-1)) / (AB*CA)))\n",
    "    li_1.append(round(a,2))\n",
    "    b = math.degrees(math.acos((BCx*ABx*(-1) + BCy*ABy*(-1)) / (BC*AB)))\n",
    "    li_1.append(round(b,2))\n",
    "    c = math.degrees(math.acos((CAx*BCx*(-1) + CAy*BCy*(-1)) / (CA*BC)))\n",
    "    li_1.append(round(c,2))\n",
    "    return li_1"
   ]
  },
  {
   "cell_type": "code",
   "execution_count": 45,
   "metadata": {},
   "outputs": [
    {
     "data": {
      "text/plain": [
       "[3.0, 5.0, 4.0, 90.0, 53.13, 36.87]"
      ]
     },
     "execution_count": 45,
     "metadata": {},
     "output_type": "execute_result"
    }
   ],
   "source": [
    "goccanh_tamgiac(li)"
   ]
  },
  {
   "cell_type": "markdown",
   "metadata": {},
   "source": [
    "c. Viết hàm xet_tamgiac(input) xét xem tam giác ABC thuộc loại tam giác nào:\n",
    "\n",
    "- Xét xem tam giác ABC là tam giác vuông, tam giác nhọn hay tam giác tù, tại đỉnh nào.\n",
    "\n",
    "- Xét xem tam giác ABC là tam giác bình thường, tam giác cân hay tam giác đều, tại đỉnh nào.\n",
    "\n",
    " Trả về kết quả:\n",
    "\n",
    "o Nếu là tam giác vuông cân thì trả về kết quả: “ABC la tam giac vuong can tai dinh A(B/C)”.\n",
    "\n",
    "o Nếu là tam giác đều thì trả về kết quả: “ABC là tam giac deu”.\n",
    "\n",
    "o Nếu là tam giác tù và cân thì trả về kết quả: “ABC la tam giac tu va can tai dinh A/B/C”.\n",
    "\n",
    "o Nếu là tam giác nhọn và cân thì trả về kết quả: “ABC là tam giac can tai dinh A/B/C”.\n",
    "\n",
    "o Nếu không phải là tam giác vuông cân, tam giác đều hay tam giác tù và cân, trả về kết quả: “ABC la tam giac vuong(nhon/tu) tai dinh A(B/C) va la tam giac can(vuong/binh thuong)”."
   ]
  },
  {
   "cell_type": "code",
   "execution_count": 46,
   "metadata": {},
   "outputs": [],
   "source": [
    "def xet_tamgiac(li):\n",
    "    ABx,ABy = li[2]-li[0],li[3]-li[1]\n",
    "    BCx,BCy = li[4]-li[2],li[5]-li[3]\n",
    "    CAx,CAy = li[0]-li[4],li[1]-li[5]\n",
    "    \n",
    "    AB = round(math.sqrt(ABx**2 + ABy**2),2)\n",
    "    BC = round(math.sqrt(BCx**2 + BCy**2),2)\n",
    "    CA = round(math.sqrt(CAx**2 + CAy**2),2)\n",
    "    a = round(math.degrees(math.acos((ABx*CAx*(-1) + ABy*CAy*(-1)) / (AB*CA))),2)\n",
    "    b = round(math.degrees(math.acos((BCx*ABx*(-1) + BCy*ABy*(-1)) / (BC*AB))),2)\n",
    "    c = round(math.degrees(math.acos((CAx*BCx*(-1) + CAy*BCy*(-1)) / (CA*BC))),2)\n",
    "    \n",
    "    if a == 90.0 or b == 90.0 or c == 90.0:\n",
    "        if a == 90.0 and AB != CA:\n",
    "            print('ABC la tam giac vuong tai dinh A va la tam giac binh thuong')\n",
    "        elif b == 90.0 and AB != BC:\n",
    "            print('ABC la tam giac vuong tai dinh B va la tam giac binh thuong')\n",
    "        elif c == 90.0 and CA != BC:\n",
    "            print('ABC la tam giac vuong tai dinh C va la tam giac binh thuong')\n",
    "        elif a == 90.0 and AB == CA:\n",
    "            print('ABC la tam giac vuong can tai dinh A')\n",
    "        elif b == 90.0 and AB == BC:\n",
    "            print('ABC la tam giac vuong can tai dinh B')\n",
    "        elif c == 90.0 and BC == CA:\n",
    "            print('ABC la tam giac vuong can tai dinh C')\n",
    "    elif a < 90 and b < 90 and c < 90:\n",
    "        if AB != BC and AB != CA:\n",
    "            print('ABC la tam giac nhon va la tam giac binh thuong')\n",
    "        elif AB == BC and AB == CA:\n",
    "            print('ABC la tam giac deu')\n",
    "        elif AB == BC or AB == CA or BC == CA:\n",
    "            if AB == BC:\n",
    "                print('ABC la tam giac nhon va la tam giac can tai dinh B')\n",
    "            elif BC == CA:\n",
    "                print('ABC la tam giac nhon va la tam giac can tai dinh C')\n",
    "            elif AB == CA:\n",
    "                print('ABC la tam giac nhon va la tam giac can tai dinh A')\n",
    "    elif a > 90 or b > 90 or c > 90:\n",
    "        if a > 90 and AB != CA:\n",
    "            print('ABC la tam giac tu tai dinh A va la tam giac binh thuong')\n",
    "        elif b > 90 and BC != AB:\n",
    "            print('ABC la tam giac tu tai dinh B va la tam giac binh thuong')\n",
    "        elif c > 90 and CA != BC:\n",
    "            print('ABC la tam giac tu tai dinh C va la tam giac binh thuong')\n",
    "        elif a > 90 and AB == CA:\n",
    "            print('ABC la tam giac tu va can tai dinh A')\n",
    "        elif b > 90 and AB == BC:\n",
    "            print('ABC la tam giac tu va can tai dinh B')\n",
    "        elif c > 90 and BC == CA:\n",
    "            print('ABC la tam giac tu va can tai dinh C')"
   ]
  },
  {
   "cell_type": "code",
   "execution_count": 47,
   "metadata": {},
   "outputs": [
    {
     "name": "stdout",
     "output_type": "stream",
     "text": [
      "ABC la tam giac vuong tai dinh A va la tam giac binh thuong\n"
     ]
    }
   ],
   "source": [
    "xet_tamgiac(li)"
   ]
  },
  {
   "cell_type": "markdown",
   "metadata": {},
   "source": [
    "d. Viết hàm dientich_tamgiac(input) để tính diện tích của tam giác ABC.\n",
    "\n",
    "- Trả về diện tích của tam giác ABC, kết quả được làm tròn đến chữ số thập phân thứ 2."
   ]
  },
  {
   "cell_type": "code",
   "execution_count": 48,
   "metadata": {},
   "outputs": [],
   "source": [
    "def dientich_tamgiac(li):\n",
    "    ABx,ABy = li[2]-li[0],li[3]-li[1]\n",
    "    BCx,BCy = li[4]-li[2],li[5]-li[3]\n",
    "    CAx,CAy = li[0]-li[4],li[1]-li[5]\n",
    "    \n",
    "    AB = math.sqrt(ABx**2 + ABy**2) \n",
    "    BC = math.sqrt(BCx**2 + BCy**2)\n",
    "    CA = math.sqrt(CAx**2 + CAy**2)\n",
    "    \n",
    "    p = (AB + BC + CA) / 2\n",
    "    S = math.sqrt(p*(p-AB)*(p-BC)*(p-CA))\n",
    "    \n",
    "    return round(S,2)"
   ]
  },
  {
   "cell_type": "code",
   "execution_count": 49,
   "metadata": {},
   "outputs": [
    {
     "data": {
      "text/plain": [
       "6.0"
      ]
     },
     "execution_count": 49,
     "metadata": {},
     "output_type": "execute_result"
    }
   ],
   "source": [
    "dientich_tamgiac(li)"
   ]
  },
  {
   "cell_type": "markdown",
   "metadata": {},
   "source": [
    "e. Viết hàm duongcao_tamgiac(input) để tính độ dài của các đường cao của tam giác ABC:\n",
    "\n",
    "- Trả về độ dài 3 đường cao của tam giác ABC xuất phát từ các đỉnh A, B và C theo dạng list [dcA, dcB. dcC], kết quả được làm tròn đến chữ số thập phân thứ 2."
   ]
  },
  {
   "cell_type": "code",
   "execution_count": 50,
   "metadata": {},
   "outputs": [],
   "source": [
    "def duongcao_tamgiac(li):\n",
    "    ABx,ABy = li[2]-li[0],li[3]-li[1]\n",
    "    BCx,BCy = li[4]-li[2],li[5]-li[3]\n",
    "    CAx,CAy = li[0]-li[4],li[1]-li[5]\n",
    "    \n",
    "    AB = math.sqrt(ABx**2 + ABy**2) \n",
    "    BC = math.sqrt(BCx**2 + BCy**2)\n",
    "    CA = math.sqrt(CAx**2 + CAy**2)\n",
    "    \n",
    "    p = (AB + BC + CA) / 2\n",
    "    S = math.sqrt(p*(p-AB)*(p-BC)*(p-CA))\n",
    "    li_1 = []\n",
    "    dcA = 2 * S / BC\n",
    "    li_1.append(round(dcA,2))\n",
    "    dcB = 2 * S / CA\n",
    "    li_1.append(round(dcB,2))\n",
    "    dcC = 2 * S / AB\n",
    "    li_1.append(round(dcC,2))\n",
    "    \n",
    "    return li_1"
   ]
  },
  {
   "cell_type": "code",
   "execution_count": 51,
   "metadata": {},
   "outputs": [
    {
     "data": {
      "text/plain": [
       "[2.4, 3.0, 4.0]"
      ]
     },
     "execution_count": 51,
     "metadata": {},
     "output_type": "execute_result"
    }
   ],
   "source": [
    "duongcao_tamgiac(li)"
   ]
  },
  {
   "cell_type": "markdown",
   "metadata": {},
   "source": [
    "f. Viết hàm trungtuyen_tamgiac(input) để tính độ dài từ các đỉnh A, B, C đến trọng tâm của tam giác ABC:\n",
    "\n",
    "- Trả về độ dài từ các đỉnh A, B, C đến trọng tâm của tam giác ABC theo dạng list [ttA, ttB, ttC], kết quả được làm tròn đến chữ số thập phân thứ 2."
   ]
  },
  {
   "cell_type": "code",
   "execution_count": 52,
   "metadata": {},
   "outputs": [],
   "source": [
    "def trungtuyen_tamgiac(li):\n",
    "    ABx,ABy = li[2]-li[0],li[3]-li[1]\n",
    "    BCx,BCy = li[4]-li[2],li[5]-li[3]\n",
    "    CAx,CAy = li[0]-li[4],li[1]-li[5]\n",
    "    \n",
    "    AB = math.sqrt(ABx**2 + ABy**2) \n",
    "    BC = math.sqrt(BCx**2 + BCy**2)\n",
    "    CA = math.sqrt(CAx**2 + CAy**2)\n",
    "    \n",
    "    li_1 = []\n",
    "    ttA = ((2 * (AB**2 + CA**2) - BC**2) / 4) * 2/3\n",
    "    li_1.append(round(ttA,2))\n",
    "    ttB = ((2 * (BC**2 + AB**2) - CA**2) / 4) * 2/3\n",
    "    li_1.append(round(ttB,2))\n",
    "    ttC = ((2 * (CA**2 + BC**2) - AB**2) / 4) * 2/3\n",
    "    li_1.append(round(ttC,2))\n",
    "    \n",
    "    return li_1"
   ]
  },
  {
   "cell_type": "code",
   "execution_count": 53,
   "metadata": {},
   "outputs": [
    {
     "data": {
      "text/plain": [
       "[4.17, 8.67, 12.17]"
      ]
     },
     "execution_count": 53,
     "metadata": {},
     "output_type": "execute_result"
    }
   ],
   "source": [
    "trungtuyen_tamgiac(li)"
   ]
  },
  {
   "cell_type": "markdown",
   "metadata": {},
   "source": [
    "g. (Yêu cầu nâng cao) Viết hàm tam_tamgiac(input) trả về tọa độ của trọng tâm và trực tâm của tam giác ABC.\n",
    "\n",
    "-  Trả về tọa độ của trọng tâm và trực tâm của tam giác ABC ở dạng list theo thứ tự sau: [trongtam_x, trongtam_y, tructam_x, tructam_y]"
   ]
  },
  {
   "cell_type": "code",
   "execution_count": 54,
   "metadata": {},
   "outputs": [],
   "source": [
    "def tam_tamgiac(li):\n",
    "    li_1 = []\n",
    "    trongtam_x = (li[0] + li[2] + li[4]) / 3\n",
    "    li_1.append(round(trongtam_x,2))\n",
    "    trongtam_y = (li[1] + li[3] + li[5]) / 3\n",
    "    li_1.append(round(trongtam_y,2))\n",
    "    \n",
    "    ABx,ABy = li[2]-li[0],li[3]-li[1]\n",
    "    BCx,BCy = li[4]-li[2],li[5]-li[3]\n",
    "    \n",
    "    x, y = symbols('tructam_x, tructam_y')\n",
    "    eq1 = Eq((x-li[0])*(li[4]-li[2]) + (y-li[1])*(li[5]-li[3]), 0)\n",
    "    eq2 = Eq((x-li[4])*(li[2]-li[0]) + (y-li[5])*(li[3]-li[1]), 0)\n",
    "    sol_dict = solve((eq1, eq2), (tructam_x, tructam_y))\n",
    "    li_1.append(round(sol_dict[x],2))\n",
    "    li_1.append(round(sol_dict[y],2))\n",
    "    \n",
    "    return li_1"
   ]
  },
  {
   "cell_type": "code",
   "execution_count": 55,
   "metadata": {},
   "outputs": [
    {
     "data": {
      "text/plain": [
       "[2.33, 2.0, 1, 1]"
      ]
     },
     "execution_count": 55,
     "metadata": {},
     "output_type": "execute_result"
    }
   ],
   "source": [
    "tam_tamgiac(li)"
   ]
  },
  {
   "cell_type": "markdown",
   "metadata": {},
   "source": [
    "h. Viết hàm giaima_tamgiac(input) trả về tất cả các kết quả ở trên theo thứ tự sau:\n",
    "\n",
    "- Check 3 điểm A, B, C có tạo thành 1 tam giác hay không sử dụng hàm kiemtra_tamgiac(input):\n",
    "\n",
    " + Nếu đủ điều kiện, trả về đoạn text: “A, B, C hop thanh mot tam giac” và tiếp tục chương trình.\n",
    "\n",
    " + Nếu không đủ điều kiện, trả về đoạn text: “A, B, C khong hop thanh mot tam giac” và kết thúc chương trình.\n",
    "\n",
    "- Trả về độ dài các cạnh và góc của tam giác ABC sử dụng hàm goccanh_tamgiac(input). Kết quả trả về là các đoạn text ở format sau:\n",
    "\n",
    " + “1. So do co ban cua tam giac:”\n",
    "\n",
    " “Chieu dai canh AB: AB” (Cần thay AB ở cuối bằng độ dài của cạnh AB).\n",
    "\n",
    " “Chieu dai canh BC: BC” (Cần thay BC ở cuối độ dài của cạnh BC).\n",
    "\n",
    " “Chieu dai canh CA: CA” (Cần thay CA ở cuối độ dài của cạnh BC).\n",
    "\n",
    " “ Goc A: BAC” (Cần thay BAC ở cuối bằng độ lớn của góc A).\n",
    "\n",
    " “ Goc B: ABC” (Cần thay ABC ở cuối bằng độ lớn của góc B).\n",
    "\n",
    " “ Goc C: BCA” (Cần thay BCA ở cuối bằng độ lớn của góc C).\n",
    "\n",
    "- Trả về tính chất của tam giác ABC sử dụng hàm xet_tamgiac(input), kết quả trả về giống hệt với output của hàm.\n",
    "\n",
    "- Trả về diện tích của tam giác ABC sử dụng hàm dientich_tamgiac(input), kết quả trả về là đoạn text ở format sau:\n",
    "\n",
    " + “2. Dien tich cua tam giac ABC: SABC” (Cần thay SABC bằng diện tích của tam giác ABC).\n",
    "\n",
    "- Trả về độ dài các đường cao và khoảng cách từ 3 điểm A, B, C đến trọng tâm của tam giác sử dụng các hàm duongcao_tamgiac(input) và trungtuyen_tamgiac(input). Kết quả trả về là các đoạn text ở format sau:\n",
    "\n",
    " + “3. So do nang cao tam giac ABC:”\n",
    "\n",
    " “ Do dai duong cao tu dinh A: hA” (Thay hA bằng độ đài đường cao từ A).\n",
    "\n",
    " “ Do dai duong cao tu dinh B: hB” (Thay hB bằng độ đài đường cao từ B).\n",
    "\n",
    " “ Do dai duong cao tu dinh C: hC” (Thay hC bằng độ đài đường cao từ C).\n",
    "\n",
    " “ Khoang cach den trong tam tu dinh A: tA” (Thay tA bằng độ đài đến trọng tâm từ A).\n",
    "\n",
    " “ Khoang cach den trong tam tu dinh B: tB” (Thay tB bằng độ đài đến trọng tâm từ B).\n",
    "\n",
    " “ Khoang cach den trong tam tu dinh C: tC” (Thay tC bằng độ đài đến trọng tâm từ C).\n",
    "\n",
    "- Trả về tọa độ của trọng tâm và trực tâm của tam giác ABC sử dụng hàm tam_tamgiac(input). Kết quả trả về là các đoạn text ở format sau:\n",
    "\n",
    " + “4. Toa do mot so diem dac biet cua tam giac ABC:”\n",
    "\n",
    " “Toa do trong tam: [x_trongtam, y_tructam]” (thay [x_trongtam, y_trong tam] bằng tòa độ của trọng tâm tam giác ABC).\n",
    "\n",
    " “Toa do truc tam: [x_tructam, y_tructam]” (thay [x_tructam, y_tructam] bằng tòa độ của trực tâm tam giác ABC)."
   ]
  },
  {
   "cell_type": "code",
   "execution_count": 71,
   "metadata": {},
   "outputs": [],
   "source": [
    "def giaima_tamgiac(li):\n",
    "    if kiemtra_tamgiac(li):\n",
    "        print('A, B, C hop thanh mot tam giac')\n",
    "        li_1 = goccanh_tamgiac(li)\n",
    "        print('\\n1. So do co ban cua tam giac:')\n",
    "        print('Chieu dai canh AB:',li_1[0])\n",
    "        print('Chieu dai canh BC:',li_1[1])\n",
    "        print('Chieu dai canh CA:',li_1[2])\n",
    "        print('Goc A:',li_1[3],'°')\n",
    "        print('Goc B:',li_1[4],'°')\n",
    "        print('Goc C:',li_1[5],'°')\n",
    "        xet_tamgiac(li)\n",
    "        print('\\n2. Dien tich cua tam giac ABC:',dientich_tamgiac(li))\n",
    "        print('\\n3. So do nang cao tam giac ABC:')\n",
    "        li_2 = duongcao_tamgiac(li)\n",
    "        print('Do dai duong cao tu dinh A:',li_2[0])\n",
    "        print('Do dai duong cao tu dinh B:',li_2[1])\n",
    "        print('Do dai duong cao tu dinh C:',li_2[2])\n",
    "        li_3 = trungtuyen_tamgiac(li)\n",
    "        print('Khoang cach den trong tam tu dinh A:',li_3[0])\n",
    "        print('Khoang cach den trong tam tu dinh B:',li_3[1])\n",
    "        print('Khoang cach den trong tam tu dinh C:',li_3[2])\n",
    "        print('\\n4. Toa do mot so diem dac biet cua tam giac ABC:')\n",
    "        li_4 = tam_tamgiac(li)\n",
    "        print('Toa do trong tam:',li_4[0],',',li_4[1])\n",
    "        print('Toa do truc tam:',li_4[2],',',li_4[3])\n",
    "    else:\n",
    "        print('A, B, C khong hop thanh mot tam giac')\n",
    "        quit()"
   ]
  },
  {
   "cell_type": "code",
   "execution_count": 72,
   "metadata": {},
   "outputs": [
    {
     "name": "stdout",
     "output_type": "stream",
     "text": [
      "A, B, C hop thanh mot tam giac\n",
      "\n",
      "1. So do co ban cua tam giac:\n",
      "Chieu dai canh AB: 3.0\n",
      "Chieu dai canh BC: 5.0\n",
      "Chieu dai canh CA: 4.0\n",
      "Goc A: 90.0 °\n",
      "Goc B: 53.13 °\n",
      "Goc C: 36.87 °\n",
      "ABC la tam giac vuong tai dinh A va la tam giac binh thuong\n",
      "\n",
      "2. Dien tich cua tam giac ABC: 6.0\n",
      "\n",
      "3. So do nang cao tam giac ABC:\n",
      "Do dai duong cao tu dinh A: 2.4\n",
      "Do dai duong cao tu dinh B: 3.0\n",
      "Do dai duong cao tu dinh C: 4.0\n",
      "Khoang cach den trong tam tu dinh A: 4.17\n",
      "Khoang cach den trong tam tu dinh B: 8.67\n",
      "Khoang cach den trong tam tu dinh C: 12.17\n",
      "\n",
      "4. Toa do mot so diem dac biet cua tam giac ABC:\n",
      "Toa do trong tam: 2.33 , 2.0\n",
      "Toa do truc tam: 1 , 1\n"
     ]
    }
   ],
   "source": [
    "giaima_tamgiac(li)"
   ]
  },
  {
   "cell_type": "code",
   "execution_count": null,
   "metadata": {},
   "outputs": [],
   "source": []
  }
 ],
 "metadata": {
  "kernelspec": {
   "display_name": "Python 3",
   "language": "python",
   "name": "python3"
  },
  "language_info": {
   "codemirror_mode": {
    "name": "ipython",
    "version": 3
   },
   "file_extension": ".py",
   "mimetype": "text/x-python",
   "name": "python",
   "nbconvert_exporter": "python",
   "pygments_lexer": "ipython3",
   "version": "3.8.5"
  }
 },
 "nbformat": 4,
 "nbformat_minor": 5
}
