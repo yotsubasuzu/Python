{
 "cells": [
  {
   "cell_type": "markdown",
   "metadata": {
    "id": "1rIDqkpLYB2A"
   },
   "source": [
    "<center>\n",
    "    <img src=\"https://cf-courses-data.s3.us.cloud-object-storage.appdomain.cloud/IBMDeveloperSkillsNetwork-PY0101EN-SkillsNetwork/IDSNlogo.png\" width=\"300\" alt=\"cognitiveclass.ai logo\"  />\n",
    "</center>\n",
    "\n",
    "# Application Programming Interface\n",
    "\n",
    "Estimated time needed: **15** minutes\n",
    "\n",
    "## Objectives\n",
    "\n",
    "After completing this lab you will be able to:\n",
    "\n",
    "-   Create and Use APIs in Python\n"
   ]
  },
  {
   "cell_type": "markdown",
   "metadata": {
    "id": "O8yNd7hxYB2S"
   },
   "source": [
    "### Introduction\n",
    "\n",
    "An API lets two pieces of software talk to each other. Just like a function,  you don’t have to know how the API works only its inputs and outputs.  An essential type of API is a REST API that allows you to access resources via the internet. In this lab, we will review the Pandas Library  in the context of an API, we will also review a basic REST API  \n"
   ]
  },
  {
   "cell_type": "markdown",
   "metadata": {
    "id": "i5gAeQHxYB2U"
   },
   "source": [
    "## Table of Contents\n",
    "\n",
    "<div class=\"alert alert-block alert-info\" style=\"margin-top: 20px\">\n",
    "<li><a href=\"#ref0\">Pandas is an API</a></li>\n",
    "<li><a href=\"#ref1\">REST APIs Basics  </a></li>\n",
    "<li><a href=\"#ref2\">Quiz on Tuples</a></li>\n",
    "\n",
    "</div>\n",
    "\n",
    "<hr>\n"
   ]
  },
  {
   "cell_type": "code",
   "execution_count": 1,
   "metadata": {
    "collapsed": false,
    "id": "vip3sbowYB2V",
    "jupyter": {
     "outputs_hidden": false
    }
   },
   "outputs": [
    {
     "name": "stdout",
     "output_type": "stream",
     "text": [
      "Collecting pycoingecko\n",
      "  Downloading pycoingecko-2.2.0-py3-none-any.whl (8.3 kB)\n",
      "Requirement already satisfied: requests in c:\\users\\tocba\\anaconda3\\lib\\site-packages (from pycoingecko) (2.24.0)\n",
      "Requirement already satisfied: chardet<4,>=3.0.2 in c:\\users\\tocba\\anaconda3\\lib\\site-packages (from requests->pycoingecko) (3.0.4)\n",
      "Requirement already satisfied: certifi>=2017.4.17 in c:\\users\\tocba\\anaconda3\\lib\\site-packages (from requests->pycoingecko) (2020.6.20)\n",
      "Requirement already satisfied: urllib3!=1.25.0,!=1.25.1,<1.26,>=1.21.1 in c:\\users\\tocba\\anaconda3\\lib\\site-packages (from requests->pycoingecko) (1.25.11)\n",
      "Requirement already satisfied: idna<3,>=2.5 in c:\\users\\tocba\\anaconda3\\lib\\site-packages (from requests->pycoingecko) (2.10)\n",
      "Installing collected packages: pycoingecko\n",
      "Successfully installed pycoingecko-2.2.0\n",
      "Collecting plotly\n",
      "  Downloading plotly-5.1.0-py2.py3-none-any.whl (20.6 MB)\n",
      "Collecting tenacity>=6.2.0\n",
      "  Downloading tenacity-8.0.1-py3-none-any.whl (24 kB)\n",
      "Requirement already satisfied: six in c:\\users\\tocba\\anaconda3\\lib\\site-packages (from plotly) (1.15.0)\n",
      "Installing collected packages: tenacity, plotly\n",
      "Successfully installed plotly-5.1.0 tenacity-8.0.1\n",
      "Collecting mplfinance\n",
      "  Downloading mplfinance-0.12.7a17-py3-none-any.whl (62 kB)\n",
      "Requirement already satisfied: pandas in c:\\users\\tocba\\anaconda3\\lib\\site-packages (from mplfinance) (1.1.3)\n",
      "Requirement already satisfied: matplotlib in c:\\users\\tocba\\anaconda3\\lib\\site-packages (from mplfinance) (3.3.2)\n",
      "Requirement already satisfied: numpy>=1.15.4 in c:\\users\\tocba\\anaconda3\\lib\\site-packages (from pandas->mplfinance) (1.19.2)\n",
      "Requirement already satisfied: pytz>=2017.2 in c:\\users\\tocba\\anaconda3\\lib\\site-packages (from pandas->mplfinance) (2020.1)\n",
      "Requirement already satisfied: python-dateutil>=2.7.3 in c:\\users\\tocba\\anaconda3\\lib\\site-packages (from pandas->mplfinance) (2.8.1)\n",
      "Requirement already satisfied: cycler>=0.10 in c:\\users\\tocba\\anaconda3\\lib\\site-packages (from matplotlib->mplfinance) (0.10.0)\n",
      "Requirement already satisfied: certifi>=2020.06.20 in c:\\users\\tocba\\anaconda3\\lib\\site-packages (from matplotlib->mplfinance) (2020.6.20)\n",
      "Requirement already satisfied: pillow>=6.2.0 in c:\\users\\tocba\\anaconda3\\lib\\site-packages (from matplotlib->mplfinance) (8.0.1)\n",
      "Requirement already satisfied: pyparsing!=2.0.4,!=2.1.2,!=2.1.6,>=2.0.3 in c:\\users\\tocba\\anaconda3\\lib\\site-packages (from matplotlib->mplfinance) (2.4.7)\n",
      "Requirement already satisfied: kiwisolver>=1.0.1 in c:\\users\\tocba\\anaconda3\\lib\\site-packages (from matplotlib->mplfinance) (1.3.0)\n",
      "Requirement already satisfied: six>=1.5 in c:\\users\\tocba\\anaconda3\\lib\\site-packages (from python-dateutil>=2.7.3->pandas->mplfinance) (1.15.0)\n",
      "Installing collected packages: mplfinance\n",
      "Successfully installed mplfinance-0.12.7a17\n"
     ]
    }
   ],
   "source": [
    "!pip install pycoingecko\n",
    "!pip install plotly\n",
    "!pip install mplfinance"
   ]
  },
  {
   "cell_type": "markdown",
   "metadata": {
    "id": "5K-DOi71YB2W"
   },
   "source": [
    "<h2 id=\"PandasAPI\">Pandas is an API </h2>\n"
   ]
  },
  {
   "cell_type": "markdown",
   "metadata": {
    "id": "2vsJ17xgYB2X"
   },
   "source": [
    "Pandas is actually set of software components , much of  which is not even written in Python.\n"
   ]
  },
  {
   "cell_type": "code",
   "execution_count": 2,
   "metadata": {
    "collapsed": false,
    "id": "KKW2rBP3YB2X",
    "jupyter": {
     "outputs_hidden": false
    }
   },
   "outputs": [],
   "source": [
    "import pandas as pd\n",
    "import numpy as np\n",
    "import plotly.graph_objects as go\n",
    "from plotly.offline import plot\n",
    "import matplotlib.pyplot as plt\n",
    "import datetime\n",
    "from pycoingecko import CoinGeckoAPI\n",
    "from mplfinance.original_flavor import candlestick2_ohlc"
   ]
  },
  {
   "cell_type": "markdown",
   "metadata": {
    "id": "F9N9xpXOYB2Y"
   },
   "source": [
    "You create a dictionary, this is just data.\n"
   ]
  },
  {
   "cell_type": "code",
   "execution_count": 3,
   "metadata": {
    "collapsed": false,
    "id": "oKUK_VhNYB2Z",
    "jupyter": {
     "outputs_hidden": false
    }
   },
   "outputs": [],
   "source": [
    "dict_={'a':[11,21,31],'b':[12,22,32]}"
   ]
  },
  {
   "cell_type": "markdown",
   "metadata": {
    "id": "s3Zr134mYB2Z"
   },
   "source": [
    "When you create a Pandas object with the Dataframe constructor in API lingo, this is an \"instance\". The data in the dictionary is passed along to the pandas API. You then use the dataframe to communicate with the API.\n"
   ]
  },
  {
   "cell_type": "code",
   "execution_count": 4,
   "metadata": {
    "collapsed": false,
    "id": "WXnr2kXcYB2a",
    "jupyter": {
     "outputs_hidden": false
    }
   },
   "outputs": [
    {
     "data": {
      "text/plain": [
       "pandas.core.frame.DataFrame"
      ]
     },
     "execution_count": 4,
     "metadata": {},
     "output_type": "execute_result"
    }
   ],
   "source": [
    "df=pd.DataFrame(dict_)\n",
    "type(df)"
   ]
  },
  {
   "cell_type": "markdown",
   "metadata": {
    "id": "1WDS5SelYB2b"
   },
   "source": [
    "<img src = \"https://cf-courses-data.s3.us.cloud-object-storage.appdomain.cloud/IBMDeveloperSkillsNetwork-PY0101EN-SkillsNetwork/labs/Module%205/images/pandas_api.png\" width = 800, align = \"center\" alt=\"logistic regression block diagram\" />\n"
   ]
  },
  {
   "cell_type": "markdown",
   "metadata": {
    "id": "llBDiq87YB2b"
   },
   "source": [
    "When you call the method head the dataframe communicates with the API displaying the first few rows of the dataframe.\n"
   ]
  },
  {
   "cell_type": "code",
   "execution_count": 5,
   "metadata": {
    "collapsed": false,
    "id": "Jz65sYcPYB2c",
    "jupyter": {
     "outputs_hidden": false
    }
   },
   "outputs": [
    {
     "data": {
      "text/html": [
       "<div>\n",
       "<style scoped>\n",
       "    .dataframe tbody tr th:only-of-type {\n",
       "        vertical-align: middle;\n",
       "    }\n",
       "\n",
       "    .dataframe tbody tr th {\n",
       "        vertical-align: top;\n",
       "    }\n",
       "\n",
       "    .dataframe thead th {\n",
       "        text-align: right;\n",
       "    }\n",
       "</style>\n",
       "<table border=\"1\" class=\"dataframe\">\n",
       "  <thead>\n",
       "    <tr style=\"text-align: right;\">\n",
       "      <th></th>\n",
       "      <th>a</th>\n",
       "      <th>b</th>\n",
       "    </tr>\n",
       "  </thead>\n",
       "  <tbody>\n",
       "    <tr>\n",
       "      <th>0</th>\n",
       "      <td>11</td>\n",
       "      <td>12</td>\n",
       "    </tr>\n",
       "    <tr>\n",
       "      <th>1</th>\n",
       "      <td>21</td>\n",
       "      <td>22</td>\n",
       "    </tr>\n",
       "    <tr>\n",
       "      <th>2</th>\n",
       "      <td>31</td>\n",
       "      <td>32</td>\n",
       "    </tr>\n",
       "  </tbody>\n",
       "</table>\n",
       "</div>"
      ],
      "text/plain": [
       "    a   b\n",
       "0  11  12\n",
       "1  21  22\n",
       "2  31  32"
      ]
     },
     "execution_count": 5,
     "metadata": {},
     "output_type": "execute_result"
    }
   ],
   "source": [
    "df.head()"
   ]
  },
  {
   "cell_type": "markdown",
   "metadata": {
    "id": "K2e-WBDhYB2c"
   },
   "source": [
    "When you call the method mean,the API will calculate the mean and return the value.\n"
   ]
  },
  {
   "cell_type": "code",
   "execution_count": 6,
   "metadata": {
    "collapsed": false,
    "id": "QfG3k5jSYB2d",
    "jupyter": {
     "outputs_hidden": false
    }
   },
   "outputs": [
    {
     "data": {
      "text/plain": [
       "a    21.0\n",
       "b    22.0\n",
       "dtype: float64"
      ]
     },
     "execution_count": 6,
     "metadata": {},
     "output_type": "execute_result"
    }
   ],
   "source": [
    "df.mean()"
   ]
  },
  {
   "cell_type": "markdown",
   "metadata": {
    "id": "nLknS5MJYB2d"
   },
   "source": [
    "<h2 id=\"ref1\">REST APIs</h2>\n"
   ]
  },
  {
   "cell_type": "markdown",
   "metadata": {
    "id": "TzdNqCKHYB2e"
   },
   "source": [
    "Rest API’s function by sending a request,  the request is communicated via HTTP message. The HTTP message usually contains a JSON file. This contains instructions for what operation we would like the service or resource to perform. In a similar manner, API returns a response, via an HTTP message, this response is usually contained within a JSON.\n",
    "\n",
    "In cryptocurrency a popular method to display the movements of the price of a currency.\n",
    "\n",
    "![Example Candlestick Graph](https://cf-courses-data.s3.us.cloud-object-storage.appdomain.cloud/IBMDeveloperSkillsNetwork-PY0101EN-SkillsNetwork/labs/Module%205/candlestick.png)\n",
    "\n",
    "Here is a description of the candle sticks.\n",
    "\n",
    "<img src=\"https://cf-courses-data.s3.us.cloud-object-storage.appdomain.cloud/IBMDeveloperSkillsNetwork-PY0101EN-SkillsNetwork/labs/Module%205/explanation.png\" alt=\"Candle Stick Definition\" width=\"800\" height=\"600\">\n",
    "\n",
    "In this lab, we will be using the <a href=https://www.coingecko.com/en/api>CoinGecko API</a> to create one of these candlestick graphs for Bitcoin. We will use the API to get the price data for 30 days with 24 observation per day, 1 per hour. We will find the max, min, open, and close price per day meaning we will have 30 candlesticks and use that to generate the candlestick graph. Although we are using the CoinGecko API we will use a Python client/wrapper for the API called <a href=https://github.com/man-c/pycoingecko>PyCoinGecko</a>. PyCoinGecko will make performing the requests easy and it will deal with the enpoint targeting.\n"
   ]
  },
  {
   "cell_type": "markdown",
   "metadata": {
    "id": "dRYPy_hQYB2f"
   },
   "source": [
    "Lets start off by getting the data we need. Using the <code>get_coin_market_chart_by_id(id, vs_currency, days)</code>. <code>id</code> is the name of the coin you want, <code>vs_currency</code> is the currency you want the price in, and <code>days</code> is how many days back from today you want.\n"
   ]
  },
  {
   "cell_type": "code",
   "execution_count": 7,
   "metadata": {
    "id": "N1EY8J9SYB2h"
   },
   "outputs": [],
   "source": [
    "cg = CoinGeckoAPI()\n",
    "\n",
    "bitcoin_data = cg.get_coin_market_chart_by_id(id='bitcoin', vs_currency='usd', days=30)"
   ]
  },
  {
   "cell_type": "code",
   "execution_count": 8,
   "metadata": {
    "id": "AriQZTV-YB2i"
   },
   "outputs": [
    {
     "data": {
      "text/plain": [
       "dict"
      ]
     },
     "execution_count": 8,
     "metadata": {},
     "output_type": "execute_result"
    }
   ],
   "source": [
    "type(bitcoin_data )"
   ]
  },
  {
   "cell_type": "markdown",
   "metadata": {
    "id": "abygD1dkYB2i"
   },
   "source": [
    "The response we get is in the form of a JSON which includes the price, market caps, and total volumes along with timestamps for each observation. We are focused on the prices so we will select that data.\n"
   ]
  },
  {
   "cell_type": "code",
   "execution_count": 9,
   "metadata": {
    "id": "tJm32PqNYB2j"
   },
   "outputs": [
    {
     "data": {
      "text/plain": [
       "[[1624698131255, 30141.461625285207],\n",
       " [1624701610439, 31469.13711151068],\n",
       " [1624705210906, 31061.030531077235],\n",
       " [1624708850549, 32073.289849498153],\n",
       " [1624712526711, 31700.34319080837]]"
      ]
     },
     "execution_count": 9,
     "metadata": {},
     "output_type": "execute_result"
    }
   ],
   "source": [
    "bitcoin_price_data = bitcoin_data['prices']\n",
    "\n",
    "bitcoin_price_data[0:5]"
   ]
  },
  {
   "cell_type": "markdown",
   "metadata": {
    "id": "YBcuc7PVYB2j"
   },
   "source": [
    "Finally lets turn this data into a Pandas DataFrame.\n"
   ]
  },
  {
   "cell_type": "code",
   "execution_count": 18,
   "metadata": {
    "id": "cUu61ef6YB2k"
   },
   "outputs": [],
   "source": [
    "data = pd.DataFrame(bitcoin_price_data, columns=['TimeStamp', 'Price'])"
   ]
  },
  {
   "cell_type": "markdown",
   "metadata": {
    "id": "kppYOdGtYB2k"
   },
   "source": [
    "Now that we have the DataFrame we will convert the timestamp to datetime and save it as a column called <code>Date</code>. We will map our <code>unix_to_datetime</code> to each timestamp and convert it to a readable datetime.\n"
   ]
  },
  {
   "cell_type": "code",
   "execution_count": 19,
   "metadata": {
    "id": "UzLkhuV3YB2k"
   },
   "outputs": [],
   "source": [
    "data['Date'] = pd.to_datetime(data['TimeStamp'], unit='ms')"
   ]
  },
  {
   "cell_type": "markdown",
   "metadata": {
    "id": "JYLqLgzfYB2l"
   },
   "source": [
    "Using this modified dataset we can now group by the <code>Date</code> and find the min, max, open, and close for the candlesticks.\n"
   ]
  },
  {
   "cell_type": "code",
   "execution_count": 20,
   "metadata": {
    "id": "QfT0exJwYB2l"
   },
   "outputs": [],
   "source": [
    "candlestick_data = data.groupby(data.Date.dt.date, as_index=False).agg({\"Price\": ['min', 'max', 'first', 'last']})"
   ]
  },
  {
   "cell_type": "markdown",
   "metadata": {
    "id": "tlbyft8hYB2m"
   },
   "source": [
    "Finally we are now ready to use plotly to create our Candlestick Chart.\n"
   ]
  },
  {
   "cell_type": "code",
   "execution_count": 21,
   "metadata": {
    "id": "6JSoXvwjYB2m"
   },
   "outputs": [
    {
     "data": {
      "application/vnd.plotly.v1+json": {
       "config": {
        "plotlyServerURL": "https://plot.ly"
       },
       "data": [
        {
         "close": [
          31870.282842702174,
          34506.09351678513,
          34457.40293230789,
          36189.09557760313,
          34799.292228211154,
          33681.5822850027,
          33788.207267828875,
          34603.24157697668,
          35440.42932063159,
          34170.772857664364,
          34147.13658189322,
          34246.71829329822,
          32573.54933910897,
          34062.786215912936,
          33686.07436203849,
          34461.45412976572,
          33153.00356201394,
          32572.967297791212,
          33094.153413666376,
          31850.536936755874,
          31602.173424744837,
          31704.688442213668,
          31614.674467917328,
          30965.831960798874,
          29599.878053104498,
          32119.049551483193,
          32265.141094760842,
          33367.693485902804,
          34055.86702129894,
          34624.035757887905,
          37985.92884318645
         ],
         "high": [
          32073.289849498153,
          34506.09351678513,
          35171.13494288244,
          36412.01247648199,
          36029.85103090064,
          35171.486304850056,
          33788.207267828875,
          34915.17322079939,
          35999.840043982294,
          35394.213074080915,
          34981.755700304995,
          34896.269656399796,
          33932.25463831538,
          34062.786215912936,
          34247.22432592896,
          34596.64004809614,
          34596.99339452244,
          33327.47500740664,
          33094.153413666376,
          33098.66196408383,
          32196.821371601978,
          31973.261936093702,
          32239.857247080956,
          31931.418111985462,
          30974.89741294752,
          32268.75632013073,
          32540.290282033486,
          33367.693485902804,
          34458.7530055462,
          34749.94248766742,
          38714.2748832547
         ],
         "low": [
          30141.461625285207,
          32023.973901774916,
          34152.18048985769,
          34397.35580929206,
          34252.392987535735,
          33056.06984957891,
          32848.17762411341,
          33497.64409129388,
          34564.75484158307,
          33477.87078436605,
          33790.483678277575,
          34197.818306808476,
          32419.56430894397,
          32406.32880615089,
          33407.34322168862,
          33516.67524865833,
          32882.912733476354,
          32418.78152105939,
          31856.382636639722,
          31372.65349362719,
          31174.142553818387,
          31340.32262847881,
          31262.148761343185,
          30693.310472907266,
          29599.878053104498,
          29659.302838263677,
          31920.42944276937,
          32180.828599176322,
          33518.753513625445,
          33984.60899822343,
          35527.01136703237
         ],
         "open": [
          30141.461625285207,
          32023.973901774916,
          34624.69013425728,
          34556.8421269449,
          35968.993667970346,
          35171.486304850056,
          33655.70045004469,
          33950.786555181,
          34788.71456063152,
          35394.213074080915,
          33906.62831880534,
          34197.818306808476,
          33932.25463831538,
          32933.578199292395,
          33971.297749757956,
          33667.12278855632,
          34295.402707625595,
          33260.852775127205,
          32728.91957929776,
          32878.50187357147,
          31686.63517370822,
          31404.36550884456,
          31588.6713510167,
          31919.393922554555,
          30928.211908849244,
          29916.705053538768,
          32313.670421157323,
          32385.972609683973,
          33518.753513625445,
          34296.872673341044,
          35527.01136703237
         ],
         "type": "candlestick",
         "x": [
          "2021-06-26T09:02:11.255000",
          "2021-06-26T10:00:10.439000",
          "2021-06-26T11:00:10.906000",
          "2021-06-26T12:00:50.549000",
          "2021-06-26T13:02:06.711000",
          "2021-06-26T14:01:08.736000",
          "2021-06-26T15:00:33.194000",
          "2021-06-26T16:01:02.651000",
          "2021-06-26T17:01:14.445000",
          "2021-06-26T18:00:20.132000",
          "2021-06-26T19:00:43.651000",
          "2021-06-26T20:00:07.370000",
          "2021-06-26T21:00:07.301000",
          "2021-06-26T22:00:55.286000",
          "2021-06-26T23:00:19.397000",
          "2021-06-27T00:00:16.717000",
          "2021-06-27T01:01:26.096000",
          "2021-06-27T02:01:17.676000",
          "2021-06-27T03:00:55.275000",
          "2021-06-27T04:01:38.911000",
          "2021-06-27T05:01:31.119000",
          "2021-06-27T06:01:22.025000",
          "2021-06-27T07:01:31.228000",
          "2021-06-27T08:10:55.080000",
          "2021-06-27T09:00:02.893000",
          "2021-06-27T10:00:42.797000",
          "2021-06-27T11:01:59.845000",
          "2021-06-27T12:02:02.872000",
          "2021-06-27T13:02:15.238000",
          "2021-06-27T14:00:32.213000",
          "2021-06-27T15:01:31.984000",
          "2021-06-27T16:02:11.417000",
          "2021-06-27T17:00:56.546000",
          "2021-06-27T18:00:31.440000",
          "2021-06-27T19:01:17.495000",
          "2021-06-27T20:01:15.563000",
          "2021-06-27T21:00:26.180000",
          "2021-06-27T22:01:45.882000",
          "2021-06-27T23:01:54.218000",
          "2021-06-28T00:01:11.532000",
          "2021-06-28T01:01:08.369000",
          "2021-06-28T02:01:51.344000",
          "2021-06-28T03:00:33.939000",
          "2021-06-28T04:00:39.980000",
          "2021-06-28T05:01:07.010000",
          "2021-06-28T06:01:09.521000",
          "2021-06-28T07:00:23.049000",
          "2021-06-28T08:01:22.906000",
          "2021-06-28T09:02:18.433000",
          "2021-06-28T10:00:49.044000",
          "2021-06-28T11:02:17.113000",
          "2021-06-28T12:02:43.141000",
          "2021-06-28T13:01:03.692000",
          "2021-06-28T14:01:26.752000",
          "2021-06-28T15:00:54.451000",
          "2021-06-28T16:36:41.127000",
          "2021-06-28T17:01:38.264000",
          "2021-06-28T18:02:02",
          "2021-06-28T19:01:03.694000",
          "2021-06-28T20:02:04.194000",
          "2021-06-28T21:01:19.276000",
          "2021-06-28T22:01:44.124000",
          "2021-06-28T23:01:41.111000",
          "2021-06-29T00:02:01.905000",
          "2021-06-29T01:01:22.953000",
          "2021-06-29T02:00:44.806000",
          "2021-06-29T03:01:52.460000",
          "2021-06-29T04:02:59.677000",
          "2021-06-29T05:01:05.216000",
          "2021-06-29T06:02:13.457000",
          "2021-06-29T07:01:32.261000",
          "2021-06-29T08:00:28.884000",
          "2021-06-29T09:01:30.773000",
          "2021-06-29T10:01:18.218000",
          "2021-06-29T11:03:04.986000",
          "2021-06-29T12:02:35.053000",
          "2021-06-29T13:01:24.178000",
          "2021-06-29T14:01:50.755000",
          "2021-06-29T15:00:33.098000",
          "2021-06-29T16:01:25.694000",
          "2021-06-29T17:01:04.183000",
          "2021-06-29T18:02:43.375000",
          "2021-06-29T19:01:39.395000",
          "2021-06-29T20:01:10.046000",
          "2021-06-29T21:01:14.579000",
          "2021-06-29T22:01:26.864000",
          "2021-06-29T23:01:12.688000",
          "2021-06-30T00:01:20.148000",
          "2021-06-30T01:03:47.236000",
          "2021-06-30T02:01:41.245000",
          "2021-06-30T03:01:41.299000",
          "2021-06-30T04:02:07.450000",
          "2021-06-30T05:01:06.165000",
          "2021-06-30T06:01:45.032000",
          "2021-06-30T07:02:09.796000",
          "2021-06-30T08:01:08.098000",
          "2021-06-30T09:02:26.276000",
          "2021-06-30T10:01:43.289000",
          "2021-06-30T11:02:34.341000",
          "2021-06-30T12:01:50.889000",
          "2021-06-30T13:01:14.743000",
          "2021-06-30T14:01:42.229000",
          "2021-06-30T15:00:49.402000",
          "2021-06-30T16:00:25.036000",
          "2021-06-30T17:02:06.728000",
          "2021-06-30T18:00:51.017000",
          "2021-06-30T19:00:41.293000",
          "2021-06-30T20:01:42.757000",
          "2021-06-30T21:01:23.685000",
          "2021-06-30T22:00:50.947000",
          "2021-06-30T23:02:01.845000",
          "2021-07-01T00:00:32.327000",
          "2021-07-01T01:01:22.634000",
          "2021-07-01T02:00:46.729000",
          "2021-07-01T03:03:49.526000",
          "2021-07-01T04:02:50.502000",
          "2021-07-01T05:02:18.311000",
          "2021-07-01T07:02:13.851000",
          "2021-07-01T08:01:42.785000",
          "2021-07-01T09:02:28.445000",
          "2021-07-01T10:02:49.440000",
          "2021-07-01T11:01:59.306000",
          "2021-07-01T12:03:09.284000",
          "2021-07-01T13:02:06.805000",
          "2021-07-01T14:02:23.429000",
          "2021-07-01T15:02:14.763000",
          "2021-07-01T16:02:05.582000",
          "2021-07-01T17:01:05.641000",
          "2021-07-01T18:02:16.961000",
          "2021-07-01T19:02:53.948000",
          "2021-07-01T20:01:43.055000",
          "2021-07-01T21:02:53.248000",
          "2021-07-01T22:02:02.505000",
          "2021-07-01T23:02:00.651000",
          "2021-07-02T00:04:56.829000",
          "2021-07-02T01:02:00.329000",
          "2021-07-02T02:01:30.594000",
          "2021-07-02T03:01:13.952000",
          "2021-07-02T04:03:10.032000",
          "2021-07-02T05:01:33.440000",
          "2021-07-02T06:03:19.719000",
          "2021-07-02T07:02:01.762000",
          "2021-07-02T08:02:38.374000",
          "2021-07-02T09:02:09.879000",
          "2021-07-02T10:03:52.099000",
          "2021-07-02T11:01:19.691000",
          "2021-07-02T12:01:03.286000",
          "2021-07-02T13:00:29.039000",
          "2021-07-02T14:01:53.559000",
          "2021-07-02T15:02:24.862000",
          "2021-07-02T16:01:43.904000",
          "2021-07-02T17:01:44.551000",
          "2021-07-02T18:00:49.005000",
          "2021-07-02T19:01:13.063000",
          "2021-07-02T20:01:55.848000",
          "2021-07-02T21:01:32.098000",
          "2021-07-02T22:01:49.322000",
          "2021-07-02T23:01:31.726000",
          "2021-07-03T00:01:21.186000",
          "2021-07-03T01:01:18.076000",
          "2021-07-03T02:01:20.498000",
          "2021-07-03T03:01:53.699000",
          "2021-07-03T04:01:22.120000",
          "2021-07-03T05:01:33.384000",
          "2021-07-03T06:01:00.061000",
          "2021-07-03T07:01:20.638000",
          "2021-07-03T08:01:38.319000",
          "2021-07-03T09:01:13.965000",
          "2021-07-03T10:01:25.931000",
          "2021-07-03T11:01:15.948000",
          "2021-07-03T12:00:30.330000",
          "2021-07-03T13:01:12.807000",
          "2021-07-03T14:00:31.155000",
          "2021-07-03T15:01:48.308000",
          "2021-07-03T16:00:45.056000",
          "2021-07-03T17:01:20.864000",
          "2021-07-03T18:02:42.108000",
          "2021-07-03T19:01:32.651000",
          "2021-07-03T20:02:34.029000",
          "2021-07-03T21:00:29.988000",
          "2021-07-03T22:01:52.534000",
          "2021-07-03T23:01:50.877000",
          "2021-07-04T00:01:38.268000",
          "2021-07-04T01:00:00.918000",
          "2021-07-04T02:01:41.975000",
          "2021-07-04T03:01:05.774000",
          "2021-07-04T04:01:06.960000",
          "2021-07-04T05:01:01.346000",
          "2021-07-04T06:01:01.564000",
          "2021-07-04T07:01:27.567000",
          "2021-07-04T08:00:48.722000",
          "2021-07-04T09:01:02.396000",
          "2021-07-04T10:00:00.385000",
          "2021-07-04T11:01:12.469000",
          "2021-07-04T12:00:48.048000",
          "2021-07-04T13:02:16.173000",
          "2021-07-04T14:00:48.411000",
          "2021-07-04T15:01:42.626000",
          "2021-07-04T16:00:50.751000",
          "2021-07-04T17:01:08.567000",
          "2021-07-04T18:01:31.220000",
          "2021-07-04T19:01:51.859000",
          "2021-07-04T20:02:14.801000",
          "2021-07-04T21:01:17.024000",
          "2021-07-04T22:00:58.345000",
          "2021-07-04T23:01:02.152000",
          "2021-07-05T00:01:51.401000",
          "2021-07-05T01:00:24.239000",
          "2021-07-05T02:01:54.259000",
          "2021-07-05T03:01:46.860000",
          "2021-07-05T04:02:19.336000",
          "2021-07-05T05:01:05.155000",
          "2021-07-05T06:00:57.816000",
          "2021-07-05T07:00:02.826000",
          "2021-07-05T08:00:52.436000",
          "2021-07-05T09:00:54.923000",
          "2021-07-05T10:01:55.694000",
          "2021-07-05T11:01:00.642000",
          "2021-07-05T12:01:03.589000",
          "2021-07-05T13:02:02.546000",
          "2021-07-05T14:00:47.757000",
          "2021-07-05T15:01:19.708000",
          "2021-07-05T16:01:12.231000",
          "2021-07-05T17:01:07.306000",
          "2021-07-05T18:03:06.467000",
          "2021-07-05T19:01:06.404000",
          "2021-07-05T20:02:06.256000",
          "2021-07-05T21:01:07.941000",
          "2021-07-05T22:01:00.085000",
          "2021-07-05T23:02:18.099000",
          "2021-07-06T00:00:28.496000",
          "2021-07-06T01:01:25.173000",
          "2021-07-06T02:01:44.895000",
          "2021-07-06T03:00:57.836000",
          "2021-07-06T04:01:06.059000",
          "2021-07-06T05:00:55.618000",
          "2021-07-06T06:01:05.957000",
          "2021-07-06T07:02:50.536000",
          "2021-07-06T08:02:10.258000",
          "2021-07-06T09:01:31.142000",
          "2021-07-06T10:02:57.073000",
          "2021-07-06T11:01:35.397000",
          "2021-07-06T12:00:34.505000",
          "2021-07-06T13:00:46.590000",
          "2021-07-06T15:00:52.384000",
          "2021-07-06T15:05:36.608000",
          "2021-07-06T15:07:07.170000",
          "2021-07-06T16:01:26.651000",
          "2021-07-06T17:00:59.407000",
          "2021-07-06T18:01:35.110000",
          "2021-07-06T19:01:32.981000",
          "2021-07-06T20:00:10.360000",
          "2021-07-06T21:01:11.981000",
          "2021-07-06T22:00:29.613000",
          "2021-07-06T23:00:49.042000",
          "2021-07-07T00:01:15.151000",
          "2021-07-07T01:00:52.236000",
          "2021-07-07T02:00:20.377000",
          "2021-07-07T03:01:04.732000",
          "2021-07-07T04:01:04.065000",
          "2021-07-07T05:01:05.944000",
          "2021-07-07T06:02:47.674000",
          "2021-07-07T07:00:21.306000",
          "2021-07-07T08:01:10.703000",
          "2021-07-07T09:01:23.899000",
          "2021-07-07T10:01:46.995000",
          "2021-07-07T11:01:29.521000",
          "2021-07-07T12:00:25.480000",
          "2021-07-07T13:01:11.205000",
          "2021-07-07T14:01:24.260000",
          "2021-07-07T15:01:46.643000",
          "2021-07-07T16:00:59.318000",
          "2021-07-07T17:00:11.698000",
          "2021-07-07T18:00:16.550000",
          "2021-07-07T19:01:03.004000",
          "2021-07-07T20:01:20.118000",
          "2021-07-07T21:00:38.334000",
          "2021-07-07T22:00:26.993000",
          "2021-07-07T23:01:11.895000",
          "2021-07-08T00:01:11.845000",
          "2021-07-08T01:01:07.146000",
          "2021-07-08T02:01:43.084000",
          "2021-07-08T03:00:33.112000",
          "2021-07-08T04:01:23.064000",
          "2021-07-08T05:00:11.349000",
          "2021-07-08T06:00:06.581000",
          "2021-07-08T07:01:11.756000",
          "2021-07-08T08:02:15.377000",
          "2021-07-08T09:00:33.488000",
          "2021-07-08T10:01:02.541000",
          "2021-07-08T11:00:07.014000",
          "2021-07-08T12:01:17.970000",
          "2021-07-08T13:01:26.750000",
          "2021-07-08T14:01:27.042000",
          "2021-07-08T15:02:09.817000",
          "2021-07-08T16:00:07.595000",
          "2021-07-08T17:00:48.357000",
          "2021-07-08T18:00:45.230000",
          "2021-07-08T19:00:03.929000",
          "2021-07-08T20:00:34.467000",
          "2021-07-08T21:00:35.672000",
          "2021-07-08T22:01:29.934000",
          "2021-07-08T23:00:34.171000",
          "2021-07-09T00:19:52.905000",
          "2021-07-09T01:03:03.825000",
          "2021-07-09T02:01:31.141000",
          "2021-07-09T03:00:53.913000",
          "2021-07-09T04:01:06.743000",
          "2021-07-09T05:00:05.938000",
          "2021-07-09T06:00:52.452000",
          "2021-07-09T07:00:57.084000",
          "2021-07-09T08:01:28.984000",
          "2021-07-09T09:01:46.518000",
          "2021-07-09T10:01:01.503000",
          "2021-07-09T11:00:47.094000",
          "2021-07-09T12:01:20.319000",
          "2021-07-09T13:01:16.177000",
          "2021-07-09T14:01:36.091000",
          "2021-07-09T15:01:11.306000",
          "2021-07-09T16:01:30.403000",
          "2021-07-09T17:01:00.304000",
          "2021-07-09T18:01:20.681000",
          "2021-07-09T19:01:08.231000",
          "2021-07-09T20:00:48.748000",
          "2021-07-09T21:02:30.192000",
          "2021-07-09T22:01:38.963000",
          "2021-07-09T23:02:15.170000",
          "2021-07-10T00:01:07.029000",
          "2021-07-10T01:00:36.221000",
          "2021-07-10T02:00:49.119000",
          "2021-07-10T03:00:28.327000",
          "2021-07-10T04:01:12.700000",
          "2021-07-10T05:02:09.473000",
          "2021-07-10T06:00:59.544000",
          "2021-07-10T07:01:03.315000",
          "2021-07-10T08:01:16.198000",
          "2021-07-10T09:00:08.912000",
          "2021-07-10T10:00:25.890000",
          "2021-07-10T11:00:21.220000",
          "2021-07-10T12:00:13.462000",
          "2021-07-10T13:01:01.134000",
          "2021-07-10T14:01:04.156000",
          "2021-07-10T15:01:41.756000",
          "2021-07-10T16:00:07.635000",
          "2021-07-10T17:01:46.892000",
          "2021-07-10T18:00:13.337000",
          "2021-07-10T19:01:27.292000",
          "2021-07-10T20:02:06.425000",
          "2021-07-10T21:01:24.719000",
          "2021-07-10T22:00:39.849000",
          "2021-07-10T23:01:18.815000",
          "2021-07-11T00:02:15.914000",
          "2021-07-11T01:00:17.752000",
          "2021-07-11T02:01:11.409000",
          "2021-07-11T03:00:28.016000",
          "2021-07-11T04:02:18.325000",
          "2021-07-11T05:00:24.188000",
          "2021-07-11T06:00:05.938000",
          "2021-07-11T07:00:40.848000",
          "2021-07-11T08:00:08.278000",
          "2021-07-11T09:01:28.319000",
          "2021-07-11T10:00:08.121000",
          "2021-07-11T11:01:03.227000",
          "2021-07-11T12:01:19.985000",
          "2021-07-11T13:01:07.717000",
          "2021-07-11T14:00:41.411000",
          "2021-07-11T15:00:16.902000",
          "2021-07-11T16:01:42.840000",
          "2021-07-11T17:01:02.112000",
          "2021-07-11T18:00:21.678000",
          "2021-07-11T19:01:12.591000",
          "2021-07-11T20:00:54.526000",
          "2021-07-11T21:01:34.600000",
          "2021-07-11T22:00:39.183000",
          "2021-07-11T23:01:19.788000",
          "2021-07-12T00:02:17.149000",
          "2021-07-12T01:00:03.036000",
          "2021-07-12T02:01:30.377000",
          "2021-07-12T03:01:04.690000",
          "2021-07-12T04:01:38.120000",
          "2021-07-12T05:01:03.948000",
          "2021-07-12T06:01:40.724000",
          "2021-07-12T07:00:49.676000",
          "2021-07-12T08:00:25.967000",
          "2021-07-12T09:01:16.432000",
          "2021-07-12T10:01:10.301000",
          "2021-07-12T11:03:35.794000",
          "2021-07-12T12:03:22.217000",
          "2021-07-12T13:00:51.522000",
          "2021-07-12T14:02:06.274000",
          "2021-07-12T15:00:51.171000",
          "2021-07-12T16:01:20.143000",
          "2021-07-12T17:00:18.624000",
          "2021-07-12T18:02:39.914000",
          "2021-07-12T19:00:53.424000",
          "2021-07-12T20:00:22.985000",
          "2021-07-12T21:00:13.106000",
          "2021-07-12T22:01:54.077000",
          "2021-07-12T23:01:18.302000",
          "2021-07-13T00:01:16.980000",
          "2021-07-13T01:02:41.764000",
          "2021-07-13T02:00:30.861000",
          "2021-07-13T03:01:23.599000",
          "2021-07-13T04:00:38.407000",
          "2021-07-13T05:01:07.418000",
          "2021-07-13T06:00:06.126000",
          "2021-07-13T07:02:21.441000",
          "2021-07-13T08:02:03.762000",
          "2021-07-13T09:00:08.265000",
          "2021-07-13T10:00:48.826000",
          "2021-07-13T11:00:59.784000",
          "2021-07-13T12:01:39.693000",
          "2021-07-13T13:01:16.639000",
          "2021-07-13T14:01:54.380000",
          "2021-07-13T15:00:16.795000",
          "2021-07-13T16:00:13.208000",
          "2021-07-13T17:00:18.169000",
          "2021-07-13T18:00:57.792000",
          "2021-07-13T19:00:41.091000",
          "2021-07-13T20:00:47.253000",
          "2021-07-13T21:00:12.597000",
          "2021-07-13T22:02:05.103000",
          "2021-07-13T23:01:51.494000",
          "2021-07-14T00:01:48.099000",
          "2021-07-14T01:01:26.346000",
          "2021-07-14T02:01:24.217000",
          "2021-07-14T03:01:39.107000",
          "2021-07-14T04:01:33.122000",
          "2021-07-14T05:01:40.733000",
          "2021-07-14T06:00:48.510000",
          "2021-07-14T07:01:01.508000",
          "2021-07-14T08:00:46.938000",
          "2021-07-14T09:00:54.714000",
          "2021-07-14T10:01:16.962000",
          "2021-07-14T11:01:25.573000",
          "2021-07-14T12:01:39.754000",
          "2021-07-14T13:00:56.877000",
          "2021-07-14T14:01:14.064000",
          "2021-07-14T15:00:55.035000",
          "2021-07-14T16:01:27.100000",
          "2021-07-14T17:01:04.574000",
          "2021-07-14T18:00:54.447000",
          "2021-07-14T19:01:09.938000",
          "2021-07-14T20:01:01.567000",
          "2021-07-14T21:01:52.997000",
          "2021-07-14T22:01:21.287000",
          "2021-07-14T23:01:35.285000",
          "2021-07-15T00:01:16.066000",
          "2021-07-15T01:01:23.166000",
          "2021-07-15T02:01:17.695000",
          "2021-07-15T03:00:24.218000",
          "2021-07-15T04:00:21.948000",
          "2021-07-15T05:01:06.384000",
          "2021-07-15T06:01:20.748000",
          "2021-07-15T07:02:27.188000",
          "2021-07-15T08:01:31.854000",
          "2021-07-15T09:00:28.069000",
          "2021-07-15T10:00:43.866000",
          "2021-07-15T11:02:01.928000",
          "2021-07-15T12:02:05.313000",
          "2021-07-15T13:01:54.864000",
          "2021-07-15T14:00:46.862000",
          "2021-07-15T15:00:51.402000",
          "2021-07-15T16:02:01.604000",
          "2021-07-15T17:02:12.426000",
          "2021-07-15T18:01:37.804000",
          "2021-07-15T19:00:28.202000",
          "2021-07-15T20:01:05.102000",
          "2021-07-15T21:01:17.381000",
          "2021-07-15T22:01:42.496000",
          "2021-07-15T23:00:11.067000",
          "2021-07-16T00:00:08.545000",
          "2021-07-16T01:01:55.809000",
          "2021-07-16T02:00:59.676000",
          "2021-07-16T03:01:34.836000",
          "2021-07-16T04:00:47.874000",
          "2021-07-16T05:01:54.595000",
          "2021-07-16T06:00:57.315000",
          "2021-07-16T07:01:35.970000",
          "2021-07-16T08:01:32.406000",
          "2021-07-16T09:00:36.647000",
          "2021-07-16T10:02:02.183000",
          "2021-07-16T11:01:13.664000",
          "2021-07-16T12:00:49.458000",
          "2021-07-16T13:00:58.241000",
          "2021-07-16T14:01:03.135000",
          "2021-07-16T15:00:52.914000",
          "2021-07-16T16:00:58.204000",
          "2021-07-16T17:01:26.667000",
          "2021-07-16T18:01:09.664000",
          "2021-07-16T19:00:52.519000",
          "2021-07-16T20:00:57.676000",
          "2021-07-16T21:01:15.457000",
          "2021-07-16T22:01:17.231000",
          "2021-07-16T23:01:36.366000",
          "2021-07-17T00:01:48.678000",
          "2021-07-17T01:01:37.987000",
          "2021-07-17T02:01:31.961000",
          "2021-07-17T03:00:03.712000",
          "2021-07-17T04:00:03.803000",
          "2021-07-17T05:01:15.109000",
          "2021-07-17T06:02:25.077000",
          "2021-07-17T07:01:23.071000",
          "2021-07-17T08:02:21.829000",
          "2021-07-17T09:01:23.033000",
          "2021-07-17T10:00:56.079000",
          "2021-07-17T11:00:50.780000",
          "2021-07-17T12:02:15.923000",
          "2021-07-17T13:01:56.850000",
          "2021-07-17T14:00:20.296000",
          "2021-07-17T15:01:19.562000",
          "2021-07-17T16:00:59.449000",
          "2021-07-17T17:01:03.486000",
          "2021-07-17T18:01:47.496000",
          "2021-07-17T19:00:54.311000",
          "2021-07-17T20:01:02.228000",
          "2021-07-17T21:00:53.389000",
          "2021-07-17T22:01:06.400000",
          "2021-07-17T23:01:45.607000",
          "2021-07-18T00:01:19.998000",
          "2021-07-18T01:00:02.312000",
          "2021-07-18T02:00:31.495000",
          "2021-07-18T03:02:02.658000",
          "2021-07-18T04:01:03.059000",
          "2021-07-18T05:00:00.890000",
          "2021-07-18T06:00:23.654000",
          "2021-07-18T07:01:23.193000",
          "2021-07-18T08:00:28.485000",
          "2021-07-18T09:01:23.328000",
          "2021-07-18T10:00:17.711000",
          "2021-07-18T11:01:07.180000",
          "2021-07-18T12:00:06.715000",
          "2021-07-18T13:01:18.511000",
          "2021-07-18T14:00:27.707000",
          "2021-07-18T15:01:09.362000",
          "2021-07-18T16:01:21.914000",
          "2021-07-18T17:01:15.607000",
          "2021-07-18T18:01:25.990000",
          "2021-07-18T19:01:11.951000",
          "2021-07-18T20:02:02.447000",
          "2021-07-18T21:00:21.580000",
          "2021-07-18T22:02:02.686000",
          "2021-07-18T23:00:35.655000",
          "2021-07-19T00:01:02.140000",
          "2021-07-19T01:01:23.659000",
          "2021-07-19T02:01:22.256000",
          "2021-07-19T03:00:33.211000",
          "2021-07-19T04:01:09.276000",
          "2021-07-19T05:00:25.752000",
          "2021-07-19T06:01:09.658000",
          "2021-07-19T07:01:40.237000",
          "2021-07-19T08:01:14.985000",
          "2021-07-19T09:00:59.599000",
          "2021-07-19T10:00:07.126000",
          "2021-07-19T11:00:14.991000",
          "2021-07-19T12:00:31.373000",
          "2021-07-19T13:01:40.065000",
          "2021-07-19T14:01:45.829000",
          "2021-07-19T15:01:26.715000",
          "2021-07-19T16:01:43.621000",
          "2021-07-19T17:01:36.650000",
          "2021-07-19T18:01:02.682000",
          "2021-07-19T19:01:51.649000",
          "2021-07-19T20:01:14.103000",
          "2021-07-19T21:00:03.391000",
          "2021-07-19T22:01:41.930000",
          "2021-07-19T23:00:13.229000",
          "2021-07-20T00:01:45.224000",
          "2021-07-20T01:01:20.326000",
          "2021-07-20T02:01:29.002000",
          "2021-07-20T03:01:23.600000",
          "2021-07-20T04:01:58.271000",
          "2021-07-20T05:01:26.979000",
          "2021-07-20T06:00:09.622000",
          "2021-07-20T07:00:18.997000",
          "2021-07-20T08:00:41.844000",
          "2021-07-20T09:00:52.630000",
          "2021-07-20T10:01:28.967000",
          "2021-07-20T11:01:03.286000",
          "2021-07-20T12:00:38.248000",
          "2021-07-20T13:00:56.255000",
          "2021-07-20T14:01:01.726000",
          "2021-07-20T15:01:17.657000",
          "2021-07-20T16:00:36.506000",
          "2021-07-20T17:00:58.758000",
          "2021-07-20T18:00:34.990000",
          "2021-07-20T19:01:06.476000",
          "2021-07-20T20:01:18.971000",
          "2021-07-20T21:00:52.696000",
          "2021-07-20T22:00:31.068000",
          "2021-07-20T23:00:41.682000",
          "2021-07-21T00:01:27.876000",
          "2021-07-21T01:00:23.116000",
          "2021-07-21T02:01:04.526000",
          "2021-07-21T03:00:57.559000",
          "2021-07-21T04:00:53.433000",
          "2021-07-21T05:01:22.684000",
          "2021-07-21T06:00:06.059000",
          "2021-07-21T07:01:44.343000",
          "2021-07-21T08:02:56.094000",
          "2021-07-21T09:01:28.875000",
          "2021-07-21T10:00:19.692000",
          "2021-07-21T11:00:47.008000",
          "2021-07-21T12:00:38.379000",
          "2021-07-21T13:01:03.351000",
          "2021-07-21T14:00:05.324000",
          "2021-07-21T15:01:14.836000",
          "2021-07-21T16:01:21.772000",
          "2021-07-21T17:01:20.251000",
          "2021-07-21T18:01:39.332000",
          "2021-07-21T19:01:16.829000",
          "2021-07-21T20:02:11.349000",
          "2021-07-21T21:00:04.418000",
          "2021-07-21T22:01:24.056000",
          "2021-07-21T23:00:16.980000",
          "2021-07-22T00:01:44.674000",
          "2021-07-22T01:01:02.006000",
          "2021-07-22T02:01:32.909000",
          "2021-07-22T03:00:36.788000",
          "2021-07-22T04:00:54.880000",
          "2021-07-22T05:01:03.906000",
          "2021-07-22T06:00:09.304000",
          "2021-07-22T07:01:02.187000",
          "2021-07-22T08:00:27.822000",
          "2021-07-22T09:02:18.458000",
          "2021-07-22T10:01:37.841000",
          "2021-07-22T11:01:20.977000",
          "2021-07-22T12:01:05.367000",
          "2021-07-22T13:01:28.142000",
          "2021-07-22T14:00:19.603000",
          "2021-07-22T15:01:22.186000",
          "2021-07-22T16:01:20.398000",
          "2021-07-22T17:01:54.426000",
          "2021-07-22T18:01:05.864000",
          "2021-07-22T19:02:01.892000",
          "2021-07-22T20:03:01.296000",
          "2021-07-22T21:01:04.461000",
          "2021-07-22T22:01:08.065000",
          "2021-07-22T23:00:54.960000",
          "2021-07-23T00:01:06.919000",
          "2021-07-23T01:00:11.817000",
          "2021-07-23T02:01:09.191000",
          "2021-07-23T03:00:02.180000",
          "2021-07-23T04:01:51.570000",
          "2021-07-23T05:01:24.947000",
          "2021-07-23T06:01:20.464000",
          "2021-07-23T07:00:55.714000",
          "2021-07-23T08:00:15.651000",
          "2021-07-23T09:00:20.336000",
          "2021-07-23T10:00:14.518000",
          "2021-07-23T11:00:41.010000",
          "2021-07-23T12:01:09.962000",
          "2021-07-23T13:00:35.399000",
          "2021-07-23T14:00:02.868000",
          "2021-07-23T15:01:06.857000",
          "2021-07-23T16:01:38.124000",
          "2021-07-23T17:00:16.540000",
          "2021-07-23T18:01:07.055000",
          "2021-07-23T19:04:09.261000",
          "2021-07-23T20:00:51.226000",
          "2021-07-23T21:01:29.813000",
          "2021-07-23T22:01:07.058000",
          "2021-07-23T23:01:11.741000",
          "2021-07-24T00:01:23.050000",
          "2021-07-24T01:00:45.016000",
          "2021-07-24T02:02:06.529000",
          "2021-07-24T03:01:17.283000",
          "2021-07-24T04:01:35.221000",
          "2021-07-24T05:01:34.926000",
          "2021-07-24T06:00:35.318000",
          "2021-07-24T07:01:09.848000",
          "2021-07-24T08:00:35.155000",
          "2021-07-24T09:01:07.007000",
          "2021-07-24T10:01:09.069000",
          "2021-07-24T11:00:24.296000",
          "2021-07-24T12:02:10.576000",
          "2021-07-24T13:00:17.304000",
          "2021-07-24T14:00:27.713000",
          "2021-07-24T15:01:26.259000",
          "2021-07-24T16:00:47.679000",
          "2021-07-24T17:03:26.078000",
          "2021-07-24T18:01:28.979000",
          "2021-07-24T19:00:03.290000",
          "2021-07-24T20:01:32.483000",
          "2021-07-24T21:00:15.984000",
          "2021-07-24T22:00:45.454000",
          "2021-07-24T23:00:18.918000",
          "2021-07-25T00:01:09.289000",
          "2021-07-25T01:00:11.012000",
          "2021-07-25T02:02:30.768000",
          "2021-07-25T03:02:53.252000",
          "2021-07-25T04:00:38.556000",
          "2021-07-25T05:00:23.719000",
          "2021-07-25T06:00:52.521000",
          "2021-07-25T07:02:38.784000",
          "2021-07-25T08:02:12.120000",
          "2021-07-25T09:01:09.717000",
          "2021-07-25T10:01:02.396000",
          "2021-07-25T11:00:20.365000",
          "2021-07-25T12:00:05.425000",
          "2021-07-25T13:02:29.167000",
          "2021-07-25T14:00:14.952000",
          "2021-07-25T15:00:25.323000",
          "2021-07-25T16:00:54.219000",
          "2021-07-25T17:00:09",
          "2021-07-25T18:00:01.113000",
          "2021-07-25T19:00:56.088000",
          "2021-07-25T20:01:38.752000",
          "2021-07-25T21:00:16.800000",
          "2021-07-25T22:03:29.764000",
          "2021-07-25T23:01:55.365000",
          "2021-07-26T00:01:34.744000",
          "2021-07-26T01:01:33.571000",
          "2021-07-26T02:01:18.882000",
          "2021-07-26T03:01:23.185000",
          "2021-07-26T04:00:03.689000",
          "2021-07-26T05:03:13.428000",
          "2021-07-26T06:01:42.780000",
          "2021-07-26T07:01:11.096000",
          "2021-07-26T08:01:08.089000",
          "2021-07-26T08:29:44"
         ]
        }
       ],
       "layout": {
        "template": {
         "data": {
          "bar": [
           {
            "error_x": {
             "color": "#2a3f5f"
            },
            "error_y": {
             "color": "#2a3f5f"
            },
            "marker": {
             "line": {
              "color": "#E5ECF6",
              "width": 0.5
             },
             "pattern": {
              "fillmode": "overlay",
              "size": 10,
              "solidity": 0.2
             }
            },
            "type": "bar"
           }
          ],
          "barpolar": [
           {
            "marker": {
             "line": {
              "color": "#E5ECF6",
              "width": 0.5
             },
             "pattern": {
              "fillmode": "overlay",
              "size": 10,
              "solidity": 0.2
             }
            },
            "type": "barpolar"
           }
          ],
          "carpet": [
           {
            "aaxis": {
             "endlinecolor": "#2a3f5f",
             "gridcolor": "white",
             "linecolor": "white",
             "minorgridcolor": "white",
             "startlinecolor": "#2a3f5f"
            },
            "baxis": {
             "endlinecolor": "#2a3f5f",
             "gridcolor": "white",
             "linecolor": "white",
             "minorgridcolor": "white",
             "startlinecolor": "#2a3f5f"
            },
            "type": "carpet"
           }
          ],
          "choropleth": [
           {
            "colorbar": {
             "outlinewidth": 0,
             "ticks": ""
            },
            "type": "choropleth"
           }
          ],
          "contour": [
           {
            "colorbar": {
             "outlinewidth": 0,
             "ticks": ""
            },
            "colorscale": [
             [
              0,
              "#0d0887"
             ],
             [
              0.1111111111111111,
              "#46039f"
             ],
             [
              0.2222222222222222,
              "#7201a8"
             ],
             [
              0.3333333333333333,
              "#9c179e"
             ],
             [
              0.4444444444444444,
              "#bd3786"
             ],
             [
              0.5555555555555556,
              "#d8576b"
             ],
             [
              0.6666666666666666,
              "#ed7953"
             ],
             [
              0.7777777777777778,
              "#fb9f3a"
             ],
             [
              0.8888888888888888,
              "#fdca26"
             ],
             [
              1,
              "#f0f921"
             ]
            ],
            "type": "contour"
           }
          ],
          "contourcarpet": [
           {
            "colorbar": {
             "outlinewidth": 0,
             "ticks": ""
            },
            "type": "contourcarpet"
           }
          ],
          "heatmap": [
           {
            "colorbar": {
             "outlinewidth": 0,
             "ticks": ""
            },
            "colorscale": [
             [
              0,
              "#0d0887"
             ],
             [
              0.1111111111111111,
              "#46039f"
             ],
             [
              0.2222222222222222,
              "#7201a8"
             ],
             [
              0.3333333333333333,
              "#9c179e"
             ],
             [
              0.4444444444444444,
              "#bd3786"
             ],
             [
              0.5555555555555556,
              "#d8576b"
             ],
             [
              0.6666666666666666,
              "#ed7953"
             ],
             [
              0.7777777777777778,
              "#fb9f3a"
             ],
             [
              0.8888888888888888,
              "#fdca26"
             ],
             [
              1,
              "#f0f921"
             ]
            ],
            "type": "heatmap"
           }
          ],
          "heatmapgl": [
           {
            "colorbar": {
             "outlinewidth": 0,
             "ticks": ""
            },
            "colorscale": [
             [
              0,
              "#0d0887"
             ],
             [
              0.1111111111111111,
              "#46039f"
             ],
             [
              0.2222222222222222,
              "#7201a8"
             ],
             [
              0.3333333333333333,
              "#9c179e"
             ],
             [
              0.4444444444444444,
              "#bd3786"
             ],
             [
              0.5555555555555556,
              "#d8576b"
             ],
             [
              0.6666666666666666,
              "#ed7953"
             ],
             [
              0.7777777777777778,
              "#fb9f3a"
             ],
             [
              0.8888888888888888,
              "#fdca26"
             ],
             [
              1,
              "#f0f921"
             ]
            ],
            "type": "heatmapgl"
           }
          ],
          "histogram": [
           {
            "marker": {
             "pattern": {
              "fillmode": "overlay",
              "size": 10,
              "solidity": 0.2
             }
            },
            "type": "histogram"
           }
          ],
          "histogram2d": [
           {
            "colorbar": {
             "outlinewidth": 0,
             "ticks": ""
            },
            "colorscale": [
             [
              0,
              "#0d0887"
             ],
             [
              0.1111111111111111,
              "#46039f"
             ],
             [
              0.2222222222222222,
              "#7201a8"
             ],
             [
              0.3333333333333333,
              "#9c179e"
             ],
             [
              0.4444444444444444,
              "#bd3786"
             ],
             [
              0.5555555555555556,
              "#d8576b"
             ],
             [
              0.6666666666666666,
              "#ed7953"
             ],
             [
              0.7777777777777778,
              "#fb9f3a"
             ],
             [
              0.8888888888888888,
              "#fdca26"
             ],
             [
              1,
              "#f0f921"
             ]
            ],
            "type": "histogram2d"
           }
          ],
          "histogram2dcontour": [
           {
            "colorbar": {
             "outlinewidth": 0,
             "ticks": ""
            },
            "colorscale": [
             [
              0,
              "#0d0887"
             ],
             [
              0.1111111111111111,
              "#46039f"
             ],
             [
              0.2222222222222222,
              "#7201a8"
             ],
             [
              0.3333333333333333,
              "#9c179e"
             ],
             [
              0.4444444444444444,
              "#bd3786"
             ],
             [
              0.5555555555555556,
              "#d8576b"
             ],
             [
              0.6666666666666666,
              "#ed7953"
             ],
             [
              0.7777777777777778,
              "#fb9f3a"
             ],
             [
              0.8888888888888888,
              "#fdca26"
             ],
             [
              1,
              "#f0f921"
             ]
            ],
            "type": "histogram2dcontour"
           }
          ],
          "mesh3d": [
           {
            "colorbar": {
             "outlinewidth": 0,
             "ticks": ""
            },
            "type": "mesh3d"
           }
          ],
          "parcoords": [
           {
            "line": {
             "colorbar": {
              "outlinewidth": 0,
              "ticks": ""
             }
            },
            "type": "parcoords"
           }
          ],
          "pie": [
           {
            "automargin": true,
            "type": "pie"
           }
          ],
          "scatter": [
           {
            "marker": {
             "colorbar": {
              "outlinewidth": 0,
              "ticks": ""
             }
            },
            "type": "scatter"
           }
          ],
          "scatter3d": [
           {
            "line": {
             "colorbar": {
              "outlinewidth": 0,
              "ticks": ""
             }
            },
            "marker": {
             "colorbar": {
              "outlinewidth": 0,
              "ticks": ""
             }
            },
            "type": "scatter3d"
           }
          ],
          "scattercarpet": [
           {
            "marker": {
             "colorbar": {
              "outlinewidth": 0,
              "ticks": ""
             }
            },
            "type": "scattercarpet"
           }
          ],
          "scattergeo": [
           {
            "marker": {
             "colorbar": {
              "outlinewidth": 0,
              "ticks": ""
             }
            },
            "type": "scattergeo"
           }
          ],
          "scattergl": [
           {
            "marker": {
             "colorbar": {
              "outlinewidth": 0,
              "ticks": ""
             }
            },
            "type": "scattergl"
           }
          ],
          "scattermapbox": [
           {
            "marker": {
             "colorbar": {
              "outlinewidth": 0,
              "ticks": ""
             }
            },
            "type": "scattermapbox"
           }
          ],
          "scatterpolar": [
           {
            "marker": {
             "colorbar": {
              "outlinewidth": 0,
              "ticks": ""
             }
            },
            "type": "scatterpolar"
           }
          ],
          "scatterpolargl": [
           {
            "marker": {
             "colorbar": {
              "outlinewidth": 0,
              "ticks": ""
             }
            },
            "type": "scatterpolargl"
           }
          ],
          "scatterternary": [
           {
            "marker": {
             "colorbar": {
              "outlinewidth": 0,
              "ticks": ""
             }
            },
            "type": "scatterternary"
           }
          ],
          "surface": [
           {
            "colorbar": {
             "outlinewidth": 0,
             "ticks": ""
            },
            "colorscale": [
             [
              0,
              "#0d0887"
             ],
             [
              0.1111111111111111,
              "#46039f"
             ],
             [
              0.2222222222222222,
              "#7201a8"
             ],
             [
              0.3333333333333333,
              "#9c179e"
             ],
             [
              0.4444444444444444,
              "#bd3786"
             ],
             [
              0.5555555555555556,
              "#d8576b"
             ],
             [
              0.6666666666666666,
              "#ed7953"
             ],
             [
              0.7777777777777778,
              "#fb9f3a"
             ],
             [
              0.8888888888888888,
              "#fdca26"
             ],
             [
              1,
              "#f0f921"
             ]
            ],
            "type": "surface"
           }
          ],
          "table": [
           {
            "cells": {
             "fill": {
              "color": "#EBF0F8"
             },
             "line": {
              "color": "white"
             }
            },
            "header": {
             "fill": {
              "color": "#C8D4E3"
             },
             "line": {
              "color": "white"
             }
            },
            "type": "table"
           }
          ]
         },
         "layout": {
          "annotationdefaults": {
           "arrowcolor": "#2a3f5f",
           "arrowhead": 0,
           "arrowwidth": 1
          },
          "autotypenumbers": "strict",
          "coloraxis": {
           "colorbar": {
            "outlinewidth": 0,
            "ticks": ""
           }
          },
          "colorscale": {
           "diverging": [
            [
             0,
             "#8e0152"
            ],
            [
             0.1,
             "#c51b7d"
            ],
            [
             0.2,
             "#de77ae"
            ],
            [
             0.3,
             "#f1b6da"
            ],
            [
             0.4,
             "#fde0ef"
            ],
            [
             0.5,
             "#f7f7f7"
            ],
            [
             0.6,
             "#e6f5d0"
            ],
            [
             0.7,
             "#b8e186"
            ],
            [
             0.8,
             "#7fbc41"
            ],
            [
             0.9,
             "#4d9221"
            ],
            [
             1,
             "#276419"
            ]
           ],
           "sequential": [
            [
             0,
             "#0d0887"
            ],
            [
             0.1111111111111111,
             "#46039f"
            ],
            [
             0.2222222222222222,
             "#7201a8"
            ],
            [
             0.3333333333333333,
             "#9c179e"
            ],
            [
             0.4444444444444444,
             "#bd3786"
            ],
            [
             0.5555555555555556,
             "#d8576b"
            ],
            [
             0.6666666666666666,
             "#ed7953"
            ],
            [
             0.7777777777777778,
             "#fb9f3a"
            ],
            [
             0.8888888888888888,
             "#fdca26"
            ],
            [
             1,
             "#f0f921"
            ]
           ],
           "sequentialminus": [
            [
             0,
             "#0d0887"
            ],
            [
             0.1111111111111111,
             "#46039f"
            ],
            [
             0.2222222222222222,
             "#7201a8"
            ],
            [
             0.3333333333333333,
             "#9c179e"
            ],
            [
             0.4444444444444444,
             "#bd3786"
            ],
            [
             0.5555555555555556,
             "#d8576b"
            ],
            [
             0.6666666666666666,
             "#ed7953"
            ],
            [
             0.7777777777777778,
             "#fb9f3a"
            ],
            [
             0.8888888888888888,
             "#fdca26"
            ],
            [
             1,
             "#f0f921"
            ]
           ]
          },
          "colorway": [
           "#636efa",
           "#EF553B",
           "#00cc96",
           "#ab63fa",
           "#FFA15A",
           "#19d3f3",
           "#FF6692",
           "#B6E880",
           "#FF97FF",
           "#FECB52"
          ],
          "font": {
           "color": "#2a3f5f"
          },
          "geo": {
           "bgcolor": "white",
           "lakecolor": "white",
           "landcolor": "#E5ECF6",
           "showlakes": true,
           "showland": true,
           "subunitcolor": "white"
          },
          "hoverlabel": {
           "align": "left"
          },
          "hovermode": "closest",
          "mapbox": {
           "style": "light"
          },
          "paper_bgcolor": "white",
          "plot_bgcolor": "#E5ECF6",
          "polar": {
           "angularaxis": {
            "gridcolor": "white",
            "linecolor": "white",
            "ticks": ""
           },
           "bgcolor": "#E5ECF6",
           "radialaxis": {
            "gridcolor": "white",
            "linecolor": "white",
            "ticks": ""
           }
          },
          "scene": {
           "xaxis": {
            "backgroundcolor": "#E5ECF6",
            "gridcolor": "white",
            "gridwidth": 2,
            "linecolor": "white",
            "showbackground": true,
            "ticks": "",
            "zerolinecolor": "white"
           },
           "yaxis": {
            "backgroundcolor": "#E5ECF6",
            "gridcolor": "white",
            "gridwidth": 2,
            "linecolor": "white",
            "showbackground": true,
            "ticks": "",
            "zerolinecolor": "white"
           },
           "zaxis": {
            "backgroundcolor": "#E5ECF6",
            "gridcolor": "white",
            "gridwidth": 2,
            "linecolor": "white",
            "showbackground": true,
            "ticks": "",
            "zerolinecolor": "white"
           }
          },
          "shapedefaults": {
           "line": {
            "color": "#2a3f5f"
           }
          },
          "ternary": {
           "aaxis": {
            "gridcolor": "white",
            "linecolor": "white",
            "ticks": ""
           },
           "baxis": {
            "gridcolor": "white",
            "linecolor": "white",
            "ticks": ""
           },
           "bgcolor": "#E5ECF6",
           "caxis": {
            "gridcolor": "white",
            "linecolor": "white",
            "ticks": ""
           }
          },
          "title": {
           "x": 0.05
          },
          "xaxis": {
           "automargin": true,
           "gridcolor": "white",
           "linecolor": "white",
           "ticks": "",
           "title": {
            "standoff": 15
           },
           "zerolinecolor": "white",
           "zerolinewidth": 2
          },
          "yaxis": {
           "automargin": true,
           "gridcolor": "white",
           "linecolor": "white",
           "ticks": "",
           "title": {
            "standoff": 15
           },
           "zerolinecolor": "white",
           "zerolinewidth": 2
          }
         }
        },
        "xaxis": {
         "rangeslider": {
          "visible": false
         }
        }
       }
      },
      "text/html": [
       "<div>                            <div id=\"5664df93-a5d7-4634-9f49-aa997274bb52\" class=\"plotly-graph-div\" style=\"height:525px; width:100%;\"></div>            <script type=\"text/javascript\">                require([\"plotly\"], function(Plotly) {                    window.PLOTLYENV=window.PLOTLYENV || {};                                    if (document.getElementById(\"5664df93-a5d7-4634-9f49-aa997274bb52\")) {                    Plotly.newPlot(                        \"5664df93-a5d7-4634-9f49-aa997274bb52\",                        [{\"close\":[31870.282842702174,34506.09351678513,34457.40293230789,36189.09557760313,34799.292228211154,33681.5822850027,33788.207267828875,34603.24157697668,35440.42932063159,34170.772857664364,34147.13658189322,34246.71829329822,32573.54933910897,34062.786215912936,33686.07436203849,34461.45412976572,33153.00356201394,32572.967297791212,33094.153413666376,31850.536936755874,31602.173424744837,31704.688442213668,31614.674467917328,30965.831960798874,29599.878053104498,32119.049551483193,32265.141094760842,33367.693485902804,34055.86702129894,34624.035757887905,37985.92884318645],\"high\":[32073.289849498153,34506.09351678513,35171.13494288244,36412.01247648199,36029.85103090064,35171.486304850056,33788.207267828875,34915.17322079939,35999.840043982294,35394.213074080915,34981.755700304995,34896.269656399796,33932.25463831538,34062.786215912936,34247.22432592896,34596.64004809614,34596.99339452244,33327.47500740664,33094.153413666376,33098.66196408383,32196.821371601978,31973.261936093702,32239.857247080956,31931.418111985462,30974.89741294752,32268.75632013073,32540.290282033486,33367.693485902804,34458.7530055462,34749.94248766742,38714.2748832547],\"low\":[30141.461625285207,32023.973901774916,34152.18048985769,34397.35580929206,34252.392987535735,33056.06984957891,32848.17762411341,33497.64409129388,34564.75484158307,33477.87078436605,33790.483678277575,34197.818306808476,32419.56430894397,32406.32880615089,33407.34322168862,33516.67524865833,32882.912733476354,32418.78152105939,31856.382636639722,31372.65349362719,31174.142553818387,31340.32262847881,31262.148761343185,30693.310472907266,29599.878053104498,29659.302838263677,31920.42944276937,32180.828599176322,33518.753513625445,33984.60899822343,35527.01136703237],\"open\":[30141.461625285207,32023.973901774916,34624.69013425728,34556.8421269449,35968.993667970346,35171.486304850056,33655.70045004469,33950.786555181,34788.71456063152,35394.213074080915,33906.62831880534,34197.818306808476,33932.25463831538,32933.578199292395,33971.297749757956,33667.12278855632,34295.402707625595,33260.852775127205,32728.91957929776,32878.50187357147,31686.63517370822,31404.36550884456,31588.6713510167,31919.393922554555,30928.211908849244,29916.705053538768,32313.670421157323,32385.972609683973,33518.753513625445,34296.872673341044,35527.01136703237],\"type\":\"candlestick\",\"x\":[\"2021-06-26T09:02:11.255000\",\"2021-06-26T10:00:10.439000\",\"2021-06-26T11:00:10.906000\",\"2021-06-26T12:00:50.549000\",\"2021-06-26T13:02:06.711000\",\"2021-06-26T14:01:08.736000\",\"2021-06-26T15:00:33.194000\",\"2021-06-26T16:01:02.651000\",\"2021-06-26T17:01:14.445000\",\"2021-06-26T18:00:20.132000\",\"2021-06-26T19:00:43.651000\",\"2021-06-26T20:00:07.370000\",\"2021-06-26T21:00:07.301000\",\"2021-06-26T22:00:55.286000\",\"2021-06-26T23:00:19.397000\",\"2021-06-27T00:00:16.717000\",\"2021-06-27T01:01:26.096000\",\"2021-06-27T02:01:17.676000\",\"2021-06-27T03:00:55.275000\",\"2021-06-27T04:01:38.911000\",\"2021-06-27T05:01:31.119000\",\"2021-06-27T06:01:22.025000\",\"2021-06-27T07:01:31.228000\",\"2021-06-27T08:10:55.080000\",\"2021-06-27T09:00:02.893000\",\"2021-06-27T10:00:42.797000\",\"2021-06-27T11:01:59.845000\",\"2021-06-27T12:02:02.872000\",\"2021-06-27T13:02:15.238000\",\"2021-06-27T14:00:32.213000\",\"2021-06-27T15:01:31.984000\",\"2021-06-27T16:02:11.417000\",\"2021-06-27T17:00:56.546000\",\"2021-06-27T18:00:31.440000\",\"2021-06-27T19:01:17.495000\",\"2021-06-27T20:01:15.563000\",\"2021-06-27T21:00:26.180000\",\"2021-06-27T22:01:45.882000\",\"2021-06-27T23:01:54.218000\",\"2021-06-28T00:01:11.532000\",\"2021-06-28T01:01:08.369000\",\"2021-06-28T02:01:51.344000\",\"2021-06-28T03:00:33.939000\",\"2021-06-28T04:00:39.980000\",\"2021-06-28T05:01:07.010000\",\"2021-06-28T06:01:09.521000\",\"2021-06-28T07:00:23.049000\",\"2021-06-28T08:01:22.906000\",\"2021-06-28T09:02:18.433000\",\"2021-06-28T10:00:49.044000\",\"2021-06-28T11:02:17.113000\",\"2021-06-28T12:02:43.141000\",\"2021-06-28T13:01:03.692000\",\"2021-06-28T14:01:26.752000\",\"2021-06-28T15:00:54.451000\",\"2021-06-28T16:36:41.127000\",\"2021-06-28T17:01:38.264000\",\"2021-06-28T18:02:02\",\"2021-06-28T19:01:03.694000\",\"2021-06-28T20:02:04.194000\",\"2021-06-28T21:01:19.276000\",\"2021-06-28T22:01:44.124000\",\"2021-06-28T23:01:41.111000\",\"2021-06-29T00:02:01.905000\",\"2021-06-29T01:01:22.953000\",\"2021-06-29T02:00:44.806000\",\"2021-06-29T03:01:52.460000\",\"2021-06-29T04:02:59.677000\",\"2021-06-29T05:01:05.216000\",\"2021-06-29T06:02:13.457000\",\"2021-06-29T07:01:32.261000\",\"2021-06-29T08:00:28.884000\",\"2021-06-29T09:01:30.773000\",\"2021-06-29T10:01:18.218000\",\"2021-06-29T11:03:04.986000\",\"2021-06-29T12:02:35.053000\",\"2021-06-29T13:01:24.178000\",\"2021-06-29T14:01:50.755000\",\"2021-06-29T15:00:33.098000\",\"2021-06-29T16:01:25.694000\",\"2021-06-29T17:01:04.183000\",\"2021-06-29T18:02:43.375000\",\"2021-06-29T19:01:39.395000\",\"2021-06-29T20:01:10.046000\",\"2021-06-29T21:01:14.579000\",\"2021-06-29T22:01:26.864000\",\"2021-06-29T23:01:12.688000\",\"2021-06-30T00:01:20.148000\",\"2021-06-30T01:03:47.236000\",\"2021-06-30T02:01:41.245000\",\"2021-06-30T03:01:41.299000\",\"2021-06-30T04:02:07.450000\",\"2021-06-30T05:01:06.165000\",\"2021-06-30T06:01:45.032000\",\"2021-06-30T07:02:09.796000\",\"2021-06-30T08:01:08.098000\",\"2021-06-30T09:02:26.276000\",\"2021-06-30T10:01:43.289000\",\"2021-06-30T11:02:34.341000\",\"2021-06-30T12:01:50.889000\",\"2021-06-30T13:01:14.743000\",\"2021-06-30T14:01:42.229000\",\"2021-06-30T15:00:49.402000\",\"2021-06-30T16:00:25.036000\",\"2021-06-30T17:02:06.728000\",\"2021-06-30T18:00:51.017000\",\"2021-06-30T19:00:41.293000\",\"2021-06-30T20:01:42.757000\",\"2021-06-30T21:01:23.685000\",\"2021-06-30T22:00:50.947000\",\"2021-06-30T23:02:01.845000\",\"2021-07-01T00:00:32.327000\",\"2021-07-01T01:01:22.634000\",\"2021-07-01T02:00:46.729000\",\"2021-07-01T03:03:49.526000\",\"2021-07-01T04:02:50.502000\",\"2021-07-01T05:02:18.311000\",\"2021-07-01T07:02:13.851000\",\"2021-07-01T08:01:42.785000\",\"2021-07-01T09:02:28.445000\",\"2021-07-01T10:02:49.440000\",\"2021-07-01T11:01:59.306000\",\"2021-07-01T12:03:09.284000\",\"2021-07-01T13:02:06.805000\",\"2021-07-01T14:02:23.429000\",\"2021-07-01T15:02:14.763000\",\"2021-07-01T16:02:05.582000\",\"2021-07-01T17:01:05.641000\",\"2021-07-01T18:02:16.961000\",\"2021-07-01T19:02:53.948000\",\"2021-07-01T20:01:43.055000\",\"2021-07-01T21:02:53.248000\",\"2021-07-01T22:02:02.505000\",\"2021-07-01T23:02:00.651000\",\"2021-07-02T00:04:56.829000\",\"2021-07-02T01:02:00.329000\",\"2021-07-02T02:01:30.594000\",\"2021-07-02T03:01:13.952000\",\"2021-07-02T04:03:10.032000\",\"2021-07-02T05:01:33.440000\",\"2021-07-02T06:03:19.719000\",\"2021-07-02T07:02:01.762000\",\"2021-07-02T08:02:38.374000\",\"2021-07-02T09:02:09.879000\",\"2021-07-02T10:03:52.099000\",\"2021-07-02T11:01:19.691000\",\"2021-07-02T12:01:03.286000\",\"2021-07-02T13:00:29.039000\",\"2021-07-02T14:01:53.559000\",\"2021-07-02T15:02:24.862000\",\"2021-07-02T16:01:43.904000\",\"2021-07-02T17:01:44.551000\",\"2021-07-02T18:00:49.005000\",\"2021-07-02T19:01:13.063000\",\"2021-07-02T20:01:55.848000\",\"2021-07-02T21:01:32.098000\",\"2021-07-02T22:01:49.322000\",\"2021-07-02T23:01:31.726000\",\"2021-07-03T00:01:21.186000\",\"2021-07-03T01:01:18.076000\",\"2021-07-03T02:01:20.498000\",\"2021-07-03T03:01:53.699000\",\"2021-07-03T04:01:22.120000\",\"2021-07-03T05:01:33.384000\",\"2021-07-03T06:01:00.061000\",\"2021-07-03T07:01:20.638000\",\"2021-07-03T08:01:38.319000\",\"2021-07-03T09:01:13.965000\",\"2021-07-03T10:01:25.931000\",\"2021-07-03T11:01:15.948000\",\"2021-07-03T12:00:30.330000\",\"2021-07-03T13:01:12.807000\",\"2021-07-03T14:00:31.155000\",\"2021-07-03T15:01:48.308000\",\"2021-07-03T16:00:45.056000\",\"2021-07-03T17:01:20.864000\",\"2021-07-03T18:02:42.108000\",\"2021-07-03T19:01:32.651000\",\"2021-07-03T20:02:34.029000\",\"2021-07-03T21:00:29.988000\",\"2021-07-03T22:01:52.534000\",\"2021-07-03T23:01:50.877000\",\"2021-07-04T00:01:38.268000\",\"2021-07-04T01:00:00.918000\",\"2021-07-04T02:01:41.975000\",\"2021-07-04T03:01:05.774000\",\"2021-07-04T04:01:06.960000\",\"2021-07-04T05:01:01.346000\",\"2021-07-04T06:01:01.564000\",\"2021-07-04T07:01:27.567000\",\"2021-07-04T08:00:48.722000\",\"2021-07-04T09:01:02.396000\",\"2021-07-04T10:00:00.385000\",\"2021-07-04T11:01:12.469000\",\"2021-07-04T12:00:48.048000\",\"2021-07-04T13:02:16.173000\",\"2021-07-04T14:00:48.411000\",\"2021-07-04T15:01:42.626000\",\"2021-07-04T16:00:50.751000\",\"2021-07-04T17:01:08.567000\",\"2021-07-04T18:01:31.220000\",\"2021-07-04T19:01:51.859000\",\"2021-07-04T20:02:14.801000\",\"2021-07-04T21:01:17.024000\",\"2021-07-04T22:00:58.345000\",\"2021-07-04T23:01:02.152000\",\"2021-07-05T00:01:51.401000\",\"2021-07-05T01:00:24.239000\",\"2021-07-05T02:01:54.259000\",\"2021-07-05T03:01:46.860000\",\"2021-07-05T04:02:19.336000\",\"2021-07-05T05:01:05.155000\",\"2021-07-05T06:00:57.816000\",\"2021-07-05T07:00:02.826000\",\"2021-07-05T08:00:52.436000\",\"2021-07-05T09:00:54.923000\",\"2021-07-05T10:01:55.694000\",\"2021-07-05T11:01:00.642000\",\"2021-07-05T12:01:03.589000\",\"2021-07-05T13:02:02.546000\",\"2021-07-05T14:00:47.757000\",\"2021-07-05T15:01:19.708000\",\"2021-07-05T16:01:12.231000\",\"2021-07-05T17:01:07.306000\",\"2021-07-05T18:03:06.467000\",\"2021-07-05T19:01:06.404000\",\"2021-07-05T20:02:06.256000\",\"2021-07-05T21:01:07.941000\",\"2021-07-05T22:01:00.085000\",\"2021-07-05T23:02:18.099000\",\"2021-07-06T00:00:28.496000\",\"2021-07-06T01:01:25.173000\",\"2021-07-06T02:01:44.895000\",\"2021-07-06T03:00:57.836000\",\"2021-07-06T04:01:06.059000\",\"2021-07-06T05:00:55.618000\",\"2021-07-06T06:01:05.957000\",\"2021-07-06T07:02:50.536000\",\"2021-07-06T08:02:10.258000\",\"2021-07-06T09:01:31.142000\",\"2021-07-06T10:02:57.073000\",\"2021-07-06T11:01:35.397000\",\"2021-07-06T12:00:34.505000\",\"2021-07-06T13:00:46.590000\",\"2021-07-06T15:00:52.384000\",\"2021-07-06T15:05:36.608000\",\"2021-07-06T15:07:07.170000\",\"2021-07-06T16:01:26.651000\",\"2021-07-06T17:00:59.407000\",\"2021-07-06T18:01:35.110000\",\"2021-07-06T19:01:32.981000\",\"2021-07-06T20:00:10.360000\",\"2021-07-06T21:01:11.981000\",\"2021-07-06T22:00:29.613000\",\"2021-07-06T23:00:49.042000\",\"2021-07-07T00:01:15.151000\",\"2021-07-07T01:00:52.236000\",\"2021-07-07T02:00:20.377000\",\"2021-07-07T03:01:04.732000\",\"2021-07-07T04:01:04.065000\",\"2021-07-07T05:01:05.944000\",\"2021-07-07T06:02:47.674000\",\"2021-07-07T07:00:21.306000\",\"2021-07-07T08:01:10.703000\",\"2021-07-07T09:01:23.899000\",\"2021-07-07T10:01:46.995000\",\"2021-07-07T11:01:29.521000\",\"2021-07-07T12:00:25.480000\",\"2021-07-07T13:01:11.205000\",\"2021-07-07T14:01:24.260000\",\"2021-07-07T15:01:46.643000\",\"2021-07-07T16:00:59.318000\",\"2021-07-07T17:00:11.698000\",\"2021-07-07T18:00:16.550000\",\"2021-07-07T19:01:03.004000\",\"2021-07-07T20:01:20.118000\",\"2021-07-07T21:00:38.334000\",\"2021-07-07T22:00:26.993000\",\"2021-07-07T23:01:11.895000\",\"2021-07-08T00:01:11.845000\",\"2021-07-08T01:01:07.146000\",\"2021-07-08T02:01:43.084000\",\"2021-07-08T03:00:33.112000\",\"2021-07-08T04:01:23.064000\",\"2021-07-08T05:00:11.349000\",\"2021-07-08T06:00:06.581000\",\"2021-07-08T07:01:11.756000\",\"2021-07-08T08:02:15.377000\",\"2021-07-08T09:00:33.488000\",\"2021-07-08T10:01:02.541000\",\"2021-07-08T11:00:07.014000\",\"2021-07-08T12:01:17.970000\",\"2021-07-08T13:01:26.750000\",\"2021-07-08T14:01:27.042000\",\"2021-07-08T15:02:09.817000\",\"2021-07-08T16:00:07.595000\",\"2021-07-08T17:00:48.357000\",\"2021-07-08T18:00:45.230000\",\"2021-07-08T19:00:03.929000\",\"2021-07-08T20:00:34.467000\",\"2021-07-08T21:00:35.672000\",\"2021-07-08T22:01:29.934000\",\"2021-07-08T23:00:34.171000\",\"2021-07-09T00:19:52.905000\",\"2021-07-09T01:03:03.825000\",\"2021-07-09T02:01:31.141000\",\"2021-07-09T03:00:53.913000\",\"2021-07-09T04:01:06.743000\",\"2021-07-09T05:00:05.938000\",\"2021-07-09T06:00:52.452000\",\"2021-07-09T07:00:57.084000\",\"2021-07-09T08:01:28.984000\",\"2021-07-09T09:01:46.518000\",\"2021-07-09T10:01:01.503000\",\"2021-07-09T11:00:47.094000\",\"2021-07-09T12:01:20.319000\",\"2021-07-09T13:01:16.177000\",\"2021-07-09T14:01:36.091000\",\"2021-07-09T15:01:11.306000\",\"2021-07-09T16:01:30.403000\",\"2021-07-09T17:01:00.304000\",\"2021-07-09T18:01:20.681000\",\"2021-07-09T19:01:08.231000\",\"2021-07-09T20:00:48.748000\",\"2021-07-09T21:02:30.192000\",\"2021-07-09T22:01:38.963000\",\"2021-07-09T23:02:15.170000\",\"2021-07-10T00:01:07.029000\",\"2021-07-10T01:00:36.221000\",\"2021-07-10T02:00:49.119000\",\"2021-07-10T03:00:28.327000\",\"2021-07-10T04:01:12.700000\",\"2021-07-10T05:02:09.473000\",\"2021-07-10T06:00:59.544000\",\"2021-07-10T07:01:03.315000\",\"2021-07-10T08:01:16.198000\",\"2021-07-10T09:00:08.912000\",\"2021-07-10T10:00:25.890000\",\"2021-07-10T11:00:21.220000\",\"2021-07-10T12:00:13.462000\",\"2021-07-10T13:01:01.134000\",\"2021-07-10T14:01:04.156000\",\"2021-07-10T15:01:41.756000\",\"2021-07-10T16:00:07.635000\",\"2021-07-10T17:01:46.892000\",\"2021-07-10T18:00:13.337000\",\"2021-07-10T19:01:27.292000\",\"2021-07-10T20:02:06.425000\",\"2021-07-10T21:01:24.719000\",\"2021-07-10T22:00:39.849000\",\"2021-07-10T23:01:18.815000\",\"2021-07-11T00:02:15.914000\",\"2021-07-11T01:00:17.752000\",\"2021-07-11T02:01:11.409000\",\"2021-07-11T03:00:28.016000\",\"2021-07-11T04:02:18.325000\",\"2021-07-11T05:00:24.188000\",\"2021-07-11T06:00:05.938000\",\"2021-07-11T07:00:40.848000\",\"2021-07-11T08:00:08.278000\",\"2021-07-11T09:01:28.319000\",\"2021-07-11T10:00:08.121000\",\"2021-07-11T11:01:03.227000\",\"2021-07-11T12:01:19.985000\",\"2021-07-11T13:01:07.717000\",\"2021-07-11T14:00:41.411000\",\"2021-07-11T15:00:16.902000\",\"2021-07-11T16:01:42.840000\",\"2021-07-11T17:01:02.112000\",\"2021-07-11T18:00:21.678000\",\"2021-07-11T19:01:12.591000\",\"2021-07-11T20:00:54.526000\",\"2021-07-11T21:01:34.600000\",\"2021-07-11T22:00:39.183000\",\"2021-07-11T23:01:19.788000\",\"2021-07-12T00:02:17.149000\",\"2021-07-12T01:00:03.036000\",\"2021-07-12T02:01:30.377000\",\"2021-07-12T03:01:04.690000\",\"2021-07-12T04:01:38.120000\",\"2021-07-12T05:01:03.948000\",\"2021-07-12T06:01:40.724000\",\"2021-07-12T07:00:49.676000\",\"2021-07-12T08:00:25.967000\",\"2021-07-12T09:01:16.432000\",\"2021-07-12T10:01:10.301000\",\"2021-07-12T11:03:35.794000\",\"2021-07-12T12:03:22.217000\",\"2021-07-12T13:00:51.522000\",\"2021-07-12T14:02:06.274000\",\"2021-07-12T15:00:51.171000\",\"2021-07-12T16:01:20.143000\",\"2021-07-12T17:00:18.624000\",\"2021-07-12T18:02:39.914000\",\"2021-07-12T19:00:53.424000\",\"2021-07-12T20:00:22.985000\",\"2021-07-12T21:00:13.106000\",\"2021-07-12T22:01:54.077000\",\"2021-07-12T23:01:18.302000\",\"2021-07-13T00:01:16.980000\",\"2021-07-13T01:02:41.764000\",\"2021-07-13T02:00:30.861000\",\"2021-07-13T03:01:23.599000\",\"2021-07-13T04:00:38.407000\",\"2021-07-13T05:01:07.418000\",\"2021-07-13T06:00:06.126000\",\"2021-07-13T07:02:21.441000\",\"2021-07-13T08:02:03.762000\",\"2021-07-13T09:00:08.265000\",\"2021-07-13T10:00:48.826000\",\"2021-07-13T11:00:59.784000\",\"2021-07-13T12:01:39.693000\",\"2021-07-13T13:01:16.639000\",\"2021-07-13T14:01:54.380000\",\"2021-07-13T15:00:16.795000\",\"2021-07-13T16:00:13.208000\",\"2021-07-13T17:00:18.169000\",\"2021-07-13T18:00:57.792000\",\"2021-07-13T19:00:41.091000\",\"2021-07-13T20:00:47.253000\",\"2021-07-13T21:00:12.597000\",\"2021-07-13T22:02:05.103000\",\"2021-07-13T23:01:51.494000\",\"2021-07-14T00:01:48.099000\",\"2021-07-14T01:01:26.346000\",\"2021-07-14T02:01:24.217000\",\"2021-07-14T03:01:39.107000\",\"2021-07-14T04:01:33.122000\",\"2021-07-14T05:01:40.733000\",\"2021-07-14T06:00:48.510000\",\"2021-07-14T07:01:01.508000\",\"2021-07-14T08:00:46.938000\",\"2021-07-14T09:00:54.714000\",\"2021-07-14T10:01:16.962000\",\"2021-07-14T11:01:25.573000\",\"2021-07-14T12:01:39.754000\",\"2021-07-14T13:00:56.877000\",\"2021-07-14T14:01:14.064000\",\"2021-07-14T15:00:55.035000\",\"2021-07-14T16:01:27.100000\",\"2021-07-14T17:01:04.574000\",\"2021-07-14T18:00:54.447000\",\"2021-07-14T19:01:09.938000\",\"2021-07-14T20:01:01.567000\",\"2021-07-14T21:01:52.997000\",\"2021-07-14T22:01:21.287000\",\"2021-07-14T23:01:35.285000\",\"2021-07-15T00:01:16.066000\",\"2021-07-15T01:01:23.166000\",\"2021-07-15T02:01:17.695000\",\"2021-07-15T03:00:24.218000\",\"2021-07-15T04:00:21.948000\",\"2021-07-15T05:01:06.384000\",\"2021-07-15T06:01:20.748000\",\"2021-07-15T07:02:27.188000\",\"2021-07-15T08:01:31.854000\",\"2021-07-15T09:00:28.069000\",\"2021-07-15T10:00:43.866000\",\"2021-07-15T11:02:01.928000\",\"2021-07-15T12:02:05.313000\",\"2021-07-15T13:01:54.864000\",\"2021-07-15T14:00:46.862000\",\"2021-07-15T15:00:51.402000\",\"2021-07-15T16:02:01.604000\",\"2021-07-15T17:02:12.426000\",\"2021-07-15T18:01:37.804000\",\"2021-07-15T19:00:28.202000\",\"2021-07-15T20:01:05.102000\",\"2021-07-15T21:01:17.381000\",\"2021-07-15T22:01:42.496000\",\"2021-07-15T23:00:11.067000\",\"2021-07-16T00:00:08.545000\",\"2021-07-16T01:01:55.809000\",\"2021-07-16T02:00:59.676000\",\"2021-07-16T03:01:34.836000\",\"2021-07-16T04:00:47.874000\",\"2021-07-16T05:01:54.595000\",\"2021-07-16T06:00:57.315000\",\"2021-07-16T07:01:35.970000\",\"2021-07-16T08:01:32.406000\",\"2021-07-16T09:00:36.647000\",\"2021-07-16T10:02:02.183000\",\"2021-07-16T11:01:13.664000\",\"2021-07-16T12:00:49.458000\",\"2021-07-16T13:00:58.241000\",\"2021-07-16T14:01:03.135000\",\"2021-07-16T15:00:52.914000\",\"2021-07-16T16:00:58.204000\",\"2021-07-16T17:01:26.667000\",\"2021-07-16T18:01:09.664000\",\"2021-07-16T19:00:52.519000\",\"2021-07-16T20:00:57.676000\",\"2021-07-16T21:01:15.457000\",\"2021-07-16T22:01:17.231000\",\"2021-07-16T23:01:36.366000\",\"2021-07-17T00:01:48.678000\",\"2021-07-17T01:01:37.987000\",\"2021-07-17T02:01:31.961000\",\"2021-07-17T03:00:03.712000\",\"2021-07-17T04:00:03.803000\",\"2021-07-17T05:01:15.109000\",\"2021-07-17T06:02:25.077000\",\"2021-07-17T07:01:23.071000\",\"2021-07-17T08:02:21.829000\",\"2021-07-17T09:01:23.033000\",\"2021-07-17T10:00:56.079000\",\"2021-07-17T11:00:50.780000\",\"2021-07-17T12:02:15.923000\",\"2021-07-17T13:01:56.850000\",\"2021-07-17T14:00:20.296000\",\"2021-07-17T15:01:19.562000\",\"2021-07-17T16:00:59.449000\",\"2021-07-17T17:01:03.486000\",\"2021-07-17T18:01:47.496000\",\"2021-07-17T19:00:54.311000\",\"2021-07-17T20:01:02.228000\",\"2021-07-17T21:00:53.389000\",\"2021-07-17T22:01:06.400000\",\"2021-07-17T23:01:45.607000\",\"2021-07-18T00:01:19.998000\",\"2021-07-18T01:00:02.312000\",\"2021-07-18T02:00:31.495000\",\"2021-07-18T03:02:02.658000\",\"2021-07-18T04:01:03.059000\",\"2021-07-18T05:00:00.890000\",\"2021-07-18T06:00:23.654000\",\"2021-07-18T07:01:23.193000\",\"2021-07-18T08:00:28.485000\",\"2021-07-18T09:01:23.328000\",\"2021-07-18T10:00:17.711000\",\"2021-07-18T11:01:07.180000\",\"2021-07-18T12:00:06.715000\",\"2021-07-18T13:01:18.511000\",\"2021-07-18T14:00:27.707000\",\"2021-07-18T15:01:09.362000\",\"2021-07-18T16:01:21.914000\",\"2021-07-18T17:01:15.607000\",\"2021-07-18T18:01:25.990000\",\"2021-07-18T19:01:11.951000\",\"2021-07-18T20:02:02.447000\",\"2021-07-18T21:00:21.580000\",\"2021-07-18T22:02:02.686000\",\"2021-07-18T23:00:35.655000\",\"2021-07-19T00:01:02.140000\",\"2021-07-19T01:01:23.659000\",\"2021-07-19T02:01:22.256000\",\"2021-07-19T03:00:33.211000\",\"2021-07-19T04:01:09.276000\",\"2021-07-19T05:00:25.752000\",\"2021-07-19T06:01:09.658000\",\"2021-07-19T07:01:40.237000\",\"2021-07-19T08:01:14.985000\",\"2021-07-19T09:00:59.599000\",\"2021-07-19T10:00:07.126000\",\"2021-07-19T11:00:14.991000\",\"2021-07-19T12:00:31.373000\",\"2021-07-19T13:01:40.065000\",\"2021-07-19T14:01:45.829000\",\"2021-07-19T15:01:26.715000\",\"2021-07-19T16:01:43.621000\",\"2021-07-19T17:01:36.650000\",\"2021-07-19T18:01:02.682000\",\"2021-07-19T19:01:51.649000\",\"2021-07-19T20:01:14.103000\",\"2021-07-19T21:00:03.391000\",\"2021-07-19T22:01:41.930000\",\"2021-07-19T23:00:13.229000\",\"2021-07-20T00:01:45.224000\",\"2021-07-20T01:01:20.326000\",\"2021-07-20T02:01:29.002000\",\"2021-07-20T03:01:23.600000\",\"2021-07-20T04:01:58.271000\",\"2021-07-20T05:01:26.979000\",\"2021-07-20T06:00:09.622000\",\"2021-07-20T07:00:18.997000\",\"2021-07-20T08:00:41.844000\",\"2021-07-20T09:00:52.630000\",\"2021-07-20T10:01:28.967000\",\"2021-07-20T11:01:03.286000\",\"2021-07-20T12:00:38.248000\",\"2021-07-20T13:00:56.255000\",\"2021-07-20T14:01:01.726000\",\"2021-07-20T15:01:17.657000\",\"2021-07-20T16:00:36.506000\",\"2021-07-20T17:00:58.758000\",\"2021-07-20T18:00:34.990000\",\"2021-07-20T19:01:06.476000\",\"2021-07-20T20:01:18.971000\",\"2021-07-20T21:00:52.696000\",\"2021-07-20T22:00:31.068000\",\"2021-07-20T23:00:41.682000\",\"2021-07-21T00:01:27.876000\",\"2021-07-21T01:00:23.116000\",\"2021-07-21T02:01:04.526000\",\"2021-07-21T03:00:57.559000\",\"2021-07-21T04:00:53.433000\",\"2021-07-21T05:01:22.684000\",\"2021-07-21T06:00:06.059000\",\"2021-07-21T07:01:44.343000\",\"2021-07-21T08:02:56.094000\",\"2021-07-21T09:01:28.875000\",\"2021-07-21T10:00:19.692000\",\"2021-07-21T11:00:47.008000\",\"2021-07-21T12:00:38.379000\",\"2021-07-21T13:01:03.351000\",\"2021-07-21T14:00:05.324000\",\"2021-07-21T15:01:14.836000\",\"2021-07-21T16:01:21.772000\",\"2021-07-21T17:01:20.251000\",\"2021-07-21T18:01:39.332000\",\"2021-07-21T19:01:16.829000\",\"2021-07-21T20:02:11.349000\",\"2021-07-21T21:00:04.418000\",\"2021-07-21T22:01:24.056000\",\"2021-07-21T23:00:16.980000\",\"2021-07-22T00:01:44.674000\",\"2021-07-22T01:01:02.006000\",\"2021-07-22T02:01:32.909000\",\"2021-07-22T03:00:36.788000\",\"2021-07-22T04:00:54.880000\",\"2021-07-22T05:01:03.906000\",\"2021-07-22T06:00:09.304000\",\"2021-07-22T07:01:02.187000\",\"2021-07-22T08:00:27.822000\",\"2021-07-22T09:02:18.458000\",\"2021-07-22T10:01:37.841000\",\"2021-07-22T11:01:20.977000\",\"2021-07-22T12:01:05.367000\",\"2021-07-22T13:01:28.142000\",\"2021-07-22T14:00:19.603000\",\"2021-07-22T15:01:22.186000\",\"2021-07-22T16:01:20.398000\",\"2021-07-22T17:01:54.426000\",\"2021-07-22T18:01:05.864000\",\"2021-07-22T19:02:01.892000\",\"2021-07-22T20:03:01.296000\",\"2021-07-22T21:01:04.461000\",\"2021-07-22T22:01:08.065000\",\"2021-07-22T23:00:54.960000\",\"2021-07-23T00:01:06.919000\",\"2021-07-23T01:00:11.817000\",\"2021-07-23T02:01:09.191000\",\"2021-07-23T03:00:02.180000\",\"2021-07-23T04:01:51.570000\",\"2021-07-23T05:01:24.947000\",\"2021-07-23T06:01:20.464000\",\"2021-07-23T07:00:55.714000\",\"2021-07-23T08:00:15.651000\",\"2021-07-23T09:00:20.336000\",\"2021-07-23T10:00:14.518000\",\"2021-07-23T11:00:41.010000\",\"2021-07-23T12:01:09.962000\",\"2021-07-23T13:00:35.399000\",\"2021-07-23T14:00:02.868000\",\"2021-07-23T15:01:06.857000\",\"2021-07-23T16:01:38.124000\",\"2021-07-23T17:00:16.540000\",\"2021-07-23T18:01:07.055000\",\"2021-07-23T19:04:09.261000\",\"2021-07-23T20:00:51.226000\",\"2021-07-23T21:01:29.813000\",\"2021-07-23T22:01:07.058000\",\"2021-07-23T23:01:11.741000\",\"2021-07-24T00:01:23.050000\",\"2021-07-24T01:00:45.016000\",\"2021-07-24T02:02:06.529000\",\"2021-07-24T03:01:17.283000\",\"2021-07-24T04:01:35.221000\",\"2021-07-24T05:01:34.926000\",\"2021-07-24T06:00:35.318000\",\"2021-07-24T07:01:09.848000\",\"2021-07-24T08:00:35.155000\",\"2021-07-24T09:01:07.007000\",\"2021-07-24T10:01:09.069000\",\"2021-07-24T11:00:24.296000\",\"2021-07-24T12:02:10.576000\",\"2021-07-24T13:00:17.304000\",\"2021-07-24T14:00:27.713000\",\"2021-07-24T15:01:26.259000\",\"2021-07-24T16:00:47.679000\",\"2021-07-24T17:03:26.078000\",\"2021-07-24T18:01:28.979000\",\"2021-07-24T19:00:03.290000\",\"2021-07-24T20:01:32.483000\",\"2021-07-24T21:00:15.984000\",\"2021-07-24T22:00:45.454000\",\"2021-07-24T23:00:18.918000\",\"2021-07-25T00:01:09.289000\",\"2021-07-25T01:00:11.012000\",\"2021-07-25T02:02:30.768000\",\"2021-07-25T03:02:53.252000\",\"2021-07-25T04:00:38.556000\",\"2021-07-25T05:00:23.719000\",\"2021-07-25T06:00:52.521000\",\"2021-07-25T07:02:38.784000\",\"2021-07-25T08:02:12.120000\",\"2021-07-25T09:01:09.717000\",\"2021-07-25T10:01:02.396000\",\"2021-07-25T11:00:20.365000\",\"2021-07-25T12:00:05.425000\",\"2021-07-25T13:02:29.167000\",\"2021-07-25T14:00:14.952000\",\"2021-07-25T15:00:25.323000\",\"2021-07-25T16:00:54.219000\",\"2021-07-25T17:00:09\",\"2021-07-25T18:00:01.113000\",\"2021-07-25T19:00:56.088000\",\"2021-07-25T20:01:38.752000\",\"2021-07-25T21:00:16.800000\",\"2021-07-25T22:03:29.764000\",\"2021-07-25T23:01:55.365000\",\"2021-07-26T00:01:34.744000\",\"2021-07-26T01:01:33.571000\",\"2021-07-26T02:01:18.882000\",\"2021-07-26T03:01:23.185000\",\"2021-07-26T04:00:03.689000\",\"2021-07-26T05:03:13.428000\",\"2021-07-26T06:01:42.780000\",\"2021-07-26T07:01:11.096000\",\"2021-07-26T08:01:08.089000\",\"2021-07-26T08:29:44\"]}],                        {\"template\":{\"data\":{\"bar\":[{\"error_x\":{\"color\":\"#2a3f5f\"},\"error_y\":{\"color\":\"#2a3f5f\"},\"marker\":{\"line\":{\"color\":\"#E5ECF6\",\"width\":0.5},\"pattern\":{\"fillmode\":\"overlay\",\"size\":10,\"solidity\":0.2}},\"type\":\"bar\"}],\"barpolar\":[{\"marker\":{\"line\":{\"color\":\"#E5ECF6\",\"width\":0.5},\"pattern\":{\"fillmode\":\"overlay\",\"size\":10,\"solidity\":0.2}},\"type\":\"barpolar\"}],\"carpet\":[{\"aaxis\":{\"endlinecolor\":\"#2a3f5f\",\"gridcolor\":\"white\",\"linecolor\":\"white\",\"minorgridcolor\":\"white\",\"startlinecolor\":\"#2a3f5f\"},\"baxis\":{\"endlinecolor\":\"#2a3f5f\",\"gridcolor\":\"white\",\"linecolor\":\"white\",\"minorgridcolor\":\"white\",\"startlinecolor\":\"#2a3f5f\"},\"type\":\"carpet\"}],\"choropleth\":[{\"colorbar\":{\"outlinewidth\":0,\"ticks\":\"\"},\"type\":\"choropleth\"}],\"contour\":[{\"colorbar\":{\"outlinewidth\":0,\"ticks\":\"\"},\"colorscale\":[[0.0,\"#0d0887\"],[0.1111111111111111,\"#46039f\"],[0.2222222222222222,\"#7201a8\"],[0.3333333333333333,\"#9c179e\"],[0.4444444444444444,\"#bd3786\"],[0.5555555555555556,\"#d8576b\"],[0.6666666666666666,\"#ed7953\"],[0.7777777777777778,\"#fb9f3a\"],[0.8888888888888888,\"#fdca26\"],[1.0,\"#f0f921\"]],\"type\":\"contour\"}],\"contourcarpet\":[{\"colorbar\":{\"outlinewidth\":0,\"ticks\":\"\"},\"type\":\"contourcarpet\"}],\"heatmap\":[{\"colorbar\":{\"outlinewidth\":0,\"ticks\":\"\"},\"colorscale\":[[0.0,\"#0d0887\"],[0.1111111111111111,\"#46039f\"],[0.2222222222222222,\"#7201a8\"],[0.3333333333333333,\"#9c179e\"],[0.4444444444444444,\"#bd3786\"],[0.5555555555555556,\"#d8576b\"],[0.6666666666666666,\"#ed7953\"],[0.7777777777777778,\"#fb9f3a\"],[0.8888888888888888,\"#fdca26\"],[1.0,\"#f0f921\"]],\"type\":\"heatmap\"}],\"heatmapgl\":[{\"colorbar\":{\"outlinewidth\":0,\"ticks\":\"\"},\"colorscale\":[[0.0,\"#0d0887\"],[0.1111111111111111,\"#46039f\"],[0.2222222222222222,\"#7201a8\"],[0.3333333333333333,\"#9c179e\"],[0.4444444444444444,\"#bd3786\"],[0.5555555555555556,\"#d8576b\"],[0.6666666666666666,\"#ed7953\"],[0.7777777777777778,\"#fb9f3a\"],[0.8888888888888888,\"#fdca26\"],[1.0,\"#f0f921\"]],\"type\":\"heatmapgl\"}],\"histogram\":[{\"marker\":{\"pattern\":{\"fillmode\":\"overlay\",\"size\":10,\"solidity\":0.2}},\"type\":\"histogram\"}],\"histogram2d\":[{\"colorbar\":{\"outlinewidth\":0,\"ticks\":\"\"},\"colorscale\":[[0.0,\"#0d0887\"],[0.1111111111111111,\"#46039f\"],[0.2222222222222222,\"#7201a8\"],[0.3333333333333333,\"#9c179e\"],[0.4444444444444444,\"#bd3786\"],[0.5555555555555556,\"#d8576b\"],[0.6666666666666666,\"#ed7953\"],[0.7777777777777778,\"#fb9f3a\"],[0.8888888888888888,\"#fdca26\"],[1.0,\"#f0f921\"]],\"type\":\"histogram2d\"}],\"histogram2dcontour\":[{\"colorbar\":{\"outlinewidth\":0,\"ticks\":\"\"},\"colorscale\":[[0.0,\"#0d0887\"],[0.1111111111111111,\"#46039f\"],[0.2222222222222222,\"#7201a8\"],[0.3333333333333333,\"#9c179e\"],[0.4444444444444444,\"#bd3786\"],[0.5555555555555556,\"#d8576b\"],[0.6666666666666666,\"#ed7953\"],[0.7777777777777778,\"#fb9f3a\"],[0.8888888888888888,\"#fdca26\"],[1.0,\"#f0f921\"]],\"type\":\"histogram2dcontour\"}],\"mesh3d\":[{\"colorbar\":{\"outlinewidth\":0,\"ticks\":\"\"},\"type\":\"mesh3d\"}],\"parcoords\":[{\"line\":{\"colorbar\":{\"outlinewidth\":0,\"ticks\":\"\"}},\"type\":\"parcoords\"}],\"pie\":[{\"automargin\":true,\"type\":\"pie\"}],\"scatter\":[{\"marker\":{\"colorbar\":{\"outlinewidth\":0,\"ticks\":\"\"}},\"type\":\"scatter\"}],\"scatter3d\":[{\"line\":{\"colorbar\":{\"outlinewidth\":0,\"ticks\":\"\"}},\"marker\":{\"colorbar\":{\"outlinewidth\":0,\"ticks\":\"\"}},\"type\":\"scatter3d\"}],\"scattercarpet\":[{\"marker\":{\"colorbar\":{\"outlinewidth\":0,\"ticks\":\"\"}},\"type\":\"scattercarpet\"}],\"scattergeo\":[{\"marker\":{\"colorbar\":{\"outlinewidth\":0,\"ticks\":\"\"}},\"type\":\"scattergeo\"}],\"scattergl\":[{\"marker\":{\"colorbar\":{\"outlinewidth\":0,\"ticks\":\"\"}},\"type\":\"scattergl\"}],\"scattermapbox\":[{\"marker\":{\"colorbar\":{\"outlinewidth\":0,\"ticks\":\"\"}},\"type\":\"scattermapbox\"}],\"scatterpolar\":[{\"marker\":{\"colorbar\":{\"outlinewidth\":0,\"ticks\":\"\"}},\"type\":\"scatterpolar\"}],\"scatterpolargl\":[{\"marker\":{\"colorbar\":{\"outlinewidth\":0,\"ticks\":\"\"}},\"type\":\"scatterpolargl\"}],\"scatterternary\":[{\"marker\":{\"colorbar\":{\"outlinewidth\":0,\"ticks\":\"\"}},\"type\":\"scatterternary\"}],\"surface\":[{\"colorbar\":{\"outlinewidth\":0,\"ticks\":\"\"},\"colorscale\":[[0.0,\"#0d0887\"],[0.1111111111111111,\"#46039f\"],[0.2222222222222222,\"#7201a8\"],[0.3333333333333333,\"#9c179e\"],[0.4444444444444444,\"#bd3786\"],[0.5555555555555556,\"#d8576b\"],[0.6666666666666666,\"#ed7953\"],[0.7777777777777778,\"#fb9f3a\"],[0.8888888888888888,\"#fdca26\"],[1.0,\"#f0f921\"]],\"type\":\"surface\"}],\"table\":[{\"cells\":{\"fill\":{\"color\":\"#EBF0F8\"},\"line\":{\"color\":\"white\"}},\"header\":{\"fill\":{\"color\":\"#C8D4E3\"},\"line\":{\"color\":\"white\"}},\"type\":\"table\"}]},\"layout\":{\"annotationdefaults\":{\"arrowcolor\":\"#2a3f5f\",\"arrowhead\":0,\"arrowwidth\":1},\"autotypenumbers\":\"strict\",\"coloraxis\":{\"colorbar\":{\"outlinewidth\":0,\"ticks\":\"\"}},\"colorscale\":{\"diverging\":[[0,\"#8e0152\"],[0.1,\"#c51b7d\"],[0.2,\"#de77ae\"],[0.3,\"#f1b6da\"],[0.4,\"#fde0ef\"],[0.5,\"#f7f7f7\"],[0.6,\"#e6f5d0\"],[0.7,\"#b8e186\"],[0.8,\"#7fbc41\"],[0.9,\"#4d9221\"],[1,\"#276419\"]],\"sequential\":[[0.0,\"#0d0887\"],[0.1111111111111111,\"#46039f\"],[0.2222222222222222,\"#7201a8\"],[0.3333333333333333,\"#9c179e\"],[0.4444444444444444,\"#bd3786\"],[0.5555555555555556,\"#d8576b\"],[0.6666666666666666,\"#ed7953\"],[0.7777777777777778,\"#fb9f3a\"],[0.8888888888888888,\"#fdca26\"],[1.0,\"#f0f921\"]],\"sequentialminus\":[[0.0,\"#0d0887\"],[0.1111111111111111,\"#46039f\"],[0.2222222222222222,\"#7201a8\"],[0.3333333333333333,\"#9c179e\"],[0.4444444444444444,\"#bd3786\"],[0.5555555555555556,\"#d8576b\"],[0.6666666666666666,\"#ed7953\"],[0.7777777777777778,\"#fb9f3a\"],[0.8888888888888888,\"#fdca26\"],[1.0,\"#f0f921\"]]},\"colorway\":[\"#636efa\",\"#EF553B\",\"#00cc96\",\"#ab63fa\",\"#FFA15A\",\"#19d3f3\",\"#FF6692\",\"#B6E880\",\"#FF97FF\",\"#FECB52\"],\"font\":{\"color\":\"#2a3f5f\"},\"geo\":{\"bgcolor\":\"white\",\"lakecolor\":\"white\",\"landcolor\":\"#E5ECF6\",\"showlakes\":true,\"showland\":true,\"subunitcolor\":\"white\"},\"hoverlabel\":{\"align\":\"left\"},\"hovermode\":\"closest\",\"mapbox\":{\"style\":\"light\"},\"paper_bgcolor\":\"white\",\"plot_bgcolor\":\"#E5ECF6\",\"polar\":{\"angularaxis\":{\"gridcolor\":\"white\",\"linecolor\":\"white\",\"ticks\":\"\"},\"bgcolor\":\"#E5ECF6\",\"radialaxis\":{\"gridcolor\":\"white\",\"linecolor\":\"white\",\"ticks\":\"\"}},\"scene\":{\"xaxis\":{\"backgroundcolor\":\"#E5ECF6\",\"gridcolor\":\"white\",\"gridwidth\":2,\"linecolor\":\"white\",\"showbackground\":true,\"ticks\":\"\",\"zerolinecolor\":\"white\"},\"yaxis\":{\"backgroundcolor\":\"#E5ECF6\",\"gridcolor\":\"white\",\"gridwidth\":2,\"linecolor\":\"white\",\"showbackground\":true,\"ticks\":\"\",\"zerolinecolor\":\"white\"},\"zaxis\":{\"backgroundcolor\":\"#E5ECF6\",\"gridcolor\":\"white\",\"gridwidth\":2,\"linecolor\":\"white\",\"showbackground\":true,\"ticks\":\"\",\"zerolinecolor\":\"white\"}},\"shapedefaults\":{\"line\":{\"color\":\"#2a3f5f\"}},\"ternary\":{\"aaxis\":{\"gridcolor\":\"white\",\"linecolor\":\"white\",\"ticks\":\"\"},\"baxis\":{\"gridcolor\":\"white\",\"linecolor\":\"white\",\"ticks\":\"\"},\"bgcolor\":\"#E5ECF6\",\"caxis\":{\"gridcolor\":\"white\",\"linecolor\":\"white\",\"ticks\":\"\"}},\"title\":{\"x\":0.05},\"xaxis\":{\"automargin\":true,\"gridcolor\":\"white\",\"linecolor\":\"white\",\"ticks\":\"\",\"title\":{\"standoff\":15},\"zerolinecolor\":\"white\",\"zerolinewidth\":2},\"yaxis\":{\"automargin\":true,\"gridcolor\":\"white\",\"linecolor\":\"white\",\"ticks\":\"\",\"title\":{\"standoff\":15},\"zerolinecolor\":\"white\",\"zerolinewidth\":2}}},\"xaxis\":{\"rangeslider\":{\"visible\":false}}},                        {\"responsive\": true}                    ).then(function(){\n",
       "                            \n",
       "var gd = document.getElementById('5664df93-a5d7-4634-9f49-aa997274bb52');\n",
       "var x = new MutationObserver(function (mutations, observer) {{\n",
       "        var display = window.getComputedStyle(gd).display;\n",
       "        if (!display || display === 'none') {{\n",
       "            console.log([gd, 'removed!']);\n",
       "            Plotly.purge(gd);\n",
       "            observer.disconnect();\n",
       "        }}\n",
       "}});\n",
       "\n",
       "// Listen for the removal of the full notebook cells\n",
       "var notebookContainer = gd.closest('#notebook-container');\n",
       "if (notebookContainer) {{\n",
       "    x.observe(notebookContainer, {childList: true});\n",
       "}}\n",
       "\n",
       "// Listen for the clearing of the current output cell\n",
       "var outputEl = gd.closest('.output');\n",
       "if (outputEl) {{\n",
       "    x.observe(outputEl, {childList: true});\n",
       "}}\n",
       "\n",
       "                        })                };                });            </script>        </div>"
      ]
     },
     "metadata": {},
     "output_type": "display_data"
    }
   ],
   "source": [
    "fig = go.Figure(data=[go.Candlestick(x=data['Date'],\n",
    "                open=candlestick_data['Price']['first'], \n",
    "                high=candlestick_data['Price']['max'],\n",
    "                low=candlestick_data['Price']['min'], \n",
    "                close=candlestick_data['Price']['last'])\n",
    "                ])\n",
    "\n",
    "fig.update_layout(xaxis_rangeslider_visible=False)\n",
    "\n",
    "fig.show()"
   ]
  },
  {
   "cell_type": "markdown",
   "metadata": {
    "id": "VcU9uTkkYB2n"
   },
   "source": [
    "## Authors:\n",
    "\n",
    "## Change Log\n",
    "\n",
    "| Date (YYYY-MM-DD) | Version | Changed By    | Change Description                 |\n",
    "| ----------------- | ------- | ------------- | ---------------------------------- |\n",
    "| 2020-11-23        | 3.0     | Azim Hirjani  | New API                            |\n",
    "| 2020-09-09        | 2.1     | Malika Singla | Spell Check                        |\n",
    "| 2020-08-26        | 2.0     | Lavanya       | Moved lab to course repo in GitLab |\n",
    "|                   |         |               |                                    |\n",
    "\n",
    "<hr/>\n",
    "\n",
    "## <h3 align=\"center\"> © IBM Corporation 2020. All rights reserved. <h3/>\n"
   ]
  },
  {
   "cell_type": "code",
   "execution_count": null,
   "metadata": {
    "id": "Yzd4CGhAYB2o"
   },
   "outputs": [],
   "source": []
  }
 ],
 "metadata": {
  "colab": {
   "name": "Lab 10-Creating_Simple_API_2__v2.ipynb",
   "provenance": []
  },
  "kernelspec": {
   "display_name": "Python 3",
   "language": "python",
   "name": "python3"
  },
  "language_info": {
   "codemirror_mode": {
    "name": "ipython",
    "version": 3
   },
   "file_extension": ".py",
   "mimetype": "text/x-python",
   "name": "python",
   "nbconvert_exporter": "python",
   "pygments_lexer": "ipython3",
   "version": "3.8.5"
  }
 },
 "nbformat": 4,
 "nbformat_minor": 4
}
