{
 "cells": [
  {
   "cell_type": "markdown",
   "metadata": {
    "id": "3X9DCItLsDQB"
   },
   "source": [
    "# Setup Notebook\n"
   ]
  },
  {
   "cell_type": "code",
   "execution_count": 1,
   "metadata": {
    "colab": {
     "base_uri": "https://localhost:8080/",
     "height": 35
    },
    "id": "BHcLSzC-rVQR",
    "outputId": "3f77822f-67d1-4fa5-8786-fecf369de327"
   },
   "outputs": [
    {
     "name": "stdout",
     "output_type": "stream",
     "text": [
      "Populating the interactive namespace from numpy and matplotlib\n"
     ]
    }
   ],
   "source": [
    "%pylab inline\n",
    "from scipy import *\n",
    "from numpy.linalg import norm\n",
    "from math import sqrt,sin,cos\n",
    "import pandas as pd\n",
    "import numpy as np\n",
    "from numpy import arange,array,ones,linalg"
   ]
  },
  {
   "cell_type": "markdown",
   "metadata": {
    "id": "lWc2vybysLiE"
   },
   "source": [
    "# Part 1: Mean Square Error"
   ]
  },
  {
   "cell_type": "markdown",
   "metadata": {
    "id": "2WYV2to3sSJQ"
   },
   "source": [
    "We considered the sample-mean estimator for the distribution mean. Another estimator for the distribution mean is the min-max-mean estimator that takes the mean (average) of the smallest and largest observed values. For example, for the sample {1, 2, 1, 5, 1}, the sample mean is (1+2+1+5+1)/5=2 while the min-max-mean is (1+5)/2=3. In this problem we ask you to run a simulation that approximates the mean squared error (MSE) of the two estimators for a uniform distribution.\n",
    "\n",
    "Take a continuous uniform distribution between  a  and  b  - given as parameters. Draw a 10-observation sample from this distribution, and calculate the sample-mean and the min-max-mean. Repeat the experiment 100,000 times, and for each estimator calculate its average bias as your MSE estimates.\n"
   ]
  },
  {
   "cell_type": "markdown",
   "metadata": {
    "id": "xyZPYauEs4tT"
   },
   "source": [
    "## Problem 1"
   ]
  },
  {
   "cell_type": "markdown",
   "metadata": {
    "id": "VZA6szwgs8qw"
   },
   "source": [
    "For this problem, you are asked to write a function **Sample_Mean_MSE** that experimentally calculates the MSE of the sample-mean estimator for samples drawn from uniform distribution given the bounds $a$ and $b$."
   ]
  },
  {
   "cell_type": "markdown",
   "metadata": {
    "id": "mNih370_tAxe"
   },
   "source": [
    "<font  style=\"color:blue\"> **Code:**</font>\n",
    "```python\n",
    "Sample_Mean_MSE(1,5)      \n",
    "```\n",
    "\n",
    "\n",
    "<font  style=\"color:magenta\"> **Output**</font>\n",
    "```\n",
    "0.1343368663225577\n",
    "```"
   ]
  },
  {
   "cell_type": "markdown",
   "metadata": {
    "id": "sE8aHMMM9Du2"
   },
   "source": [
    "**Write your code for Sample_Mean_MSE in the cell below:**"
   ]
  },
  {
   "cell_type": "code",
   "execution_count": 8,
   "metadata": {
    "id": "pOJUjxsOsPxy"
   },
   "outputs": [],
   "source": [
    "# modify this cell\n",
    "\n",
    "def Sample_Mean_MSE(a,b):\n",
    "    mse = 0\n",
    "    for i in range(100000):\n",
    "        x = random.uniform(a,b,10)\n",
    "        s = 0\n",
    "        for j in x:\n",
    "            s+=j\n",
    "        mse += ((a+b)/2 - (s/10))**2\n",
    "    return mse/100000\n",
    "        \n",
    "    \n",
    "    # inputs: bounds for uniform distribution a and b\n",
    "    # sample size is 10\n",
    "    # number of experiments is 100,000\n",
    "    # output: MSE for sample mean estimator with sample size 10\n",
    "    ..."
   ]
  },
  {
   "cell_type": "code",
   "execution_count": 9,
   "metadata": {
    "colab": {
     "base_uri": "https://localhost:8080/",
     "height": 72
    },
    "id": "GcIqm4DbtFNO",
    "outputId": "6816e713-846a-4263-be92-129dd5c1dd8f"
   },
   "outputs": [],
   "source": [
    "# Check Function\n",
    "assert abs(Sample_Mean_MSE(-5,5)-0.83333333333333) < 0.05\n",
    "assert abs(Sample_Mean_MSE(-10,10)-3.33333333333333) < 0.05\n",
    "\n",
    "#\n",
    "# AUTOGRADER TEST - DO NOT REMOVE\n",
    "#\n"
   ]
  },
  {
   "cell_type": "markdown",
   "metadata": {
    "id": "tq_d0mHIuIr5"
   },
   "source": [
    "## Problem 2"
   ]
  },
  {
   "cell_type": "markdown",
   "metadata": {
    "id": "NOXh2KZsuK_0"
   },
   "source": [
    "For this problem, you are asked to write a function **MinMax_Mean_MSE** that experimentally calculates the MSE of the min-max-mean estimator for samples drawn from uniform distribution given the bounds $a$ and $b$."
   ]
  },
  {
   "cell_type": "markdown",
   "metadata": {
    "id": "eRcXX8WWuQVJ"
   },
   "source": [
    "<font  style=\"color:blue\"> **Code:**</font>\n",
    "```python\n",
    "MinMax_Mean_MSE(0,10)      \n",
    "```\n",
    "\n",
    "\n",
    "<font  style=\"color:magenta\"> **Output:**</font>\n",
    "\n",
    "0.37865973633197908"
   ]
  },
  {
   "cell_type": "markdown",
   "metadata": {
    "id": "ccWMtDP19J2t"
   },
   "source": [
    "**Write your code for MinMax_Mean_MSE in the cell below:**"
   ]
  },
  {
   "cell_type": "code",
   "execution_count": 17,
   "metadata": {
    "id": "07cBkk1GttrK"
   },
   "outputs": [],
   "source": [
    "# modify this cell\n",
    "\n",
    "def MinMax_Mean_MSE(a,b):\n",
    "    mse = 0\n",
    "    for i in range(100000):\n",
    "        x = random.uniform(a,b,10)\n",
    "        s = x.min() + x.max()\n",
    "        mse += ((a+b)/2 - s/2)**2\n",
    "    return mse/100000\n",
    "    \n",
    "    # inputs: bounds for uniform distribution a and b\n",
    "    # sample size is 10\n",
    "    # number of experiments is 100,000\n",
    "    # output: MSE for sample mean estimator with sample size 10\n",
    "    ...\n"
   ]
  },
  {
   "cell_type": "code",
   "execution_count": 18,
   "metadata": {
    "colab": {
     "base_uri": "https://localhost:8080/",
     "height": 72
    },
    "id": "xcKMSyIouU5I",
    "outputId": "695795e4-6712-45ce-f6c0-24b9bb94a2b3"
   },
   "outputs": [],
   "source": [
    "# Check Function\n",
    "assert abs(MinMax_Mean_MSE(-5,5)-0.37882324043882964) < 0.05\n",
    "assert abs(MinMax_Mean_MSE(-10,10)-1.5151124438250361) < 0.05"
   ]
  },
  {
   "cell_type": "markdown",
   "metadata": {
    "id": "mSRlSt5x0_M4"
   },
   "source": [
    "# Part 2: Regression"
   ]
  },
  {
   "cell_type": "markdown",
   "metadata": {
    "id": "GjVlnR7m1HPR"
   },
   "source": [
    "It is now your turn to try out all of the above code. For this exercise you will measure the relationship between hours studyig and student grades for a simulated dataset. Below is a scatter plot of the data.\n"
   ]
  },
  {
   "cell_type": "code",
   "execution_count": 41,
   "metadata": {
    "id": "BT6Ch_3b1JKr"
   },
   "outputs": [
    {
     "name": "stdout",
     "output_type": "stream",
     "text": [
      "(1000, 2)\n"
     ]
    },
    {
     "data": {
      "text/html": [
       "<div>\n",
       "<style scoped>\n",
       "    .dataframe tbody tr th:only-of-type {\n",
       "        vertical-align: middle;\n",
       "    }\n",
       "\n",
       "    .dataframe tbody tr th {\n",
       "        vertical-align: top;\n",
       "    }\n",
       "\n",
       "    .dataframe thead th {\n",
       "        text-align: right;\n",
       "    }\n",
       "</style>\n",
       "<table border=\"1\" class=\"dataframe\">\n",
       "  <thead>\n",
       "    <tr style=\"text-align: right;\">\n",
       "      <th></th>\n",
       "      <th>study_hours</th>\n",
       "      <th>grades</th>\n",
       "    </tr>\n",
       "  </thead>\n",
       "  <tbody>\n",
       "    <tr>\n",
       "      <th>0</th>\n",
       "      <td>32.143368</td>\n",
       "      <td>75.636962</td>\n",
       "    </tr>\n",
       "    <tr>\n",
       "      <th>1</th>\n",
       "      <td>27.466725</td>\n",
       "      <td>76.932627</td>\n",
       "    </tr>\n",
       "    <tr>\n",
       "      <th>2</th>\n",
       "      <td>21.247638</td>\n",
       "      <td>68.575996</td>\n",
       "    </tr>\n",
       "    <tr>\n",
       "      <th>3</th>\n",
       "      <td>33.726661</td>\n",
       "      <td>81.221442</td>\n",
       "    </tr>\n",
       "    <tr>\n",
       "      <th>4</th>\n",
       "      <td>36.501309</td>\n",
       "      <td>84.787467</td>\n",
       "    </tr>\n",
       "  </tbody>\n",
       "</table>\n",
       "</div>"
      ],
      "text/plain": [
       "   study_hours     grades\n",
       "0    32.143368  75.636962\n",
       "1    27.466725  76.932627\n",
       "2    21.247638  68.575996\n",
       "3    33.726661  81.221442\n",
       "4    36.501309  84.787467"
      ]
     },
     "execution_count": 41,
     "metadata": {},
     "output_type": "execute_result"
    }
   ],
   "source": [
    "data = pd.read_csv('hw_regression_data.csv')\n",
    "print(data.shape)\n",
    "data.head()"
   ]
  },
  {
   "cell_type": "code",
   "execution_count": 42,
   "metadata": {
    "id": "fW_B8u5u1DYo"
   },
   "outputs": [
    {
     "data": {
      "image/png": "[encoded data removed]",
      "text/plain": [
       "<Figure size 720x576 with 1 Axes>"
      ]
     },
     "metadata": {
      "needs_background": "light"
     },
     "output_type": "display_data"
    }
   ],
   "source": [
    "ax= data.plot(kind='scatter',s=1.4,x=\"study_hours\",y=\"grades\",figsize=[10,8]);"
   ]
  },
  {
   "cell_type": "markdown",
   "metadata": {
    "id": "MSAr81589kjA"
   },
   "source": [
    "## Problem 3: Get Averages"
   ]
  },
  {
   "cell_type": "markdown",
   "metadata": {
    "id": "gqOyV09s1sOq"
   },
   "source": [
    "\n",
    "\n",
    "Write a function, **get_averages**, that:\n",
    "1. For all data points round the student's study hours to the nearest whole number.\n",
    "2. Compute the mean grade for each rounded whole number of study hours.\n",
    "\n",
    "The function should return a pandas dataframe of the mean grades for each existing rounded whole number. The beginning of the panda dataframe is provided for you below:\n",
    "\n",
    "<font  style=\"color:blue\">  **Code:** </font>\n",
    "```python\n",
    "grade_means = get_averages(data)\n",
    "\n",
    "print(type(grade_means))\n",
    "print(grade_means.shape)\n",
    "print(grade_means.columns) \n",
    "grade_means.head()\n",
    "```\n",
    "\n",
    "<font  style=\"color:magenta\"> **Output:**</font>\n",
    "```\n",
    "<class 'pandas.core.frame.DataFrame'>\n",
    "(38, 1)\n",
    "Index([u'grades'], dtype='object')\n",
    "```\n",
    "<img src=\"reg_ex_table.png\"  style=\"width: 190px;\"/>"
   ]
  },
  {
   "cell_type": "markdown",
   "metadata": {
    "id": "wVKt-Q769XHe"
   },
   "source": [
    "**Write your code for get_averages in the cell below:**"
   ]
  },
  {
   "cell_type": "code",
   "execution_count": 45,
   "metadata": {
    "id": "Eqbm87iU24QD"
   },
   "outputs": [],
   "source": [
    "# modify this cell\n",
    "\n",
    "def get_averages(data):\n",
    "    data = pd.read_csv('hw_regression_data.csv')\n",
    "    data.study_hours = data.study_hours.round()\n",
    "    data = data.groupby('study_hours').mean()\n",
    "    return data\n",
    "    # input: the HW's dataset\n",
    "    # output: a pandas dataframe yielding the mean grade for each rounded number of study hours\n",
    "    ...\n"
   ]
  },
  {
   "cell_type": "code",
   "execution_count": 46,
   "metadata": {
    "id": "USX_Fe_z1lg2"
   },
   "outputs": [
    {
     "name": "stderr",
     "output_type": "stream",
     "text": [
      "<ipython-input-46-d90852173a25>:10: DeprecationWarning: scipy.sum is deprecated and will be removed in SciPy 2.0.0, use numpy.sum instead\n",
      "  try: assert sum(abs( grade_means.tail()[\"grades\"].values - \\\n"
     ]
    },
    {
     "data": {
      "image/png": "[encoded data removed]",
      "text/plain": [
       "<Figure size 720x576 with 1 Axes>"
      ]
     },
     "metadata": {
      "needs_background": "light"
     },
     "output_type": "display_data"
    }
   ],
   "source": [
    "# check student function\n",
    "grade_means = get_averages(data)\n",
    "\n",
    "assert grade_means.shape == (38, 1)\n",
    "assert str(type(grade_means)) == \"<class 'pandas.core.frame.DataFrame'>\"\n",
    "\n",
    "try: assert grade_means.columns[0] == \"grades\"\n",
    "except: raise ValueError('the column in \"grade_means\" must be named grades')\n",
    "\n",
    "try: assert sum(abs( grade_means.tail()[\"grades\"].values - \\\n",
    "               np.array([ 90.77739,90.02272,92.97258,91.87963,93.48365])    )) < 10**-4\n",
    "except: raise ValueError('some values are incorrect in grade_means')\n",
    " \n",
    "\n",
    "# plot Graph\n",
    "ax= data.plot(kind='scatter',s=1.4,x=\"study_hours\",y=\"grades\",figsize=[10,8]);\n",
    "grade_means.plot(y='grades',style='ro', ax=ax,legend=False)\n",
    "_xlim = xlim()\n",
    "_ylim =ylim()\n",
    "for _x in arange(_xlim[0]+0.5,_xlim[1],1):\n",
    "    plot([_x,_x],[_ylim[0],_ylim[1]],'g')"
   ]
  },
  {
   "cell_type": "markdown",
   "metadata": {
    "id": "CaiUGzwD3zYj"
   },
   "source": [
    "## Problem 4 Simple Linear Regression\n"
   ]
  },
  {
   "cell_type": "markdown",
   "metadata": {
    "id": "YRUo07oc34rY"
   },
   "source": [
    "Write a function, **do_regression**, that performs linear regression to return \n",
    "$ \\;\n",
    " {\\bf w} = \\begin{pmatrix}\n",
    " w_0\\\\\n",
    " w_1\n",
    " \\end{pmatrix}\n",
    "$\n",
    "for the equation:\n",
    "\n",
    "$$\n",
    "\\text{grades}= w_0 + w_1 \\cdot \\text{study_hours}\n",
    "$$\n",
    "\n",
    "** *Hint* **: Use the function `linalg.lstsq` \n",
    "\n",
    "\n",
    "<font  style=\"color:blue\"> * **Code:** *</font>\n",
    "```python\n",
    "w = do_regression(data)\n",
    "print type(w)\n",
    "print w.shape\n",
    "```\n",
    "\n",
    "<font  style=\"color:magenta\"> * **Output:** *</font>\n",
    "```\n",
    "<type 'numpy.ndarray'>\n",
    "(2,)\n",
    "```"
   ]
  },
  {
   "cell_type": "markdown",
   "metadata": {
    "id": "fHGrMeP19axx"
   },
   "source": [
    "**Write your code for do_regression in the cell below:**"
   ]
  },
  {
   "cell_type": "code",
   "execution_count": 54,
   "metadata": {},
   "outputs": [],
   "source": [
    "A = np.vstack([data.study_hours, np.ones(len(data.study_hours))]).T"
   ]
  },
  {
   "cell_type": "code",
   "execution_count": 63,
   "metadata": {},
   "outputs": [
    {
     "name": "stderr",
     "output_type": "stream",
     "text": [
      "<ipython-input-63-730ddf86495b>:1: FutureWarning: `rcond` parameter will change to the default of machine precision times ``max(M, N)`` where M and N are the input matrix dimensions.\n",
      "To use the future default and silence this warning we advise to pass `rcond=None`, to keep using the old, explicitly pass `rcond=-1`.\n",
      "  np.linalg.lstsq(A, data.grades)[0]\n"
     ]
    },
    {
     "data": {
      "text/plain": [
       "array([ 0.84009377, 48.06947049])"
      ]
     },
     "execution_count": 63,
     "metadata": {},
     "output_type": "execute_result"
    }
   ],
   "source": [
    "np.linalg.lstsq(A, data.grades)[0]"
   ]
  },
  {
   "cell_type": "code",
   "execution_count": 78,
   "metadata": {
    "id": "yLcf9yMc2-YZ"
   },
   "outputs": [],
   "source": [
    "# modify this cell\n",
    "\n",
    "def do_regression(data):\n",
    "    A = np.vstack([data.study_hours, np.ones(len(data.study_hours))]).T\n",
    "    arr = np.linalg.lstsq(A, data.grades)[0]\n",
    "    return arr\n",
    "    \n",
    "    # input: the HW's dataset\n",
    "    # output: a numpy array yielding w=(w0,w1) from linear regression\n",
    "    ...\n"
   ]
  },
  {
   "cell_type": "code",
   "execution_count": 83,
   "metadata": {
    "id": "pt_PRKgG3_Ab"
   },
   "outputs": [
    {
     "name": "stdout",
     "output_type": "stream",
     "text": [
      "[ 0.84009377 48.06947049]\n",
      "14.927147671335 58.100057672765004\n"
     ]
    },
    {
     "name": "stderr",
     "output_type": "stream",
     "text": [
      "<ipython-input-78-7f957ae83518>:5: FutureWarning: `rcond` parameter will change to the default of machine precision times ``max(M, N)`` where M and N are the input matrix dimensions.\n",
      "To use the future default and silence this warning we advise to pass `rcond=None`, to keep using the old, explicitly pass `rcond=-1`.\n",
      "  arr = np.linalg.lstsq(A, data.grades)[0]\n"
     ]
    },
    {
     "data": {
      "image/png": "[encoded data removed]",
      "text/plain": [
       "<Figure size 720x576 with 1 Axes>"
      ]
     },
     "metadata": {
      "needs_background": "light"
     },
     "output_type": "display_data"
    }
   ],
   "source": [
    "# check student function\n",
    "w1_hw = do_regression(data)\n",
    "assert str(type(w1_hw)) ==  \"<class 'numpy.ndarray'>\"\n",
    "assert w1_hw.shape == (2,)\n",
    "assert abs(w1_hw[1] - 48.0694704904) < 10**-5\n",
    "\n",
    "# plot Means\n",
    "print(w1_hw)\n",
    "ax= data.plot(kind='scatter',s=1.4,x=\"study_hours\",y=\"grades\",figsize=[10,8]);\n",
    "x0,x1=xlim()\n",
    "print(x0, x1)\n",
    "ax.plot([x0,x1],[f(x0,w1_hw),f(x1,w1_hw)],'k');\n",
    "\n"
   ]
  },
  {
   "cell_type": "code",
   "execution_count": null,
   "metadata": {},
   "outputs": [],
   "source": []
  }
 ],
 "metadata": {
  "colab": {
   "collapsed_sections": [
    "xyZPYauEs4tT",
    "tq_d0mHIuIr5",
    "MSAr81589kjA",
    "gqOyV09s1sOq",
    "CaiUGzwD3zYj"
   ],
   "name": "Lab 6_ Basis statistics with Python.ipynb",
   "provenance": []
  },
  "kernelspec": {
   "display_name": "Python 3",
   "language": "python",
   "name": "python3"
  },
  "language_info": {
   "codemirror_mode": {
    "name": "ipython",
    "version": 3
   },
   "file_extension": ".py",
   "mimetype": "text/x-python",
   "name": "python",
   "nbconvert_exporter": "python",
   "pygments_lexer": "ipython3",
   "version": "3.8.5"
  }
 },
 "nbformat": 4,
 "nbformat_minor": 4
}
